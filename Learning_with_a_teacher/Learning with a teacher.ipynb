{
 "cells": [
  {
   "cell_type": "code",
   "execution_count": 9,
   "id": "a650815a",
   "metadata": {},
   "outputs": [],
   "source": [
    "import pandas as pd\n",
    "import matplotlib.pyplot as plt\n",
    "import seaborn as sns\n",
    "from sklearn.model_selection import train_test_split\n",
    "from sklearn.preprocessing import StandardScaler\n",
    "from sklearn.linear_model import LogisticRegression\n",
    "from sklearn.tree import DecisionTreeRegressor\n",
    "from sklearn.metrics import f1_score\n",
    "from sklearn.tree import DecisionTreeClassifier\n",
    "from sklearn.ensemble import RandomForestClassifier\n",
    "from sklearn.metrics import roc_auc_score\n",
    "from sklearn.utils import shuffle"
   ]
  },
  {
   "cell_type": "code",
   "execution_count": 10,
   "id": "cae2d171",
   "metadata": {},
   "outputs": [],
   "source": [
    "try:\n",
    "    df = pd.read_csv('/datasets/Churn.csv')\n",
    "except:\n",
    "    df = pd.read_csv('/Users/v.rakhaev/Desktop/Yandex/sprint_10/Churn.csv')\n",
    "    "
   ]
  },
  {
   "cell_type": "markdown",
   "id": "26e18de1",
   "metadata": {},
   "source": [
    "# Описпние проекта  \n",
    "\n",
    "Из «Бета-Банка» стали уходить клиенты. Каждый месяц. Немного, но заметно. Банковские маркетологи посчитали: сохранять текущих клиентов дешевле, чем привлекать новых.\n",
    "Нужно спрогнозировать, уйдёт клиент из банка в ближайшее время или нет. Вам предоставлены исторические данные о поведении клиентов и расторжении договоров с банком. \n",
    "что необходимо сделать:\n",
    " - Постройте модель с предельно большим значением F1-меры. \n",
    " - Чтобы сдать проект успешно, нужно довести метрику до 0.59. \n",
    " - Проверьте F1-меру на тестовой выборке самостоятельно.\n",
    " - Дополнительно измеряйте AUC-ROC, сравнивайте её значение с F1-мерой."
   ]
  },
  {
   "cell_type": "markdown",
   "id": "4dbc8d0b",
   "metadata": {},
   "source": [
    "## Подготовка данных"
   ]
  },
  {
   "cell_type": "code",
   "execution_count": 11,
   "id": "c6a5326d",
   "metadata": {},
   "outputs": [
    {
     "data": {
      "text/html": [
       "<div>\n",
       "<style scoped>\n",
       "    .dataframe tbody tr th:only-of-type {\n",
       "        vertical-align: middle;\n",
       "    }\n",
       "\n",
       "    .dataframe tbody tr th {\n",
       "        vertical-align: top;\n",
       "    }\n",
       "\n",
       "    .dataframe thead th {\n",
       "        text-align: right;\n",
       "    }\n",
       "</style>\n",
       "<table border=\"1\" class=\"dataframe\">\n",
       "  <thead>\n",
       "    <tr style=\"text-align: right;\">\n",
       "      <th></th>\n",
       "      <th>RowNumber</th>\n",
       "      <th>CustomerId</th>\n",
       "      <th>Surname</th>\n",
       "      <th>CreditScore</th>\n",
       "      <th>Geography</th>\n",
       "      <th>Gender</th>\n",
       "      <th>Age</th>\n",
       "      <th>Tenure</th>\n",
       "      <th>Balance</th>\n",
       "      <th>NumOfProducts</th>\n",
       "      <th>HasCrCard</th>\n",
       "      <th>IsActiveMember</th>\n",
       "      <th>EstimatedSalary</th>\n",
       "      <th>Exited</th>\n",
       "    </tr>\n",
       "  </thead>\n",
       "  <tbody>\n",
       "    <tr>\n",
       "      <th>0</th>\n",
       "      <td>1</td>\n",
       "      <td>15634602</td>\n",
       "      <td>Hargrave</td>\n",
       "      <td>619</td>\n",
       "      <td>France</td>\n",
       "      <td>Female</td>\n",
       "      <td>42</td>\n",
       "      <td>2.0</td>\n",
       "      <td>0.00</td>\n",
       "      <td>1</td>\n",
       "      <td>1</td>\n",
       "      <td>1</td>\n",
       "      <td>101348.88</td>\n",
       "      <td>1</td>\n",
       "    </tr>\n",
       "    <tr>\n",
       "      <th>1</th>\n",
       "      <td>2</td>\n",
       "      <td>15647311</td>\n",
       "      <td>Hill</td>\n",
       "      <td>608</td>\n",
       "      <td>Spain</td>\n",
       "      <td>Female</td>\n",
       "      <td>41</td>\n",
       "      <td>1.0</td>\n",
       "      <td>83807.86</td>\n",
       "      <td>1</td>\n",
       "      <td>0</td>\n",
       "      <td>1</td>\n",
       "      <td>112542.58</td>\n",
       "      <td>0</td>\n",
       "    </tr>\n",
       "    <tr>\n",
       "      <th>2</th>\n",
       "      <td>3</td>\n",
       "      <td>15619304</td>\n",
       "      <td>Onio</td>\n",
       "      <td>502</td>\n",
       "      <td>France</td>\n",
       "      <td>Female</td>\n",
       "      <td>42</td>\n",
       "      <td>8.0</td>\n",
       "      <td>159660.80</td>\n",
       "      <td>3</td>\n",
       "      <td>1</td>\n",
       "      <td>0</td>\n",
       "      <td>113931.57</td>\n",
       "      <td>1</td>\n",
       "    </tr>\n",
       "    <tr>\n",
       "      <th>3</th>\n",
       "      <td>4</td>\n",
       "      <td>15701354</td>\n",
       "      <td>Boni</td>\n",
       "      <td>699</td>\n",
       "      <td>France</td>\n",
       "      <td>Female</td>\n",
       "      <td>39</td>\n",
       "      <td>1.0</td>\n",
       "      <td>0.00</td>\n",
       "      <td>2</td>\n",
       "      <td>0</td>\n",
       "      <td>0</td>\n",
       "      <td>93826.63</td>\n",
       "      <td>0</td>\n",
       "    </tr>\n",
       "    <tr>\n",
       "      <th>4</th>\n",
       "      <td>5</td>\n",
       "      <td>15737888</td>\n",
       "      <td>Mitchell</td>\n",
       "      <td>850</td>\n",
       "      <td>Spain</td>\n",
       "      <td>Female</td>\n",
       "      <td>43</td>\n",
       "      <td>2.0</td>\n",
       "      <td>125510.82</td>\n",
       "      <td>1</td>\n",
       "      <td>1</td>\n",
       "      <td>1</td>\n",
       "      <td>79084.10</td>\n",
       "      <td>0</td>\n",
       "    </tr>\n",
       "    <tr>\n",
       "      <th>...</th>\n",
       "      <td>...</td>\n",
       "      <td>...</td>\n",
       "      <td>...</td>\n",
       "      <td>...</td>\n",
       "      <td>...</td>\n",
       "      <td>...</td>\n",
       "      <td>...</td>\n",
       "      <td>...</td>\n",
       "      <td>...</td>\n",
       "      <td>...</td>\n",
       "      <td>...</td>\n",
       "      <td>...</td>\n",
       "      <td>...</td>\n",
       "      <td>...</td>\n",
       "    </tr>\n",
       "    <tr>\n",
       "      <th>9995</th>\n",
       "      <td>9996</td>\n",
       "      <td>15606229</td>\n",
       "      <td>Obijiaku</td>\n",
       "      <td>771</td>\n",
       "      <td>France</td>\n",
       "      <td>Male</td>\n",
       "      <td>39</td>\n",
       "      <td>5.0</td>\n",
       "      <td>0.00</td>\n",
       "      <td>2</td>\n",
       "      <td>1</td>\n",
       "      <td>0</td>\n",
       "      <td>96270.64</td>\n",
       "      <td>0</td>\n",
       "    </tr>\n",
       "    <tr>\n",
       "      <th>9996</th>\n",
       "      <td>9997</td>\n",
       "      <td>15569892</td>\n",
       "      <td>Johnstone</td>\n",
       "      <td>516</td>\n",
       "      <td>France</td>\n",
       "      <td>Male</td>\n",
       "      <td>35</td>\n",
       "      <td>10.0</td>\n",
       "      <td>57369.61</td>\n",
       "      <td>1</td>\n",
       "      <td>1</td>\n",
       "      <td>1</td>\n",
       "      <td>101699.77</td>\n",
       "      <td>0</td>\n",
       "    </tr>\n",
       "    <tr>\n",
       "      <th>9997</th>\n",
       "      <td>9998</td>\n",
       "      <td>15584532</td>\n",
       "      <td>Liu</td>\n",
       "      <td>709</td>\n",
       "      <td>France</td>\n",
       "      <td>Female</td>\n",
       "      <td>36</td>\n",
       "      <td>7.0</td>\n",
       "      <td>0.00</td>\n",
       "      <td>1</td>\n",
       "      <td>0</td>\n",
       "      <td>1</td>\n",
       "      <td>42085.58</td>\n",
       "      <td>1</td>\n",
       "    </tr>\n",
       "    <tr>\n",
       "      <th>9998</th>\n",
       "      <td>9999</td>\n",
       "      <td>15682355</td>\n",
       "      <td>Sabbatini</td>\n",
       "      <td>772</td>\n",
       "      <td>Germany</td>\n",
       "      <td>Male</td>\n",
       "      <td>42</td>\n",
       "      <td>3.0</td>\n",
       "      <td>75075.31</td>\n",
       "      <td>2</td>\n",
       "      <td>1</td>\n",
       "      <td>0</td>\n",
       "      <td>92888.52</td>\n",
       "      <td>1</td>\n",
       "    </tr>\n",
       "    <tr>\n",
       "      <th>9999</th>\n",
       "      <td>10000</td>\n",
       "      <td>15628319</td>\n",
       "      <td>Walker</td>\n",
       "      <td>792</td>\n",
       "      <td>France</td>\n",
       "      <td>Female</td>\n",
       "      <td>28</td>\n",
       "      <td>NaN</td>\n",
       "      <td>130142.79</td>\n",
       "      <td>1</td>\n",
       "      <td>1</td>\n",
       "      <td>0</td>\n",
       "      <td>38190.78</td>\n",
       "      <td>0</td>\n",
       "    </tr>\n",
       "  </tbody>\n",
       "</table>\n",
       "<p>10000 rows × 14 columns</p>\n",
       "</div>"
      ],
      "text/plain": [
       "      RowNumber  CustomerId    Surname  CreditScore Geography  Gender  Age  \\\n",
       "0             1    15634602   Hargrave          619    France  Female   42   \n",
       "1             2    15647311       Hill          608     Spain  Female   41   \n",
       "2             3    15619304       Onio          502    France  Female   42   \n",
       "3             4    15701354       Boni          699    France  Female   39   \n",
       "4             5    15737888   Mitchell          850     Spain  Female   43   \n",
       "...         ...         ...        ...          ...       ...     ...  ...   \n",
       "9995       9996    15606229   Obijiaku          771    France    Male   39   \n",
       "9996       9997    15569892  Johnstone          516    France    Male   35   \n",
       "9997       9998    15584532        Liu          709    France  Female   36   \n",
       "9998       9999    15682355  Sabbatini          772   Germany    Male   42   \n",
       "9999      10000    15628319     Walker          792    France  Female   28   \n",
       "\n",
       "      Tenure    Balance  NumOfProducts  HasCrCard  IsActiveMember  \\\n",
       "0        2.0       0.00              1          1               1   \n",
       "1        1.0   83807.86              1          0               1   \n",
       "2        8.0  159660.80              3          1               0   \n",
       "3        1.0       0.00              2          0               0   \n",
       "4        2.0  125510.82              1          1               1   \n",
       "...      ...        ...            ...        ...             ...   \n",
       "9995     5.0       0.00              2          1               0   \n",
       "9996    10.0   57369.61              1          1               1   \n",
       "9997     7.0       0.00              1          0               1   \n",
       "9998     3.0   75075.31              2          1               0   \n",
       "9999     NaN  130142.79              1          1               0   \n",
       "\n",
       "      EstimatedSalary  Exited  \n",
       "0           101348.88       1  \n",
       "1           112542.58       0  \n",
       "2           113931.57       1  \n",
       "3            93826.63       0  \n",
       "4            79084.10       0  \n",
       "...               ...     ...  \n",
       "9995         96270.64       0  \n",
       "9996        101699.77       0  \n",
       "9997         42085.58       1  \n",
       "9998         92888.52       1  \n",
       "9999         38190.78       0  \n",
       "\n",
       "[10000 rows x 14 columns]"
      ]
     },
     "execution_count": 11,
     "metadata": {},
     "output_type": "execute_result"
    }
   ],
   "source": [
    "df"
   ]
  },
  {
   "cell_type": "code",
   "execution_count": 12,
   "id": "4133354b",
   "metadata": {},
   "outputs": [],
   "source": [
    "df.drop('RowNumber', axis = 1, inplace = True) #Считаю, что данный признак дублирует индекс, решил удалить"
   ]
  },
  {
   "cell_type": "code",
   "execution_count": 13,
   "id": "a17761c5",
   "metadata": {},
   "outputs": [
    {
     "data": {
      "text/plain": [
       "(10000, 13)"
      ]
     },
     "execution_count": 13,
     "metadata": {},
     "output_type": "execute_result"
    }
   ],
   "source": [
    "df.shape"
   ]
  },
  {
   "cell_type": "code",
   "execution_count": 14,
   "id": "e052e408",
   "metadata": {},
   "outputs": [
    {
     "name": "stdout",
     "output_type": "stream",
     "text": [
      "<class 'pandas.core.frame.DataFrame'>\n",
      "RangeIndex: 10000 entries, 0 to 9999\n",
      "Data columns (total 13 columns):\n",
      " #   Column           Non-Null Count  Dtype  \n",
      "---  ------           --------------  -----  \n",
      " 0   CustomerId       10000 non-null  int64  \n",
      " 1   Surname          10000 non-null  object \n",
      " 2   CreditScore      10000 non-null  int64  \n",
      " 3   Geography        10000 non-null  object \n",
      " 4   Gender           10000 non-null  object \n",
      " 5   Age              10000 non-null  int64  \n",
      " 6   Tenure           9091 non-null   float64\n",
      " 7   Balance          10000 non-null  float64\n",
      " 8   NumOfProducts    10000 non-null  int64  \n",
      " 9   HasCrCard        10000 non-null  int64  \n",
      " 10  IsActiveMember   10000 non-null  int64  \n",
      " 11  EstimatedSalary  10000 non-null  float64\n",
      " 12  Exited           10000 non-null  int64  \n",
      "dtypes: float64(3), int64(7), object(3)\n",
      "memory usage: 1015.8+ KB\n"
     ]
    }
   ],
   "source": [
    "df.info()"
   ]
  },
  {
   "cell_type": "code",
   "execution_count": 15,
   "id": "f0af4e02",
   "metadata": {},
   "outputs": [
    {
     "data": {
      "text/plain": [
       "CustomerId           0\n",
       "Surname              0\n",
       "CreditScore          0\n",
       "Geography            0\n",
       "Gender               0\n",
       "Age                  0\n",
       "Tenure             909\n",
       "Balance              0\n",
       "NumOfProducts        0\n",
       "HasCrCard            0\n",
       "IsActiveMember       0\n",
       "EstimatedSalary      0\n",
       "Exited               0\n",
       "dtype: int64"
      ]
     },
     "execution_count": 15,
     "metadata": {},
     "output_type": "execute_result"
    }
   ],
   "source": [
    "df.isna().sum()"
   ]
  },
  {
   "cell_type": "code",
   "execution_count": 17,
   "id": "0da6c356",
   "metadata": {},
   "outputs": [],
   "source": [
    "df.Tenure.fillna(df.Tenure.median(), inplace = True)"
   ]
  },
  {
   "cell_type": "markdown",
   "id": "46e9cb08",
   "metadata": {},
   "source": [
    "**Поправил**"
   ]
  },
  {
   "cell_type": "code",
   "execution_count": 18,
   "id": "93d86d05",
   "metadata": {},
   "outputs": [
    {
     "data": {
      "text/plain": [
       "0"
      ]
     },
     "execution_count": 18,
     "metadata": {},
     "output_type": "execute_result"
    }
   ],
   "source": [
    "df.duplicated().sum() #Проверка на явлные и не явные дубликаты"
   ]
  },
  {
   "cell_type": "code",
   "execution_count": 19,
   "id": "b989f7b3",
   "metadata": {},
   "outputs": [
    {
     "data": {
      "text/html": [
       "<div>\n",
       "<style scoped>\n",
       "    .dataframe tbody tr th:only-of-type {\n",
       "        vertical-align: middle;\n",
       "    }\n",
       "\n",
       "    .dataframe tbody tr th {\n",
       "        vertical-align: top;\n",
       "    }\n",
       "\n",
       "    .dataframe thead th {\n",
       "        text-align: right;\n",
       "    }\n",
       "</style>\n",
       "<table border=\"1\" class=\"dataframe\">\n",
       "  <thead>\n",
       "    <tr style=\"text-align: right;\">\n",
       "      <th></th>\n",
       "      <th>CustomerId</th>\n",
       "      <th>Surname</th>\n",
       "      <th>CreditScore</th>\n",
       "      <th>Geography</th>\n",
       "      <th>Gender</th>\n",
       "      <th>Age</th>\n",
       "      <th>Tenure</th>\n",
       "      <th>Balance</th>\n",
       "      <th>NumOfProducts</th>\n",
       "      <th>HasCrCard</th>\n",
       "      <th>IsActiveMember</th>\n",
       "      <th>EstimatedSalary</th>\n",
       "      <th>Exited</th>\n",
       "    </tr>\n",
       "  </thead>\n",
       "  <tbody>\n",
       "  </tbody>\n",
       "</table>\n",
       "</div>"
      ],
      "text/plain": [
       "Empty DataFrame\n",
       "Columns: [CustomerId, Surname, CreditScore, Geography, Gender, Age, Tenure, Balance, NumOfProducts, HasCrCard, IsActiveMember, EstimatedSalary, Exited]\n",
       "Index: []"
      ]
     },
     "execution_count": 19,
     "metadata": {},
     "output_type": "execute_result"
    }
   ],
   "source": [
    "df[df.duplicated(['CustomerId','Surname'])]"
   ]
  },
  {
   "cell_type": "code",
   "execution_count": 20,
   "id": "443d1825",
   "metadata": {},
   "outputs": [
    {
     "data": {
      "text/plain": [
       "France     5014\n",
       "Germany    2509\n",
       "Spain      2477\n",
       "Name: Geography, dtype: int64"
      ]
     },
     "execution_count": 20,
     "metadata": {},
     "output_type": "execute_result"
    }
   ],
   "source": [
    "df.Geography.value_counts() #Категориальные данные для преобразования OHE"
   ]
  },
  {
   "cell_type": "code",
   "execution_count": 21,
   "id": "101e43f1",
   "metadata": {},
   "outputs": [
    {
     "data": {
      "text/plain": [
       "Male      5457\n",
       "Female    4543\n",
       "Name: Gender, dtype: int64"
      ]
     },
     "execution_count": 21,
     "metadata": {},
     "output_type": "execute_result"
    }
   ],
   "source": [
    "df.Gender.value_counts() #Категориальные данные для преобразования OHE"
   ]
  },
  {
   "cell_type": "code",
   "execution_count": 22,
   "id": "817dbdf2",
   "metadata": {},
   "outputs": [
    {
     "data": {
      "text/plain": [
       "<AxesSubplot:>"
      ]
     },
     "execution_count": 22,
     "metadata": {},
     "output_type": "execute_result"
    },
    {
     "data": {
      "image/png": "[encoded data removed]",
      "text/plain": [
       "<Figure size 720x360 with 2 Axes>"
      ]
     },
     "metadata": {
      "needs_background": "light"
     },
     "output_type": "display_data"
    }
   ],
   "source": [
    "plt.figure(figsize=(10,5)) #Серьезной корреляции не заметил среди показателей\n",
    "sns.heatmap(df[['CreditScore', 'Age', 'Tenure','Balance','NumOfProducts', 'HasCrCard', 'IsActiveMember', 'EstimatedSalary', 'Exited']].corr(), annot=True)"
   ]
  },
  {
   "cell_type": "code",
   "execution_count": 23,
   "id": "56dcdb98",
   "metadata": {},
   "outputs": [],
   "source": [
    "ohe_geography = pd.get_dummies(df['Geography'])"
   ]
  },
  {
   "cell_type": "code",
   "execution_count": 24,
   "id": "fd8ac85c",
   "metadata": {},
   "outputs": [],
   "source": [
    "ohe_gender = pd.get_dummies(df['Gender'])"
   ]
  },
  {
   "cell_type": "code",
   "execution_count": 25,
   "id": "d23877e1",
   "metadata": {},
   "outputs": [
    {
     "name": "stderr",
     "output_type": "stream",
     "text": [
      "/tmp/ipykernel_31/1866852358.py:9: SettingWithCopyWarning: \n",
      "A value is trying to be set on a copy of a slice from a DataFrame.\n",
      "Try using .loc[row_indexer,col_indexer] = value instead\n",
      "\n",
      "See the caveats in the documentation: https://pandas.pydata.org/pandas-docs/stable/user_guide/indexing.html#returning-a-view-versus-a-copy\n",
      "  _train_ohe[ohe_encoder.get_feature_names()] = train_temp # вписали новые признаки\n",
      "/opt/conda/lib/python3.9/site-packages/pandas/core/indexing.py:1738: SettingWithCopyWarning: \n",
      "A value is trying to be set on a copy of a slice from a DataFrame.\n",
      "Try using .loc[row_indexer,col_indexer] = value instead\n",
      "\n",
      "See the caveats in the documentation: https://pandas.pydata.org/pandas-docs/stable/user_guide/indexing.html#returning-a-view-versus-a-copy\n",
      "  self._setitem_single_column(loc, value[:, i].tolist(), pi)\n",
      "/opt/conda/lib/python3.9/site-packages/pandas/core/frame.py:4308: SettingWithCopyWarning: \n",
      "A value is trying to be set on a copy of a slice from a DataFrame\n",
      "\n",
      "See the caveats in the documentation: https://pandas.pydata.org/pandas-docs/stable/user_guide/indexing.html#returning-a-view-versus-a-copy\n",
      "  return super().drop(\n",
      "/tmp/ipykernel_31/1866852358.py:13: SettingWithCopyWarning: \n",
      "A value is trying to be set on a copy of a slice from a DataFrame.\n",
      "Try using .loc[row_indexer,col_indexer] = value instead\n",
      "\n",
      "See the caveats in the documentation: https://pandas.pydata.org/pandas-docs/stable/user_guide/indexing.html#returning-a-view-versus-a-copy\n",
      "  _test_ohe[ohe_encoder.get_feature_names()] = test_temp # вписали новые признаки\n",
      "/opt/conda/lib/python3.9/site-packages/pandas/core/indexing.py:1738: SettingWithCopyWarning: \n",
      "A value is trying to be set on a copy of a slice from a DataFrame.\n",
      "Try using .loc[row_indexer,col_indexer] = value instead\n",
      "\n",
      "See the caveats in the documentation: https://pandas.pydata.org/pandas-docs/stable/user_guide/indexing.html#returning-a-view-versus-a-copy\n",
      "  self._setitem_single_column(loc, value[:, i].tolist(), pi)\n",
      "/opt/conda/lib/python3.9/site-packages/pandas/core/frame.py:4308: SettingWithCopyWarning: \n",
      "A value is trying to be set on a copy of a slice from a DataFrame\n",
      "\n",
      "See the caveats in the documentation: https://pandas.pydata.org/pandas-docs/stable/user_guide/indexing.html#returning-a-view-versus-a-copy\n",
      "  return super().drop(\n"
     ]
    },
    {
     "data": {
      "text/html": [
       "<div>\n",
       "<style scoped>\n",
       "    .dataframe tbody tr th:only-of-type {\n",
       "        vertical-align: middle;\n",
       "    }\n",
       "\n",
       "    .dataframe tbody tr th {\n",
       "        vertical-align: top;\n",
       "    }\n",
       "\n",
       "    .dataframe thead th {\n",
       "        text-align: right;\n",
       "    }\n",
       "</style>\n",
       "<table border=\"1\" class=\"dataframe\">\n",
       "  <thead>\n",
       "    <tr style=\"text-align: right;\">\n",
       "      <th></th>\n",
       "      <th>CustomerId</th>\n",
       "      <th>Surname</th>\n",
       "      <th>CreditScore</th>\n",
       "      <th>Age</th>\n",
       "      <th>Tenure</th>\n",
       "      <th>Balance</th>\n",
       "      <th>NumOfProducts</th>\n",
       "      <th>HasCrCard</th>\n",
       "      <th>IsActiveMember</th>\n",
       "      <th>EstimatedSalary</th>\n",
       "      <th>Exited</th>\n",
       "      <th>x0_Germany</th>\n",
       "      <th>x0_Spain</th>\n",
       "      <th>x1_Male</th>\n",
       "    </tr>\n",
       "  </thead>\n",
       "  <tbody>\n",
       "    <tr>\n",
       "      <th>6252</th>\n",
       "      <td>15687492</td>\n",
       "      <td>Anderson</td>\n",
       "      <td>596</td>\n",
       "      <td>32</td>\n",
       "      <td>3.0</td>\n",
       "      <td>96709.07</td>\n",
       "      <td>2</td>\n",
       "      <td>0</td>\n",
       "      <td>0</td>\n",
       "      <td>41788.37</td>\n",
       "      <td>0</td>\n",
       "      <td>1.0</td>\n",
       "      <td>0.0</td>\n",
       "      <td>1.0</td>\n",
       "    </tr>\n",
       "    <tr>\n",
       "      <th>4684</th>\n",
       "      <td>15736963</td>\n",
       "      <td>Herring</td>\n",
       "      <td>623</td>\n",
       "      <td>43</td>\n",
       "      <td>1.0</td>\n",
       "      <td>0.00</td>\n",
       "      <td>2</td>\n",
       "      <td>1</td>\n",
       "      <td>1</td>\n",
       "      <td>146379.30</td>\n",
       "      <td>0</td>\n",
       "      <td>0.0</td>\n",
       "      <td>0.0</td>\n",
       "      <td>1.0</td>\n",
       "    </tr>\n",
       "    <tr>\n",
       "      <th>1731</th>\n",
       "      <td>15721730</td>\n",
       "      <td>Amechi</td>\n",
       "      <td>601</td>\n",
       "      <td>44</td>\n",
       "      <td>4.0</td>\n",
       "      <td>0.00</td>\n",
       "      <td>2</td>\n",
       "      <td>1</td>\n",
       "      <td>0</td>\n",
       "      <td>58561.31</td>\n",
       "      <td>0</td>\n",
       "      <td>0.0</td>\n",
       "      <td>1.0</td>\n",
       "      <td>0.0</td>\n",
       "    </tr>\n",
       "    <tr>\n",
       "      <th>4742</th>\n",
       "      <td>15762134</td>\n",
       "      <td>Liang</td>\n",
       "      <td>506</td>\n",
       "      <td>59</td>\n",
       "      <td>8.0</td>\n",
       "      <td>119152.10</td>\n",
       "      <td>2</td>\n",
       "      <td>1</td>\n",
       "      <td>1</td>\n",
       "      <td>170679.74</td>\n",
       "      <td>0</td>\n",
       "      <td>1.0</td>\n",
       "      <td>0.0</td>\n",
       "      <td>1.0</td>\n",
       "    </tr>\n",
       "    <tr>\n",
       "      <th>4521</th>\n",
       "      <td>15648898</td>\n",
       "      <td>Chuang</td>\n",
       "      <td>560</td>\n",
       "      <td>27</td>\n",
       "      <td>7.0</td>\n",
       "      <td>124995.98</td>\n",
       "      <td>1</td>\n",
       "      <td>1</td>\n",
       "      <td>1</td>\n",
       "      <td>114669.79</td>\n",
       "      <td>0</td>\n",
       "      <td>0.0</td>\n",
       "      <td>1.0</td>\n",
       "      <td>0.0</td>\n",
       "    </tr>\n",
       "  </tbody>\n",
       "</table>\n",
       "</div>"
      ],
      "text/plain": [
       "      CustomerId   Surname  CreditScore  Age  Tenure    Balance  \\\n",
       "6252    15687492  Anderson          596   32     3.0   96709.07   \n",
       "4684    15736963   Herring          623   43     1.0       0.00   \n",
       "1731    15721730    Amechi          601   44     4.0       0.00   \n",
       "4742    15762134     Liang          506   59     8.0  119152.10   \n",
       "4521    15648898    Chuang          560   27     7.0  124995.98   \n",
       "\n",
       "      NumOfProducts  HasCrCard  IsActiveMember  EstimatedSalary  Exited  \\\n",
       "6252              2          0               0         41788.37       0   \n",
       "4684              2          1               1        146379.30       0   \n",
       "1731              2          1               0         58561.31       0   \n",
       "4742              2          1               1        170679.74       0   \n",
       "4521              1          1               1        114669.79       0   \n",
       "\n",
       "      x0_Germany  x0_Spain  x1_Male  \n",
       "6252         1.0       0.0      1.0  \n",
       "4684         0.0       0.0      1.0  \n",
       "1731         0.0       1.0      0.0  \n",
       "4742         1.0       0.0      1.0  \n",
       "4521         0.0       1.0      0.0  "
      ]
     },
     "execution_count": 25,
     "metadata": {},
     "output_type": "execute_result"
    }
   ],
   "source": [
    "# КОД РЕВЬЮЕРА\n",
    "from sklearn.preprocessing import OneHotEncoder\n",
    "_train_ohe, _test_ohe = train_test_split(df, random_state=42)\n",
    "cat_features = ['Geography', 'Gender']\n",
    "\n",
    "ohe_encoder = OneHotEncoder(drop='first', sparse=False)\n",
    "\n",
    "train_temp = ohe_encoder.fit_transform(_train_ohe[cat_features]) # обучили на трейне и сразу к нему применили\n",
    "_train_ohe[ohe_encoder.get_feature_names()] = train_temp # вписали новые признаки\n",
    "_train_ohe.drop(cat_features, axis=1, inplace=True) # удалили старые признаки\n",
    "\n",
    "test_temp = ohe_encoder.transform(_test_ohe[cat_features]) # обученный энкодер применили к тест. выборке\n",
    "_test_ohe[ohe_encoder.get_feature_names()] = test_temp # вписали новые признаки\n",
    "_test_ohe.drop(cat_features, axis=1, inplace=True) # удалили старые признаки\n",
    "\n",
    "_test_ohe.head()"
   ]
  },
  {
   "cell_type": "code",
   "execution_count": 26,
   "id": "198be9aa",
   "metadata": {},
   "outputs": [],
   "source": [
    "df = df.join(ohe_geography)"
   ]
  },
  {
   "cell_type": "code",
   "execution_count": 27,
   "id": "a2154293",
   "metadata": {},
   "outputs": [],
   "source": [
    "df = df.join(ohe_gender)"
   ]
  },
  {
   "cell_type": "code",
   "execution_count": 28,
   "id": "b9ce4ac9",
   "metadata": {},
   "outputs": [],
   "source": [
    "df.drop('Geography', axis = 1, inplace = True)"
   ]
  },
  {
   "cell_type": "code",
   "execution_count": 29,
   "id": "2056bf96",
   "metadata": {},
   "outputs": [],
   "source": [
    "df.drop('Gender', axis = 1, inplace = True)"
   ]
  },
  {
   "cell_type": "code",
   "execution_count": 30,
   "id": "d1df2b21",
   "metadata": {},
   "outputs": [],
   "source": [
    "df.drop('Surname', axis = 1, inplace = True)"
   ]
  },
  {
   "cell_type": "markdown",
   "id": "d9ceb851",
   "metadata": {},
   "source": [
    "## Выводы по подготовке данных\n",
    "- Заменил пропуски медианными значениями\n",
    "- Не выявил явные и неявные дубликаты\n",
    "- дропнул показатель RowNumber\n",
    "- использовал OHE для преобразования категориальных признаков"
   ]
  },
  {
   "cell_type": "markdown",
   "id": "3535469f",
   "metadata": {},
   "source": [
    "## Построение модели"
   ]
  },
  {
   "cell_type": "code",
   "execution_count": 32,
   "id": "287659ea",
   "metadata": {},
   "outputs": [],
   "source": [
    "df_train, df_valid_test = train_test_split(df, test_size=0.4, random_state=12345)"
   ]
  },
  {
   "cell_type": "code",
   "execution_count": 33,
   "id": "7261191a",
   "metadata": {},
   "outputs": [],
   "source": [
    "df_valid, df_test = train_test_split(df_valid_test, test_size=0.5, random_state=12345)"
   ]
  },
  {
   "cell_type": "code",
   "execution_count": 34,
   "id": "b04ce0ba",
   "metadata": {},
   "outputs": [
    {
     "data": {
      "text/plain": [
       "(6000, 15)"
      ]
     },
     "metadata": {},
     "output_type": "display_data"
    },
    {
     "data": {
      "text/plain": [
       "(2000, 15)"
      ]
     },
     "metadata": {},
     "output_type": "display_data"
    },
    {
     "data": {
      "text/plain": [
       "(2000, 15)"
      ]
     },
     "metadata": {},
     "output_type": "display_data"
    }
   ],
   "source": [
    "#Разбил исходный фрейм на 3: тестовый, валидационный и тренировочный\n",
    "display(df_train.shape)\n",
    "display(df_valid.shape)\n",
    "display(df_test.shape)"
   ]
  },
  {
   "cell_type": "code",
   "execution_count": 35,
   "id": "02e042c5",
   "metadata": {},
   "outputs": [],
   "source": [
    "features_train =  df_train.drop(['Exited'], axis=1)\n",
    "features_valid = df_valid.drop(['Exited'], axis=1)\n",
    "features_test = df_test.drop(['Exited'], axis=1)\n",
    "target_train = df_train['Exited']\n",
    "target_valid = df_valid['Exited']\n",
    "target_test = df_test['Exited']"
   ]
  },
  {
   "cell_type": "markdown",
   "id": "d96717dc",
   "metadata": {},
   "source": [
    "**Разбил на признаки**"
   ]
  },
  {
   "cell_type": "code",
   "execution_count": 36,
   "id": "07c09af4",
   "metadata": {},
   "outputs": [],
   "source": [
    "## Решил стандартезировать ряд показателей, потому что некоторые модели не смогли обучиться без стандартизации\n",
    "numeric = ['CustomerId', 'CreditScore', 'Age', 'Tenure', 'Balance','IsActiveMember', 'EstimatedSalary']\n",
    "\n",
    "scaler = StandardScaler()\n",
    "scaler.fit(features_train[numeric])\n",
    "features_train[numeric] = scaler.transform(features_train[numeric])\n",
    "features_valid[numeric] = scaler.transform(features_valid[numeric])\n",
    "features_test[numeric] = scaler.transform(features_test[numeric])"
   ]
  },
  {
   "cell_type": "markdown",
   "id": "0532a088",
   "metadata": {},
   "source": [
    "### Модели без баланса "
   ]
  },
  {
   "cell_type": "markdown",
   "id": "7e730093",
   "metadata": {},
   "source": [
    "**LogisticRegression**"
   ]
  },
  {
   "cell_type": "code",
   "execution_count": 37,
   "id": "123a173f",
   "metadata": {},
   "outputs": [
    {
     "name": "stdout",
     "output_type": "stream",
     "text": [
      "F1 = 0.34, AUC-ROC = 0.76\n"
     ]
    }
   ],
   "source": [
    "model = LogisticRegression()\n",
    "model.fit(features_train, target_train)\n",
    "\n",
    "predicted_valid = model.predict(features_valid)\n",
    "probabilities = model.predict_proba(features_valid)\n",
    "f1 = f1_score(target_valid, predicted_valid)\n",
    "auc_roc = roc_auc_score(target_valid, probabilities[:,1])\n",
    "print(f'F1 = {f1.round(2)}, AUC-ROC = {auc_roc.round(2)}')"
   ]
  },
  {
   "cell_type": "markdown",
   "id": "5fd64dc5",
   "metadata": {},
   "source": [
    "**DecisionTreeClassifier**"
   ]
  },
  {
   "cell_type": "code",
   "execution_count": 38,
   "id": "30045873",
   "metadata": {},
   "outputs": [
    {
     "name": "stdout",
     "output_type": "stream",
     "text": [
      "F1 = 0.49, AUC-ROC = 0.82, best model = DecisionTreeClassifier(max_depth=6, random_state=12345)\n"
     ]
    }
   ],
   "source": [
    "best_f1 = 0\n",
    "best_model = None\n",
    "for depth in range(1, 50, 1):\n",
    "    model = DecisionTreeClassifier(random_state=12345, max_depth=depth)\n",
    "    model.fit(features_train, target_train)\n",
    "    predicted_valid = model.predict(features_valid)\n",
    "    probabilities = model.predict_proba(features_valid)\n",
    "    f1 = f1_score(target_valid, predicted_valid)\n",
    "    if f1 > best_f1:\n",
    "        best_f1 = f1\n",
    "        best_model = model\n",
    "        auc_roc = roc_auc_score(target_valid, probabilities[:,1])\n",
    "print(f'F1 = {f1.round(2)}, AUC-ROC = {auc_roc.round(2)}, best model = {best_model}')"
   ]
  },
  {
   "cell_type": "markdown",
   "id": "99e26a58",
   "metadata": {},
   "source": [
    "**RandomForestClassifier**  \n",
    "Сначала определим оптимальную глубину, далее оптимальное количество деревьев"
   ]
  },
  {
   "cell_type": "code",
   "execution_count": 39,
   "id": "cfa9c7d5",
   "metadata": {},
   "outputs": [
    {
     "name": "stdout",
     "output_type": "stream",
     "text": [
      "F1 = 0.58, AUC-ROC = 0.84, best_model = RandomForestClassifier(max_depth=18, n_estimators=60, random_state=12345)\n",
      "CPU times: user 25.4 s, sys: 125 ms, total: 25.5 s\n",
      "Wall time: 26 s\n"
     ]
    }
   ],
   "source": [
    "%%time\n",
    "best_f1 = 0\n",
    "best_model = None\n",
    "for depth in range(1, 50, 1):\n",
    "    model = RandomForestClassifier(n_estimators=60, max_depth=depth, random_state=12345)\n",
    "    model.fit(features_train, target_train)\n",
    "    probabilities = model.predict_proba(features_valid)\n",
    "    predicted_valid = model.predict(features_valid)\n",
    "    f1 = f1_score(target_valid, predicted_valid)\n",
    "    if f1 > best_f1:\n",
    "        best_f1 = f1\n",
    "        best_model = model\n",
    "        auc_roc = roc_auc_score(target_valid, probabilities[:,1])\n",
    "print(f'F1 = {best_f1.round(2)}, AUC-ROC = {auc_roc.round(2)}, best_model = {best_model}') "
   ]
  },
  {
   "cell_type": "code",
   "execution_count": 40,
   "id": "468fb9db",
   "metadata": {},
   "outputs": [
    {
     "name": "stdout",
     "output_type": "stream",
     "text": [
      "F1 = 0.6, AUC-ROC = 0.83, best_model = RandomForestClassifier(max_depth=18, n_estimators=91, random_state=12345)\n",
      "CPU times: user 4.56 s, sys: 30.5 ms, total: 4.59 s\n",
      "Wall time: 4.7 s\n"
     ]
    }
   ],
   "source": [
    "%%time\n",
    "best_f1 = 0\n",
    "best_model = None\n",
    "for n in range(1, 100, 10):\n",
    "    model = RandomForestClassifier(n_estimators=n, max_depth=18, random_state=12345)\n",
    "    model.fit(features_train, target_train)\n",
    "    probabilities = model.predict_proba(features_valid)\n",
    "    predicted_valid = model.predict(features_valid)\n",
    "    f1 = f1_score(target_valid, predicted_valid)\n",
    "    if f1 > best_f1:\n",
    "        best_f1 = f1\n",
    "        best_model = model\n",
    "        auc_roc = roc_auc_score(target_valid, probabilities[:,1])\n",
    "print(f'F1 = {best_f1.round(2)}, AUC-ROC = {auc_roc.round(2)}, best_model = {best_model}') "
   ]
  },
  {
   "cell_type": "markdown",
   "id": "a42686bd",
   "metadata": {},
   "source": [
    "Оптимальная глубина - 18 слоев  \n",
    "Оптимальное количество деревеьев - 91"
   ]
  },
  {
   "cell_type": "markdown",
   "id": "2869a1c3",
   "metadata": {},
   "source": [
    "# Модели с балансом"
   ]
  },
  {
   "cell_type": "markdown",
   "id": "a2d9b8d8",
   "metadata": {},
   "source": [
    "**LogisticRegression**"
   ]
  },
  {
   "cell_type": "code",
   "execution_count": 41,
   "id": "5b5573e7",
   "metadata": {},
   "outputs": [
    {
     "name": "stdout",
     "output_type": "stream",
     "text": [
      "F1 = 0.49, AUC-ROC = 0.76\n"
     ]
    }
   ],
   "source": [
    "model = LogisticRegression(class_weight='balanced')\n",
    "model.fit(features_train, target_train)\n",
    "predicted_valid = model.predict(features_valid)\n",
    "probabilities = model.predict_proba(features_valid)\n",
    "f1 = f1_score(target_valid, predicted_valid)\n",
    "auc_roc = roc_auc_score(target_valid, probabilities[:,1])\n",
    "\n",
    "print(f'F1 = {f1.round(2)}, AUC-ROC = {auc_roc.round(2)}')\n"
   ]
  },
  {
   "cell_type": "markdown",
   "id": "262938a2",
   "metadata": {},
   "source": [
    "**DecisionTreeClassifier**"
   ]
  },
  {
   "cell_type": "code",
   "execution_count": 42,
   "id": "589e1a4e",
   "metadata": {},
   "outputs": [
    {
     "name": "stdout",
     "output_type": "stream",
     "text": [
      "F1 = 0.48, AUC-ROC = 0.83, best model = DecisionTreeClassifier(class_weight='balanced', max_depth=5, random_state=12345)\n"
     ]
    }
   ],
   "source": [
    "best_f1 = 0\n",
    "best_model = None\n",
    "for depth in range(1, 50, 1):\n",
    "    model = DecisionTreeClassifier(random_state=12345, max_depth=depth, class_weight='balanced')\n",
    "    model.fit(features_train, target_train)\n",
    "    predicted_valid = model.predict(features_valid)\n",
    "    probabilities = model.predict_proba(features_valid)\n",
    "    f1 = f1_score(target_valid, predicted_valid)\n",
    "    if f1 > best_f1:\n",
    "        best_f1 = f1\n",
    "        best_model = model\n",
    "        auc_roc = roc_auc_score(target_valid, probabilities[:,1])\n",
    "print(f'F1 = {f1.round(2)}, AUC-ROC = {auc_roc.round(2)}, best model = {best_model}')"
   ]
  },
  {
   "cell_type": "markdown",
   "id": "364ea6b7",
   "metadata": {},
   "source": [
    "**RandomForestClassifier**  \n",
    "Сначала определим оптимальную глубину, далее оптимальное количество деревьев"
   ]
  },
  {
   "cell_type": "code",
   "execution_count": 43,
   "id": "01f6677f",
   "metadata": {},
   "outputs": [
    {
     "name": "stdout",
     "output_type": "stream",
     "text": [
      "F1 = 0.618, AUC-ROC = 0.849, best_model = RandomForestClassifier(class_weight='balanced', max_depth=9, n_estimators=60,\n",
      "                       random_state=12345)\n",
      "CPU times: user 25.6 s, sys: 179 ms, total: 25.8 s\n",
      "Wall time: 26.2 s\n"
     ]
    }
   ],
   "source": [
    "%%time\n",
    "best_f1 = 0\n",
    "best_model = None\n",
    "for depth in range(1, 50, 1):\n",
    "    model = RandomForestClassifier(n_estimators=60, max_depth=depth, random_state=12345, class_weight='balanced')\n",
    "    model.fit(features_train, target_train)\n",
    "    probabilities = model.predict_proba(features_valid)\n",
    "    predicted_valid = model.predict(features_valid)\n",
    "    f1 = f1_score(target_valid, predicted_valid)\n",
    "    if f1 > best_f1:\n",
    "        best_f1 = f1\n",
    "        best_model = model\n",
    "        auc_roc = roc_auc_score(target_valid, probabilities[:,1])\n",
    "print(f'F1 = {best_f1.round(3)}, AUC-ROC = {auc_roc.round(3)}, best_model = {best_model}') "
   ]
  },
  {
   "cell_type": "code",
   "execution_count": 44,
   "id": "b41098ea",
   "metadata": {},
   "outputs": [
    {
     "name": "stdout",
     "output_type": "stream",
     "text": [
      "F1 = 0.6189, AUC-ROC = 0.8507, best_model = RandomForestClassifier(class_weight='balanced', max_depth=8, n_estimators=61,\n",
      "                       random_state=12345)\n",
      "CPU times: user 3.17 s, sys: 28.1 ms, total: 3.19 s\n",
      "Wall time: 3.22 s\n"
     ]
    }
   ],
   "source": [
    "%%time\n",
    "best_f1 = 0\n",
    "best_model = None\n",
    "for n in range(1, 100, 10):\n",
    "    model = RandomForestClassifier(n_estimators=n, max_depth=8, random_state=12345,class_weight='balanced')\n",
    "    model.fit(features_train, target_train)\n",
    "    predicted_valid = model.predict(features_valid)\n",
    "    probabilities = model.predict_proba(features_valid)\n",
    "    f1 = f1_score(target_valid, predicted_valid)\n",
    "    if f1 > best_f1:\n",
    "        best_f1 = f1\n",
    "        best_model = model\n",
    "        auc_roc = roc_auc_score(target_valid, probabilities[:,1])\n",
    "print(f'F1 = {best_f1.round(4)}, AUC-ROC = {auc_roc.round(4)}, best_model = {best_model}') "
   ]
  },
  {
   "cell_type": "markdown",
   "id": "07c13187",
   "metadata": {},
   "source": [
    "Оптимальная глубина - 8 слоев  \n",
    "Оптимальное количество деревьев - 61"
   ]
  },
  {
   "cell_type": "markdown",
   "id": "e5109a83",
   "metadata": {},
   "source": [
    "## Upsampling"
   ]
  },
  {
   "cell_type": "markdown",
   "id": "35dee2e4",
   "metadata": {},
   "source": [
    "**Проверим количество положительных и отрицательных ответов на тренировочной выборке**"
   ]
  },
  {
   "cell_type": "code",
   "execution_count": 45,
   "id": "e7dc347b",
   "metadata": {},
   "outputs": [
    {
     "data": {
      "text/plain": [
       "0    4804\n",
       "1    1196\n",
       "Name: Exited, dtype: int64"
      ]
     },
     "execution_count": 45,
     "metadata": {},
     "output_type": "execute_result"
    }
   ],
   "source": [
    "target_train.value_counts()"
   ]
  },
  {
   "cell_type": "markdown",
   "id": "7edc141f",
   "metadata": {},
   "source": [
    "**Отрицательных ответов в 4 раза больше, поэтому методом upsampling увеличим положительные ответы**"
   ]
  },
  {
   "cell_type": "code",
   "execution_count": 46,
   "id": "5c97d335",
   "metadata": {},
   "outputs": [],
   "source": [
    "def upsample(features, target, repeat): \n",
    "    features_zeros = features[target == 0] \n",
    "    features_ones = features[target == 1] \n",
    "    target_zeros = target[target == 0] \n",
    "    target_ones = target[target == 1]\n",
    "    features_upsampled = pd.concat([features_zeros] + [features_ones] * repeat) \n",
    "    target_upsampled = pd.concat([target_zeros] + [target_ones] * repeat)\n",
    "    features_upsampled, target_upsampled = shuffle( features_upsampled, target_upsampled, random_state=12345)\n",
    "    return features_upsampled, target_upsampled"
   ]
  },
  {
   "cell_type": "code",
   "execution_count": 47,
   "id": "a9bb5a63",
   "metadata": {},
   "outputs": [],
   "source": [
    "features_upsampled, target_upsampled = upsample(features_train, target_train, 4)"
   ]
  },
  {
   "cell_type": "code",
   "execution_count": 48,
   "id": "d8dcfc0b",
   "metadata": {},
   "outputs": [
    {
     "data": {
      "text/plain": [
       "(9588, 14)"
      ]
     },
     "metadata": {},
     "output_type": "display_data"
    },
    {
     "data": {
      "text/plain": [
       "(9588,)"
      ]
     },
     "metadata": {},
     "output_type": "display_data"
    }
   ],
   "source": [
    "display(features_upsampled.shape)\n",
    "display(target_upsampled.shape)"
   ]
  },
  {
   "cell_type": "code",
   "execution_count": 49,
   "id": "3ec58de8",
   "metadata": {},
   "outputs": [
    {
     "data": {
      "text/plain": [
       "0    4804\n",
       "1    4784\n",
       "Name: Exited, dtype: int64"
      ]
     },
     "execution_count": 49,
     "metadata": {},
     "output_type": "execute_result"
    }
   ],
   "source": [
    "target_upsampled.value_counts()"
   ]
  },
  {
   "cell_type": "markdown",
   "id": "80a94020",
   "metadata": {},
   "source": [
    "**Выровняли**"
   ]
  },
  {
   "cell_type": "markdown",
   "id": "ff486360",
   "metadata": {},
   "source": [
    "**LogisticRegression**"
   ]
  },
  {
   "cell_type": "code",
   "execution_count": 50,
   "id": "1cf44433",
   "metadata": {},
   "outputs": [
    {
     "name": "stdout",
     "output_type": "stream",
     "text": [
      "F1 = 0.49, AUC-ROC = 0.76\n"
     ]
    }
   ],
   "source": [
    "model = LogisticRegression()\n",
    "model.fit(features_upsampled, target_upsampled)\n",
    "predicted_valid = model.predict(features_valid)\n",
    "probabilities = model.predict_proba(features_valid)\n",
    "f1 = f1_score(target_valid, predicted_valid)\n",
    "auc_roc = roc_auc_score(target_valid, probabilities[:,1])\n",
    "\n",
    "print(f'F1 = {f1.round(2)}, AUC-ROC = {auc_roc.round(2)}')\n"
   ]
  },
  {
   "cell_type": "markdown",
   "id": "de02920e",
   "metadata": {},
   "source": [
    "**DecisionTreeClassifier**"
   ]
  },
  {
   "cell_type": "code",
   "execution_count": 51,
   "id": "10b2970c",
   "metadata": {},
   "outputs": [
    {
     "name": "stdout",
     "output_type": "stream",
     "text": [
      "F1 = 0.48, AUC-ROC = 0.83, best model = DecisionTreeClassifier(max_depth=5, random_state=12345)\n"
     ]
    }
   ],
   "source": [
    "best_f1 = 0\n",
    "best_model = None\n",
    "for depth in range(1, 50, 1):\n",
    "    model = DecisionTreeClassifier(random_state=12345, max_depth=depth)\n",
    "    model.fit(features_upsampled, target_upsampled)\n",
    "    predicted_valid = model.predict(features_valid)\n",
    "    probabilities = model.predict_proba(features_valid)\n",
    "    f1 = f1_score(target_valid, predicted_valid)\n",
    "    if f1 > best_f1:\n",
    "        best_f1 = f1\n",
    "        best_model = model\n",
    "        auc_roc = roc_auc_score(target_valid, probabilities[:,1])\n",
    "print(f'F1 = {f1.round(2)}, AUC-ROC = {auc_roc.round(2)}, best model = {best_model}')"
   ]
  },
  {
   "cell_type": "markdown",
   "id": "33a2841d",
   "metadata": {},
   "source": [
    "**RandomForestClassifier**"
   ]
  },
  {
   "cell_type": "code",
   "execution_count": 52,
   "id": "98a5cd8d",
   "metadata": {},
   "outputs": [
    {
     "name": "stdout",
     "output_type": "stream",
     "text": [
      "F1 = 0.616, AUC-ROC = 0.848, best_model = RandomForestClassifier(max_depth=8, n_estimators=60, random_state=12345)\n",
      "CPU times: user 31.7 s, sys: 339 ms, total: 32 s\n",
      "Wall time: 32.1 s\n"
     ]
    }
   ],
   "source": [
    "%%time\n",
    "best_f1 = 0\n",
    "best_model = None\n",
    "for depth in range(1, 50, 1):\n",
    "    model = RandomForestClassifier(n_estimators=60, max_depth=depth, random_state=12345)\n",
    "    model.fit(features_upsampled, target_upsampled)\n",
    "    probabilities = model.predict_proba(features_valid)\n",
    "    predicted_valid = model.predict(features_valid)\n",
    "    f1 = f1_score(target_valid, predicted_valid)\n",
    "    if f1 > best_f1:\n",
    "        best_f1 = f1\n",
    "        best_model = model\n",
    "        auc_roc = roc_auc_score(target_valid, probabilities[:,1])\n",
    "print(f'F1 = {best_f1.round(3)}, AUC-ROC = {auc_roc.round(3)}, best_model = {best_model}') "
   ]
  },
  {
   "cell_type": "code",
   "execution_count": 53,
   "id": "37aa66fd",
   "metadata": {},
   "outputs": [
    {
     "name": "stdout",
     "output_type": "stream",
     "text": [
      "F1 = 0.6227, AUC-ROC = 0.8487, best_model = RandomForestClassifier(max_depth=10, n_estimators=91, random_state=12345)\n",
      "CPU times: user 4.43 s, sys: 44.1 ms, total: 4.47 s\n",
      "Wall time: 4.48 s\n"
     ]
    }
   ],
   "source": [
    "%%time\n",
    "best_f1 = 0\n",
    "best_model = None\n",
    "for n in range(1, 100, 10):\n",
    "    model = RandomForestClassifier(n_estimators=n, max_depth=10, random_state=12345)\n",
    "    model.fit(features_upsampled, target_upsampled)\n",
    "    predicted_valid = model.predict(features_valid)\n",
    "    probabilities = model.predict_proba(features_valid)\n",
    "    f1 = f1_score(target_valid, predicted_valid)\n",
    "    if f1 > best_f1:\n",
    "        best_f1 = f1\n",
    "        best_model = model\n",
    "        auc_roc = roc_auc_score(target_valid, probabilities[:,1])\n",
    "print(f'F1 = {best_f1.round(4)}, AUC-ROC = {auc_roc.round(4)}, best_model = {best_model}') "
   ]
  },
  {
   "cell_type": "markdown",
   "id": "75b6383c",
   "metadata": {},
   "source": [
    "Лучший вариант при глубине в 10 слоев и количестве деревьев - 91 (с балансом весов)"
   ]
  },
  {
   "cell_type": "markdown",
   "id": "9b5a7250",
   "metadata": {},
   "source": [
    "## Downsampling"
   ]
  },
  {
   "cell_type": "markdown",
   "id": "5e90558c",
   "metadata": {},
   "source": [
    "Уменьшим отрицательные ответы в 4 раза, выберем гиперпараметр frac == 0.25"
   ]
  },
  {
   "cell_type": "code",
   "execution_count": 54,
   "id": "91c6334f",
   "metadata": {},
   "outputs": [],
   "source": [
    "def downsample(features, target, fraction):\n",
    "    features_zeros = features[target == 0]\n",
    "    features_ones = features[target == 1]\n",
    "    target_zeros = target[target == 0]\n",
    "    target_ones = target[target == 1]\n",
    "    features_downsampled = pd.concat([features_zeros.sample(frac=fraction, random_state=12345)] + [features_ones])\n",
    "    target_downsampled = pd.concat([target_zeros.sample(frac=fraction, random_state=12345)] + [target_ones])\n",
    "    features_downsampled, target_downsampled = shuffle( features_downsampled, target_downsampled, random_state=12345)\n",
    "    return features_downsampled, target_downsampled"
   ]
  },
  {
   "cell_type": "code",
   "execution_count": 55,
   "id": "83e1b6e7",
   "metadata": {},
   "outputs": [],
   "source": [
    "features_downsampled, target_downsampled = downsample(features_train, target_train, 0.25)"
   ]
  },
  {
   "cell_type": "code",
   "execution_count": 56,
   "id": "0773ff04",
   "metadata": {},
   "outputs": [
    {
     "data": {
      "text/plain": [
       "0    1201\n",
       "1    1196\n",
       "Name: Exited, dtype: int64"
      ]
     },
     "execution_count": 56,
     "metadata": {},
     "output_type": "execute_result"
    }
   ],
   "source": [
    "target_downsampled.value_counts()"
   ]
  },
  {
   "cell_type": "markdown",
   "id": "bfb2c627",
   "metadata": {},
   "source": [
    "**LogisticRegression**"
   ]
  },
  {
   "cell_type": "code",
   "execution_count": 57,
   "id": "ba45eb12",
   "metadata": {},
   "outputs": [
    {
     "name": "stdout",
     "output_type": "stream",
     "text": [
      "F1 = 0.48, AUC-ROC = 0.76\n"
     ]
    }
   ],
   "source": [
    "model = LogisticRegression()\n",
    "model.fit(features_downsampled, target_downsampled)\n",
    "predicted_valid = model.predict(features_valid)\n",
    "probabilities = model.predict_proba(features_valid)\n",
    "f1 = f1_score(target_valid, predicted_valid)\n",
    "auc_roc = roc_auc_score(target_valid, probabilities[:,1])\n",
    "\n",
    "print(f'F1 = {f1.round(2)}, AUC-ROC = {auc_roc.round(2)}')"
   ]
  },
  {
   "cell_type": "markdown",
   "id": "bf6431ba",
   "metadata": {},
   "source": [
    "**DecisionTreeClassifier**"
   ]
  },
  {
   "cell_type": "code",
   "execution_count": 58,
   "id": "05bcb847",
   "metadata": {},
   "outputs": [
    {
     "name": "stdout",
     "output_type": "stream",
     "text": [
      "F1 = 0.49, AUC-ROC = 0.83, best model = DecisionTreeClassifier(max_depth=6, random_state=12345)\n"
     ]
    }
   ],
   "source": [
    "best_f1 = 0\n",
    "best_model = None\n",
    "for depth in range(1, 50, 1):\n",
    "    model = DecisionTreeClassifier(random_state=12345, max_depth=depth)\n",
    "    model.fit(features_downsampled, target_downsampled)\n",
    "    predicted_valid = model.predict(features_valid)\n",
    "    probabilities = model.predict_proba(features_valid)\n",
    "    f1 = f1_score(target_valid, predicted_valid)\n",
    "    if f1 > best_f1:\n",
    "        best_f1 = f1\n",
    "        best_model = model\n",
    "        auc_roc = roc_auc_score(target_valid, probabilities[:,1])\n",
    "print(f'F1 = {f1.round(2)}, AUC-ROC = {auc_roc.round(2)}, best model = {best_model}')"
   ]
  },
  {
   "cell_type": "markdown",
   "id": "2b9d2879",
   "metadata": {},
   "source": [
    "**RandomForestClassifier**"
   ]
  },
  {
   "cell_type": "code",
   "execution_count": 59,
   "id": "ef782d91",
   "metadata": {},
   "outputs": [
    {
     "name": "stdout",
     "output_type": "stream",
     "text": [
      "F1 = 0.59, AUC-ROC = 0.85, best_model = RandomForestClassifier(max_depth=8, n_estimators=60, random_state=12345)\n",
      "CPU times: user 13.4 s, sys: 91.7 ms, total: 13.4 s\n",
      "Wall time: 13.5 s\n"
     ]
    }
   ],
   "source": [
    "%%time\n",
    "best_f1 = 0\n",
    "best_model = None\n",
    "for depth in range(1, 50, 1):\n",
    "    model = RandomForestClassifier(n_estimators=60, max_depth=depth, random_state=12345)\n",
    "    model.fit(features_downsampled, target_downsampled)\n",
    "    probabilities = model.predict_proba(features_valid)\n",
    "    predicted_valid = model.predict(features_valid)\n",
    "    f1 = f1_score(target_valid, predicted_valid)\n",
    "    if f1 > best_f1:\n",
    "        best_f1 = f1\n",
    "        best_model = model\n",
    "        auc_roc = roc_auc_score(target_valid, probabilities[:,1])\n",
    "print(f'F1 = {best_f1.round(2)}, AUC-ROC = {auc_roc.round(2)}, best_model = {best_model}') "
   ]
  },
  {
   "cell_type": "code",
   "execution_count": 60,
   "id": "872a9f39",
   "metadata": {},
   "outputs": [
    {
     "name": "stdout",
     "output_type": "stream",
     "text": [
      "F1 = 0.59, AUC-ROC = 0.84, best_model = RandomForestClassifier(max_depth=5, n_estimators=61, random_state=12345)\n",
      "CPU times: user 1.55 s, sys: 28 ms, total: 1.57 s\n",
      "Wall time: 1.58 s\n"
     ]
    }
   ],
   "source": [
    "%%time\n",
    "best_f1 = 0\n",
    "best_model = None\n",
    "for n in range(1, 100, 10):\n",
    "    model = RandomForestClassifier(n_estimators=n, max_depth=5, random_state=12345)\n",
    "    model.fit(features_downsampled, target_downsampled)\n",
    "    predicted_valid = model.predict(features_valid)\n",
    "    probabilities = model.predict_proba(features_valid)\n",
    "    f1 = f1_score(target_valid, predicted_valid)\n",
    "    if f1 > best_f1:\n",
    "        best_f1 = f1\n",
    "        best_model = model\n",
    "        auc_roc = roc_auc_score(target_valid, probabilities[:,1])\n",
    "print(f'F1 = {best_f1.round(2)}, AUC-ROC = {auc_roc.round(2)}, best_model = {best_model}') "
   ]
  },
  {
   "cell_type": "markdown",
   "id": "5fc9bbaf",
   "metadata": {},
   "source": [
    "Лучший вариант при глубине в 5 слоев и количестве деревьев - 61 (с балансом весов)"
   ]
  },
  {
   "cell_type": "markdown",
   "id": "08559c60",
   "metadata": {},
   "source": [
    "## Прогон на тестовой выборке"
   ]
  },
  {
   "cell_type": "markdown",
   "id": "f974d46c",
   "metadata": {},
   "source": [
    "2 модели показали лучшие результаты:\n",
    " - F1 = 0.6103, AUC-ROC = 0.8508, best_model = **RandomForestClassifier**(class_weight='balanced', max_depth=8, n_estimators=61\n",
    " - F1 = 0.6104, AUC-ROC = 0.8462, best_model = **RandomForestClassifier**(class_weight='balanced', max_depth=10, n_estimators=81 **Upsampling**\n",
    "    "
   ]
  },
  {
   "cell_type": "code",
   "execution_count": 61,
   "id": "25a5f14c",
   "metadata": {},
   "outputs": [
    {
     "name": "stdout",
     "output_type": "stream",
     "text": [
      "F1 = 0.6066, AUC-ROC = 0.8486\n"
     ]
    }
   ],
   "source": [
    "model = RandomForestClassifier(n_estimators=61, max_depth=8, random_state=12345, class_weight='balanced')\n",
    "model.fit(features_train, target_train)\n",
    "predicted_test = model.predict(features_test)\n",
    "probabilities = model.predict_proba(features_test)\n",
    "f1 = f1_score(target_test, predicted_test)\n",
    "auc_roc = roc_auc_score(target_test, probabilities[:,1])\n",
    "print(f'F1 = {f1.round(4)}, AUC-ROC = {auc_roc.round(4)}') "
   ]
  },
  {
   "cell_type": "code",
   "execution_count": 62,
   "id": "f3931ec1",
   "metadata": {},
   "outputs": [
    {
     "name": "stdout",
     "output_type": "stream",
     "text": [
      "F1 = 0.5969, AUC-ROC = 0.8497\n"
     ]
    }
   ],
   "source": [
    "model = RandomForestClassifier(n_estimators=81, max_depth=10, random_state=12345)\n",
    "model.fit(features_upsampled, target_upsampled)\n",
    "predicted_test = model.predict(features_test)\n",
    "probabilities = model.predict_proba(features_test)\n",
    "f1 = f1_score(target_test, predicted_test)\n",
    "auc_roc = roc_auc_score(target_test, probabilities[:,1])\n",
    "print(f'F1 = {f1.round(4)}, AUC-ROC = {auc_roc.round(4)}') "
   ]
  },
  {
   "cell_type": "markdown",
   "id": "a5caec08",
   "metadata": {},
   "source": [
    "Выводы:\n",
    "- Были построены все изученные модели. Применялись методы баланса весов, увеличения и уменьшения тренировочной выборки. На валидационной выборке лучшие результаты по показателю F1 продемонстрировали:\n",
    "  - F1 = 0.6103, AUC-ROC = 0.8508, best_model = **RandomForestClassifier**(class_weight='balanced', max_depth=8, n_estimators=61\n",
    "  - F1 = 0.6104, AUC-ROC = 0.8462, best_model = **RandomForestClassifier**(class_weight='balanced', max_depth=10, n_estimators=91 **Upsampling**\n",
    "\n",
    "Для проведения тестовой выборки была взята модель RandomForestClassifier(n_estimators=61, max_depth=8, random_state=12345, class_weight='balanced'), получились следующие результаты, **удовлетворящие условию задания: F1 = 0.6066, AUC-ROC = 0.8486**"
   ]
  }
 ],
 "metadata": {
  "ExecuteTimeLog": [
   {
    "duration": 2117,
    "start_time": "2023-07-22T12:49:11.059Z"
   },
   {
    "duration": 215,
    "start_time": "2023-07-22T12:49:13.875Z"
   },
   {
    "duration": 34,
    "start_time": "2023-07-22T12:49:30.662Z"
   },
   {
    "duration": 4,
    "start_time": "2023-07-22T12:49:41.931Z"
   },
   {
    "duration": 3,
    "start_time": "2023-07-22T12:49:55.924Z"
   },
   {
    "duration": 15,
    "start_time": "2023-07-22T12:49:56.107Z"
   },
   {
    "duration": 9,
    "start_time": "2023-07-22T12:49:57.131Z"
   },
   {
    "duration": 9,
    "start_time": "2023-07-22T12:50:01.807Z"
   },
   {
    "duration": 10,
    "start_time": "2023-07-22T12:51:19.932Z"
   },
   {
    "duration": 9,
    "start_time": "2023-07-22T12:51:40.525Z"
   },
   {
    "duration": 6,
    "start_time": "2023-07-22T12:51:42.160Z"
   },
   {
    "duration": 8,
    "start_time": "2023-07-22T12:51:42.376Z"
   },
   {
    "duration": 900,
    "start_time": "2023-07-22T12:51:43.055Z"
   },
   {
    "duration": 7,
    "start_time": "2023-07-22T12:51:56.307Z"
   },
   {
    "duration": 5,
    "start_time": "2023-07-22T12:51:56.723Z"
   },
   {
    "duration": 42,
    "start_time": "2023-07-22T12:52:19.694Z"
   },
   {
    "duration": 8,
    "start_time": "2023-07-22T12:54:22.481Z"
   },
   {
    "duration": 5,
    "start_time": "2023-07-22T12:54:22.961Z"
   },
   {
    "duration": 8,
    "start_time": "2023-07-22T12:54:23.400Z"
   },
   {
    "duration": 6,
    "start_time": "2023-07-22T12:54:23.796Z"
   },
   {
    "duration": 9,
    "start_time": "2023-07-22T12:55:26.800Z"
   },
   {
    "duration": 26,
    "start_time": "2023-07-22T12:55:27.164Z"
   },
   {
    "duration": 49,
    "start_time": "2023-07-23T11:56:13.157Z"
   },
   {
    "duration": 1641,
    "start_time": "2023-07-23T11:56:38.309Z"
   },
   {
    "duration": 160,
    "start_time": "2023-07-23T11:56:39.954Z"
   },
   {
    "duration": 26,
    "start_time": "2023-07-23T11:56:40.115Z"
   },
   {
    "duration": 6,
    "start_time": "2023-07-23T11:56:40.143Z"
   },
   {
    "duration": 5,
    "start_time": "2023-07-23T11:56:40.151Z"
   },
   {
    "duration": 14,
    "start_time": "2023-07-23T11:56:40.158Z"
   },
   {
    "duration": 9,
    "start_time": "2023-07-23T11:56:47.169Z"
   },
   {
    "duration": 19,
    "start_time": "2023-07-23T11:56:55.630Z"
   },
   {
    "duration": 5,
    "start_time": "2023-07-23T12:00:29.677Z"
   },
   {
    "duration": 7,
    "start_time": "2023-07-23T12:01:03.543Z"
   },
   {
    "duration": 5,
    "start_time": "2023-07-23T12:01:19.751Z"
   },
   {
    "duration": 3,
    "start_time": "2023-07-23T12:02:03.914Z"
   },
   {
    "duration": 39,
    "start_time": "2023-07-23T12:02:03.919Z"
   },
   {
    "duration": 22,
    "start_time": "2023-07-23T12:02:03.960Z"
   },
   {
    "duration": 5,
    "start_time": "2023-07-23T12:02:03.984Z"
   },
   {
    "duration": 7,
    "start_time": "2023-07-23T12:02:03.991Z"
   },
   {
    "duration": 17,
    "start_time": "2023-07-23T12:02:04.000Z"
   },
   {
    "duration": 12,
    "start_time": "2023-07-23T12:02:04.022Z"
   },
   {
    "duration": 7,
    "start_time": "2023-07-23T12:02:09.317Z"
   },
   {
    "duration": 6,
    "start_time": "2023-07-23T12:02:13.914Z"
   },
   {
    "duration": 7,
    "start_time": "2023-07-23T12:02:17.817Z"
   },
   {
    "duration": 9,
    "start_time": "2023-07-23T12:03:35.910Z"
   },
   {
    "duration": 12,
    "start_time": "2023-07-23T12:04:12.175Z"
   },
   {
    "duration": 11,
    "start_time": "2023-07-23T12:04:15.423Z"
   },
   {
    "duration": 6,
    "start_time": "2023-07-23T12:04:17.550Z"
   },
   {
    "duration": 8,
    "start_time": "2023-07-23T12:04:19.351Z"
   },
   {
    "duration": 982,
    "start_time": "2023-07-23T12:04:22.511Z"
   },
   {
    "duration": 194,
    "start_time": "2023-07-23T12:20:03.295Z"
   },
   {
    "duration": 30,
    "start_time": "2023-07-23T12:20:22.505Z"
   },
   {
    "duration": 4,
    "start_time": "2023-07-23T12:20:46.214Z"
   },
   {
    "duration": 53,
    "start_time": "2023-07-23T12:20:46.221Z"
   },
   {
    "duration": 30,
    "start_time": "2023-07-23T12:20:46.276Z"
   },
   {
    "duration": 52,
    "start_time": "2023-07-23T12:20:46.309Z"
   },
   {
    "duration": 7,
    "start_time": "2023-07-23T12:20:46.365Z"
   },
   {
    "duration": 17,
    "start_time": "2023-07-23T12:20:46.374Z"
   },
   {
    "duration": 11,
    "start_time": "2023-07-23T12:20:46.392Z"
   },
   {
    "duration": 2,
    "start_time": "2023-07-23T12:20:46.405Z"
   },
   {
    "duration": 10,
    "start_time": "2023-07-23T12:20:46.409Z"
   },
   {
    "duration": 40,
    "start_time": "2023-07-23T12:20:46.421Z"
   },
   {
    "duration": 13,
    "start_time": "2023-07-23T12:20:46.463Z"
   },
   {
    "duration": 11,
    "start_time": "2023-07-23T12:20:46.478Z"
   },
   {
    "duration": 10,
    "start_time": "2023-07-23T12:20:46.491Z"
   },
   {
    "duration": 916,
    "start_time": "2023-07-23T12:20:46.505Z"
   },
   {
    "duration": 4,
    "start_time": "2023-07-23T12:20:47.423Z"
   },
   {
    "duration": 7,
    "start_time": "2023-07-23T12:20:47.429Z"
   },
   {
    "duration": 326,
    "start_time": "2023-07-23T12:20:47.438Z"
   },
   {
    "duration": 7,
    "start_time": "2023-07-23T12:20:47.765Z"
   },
   {
    "duration": 10,
    "start_time": "2023-07-23T12:20:47.773Z"
   },
   {
    "duration": 9,
    "start_time": "2023-07-23T12:20:47.785Z"
   },
   {
    "duration": 4,
    "start_time": "2023-07-23T12:20:47.796Z"
   },
   {
    "duration": 32,
    "start_time": "2023-07-23T12:20:50.538Z"
   },
   {
    "duration": 3,
    "start_time": "2023-07-23T12:22:27.561Z"
   },
   {
    "duration": 22,
    "start_time": "2023-07-23T12:22:33.208Z"
   },
   {
    "duration": 8,
    "start_time": "2023-07-23T12:24:40.456Z"
   },
   {
    "duration": 8,
    "start_time": "2023-07-23T12:24:50.008Z"
   },
   {
    "duration": 6,
    "start_time": "2023-07-23T12:25:00.007Z"
   },
   {
    "duration": 21,
    "start_time": "2023-07-23T12:25:21.606Z"
   },
   {
    "duration": 5,
    "start_time": "2023-07-23T12:25:26.512Z"
   },
   {
    "duration": 7,
    "start_time": "2023-07-23T12:27:23.275Z"
   },
   {
    "duration": 5,
    "start_time": "2023-07-23T12:27:34.354Z"
   },
   {
    "duration": 4,
    "start_time": "2023-07-23T12:27:51.950Z"
   },
   {
    "duration": 7,
    "start_time": "2023-07-23T12:28:39.205Z"
   },
   {
    "duration": 6,
    "start_time": "2023-07-23T12:29:46.417Z"
   },
   {
    "duration": 29,
    "start_time": "2023-07-23T12:33:12.853Z"
   },
   {
    "duration": 4,
    "start_time": "2023-07-23T12:33:49.487Z"
   },
   {
    "duration": 19,
    "start_time": "2023-07-23T12:33:54.450Z"
   },
   {
    "duration": 9,
    "start_time": "2023-07-23T12:37:37.522Z"
   },
   {
    "duration": 23,
    "start_time": "2023-07-23T12:37:46.379Z"
   },
   {
    "duration": 6,
    "start_time": "2023-07-23T12:37:55.917Z"
   },
   {
    "duration": 147,
    "start_time": "2023-07-23T12:39:04.149Z"
   },
   {
    "duration": 4,
    "start_time": "2023-07-23T12:50:01.024Z"
   },
   {
    "duration": 111,
    "start_time": "2023-07-23T12:50:01.030Z"
   },
   {
    "duration": 67,
    "start_time": "2023-07-23T12:50:01.144Z"
   },
   {
    "duration": 54,
    "start_time": "2023-07-23T12:50:01.213Z"
   },
   {
    "duration": 58,
    "start_time": "2023-07-23T12:50:01.271Z"
   },
   {
    "duration": 81,
    "start_time": "2023-07-23T12:50:01.331Z"
   },
   {
    "duration": 28,
    "start_time": "2023-07-23T12:50:01.414Z"
   },
   {
    "duration": 38,
    "start_time": "2023-07-23T12:50:01.445Z"
   },
   {
    "duration": 35,
    "start_time": "2023-07-23T12:50:01.485Z"
   },
   {
    "duration": 58,
    "start_time": "2023-07-23T12:50:01.522Z"
   },
   {
    "duration": 46,
    "start_time": "2023-07-23T12:50:01.582Z"
   },
   {
    "duration": 49,
    "start_time": "2023-07-23T12:50:01.630Z"
   },
   {
    "duration": 39,
    "start_time": "2023-07-23T12:50:01.682Z"
   },
   {
    "duration": 996,
    "start_time": "2023-07-23T12:50:01.726Z"
   },
   {
    "duration": 5,
    "start_time": "2023-07-23T12:50:02.724Z"
   },
   {
    "duration": 27,
    "start_time": "2023-07-23T12:50:02.731Z"
   },
   {
    "duration": 103,
    "start_time": "2023-07-23T12:50:02.760Z"
   },
   {
    "duration": 7,
    "start_time": "2023-07-23T12:50:02.865Z"
   },
   {
    "duration": 50,
    "start_time": "2023-07-23T12:50:02.875Z"
   },
   {
    "duration": 20,
    "start_time": "2023-07-23T12:50:02.927Z"
   },
   {
    "duration": 20,
    "start_time": "2023-07-23T12:50:02.949Z"
   },
   {
    "duration": 28,
    "start_time": "2023-07-23T12:50:02.971Z"
   },
   {
    "duration": 11,
    "start_time": "2023-07-23T12:50:03.001Z"
   },
   {
    "duration": 20,
    "start_time": "2023-07-23T12:50:03.014Z"
   },
   {
    "duration": 30,
    "start_time": "2023-07-23T12:50:03.036Z"
   },
   {
    "duration": 13,
    "start_time": "2023-07-23T12:50:03.068Z"
   },
   {
    "duration": 9,
    "start_time": "2023-07-23T12:50:03.083Z"
   },
   {
    "duration": 34,
    "start_time": "2023-07-23T12:50:13.519Z"
   },
   {
    "duration": 18,
    "start_time": "2023-07-23T12:50:27.415Z"
   },
   {
    "duration": 496,
    "start_time": "2023-07-23T12:50:42.776Z"
   },
   {
    "duration": 59,
    "start_time": "2023-07-23T12:50:58.311Z"
   },
   {
    "duration": 21647,
    "start_time": "2023-07-23T12:51:01.750Z"
   },
   {
    "duration": 3816,
    "start_time": "2023-07-23T12:51:26.783Z"
   },
   {
    "duration": 392,
    "start_time": "2023-07-23T12:51:41.471Z"
   },
   {
    "duration": 207,
    "start_time": "2023-07-23T12:58:40.048Z"
   },
   {
    "duration": 5,
    "start_time": "2023-07-23T12:59:08.512Z"
   },
   {
    "duration": 14,
    "start_time": "2023-07-23T13:00:46.118Z"
   },
   {
    "duration": 5,
    "start_time": "2023-07-23T13:00:52.881Z"
   },
   {
    "duration": 12,
    "start_time": "2023-07-23T13:02:09.982Z"
   },
   {
    "duration": 23,
    "start_time": "2023-07-23T13:02:17.908Z"
   },
   {
    "duration": 6,
    "start_time": "2023-07-23T13:02:38.148Z"
   },
   {
    "duration": 27892,
    "start_time": "2023-07-23T13:05:37.519Z"
   },
   {
    "duration": 27499,
    "start_time": "2023-07-23T13:06:35.346Z"
   },
   {
    "duration": 4343,
    "start_time": "2023-07-23T13:08:20.345Z"
   },
   {
    "duration": 112,
    "start_time": "2023-07-23T13:10:10.355Z"
   },
   {
    "duration": 5,
    "start_time": "2023-07-23T13:13:58.941Z"
   },
   {
    "duration": 13,
    "start_time": "2023-07-23T13:16:03.443Z"
   },
   {
    "duration": 13,
    "start_time": "2023-07-23T13:16:14.054Z"
   },
   {
    "duration": 4,
    "start_time": "2023-07-23T13:16:17.044Z"
   },
   {
    "duration": 19,
    "start_time": "2023-07-23T13:18:14.946Z"
   },
   {
    "duration": 11,
    "start_time": "2023-07-23T13:18:23.049Z"
   },
   {
    "duration": 6,
    "start_time": "2023-07-23T13:18:47.426Z"
   },
   {
    "duration": 6,
    "start_time": "2023-07-23T13:18:58.062Z"
   },
   {
    "duration": 21,
    "start_time": "2023-07-23T13:19:10.816Z"
   },
   {
    "duration": 18,
    "start_time": "2023-07-23T13:19:18.745Z"
   },
   {
    "duration": 5,
    "start_time": "2023-07-23T13:19:29.547Z"
   },
   {
    "duration": 14,
    "start_time": "2023-07-23T13:19:41.695Z"
   },
   {
    "duration": 8,
    "start_time": "2023-07-23T13:19:45.359Z"
   },
   {
    "duration": 6,
    "start_time": "2023-07-23T13:20:08.924Z"
   },
   {
    "duration": 10521,
    "start_time": "2023-07-23T13:23:51.654Z"
   },
   {
    "duration": 11146,
    "start_time": "2023-07-23T13:24:25.247Z"
   },
   {
    "duration": 10908,
    "start_time": "2023-07-23T13:24:46.135Z"
   },
   {
    "duration": 1756,
    "start_time": "2023-07-23T13:25:38.553Z"
   },
   {
    "duration": 1328,
    "start_time": "2023-07-23T13:26:08.470Z"
   },
   {
    "duration": 112,
    "start_time": "2023-07-23T13:26:56.174Z"
   },
   {
    "duration": 54,
    "start_time": "2023-07-23T13:28:28.125Z"
   },
   {
    "duration": 135,
    "start_time": "2023-07-23T13:29:53.025Z"
   },
   {
    "duration": 1814,
    "start_time": "2023-07-23T13:33:29.616Z"
   },
   {
    "duration": 1805,
    "start_time": "2023-07-23T13:34:05.943Z"
   },
   {
    "duration": 1907,
    "start_time": "2023-07-23T13:35:02.944Z"
   },
   {
    "duration": 2234,
    "start_time": "2023-07-23T13:36:51.213Z"
   },
   {
    "duration": 2281,
    "start_time": "2023-07-23T13:38:23.604Z"
   },
   {
    "duration": 119,
    "start_time": "2023-07-23T13:39:07.920Z"
   },
   {
    "duration": 892,
    "start_time": "2023-07-23T13:39:41.680Z"
   },
   {
    "duration": 29683,
    "start_time": "2023-07-23T13:40:37.501Z"
   },
   {
    "duration": 4497,
    "start_time": "2023-07-23T13:41:10.311Z"
   },
   {
    "duration": 4706,
    "start_time": "2023-07-23T13:41:32.046Z"
   },
   {
    "duration": 23638,
    "start_time": "2023-07-23T13:41:58.212Z"
   },
   {
    "duration": 2997,
    "start_time": "2023-07-23T13:42:21.852Z"
   },
   {
    "duration": 29504,
    "start_time": "2023-07-23T13:49:29.950Z"
   },
   {
    "duration": 4688,
    "start_time": "2023-07-23T13:50:14.152Z"
   },
   {
    "duration": 486,
    "start_time": "2023-07-23T13:54:55.604Z"
   },
   {
    "duration": 481,
    "start_time": "2023-07-23T13:56:28.010Z"
   },
   {
    "duration": 538,
    "start_time": "2023-07-23T13:56:55.940Z"
   },
   {
    "duration": 17,
    "start_time": "2023-07-23T13:57:51.128Z"
   },
   {
    "duration": 19,
    "start_time": "2023-07-23T13:58:03.811Z"
   },
   {
    "duration": 22,
    "start_time": "2023-07-23T13:58:09.155Z"
   },
   {
    "duration": 23,
    "start_time": "2023-07-23T13:58:32.000Z"
   },
   {
    "duration": 5,
    "start_time": "2023-07-23T13:58:48.422Z"
   },
   {
    "duration": 69,
    "start_time": "2023-07-23T13:58:48.430Z"
   },
   {
    "duration": 21,
    "start_time": "2023-07-23T13:58:48.501Z"
   },
   {
    "duration": 9,
    "start_time": "2023-07-23T13:58:48.524Z"
   },
   {
    "duration": 9,
    "start_time": "2023-07-23T13:58:48.535Z"
   },
   {
    "duration": 30,
    "start_time": "2023-07-23T13:58:48.545Z"
   },
   {
    "duration": 7,
    "start_time": "2023-07-23T13:58:48.577Z"
   },
   {
    "duration": 5,
    "start_time": "2023-07-23T13:58:48.586Z"
   },
   {
    "duration": 24,
    "start_time": "2023-07-23T13:58:48.592Z"
   },
   {
    "duration": 15,
    "start_time": "2023-07-23T13:58:48.618Z"
   },
   {
    "duration": 13,
    "start_time": "2023-07-23T13:58:48.635Z"
   },
   {
    "duration": 8,
    "start_time": "2023-07-23T13:58:48.649Z"
   },
   {
    "duration": 19,
    "start_time": "2023-07-23T13:58:48.659Z"
   },
   {
    "duration": 829,
    "start_time": "2023-07-23T13:58:48.681Z"
   },
   {
    "duration": 6,
    "start_time": "2023-07-23T13:58:49.512Z"
   },
   {
    "duration": 11,
    "start_time": "2023-07-23T13:58:49.519Z"
   },
   {
    "duration": 56,
    "start_time": "2023-07-23T13:58:49.532Z"
   },
   {
    "duration": 6,
    "start_time": "2023-07-23T13:58:49.590Z"
   },
   {
    "duration": 11,
    "start_time": "2023-07-23T13:58:49.597Z"
   },
   {
    "duration": 8,
    "start_time": "2023-07-23T13:58:49.609Z"
   },
   {
    "duration": 4,
    "start_time": "2023-07-23T13:58:49.618Z"
   },
   {
    "duration": 5,
    "start_time": "2023-07-23T13:58:49.624Z"
   },
   {
    "duration": 45,
    "start_time": "2023-07-23T13:58:49.630Z"
   },
   {
    "duration": 40,
    "start_time": "2023-07-23T13:58:49.677Z"
   },
   {
    "duration": 24,
    "start_time": "2023-07-23T13:58:49.719Z"
   },
   {
    "duration": 30,
    "start_time": "2023-07-23T13:58:49.745Z"
   },
   {
    "duration": 19,
    "start_time": "2023-07-23T13:58:49.776Z"
   },
   {
    "duration": 38,
    "start_time": "2023-07-23T13:58:49.797Z"
   },
   {
    "duration": 1233,
    "start_time": "2023-07-23T13:58:49.837Z"
   },
   {
    "duration": 1913,
    "start_time": "2023-07-23T13:58:51.075Z"
   },
   {
    "duration": 22152,
    "start_time": "2023-07-23T13:58:52.989Z"
   },
   {
    "duration": 3933,
    "start_time": "2023-07-23T13:59:15.143Z"
   },
   {
    "duration": 18,
    "start_time": "2023-07-23T14:00:02.831Z"
   },
   {
    "duration": 5,
    "start_time": "2023-07-23T14:00:54.224Z"
   },
   {
    "duration": 54,
    "start_time": "2023-07-23T14:00:54.231Z"
   },
   {
    "duration": 30,
    "start_time": "2023-07-23T14:00:54.286Z"
   },
   {
    "duration": 20,
    "start_time": "2023-07-23T14:00:54.319Z"
   },
   {
    "duration": 13,
    "start_time": "2023-07-23T14:00:54.342Z"
   },
   {
    "duration": 29,
    "start_time": "2023-07-23T14:00:54.357Z"
   },
   {
    "duration": 8,
    "start_time": "2023-07-23T14:00:54.388Z"
   },
   {
    "duration": 15,
    "start_time": "2023-07-23T14:00:54.398Z"
   },
   {
    "duration": 22,
    "start_time": "2023-07-23T14:00:54.414Z"
   },
   {
    "duration": 17,
    "start_time": "2023-07-23T14:00:54.439Z"
   },
   {
    "duration": 17,
    "start_time": "2023-07-23T14:00:54.458Z"
   },
   {
    "duration": 10,
    "start_time": "2023-07-23T14:00:54.477Z"
   },
   {
    "duration": 8,
    "start_time": "2023-07-23T14:00:54.489Z"
   },
   {
    "duration": 808,
    "start_time": "2023-07-23T14:00:54.499Z"
   },
   {
    "duration": 5,
    "start_time": "2023-07-23T14:00:55.309Z"
   },
   {
    "duration": 6,
    "start_time": "2023-07-23T14:00:55.316Z"
   },
   {
    "duration": 63,
    "start_time": "2023-07-23T14:00:55.324Z"
   },
   {
    "duration": 6,
    "start_time": "2023-07-23T14:00:55.389Z"
   },
   {
    "duration": 7,
    "start_time": "2023-07-23T14:00:55.397Z"
   },
   {
    "duration": 15,
    "start_time": "2023-07-23T14:00:55.405Z"
   },
   {
    "duration": 8,
    "start_time": "2023-07-23T14:00:55.422Z"
   },
   {
    "duration": 6,
    "start_time": "2023-07-23T14:00:55.431Z"
   },
   {
    "duration": 35,
    "start_time": "2023-07-23T14:00:55.439Z"
   },
   {
    "duration": 18,
    "start_time": "2023-07-23T14:00:55.475Z"
   },
   {
    "duration": 7,
    "start_time": "2023-07-23T14:00:55.495Z"
   },
   {
    "duration": 14,
    "start_time": "2023-07-23T14:00:55.504Z"
   },
   {
    "duration": 15,
    "start_time": "2023-07-23T14:00:55.520Z"
   },
   {
    "duration": 17,
    "start_time": "2023-07-23T14:01:08.592Z"
   },
   {
    "duration": 7,
    "start_time": "2023-07-23T14:01:53.506Z"
   },
   {
    "duration": 21,
    "start_time": "2023-07-23T14:01:54.111Z"
   },
   {
    "duration": 25,
    "start_time": "2023-07-23T14:02:01.355Z"
   },
   {
    "duration": 18,
    "start_time": "2023-07-23T14:02:11.527Z"
   },
   {
    "duration": 5,
    "start_time": "2023-07-23T14:02:25.800Z"
   },
   {
    "duration": 4,
    "start_time": "2023-07-23T14:02:33.975Z"
   },
   {
    "duration": 55,
    "start_time": "2023-07-23T14:02:33.981Z"
   },
   {
    "duration": 31,
    "start_time": "2023-07-23T14:02:34.039Z"
   },
   {
    "duration": 6,
    "start_time": "2023-07-23T14:02:34.073Z"
   },
   {
    "duration": 6,
    "start_time": "2023-07-23T14:02:34.082Z"
   },
   {
    "duration": 23,
    "start_time": "2023-07-23T14:02:34.089Z"
   },
   {
    "duration": 12,
    "start_time": "2023-07-23T14:02:34.114Z"
   },
   {
    "duration": 3,
    "start_time": "2023-07-23T14:02:34.128Z"
   },
   {
    "duration": 23,
    "start_time": "2023-07-23T14:02:34.160Z"
   },
   {
    "duration": 37,
    "start_time": "2023-07-23T14:02:34.185Z"
   },
   {
    "duration": 15,
    "start_time": "2023-07-23T14:02:34.226Z"
   },
   {
    "duration": 8,
    "start_time": "2023-07-23T14:02:34.243Z"
   },
   {
    "duration": 12,
    "start_time": "2023-07-23T14:02:34.253Z"
   },
   {
    "duration": 871,
    "start_time": "2023-07-23T14:02:34.267Z"
   },
   {
    "duration": 6,
    "start_time": "2023-07-23T14:02:35.141Z"
   },
   {
    "duration": 25,
    "start_time": "2023-07-23T14:02:35.148Z"
   },
   {
    "duration": 50,
    "start_time": "2023-07-23T14:02:35.178Z"
   },
   {
    "duration": 6,
    "start_time": "2023-07-23T14:02:35.230Z"
   },
   {
    "duration": 7,
    "start_time": "2023-07-23T14:02:35.237Z"
   },
   {
    "duration": 9,
    "start_time": "2023-07-23T14:02:35.264Z"
   },
   {
    "duration": 7,
    "start_time": "2023-07-23T14:02:35.275Z"
   },
   {
    "duration": 13,
    "start_time": "2023-07-23T14:02:35.284Z"
   },
   {
    "duration": 4,
    "start_time": "2023-07-23T14:02:35.299Z"
   },
   {
    "duration": 8,
    "start_time": "2023-07-23T14:02:35.308Z"
   },
   {
    "duration": 5,
    "start_time": "2023-07-23T14:02:35.318Z"
   },
   {
    "duration": 71,
    "start_time": "2023-07-23T14:02:35.325Z"
   },
   {
    "duration": 95,
    "start_time": "2023-07-23T14:02:35.398Z"
   },
   {
    "duration": 433,
    "start_time": "2023-07-23T14:02:50.610Z"
   },
   {
    "duration": 408,
    "start_time": "2023-07-23T14:03:10.996Z"
   },
   {
    "duration": 503,
    "start_time": "2023-07-23T14:03:18.923Z"
   },
   {
    "duration": 12,
    "start_time": "2023-07-23T14:05:06.124Z"
   },
   {
    "duration": 660,
    "start_time": "2023-07-23T14:05:14.200Z"
   },
   {
    "duration": 4,
    "start_time": "2023-07-23T14:08:57.107Z"
   },
   {
    "duration": 49,
    "start_time": "2023-07-23T14:08:57.114Z"
   },
   {
    "duration": 19,
    "start_time": "2023-07-23T14:08:57.165Z"
   },
   {
    "duration": 13,
    "start_time": "2023-07-23T14:08:57.186Z"
   },
   {
    "duration": 10,
    "start_time": "2023-07-23T14:08:57.201Z"
   },
   {
    "duration": 29,
    "start_time": "2023-07-23T14:08:57.213Z"
   },
   {
    "duration": 32,
    "start_time": "2023-07-23T14:08:57.244Z"
   },
   {
    "duration": 8,
    "start_time": "2023-07-23T14:08:57.278Z"
   },
   {
    "duration": 19,
    "start_time": "2023-07-23T14:08:57.288Z"
   },
   {
    "duration": 27,
    "start_time": "2023-07-23T14:08:57.309Z"
   },
   {
    "duration": 34,
    "start_time": "2023-07-23T14:08:57.338Z"
   },
   {
    "duration": 6,
    "start_time": "2023-07-23T14:08:57.374Z"
   },
   {
    "duration": 26,
    "start_time": "2023-07-23T14:08:57.382Z"
   },
   {
    "duration": 857,
    "start_time": "2023-07-23T14:08:57.412Z"
   },
   {
    "duration": 5,
    "start_time": "2023-07-23T14:08:58.271Z"
   },
   {
    "duration": 16,
    "start_time": "2023-07-23T14:08:58.277Z"
   },
   {
    "duration": 46,
    "start_time": "2023-07-23T14:08:58.295Z"
   },
   {
    "duration": 17,
    "start_time": "2023-07-23T14:08:58.343Z"
   },
   {
    "duration": 28,
    "start_time": "2023-07-23T14:08:58.361Z"
   },
   {
    "duration": 15,
    "start_time": "2023-07-23T14:08:58.391Z"
   },
   {
    "duration": 18,
    "start_time": "2023-07-23T14:08:58.407Z"
   },
   {
    "duration": 6,
    "start_time": "2023-07-23T14:08:58.427Z"
   },
   {
    "duration": 3,
    "start_time": "2023-07-23T14:08:58.435Z"
   },
   {
    "duration": 12,
    "start_time": "2023-07-23T14:08:58.440Z"
   },
   {
    "duration": 19,
    "start_time": "2023-07-23T14:08:58.453Z"
   },
   {
    "duration": 9,
    "start_time": "2023-07-23T14:08:58.474Z"
   },
   {
    "duration": 8,
    "start_time": "2023-07-23T14:08:58.484Z"
   },
   {
    "duration": 1471,
    "start_time": "2023-07-23T14:09:14.414Z"
   },
   {
    "duration": 42,
    "start_time": "2023-07-23T14:09:15.886Z"
   },
   {
    "duration": 27,
    "start_time": "2023-07-23T14:09:15.929Z"
   },
   {
    "duration": 5,
    "start_time": "2023-07-23T14:09:15.958Z"
   },
   {
    "duration": 13,
    "start_time": "2023-07-23T14:09:15.965Z"
   },
   {
    "duration": 19,
    "start_time": "2023-07-23T14:09:15.980Z"
   },
   {
    "duration": 8,
    "start_time": "2023-07-23T14:09:16.001Z"
   },
   {
    "duration": 2,
    "start_time": "2023-07-23T14:09:16.011Z"
   },
   {
    "duration": 6,
    "start_time": "2023-07-23T14:09:16.015Z"
   },
   {
    "duration": 43,
    "start_time": "2023-07-23T14:09:16.024Z"
   },
   {
    "duration": 13,
    "start_time": "2023-07-23T14:09:16.069Z"
   },
   {
    "duration": 6,
    "start_time": "2023-07-23T14:09:16.084Z"
   },
   {
    "duration": 15,
    "start_time": "2023-07-23T14:09:16.092Z"
   },
   {
    "duration": 873,
    "start_time": "2023-07-23T14:09:16.108Z"
   },
   {
    "duration": 4,
    "start_time": "2023-07-23T14:09:16.983Z"
   },
   {
    "duration": 14,
    "start_time": "2023-07-23T14:09:16.988Z"
   },
   {
    "duration": 44,
    "start_time": "2023-07-23T14:09:17.004Z"
   },
   {
    "duration": 5,
    "start_time": "2023-07-23T14:09:17.050Z"
   },
   {
    "duration": 7,
    "start_time": "2023-07-23T14:09:17.058Z"
   },
   {
    "duration": 8,
    "start_time": "2023-07-23T14:09:17.067Z"
   },
   {
    "duration": 34,
    "start_time": "2023-07-23T14:09:17.076Z"
   },
   {
    "duration": 6,
    "start_time": "2023-07-23T14:09:17.112Z"
   },
   {
    "duration": 13,
    "start_time": "2023-07-23T14:09:17.120Z"
   },
   {
    "duration": 11,
    "start_time": "2023-07-23T14:09:17.134Z"
   },
   {
    "duration": 5,
    "start_time": "2023-07-23T14:09:17.146Z"
   },
   {
    "duration": 10,
    "start_time": "2023-07-23T14:09:17.152Z"
   },
   {
    "duration": 8,
    "start_time": "2023-07-23T14:09:17.163Z"
   },
   {
    "duration": 47,
    "start_time": "2023-07-23T14:09:17.174Z"
   },
   {
    "duration": 238,
    "start_time": "2023-07-23T14:09:17.222Z"
   },
   {
    "duration": 1903,
    "start_time": "2023-07-23T14:09:17.464Z"
   },
   {
    "duration": 20650,
    "start_time": "2023-07-23T14:09:19.369Z"
   },
   {
    "duration": 3657,
    "start_time": "2023-07-23T14:09:40.021Z"
   },
   {
    "duration": 185,
    "start_time": "2023-07-23T14:09:43.680Z"
   },
   {
    "duration": 1893,
    "start_time": "2023-07-23T14:09:43.867Z"
   },
   {
    "duration": 20583,
    "start_time": "2023-07-23T14:09:45.762Z"
   },
   {
    "duration": 2573,
    "start_time": "2023-07-23T14:10:06.347Z"
   },
   {
    "duration": 4,
    "start_time": "2023-07-23T14:10:08.922Z"
   },
   {
    "duration": 30,
    "start_time": "2023-07-23T14:10:08.927Z"
   },
   {
    "duration": 304,
    "start_time": "2023-07-23T14:10:08.960Z"
   },
   {
    "duration": 2227,
    "start_time": "2023-07-23T14:10:09.265Z"
   },
   {
    "duration": 26777,
    "start_time": "2023-07-23T14:10:11.494Z"
   },
   {
    "duration": 4319,
    "start_time": "2023-07-23T14:10:38.273Z"
   },
   {
    "duration": 4,
    "start_time": "2023-07-23T14:10:42.594Z"
   },
   {
    "duration": 34,
    "start_time": "2023-07-23T14:10:42.600Z"
   },
   {
    "duration": 342,
    "start_time": "2023-07-23T14:10:42.636Z"
   },
   {
    "duration": 815,
    "start_time": "2023-07-23T14:10:42.982Z"
   },
   {
    "duration": 1514,
    "start_time": "2023-07-23T14:10:51.909Z"
   },
   {
    "duration": 10,
    "start_time": "2023-07-23T14:10:59.054Z"
   },
   {
    "duration": 5,
    "start_time": "2023-07-23T14:11:13.357Z"
   },
   {
    "duration": 47,
    "start_time": "2023-07-23T14:11:13.364Z"
   },
   {
    "duration": 33,
    "start_time": "2023-07-23T14:11:13.413Z"
   },
   {
    "duration": 5,
    "start_time": "2023-07-23T14:11:13.448Z"
   },
   {
    "duration": 34,
    "start_time": "2023-07-23T14:11:13.457Z"
   },
   {
    "duration": 33,
    "start_time": "2023-07-23T14:11:13.493Z"
   },
   {
    "duration": 7,
    "start_time": "2023-07-23T14:11:13.528Z"
   },
   {
    "duration": 3,
    "start_time": "2023-07-23T14:11:13.537Z"
   },
   {
    "duration": 18,
    "start_time": "2023-07-23T14:11:13.541Z"
   },
   {
    "duration": 27,
    "start_time": "2023-07-23T14:11:13.561Z"
   },
   {
    "duration": 14,
    "start_time": "2023-07-23T14:11:13.590Z"
   },
   {
    "duration": 8,
    "start_time": "2023-07-23T14:11:13.606Z"
   },
   {
    "duration": 11,
    "start_time": "2023-07-23T14:11:13.616Z"
   },
   {
    "duration": 1028,
    "start_time": "2023-07-23T14:11:13.629Z"
   },
   {
    "duration": 6,
    "start_time": "2023-07-23T14:11:14.659Z"
   },
   {
    "duration": 30,
    "start_time": "2023-07-23T14:11:14.667Z"
   },
   {
    "duration": 55,
    "start_time": "2023-07-23T14:11:14.699Z"
   },
   {
    "duration": 9,
    "start_time": "2023-07-23T14:11:14.756Z"
   },
   {
    "duration": 14,
    "start_time": "2023-07-23T14:11:14.767Z"
   },
   {
    "duration": 9,
    "start_time": "2023-07-23T14:11:14.783Z"
   },
   {
    "duration": 5,
    "start_time": "2023-07-23T14:11:14.794Z"
   },
   {
    "duration": 13,
    "start_time": "2023-07-23T14:11:14.801Z"
   },
   {
    "duration": 4,
    "start_time": "2023-07-23T14:11:14.816Z"
   },
   {
    "duration": 7,
    "start_time": "2023-07-23T14:11:14.822Z"
   },
   {
    "duration": 28,
    "start_time": "2023-07-23T14:11:14.831Z"
   },
   {
    "duration": 10,
    "start_time": "2023-07-23T14:11:14.861Z"
   },
   {
    "duration": 8,
    "start_time": "2023-07-23T14:11:14.873Z"
   },
   {
    "duration": 5,
    "start_time": "2023-07-23T14:11:26.606Z"
   },
   {
    "duration": 47,
    "start_time": "2023-07-23T14:11:26.614Z"
   },
   {
    "duration": 26,
    "start_time": "2023-07-23T14:11:26.662Z"
   },
   {
    "duration": 5,
    "start_time": "2023-07-23T14:11:26.690Z"
   },
   {
    "duration": 10,
    "start_time": "2023-07-23T14:11:26.696Z"
   },
   {
    "duration": 13,
    "start_time": "2023-07-23T14:11:26.707Z"
   },
   {
    "duration": 8,
    "start_time": "2023-07-23T14:11:26.721Z"
   },
   {
    "duration": 2,
    "start_time": "2023-07-23T14:11:26.731Z"
   },
   {
    "duration": 13,
    "start_time": "2023-07-23T14:11:26.760Z"
   },
   {
    "duration": 13,
    "start_time": "2023-07-23T14:11:26.777Z"
   },
   {
    "duration": 11,
    "start_time": "2023-07-23T14:11:26.792Z"
   },
   {
    "duration": 6,
    "start_time": "2023-07-23T14:11:26.805Z"
   },
   {
    "duration": 25,
    "start_time": "2023-07-23T14:11:26.812Z"
   },
   {
    "duration": 959,
    "start_time": "2023-07-23T14:11:26.839Z"
   },
   {
    "duration": 6,
    "start_time": "2023-07-23T14:11:27.801Z"
   },
   {
    "duration": 7,
    "start_time": "2023-07-23T14:11:27.808Z"
   },
   {
    "duration": 73,
    "start_time": "2023-07-23T14:11:27.817Z"
   },
   {
    "duration": 6,
    "start_time": "2023-07-23T14:11:27.892Z"
   },
   {
    "duration": 6,
    "start_time": "2023-07-23T14:11:27.900Z"
   },
   {
    "duration": 7,
    "start_time": "2023-07-23T14:11:27.907Z"
   },
   {
    "duration": 4,
    "start_time": "2023-07-23T14:11:27.916Z"
   },
   {
    "duration": 7,
    "start_time": "2023-07-23T14:11:27.922Z"
   },
   {
    "duration": 3,
    "start_time": "2023-07-23T14:11:27.931Z"
   },
   {
    "duration": 14,
    "start_time": "2023-07-23T14:11:27.960Z"
   },
   {
    "duration": 7,
    "start_time": "2023-07-23T14:11:27.976Z"
   },
   {
    "duration": 14,
    "start_time": "2023-07-23T14:11:27.985Z"
   },
   {
    "duration": 7,
    "start_time": "2023-07-23T14:11:28.001Z"
   },
   {
    "duration": 51,
    "start_time": "2023-07-23T14:11:28.011Z"
   },
   {
    "duration": 28,
    "start_time": "2023-07-23T14:11:33.919Z"
   },
   {
    "duration": 172,
    "start_time": "2023-07-23T14:11:55.610Z"
   },
   {
    "duration": 1870,
    "start_time": "2023-07-23T14:12:09.153Z"
   },
   {
    "duration": 21878,
    "start_time": "2023-07-23T14:12:22.843Z"
   },
   {
    "duration": 3760,
    "start_time": "2023-07-23T14:12:58.023Z"
   },
   {
    "duration": 41,
    "start_time": "2023-07-23T14:13:29.640Z"
   },
   {
    "duration": 1887,
    "start_time": "2023-07-23T14:13:34.138Z"
   },
   {
    "duration": 20205,
    "start_time": "2023-07-23T14:13:43.815Z"
   },
   {
    "duration": 2586,
    "start_time": "2023-07-23T14:14:04.022Z"
   },
   {
    "duration": 4,
    "start_time": "2023-07-23T14:14:28.876Z"
   },
   {
    "duration": 11,
    "start_time": "2023-07-23T14:14:31.174Z"
   },
   {
    "duration": 309,
    "start_time": "2023-07-23T14:14:34.354Z"
   },
   {
    "duration": 2073,
    "start_time": "2023-07-23T14:14:38.957Z"
   },
   {
    "duration": 25348,
    "start_time": "2023-07-23T14:14:44.339Z"
   },
   {
    "duration": 4061,
    "start_time": "2023-07-23T14:15:09.689Z"
   },
   {
    "duration": 4,
    "start_time": "2023-07-23T14:15:32.096Z"
   },
   {
    "duration": 11,
    "start_time": "2023-07-23T14:15:35.057Z"
   },
   {
    "duration": 212,
    "start_time": "2023-07-23T14:15:36.862Z"
   },
   {
    "duration": 693,
    "start_time": "2023-07-23T14:15:38.998Z"
   },
   {
    "duration": 9331,
    "start_time": "2023-07-23T14:15:41.962Z"
   },
   {
    "duration": 1209,
    "start_time": "2023-07-23T14:16:03.074Z"
   },
   {
    "duration": 402,
    "start_time": "2023-07-23T14:17:24.814Z"
   },
   {
    "duration": 652,
    "start_time": "2023-07-23T14:17:25.225Z"
   },
   {
    "duration": 406,
    "start_time": "2023-07-23T14:17:48.571Z"
   },
   {
    "duration": 399,
    "start_time": "2023-07-23T14:17:55.231Z"
   },
   {
    "duration": 410,
    "start_time": "2023-07-23T14:18:07.312Z"
   },
   {
    "duration": 687,
    "start_time": "2023-07-23T14:18:07.725Z"
   },
   {
    "duration": 3,
    "start_time": "2023-07-23T14:20:27.352Z"
   },
   {
    "duration": 43,
    "start_time": "2023-07-23T14:20:27.357Z"
   },
   {
    "duration": 20,
    "start_time": "2023-07-23T14:20:27.402Z"
   },
   {
    "duration": 4,
    "start_time": "2023-07-23T14:20:27.425Z"
   },
   {
    "duration": 5,
    "start_time": "2023-07-23T14:20:27.432Z"
   },
   {
    "duration": 31,
    "start_time": "2023-07-23T14:20:27.438Z"
   },
   {
    "duration": 8,
    "start_time": "2023-07-23T14:20:27.471Z"
   },
   {
    "duration": 3,
    "start_time": "2023-07-23T14:20:27.481Z"
   },
   {
    "duration": 17,
    "start_time": "2023-07-23T14:20:27.486Z"
   },
   {
    "duration": 14,
    "start_time": "2023-07-23T14:20:27.505Z"
   },
   {
    "duration": 10,
    "start_time": "2023-07-23T14:20:27.521Z"
   },
   {
    "duration": 5,
    "start_time": "2023-07-23T14:20:27.533Z"
   },
   {
    "duration": 6,
    "start_time": "2023-07-23T14:20:27.560Z"
   },
   {
    "duration": 801,
    "start_time": "2023-07-23T14:20:27.569Z"
   },
   {
    "duration": 6,
    "start_time": "2023-07-23T14:20:28.372Z"
   },
   {
    "duration": 7,
    "start_time": "2023-07-23T14:20:28.379Z"
   },
   {
    "duration": 41,
    "start_time": "2023-07-23T14:20:28.388Z"
   },
   {
    "duration": 6,
    "start_time": "2023-07-23T14:20:28.431Z"
   },
   {
    "duration": 5,
    "start_time": "2023-07-23T14:20:28.460Z"
   },
   {
    "duration": 6,
    "start_time": "2023-07-23T14:20:28.467Z"
   },
   {
    "duration": 5,
    "start_time": "2023-07-23T14:20:28.474Z"
   },
   {
    "duration": 9,
    "start_time": "2023-07-23T14:20:28.481Z"
   },
   {
    "duration": 4,
    "start_time": "2023-07-23T14:20:28.492Z"
   },
   {
    "duration": 6,
    "start_time": "2023-07-23T14:20:28.498Z"
   },
   {
    "duration": 4,
    "start_time": "2023-07-23T14:20:28.506Z"
   },
   {
    "duration": 7,
    "start_time": "2023-07-23T14:20:28.511Z"
   },
   {
    "duration": 44,
    "start_time": "2023-07-23T14:20:28.520Z"
   },
   {
    "duration": 29,
    "start_time": "2023-07-23T14:20:28.566Z"
   },
   {
    "duration": 264,
    "start_time": "2023-07-23T14:20:28.596Z"
   },
   {
    "duration": 1914,
    "start_time": "2023-07-23T14:20:28.862Z"
   },
   {
    "duration": 20717,
    "start_time": "2023-07-23T14:20:30.778Z"
   },
   {
    "duration": 3587,
    "start_time": "2023-07-23T14:20:51.497Z"
   },
   {
    "duration": 180,
    "start_time": "2023-07-23T14:20:55.086Z"
   },
   {
    "duration": 1850,
    "start_time": "2023-07-23T14:20:55.268Z"
   },
   {
    "duration": 20336,
    "start_time": "2023-07-23T14:20:57.120Z"
   },
   {
    "duration": 2578,
    "start_time": "2023-07-23T14:21:17.459Z"
   },
   {
    "duration": 4,
    "start_time": "2023-07-23T14:21:20.039Z"
   },
   {
    "duration": 26,
    "start_time": "2023-07-23T14:21:20.045Z"
   },
   {
    "duration": 191,
    "start_time": "2023-07-23T14:21:20.073Z"
   },
   {
    "duration": 2428,
    "start_time": "2023-07-23T14:21:20.267Z"
   },
   {
    "duration": 29886,
    "start_time": "2023-07-23T14:21:22.699Z"
   },
   {
    "duration": 4679,
    "start_time": "2023-07-23T14:21:52.587Z"
   },
   {
    "duration": 5,
    "start_time": "2023-07-23T14:21:57.269Z"
   },
   {
    "duration": 23,
    "start_time": "2023-07-23T14:21:57.276Z"
   },
   {
    "duration": 558,
    "start_time": "2023-07-23T14:21:57.301Z"
   },
   {
    "duration": 721,
    "start_time": "2023-07-23T14:21:57.861Z"
   },
   {
    "duration": 9624,
    "start_time": "2023-07-23T14:21:58.584Z"
   },
   {
    "duration": 1172,
    "start_time": "2023-07-23T14:22:08.210Z"
   },
   {
    "duration": 395,
    "start_time": "2023-07-23T14:22:09.384Z"
   },
   {
    "duration": 684,
    "start_time": "2023-07-23T14:22:09.781Z"
   },
   {
    "duration": 341,
    "start_time": "2023-07-23T14:25:19.973Z"
   },
   {
    "duration": 625,
    "start_time": "2023-07-23T14:25:23.342Z"
   },
   {
    "duration": 228,
    "start_time": "2023-07-23T14:26:05.331Z"
   },
   {
    "duration": 371,
    "start_time": "2023-07-23T14:27:08.058Z"
   },
   {
    "duration": 352,
    "start_time": "2023-07-23T14:28:03.632Z"
   },
   {
    "duration": 357,
    "start_time": "2023-07-23T14:29:10.573Z"
   },
   {
    "duration": 366,
    "start_time": "2023-07-23T14:29:29.973Z"
   },
   {
    "duration": 398,
    "start_time": "2023-07-23T14:29:44.097Z"
   },
   {
    "duration": 216,
    "start_time": "2023-07-23T14:30:12.817Z"
   },
   {
    "duration": 351,
    "start_time": "2023-07-23T14:30:23.124Z"
   },
   {
    "duration": 224,
    "start_time": "2023-07-23T14:30:28.831Z"
   },
   {
    "duration": 4,
    "start_time": "2023-07-23T14:31:33.992Z"
   },
   {
    "duration": 47,
    "start_time": "2023-07-23T14:31:33.998Z"
   },
   {
    "duration": 30,
    "start_time": "2023-07-23T14:31:34.047Z"
   },
   {
    "duration": 6,
    "start_time": "2023-07-23T14:31:34.079Z"
   },
   {
    "duration": 6,
    "start_time": "2023-07-23T14:31:34.087Z"
   },
   {
    "duration": 18,
    "start_time": "2023-07-23T14:31:34.095Z"
   },
   {
    "duration": 11,
    "start_time": "2023-07-23T14:31:34.115Z"
   },
   {
    "duration": 31,
    "start_time": "2023-07-23T14:31:34.128Z"
   },
   {
    "duration": 6,
    "start_time": "2023-07-23T14:31:34.161Z"
   },
   {
    "duration": 15,
    "start_time": "2023-07-23T14:31:34.169Z"
   },
   {
    "duration": 14,
    "start_time": "2023-07-23T14:31:34.187Z"
   },
   {
    "duration": 6,
    "start_time": "2023-07-23T14:31:34.203Z"
   },
   {
    "duration": 11,
    "start_time": "2023-07-23T14:31:34.211Z"
   },
   {
    "duration": 793,
    "start_time": "2023-07-23T14:31:34.260Z"
   },
   {
    "duration": 8,
    "start_time": "2023-07-23T14:31:35.054Z"
   },
   {
    "duration": 5,
    "start_time": "2023-07-23T14:31:35.063Z"
   },
   {
    "duration": 43,
    "start_time": "2023-07-23T14:31:35.070Z"
   },
   {
    "duration": 5,
    "start_time": "2023-07-23T14:31:35.115Z"
   },
   {
    "duration": 12,
    "start_time": "2023-07-23T14:31:35.122Z"
   },
   {
    "duration": 8,
    "start_time": "2023-07-23T14:31:35.135Z"
   },
   {
    "duration": 5,
    "start_time": "2023-07-23T14:31:35.158Z"
   },
   {
    "duration": 5,
    "start_time": "2023-07-23T14:31:35.164Z"
   },
   {
    "duration": 8,
    "start_time": "2023-07-23T14:31:35.170Z"
   },
   {
    "duration": 8,
    "start_time": "2023-07-23T14:31:35.179Z"
   },
   {
    "duration": 13,
    "start_time": "2023-07-23T14:31:35.189Z"
   },
   {
    "duration": 7,
    "start_time": "2023-07-23T14:31:35.205Z"
   },
   {
    "duration": 6,
    "start_time": "2023-07-23T14:31:35.214Z"
   },
   {
    "duration": 51,
    "start_time": "2023-07-23T14:31:35.221Z"
   },
   {
    "duration": 194,
    "start_time": "2023-07-23T14:31:35.274Z"
   },
   {
    "duration": 1852,
    "start_time": "2023-07-23T14:31:35.563Z"
   },
   {
    "duration": 19959,
    "start_time": "2023-07-23T14:31:37.417Z"
   },
   {
    "duration": 3496,
    "start_time": "2023-07-23T14:31:57.378Z"
   },
   {
    "duration": 192,
    "start_time": "2023-07-23T14:32:00.876Z"
   },
   {
    "duration": 1820,
    "start_time": "2023-07-23T14:32:01.160Z"
   },
   {
    "duration": 20019,
    "start_time": "2023-07-23T14:32:02.982Z"
   },
   {
    "duration": 2663,
    "start_time": "2023-07-23T14:32:23.003Z"
   },
   {
    "duration": 4,
    "start_time": "2023-07-23T14:32:25.668Z"
   },
   {
    "duration": 16,
    "start_time": "2023-07-23T14:32:25.673Z"
   },
   {
    "duration": 574,
    "start_time": "2023-07-23T14:32:25.691Z"
   },
   {
    "duration": 2313,
    "start_time": "2023-07-23T14:32:26.358Z"
   },
   {
    "duration": 29871,
    "start_time": "2023-07-23T14:32:28.675Z"
   },
   {
    "duration": 4644,
    "start_time": "2023-07-23T14:32:58.548Z"
   },
   {
    "duration": 5,
    "start_time": "2023-07-23T14:33:03.194Z"
   },
   {
    "duration": 21,
    "start_time": "2023-07-23T14:33:03.200Z"
   },
   {
    "duration": 238,
    "start_time": "2023-07-23T14:33:03.222Z"
   },
   {
    "duration": 862,
    "start_time": "2023-07-23T14:33:03.463Z"
   },
   {
    "duration": 9559,
    "start_time": "2023-07-23T14:33:04.328Z"
   },
   {
    "duration": 1264,
    "start_time": "2023-07-23T14:33:13.889Z"
   },
   {
    "duration": 373,
    "start_time": "2023-07-23T14:33:15.158Z"
   },
   {
    "duration": 241,
    "start_time": "2023-07-23T14:33:15.533Z"
   },
   {
    "duration": 3,
    "start_time": "2023-07-23T14:34:01.053Z"
   },
   {
    "duration": 367,
    "start_time": "2023-07-23T14:38:11.630Z"
   },
   {
    "duration": 355,
    "start_time": "2023-07-23T14:39:12.059Z"
   },
   {
    "duration": 579,
    "start_time": "2023-07-23T14:39:13.010Z"
   },
   {
    "duration": 240,
    "start_time": "2023-07-23T14:39:51.124Z"
   },
   {
    "duration": 145,
    "start_time": "2023-07-23T14:40:03.168Z"
   },
   {
    "duration": 88,
    "start_time": "2023-07-23T14:40:07.129Z"
   },
   {
    "duration": 251,
    "start_time": "2023-07-23T14:40:10.286Z"
   },
   {
    "duration": 4402,
    "start_time": "2023-07-23T14:41:11.552Z"
   },
   {
    "duration": 871,
    "start_time": "2023-07-23T14:41:47.943Z"
   },
   {
    "duration": 402,
    "start_time": "2023-07-23T14:42:03.063Z"
   },
   {
    "duration": 890,
    "start_time": "2023-07-23T14:42:03.466Z"
   },
   {
    "duration": 4,
    "start_time": "2023-07-23T14:46:03.582Z"
   },
   {
    "duration": 55,
    "start_time": "2023-07-23T14:46:03.589Z"
   },
   {
    "duration": 41,
    "start_time": "2023-07-23T14:46:03.646Z"
   },
   {
    "duration": 73,
    "start_time": "2023-07-23T14:46:03.689Z"
   },
   {
    "duration": 17,
    "start_time": "2023-07-23T14:46:03.764Z"
   },
   {
    "duration": 70,
    "start_time": "2023-07-23T14:46:03.783Z"
   },
   {
    "duration": 31,
    "start_time": "2023-07-23T14:46:03.855Z"
   },
   {
    "duration": 42,
    "start_time": "2023-07-23T14:46:03.888Z"
   },
   {
    "duration": 27,
    "start_time": "2023-07-23T14:46:03.932Z"
   },
   {
    "duration": 62,
    "start_time": "2023-07-23T14:46:03.961Z"
   },
   {
    "duration": 24,
    "start_time": "2023-07-23T14:46:04.027Z"
   },
   {
    "duration": 40,
    "start_time": "2023-07-23T14:46:04.053Z"
   },
   {
    "duration": 20,
    "start_time": "2023-07-23T14:46:04.095Z"
   },
   {
    "duration": 969,
    "start_time": "2023-07-23T14:46:04.119Z"
   },
   {
    "duration": 5,
    "start_time": "2023-07-23T14:46:05.089Z"
   },
   {
    "duration": 30,
    "start_time": "2023-07-23T14:46:05.096Z"
   },
   {
    "duration": 62,
    "start_time": "2023-07-23T14:46:05.128Z"
   },
   {
    "duration": 5,
    "start_time": "2023-07-23T14:46:05.192Z"
   },
   {
    "duration": 23,
    "start_time": "2023-07-23T14:46:05.199Z"
   },
   {
    "duration": 15,
    "start_time": "2023-07-23T14:46:05.224Z"
   },
   {
    "duration": 10,
    "start_time": "2023-07-23T14:46:05.241Z"
   },
   {
    "duration": 29,
    "start_time": "2023-07-23T14:46:05.252Z"
   },
   {
    "duration": 13,
    "start_time": "2023-07-23T14:46:05.283Z"
   },
   {
    "duration": 17,
    "start_time": "2023-07-23T14:46:05.298Z"
   },
   {
    "duration": 30,
    "start_time": "2023-07-23T14:46:05.317Z"
   },
   {
    "duration": 23,
    "start_time": "2023-07-23T14:46:05.350Z"
   },
   {
    "duration": 31,
    "start_time": "2023-07-23T14:46:05.375Z"
   },
   {
    "duration": 53,
    "start_time": "2023-07-23T14:46:05.408Z"
   },
   {
    "duration": 296,
    "start_time": "2023-07-23T14:46:05.463Z"
   },
   {
    "duration": 1904,
    "start_time": "2023-07-23T14:46:05.761Z"
   },
   {
    "duration": 20788,
    "start_time": "2023-07-23T14:46:07.666Z"
   },
   {
    "duration": 3698,
    "start_time": "2023-07-23T14:46:28.458Z"
   },
   {
    "duration": 209,
    "start_time": "2023-07-23T14:46:32.159Z"
   },
   {
    "duration": 2106,
    "start_time": "2023-07-23T14:46:32.371Z"
   },
   {
    "duration": 20827,
    "start_time": "2023-07-23T14:46:34.479Z"
   },
   {
    "duration": 2645,
    "start_time": "2023-07-23T14:46:55.307Z"
   },
   {
    "duration": 4,
    "start_time": "2023-07-23T14:46:57.958Z"
   },
   {
    "duration": 26,
    "start_time": "2023-07-23T14:46:57.964Z"
   },
   {
    "duration": 274,
    "start_time": "2023-07-23T14:46:57.992Z"
   },
   {
    "duration": 2432,
    "start_time": "2023-07-23T14:46:58.268Z"
   },
   {
    "duration": 30316,
    "start_time": "2023-07-23T14:47:00.703Z"
   },
   {
    "duration": 4260,
    "start_time": "2023-07-23T14:47:31.021Z"
   },
   {
    "duration": 5,
    "start_time": "2023-07-23T14:47:35.284Z"
   },
   {
    "duration": 25,
    "start_time": "2023-07-23T14:47:35.291Z"
   },
   {
    "duration": 248,
    "start_time": "2023-07-23T14:47:35.318Z"
   },
   {
    "duration": 798,
    "start_time": "2023-07-23T14:47:35.567Z"
   },
   {
    "duration": 9596,
    "start_time": "2023-07-23T14:47:36.368Z"
   },
   {
    "duration": 1180,
    "start_time": "2023-07-23T14:47:45.967Z"
   },
   {
    "duration": 352,
    "start_time": "2023-07-23T14:47:47.149Z"
   },
   {
    "duration": 832,
    "start_time": "2023-07-23T14:47:47.503Z"
   },
   {
    "duration": 3,
    "start_time": "2023-07-23T14:47:48.338Z"
   },
   {
    "duration": 352,
    "start_time": "2023-07-23T14:49:29.107Z"
   },
   {
    "duration": 854,
    "start_time": "2023-07-23T14:49:29.952Z"
   },
   {
    "duration": 1504,
    "start_time": "2023-07-23T14:50:03.390Z"
   },
   {
    "duration": 41,
    "start_time": "2023-07-23T14:50:04.897Z"
   },
   {
    "duration": 27,
    "start_time": "2023-07-23T14:50:04.940Z"
   },
   {
    "duration": 4,
    "start_time": "2023-07-23T14:50:04.968Z"
   },
   {
    "duration": 6,
    "start_time": "2023-07-23T14:50:04.974Z"
   },
   {
    "duration": 16,
    "start_time": "2023-07-23T14:50:04.982Z"
   },
   {
    "duration": 17,
    "start_time": "2023-07-23T14:50:05.000Z"
   },
   {
    "duration": 5,
    "start_time": "2023-07-23T14:50:05.019Z"
   },
   {
    "duration": 31,
    "start_time": "2023-07-23T14:50:05.026Z"
   },
   {
    "duration": 20,
    "start_time": "2023-07-23T14:50:05.060Z"
   },
   {
    "duration": 12,
    "start_time": "2023-07-23T14:50:05.082Z"
   },
   {
    "duration": 21,
    "start_time": "2023-07-23T14:50:05.095Z"
   },
   {
    "duration": 25,
    "start_time": "2023-07-23T14:50:05.117Z"
   },
   {
    "duration": 824,
    "start_time": "2023-07-23T14:50:05.145Z"
   },
   {
    "duration": 5,
    "start_time": "2023-07-23T14:50:05.970Z"
   },
   {
    "duration": 32,
    "start_time": "2023-07-23T14:50:05.976Z"
   },
   {
    "duration": 66,
    "start_time": "2023-07-23T14:50:06.010Z"
   },
   {
    "duration": 10,
    "start_time": "2023-07-23T14:50:06.078Z"
   },
   {
    "duration": 23,
    "start_time": "2023-07-23T14:50:06.090Z"
   },
   {
    "duration": 16,
    "start_time": "2023-07-23T14:50:06.115Z"
   },
   {
    "duration": 6,
    "start_time": "2023-07-23T14:50:06.132Z"
   },
   {
    "duration": 5,
    "start_time": "2023-07-23T14:50:06.140Z"
   },
   {
    "duration": 14,
    "start_time": "2023-07-23T14:50:06.147Z"
   },
   {
    "duration": 17,
    "start_time": "2023-07-23T14:50:06.162Z"
   },
   {
    "duration": 22,
    "start_time": "2023-07-23T14:50:06.180Z"
   },
   {
    "duration": 16,
    "start_time": "2023-07-23T14:50:06.204Z"
   },
   {
    "duration": 17,
    "start_time": "2023-07-23T14:50:06.221Z"
   },
   {
    "duration": 30,
    "start_time": "2023-07-23T14:50:06.240Z"
   },
   {
    "duration": 289,
    "start_time": "2023-07-23T14:50:06.271Z"
   },
   {
    "duration": 3,
    "start_time": "2023-07-23T14:52:01.685Z"
   },
   {
    "duration": 1475,
    "start_time": "2023-07-23T14:52:10.085Z"
   },
   {
    "duration": 39,
    "start_time": "2023-07-23T14:52:11.562Z"
   },
   {
    "duration": 25,
    "start_time": "2023-07-23T14:52:11.603Z"
   },
   {
    "duration": 4,
    "start_time": "2023-07-23T14:52:11.629Z"
   },
   {
    "duration": 5,
    "start_time": "2023-07-23T14:52:11.635Z"
   },
   {
    "duration": 19,
    "start_time": "2023-07-23T14:52:11.641Z"
   },
   {
    "duration": 7,
    "start_time": "2023-07-23T14:52:11.661Z"
   },
   {
    "duration": 11,
    "start_time": "2023-07-23T14:52:11.669Z"
   },
   {
    "duration": 5,
    "start_time": "2023-07-23T14:52:11.682Z"
   },
   {
    "duration": 23,
    "start_time": "2023-07-23T14:52:11.689Z"
   },
   {
    "duration": 13,
    "start_time": "2023-07-23T14:52:11.713Z"
   },
   {
    "duration": 7,
    "start_time": "2023-07-23T14:52:11.728Z"
   },
   {
    "duration": 26,
    "start_time": "2023-07-23T14:52:11.737Z"
   },
   {
    "duration": 826,
    "start_time": "2023-07-23T14:52:11.767Z"
   },
   {
    "duration": 5,
    "start_time": "2023-07-23T14:52:12.595Z"
   },
   {
    "duration": 5,
    "start_time": "2023-07-23T14:52:12.602Z"
   },
   {
    "duration": 53,
    "start_time": "2023-07-23T14:52:12.608Z"
   },
   {
    "duration": 6,
    "start_time": "2023-07-23T14:52:12.663Z"
   },
   {
    "duration": 7,
    "start_time": "2023-07-23T14:52:12.671Z"
   },
   {
    "duration": 9,
    "start_time": "2023-07-23T14:52:12.680Z"
   },
   {
    "duration": 5,
    "start_time": "2023-07-23T14:52:12.691Z"
   },
   {
    "duration": 6,
    "start_time": "2023-07-23T14:52:12.698Z"
   },
   {
    "duration": 5,
    "start_time": "2023-07-23T14:52:12.706Z"
   },
   {
    "duration": 9,
    "start_time": "2023-07-23T14:52:12.712Z"
   },
   {
    "duration": 4,
    "start_time": "2023-07-23T14:52:12.723Z"
   },
   {
    "duration": 6,
    "start_time": "2023-07-23T14:52:12.760Z"
   },
   {
    "duration": 7,
    "start_time": "2023-07-23T14:52:12.767Z"
   },
   {
    "duration": 30,
    "start_time": "2023-07-23T14:52:12.776Z"
   },
   {
    "duration": 161,
    "start_time": "2023-07-23T14:52:12.808Z"
   },
   {
    "duration": 2040,
    "start_time": "2023-07-23T14:52:12.971Z"
   },
   {
    "duration": 20878,
    "start_time": "2023-07-23T14:52:15.012Z"
   },
   {
    "duration": 3687,
    "start_time": "2023-07-23T14:52:35.892Z"
   },
   {
    "duration": 184,
    "start_time": "2023-07-23T14:52:39.581Z"
   },
   {
    "duration": 1846,
    "start_time": "2023-07-23T14:52:39.767Z"
   },
   {
    "duration": 20433,
    "start_time": "2023-07-23T14:52:41.615Z"
   },
   {
    "duration": 2648,
    "start_time": "2023-07-23T14:53:02.051Z"
   },
   {
    "duration": 4,
    "start_time": "2023-07-23T14:53:04.702Z"
   },
   {
    "duration": 14,
    "start_time": "2023-07-23T14:53:04.708Z"
   },
   {
    "duration": 339,
    "start_time": "2023-07-23T14:53:04.724Z"
   },
   {
    "duration": 2417,
    "start_time": "2023-07-23T14:53:05.066Z"
   },
   {
    "duration": 29238,
    "start_time": "2023-07-23T14:53:07.487Z"
   },
   {
    "duration": 4134,
    "start_time": "2023-07-23T14:53:36.727Z"
   },
   {
    "duration": 4,
    "start_time": "2023-07-23T14:53:40.863Z"
   },
   {
    "duration": 14,
    "start_time": "2023-07-23T14:53:40.868Z"
   },
   {
    "duration": 181,
    "start_time": "2023-07-23T14:53:40.884Z"
   },
   {
    "duration": 819,
    "start_time": "2023-07-23T14:53:41.068Z"
   },
   {
    "duration": 9275,
    "start_time": "2023-07-23T14:53:41.890Z"
   },
   {
    "duration": 1162,
    "start_time": "2023-07-23T14:53:51.167Z"
   },
   {
    "duration": 348,
    "start_time": "2023-07-23T14:53:52.331Z"
   },
   {
    "duration": 797,
    "start_time": "2023-07-23T14:53:52.682Z"
   },
   {
    "duration": 3,
    "start_time": "2023-07-23T14:53:53.481Z"
   },
   {
    "duration": 82,
    "start_time": "2023-07-25T11:30:33.980Z"
   },
   {
    "duration": 2389,
    "start_time": "2023-07-25T11:30:44.301Z"
   },
   {
    "duration": 96,
    "start_time": "2023-07-25T11:30:46.693Z"
   },
   {
    "duration": 35,
    "start_time": "2023-07-25T11:30:46.792Z"
   },
   {
    "duration": 7,
    "start_time": "2023-07-25T11:30:46.829Z"
   },
   {
    "duration": 13,
    "start_time": "2023-07-25T11:30:46.839Z"
   },
   {
    "duration": 45,
    "start_time": "2023-07-25T11:30:46.855Z"
   },
   {
    "duration": 12,
    "start_time": "2023-07-25T11:30:46.902Z"
   },
   {
    "duration": 10,
    "start_time": "2023-07-25T11:30:46.916Z"
   },
   {
    "duration": 13,
    "start_time": "2023-07-25T11:30:46.928Z"
   },
   {
    "duration": 27,
    "start_time": "2023-07-25T11:30:46.944Z"
   },
   {
    "duration": 18,
    "start_time": "2023-07-25T11:30:46.974Z"
   },
   {
    "duration": 12,
    "start_time": "2023-07-25T11:30:46.995Z"
   },
   {
    "duration": 26,
    "start_time": "2023-07-25T11:30:47.010Z"
   },
   {
    "duration": 1112,
    "start_time": "2023-07-25T11:30:47.041Z"
   },
   {
    "duration": 6,
    "start_time": "2023-07-25T11:30:48.156Z"
   },
   {
    "duration": 14,
    "start_time": "2023-07-25T11:30:48.165Z"
   },
   {
    "duration": 78,
    "start_time": "2023-07-25T11:30:48.181Z"
   },
   {
    "duration": 13,
    "start_time": "2023-07-25T11:30:48.266Z"
   },
   {
    "duration": 78,
    "start_time": "2023-07-25T11:30:48.285Z"
   },
   {
    "duration": 52,
    "start_time": "2023-07-25T11:30:48.367Z"
   },
   {
    "duration": 72,
    "start_time": "2023-07-25T11:30:48.422Z"
   },
   {
    "duration": 56,
    "start_time": "2023-07-25T11:30:48.496Z"
   },
   {
    "duration": 56,
    "start_time": "2023-07-25T11:30:48.554Z"
   },
   {
    "duration": 39,
    "start_time": "2023-07-25T11:30:48.612Z"
   },
   {
    "duration": 24,
    "start_time": "2023-07-25T11:30:48.653Z"
   },
   {
    "duration": 37,
    "start_time": "2023-07-25T11:30:48.679Z"
   },
   {
    "duration": 29,
    "start_time": "2023-07-25T11:30:48.719Z"
   },
   {
    "duration": 68,
    "start_time": "2023-07-25T11:30:48.751Z"
   },
   {
    "duration": 1949,
    "start_time": "2023-07-25T11:30:48.821Z"
   },
   {
    "duration": 2500,
    "start_time": "2023-07-25T11:30:50.777Z"
   },
   {
    "duration": 26250,
    "start_time": "2023-07-25T11:30:53.279Z"
   },
   {
    "duration": 4117,
    "start_time": "2023-07-25T11:31:19.531Z"
   },
   {
    "duration": 1905,
    "start_time": "2023-07-25T11:31:23.649Z"
   },
   {
    "duration": 2041,
    "start_time": "2023-07-25T11:31:25.557Z"
   },
   {
    "duration": 23779,
    "start_time": "2023-07-25T11:31:27.600Z"
   },
   {
    "duration": 3061,
    "start_time": "2023-07-25T11:31:51.382Z"
   },
   {
    "duration": 7,
    "start_time": "2023-07-25T11:31:54.445Z"
   },
   {
    "duration": 42,
    "start_time": "2023-07-25T11:31:54.454Z"
   },
   {
    "duration": 163,
    "start_time": "2023-07-25T11:31:54.498Z"
   },
   {
    "duration": 2977,
    "start_time": "2023-07-25T11:31:54.666Z"
   },
   {
    "duration": 36202,
    "start_time": "2023-07-25T11:31:57.648Z"
   },
   {
    "duration": 5362,
    "start_time": "2023-07-25T11:32:33.853Z"
   },
   {
    "duration": 7,
    "start_time": "2023-07-25T11:32:39.217Z"
   },
   {
    "duration": 56,
    "start_time": "2023-07-25T11:32:39.227Z"
   },
   {
    "duration": 866,
    "start_time": "2023-07-25T11:32:39.287Z"
   },
   {
    "duration": 1024,
    "start_time": "2023-07-25T11:32:40.156Z"
   },
   {
    "duration": 12314,
    "start_time": "2023-07-25T11:32:41.183Z"
   },
   {
    "duration": 1344,
    "start_time": "2023-07-25T11:32:53.500Z"
   },
   {
    "duration": 390,
    "start_time": "2023-07-25T11:32:54.846Z"
   },
   {
    "duration": 1004,
    "start_time": "2023-07-25T11:32:55.237Z"
   },
   {
    "duration": 3,
    "start_time": "2023-07-25T11:32:56.243Z"
   },
   {
    "duration": 31,
    "start_time": "2023-07-25T11:41:12.939Z"
   },
   {
    "duration": 6,
    "start_time": "2023-07-25T11:41:32.010Z"
   },
   {
    "duration": 110,
    "start_time": "2023-07-25T11:41:54.252Z"
   },
   {
    "duration": 9,
    "start_time": "2023-07-25T11:41:58.507Z"
   },
   {
    "duration": 6,
    "start_time": "2023-07-25T11:46:36.902Z"
   },
   {
    "duration": 6,
    "start_time": "2023-07-25T11:46:44.695Z"
   },
   {
    "duration": 110,
    "start_time": "2023-07-25T11:48:17.202Z"
   },
   {
    "duration": 14,
    "start_time": "2023-07-25T11:51:28.494Z"
   },
   {
    "duration": 7,
    "start_time": "2023-07-25T11:51:32.550Z"
   },
   {
    "duration": 14,
    "start_time": "2023-07-25T11:51:33.114Z"
   },
   {
    "duration": 6,
    "start_time": "2023-07-25T11:51:49.694Z"
   },
   {
    "duration": 8,
    "start_time": "2023-07-25T11:52:01.090Z"
   },
   {
    "duration": 20,
    "start_time": "2023-07-25T11:52:46.594Z"
   },
   {
    "duration": 4,
    "start_time": "2023-07-25T11:52:51.540Z"
   },
   {
    "duration": 6,
    "start_time": "2023-07-25T11:53:10.568Z"
   },
   {
    "duration": 79,
    "start_time": "2023-07-25T11:53:40.368Z"
   },
   {
    "duration": 6,
    "start_time": "2023-07-25T11:56:00.410Z"
   },
   {
    "duration": 18,
    "start_time": "2023-07-25T11:56:00.751Z"
   },
   {
    "duration": 6,
    "start_time": "2023-07-25T11:56:15.870Z"
   },
   {
    "duration": 5,
    "start_time": "2023-07-25T11:56:29.210Z"
   },
   {
    "duration": 15,
    "start_time": "2023-07-25T11:56:29.558Z"
   },
   {
    "duration": 7,
    "start_time": "2023-07-25T11:56:29.919Z"
   },
   {
    "duration": 12,
    "start_time": "2023-07-25T11:56:35.514Z"
   },
   {
    "duration": 8,
    "start_time": "2023-07-25T11:56:35.847Z"
   },
   {
    "duration": 20,
    "start_time": "2023-07-25T11:56:47.350Z"
   },
   {
    "duration": 9,
    "start_time": "2023-07-25T11:56:47.746Z"
   },
   {
    "duration": 11,
    "start_time": "2023-07-25T11:56:52.501Z"
   },
   {
    "duration": 7,
    "start_time": "2023-07-25T11:56:52.821Z"
   },
   {
    "duration": 15,
    "start_time": "2023-07-25T11:56:58.924Z"
   },
   {
    "duration": 7,
    "start_time": "2023-07-25T11:56:59.843Z"
   },
   {
    "duration": 13,
    "start_time": "2023-07-25T11:57:07.123Z"
   },
   {
    "duration": 10,
    "start_time": "2023-07-25T11:57:08.402Z"
   },
   {
    "duration": 16,
    "start_time": "2023-07-25T11:57:11.818Z"
   },
   {
    "duration": 7,
    "start_time": "2023-07-25T11:57:12.426Z"
   },
   {
    "duration": 11,
    "start_time": "2023-07-25T11:57:25.468Z"
   },
   {
    "duration": 6,
    "start_time": "2023-07-25T11:57:26.294Z"
   },
   {
    "duration": 11,
    "start_time": "2023-07-25T11:57:31.611Z"
   },
   {
    "duration": 7,
    "start_time": "2023-07-25T11:57:32.205Z"
   },
   {
    "duration": 12,
    "start_time": "2023-07-25T11:57:36.950Z"
   },
   {
    "duration": 6,
    "start_time": "2023-07-25T11:57:37.773Z"
   },
   {
    "duration": 12,
    "start_time": "2023-07-25T11:57:42.573Z"
   },
   {
    "duration": 7,
    "start_time": "2023-07-25T11:57:43.127Z"
   },
   {
    "duration": 14,
    "start_time": "2023-07-25T11:57:48.297Z"
   },
   {
    "duration": 8,
    "start_time": "2023-07-25T11:57:48.719Z"
   },
   {
    "duration": 7,
    "start_time": "2023-07-25T11:57:57.760Z"
   },
   {
    "duration": 11,
    "start_time": "2023-07-25T11:57:58.120Z"
   },
   {
    "duration": 11,
    "start_time": "2023-07-25T11:57:58.506Z"
   },
   {
    "duration": 5,
    "start_time": "2023-07-25T11:58:25.818Z"
   },
   {
    "duration": 78,
    "start_time": "2023-07-25T11:58:25.826Z"
   },
   {
    "duration": 25,
    "start_time": "2023-07-25T11:58:25.906Z"
   },
   {
    "duration": 26,
    "start_time": "2023-07-25T11:58:25.934Z"
   },
   {
    "duration": 6,
    "start_time": "2023-07-25T11:58:25.972Z"
   },
   {
    "duration": 16,
    "start_time": "2023-07-25T11:58:25.980Z"
   },
   {
    "duration": 25,
    "start_time": "2023-07-25T11:58:25.998Z"
   },
   {
    "duration": 161,
    "start_time": "2023-07-25T11:58:26.025Z"
   },
   {
    "duration": 53,
    "start_time": "2023-07-25T11:58:26.188Z"
   },
   {
    "duration": 32,
    "start_time": "2023-07-25T11:58:26.243Z"
   },
   {
    "duration": 53,
    "start_time": "2023-07-25T11:58:26.277Z"
   },
   {
    "duration": 10,
    "start_time": "2023-07-25T11:58:26.331Z"
   },
   {
    "duration": 31,
    "start_time": "2023-07-25T11:58:26.343Z"
   },
   {
    "duration": 889,
    "start_time": "2023-07-25T11:58:26.377Z"
   },
   {
    "duration": 6,
    "start_time": "2023-07-25T11:58:27.268Z"
   },
   {
    "duration": 17,
    "start_time": "2023-07-25T11:58:27.276Z"
   },
   {
    "duration": 51,
    "start_time": "2023-07-25T11:58:27.294Z"
   },
   {
    "duration": 22,
    "start_time": "2023-07-25T11:58:27.347Z"
   },
   {
    "duration": 36,
    "start_time": "2023-07-25T11:58:27.370Z"
   },
   {
    "duration": 19,
    "start_time": "2023-07-25T11:58:27.408Z"
   },
   {
    "duration": 5,
    "start_time": "2023-07-25T11:58:27.429Z"
   },
   {
    "duration": 8,
    "start_time": "2023-07-25T11:58:27.436Z"
   },
   {
    "duration": 6,
    "start_time": "2023-07-25T11:58:27.446Z"
   },
   {
    "duration": 34,
    "start_time": "2023-07-25T11:58:27.454Z"
   },
   {
    "duration": 10,
    "start_time": "2023-07-25T11:58:27.490Z"
   },
   {
    "duration": 22,
    "start_time": "2023-07-25T11:58:27.502Z"
   },
   {
    "duration": 14,
    "start_time": "2023-07-25T11:58:27.526Z"
   },
   {
    "duration": 51,
    "start_time": "2023-07-25T11:58:27.542Z"
   },
   {
    "duration": 560,
    "start_time": "2023-07-25T11:58:27.595Z"
   },
   {
    "duration": 2158,
    "start_time": "2023-07-25T11:58:28.157Z"
   },
   {
    "duration": 24128,
    "start_time": "2023-07-25T11:58:30.317Z"
   },
   {
    "duration": 4292,
    "start_time": "2023-07-25T11:58:54.447Z"
   },
   {
    "duration": 312,
    "start_time": "2023-07-25T11:58:58.741Z"
   },
   {
    "duration": 2233,
    "start_time": "2023-07-25T11:58:59.055Z"
   },
   {
    "duration": 24817,
    "start_time": "2023-07-25T11:59:01.290Z"
   },
   {
    "duration": 3123,
    "start_time": "2023-07-25T11:59:26.110Z"
   },
   {
    "duration": 5,
    "start_time": "2023-07-25T11:59:29.236Z"
   },
   {
    "duration": 22,
    "start_time": "2023-07-25T11:59:29.253Z"
   },
   {
    "duration": 17,
    "start_time": "2023-07-25T11:59:29.277Z"
   },
   {
    "duration": 23,
    "start_time": "2023-07-25T11:59:29.296Z"
   },
   {
    "duration": 12,
    "start_time": "2023-07-25T11:59:29.326Z"
   },
   {
    "duration": 413,
    "start_time": "2023-07-25T11:59:29.340Z"
   },
   {
    "duration": 2677,
    "start_time": "2023-07-25T11:59:29.756Z"
   },
   {
    "duration": 34648,
    "start_time": "2023-07-25T11:59:32.436Z"
   },
   {
    "duration": 5824,
    "start_time": "2023-07-25T12:00:07.086Z"
   },
   {
    "duration": 5,
    "start_time": "2023-07-25T12:00:12.913Z"
   },
   {
    "duration": 47,
    "start_time": "2023-07-25T12:00:12.922Z"
   },
   {
    "duration": 12,
    "start_time": "2023-07-25T12:00:12.974Z"
   },
   {
    "duration": 598,
    "start_time": "2023-07-25T12:00:12.988Z"
   },
   {
    "duration": 990,
    "start_time": "2023-07-25T12:00:13.655Z"
   },
   {
    "duration": 14448,
    "start_time": "2023-07-25T12:00:14.658Z"
   },
   {
    "duration": 1672,
    "start_time": "2023-07-25T12:00:29.108Z"
   },
   {
    "duration": 465,
    "start_time": "2023-07-25T12:00:30.782Z"
   },
   {
    "duration": 984,
    "start_time": "2023-07-25T12:00:31.252Z"
   },
   {
    "duration": 4,
    "start_time": "2023-07-25T12:00:32.238Z"
   },
   {
    "duration": 155,
    "start_time": "2023-07-25T12:00:32.251Z"
   },
   {
    "duration": 46,
    "start_time": "2023-07-25T12:00:32.409Z"
   },
   {
    "duration": 800,
    "start_time": "2023-07-25T12:02:32.110Z"
   },
   {
    "duration": 3222,
    "start_time": "2023-07-25T12:02:41.727Z"
   },
   {
    "duration": 40658,
    "start_time": "2023-07-25T12:02:50.044Z"
   },
   {
    "duration": 38147,
    "start_time": "2023-07-25T12:03:38.068Z"
   },
   {
    "duration": 40624,
    "start_time": "2023-07-25T12:04:47.086Z"
   },
   {
    "duration": 6035,
    "start_time": "2023-07-25T12:05:27.712Z"
   },
   {
    "duration": 502,
    "start_time": "2023-07-25T12:06:01.728Z"
   },
   {
    "duration": 1082,
    "start_time": "2023-07-25T12:06:02.248Z"
   },
   {
    "duration": 1007,
    "start_time": "2023-07-25T12:06:44.814Z"
   },
   {
    "duration": 6,
    "start_time": "2023-07-25T12:07:22.028Z"
   },
   {
    "duration": 81,
    "start_time": "2023-07-25T12:07:22.038Z"
   },
   {
    "duration": 24,
    "start_time": "2023-07-25T12:07:22.121Z"
   },
   {
    "duration": 56,
    "start_time": "2023-07-25T12:07:22.147Z"
   },
   {
    "duration": 29,
    "start_time": "2023-07-25T12:07:22.206Z"
   },
   {
    "duration": 27,
    "start_time": "2023-07-25T12:07:22.237Z"
   },
   {
    "duration": 35,
    "start_time": "2023-07-25T12:07:22.274Z"
   },
   {
    "duration": 3,
    "start_time": "2023-07-25T12:07:22.312Z"
   },
   {
    "duration": 19,
    "start_time": "2023-07-25T12:07:22.317Z"
   },
   {
    "duration": 34,
    "start_time": "2023-07-25T12:07:22.339Z"
   },
   {
    "duration": 44,
    "start_time": "2023-07-25T12:07:22.380Z"
   },
   {
    "duration": 23,
    "start_time": "2023-07-25T12:07:22.426Z"
   },
   {
    "duration": 40,
    "start_time": "2023-07-25T12:07:22.454Z"
   },
   {
    "duration": 995,
    "start_time": "2023-07-25T12:07:22.498Z"
   },
   {
    "duration": 6,
    "start_time": "2023-07-25T12:07:23.495Z"
   },
   {
    "duration": 24,
    "start_time": "2023-07-25T12:07:23.503Z"
   },
   {
    "duration": 85,
    "start_time": "2023-07-25T12:07:23.530Z"
   },
   {
    "duration": 8,
    "start_time": "2023-07-25T12:07:23.617Z"
   },
   {
    "duration": 306,
    "start_time": "2023-07-25T12:07:23.627Z"
   },
   {
    "duration": 132,
    "start_time": "2023-07-25T12:07:23.935Z"
   },
   {
    "duration": 181,
    "start_time": "2023-07-25T12:07:24.069Z"
   },
   {
    "duration": 48,
    "start_time": "2023-07-25T12:07:24.254Z"
   },
   {
    "duration": 11,
    "start_time": "2023-07-25T12:07:24.304Z"
   },
   {
    "duration": 35,
    "start_time": "2023-07-25T12:07:24.318Z"
   },
   {
    "duration": 29,
    "start_time": "2023-07-25T12:07:24.362Z"
   },
   {
    "duration": 39,
    "start_time": "2023-07-25T12:07:24.394Z"
   },
   {
    "duration": 139,
    "start_time": "2023-07-25T12:07:24.435Z"
   },
   {
    "duration": 184,
    "start_time": "2023-07-25T12:07:24.577Z"
   },
   {
    "duration": 986,
    "start_time": "2023-07-25T12:07:24.769Z"
   },
   {
    "duration": 2199,
    "start_time": "2023-07-25T12:07:25.762Z"
   },
   {
    "duration": 24928,
    "start_time": "2023-07-25T12:07:27.969Z"
   },
   {
    "duration": 4195,
    "start_time": "2023-07-25T12:07:52.901Z"
   },
   {
    "duration": 276,
    "start_time": "2023-07-25T12:07:57.098Z"
   },
   {
    "duration": 2166,
    "start_time": "2023-07-25T12:07:57.376Z"
   },
   {
    "duration": 24561,
    "start_time": "2023-07-25T12:07:59.544Z"
   },
   {
    "duration": 3087,
    "start_time": "2023-07-25T12:08:24.107Z"
   },
   {
    "duration": 6,
    "start_time": "2023-07-25T12:08:27.196Z"
   },
   {
    "duration": 23,
    "start_time": "2023-07-25T12:08:27.204Z"
   },
   {
    "duration": 56,
    "start_time": "2023-07-25T12:08:27.229Z"
   },
   {
    "duration": 6,
    "start_time": "2023-07-25T12:08:27.287Z"
   },
   {
    "duration": 47,
    "start_time": "2023-07-25T12:08:27.297Z"
   },
   {
    "duration": 735,
    "start_time": "2023-07-25T12:08:27.346Z"
   },
   {
    "duration": 2486,
    "start_time": "2023-07-25T12:08:28.155Z"
   },
   {
    "duration": 34991,
    "start_time": "2023-07-25T12:08:30.643Z"
   },
   {
    "duration": 4657,
    "start_time": "2023-07-25T12:09:05.636Z"
   },
   {
    "duration": 7,
    "start_time": "2023-07-25T12:09:10.296Z"
   },
   {
    "duration": 107,
    "start_time": "2023-07-25T12:09:10.305Z"
   },
   {
    "duration": 62,
    "start_time": "2023-07-25T12:09:10.414Z"
   },
   {
    "duration": 298,
    "start_time": "2023-07-25T12:09:10.478Z"
   },
   {
    "duration": 1134,
    "start_time": "2023-07-25T12:09:10.853Z"
   },
   {
    "duration": 13748,
    "start_time": "2023-07-25T12:09:11.989Z"
   },
   {
    "duration": 1704,
    "start_time": "2023-07-25T12:09:25.739Z"
   },
   {
    "duration": 437,
    "start_time": "2023-07-25T12:09:27.445Z"
   },
   {
    "duration": 1097,
    "start_time": "2023-07-25T12:09:27.884Z"
   },
   {
    "duration": 4,
    "start_time": "2023-07-25T12:09:28.987Z"
   },
   {
    "duration": 38,
    "start_time": "2023-07-25T12:09:28.994Z"
   },
   {
    "duration": 47,
    "start_time": "2023-07-25T12:09:29.035Z"
   },
   {
    "duration": 859,
    "start_time": "2023-07-25T12:11:09.002Z"
   },
   {
    "duration": 864,
    "start_time": "2023-07-25T12:11:29.222Z"
   },
   {
    "duration": 183,
    "start_time": "2023-07-25T16:31:15.452Z"
   },
   {
    "duration": 5,
    "start_time": "2023-07-25T16:37:44.443Z"
   },
   {
    "duration": 206,
    "start_time": "2023-07-25T16:38:04.755Z"
   },
   {
    "duration": 144,
    "start_time": "2023-07-25T16:38:12.808Z"
   },
   {
    "duration": 17,
    "start_time": "2023-07-25T16:38:28.762Z"
   },
   {
    "duration": 17,
    "start_time": "2023-07-25T16:38:34.960Z"
   },
   {
    "duration": 160,
    "start_time": "2023-07-25T16:38:41.690Z"
   },
   {
    "duration": 168,
    "start_time": "2023-07-25T16:38:49.767Z"
   },
   {
    "duration": 1977,
    "start_time": "2023-07-25T16:39:19.573Z"
   },
   {
    "duration": 513,
    "start_time": "2023-07-25T16:39:21.552Z"
   },
   {
    "duration": 47,
    "start_time": "2023-07-25T16:39:22.067Z"
   },
   {
    "duration": 6,
    "start_time": "2023-07-25T16:39:22.120Z"
   },
   {
    "duration": 6,
    "start_time": "2023-07-25T16:39:22.128Z"
   },
   {
    "duration": 20,
    "start_time": "2023-07-25T16:39:22.135Z"
   },
   {
    "duration": 17,
    "start_time": "2023-07-25T16:39:22.157Z"
   },
   {
    "duration": 2,
    "start_time": "2023-07-25T16:39:22.176Z"
   },
   {
    "duration": 22,
    "start_time": "2023-07-25T16:39:22.180Z"
   },
   {
    "duration": 19,
    "start_time": "2023-07-25T16:39:22.205Z"
   },
   {
    "duration": 10,
    "start_time": "2023-07-25T16:39:22.226Z"
   },
   {
    "duration": 6,
    "start_time": "2023-07-25T16:39:22.238Z"
   },
   {
    "duration": 9,
    "start_time": "2023-07-25T16:39:22.246Z"
   },
   {
    "duration": 1084,
    "start_time": "2023-07-25T16:39:22.257Z"
   },
   {
    "duration": 5,
    "start_time": "2023-07-25T16:39:23.343Z"
   },
   {
    "duration": 43,
    "start_time": "2023-07-25T16:39:23.350Z"
   },
   {
    "duration": 166,
    "start_time": "2023-07-25T16:39:23.397Z"
   },
   {
    "duration": 26,
    "start_time": "2023-07-25T16:39:23.565Z"
   },
   {
    "duration": 26,
    "start_time": "2023-07-25T16:39:23.599Z"
   },
   {
    "duration": 32,
    "start_time": "2023-07-25T16:39:23.626Z"
   },
   {
    "duration": 38,
    "start_time": "2023-07-25T16:39:23.660Z"
   },
   {
    "duration": 42,
    "start_time": "2023-07-25T16:39:23.699Z"
   },
   {
    "duration": 17,
    "start_time": "2023-07-25T16:39:23.742Z"
   },
   {
    "duration": 39,
    "start_time": "2023-07-25T16:39:23.761Z"
   },
   {
    "duration": 28,
    "start_time": "2023-07-25T16:39:23.805Z"
   },
   {
    "duration": 34,
    "start_time": "2023-07-25T16:39:23.837Z"
   },
   {
    "duration": 41,
    "start_time": "2023-07-25T16:39:23.874Z"
   },
   {
    "duration": 69,
    "start_time": "2023-07-25T16:39:23.921Z"
   },
   {
    "duration": 812,
    "start_time": "2023-07-25T16:39:23.998Z"
   },
   {
    "duration": 2257,
    "start_time": "2023-07-25T16:39:24.822Z"
   },
   {
    "duration": 25997,
    "start_time": "2023-07-25T16:39:27.085Z"
   },
   {
    "duration": 4705,
    "start_time": "2023-07-25T16:39:53.089Z"
   },
   {
    "duration": 907,
    "start_time": "2023-07-25T16:39:57.799Z"
   },
   {
    "duration": 2247,
    "start_time": "2023-07-25T16:39:58.768Z"
   },
   {
    "duration": 26212,
    "start_time": "2023-07-25T16:40:01.021Z"
   },
   {
    "duration": 3226,
    "start_time": "2023-07-25T16:40:27.235Z"
   },
   {
    "duration": 17,
    "start_time": "2023-07-25T16:40:30.468Z"
   },
   {
    "duration": 109,
    "start_time": "2023-07-25T16:40:30.487Z"
   },
   {
    "duration": 83,
    "start_time": "2023-07-25T16:40:30.603Z"
   },
   {
    "duration": 35,
    "start_time": "2023-07-25T16:40:30.700Z"
   },
   {
    "duration": 51,
    "start_time": "2023-07-25T16:40:30.738Z"
   },
   {
    "duration": 514,
    "start_time": "2023-07-25T16:40:30.792Z"
   },
   {
    "duration": 2520,
    "start_time": "2023-07-25T16:40:31.368Z"
   },
   {
    "duration": 32117,
    "start_time": "2023-07-25T16:40:33.890Z"
   },
   {
    "duration": 4488,
    "start_time": "2023-07-25T16:41:06.009Z"
   },
   {
    "duration": 5,
    "start_time": "2023-07-25T16:41:10.501Z"
   },
   {
    "duration": 66,
    "start_time": "2023-07-25T16:41:10.507Z"
   },
   {
    "duration": 28,
    "start_time": "2023-07-25T16:41:10.575Z"
   },
   {
    "duration": 85,
    "start_time": "2023-07-25T16:41:10.606Z"
   },
   {
    "duration": 1070,
    "start_time": "2023-07-25T16:41:10.694Z"
   },
   {
    "duration": 13541,
    "start_time": "2023-07-25T16:41:11.771Z"
   },
   {
    "duration": 1592,
    "start_time": "2023-07-25T16:41:25.314Z"
   },
   {
    "duration": 405,
    "start_time": "2023-07-25T16:41:26.913Z"
   },
   {
    "duration": 843,
    "start_time": "2023-07-25T16:41:27.320Z"
   },
   {
    "duration": 17,
    "start_time": "2023-07-25T16:41:28.166Z"
   }
  ],
  "kernelspec": {
   "display_name": "Python 3 (ipykernel)",
   "language": "python",
   "name": "python3"
  },
  "language_info": {
   "codemirror_mode": {
    "name": "ipython",
    "version": 3
   },
   "file_extension": ".py",
   "mimetype": "text/x-python",
   "name": "python",
   "nbconvert_exporter": "python",
   "pygments_lexer": "ipython3",
   "version": "3.9.18"
  },
  "toc": {
   "base_numbering": 1,
   "nav_menu": {},
   "number_sections": true,
   "sideBar": true,
   "skip_h1_title": true,
   "title_cell": "Table of Contents",
   "title_sidebar": "Contents",
   "toc_cell": false,
   "toc_position": {},
   "toc_section_display": true,
   "toc_window_display": false
  }
 },
 "nbformat": 4,
 "nbformat_minor": 5
}
