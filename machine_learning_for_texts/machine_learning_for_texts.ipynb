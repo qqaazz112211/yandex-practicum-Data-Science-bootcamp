{
 "cells": [
  {
   "cell_type": "markdown",
   "metadata": {},
   "source": [
    "# Проект для «Викишоп»"
   ]
  },
  {
   "cell_type": "markdown",
   "metadata": {},
   "source": [
    "Интернет-магазин «Викишоп» запускает новый сервис. Теперь пользователи могут редактировать и дополнять описания товаров, как в вики-сообществах. То есть клиенты предлагают свои правки и комментируют изменения других. Магазину нужен инструмент, который будет искать токсичные комментарии и отправлять их на модерацию. \n",
    "\n",
    "Обучите модель классифицировать комментарии на позитивные и негативные. В вашем распоряжении набор данных с разметкой о токсичности правок.\n",
    "\n",
    "Постройте модель со значением метрики качества *F1* не меньше 0.75. \n",
    "\n",
    "**Инструкция по выполнению проекта**\n",
    "\n",
    "1. Загрузите и подготовьте данные.\n",
    "2. Обучите разные модели. \n",
    "3. Сделайте выводы.\n",
    "\n",
    "Для выполнения проекта применять *BERT* необязательно, но вы можете попробовать.\n",
    "\n",
    "**Описание данных**\n",
    "\n",
    "Данные находятся в файле `toxic_comments.csv`. Столбец *text* в нём содержит текст комментария, а *toxic* — целевой признак."
   ]
  },
  {
   "cell_type": "code",
   "execution_count": 1,
   "metadata": {},
   "outputs": [
    {
     "name": "stderr",
     "output_type": "stream",
     "text": [
      "[nltk_data] Downloading package stopwords to /home/jovyan/nltk_data...\n",
      "[nltk_data]   Package stopwords is already up-to-date!\n",
      "[nltk_data] Downloading package wordnet to /home/jovyan/nltk_data...\n",
      "[nltk_data]   Package wordnet is already up-to-date!\n",
      "[nltk_data] Downloading package averaged_perceptron_tagger to\n",
      "[nltk_data]     /home/jovyan/nltk_data...\n",
      "[nltk_data]   Package averaged_perceptron_tagger is already up-to-\n",
      "[nltk_data]       date!\n"
     ]
    },
    {
     "data": {
      "text/plain": [
       "True"
      ]
     },
     "execution_count": 1,
     "metadata": {},
     "output_type": "execute_result"
    }
   ],
   "source": [
    "import pandas as pd\n",
    "import numpy as np\n",
    "from pymystem3 import Mystem\n",
    "import re\n",
    "from tqdm import tqdm\n",
    "import nltk\n",
    "nltk.download('stopwords')\n",
    "from nltk.corpus import stopwords as nltk_stopwords\n",
    "from sklearn.feature_extraction.text import TfidfVectorizer\n",
    "from sklearn.linear_model import LogisticRegression\n",
    "from sklearn.model_selection import GridSearchCV\n",
    "from sklearn.metrics import f1_score\n",
    "from sklearn.model_selection import train_test_split\n",
    "from catboost import CatBoostClassifier\n",
    "from lightgbm import LGBMClassifier\n",
    "from nltk.stem import WordNetLemmatizer \n",
    "nltk.download('wordnet')\n",
    "from sklearn.tree import DecisionTreeClassifier\n",
    "from nltk.corpus import wordnet\n",
    "nltk.download('averaged_perceptron_tagger')"
   ]
  },
  {
   "cell_type": "markdown",
   "metadata": {},
   "source": [
    "## Подготовка"
   ]
  },
  {
   "cell_type": "code",
   "execution_count": 2,
   "metadata": {},
   "outputs": [],
   "source": [
    "df = pd.read_csv('/datasets/toxic_comments.csv')"
   ]
  },
  {
   "cell_type": "code",
   "execution_count": 3,
   "metadata": {},
   "outputs": [
    {
     "data": {
      "text/html": [
       "<div>\n",
       "<style scoped>\n",
       "    .dataframe tbody tr th:only-of-type {\n",
       "        vertical-align: middle;\n",
       "    }\n",
       "\n",
       "    .dataframe tbody tr th {\n",
       "        vertical-align: top;\n",
       "    }\n",
       "\n",
       "    .dataframe thead th {\n",
       "        text-align: right;\n",
       "    }\n",
       "</style>\n",
       "<table border=\"1\" class=\"dataframe\">\n",
       "  <thead>\n",
       "    <tr style=\"text-align: right;\">\n",
       "      <th></th>\n",
       "      <th>Unnamed: 0</th>\n",
       "      <th>text</th>\n",
       "      <th>toxic</th>\n",
       "    </tr>\n",
       "  </thead>\n",
       "  <tbody>\n",
       "    <tr>\n",
       "      <th>0</th>\n",
       "      <td>0</td>\n",
       "      <td>Explanation\\nWhy the edits made under my usern...</td>\n",
       "      <td>0</td>\n",
       "    </tr>\n",
       "    <tr>\n",
       "      <th>1</th>\n",
       "      <td>1</td>\n",
       "      <td>D'aww! He matches this background colour I'm s...</td>\n",
       "      <td>0</td>\n",
       "    </tr>\n",
       "    <tr>\n",
       "      <th>2</th>\n",
       "      <td>2</td>\n",
       "      <td>Hey man, I'm really not trying to edit war. It...</td>\n",
       "      <td>0</td>\n",
       "    </tr>\n",
       "    <tr>\n",
       "      <th>3</th>\n",
       "      <td>3</td>\n",
       "      <td>\"\\nMore\\nI can't make any real suggestions on ...</td>\n",
       "      <td>0</td>\n",
       "    </tr>\n",
       "    <tr>\n",
       "      <th>4</th>\n",
       "      <td>4</td>\n",
       "      <td>You, sir, are my hero. Any chance you remember...</td>\n",
       "      <td>0</td>\n",
       "    </tr>\n",
       "  </tbody>\n",
       "</table>\n",
       "</div>"
      ],
      "text/plain": [
       "   Unnamed: 0                                               text  toxic\n",
       "0           0  Explanation\\nWhy the edits made under my usern...      0\n",
       "1           1  D'aww! He matches this background colour I'm s...      0\n",
       "2           2  Hey man, I'm really not trying to edit war. It...      0\n",
       "3           3  \"\\nMore\\nI can't make any real suggestions on ...      0\n",
       "4           4  You, sir, are my hero. Any chance you remember...      0"
      ]
     },
     "execution_count": 3,
     "metadata": {},
     "output_type": "execute_result"
    }
   ],
   "source": [
    "df.head(5)"
   ]
  },
  {
   "cell_type": "code",
   "execution_count": 4,
   "metadata": {},
   "outputs": [
    {
     "name": "stdout",
     "output_type": "stream",
     "text": [
      "<class 'pandas.core.frame.DataFrame'>\n",
      "RangeIndex: 159292 entries, 0 to 159291\n",
      "Data columns (total 3 columns):\n",
      " #   Column      Non-Null Count   Dtype \n",
      "---  ------      --------------   ----- \n",
      " 0   Unnamed: 0  159292 non-null  int64 \n",
      " 1   text        159292 non-null  object\n",
      " 2   toxic       159292 non-null  int64 \n",
      "dtypes: int64(2), object(1)\n",
      "memory usage: 3.6+ MB\n"
     ]
    }
   ],
   "source": [
    "df.info()"
   ]
  },
  {
   "cell_type": "code",
   "execution_count": 5,
   "metadata": {},
   "outputs": [
    {
     "data": {
      "text/plain": [
       "(159292, 3)"
      ]
     },
     "execution_count": 5,
     "metadata": {},
     "output_type": "execute_result"
    }
   ],
   "source": [
    "df.shape"
   ]
  },
  {
   "cell_type": "code",
   "execution_count": 6,
   "metadata": {},
   "outputs": [
    {
     "data": {
      "text/plain": [
       "0"
      ]
     },
     "execution_count": 6,
     "metadata": {},
     "output_type": "execute_result"
    }
   ],
   "source": [
    "df.duplicated().sum()"
   ]
  },
  {
   "cell_type": "code",
   "execution_count": 7,
   "metadata": {},
   "outputs": [
    {
     "data": {
      "text/plain": [
       "Unnamed: 0    0\n",
       "text          0\n",
       "toxic         0\n",
       "dtype: int64"
      ]
     },
     "execution_count": 7,
     "metadata": {},
     "output_type": "execute_result"
    }
   ],
   "source": [
    "df.isna().sum()"
   ]
  },
  {
   "cell_type": "code",
   "execution_count": 8,
   "metadata": {},
   "outputs": [
    {
     "data": {
      "text/plain": [
       "0"
      ]
     },
     "execution_count": 8,
     "metadata": {},
     "output_type": "execute_result"
    }
   ],
   "source": [
    "df['Unnamed: 0'].duplicated().sum()"
   ]
  },
  {
   "cell_type": "code",
   "execution_count": 9,
   "metadata": {},
   "outputs": [],
   "source": [
    "#удалим признак 'Unnamed: 0', он является дублером индекса\n",
    "df.drop('Unnamed: 0', axis = 1, inplace = True)"
   ]
  },
  {
   "cell_type": "code",
   "execution_count": 10,
   "metadata": {},
   "outputs": [],
   "source": [
    "#создадим функцию очистики текста\n",
    "def clear(text):\n",
    "    text_clr = re.sub(r'[^a-zA-Z ]', ' ', text).split()\n",
    "    text_clr = \" \".join(text_clr)\n",
    "    text_clr = text_clr.lower()\n",
    "    return text_clr"
   ]
  },
  {
   "cell_type": "code",
   "execution_count": 11,
   "metadata": {},
   "outputs": [],
   "source": [
    "df['text'] = df['text'].apply(clear)"
   ]
  },
  {
   "cell_type": "code",
   "execution_count": 12,
   "metadata": {},
   "outputs": [],
   "source": [
    "#создадим экземпляр WordNetLemmatizer() и вызовем функцию lemmatize()\n",
    "\n",
    "lemmatizer = WordNetLemmatizer()"
   ]
  },
  {
   "cell_type": "code",
   "execution_count": 13,
   "metadata": {},
   "outputs": [],
   "source": [
    "#функция для сопоставления тегов\n",
    "def get_wordnet_pos(word):\n",
    "    tag = nltk.pos_tag([word])[0][1][0].upper()\n",
    "    tag_dict = {\"J\": wordnet.ADJ,\n",
    "                \"N\": wordnet.NOUN,\n",
    "                \"V\": wordnet.VERB,\n",
    "                \"R\": wordnet.ADV}\n",
    "    return tag_dict.get(tag, wordnet.NOUN)"
   ]
  },
  {
   "cell_type": "code",
   "execution_count": 14,
   "metadata": {},
   "outputs": [],
   "source": [
    "#токенизация с дальнейшей лемматизацией\n",
    "def token_lem(text):\n",
    "    tok = nltk.word_tokenize(text)\n",
    "    lem = ' '.join([lemmatizer.lemmatize(w, get_wordnet_pos(w)) for w in tok])\n",
    "    return lem"
   ]
  },
  {
   "cell_type": "code",
   "execution_count": 15,
   "metadata": {
    "scrolled": true
   },
   "outputs": [
    {
     "name": "stdout",
     "output_type": "stream",
     "text": [
      "CPU times: user 18min 22s, sys: 1min 37s, total: 19min 59s\n",
      "Wall time: 20min\n"
     ]
    }
   ],
   "source": [
    "%%time\n",
    "df['text_lem'] = df['text'].apply(token_lem)"
   ]
  },
  {
   "cell_type": "code",
   "execution_count": 28,
   "metadata": {
    "scrolled": false
   },
   "outputs": [
    {
     "data": {
      "text/html": [
       "<div>\n",
       "<style scoped>\n",
       "    .dataframe tbody tr th:only-of-type {\n",
       "        vertical-align: middle;\n",
       "    }\n",
       "\n",
       "    .dataframe tbody tr th {\n",
       "        vertical-align: top;\n",
       "    }\n",
       "\n",
       "    .dataframe thead th {\n",
       "        text-align: right;\n",
       "    }\n",
       "</style>\n",
       "<table border=\"1\" class=\"dataframe\">\n",
       "  <thead>\n",
       "    <tr style=\"text-align: right;\">\n",
       "      <th></th>\n",
       "      <th>text</th>\n",
       "      <th>toxic</th>\n",
       "      <th>text_lem</th>\n",
       "    </tr>\n",
       "  </thead>\n",
       "  <tbody>\n",
       "    <tr>\n",
       "      <th>0</th>\n",
       "      <td>explanation why the edits made under my userna...</td>\n",
       "      <td>0</td>\n",
       "      <td>explanation why the edits make under my userna...</td>\n",
       "    </tr>\n",
       "    <tr>\n",
       "      <th>1</th>\n",
       "      <td>d aww he matches this background colour i m se...</td>\n",
       "      <td>0</td>\n",
       "      <td>d aww he match this background colour i m seem...</td>\n",
       "    </tr>\n",
       "    <tr>\n",
       "      <th>2</th>\n",
       "      <td>hey man i m really not trying to edit war it s...</td>\n",
       "      <td>0</td>\n",
       "      <td>hey man i m really not try to edit war it s ju...</td>\n",
       "    </tr>\n",
       "    <tr>\n",
       "      <th>3</th>\n",
       "      <td>more i can t make any real suggestions on impr...</td>\n",
       "      <td>0</td>\n",
       "      <td>more i can t make any real suggestion on impro...</td>\n",
       "    </tr>\n",
       "    <tr>\n",
       "      <th>4</th>\n",
       "      <td>you sir are my hero any chance you remember wh...</td>\n",
       "      <td>0</td>\n",
       "      <td>you sir be my hero any chance you remember wha...</td>\n",
       "    </tr>\n",
       "    <tr>\n",
       "      <th>...</th>\n",
       "      <td>...</td>\n",
       "      <td>...</td>\n",
       "      <td>...</td>\n",
       "    </tr>\n",
       "    <tr>\n",
       "      <th>159287</th>\n",
       "      <td>and for the second time of asking when your vi...</td>\n",
       "      <td>0</td>\n",
       "      <td>and for the second time of ask when your view ...</td>\n",
       "    </tr>\n",
       "    <tr>\n",
       "      <th>159288</th>\n",
       "      <td>you should be ashamed of yourself that is a ho...</td>\n",
       "      <td>0</td>\n",
       "      <td>you should be ashamed of yourself that be a ho...</td>\n",
       "    </tr>\n",
       "    <tr>\n",
       "      <th>159289</th>\n",
       "      <td>spitzer umm theres no actual article for prost...</td>\n",
       "      <td>0</td>\n",
       "      <td>spitzer umm there no actual article for prosti...</td>\n",
       "    </tr>\n",
       "    <tr>\n",
       "      <th>159290</th>\n",
       "      <td>and it looks like it was actually you who put ...</td>\n",
       "      <td>0</td>\n",
       "      <td>and it look like it be actually you who put on...</td>\n",
       "    </tr>\n",
       "    <tr>\n",
       "      <th>159291</th>\n",
       "      <td>and i really don t think you understand i came...</td>\n",
       "      <td>0</td>\n",
       "      <td>and i really don t think you understand i come...</td>\n",
       "    </tr>\n",
       "  </tbody>\n",
       "</table>\n",
       "<p>159292 rows × 3 columns</p>\n",
       "</div>"
      ],
      "text/plain": [
       "                                                     text  toxic  \\\n",
       "0       explanation why the edits made under my userna...      0   \n",
       "1       d aww he matches this background colour i m se...      0   \n",
       "2       hey man i m really not trying to edit war it s...      0   \n",
       "3       more i can t make any real suggestions on impr...      0   \n",
       "4       you sir are my hero any chance you remember wh...      0   \n",
       "...                                                   ...    ...   \n",
       "159287  and for the second time of asking when your vi...      0   \n",
       "159288  you should be ashamed of yourself that is a ho...      0   \n",
       "159289  spitzer umm theres no actual article for prost...      0   \n",
       "159290  and it looks like it was actually you who put ...      0   \n",
       "159291  and i really don t think you understand i came...      0   \n",
       "\n",
       "                                                 text_lem  \n",
       "0       explanation why the edits make under my userna...  \n",
       "1       d aww he match this background colour i m seem...  \n",
       "2       hey man i m really not try to edit war it s ju...  \n",
       "3       more i can t make any real suggestion on impro...  \n",
       "4       you sir be my hero any chance you remember wha...  \n",
       "...                                                   ...  \n",
       "159287  and for the second time of ask when your view ...  \n",
       "159288  you should be ashamed of yourself that be a ho...  \n",
       "159289  spitzer umm there no actual article for prosti...  \n",
       "159290  and it look like it be actually you who put on...  \n",
       "159291  and i really don t think you understand i come...  \n",
       "\n",
       "[159292 rows x 3 columns]"
      ]
     },
     "execution_count": 28,
     "metadata": {},
     "output_type": "execute_result"
    }
   ],
   "source": [
    "df"
   ]
  },
  {
   "cell_type": "markdown",
   "metadata": {},
   "source": [
    "### Выводы\n",
    "- Проведен анализ данных \n",
    "- Пропуски и дубликаты не выявлены\n",
    "- Проведена очистка данных, проведена токенизация с дальнейшей лемматизацией\n",
    "- Подготовлены данные для моделирования"
   ]
  },
  {
   "cell_type": "markdown",
   "metadata": {},
   "source": [
    "## Обучение"
   ]
  },
  {
   "cell_type": "code",
   "execution_count": 17,
   "metadata": {},
   "outputs": [],
   "source": [
    "#определим стоп-слова\n",
    "stop_words = set(nltk_stopwords.words('english'))\n",
    "stop_words_list = list(stop_words)"
   ]
  },
  {
   "cell_type": "code",
   "execution_count": 18,
   "metadata": {},
   "outputs": [],
   "source": [
    "#определим признаки\n",
    "df_features = df['text_lem']\n",
    "df_target = df['toxic']"
   ]
  },
  {
   "cell_type": "code",
   "execution_count": 19,
   "metadata": {},
   "outputs": [],
   "source": [
    "#Данные разбиты на обучающие и тестовые в соотношении 90/10\n",
    "train_features, test_features, train_target, test_target = train_test_split(\n",
    "    df_features, df_target, test_size = 0.1, random_state = 12345)"
   ]
  },
  {
   "cell_type": "code",
   "execution_count": 20,
   "metadata": {},
   "outputs": [
    {
     "data": {
      "text/plain": [
       "(143362,)"
      ]
     },
     "metadata": {},
     "output_type": "display_data"
    },
    {
     "data": {
      "text/plain": [
       "(15930,)"
      ]
     },
     "metadata": {},
     "output_type": "display_data"
    },
    {
     "data": {
      "text/plain": [
       "(143362,)"
      ]
     },
     "metadata": {},
     "output_type": "display_data"
    },
    {
     "data": {
      "text/plain": [
       "(15930,)"
      ]
     },
     "metadata": {},
     "output_type": "display_data"
    }
   ],
   "source": [
    "display(train_features.shape)\n",
    "display(test_features.shape)\n",
    "display(train_target.shape)\n",
    "display(test_target.shape)"
   ]
  },
  {
   "cell_type": "code",
   "execution_count": 21,
   "metadata": {},
   "outputs": [],
   "source": [
    "#Создадим и обучим модель TF_IDF\n",
    "count_tf_idf = TfidfVectorizer(stop_words=stop_words_list)\n",
    "count_tf_idf.fit(train_features)\n",
    "tf_idf_train_features = count_tf_idf.transform(train_features)\n",
    "tf_idf_test_features = count_tf_idf.transform(test_features)"
   ]
  },
  {
   "cell_type": "code",
   "execution_count": 22,
   "metadata": {},
   "outputs": [
    {
     "data": {
      "text/plain": [
       "(143362, 142204)"
      ]
     },
     "metadata": {},
     "output_type": "display_data"
    },
    {
     "data": {
      "text/plain": [
       "(15930, 142204)"
      ]
     },
     "metadata": {},
     "output_type": "display_data"
    }
   ],
   "source": [
    "display(tf_idf_train_features.shape)\n",
    "display(tf_idf_test_features.shape)"
   ]
  },
  {
   "cell_type": "markdown",
   "metadata": {},
   "source": [
    "**LogisticRegression**"
   ]
  },
  {
   "cell_type": "code",
   "execution_count": 23,
   "metadata": {},
   "outputs": [
    {
     "name": "stdout",
     "output_type": "stream",
     "text": [
      "Fitting 5 folds for each of 6 candidates, totalling 30 fits\n",
      "[CV 1/5] END ................................C=5, penalty=l1; total time=   2.2s\n",
      "[CV 2/5] END ................................C=5, penalty=l1; total time=   2.5s\n",
      "[CV 3/5] END ................................C=5, penalty=l1; total time=   2.3s\n",
      "[CV 4/5] END ................................C=5, penalty=l1; total time=   2.6s\n",
      "[CV 5/5] END ................................C=5, penalty=l1; total time=   2.4s\n",
      "[CV 1/5] END ................................C=5, penalty=l2; total time=  14.0s\n",
      "[CV 2/5] END ................................C=5, penalty=l2; total time=  14.1s\n",
      "[CV 3/5] END ................................C=5, penalty=l2; total time=  14.2s\n",
      "[CV 4/5] END ................................C=5, penalty=l2; total time=  13.8s\n",
      "[CV 5/5] END ................................C=5, penalty=l2; total time=  13.6s\n",
      "[CV 1/5] END ...............................C=10, penalty=l1; total time=   3.8s\n",
      "[CV 2/5] END ...............................C=10, penalty=l1; total time=   3.5s\n",
      "[CV 3/5] END ...............................C=10, penalty=l1; total time=   3.7s\n",
      "[CV 4/5] END ...............................C=10, penalty=l1; total time=   3.7s\n",
      "[CV 5/5] END ...............................C=10, penalty=l1; total time=   3.7s\n",
      "[CV 1/5] END ...............................C=10, penalty=l2; total time=  14.8s\n",
      "[CV 2/5] END ...............................C=10, penalty=l2; total time=  14.8s\n",
      "[CV 3/5] END ...............................C=10, penalty=l2; total time=  14.8s\n",
      "[CV 4/5] END ...............................C=10, penalty=l2; total time=  14.9s\n",
      "[CV 5/5] END ...............................C=10, penalty=l2; total time=  15.1s\n",
      "[CV 1/5] END ...............................C=15, penalty=l1; total time=   4.4s\n",
      "[CV 2/5] END ...............................C=15, penalty=l1; total time=   3.9s\n",
      "[CV 3/5] END ...............................C=15, penalty=l1; total time=   4.1s\n",
      "[CV 4/5] END ...............................C=15, penalty=l1; total time=   4.2s\n",
      "[CV 5/5] END ...............................C=15, penalty=l1; total time=   4.3s\n",
      "[CV 1/5] END ...............................C=15, penalty=l2; total time=  19.6s\n",
      "[CV 2/5] END ...............................C=15, penalty=l2; total time=  17.6s\n",
      "[CV 3/5] END ...............................C=15, penalty=l2; total time=  17.7s\n",
      "[CV 4/5] END ...............................C=15, penalty=l2; total time=  17.8s\n",
      "[CV 5/5] END ...............................C=15, penalty=l2; total time=  17.1s\n",
      "{'C': 5, 'penalty': 'l1'}\n",
      "F1 =  0.771443484781444\n",
      "CPU times: user 2min 47s, sys: 2min, total: 4min 47s\n",
      "Wall time: 4min 48s\n"
     ]
    }
   ],
   "source": [
    "%%time\n",
    "\n",
    "model = LogisticRegression(random_state=12345, max_iter=150, solver='liblinear')\n",
    "\n",
    "tuning_model=GridSearchCV(estimator=model,\n",
    "                          param_grid={'penalty' : ['l1','l2'], \n",
    "                                     'C' : [5,10,15]},\n",
    "                          scoring='f1',\n",
    "                          cv=5,\n",
    "                          verbose=5)\n",
    "\n",
    "tuning_model.fit(tf_idf_train_features, train_target)\n",
    "print(tuning_model.best_params_)\n",
    "print('F1 = ', tuning_model.best_score_)"
   ]
  },
  {
   "cell_type": "markdown",
   "metadata": {},
   "source": [
    "**LGBMClassifier**"
   ]
  },
  {
   "cell_type": "code",
   "execution_count": 24,
   "metadata": {},
   "outputs": [
    {
     "name": "stdout",
     "output_type": "stream",
     "text": [
      "Fitting 5 folds for each of 2 candidates, totalling 10 fits\n",
      "[CV 1/5] END ...................................max_depth=21; total time= 9.1min\n",
      "[CV 2/5] END ...................................max_depth=21; total time=11.6min\n",
      "[CV 3/5] END ...................................max_depth=21; total time= 2.6min\n",
      "[CV 4/5] END ...................................max_depth=21; total time= 2.7min\n",
      "[CV 5/5] END ...................................max_depth=21; total time= 6.8min\n",
      "[CV 1/5] END ...................................max_depth=31; total time= 7.4min\n",
      "[CV 2/5] END ...................................max_depth=31; total time= 2.9min\n",
      "[CV 3/5] END ...................................max_depth=31; total time= 2.8min\n",
      "[CV 4/5] END ...................................max_depth=31; total time= 2.8min\n",
      "[CV 5/5] END ...................................max_depth=31; total time= 2.8min\n",
      "{'max_depth': 31}\n",
      "F1 =  0.742883932470747\n",
      "CPU times: user 54min 30s, sys: 2.32 s, total: 54min 32s\n",
      "Wall time: 54min 55s\n"
     ]
    }
   ],
   "source": [
    "%%time\n",
    "model = LGBMClassifier(random_state=12345)\n",
    "tuning_model=GridSearchCV(estimator = model,\n",
    "                          param_grid= {'max_depth' : [21,31]},\n",
    "                          scoring='f1',\n",
    "                          cv=5,\n",
    "                          verbose=5)\n",
    "\n",
    "tuning_model.fit(tf_idf_train_features, train_target)\n",
    "print(tuning_model.best_params_)\n",
    "print('F1 = ', tuning_model.best_score_)"
   ]
  },
  {
   "cell_type": "markdown",
   "metadata": {},
   "source": [
    "**DecisionTreeClassifier**"
   ]
  },
  {
   "cell_type": "code",
   "execution_count": 25,
   "metadata": {
    "scrolled": true
   },
   "outputs": [
    {
     "name": "stdout",
     "output_type": "stream",
     "text": [
      "Fitting 5 folds for each of 5 candidates, totalling 25 fits\n",
      "[CV 1/5] END ....................................max_depth=1; total time=  10.8s\n",
      "[CV 2/5] END ....................................max_depth=1; total time=  11.4s\n",
      "[CV 3/5] END ....................................max_depth=1; total time=  10.6s\n",
      "[CV 4/5] END ....................................max_depth=1; total time=  11.0s\n",
      "[CV 5/5] END ....................................max_depth=1; total time=  11.3s\n",
      "[CV 1/5] END ....................................max_depth=3; total time=  11.2s\n",
      "[CV 2/5] END ....................................max_depth=3; total time=  12.3s\n",
      "[CV 3/5] END ....................................max_depth=3; total time=  11.7s\n",
      "[CV 4/5] END ....................................max_depth=3; total time=  11.9s\n",
      "[CV 5/5] END ....................................max_depth=3; total time=  12.1s\n",
      "[CV 1/5] END ....................................max_depth=5; total time=  12.0s\n",
      "[CV 2/5] END ....................................max_depth=5; total time=  13.0s\n",
      "[CV 3/5] END ....................................max_depth=5; total time=  12.2s\n",
      "[CV 4/5] END ....................................max_depth=5; total time=  12.1s\n",
      "[CV 5/5] END ....................................max_depth=5; total time=  12.2s\n",
      "[CV 1/5] END ....................................max_depth=7; total time=  13.1s\n",
      "[CV 2/5] END ....................................max_depth=7; total time=  13.0s\n",
      "[CV 3/5] END ....................................max_depth=7; total time=  13.0s\n",
      "[CV 4/5] END ....................................max_depth=7; total time=  13.5s\n",
      "[CV 5/5] END ....................................max_depth=7; total time=  13.0s\n",
      "[CV 1/5] END ....................................max_depth=9; total time=  14.1s\n",
      "[CV 2/5] END ....................................max_depth=9; total time=  14.0s\n",
      "[CV 3/5] END ....................................max_depth=9; total time=  14.2s\n",
      "[CV 4/5] END ....................................max_depth=9; total time=  14.0s\n",
      "[CV 5/5] END ....................................max_depth=9; total time=  15.9s\n",
      "{'max_depth': 9}\n",
      "F1 =  0.596346505374412\n",
      "CPU times: user 5min 16s, sys: 1.68 s, total: 5min 18s\n",
      "Wall time: 5min 18s\n"
     ]
    }
   ],
   "source": [
    "%%time\n",
    "model = DecisionTreeClassifier(random_state=12345)\n",
    "tuning_model=GridSearchCV(estimator = model,\n",
    "                          param_grid= {'max_depth' : range(1,10, 2)},\n",
    "                          scoring='f1',\n",
    "                          cv=5,\n",
    "                          verbose=5)\n",
    "\n",
    "tuning_model.fit(tf_idf_train_features, train_target)\n",
    "print(tuning_model.best_params_)\n",
    "print('F1 = ', tuning_model.best_score_)"
   ]
  },
  {
   "cell_type": "markdown",
   "metadata": {},
   "source": [
    "На кросс-валидации было использовано 3 модели, и получены след. значения метрики:\n",
    "1. LogisticRegression, F1 =  0.771443484781444\n",
    "2. LGBMClassifier, F1 =  0.742883932470747\n",
    "3. DecisionTreeClassifier, F1 =  0.596346505374412\n",
    "\n",
    "Лучшее значение показала модель - LogisticRegression, прогоним ее на тестовой выборке"
   ]
  },
  {
   "cell_type": "code",
   "execution_count": 27,
   "metadata": {},
   "outputs": [
    {
     "name": "stdout",
     "output_type": "stream",
     "text": [
      "F1 = 0.7776261937244202\n",
      "CPU times: user 3.09 s, sys: 91 ms, total: 3.18 s\n",
      "Wall time: 3.18 s\n"
     ]
    }
   ],
   "source": [
    "%%time\n",
    "model = LogisticRegression(random_state=12345, max_iter=150, solver='liblinear', C = 5, penalty = 'l1')\n",
    "model.fit(tf_idf_train_features, train_target)\n",
    "prediction_final = model.predict(tf_idf_test_features)\n",
    "f1 = f1_score(test_target,prediction_final)\n",
    "print('F1 =', f1)"
   ]
  },
  {
   "cell_type": "markdown",
   "metadata": {},
   "source": [
    "**Условие задания выполнены, качество метрики F1 на тестовой выборке больше чем 0.75**"
   ]
  },
  {
   "cell_type": "markdown",
   "metadata": {},
   "source": [
    "## Выводы"
   ]
  },
  {
   "cell_type": "markdown",
   "metadata": {},
   "source": [
    "Для построение модели были выполены след действия:\n",
    "1. Предподготовка данных (проведена токенизация с дальнейшей лемматизацией)\n",
    "2. Удалены стоп-слова\n",
    "3. Создана и обучена модель TF_IDF\n",
    "4. Построены 3 модели:\n",
    "    1. LogisticRegression, F1 =  0.771443484781444\n",
    "    2. LGBMClassifier, F1 =  0.742883932470747\n",
    "    3. DecisionTreeClassifier, F1 =  0.596346505374412\n",
    "5. После прогонки на тестовой выборке LogisticRegression значение F1 = 0.7776261937244202, что удовлетворяет условие задания"
   ]
  }
 ],
 "metadata": {
  "ExecuteTimeLog": [
   {
    "duration": 48,
    "start_time": "2023-09-05T17:35:13.428Z"
   },
   {
    "duration": 426,
    "start_time": "2023-09-05T17:35:36.973Z"
   },
   {
    "duration": 28,
    "start_time": "2023-09-05T17:35:38.546Z"
   },
   {
    "duration": 3989,
    "start_time": "2023-09-05T17:35:45.066Z"
   },
   {
    "duration": 14,
    "start_time": "2023-09-05T17:35:53.422Z"
   },
   {
    "duration": 33,
    "start_time": "2023-09-05T17:36:03.082Z"
   },
   {
    "duration": 7,
    "start_time": "2023-09-05T17:36:15.528Z"
   },
   {
    "duration": 4,
    "start_time": "2023-09-05T17:36:18.663Z"
   },
   {
    "duration": 231,
    "start_time": "2023-09-05T17:36:52.878Z"
   },
   {
    "duration": 218,
    "start_time": "2023-09-05T17:36:57.322Z"
   },
   {
    "duration": 225,
    "start_time": "2023-09-05T17:37:13.972Z"
   },
   {
    "duration": 205,
    "start_time": "2023-09-05T17:37:19.207Z"
   },
   {
    "duration": 5,
    "start_time": "2023-09-05T17:37:49.659Z"
   },
   {
    "duration": 8,
    "start_time": "2023-09-05T17:38:07.848Z"
   },
   {
    "duration": 8,
    "start_time": "2023-09-05T17:38:12.413Z"
   },
   {
    "duration": 12,
    "start_time": "2023-09-05T17:39:31.978Z"
   },
   {
    "duration": 8,
    "start_time": "2023-09-05T17:39:41.044Z"
   },
   {
    "duration": 40,
    "start_time": "2023-09-05T17:40:40.512Z"
   },
   {
    "duration": 3,
    "start_time": "2023-09-05T17:41:04.696Z"
   },
   {
    "duration": 3,
    "start_time": "2023-09-05T17:42:12.071Z"
   },
   {
    "duration": 11,
    "start_time": "2023-09-05T17:42:35.569Z"
   },
   {
    "duration": 9,
    "start_time": "2023-09-05T17:42:52.729Z"
   },
   {
    "duration": 2,
    "start_time": "2023-09-05T17:44:16.122Z"
   },
   {
    "duration": 5,
    "start_time": "2023-09-05T17:44:23.005Z"
   },
   {
    "duration": 2080,
    "start_time": "2023-09-05T17:44:39.105Z"
   },
   {
    "duration": 11,
    "start_time": "2023-09-05T17:44:41.187Z"
   },
   {
    "duration": 10,
    "start_time": "2023-09-05T17:45:49.713Z"
   },
   {
    "duration": 4,
    "start_time": "2023-09-05T17:48:16.520Z"
   },
   {
    "duration": 10,
    "start_time": "2023-09-05T17:49:00.808Z"
   },
   {
    "duration": 3,
    "start_time": "2023-09-05T17:54:14.246Z"
   },
   {
    "duration": 12,
    "start_time": "2023-09-05T17:54:36.504Z"
   },
   {
    "duration": 6,
    "start_time": "2023-09-05T17:55:15.642Z"
   },
   {
    "duration": 1510,
    "start_time": "2023-09-05T17:55:30.509Z"
   },
   {
    "duration": 12,
    "start_time": "2023-09-05T17:56:08.872Z"
   },
   {
    "duration": 6,
    "start_time": "2023-09-05T18:00:44.094Z"
   },
   {
    "duration": 4,
    "start_time": "2023-09-05T18:00:53.542Z"
   },
   {
    "duration": 4,
    "start_time": "2023-09-05T18:01:04.394Z"
   },
   {
    "duration": 4,
    "start_time": "2023-09-05T18:01:20.670Z"
   },
   {
    "duration": 4,
    "start_time": "2023-09-05T18:01:25.529Z"
   },
   {
    "duration": 5,
    "start_time": "2023-09-05T18:01:31.946Z"
   },
   {
    "duration": 4,
    "start_time": "2023-09-05T18:01:35.926Z"
   },
   {
    "duration": 4,
    "start_time": "2023-09-05T18:01:39.078Z"
   },
   {
    "duration": 6,
    "start_time": "2023-09-05T18:02:50.191Z"
   },
   {
    "duration": 813,
    "start_time": "2023-09-05T18:07:10.988Z"
   },
   {
    "duration": 15,
    "start_time": "2023-09-05T18:07:50.770Z"
   },
   {
    "duration": 3,
    "start_time": "2023-09-05T18:07:57.469Z"
   },
   {
    "duration": 3,
    "start_time": "2023-09-05T18:10:07.865Z"
   },
   {
    "duration": 911,
    "start_time": "2023-09-05T18:10:07.871Z"
   },
   {
    "duration": 10,
    "start_time": "2023-09-05T18:10:08.784Z"
   },
   {
    "duration": 39,
    "start_time": "2023-09-05T18:10:08.796Z"
   },
   {
    "duration": 4,
    "start_time": "2023-09-05T18:10:08.838Z"
   },
   {
    "duration": 268,
    "start_time": "2023-09-05T18:10:08.871Z"
   },
   {
    "duration": 7,
    "start_time": "2023-09-05T18:10:09.141Z"
   },
   {
    "duration": 28,
    "start_time": "2023-09-05T18:10:09.149Z"
   },
   {
    "duration": 11,
    "start_time": "2023-09-05T18:10:09.179Z"
   },
   {
    "duration": 7,
    "start_time": "2023-09-05T18:11:11.605Z"
   },
   {
    "duration": 5,
    "start_time": "2023-09-05T18:11:16.814Z"
   },
   {
    "duration": 1015,
    "start_time": "2023-09-05T18:11:29.294Z"
   },
   {
    "duration": 956,
    "start_time": "2023-09-05T18:11:36.596Z"
   },
   {
    "duration": 3,
    "start_time": "2023-09-05T18:12:17.012Z"
   },
   {
    "duration": 107,
    "start_time": "2023-09-05T18:18:42.991Z"
   },
   {
    "duration": 3,
    "start_time": "2023-09-05T18:18:47.578Z"
   },
   {
    "duration": 10,
    "start_time": "2023-09-05T18:19:20.975Z"
   },
   {
    "duration": 5,
    "start_time": "2023-09-05T18:19:26.972Z"
   },
   {
    "duration": 3,
    "start_time": "2023-09-05T18:19:41.180Z"
   },
   {
    "duration": 4,
    "start_time": "2023-09-05T18:19:41.541Z"
   },
   {
    "duration": 3,
    "start_time": "2023-09-05T18:19:48.308Z"
   },
   {
    "duration": 4,
    "start_time": "2023-09-05T18:19:48.664Z"
   },
   {
    "duration": 3,
    "start_time": "2023-09-05T18:20:12.505Z"
   },
   {
    "duration": 5,
    "start_time": "2023-09-05T18:20:13.064Z"
   },
   {
    "duration": 4,
    "start_time": "2023-09-05T18:20:30.908Z"
   },
   {
    "duration": 5,
    "start_time": "2023-09-05T18:20:37.243Z"
   },
   {
    "duration": 5,
    "start_time": "2023-09-05T18:20:41.088Z"
   },
   {
    "duration": 4,
    "start_time": "2023-09-05T18:20:45.533Z"
   },
   {
    "duration": 5,
    "start_time": "2023-09-05T18:20:48.939Z"
   },
   {
    "duration": 4,
    "start_time": "2023-09-05T18:21:25.164Z"
   },
   {
    "duration": 5,
    "start_time": "2023-09-05T18:21:25.457Z"
   },
   {
    "duration": 3,
    "start_time": "2023-09-05T18:21:50.363Z"
   },
   {
    "duration": 4,
    "start_time": "2023-09-05T18:21:50.699Z"
   },
   {
    "duration": 4,
    "start_time": "2023-09-05T18:22:00.209Z"
   },
   {
    "duration": 5,
    "start_time": "2023-09-05T18:22:00.813Z"
   },
   {
    "duration": 4,
    "start_time": "2023-09-05T18:23:04.663Z"
   },
   {
    "duration": 4,
    "start_time": "2023-09-05T18:23:12.469Z"
   },
   {
    "duration": 5,
    "start_time": "2023-09-05T18:23:13.344Z"
   },
   {
    "duration": 4,
    "start_time": "2023-09-05T18:23:58.162Z"
   },
   {
    "duration": 5,
    "start_time": "2023-09-05T18:23:58.644Z"
   },
   {
    "duration": 4,
    "start_time": "2023-09-05T18:24:33.568Z"
   },
   {
    "duration": 5,
    "start_time": "2023-09-05T18:24:34.301Z"
   },
   {
    "duration": 4,
    "start_time": "2023-09-05T18:24:43.596Z"
   },
   {
    "duration": 6,
    "start_time": "2023-09-05T18:24:44.077Z"
   },
   {
    "duration": 4,
    "start_time": "2023-09-05T18:24:54.497Z"
   },
   {
    "duration": 13,
    "start_time": "2023-09-05T18:24:54.865Z"
   },
   {
    "duration": 3,
    "start_time": "2023-09-05T18:25:11.555Z"
   },
   {
    "duration": 5,
    "start_time": "2023-09-05T18:25:11.977Z"
   },
   {
    "duration": 4,
    "start_time": "2023-09-05T18:25:26.074Z"
   },
   {
    "duration": 6,
    "start_time": "2023-09-05T18:25:27.093Z"
   },
   {
    "duration": 4,
    "start_time": "2023-09-05T18:25:48.862Z"
   },
   {
    "duration": 4,
    "start_time": "2023-09-05T18:25:49.179Z"
   },
   {
    "duration": 4,
    "start_time": "2023-09-05T18:25:57.884Z"
   },
   {
    "duration": 3,
    "start_time": "2023-09-05T18:26:15.019Z"
   },
   {
    "duration": 12,
    "start_time": "2023-09-05T18:26:15.386Z"
   },
   {
    "duration": 142,
    "start_time": "2023-09-05T18:26:56.343Z"
   },
   {
    "duration": 9,
    "start_time": "2023-09-05T18:26:56.653Z"
   },
   {
    "duration": 121,
    "start_time": "2023-09-05T18:27:07.143Z"
   },
   {
    "duration": 4,
    "start_time": "2023-09-05T18:27:12.440Z"
   },
   {
    "duration": 5,
    "start_time": "2023-09-05T18:27:13.629Z"
   },
   {
    "duration": 6,
    "start_time": "2023-09-05T18:27:20.521Z"
   },
   {
    "duration": 5,
    "start_time": "2023-09-05T18:27:37.965Z"
   },
   {
    "duration": 5,
    "start_time": "2023-09-05T18:27:42.818Z"
   },
   {
    "duration": 5,
    "start_time": "2023-09-05T18:27:46.681Z"
   },
   {
    "duration": 4,
    "start_time": "2023-09-05T18:28:36.268Z"
   },
   {
    "duration": 10,
    "start_time": "2023-09-05T18:28:36.635Z"
   },
   {
    "duration": 3,
    "start_time": "2023-09-05T18:28:48.398Z"
   },
   {
    "duration": 5,
    "start_time": "2023-09-05T18:28:48.843Z"
   },
   {
    "duration": 5,
    "start_time": "2023-09-05T18:28:53.781Z"
   },
   {
    "duration": 4,
    "start_time": "2023-09-05T18:29:25.103Z"
   },
   {
    "duration": 5,
    "start_time": "2023-09-05T18:29:27.904Z"
   },
   {
    "duration": 5,
    "start_time": "2023-09-05T18:29:34.159Z"
   },
   {
    "duration": 4,
    "start_time": "2023-09-05T18:29:38.073Z"
   },
   {
    "duration": 4,
    "start_time": "2023-09-05T18:29:41.825Z"
   },
   {
    "duration": 5,
    "start_time": "2023-09-05T18:29:46.736Z"
   },
   {
    "duration": 1793,
    "start_time": "2023-09-05T18:30:47.963Z"
   },
   {
    "duration": 2620,
    "start_time": "2023-09-05T18:31:22.298Z"
   },
   {
    "duration": 12,
    "start_time": "2023-09-05T18:31:29.965Z"
   },
   {
    "duration": 424,
    "start_time": "2023-09-05T18:32:27.879Z"
   },
   {
    "duration": 3595,
    "start_time": "2023-09-05T18:32:28.305Z"
   },
   {
    "duration": 17,
    "start_time": "2023-09-05T18:32:31.902Z"
   },
   {
    "duration": 70,
    "start_time": "2023-09-05T18:32:31.921Z"
   },
   {
    "duration": 26,
    "start_time": "2023-09-05T18:32:31.994Z"
   },
   {
    "duration": 312,
    "start_time": "2023-09-05T18:32:32.022Z"
   },
   {
    "duration": 7,
    "start_time": "2023-09-05T18:32:32.337Z"
   },
   {
    "duration": 25,
    "start_time": "2023-09-05T18:32:32.346Z"
   },
   {
    "duration": 11,
    "start_time": "2023-09-05T18:32:32.373Z"
   },
   {
    "duration": 2406,
    "start_time": "2023-09-05T18:32:32.386Z"
   },
   {
    "duration": 5,
    "start_time": "2023-09-05T18:32:34.794Z"
   },
   {
    "duration": 924,
    "start_time": "2023-09-05T18:32:34.801Z"
   },
   {
    "duration": 5,
    "start_time": "2023-09-05T18:33:49.338Z"
   },
   {
    "duration": 719,
    "start_time": "2023-09-05T18:34:28.055Z"
   },
   {
    "duration": 6,
    "start_time": "2023-09-05T18:34:33.975Z"
   },
   {
    "duration": 706,
    "start_time": "2023-09-05T18:35:17.606Z"
   },
   {
    "duration": 2139,
    "start_time": "2023-09-05T18:37:02.972Z"
   },
   {
    "duration": 5,
    "start_time": "2023-09-05T18:37:10.386Z"
   },
   {
    "duration": 5,
    "start_time": "2023-09-05T18:37:36.960Z"
   },
   {
    "duration": 5,
    "start_time": "2023-09-05T18:38:16.609Z"
   },
   {
    "duration": 71,
    "start_time": "2023-09-05T18:38:35.442Z"
   },
   {
    "duration": 29581,
    "start_time": "2023-09-05T18:40:27.331Z"
   },
   {
    "duration": 62,
    "start_time": "2023-09-05T18:42:49.988Z"
   },
   {
    "duration": 470,
    "start_time": "2023-09-05T18:42:56.256Z"
   },
   {
    "duration": 3660,
    "start_time": "2023-09-05T18:42:56.728Z"
   },
   {
    "duration": 16,
    "start_time": "2023-09-05T18:43:00.390Z"
   },
   {
    "duration": 93,
    "start_time": "2023-09-05T18:43:00.409Z"
   },
   {
    "duration": 73,
    "start_time": "2023-09-05T18:43:00.505Z"
   },
   {
    "duration": 345,
    "start_time": "2023-09-05T18:43:00.581Z"
   },
   {
    "duration": 7,
    "start_time": "2023-09-05T18:43:00.927Z"
   },
   {
    "duration": 59,
    "start_time": "2023-09-05T18:43:00.936Z"
   },
   {
    "duration": 60,
    "start_time": "2023-09-05T18:43:00.997Z"
   },
   {
    "duration": 2464,
    "start_time": "2023-09-05T18:43:01.059Z"
   },
   {
    "duration": 3,
    "start_time": "2023-09-05T18:43:03.524Z"
   },
   {
    "duration": 407,
    "start_time": "2023-09-05T18:43:26.882Z"
   },
   {
    "duration": 3665,
    "start_time": "2023-09-05T18:43:27.291Z"
   },
   {
    "duration": 15,
    "start_time": "2023-09-05T18:43:30.958Z"
   },
   {
    "duration": 79,
    "start_time": "2023-09-05T18:43:30.974Z"
   },
   {
    "duration": 77,
    "start_time": "2023-09-05T18:43:31.056Z"
   },
   {
    "duration": 303,
    "start_time": "2023-09-05T18:43:31.135Z"
   },
   {
    "duration": 6,
    "start_time": "2023-09-05T18:43:31.440Z"
   },
   {
    "duration": 36,
    "start_time": "2023-09-05T18:43:31.448Z"
   },
   {
    "duration": 28,
    "start_time": "2023-09-05T18:43:31.486Z"
   },
   {
    "duration": 2380,
    "start_time": "2023-09-05T18:43:31.516Z"
   },
   {
    "duration": 4,
    "start_time": "2023-09-05T18:43:33.898Z"
   },
   {
    "duration": 56,
    "start_time": "2023-09-05T18:44:02.608Z"
   },
   {
    "duration": 406,
    "start_time": "2023-09-05T18:44:09.400Z"
   },
   {
    "duration": 3556,
    "start_time": "2023-09-05T18:44:09.809Z"
   },
   {
    "duration": 14,
    "start_time": "2023-09-05T18:44:13.367Z"
   },
   {
    "duration": 33,
    "start_time": "2023-09-05T18:44:13.382Z"
   },
   {
    "duration": 4,
    "start_time": "2023-09-05T18:44:13.418Z"
   },
   {
    "duration": 277,
    "start_time": "2023-09-05T18:44:13.423Z"
   },
   {
    "duration": 6,
    "start_time": "2023-09-05T18:44:13.702Z"
   },
   {
    "duration": 19,
    "start_time": "2023-09-05T18:44:13.710Z"
   },
   {
    "duration": 8,
    "start_time": "2023-09-05T18:44:13.730Z"
   },
   {
    "duration": 2267,
    "start_time": "2023-09-05T18:44:13.740Z"
   },
   {
    "duration": 3,
    "start_time": "2023-09-05T18:44:16.009Z"
   },
   {
    "duration": 532,
    "start_time": "2023-09-05T18:44:30.310Z"
   },
   {
    "duration": 3712,
    "start_time": "2023-09-05T18:44:30.845Z"
   },
   {
    "duration": 15,
    "start_time": "2023-09-05T18:44:34.559Z"
   },
   {
    "duration": 45,
    "start_time": "2023-09-05T18:44:34.575Z"
   },
   {
    "duration": 6,
    "start_time": "2023-09-05T18:44:34.622Z"
   },
   {
    "duration": 260,
    "start_time": "2023-09-05T18:44:34.629Z"
   },
   {
    "duration": 7,
    "start_time": "2023-09-05T18:44:34.890Z"
   },
   {
    "duration": 16,
    "start_time": "2023-09-05T18:44:34.898Z"
   },
   {
    "duration": 6,
    "start_time": "2023-09-05T18:44:34.915Z"
   },
   {
    "duration": 2266,
    "start_time": "2023-09-05T18:44:34.923Z"
   },
   {
    "duration": 3,
    "start_time": "2023-09-05T18:44:37.191Z"
   },
   {
    "duration": 2,
    "start_time": "2023-09-05T18:46:56.208Z"
   },
   {
    "duration": 6,
    "start_time": "2023-09-05T18:47:02.853Z"
   },
   {
    "duration": 3,
    "start_time": "2023-09-05T18:47:07.346Z"
   },
   {
    "duration": 1996,
    "start_time": "2023-09-05T18:47:25.434Z"
   },
   {
    "duration": 8,
    "start_time": "2023-09-05T18:47:27.432Z"
   },
   {
    "duration": 71,
    "start_time": "2023-09-05T18:48:21.047Z"
   },
   {
    "duration": 8,
    "start_time": "2023-09-05T18:48:43.860Z"
   },
   {
    "duration": 8,
    "start_time": "2023-09-05T18:48:54.886Z"
   },
   {
    "duration": 7,
    "start_time": "2023-09-05T18:51:41.593Z"
   },
   {
    "duration": 9,
    "start_time": "2023-09-05T18:51:44.018Z"
   },
   {
    "duration": 6,
    "start_time": "2023-09-05T18:51:47.278Z"
   },
   {
    "duration": 940,
    "start_time": "2023-09-05T18:54:43.100Z"
   },
   {
    "duration": 4,
    "start_time": "2023-09-05T18:54:58.536Z"
   },
   {
    "duration": 3,
    "start_time": "2023-09-05T18:55:21.286Z"
   },
   {
    "duration": 49,
    "start_time": "2023-09-05T18:55:26.562Z"
   },
   {
    "duration": 390,
    "start_time": "2023-09-05T18:55:56.025Z"
   },
   {
    "duration": 3635,
    "start_time": "2023-09-05T18:55:56.417Z"
   },
   {
    "duration": 16,
    "start_time": "2023-09-05T18:56:00.053Z"
   },
   {
    "duration": 94,
    "start_time": "2023-09-05T18:56:00.071Z"
   },
   {
    "duration": 37,
    "start_time": "2023-09-05T18:56:00.168Z"
   },
   {
    "duration": 282,
    "start_time": "2023-09-05T18:56:00.207Z"
   },
   {
    "duration": 6,
    "start_time": "2023-09-05T18:56:00.491Z"
   },
   {
    "duration": 35,
    "start_time": "2023-09-05T18:56:00.499Z"
   },
   {
    "duration": 39,
    "start_time": "2023-09-05T18:56:00.536Z"
   },
   {
    "duration": 2338,
    "start_time": "2023-09-05T18:56:00.577Z"
   },
   {
    "duration": 4,
    "start_time": "2023-09-05T18:56:02.917Z"
   },
   {
    "duration": 2074,
    "start_time": "2023-09-05T18:56:02.922Z"
   },
   {
    "duration": 1039,
    "start_time": "2023-09-05T18:56:04.998Z"
   },
   {
    "duration": 4,
    "start_time": "2023-09-05T18:56:06.040Z"
   },
   {
    "duration": 172,
    "start_time": "2023-09-05T18:59:12.396Z"
   },
   {
    "duration": 26,
    "start_time": "2023-09-05T18:59:18.876Z"
   },
   {
    "duration": 62,
    "start_time": "2023-09-05T18:59:41.777Z"
   },
   {
    "duration": 129434,
    "start_time": "2023-09-05T19:00:59.842Z"
   },
   {
    "duration": 4,
    "start_time": "2023-09-05T19:03:20.035Z"
   },
   {
    "duration": 380,
    "start_time": "2023-09-05T19:03:40.409Z"
   },
   {
    "duration": 993,
    "start_time": "2023-09-05T19:03:40.791Z"
   },
   {
    "duration": 15,
    "start_time": "2023-09-05T19:03:41.786Z"
   },
   {
    "duration": 50,
    "start_time": "2023-09-05T19:03:41.802Z"
   },
   {
    "duration": 7,
    "start_time": "2023-09-05T19:03:41.854Z"
   },
   {
    "duration": 257,
    "start_time": "2023-09-05T19:03:41.863Z"
   },
   {
    "duration": 8,
    "start_time": "2023-09-05T19:03:42.122Z"
   },
   {
    "duration": 12,
    "start_time": "2023-09-05T19:03:42.132Z"
   },
   {
    "duration": 22,
    "start_time": "2023-09-05T19:03:42.145Z"
   },
   {
    "duration": 2391,
    "start_time": "2023-09-05T19:03:42.169Z"
   },
   {
    "duration": 6,
    "start_time": "2023-09-05T19:03:44.562Z"
   },
   {
    "duration": 451,
    "start_time": "2023-09-05T19:13:24.830Z"
   },
   {
    "duration": 981,
    "start_time": "2023-09-05T19:13:25.284Z"
   },
   {
    "duration": 24,
    "start_time": "2023-09-05T19:13:26.268Z"
   },
   {
    "duration": 38,
    "start_time": "2023-09-05T19:13:26.295Z"
   },
   {
    "duration": 9,
    "start_time": "2023-09-05T19:13:26.336Z"
   },
   {
    "duration": 291,
    "start_time": "2023-09-05T19:13:26.347Z"
   },
   {
    "duration": 9,
    "start_time": "2023-09-05T19:13:26.640Z"
   },
   {
    "duration": 22,
    "start_time": "2023-09-05T19:13:26.652Z"
   },
   {
    "duration": 8,
    "start_time": "2023-09-05T19:13:26.676Z"
   },
   {
    "duration": 2446,
    "start_time": "2023-09-05T19:13:26.687Z"
   },
   {
    "duration": 4,
    "start_time": "2023-09-05T19:13:29.135Z"
   },
   {
    "duration": 13,
    "start_time": "2023-09-05T19:14:04.064Z"
   },
   {
    "duration": 124,
    "start_time": "2023-09-05T19:14:30.280Z"
   },
   {
    "duration": 102,
    "start_time": "2023-09-05T19:14:45.962Z"
   },
   {
    "duration": 25144,
    "start_time": "2023-09-05T19:14:50.727Z"
   },
   {
    "duration": 2267,
    "start_time": "2023-09-05T19:17:17.624Z"
   },
   {
    "duration": 107,
    "start_time": "2023-09-05T19:18:01.688Z"
   },
   {
    "duration": 70,
    "start_time": "2023-09-05T19:18:07.163Z"
   },
   {
    "duration": 21401,
    "start_time": "2023-09-05T19:18:14.968Z"
   },
   {
    "duration": 98,
    "start_time": "2023-09-05T19:18:42.067Z"
   },
   {
    "duration": 112,
    "start_time": "2023-09-05T19:20:23.474Z"
   },
   {
    "duration": 929,
    "start_time": "2023-09-05T19:20:31.289Z"
   },
   {
    "duration": 493,
    "start_time": "2023-09-05T19:21:03.266Z"
   },
   {
    "duration": 3559,
    "start_time": "2023-09-05T19:21:03.761Z"
   },
   {
    "duration": 15,
    "start_time": "2023-09-05T19:21:07.322Z"
   },
   {
    "duration": 50,
    "start_time": "2023-09-05T19:21:07.339Z"
   },
   {
    "duration": 5,
    "start_time": "2023-09-05T19:21:07.391Z"
   },
   {
    "duration": 257,
    "start_time": "2023-09-05T19:21:07.397Z"
   },
   {
    "duration": 13,
    "start_time": "2023-09-05T19:21:07.656Z"
   },
   {
    "duration": 15,
    "start_time": "2023-09-05T19:21:07.670Z"
   },
   {
    "duration": 9,
    "start_time": "2023-09-05T19:21:07.687Z"
   },
   {
    "duration": 2290,
    "start_time": "2023-09-05T19:21:07.698Z"
   },
   {
    "duration": 3,
    "start_time": "2023-09-05T19:21:09.989Z"
   },
   {
    "duration": 2038,
    "start_time": "2023-09-05T19:21:09.995Z"
   },
   {
    "duration": 1083,
    "start_time": "2023-09-05T19:21:12.036Z"
   },
   {
    "duration": 826,
    "start_time": "2023-09-05T19:21:25.838Z"
   },
   {
    "duration": 491,
    "start_time": "2023-09-05T19:21:32.354Z"
   },
   {
    "duration": 1465,
    "start_time": "2023-09-05T19:21:32.848Z"
   },
   {
    "duration": 14,
    "start_time": "2023-09-05T19:21:34.315Z"
   },
   {
    "duration": 40,
    "start_time": "2023-09-05T19:21:34.330Z"
   },
   {
    "duration": 6,
    "start_time": "2023-09-05T19:21:34.373Z"
   },
   {
    "duration": 286,
    "start_time": "2023-09-05T19:21:34.381Z"
   },
   {
    "duration": 8,
    "start_time": "2023-09-05T19:21:34.669Z"
   },
   {
    "duration": 15,
    "start_time": "2023-09-05T19:21:34.679Z"
   },
   {
    "duration": 6,
    "start_time": "2023-09-05T19:21:34.696Z"
   },
   {
    "duration": 2392,
    "start_time": "2023-09-05T19:21:34.704Z"
   },
   {
    "duration": 3,
    "start_time": "2023-09-05T19:21:37.099Z"
   },
   {
    "duration": 2122,
    "start_time": "2023-09-05T19:21:37.104Z"
   },
   {
    "duration": 920,
    "start_time": "2023-09-05T19:21:39.229Z"
   },
   {
    "duration": 435,
    "start_time": "2023-09-05T19:24:23.380Z"
   },
   {
    "duration": 1319,
    "start_time": "2023-09-05T19:24:23.817Z"
   },
   {
    "duration": 15,
    "start_time": "2023-09-05T19:24:25.138Z"
   },
   {
    "duration": 39,
    "start_time": "2023-09-05T19:24:25.156Z"
   },
   {
    "duration": 5,
    "start_time": "2023-09-05T19:24:25.197Z"
   },
   {
    "duration": 287,
    "start_time": "2023-09-05T19:24:25.203Z"
   },
   {
    "duration": 8,
    "start_time": "2023-09-05T19:24:25.492Z"
   },
   {
    "duration": 41,
    "start_time": "2023-09-05T19:24:25.502Z"
   },
   {
    "duration": 34,
    "start_time": "2023-09-05T19:24:25.546Z"
   },
   {
    "duration": 2229,
    "start_time": "2023-09-05T19:24:25.582Z"
   },
   {
    "duration": 3,
    "start_time": "2023-09-05T19:24:27.813Z"
   },
   {
    "duration": 5402360,
    "start_time": "2023-09-05T19:24:27.818Z"
   },
   {
    "duration": 4,
    "start_time": "2023-09-05T20:54:30.181Z"
   },
   {
    "duration": 2054,
    "start_time": "2023-09-05T20:55:20.162Z"
   },
   {
    "duration": 4,
    "start_time": "2023-09-05T20:55:26.608Z"
   },
   {
    "duration": 892,
    "start_time": "2023-09-05T20:56:23.083Z"
   },
   {
    "duration": 6,
    "start_time": "2023-09-05T20:56:31.567Z"
   },
   {
    "duration": 4,
    "start_time": "2023-09-05T20:57:57.369Z"
   },
   {
    "duration": 37,
    "start_time": "2023-09-05T20:58:19.287Z"
   },
   {
    "duration": 119,
    "start_time": "2023-09-05T20:59:25.059Z"
   },
   {
    "duration": 128,
    "start_time": "2023-09-05T20:59:31.874Z"
   },
   {
    "duration": 129,
    "start_time": "2023-09-05T20:59:40.840Z"
   },
   {
    "duration": 5,
    "start_time": "2023-09-05T20:59:54.559Z"
   },
   {
    "duration": 1233,
    "start_time": "2023-09-05T21:01:01.862Z"
   },
   {
    "duration": 5,
    "start_time": "2023-09-05T21:02:21.964Z"
   },
   {
    "duration": 65,
    "start_time": "2023-09-05T21:04:30.170Z"
   },
   {
    "duration": 4,
    "start_time": "2023-09-05T21:04:56.965Z"
   },
   {
    "duration": 3,
    "start_time": "2023-09-05T21:05:18.707Z"
   },
   {
    "duration": 8,
    "start_time": "2023-09-05T21:05:25.988Z"
   },
   {
    "duration": 3,
    "start_time": "2023-09-05T21:07:15.503Z"
   },
   {
    "duration": 6,
    "start_time": "2023-09-05T21:07:21.467Z"
   },
   {
    "duration": 11,
    "start_time": "2023-09-05T21:08:38.020Z"
   },
   {
    "duration": 3,
    "start_time": "2023-09-05T21:09:04.613Z"
   },
   {
    "duration": 10,
    "start_time": "2023-09-05T21:09:21.842Z"
   },
   {
    "duration": 3,
    "start_time": "2023-09-05T21:09:40.329Z"
   },
   {
    "duration": 3,
    "start_time": "2023-09-05T21:09:46.262Z"
   },
   {
    "duration": 2,
    "start_time": "2023-09-05T21:10:03.669Z"
   },
   {
    "duration": 95,
    "start_time": "2023-09-05T21:11:55.086Z"
   },
   {
    "duration": 39,
    "start_time": "2023-09-05T21:12:17.448Z"
   },
   {
    "duration": 43,
    "start_time": "2023-09-05T21:12:23.787Z"
   },
   {
    "duration": 10,
    "start_time": "2023-09-05T21:12:35.179Z"
   },
   {
    "duration": 3,
    "start_time": "2023-09-05T21:12:36.862Z"
   },
   {
    "duration": 6,
    "start_time": "2023-09-05T21:12:49.760Z"
   },
   {
    "duration": 7,
    "start_time": "2023-09-05T21:13:06.224Z"
   },
   {
    "duration": 9,
    "start_time": "2023-09-05T21:16:09.062Z"
   },
   {
    "duration": 3,
    "start_time": "2023-09-05T21:16:33.498Z"
   },
   {
    "duration": 6,
    "start_time": "2023-09-05T21:16:40.392Z"
   },
   {
    "duration": 5468,
    "start_time": "2023-09-05T21:17:28.905Z"
   },
   {
    "duration": 10881,
    "start_time": "2023-09-05T21:19:23.489Z"
   },
   {
    "duration": 12559,
    "start_time": "2023-09-05T21:20:10.690Z"
   },
   {
    "duration": 12836,
    "start_time": "2023-09-05T21:20:48.695Z"
   },
   {
    "duration": 12509,
    "start_time": "2023-09-05T21:21:48.303Z"
   },
   {
    "duration": 4,
    "start_time": "2023-09-05T21:24:34.730Z"
   },
   {
    "duration": 4,
    "start_time": "2023-09-05T21:24:45.306Z"
   },
   {
    "duration": 4,
    "start_time": "2023-09-05T21:24:49.114Z"
   },
   {
    "duration": 6,
    "start_time": "2023-09-05T21:25:28.259Z"
   },
   {
    "duration": 2,
    "start_time": "2023-09-05T21:28:10.874Z"
   },
   {
    "duration": 122,
    "start_time": "2023-09-05T21:29:49.510Z"
   },
   {
    "duration": 57,
    "start_time": "2023-09-05T21:30:53.096Z"
   },
   {
    "duration": 50,
    "start_time": "2023-09-05T21:31:35.111Z"
   },
   {
    "duration": 2469,
    "start_time": "2023-09-05T21:31:41.933Z"
   },
   {
    "duration": 3597,
    "start_time": "2023-09-05T21:31:44.404Z"
   },
   {
    "duration": 15,
    "start_time": "2023-09-05T21:31:48.003Z"
   },
   {
    "duration": 47,
    "start_time": "2023-09-05T21:31:48.020Z"
   },
   {
    "duration": 4,
    "start_time": "2023-09-05T21:31:48.069Z"
   },
   {
    "duration": 262,
    "start_time": "2023-09-05T21:31:48.075Z"
   },
   {
    "duration": 6,
    "start_time": "2023-09-05T21:31:48.339Z"
   },
   {
    "duration": 24,
    "start_time": "2023-09-05T21:31:48.347Z"
   },
   {
    "duration": 6,
    "start_time": "2023-09-05T21:31:48.373Z"
   },
   {
    "duration": 2198,
    "start_time": "2023-09-05T21:31:48.381Z"
   },
   {
    "duration": 3,
    "start_time": "2023-09-05T21:31:50.580Z"
   },
   {
    "duration": 2090,
    "start_time": "2023-09-05T21:31:50.585Z"
   },
   {
    "duration": 1058,
    "start_time": "2023-09-05T21:31:52.677Z"
   },
   {
    "duration": 5,
    "start_time": "2023-09-05T21:31:53.739Z"
   },
   {
    "duration": 13,
    "start_time": "2023-09-05T21:31:53.745Z"
   },
   {
    "duration": 74,
    "start_time": "2023-09-05T21:31:53.759Z"
   },
   {
    "duration": 8,
    "start_time": "2023-09-05T21:31:53.834Z"
   },
   {
    "duration": 12313,
    "start_time": "2023-09-05T21:31:53.843Z"
   },
   {
    "duration": 5,
    "start_time": "2023-09-05T21:32:06.157Z"
   },
   {
    "duration": 8,
    "start_time": "2023-09-05T21:32:06.166Z"
   },
   {
    "duration": 1771,
    "start_time": "2023-09-05T21:32:53.821Z"
   },
   {
    "duration": 3625,
    "start_time": "2023-09-05T21:32:55.594Z"
   },
   {
    "duration": 14,
    "start_time": "2023-09-05T21:32:59.221Z"
   },
   {
    "duration": 39,
    "start_time": "2023-09-05T21:32:59.237Z"
   },
   {
    "duration": 4,
    "start_time": "2023-09-05T21:32:59.278Z"
   },
   {
    "duration": 267,
    "start_time": "2023-09-05T21:32:59.284Z"
   },
   {
    "duration": 14,
    "start_time": "2023-09-05T21:32:59.553Z"
   },
   {
    "duration": 13,
    "start_time": "2023-09-05T21:32:59.568Z"
   },
   {
    "duration": 17,
    "start_time": "2023-09-05T21:32:59.583Z"
   },
   {
    "duration": 2211,
    "start_time": "2023-09-05T21:32:59.602Z"
   },
   {
    "duration": 4,
    "start_time": "2023-09-05T21:33:01.814Z"
   },
   {
    "duration": 2366,
    "start_time": "2023-09-05T21:33:01.820Z"
   },
   {
    "duration": 1139,
    "start_time": "2023-09-05T21:33:04.188Z"
   },
   {
    "duration": 5,
    "start_time": "2023-09-05T21:33:05.330Z"
   },
   {
    "duration": 23,
    "start_time": "2023-09-05T21:33:05.337Z"
   },
   {
    "duration": 97,
    "start_time": "2023-09-05T21:33:05.361Z"
   },
   {
    "duration": 40,
    "start_time": "2023-09-05T21:33:05.459Z"
   },
   {
    "duration": 12043,
    "start_time": "2023-09-05T21:33:05.501Z"
   },
   {
    "duration": 5,
    "start_time": "2023-09-05T21:33:17.547Z"
   },
   {
    "duration": 13,
    "start_time": "2023-09-05T21:33:17.554Z"
   },
   {
    "duration": 176,
    "start_time": "2023-09-05T21:40:35.698Z"
   },
   {
    "duration": 1699,
    "start_time": "2023-09-05T21:40:42.002Z"
   },
   {
    "duration": 3577,
    "start_time": "2023-09-05T21:40:43.703Z"
   },
   {
    "duration": 13,
    "start_time": "2023-09-05T21:40:47.282Z"
   },
   {
    "duration": 37,
    "start_time": "2023-09-05T21:40:47.297Z"
   },
   {
    "duration": 4,
    "start_time": "2023-09-05T21:40:47.336Z"
   },
   {
    "duration": 259,
    "start_time": "2023-09-05T21:40:47.342Z"
   },
   {
    "duration": 7,
    "start_time": "2023-09-05T21:40:47.602Z"
   },
   {
    "duration": 12,
    "start_time": "2023-09-05T21:40:47.610Z"
   },
   {
    "duration": 6,
    "start_time": "2023-09-05T21:40:47.624Z"
   },
   {
    "duration": 2224,
    "start_time": "2023-09-05T21:40:47.632Z"
   },
   {
    "duration": 4,
    "start_time": "2023-09-05T21:40:49.857Z"
   },
   {
    "duration": 2180,
    "start_time": "2023-09-05T21:40:49.866Z"
   },
   {
    "duration": 1091,
    "start_time": "2023-09-05T21:40:52.048Z"
   },
   {
    "duration": 5,
    "start_time": "2023-09-05T21:40:53.141Z"
   },
   {
    "duration": 11,
    "start_time": "2023-09-05T21:40:53.147Z"
   },
   {
    "duration": 68,
    "start_time": "2023-09-05T21:40:53.159Z"
   },
   {
    "duration": 10,
    "start_time": "2023-09-05T21:40:53.229Z"
   },
   {
    "duration": 12094,
    "start_time": "2023-09-05T21:40:53.241Z"
   },
   {
    "duration": 5,
    "start_time": "2023-09-05T21:41:05.337Z"
   },
   {
    "duration": 11,
    "start_time": "2023-09-05T21:41:05.344Z"
   },
   {
    "duration": 759212,
    "start_time": "2023-09-05T21:41:05.357Z"
   },
   {
    "duration": 6,
    "start_time": "2023-09-05T21:53:44.573Z"
   },
   {
    "duration": 104,
    "start_time": "2023-09-05T21:55:08.998Z"
   },
   {
    "duration": 3,
    "start_time": "2023-09-05T21:55:45.189Z"
   },
   {
    "duration": 3,
    "start_time": "2023-09-05T21:55:49.044Z"
   },
   {
    "duration": 39,
    "start_time": "2023-09-05T21:56:40.678Z"
   },
   {
    "duration": 8,
    "start_time": "2023-09-05T21:56:41.223Z"
   },
   {
    "duration": 13529,
    "start_time": "2023-09-05T21:56:44.170Z"
   },
   {
    "duration": 4,
    "start_time": "2023-09-05T21:56:57.702Z"
   },
   {
    "duration": 2,
    "start_time": "2023-09-05T21:57:31.431Z"
   },
   {
    "duration": 1870,
    "start_time": "2023-09-05T21:58:55.580Z"
   },
   {
    "duration": 3587,
    "start_time": "2023-09-05T21:58:57.452Z"
   },
   {
    "duration": 15,
    "start_time": "2023-09-05T21:59:01.041Z"
   },
   {
    "duration": 73,
    "start_time": "2023-09-05T21:59:01.058Z"
   },
   {
    "duration": 24,
    "start_time": "2023-09-05T21:59:01.133Z"
   },
   {
    "duration": 283,
    "start_time": "2023-09-05T21:59:01.159Z"
   },
   {
    "duration": 8,
    "start_time": "2023-09-05T21:59:01.444Z"
   },
   {
    "duration": 49,
    "start_time": "2023-09-05T21:59:01.454Z"
   },
   {
    "duration": 37,
    "start_time": "2023-09-05T21:59:01.505Z"
   },
   {
    "duration": 2278,
    "start_time": "2023-09-05T21:59:01.546Z"
   },
   {
    "duration": 4,
    "start_time": "2023-09-05T21:59:03.825Z"
   },
   {
    "duration": 2236,
    "start_time": "2023-09-05T21:59:03.831Z"
   },
   {
    "duration": 1168,
    "start_time": "2023-09-05T21:59:06.069Z"
   },
   {
    "duration": 6,
    "start_time": "2023-09-05T21:59:07.239Z"
   },
   {
    "duration": 21,
    "start_time": "2023-09-05T21:59:07.246Z"
   },
   {
    "duration": 64,
    "start_time": "2023-09-05T21:59:07.269Z"
   },
   {
    "duration": 6,
    "start_time": "2023-09-05T21:59:07.335Z"
   },
   {
    "duration": 13069,
    "start_time": "2023-09-05T21:59:07.343Z"
   },
   {
    "duration": 4,
    "start_time": "2023-09-05T21:59:20.414Z"
   },
   {
    "duration": 4,
    "start_time": "2023-09-05T21:59:20.420Z"
   },
   {
    "duration": 199911,
    "start_time": "2023-09-05T21:59:20.425Z"
   },
   {
    "duration": 3,
    "start_time": "2023-09-05T22:02:40.338Z"
   },
   {
    "duration": 20,
    "start_time": "2023-09-05T22:02:40.342Z"
   },
   {
    "duration": 22,
    "start_time": "2023-09-05T22:02:40.364Z"
   },
   {
    "duration": 1928,
    "start_time": "2023-09-05T22:03:18.526Z"
   },
   {
    "duration": 3631,
    "start_time": "2023-09-05T22:03:20.456Z"
   },
   {
    "duration": 19,
    "start_time": "2023-09-05T22:03:24.089Z"
   },
   {
    "duration": 49,
    "start_time": "2023-09-05T22:03:24.110Z"
   },
   {
    "duration": 5,
    "start_time": "2023-09-05T22:03:24.162Z"
   },
   {
    "duration": 258,
    "start_time": "2023-09-05T22:03:24.169Z"
   },
   {
    "duration": 8,
    "start_time": "2023-09-05T22:03:24.429Z"
   },
   {
    "duration": 30,
    "start_time": "2023-09-05T22:03:24.439Z"
   },
   {
    "duration": 12,
    "start_time": "2023-09-05T22:03:24.471Z"
   },
   {
    "duration": 2243,
    "start_time": "2023-09-05T22:03:24.485Z"
   },
   {
    "duration": 4,
    "start_time": "2023-09-05T22:03:26.730Z"
   },
   {
    "duration": 2263,
    "start_time": "2023-09-05T22:03:26.736Z"
   },
   {
    "duration": 1483,
    "start_time": "2023-09-05T22:03:29.001Z"
   },
   {
    "duration": 6,
    "start_time": "2023-09-05T22:03:30.489Z"
   },
   {
    "duration": 55,
    "start_time": "2023-09-05T22:03:30.497Z"
   },
   {
    "duration": 105,
    "start_time": "2023-09-05T22:03:30.554Z"
   },
   {
    "duration": 7,
    "start_time": "2023-09-05T22:03:30.661Z"
   },
   {
    "duration": 13872,
    "start_time": "2023-09-05T22:03:30.670Z"
   },
   {
    "duration": 6,
    "start_time": "2023-09-05T22:03:44.544Z"
   },
   {
    "duration": 16,
    "start_time": "2023-09-05T22:03:44.551Z"
   },
   {
    "duration": 138159,
    "start_time": "2023-09-05T22:03:44.568Z"
   },
   {
    "duration": 3,
    "start_time": "2023-09-05T22:06:02.729Z"
   },
   {
    "duration": 35,
    "start_time": "2023-09-05T22:06:02.733Z"
   },
   {
    "duration": 19,
    "start_time": "2023-09-05T22:06:02.770Z"
   },
   {
    "duration": 3000,
    "start_time": "2023-09-05T22:08:45.977Z"
   },
   {
    "duration": 2788,
    "start_time": "2023-09-05T22:09:22.715Z"
   },
   {
    "duration": 2562,
    "start_time": "2023-09-05T22:09:39.006Z"
   },
   {
    "duration": 3,
    "start_time": "2023-09-05T22:10:38.486Z"
   },
   {
    "duration": 1857,
    "start_time": "2023-09-05T22:16:12.473Z"
   },
   {
    "duration": 3,
    "start_time": "2023-09-05T22:24:39.920Z"
   },
   {
    "duration": 124,
    "start_time": "2023-09-05T22:25:31.626Z"
   },
   {
    "duration": 4,
    "start_time": "2023-09-05T22:25:36.985Z"
   },
   {
    "duration": 15,
    "start_time": "2023-09-05T22:26:08.123Z"
   },
   {
    "duration": 3,
    "start_time": "2023-09-05T22:26:27.070Z"
   },
   {
    "duration": 15,
    "start_time": "2023-09-05T22:26:28.084Z"
   },
   {
    "duration": 3,
    "start_time": "2023-09-05T22:26:47.437Z"
   },
   {
    "duration": 15,
    "start_time": "2023-09-05T22:26:49.548Z"
   },
   {
    "duration": 1767,
    "start_time": "2023-09-05T22:29:17.389Z"
   },
   {
    "duration": 3711,
    "start_time": "2023-09-05T22:29:19.158Z"
   },
   {
    "duration": 17,
    "start_time": "2023-09-05T22:29:22.871Z"
   },
   {
    "duration": 47,
    "start_time": "2023-09-05T22:29:22.889Z"
   },
   {
    "duration": 10,
    "start_time": "2023-09-05T22:29:22.939Z"
   },
   {
    "duration": 274,
    "start_time": "2023-09-05T22:29:22.951Z"
   },
   {
    "duration": 8,
    "start_time": "2023-09-05T22:29:23.228Z"
   },
   {
    "duration": 31,
    "start_time": "2023-09-05T22:29:23.238Z"
   },
   {
    "duration": 34,
    "start_time": "2023-09-05T22:29:23.271Z"
   },
   {
    "duration": 2322,
    "start_time": "2023-09-05T22:29:23.307Z"
   },
   {
    "duration": 4,
    "start_time": "2023-09-05T22:29:25.631Z"
   },
   {
    "duration": 2258,
    "start_time": "2023-09-05T22:29:25.637Z"
   },
   {
    "duration": 1153,
    "start_time": "2023-09-05T22:29:27.897Z"
   },
   {
    "duration": 5,
    "start_time": "2023-09-05T22:29:29.053Z"
   },
   {
    "duration": 5,
    "start_time": "2023-09-05T22:29:29.060Z"
   },
   {
    "duration": 64,
    "start_time": "2023-09-05T22:29:29.066Z"
   },
   {
    "duration": 8,
    "start_time": "2023-09-05T22:29:29.132Z"
   },
   {
    "duration": 13608,
    "start_time": "2023-09-05T22:29:29.141Z"
   },
   {
    "duration": 5,
    "start_time": "2023-09-05T22:29:42.751Z"
   },
   {
    "duration": 11,
    "start_time": "2023-09-05T22:29:42.757Z"
   },
   {
    "duration": 9,
    "start_time": "2023-09-05T22:29:42.769Z"
   },
   {
    "duration": 10,
    "start_time": "2023-09-05T22:29:42.779Z"
   },
   {
    "duration": 121,
    "start_time": "2023-09-05T22:29:42.791Z"
   },
   {
    "duration": 0,
    "start_time": "2023-09-05T22:29:42.914Z"
   },
   {
    "duration": 0,
    "start_time": "2023-09-05T22:29:42.915Z"
   },
   {
    "duration": 159,
    "start_time": "2023-09-05T22:29:54.570Z"
   },
   {
    "duration": 3,
    "start_time": "2023-09-05T22:30:07.492Z"
   },
   {
    "duration": 8,
    "start_time": "2023-09-05T22:30:25.712Z"
   },
   {
    "duration": 48,
    "start_time": "2023-09-05T22:30:26.079Z"
   },
   {
    "duration": 1853,
    "start_time": "2023-09-05T22:30:30.313Z"
   },
   {
    "duration": 3621,
    "start_time": "2023-09-05T22:30:32.168Z"
   },
   {
    "duration": 17,
    "start_time": "2023-09-05T22:30:35.791Z"
   },
   {
    "duration": 38,
    "start_time": "2023-09-05T22:30:35.809Z"
   },
   {
    "duration": 4,
    "start_time": "2023-09-05T22:30:35.850Z"
   },
   {
    "duration": 269,
    "start_time": "2023-09-05T22:30:35.856Z"
   },
   {
    "duration": 8,
    "start_time": "2023-09-05T22:30:36.127Z"
   },
   {
    "duration": 14,
    "start_time": "2023-09-05T22:30:36.136Z"
   },
   {
    "duration": 18,
    "start_time": "2023-09-05T22:30:36.152Z"
   },
   {
    "duration": 2202,
    "start_time": "2023-09-05T22:30:36.172Z"
   },
   {
    "duration": 3,
    "start_time": "2023-09-05T22:30:38.376Z"
   },
   {
    "duration": 2183,
    "start_time": "2023-09-05T22:30:38.381Z"
   },
   {
    "duration": 1206,
    "start_time": "2023-09-05T22:30:40.567Z"
   },
   {
    "duration": 6,
    "start_time": "2023-09-05T22:30:41.777Z"
   },
   {
    "duration": 10,
    "start_time": "2023-09-05T22:30:41.784Z"
   },
   {
    "duration": 81,
    "start_time": "2023-09-05T22:30:41.796Z"
   },
   {
    "duration": 7,
    "start_time": "2023-09-05T22:30:41.879Z"
   },
   {
    "duration": 13734,
    "start_time": "2023-09-05T22:30:41.888Z"
   },
   {
    "duration": 5,
    "start_time": "2023-09-05T22:30:55.623Z"
   },
   {
    "duration": 13,
    "start_time": "2023-09-05T22:30:55.630Z"
   },
   {
    "duration": 10,
    "start_time": "2023-09-05T22:30:55.644Z"
   },
   {
    "duration": 4,
    "start_time": "2023-09-05T22:30:55.656Z"
   },
   {
    "duration": 3,
    "start_time": "2023-09-05T22:30:55.666Z"
   },
   {
    "duration": 4,
    "start_time": "2023-09-05T22:40:40.409Z"
   },
   {
    "duration": 1909,
    "start_time": "2023-09-05T22:40:57.245Z"
   },
   {
    "duration": 36,
    "start_time": "2023-09-05T22:41:47.716Z"
   },
   {
    "duration": 4,
    "start_time": "2023-09-05T22:42:27.985Z"
   },
   {
    "duration": 1275,
    "start_time": "2023-09-05T22:42:47.458Z"
   },
   {
    "duration": 115,
    "start_time": "2023-09-05T22:43:00.455Z"
   },
   {
    "duration": 7,
    "start_time": "2023-09-05T22:43:10.134Z"
   },
   {
    "duration": 3501,
    "start_time": "2023-09-05T22:43:10.143Z"
   },
   {
    "duration": 11,
    "start_time": "2023-09-05T22:43:13.646Z"
   },
   {
    "duration": 40,
    "start_time": "2023-09-05T22:43:13.658Z"
   },
   {
    "duration": 29,
    "start_time": "2023-09-05T22:43:13.701Z"
   },
   {
    "duration": 274,
    "start_time": "2023-09-05T22:43:13.732Z"
   },
   {
    "duration": 8,
    "start_time": "2023-09-05T22:43:14.008Z"
   },
   {
    "duration": 20,
    "start_time": "2023-09-05T22:43:14.018Z"
   },
   {
    "duration": 21,
    "start_time": "2023-09-05T22:43:14.040Z"
   },
   {
    "duration": 2198,
    "start_time": "2023-09-05T22:43:14.063Z"
   },
   {
    "duration": 5,
    "start_time": "2023-09-05T22:43:16.262Z"
   },
   {
    "duration": 2198,
    "start_time": "2023-09-05T22:43:16.269Z"
   },
   {
    "duration": 2025,
    "start_time": "2023-09-05T22:43:35.662Z"
   },
   {
    "duration": 3646,
    "start_time": "2023-09-05T22:43:37.689Z"
   },
   {
    "duration": 10,
    "start_time": "2023-09-05T22:43:41.337Z"
   },
   {
    "duration": 42,
    "start_time": "2023-09-05T22:43:41.348Z"
   },
   {
    "duration": 4,
    "start_time": "2023-09-05T22:43:41.392Z"
   },
   {
    "duration": 285,
    "start_time": "2023-09-05T22:43:41.397Z"
   },
   {
    "duration": 8,
    "start_time": "2023-09-05T22:43:41.685Z"
   },
   {
    "duration": 15,
    "start_time": "2023-09-05T22:43:41.695Z"
   },
   {
    "duration": 21,
    "start_time": "2023-09-05T22:43:41.712Z"
   },
   {
    "duration": 2369,
    "start_time": "2023-09-05T22:43:41.734Z"
   },
   {
    "duration": 2,
    "start_time": "2023-09-05T22:43:44.105Z"
   },
   {
    "duration": 2290,
    "start_time": "2023-09-05T22:43:44.109Z"
   },
   {
    "duration": 2144,
    "start_time": "2023-09-05T22:43:46.400Z"
   },
   {
    "duration": 3,
    "start_time": "2023-09-05T22:43:48.548Z"
   },
   {
    "duration": 1372,
    "start_time": "2023-09-05T22:43:48.552Z"
   },
   {
    "duration": 0,
    "start_time": "2023-09-05T22:43:49.926Z"
   },
   {
    "duration": 0,
    "start_time": "2023-09-05T22:43:49.927Z"
   },
   {
    "duration": 0,
    "start_time": "2023-09-05T22:43:49.928Z"
   },
   {
    "duration": 0,
    "start_time": "2023-09-05T22:43:49.930Z"
   },
   {
    "duration": 0,
    "start_time": "2023-09-05T22:43:49.931Z"
   },
   {
    "duration": 0,
    "start_time": "2023-09-05T22:43:49.932Z"
   },
   {
    "duration": 1,
    "start_time": "2023-09-05T22:43:49.932Z"
   },
   {
    "duration": 0,
    "start_time": "2023-09-05T22:43:49.934Z"
   },
   {
    "duration": 0,
    "start_time": "2023-09-05T22:43:49.935Z"
   },
   {
    "duration": 0,
    "start_time": "2023-09-05T22:43:49.936Z"
   },
   {
    "duration": 0,
    "start_time": "2023-09-05T22:43:49.937Z"
   },
   {
    "duration": 10,
    "start_time": "2023-09-05T22:47:09.719Z"
   },
   {
    "duration": 4,
    "start_time": "2023-09-05T22:47:20.175Z"
   },
   {
    "duration": 10,
    "start_time": "2023-09-05T22:47:29.267Z"
   },
   {
    "duration": 3,
    "start_time": "2023-09-05T22:48:53.026Z"
   },
   {
    "duration": 3,
    "start_time": "2023-09-05T22:48:59.067Z"
   },
   {
    "duration": 4,
    "start_time": "2023-09-05T22:49:06.431Z"
   },
   {
    "duration": 5,
    "start_time": "2023-09-05T22:49:18.813Z"
   },
   {
    "duration": 3,
    "start_time": "2023-09-05T22:52:23.716Z"
   },
   {
    "duration": 3,
    "start_time": "2023-09-05T22:52:38.159Z"
   },
   {
    "duration": 5,
    "start_time": "2023-09-05T22:52:51.097Z"
   },
   {
    "duration": 3,
    "start_time": "2023-09-05T22:53:50.302Z"
   },
   {
    "duration": 8,
    "start_time": "2023-09-05T22:53:57.090Z"
   },
   {
    "duration": 3587,
    "start_time": "2023-09-05T22:53:57.099Z"
   },
   {
    "duration": 4,
    "start_time": "2023-09-05T22:54:00.688Z"
   },
   {
    "duration": 62,
    "start_time": "2023-09-05T22:54:00.693Z"
   },
   {
    "duration": 75,
    "start_time": "2023-09-05T22:54:00.758Z"
   },
   {
    "duration": 34,
    "start_time": "2023-09-05T22:54:00.835Z"
   },
   {
    "duration": 50,
    "start_time": "2023-09-05T22:54:00.871Z"
   },
   {
    "duration": 58,
    "start_time": "2023-09-05T22:54:00.923Z"
   },
   {
    "duration": 27,
    "start_time": "2023-09-05T22:54:00.983Z"
   },
   {
    "duration": 32,
    "start_time": "2023-09-05T22:54:01.012Z"
   },
   {
    "duration": 68,
    "start_time": "2023-09-05T22:54:01.046Z"
   },
   {
    "duration": 91,
    "start_time": "2023-09-05T22:54:01.116Z"
   },
   {
    "duration": 38,
    "start_time": "2023-09-05T22:54:01.209Z"
   },
   {
    "duration": 53,
    "start_time": "2023-09-05T22:54:01.250Z"
   },
   {
    "duration": 43,
    "start_time": "2023-09-05T22:54:01.305Z"
   },
   {
    "duration": 33,
    "start_time": "2023-09-05T22:54:01.350Z"
   },
   {
    "duration": 48,
    "start_time": "2023-09-05T22:54:01.385Z"
   },
   {
    "duration": 48,
    "start_time": "2023-09-05T22:54:01.435Z"
   },
   {
    "duration": 10,
    "start_time": "2023-09-05T22:54:06.243Z"
   },
   {
    "duration": 793,
    "start_time": "2023-09-05T22:55:07.050Z"
   },
   {
    "duration": 13,
    "start_time": "2023-09-05T22:55:15.318Z"
   },
   {
    "duration": 8,
    "start_time": "2023-09-05T22:56:27.155Z"
   },
   {
    "duration": 1054,
    "start_time": "2023-09-05T22:56:27.165Z"
   },
   {
    "duration": 8,
    "start_time": "2023-09-05T22:56:28.221Z"
   },
   {
    "duration": 47,
    "start_time": "2023-09-05T22:56:28.231Z"
   },
   {
    "duration": 4,
    "start_time": "2023-09-05T22:56:28.281Z"
   },
   {
    "duration": 245,
    "start_time": "2023-09-05T22:56:28.286Z"
   },
   {
    "duration": 6,
    "start_time": "2023-09-05T22:56:28.533Z"
   },
   {
    "duration": 29,
    "start_time": "2023-09-05T22:56:28.541Z"
   },
   {
    "duration": 6,
    "start_time": "2023-09-05T22:56:28.571Z"
   },
   {
    "duration": 2205,
    "start_time": "2023-09-05T22:56:28.579Z"
   },
   {
    "duration": 4,
    "start_time": "2023-09-05T22:56:30.786Z"
   },
   {
    "duration": 50,
    "start_time": "2023-09-05T22:56:30.792Z"
   },
   {
    "duration": 27,
    "start_time": "2023-09-05T22:56:30.844Z"
   },
   {
    "duration": 43,
    "start_time": "2023-09-05T22:56:30.874Z"
   },
   {
    "duration": 31,
    "start_time": "2023-09-05T22:56:30.919Z"
   },
   {
    "duration": 27,
    "start_time": "2023-09-05T22:56:30.952Z"
   },
   {
    "duration": 46,
    "start_time": "2023-09-05T22:56:30.981Z"
   },
   {
    "duration": 1938,
    "start_time": "2023-09-05T22:57:33.762Z"
   },
   {
    "duration": 3570,
    "start_time": "2023-09-05T22:57:35.702Z"
   },
   {
    "duration": 9,
    "start_time": "2023-09-05T22:57:39.274Z"
   },
   {
    "duration": 38,
    "start_time": "2023-09-05T22:57:39.285Z"
   },
   {
    "duration": 4,
    "start_time": "2023-09-05T22:57:39.325Z"
   },
   {
    "duration": 261,
    "start_time": "2023-09-05T22:57:39.331Z"
   },
   {
    "duration": 8,
    "start_time": "2023-09-05T22:57:39.594Z"
   },
   {
    "duration": 13,
    "start_time": "2023-09-05T22:57:39.604Z"
   },
   {
    "duration": 6,
    "start_time": "2023-09-05T22:57:39.619Z"
   },
   {
    "duration": 2208,
    "start_time": "2023-09-05T22:57:39.629Z"
   },
   {
    "duration": 2,
    "start_time": "2023-09-05T22:57:41.839Z"
   },
   {
    "duration": 23,
    "start_time": "2023-09-05T22:57:41.843Z"
   },
   {
    "duration": 2,
    "start_time": "2023-09-05T22:57:41.870Z"
   },
   {
    "duration": 11,
    "start_time": "2023-09-05T22:57:41.874Z"
   },
   {
    "duration": 11,
    "start_time": "2023-09-05T22:57:41.887Z"
   },
   {
    "duration": 19,
    "start_time": "2023-09-05T22:57:41.900Z"
   },
   {
    "duration": 8,
    "start_time": "2023-09-05T22:57:41.921Z"
   },
   {
    "duration": 739,
    "start_time": "2023-09-05T22:57:41.930Z"
   },
   {
    "duration": 5,
    "start_time": "2023-09-05T22:57:42.670Z"
   },
   {
    "duration": 9,
    "start_time": "2023-09-05T22:57:42.676Z"
   },
   {
    "duration": 38,
    "start_time": "2023-09-05T22:57:42.687Z"
   },
   {
    "duration": 6,
    "start_time": "2023-09-05T22:57:42.727Z"
   },
   {
    "duration": 13202,
    "start_time": "2023-09-05T22:57:42.735Z"
   },
   {
    "duration": 6,
    "start_time": "2023-09-05T22:57:55.939Z"
   },
   {
    "duration": 3,
    "start_time": "2023-09-05T22:57:55.947Z"
   },
   {
    "duration": 3,
    "start_time": "2023-09-05T22:57:55.967Z"
   },
   {
    "duration": 13,
    "start_time": "2023-09-05T22:57:55.973Z"
   },
   {
    "duration": 15,
    "start_time": "2023-09-05T22:57:55.989Z"
   },
   {
    "duration": 6,
    "start_time": "2023-09-05T22:57:56.006Z"
   },
   {
    "duration": 1821,
    "start_time": "2023-09-05T22:58:06.368Z"
   },
   {
    "duration": 984,
    "start_time": "2023-09-05T22:58:08.191Z"
   },
   {
    "duration": 10,
    "start_time": "2023-09-05T22:58:09.179Z"
   },
   {
    "duration": 35,
    "start_time": "2023-09-05T22:58:09.191Z"
   },
   {
    "duration": 17,
    "start_time": "2023-09-05T22:58:09.227Z"
   },
   {
    "duration": 267,
    "start_time": "2023-09-05T22:58:09.245Z"
   },
   {
    "duration": 7,
    "start_time": "2023-09-05T22:58:09.514Z"
   },
   {
    "duration": 14,
    "start_time": "2023-09-05T22:58:09.522Z"
   },
   {
    "duration": 6,
    "start_time": "2023-09-05T22:58:09.538Z"
   },
   {
    "duration": 2150,
    "start_time": "2023-09-05T22:58:09.566Z"
   },
   {
    "duration": 3,
    "start_time": "2023-09-05T22:58:11.718Z"
   },
   {
    "duration": 10,
    "start_time": "2023-09-05T22:58:11.723Z"
   },
   {
    "duration": 9,
    "start_time": "2023-09-05T22:58:11.736Z"
   },
   {
    "duration": 14,
    "start_time": "2023-09-05T22:58:11.747Z"
   },
   {
    "duration": 5,
    "start_time": "2023-09-05T22:58:11.763Z"
   },
   {
    "duration": 8,
    "start_time": "2023-09-05T22:58:11.769Z"
   },
   {
    "duration": 7,
    "start_time": "2023-09-05T22:58:11.778Z"
   },
   {
    "duration": 81310,
    "start_time": "2023-09-05T22:58:11.786Z"
   },
   {
    "duration": 4,
    "start_time": "2023-09-05T22:59:33.097Z"
   },
   {
    "duration": 9,
    "start_time": "2023-09-05T22:59:33.103Z"
   },
   {
    "duration": 46,
    "start_time": "2023-09-05T22:59:33.113Z"
   },
   {
    "duration": 11,
    "start_time": "2023-09-05T22:59:33.161Z"
   },
   {
    "duration": 13502,
    "start_time": "2023-09-05T22:59:33.174Z"
   },
   {
    "duration": 5,
    "start_time": "2023-09-05T22:59:46.678Z"
   },
   {
    "duration": 8,
    "start_time": "2023-09-05T22:59:46.684Z"
   },
   {
    "duration": 10,
    "start_time": "2023-09-05T22:59:46.693Z"
   },
   {
    "duration": 9,
    "start_time": "2023-09-05T22:59:46.705Z"
   },
   {
    "duration": 5,
    "start_time": "2023-09-05T22:59:46.716Z"
   },
   {
    "duration": 12,
    "start_time": "2023-09-05T22:59:46.722Z"
   },
   {
    "duration": 3,
    "start_time": "2023-09-05T23:21:24.674Z"
   },
   {
    "duration": 5,
    "start_time": "2023-09-05T23:22:38.820Z"
   },
   {
    "duration": 3,
    "start_time": "2023-09-05T23:23:00.004Z"
   },
   {
    "duration": 1786,
    "start_time": "2023-09-05T23:23:58.921Z"
   },
   {
    "duration": 1036,
    "start_time": "2023-09-05T23:24:00.710Z"
   },
   {
    "duration": 10,
    "start_time": "2023-09-05T23:24:01.748Z"
   },
   {
    "duration": 255,
    "start_time": "2023-09-05T23:24:01.768Z"
   },
   {
    "duration": 54,
    "start_time": "2023-09-05T23:24:02.027Z"
   },
   {
    "duration": 302,
    "start_time": "2023-09-05T23:24:02.084Z"
   },
   {
    "duration": 8,
    "start_time": "2023-09-05T23:24:02.388Z"
   },
   {
    "duration": 36,
    "start_time": "2023-09-05T23:24:02.398Z"
   },
   {
    "duration": 33,
    "start_time": "2023-09-05T23:24:02.436Z"
   },
   {
    "duration": 2290,
    "start_time": "2023-09-05T23:24:02.471Z"
   },
   {
    "duration": 4,
    "start_time": "2023-09-05T23:24:04.763Z"
   },
   {
    "duration": 10,
    "start_time": "2023-09-05T23:24:04.769Z"
   },
   {
    "duration": 782,
    "start_time": "2023-09-05T23:24:04.780Z"
   },
   {
    "duration": 4,
    "start_time": "2023-09-05T23:24:05.565Z"
   },
   {
    "duration": 1896,
    "start_time": "2023-09-05T23:24:05.570Z"
   },
   {
    "duration": 0,
    "start_time": "2023-09-05T23:24:07.469Z"
   },
   {
    "duration": 0,
    "start_time": "2023-09-05T23:24:07.470Z"
   },
   {
    "duration": 0,
    "start_time": "2023-09-05T23:24:07.472Z"
   },
   {
    "duration": 0,
    "start_time": "2023-09-05T23:24:07.473Z"
   },
   {
    "duration": 0,
    "start_time": "2023-09-05T23:24:07.474Z"
   },
   {
    "duration": 0,
    "start_time": "2023-09-05T23:24:07.475Z"
   },
   {
    "duration": 0,
    "start_time": "2023-09-05T23:24:07.476Z"
   },
   {
    "duration": 0,
    "start_time": "2023-09-05T23:24:07.478Z"
   },
   {
    "duration": 0,
    "start_time": "2023-09-05T23:24:07.479Z"
   },
   {
    "duration": 3,
    "start_time": "2023-09-05T23:24:30.917Z"
   },
   {
    "duration": 1674,
    "start_time": "2023-09-05T23:24:38.591Z"
   },
   {
    "duration": 967,
    "start_time": "2023-09-05T23:24:40.267Z"
   },
   {
    "duration": 10,
    "start_time": "2023-09-05T23:24:41.236Z"
   },
   {
    "duration": 41,
    "start_time": "2023-09-05T23:24:41.248Z"
   },
   {
    "duration": 4,
    "start_time": "2023-09-05T23:24:41.291Z"
   },
   {
    "duration": 270,
    "start_time": "2023-09-05T23:24:41.297Z"
   },
   {
    "duration": 8,
    "start_time": "2023-09-05T23:24:41.569Z"
   },
   {
    "duration": 22,
    "start_time": "2023-09-05T23:24:41.578Z"
   },
   {
    "duration": 17,
    "start_time": "2023-09-05T23:24:41.602Z"
   },
   {
    "duration": 2192,
    "start_time": "2023-09-05T23:24:41.621Z"
   },
   {
    "duration": 2,
    "start_time": "2023-09-05T23:24:43.815Z"
   },
   {
    "duration": 8,
    "start_time": "2023-09-05T23:24:43.819Z"
   },
   {
    "duration": 84618,
    "start_time": "2023-09-05T23:24:43.829Z"
   },
   {
    "duration": 3,
    "start_time": "2023-09-05T23:26:08.450Z"
   },
   {
    "duration": 29,
    "start_time": "2023-09-05T23:26:08.455Z"
   },
   {
    "duration": 42,
    "start_time": "2023-09-05T23:26:08.486Z"
   },
   {
    "duration": 6,
    "start_time": "2023-09-05T23:26:08.530Z"
   },
   {
    "duration": 13613,
    "start_time": "2023-09-05T23:26:08.538Z"
   },
   {
    "duration": 5,
    "start_time": "2023-09-05T23:26:22.153Z"
   },
   {
    "duration": 10,
    "start_time": "2023-09-05T23:26:22.166Z"
   },
   {
    "duration": 6,
    "start_time": "2023-09-05T23:26:22.178Z"
   },
   {
    "duration": 5,
    "start_time": "2023-09-05T23:26:22.186Z"
   },
   {
    "duration": 5,
    "start_time": "2023-09-05T23:26:22.192Z"
   },
   {
    "duration": 37,
    "start_time": "2023-09-05T23:26:22.198Z"
   },
   {
    "duration": 138,
    "start_time": "2023-09-05T23:27:29.726Z"
   },
   {
    "duration": 23,
    "start_time": "2023-09-05T23:28:55.722Z"
   },
   {
    "duration": 249901,
    "start_time": "2023-09-05T23:29:05.811Z"
   },
   {
    "duration": 0,
    "start_time": "2023-09-05T23:33:15.714Z"
   },
   {
    "duration": 388394,
    "start_time": "2023-09-05T23:33:46.226Z"
   },
   {
    "duration": 6,
    "start_time": "2023-09-05T23:40:14.626Z"
   },
   {
    "duration": 253943,
    "start_time": "2023-09-05T23:40:33.451Z"
   },
   {
    "duration": 119,
    "start_time": "2023-09-05T23:46:11.915Z"
   },
   {
    "duration": 14,
    "start_time": "2023-09-05T23:46:23.464Z"
   },
   {
    "duration": 338989,
    "start_time": "2023-09-05T23:46:30.595Z"
   },
   {
    "duration": 2986,
    "start_time": "2023-09-05T23:52:39.396Z"
   },
   {
    "duration": 65,
    "start_time": "2023-09-05T23:54:50.747Z"
   },
   {
    "duration": 63,
    "start_time": "2023-09-05T23:54:54.433Z"
   },
   {
    "duration": 7,
    "start_time": "2023-09-05T23:58:50.258Z"
   },
   {
    "duration": 1784,
    "start_time": "2023-09-05T23:59:14.979Z"
   },
   {
    "duration": 1076,
    "start_time": "2023-09-05T23:59:16.765Z"
   },
   {
    "duration": 14,
    "start_time": "2023-09-05T23:59:17.843Z"
   },
   {
    "duration": 41,
    "start_time": "2023-09-05T23:59:17.859Z"
   },
   {
    "duration": 4,
    "start_time": "2023-09-05T23:59:17.902Z"
   },
   {
    "duration": 277,
    "start_time": "2023-09-05T23:59:17.908Z"
   },
   {
    "duration": 30,
    "start_time": "2023-09-05T23:59:18.187Z"
   },
   {
    "duration": 7,
    "start_time": "2023-09-05T23:59:18.219Z"
   },
   {
    "duration": 23,
    "start_time": "2023-09-05T23:59:18.227Z"
   },
   {
    "duration": 4,
    "start_time": "2023-09-05T23:59:18.253Z"
   },
   {
    "duration": 2419,
    "start_time": "2023-09-05T23:59:18.259Z"
   },
   {
    "duration": 3,
    "start_time": "2023-09-05T23:59:20.680Z"
   },
   {
    "duration": 18,
    "start_time": "2023-09-05T23:59:20.685Z"
   },
   {
    "duration": 89344,
    "start_time": "2023-09-05T23:59:20.705Z"
   },
   {
    "duration": 9,
    "start_time": "2023-09-06T00:00:50.051Z"
   },
   {
    "duration": 11,
    "start_time": "2023-09-06T00:00:50.067Z"
   },
   {
    "duration": 18,
    "start_time": "2023-09-06T00:00:50.080Z"
   },
   {
    "duration": 47,
    "start_time": "2023-09-06T00:00:50.100Z"
   },
   {
    "duration": 8,
    "start_time": "2023-09-06T00:00:50.149Z"
   },
   {
    "duration": 14582,
    "start_time": "2023-09-06T00:00:50.159Z"
   },
   {
    "duration": 6,
    "start_time": "2023-09-06T00:01:04.743Z"
   },
   {
    "duration": 253407,
    "start_time": "2023-09-06T00:01:04.751Z"
   },
   {
    "duration": 3370453,
    "start_time": "2023-09-06T00:05:18.161Z"
   },
   {
    "duration": 351540,
    "start_time": "2023-09-06T01:01:28.615Z"
   },
   {
    "duration": 2597,
    "start_time": "2023-09-06T01:07:20.157Z"
   },
   {
    "duration": 50,
    "start_time": "2023-09-06T18:27:42.837Z"
   },
   {
    "duration": 1783,
    "start_time": "2023-09-06T18:27:51.107Z"
   },
   {
    "duration": 3336,
    "start_time": "2023-09-06T18:27:52.892Z"
   },
   {
    "duration": 3,
    "start_time": "2023-09-06T18:27:56.230Z"
   },
   {
    "duration": 27,
    "start_time": "2023-09-06T18:27:56.235Z"
   },
   {
    "duration": 17,
    "start_time": "2023-09-06T18:27:56.265Z"
   },
   {
    "duration": 18,
    "start_time": "2023-09-06T18:27:56.284Z"
   },
   {
    "duration": 30,
    "start_time": "2023-09-06T18:27:56.304Z"
   },
   {
    "duration": 12,
    "start_time": "2023-09-06T18:27:56.336Z"
   },
   {
    "duration": 12,
    "start_time": "2023-09-06T18:27:56.350Z"
   },
   {
    "duration": 10,
    "start_time": "2023-09-06T18:27:56.365Z"
   },
   {
    "duration": 24,
    "start_time": "2023-09-06T18:27:56.377Z"
   },
   {
    "duration": 8,
    "start_time": "2023-09-06T18:27:56.402Z"
   },
   {
    "duration": 8,
    "start_time": "2023-09-06T18:27:56.412Z"
   },
   {
    "duration": 9,
    "start_time": "2023-09-06T18:27:56.423Z"
   },
   {
    "duration": 6,
    "start_time": "2023-09-06T18:28:05.912Z"
   },
   {
    "duration": 6,
    "start_time": "2023-09-06T18:30:41.423Z"
   },
   {
    "duration": 2,
    "start_time": "2023-09-06T18:31:01.485Z"
   },
   {
    "duration": 2,
    "start_time": "2023-09-06T18:32:11.908Z"
   },
   {
    "duration": 120,
    "start_time": "2023-09-06T18:32:25.502Z"
   },
   {
    "duration": 18,
    "start_time": "2023-09-06T18:32:45.262Z"
   },
   {
    "duration": 13,
    "start_time": "2023-09-06T18:33:25.829Z"
   },
   {
    "duration": 14,
    "start_time": "2023-09-06T18:33:54.058Z"
   },
   {
    "duration": 15,
    "start_time": "2023-09-06T18:34:59.078Z"
   },
   {
    "duration": 6,
    "start_time": "2023-09-06T18:35:36.344Z"
   },
   {
    "duration": 6,
    "start_time": "2023-09-06T18:35:40.666Z"
   },
   {
    "duration": 14,
    "start_time": "2023-09-06T18:35:48.771Z"
   },
   {
    "duration": 13,
    "start_time": "2023-09-06T18:36:05.861Z"
   },
   {
    "duration": 16,
    "start_time": "2023-09-06T18:36:45.030Z"
   },
   {
    "duration": 577,
    "start_time": "2023-09-06T18:37:58.952Z"
   },
   {
    "duration": 89,
    "start_time": "2023-09-06T18:38:10.609Z"
   },
   {
    "duration": 10,
    "start_time": "2023-09-06T18:40:21.470Z"
   },
   {
    "duration": 11,
    "start_time": "2023-09-06T18:40:31.356Z"
   },
   {
    "duration": 11,
    "start_time": "2023-09-06T18:40:38.255Z"
   },
   {
    "duration": 5,
    "start_time": "2023-09-06T18:41:00.913Z"
   },
   {
    "duration": 5,
    "start_time": "2023-09-06T18:41:08.615Z"
   },
   {
    "duration": 4,
    "start_time": "2023-09-06T18:41:15.326Z"
   },
   {
    "duration": 5,
    "start_time": "2023-09-06T18:41:22.861Z"
   },
   {
    "duration": 6,
    "start_time": "2023-09-06T18:41:29.031Z"
   },
   {
    "duration": 5,
    "start_time": "2023-09-06T18:41:37.423Z"
   },
   {
    "duration": 135,
    "start_time": "2023-09-06T18:43:07.385Z"
   },
   {
    "duration": 1332,
    "start_time": "2023-09-06T18:43:18.515Z"
   },
   {
    "duration": 4,
    "start_time": "2023-09-06T18:43:45.327Z"
   },
   {
    "duration": 5,
    "start_time": "2023-09-06T18:44:18.911Z"
   },
   {
    "duration": 4,
    "start_time": "2023-09-06T18:44:54.968Z"
   },
   {
    "duration": 4,
    "start_time": "2023-09-06T18:45:25.320Z"
   },
   {
    "duration": 9,
    "start_time": "2023-09-06T18:45:33.063Z"
   },
   {
    "duration": 20,
    "start_time": "2023-09-06T18:45:38.345Z"
   },
   {
    "duration": 19,
    "start_time": "2023-09-06T18:45:41.534Z"
   },
   {
    "duration": 2,
    "start_time": "2023-09-06T18:47:19.966Z"
   },
   {
    "duration": 3,
    "start_time": "2023-09-06T18:50:31.669Z"
   },
   {
    "duration": 4,
    "start_time": "2023-09-06T18:55:55.512Z"
   },
   {
    "duration": 4,
    "start_time": "2023-09-06T18:56:22.407Z"
   },
   {
    "duration": 4,
    "start_time": "2023-09-06T18:56:31.058Z"
   },
   {
    "duration": 5,
    "start_time": "2023-09-06T18:56:36.912Z"
   },
   {
    "duration": 4,
    "start_time": "2023-09-06T18:56:42.751Z"
   },
   {
    "duration": 3,
    "start_time": "2023-09-06T18:59:06.852Z"
   },
   {
    "duration": 2,
    "start_time": "2023-09-06T18:59:18.871Z"
   },
   {
    "duration": 9,
    "start_time": "2023-09-06T19:00:05.417Z"
   },
   {
    "duration": 44,
    "start_time": "2023-09-06T19:00:14.538Z"
   },
   {
    "duration": 3,
    "start_time": "2023-09-06T19:00:42.473Z"
   },
   {
    "duration": 4,
    "start_time": "2023-09-06T19:00:43.213Z"
   },
   {
    "duration": 3,
    "start_time": "2023-09-06T19:01:53.034Z"
   },
   {
    "duration": 5,
    "start_time": "2023-09-06T19:01:53.837Z"
   },
   {
    "duration": 7,
    "start_time": "2023-09-06T19:02:17.017Z"
   },
   {
    "duration": 7,
    "start_time": "2023-09-06T19:02:19.917Z"
   },
   {
    "duration": 31,
    "start_time": "2023-09-06T19:02:30.080Z"
   },
   {
    "duration": 14,
    "start_time": "2023-09-06T19:02:32.471Z"
   },
   {
    "duration": 175,
    "start_time": "2023-09-06T19:03:20.277Z"
   },
   {
    "duration": 3,
    "start_time": "2023-09-06T19:03:29.984Z"
   },
   {
    "duration": 34,
    "start_time": "2023-09-06T19:03:31.513Z"
   },
   {
    "duration": 11,
    "start_time": "2023-09-06T19:03:32.342Z"
   },
   {
    "duration": 8,
    "start_time": "2023-09-06T19:04:54.348Z"
   },
   {
    "duration": 4,
    "start_time": "2023-09-06T19:05:25.070Z"
   },
   {
    "duration": 13,
    "start_time": "2023-09-06T19:10:27.113Z"
   },
   {
    "duration": 893,
    "start_time": "2023-09-06T19:10:27.128Z"
   },
   {
    "duration": 7,
    "start_time": "2023-09-06T19:10:28.023Z"
   },
   {
    "duration": 41,
    "start_time": "2023-09-06T19:10:28.031Z"
   },
   {
    "duration": 4,
    "start_time": "2023-09-06T19:10:28.075Z"
   },
   {
    "duration": 255,
    "start_time": "2023-09-06T19:10:28.081Z"
   },
   {
    "duration": 28,
    "start_time": "2023-09-06T19:10:28.345Z"
   },
   {
    "duration": 11,
    "start_time": "2023-09-06T19:10:28.375Z"
   },
   {
    "duration": 27,
    "start_time": "2023-09-06T19:10:28.387Z"
   },
   {
    "duration": 4,
    "start_time": "2023-09-06T19:10:28.416Z"
   },
   {
    "duration": 2278,
    "start_time": "2023-09-06T19:10:28.422Z"
   },
   {
    "duration": 3,
    "start_time": "2023-09-06T19:10:30.702Z"
   },
   {
    "duration": 28,
    "start_time": "2023-09-06T19:10:30.706Z"
   },
   {
    "duration": 56,
    "start_time": "2023-09-06T19:10:30.737Z"
   },
   {
    "duration": 475448,
    "start_time": "2023-09-06T19:10:30.795Z"
   },
   {
    "duration": 9,
    "start_time": "2023-09-06T19:18:26.245Z"
   },
   {
    "duration": 1800,
    "start_time": "2023-09-06T19:18:37.415Z"
   },
   {
    "duration": 977,
    "start_time": "2023-09-06T19:18:39.216Z"
   },
   {
    "duration": 9,
    "start_time": "2023-09-06T19:18:40.195Z"
   },
   {
    "duration": 39,
    "start_time": "2023-09-06T19:18:40.205Z"
   },
   {
    "duration": 4,
    "start_time": "2023-09-06T19:18:40.246Z"
   },
   {
    "duration": 252,
    "start_time": "2023-09-06T19:18:40.252Z"
   },
   {
    "duration": 40,
    "start_time": "2023-09-06T19:18:40.506Z"
   },
   {
    "duration": 10,
    "start_time": "2023-09-06T19:18:40.549Z"
   },
   {
    "duration": 25,
    "start_time": "2023-09-06T19:18:40.560Z"
   },
   {
    "duration": 23,
    "start_time": "2023-09-06T19:18:40.586Z"
   },
   {
    "duration": 2327,
    "start_time": "2023-09-06T19:18:40.610Z"
   },
   {
    "duration": 5,
    "start_time": "2023-09-06T19:18:42.939Z"
   },
   {
    "duration": 5,
    "start_time": "2023-09-06T19:18:42.947Z"
   },
   {
    "duration": 2,
    "start_time": "2023-09-06T19:18:42.959Z"
   },
   {
    "duration": 4765,
    "start_time": "2023-09-06T19:18:42.963Z"
   },
   {
    "duration": 8,
    "start_time": "2023-09-06T19:18:47.730Z"
   },
   {
    "duration": 11,
    "start_time": "2023-09-06T19:18:47.740Z"
   },
   {
    "duration": 1810,
    "start_time": "2023-09-06T19:18:47.754Z"
   },
   {
    "duration": 0,
    "start_time": "2023-09-06T19:18:49.565Z"
   },
   {
    "duration": 0,
    "start_time": "2023-09-06T19:18:49.567Z"
   },
   {
    "duration": 0,
    "start_time": "2023-09-06T19:18:49.568Z"
   },
   {
    "duration": 0,
    "start_time": "2023-09-06T19:18:49.569Z"
   },
   {
    "duration": 0,
    "start_time": "2023-09-06T19:18:49.571Z"
   },
   {
    "duration": 0,
    "start_time": "2023-09-06T19:18:49.572Z"
   },
   {
    "duration": 0,
    "start_time": "2023-09-06T19:18:49.573Z"
   },
   {
    "duration": 0,
    "start_time": "2023-09-06T19:18:49.574Z"
   },
   {
    "duration": 1849,
    "start_time": "2023-09-06T19:19:59.226Z"
   },
   {
    "duration": 1006,
    "start_time": "2023-09-06T19:20:01.077Z"
   },
   {
    "duration": 11,
    "start_time": "2023-09-06T19:20:02.084Z"
   },
   {
    "duration": 69,
    "start_time": "2023-09-06T19:20:02.097Z"
   },
   {
    "duration": 44,
    "start_time": "2023-09-06T19:20:02.169Z"
   },
   {
    "duration": 280,
    "start_time": "2023-09-06T19:20:02.215Z"
   },
   {
    "duration": 25,
    "start_time": "2023-09-06T19:20:02.496Z"
   },
   {
    "duration": 32,
    "start_time": "2023-09-06T19:20:02.522Z"
   },
   {
    "duration": 20,
    "start_time": "2023-09-06T19:20:02.556Z"
   },
   {
    "duration": 19,
    "start_time": "2023-09-06T19:20:02.578Z"
   },
   {
    "duration": 2384,
    "start_time": "2023-09-06T19:20:02.598Z"
   },
   {
    "duration": 3,
    "start_time": "2023-09-06T19:20:04.983Z"
   },
   {
    "duration": 17,
    "start_time": "2023-09-06T19:20:04.987Z"
   },
   {
    "duration": 13,
    "start_time": "2023-09-06T19:20:05.006Z"
   },
   {
    "duration": 1200393,
    "start_time": "2023-09-06T19:20:05.021Z"
   },
   {
    "duration": 14,
    "start_time": "2023-09-06T19:40:05.416Z"
   },
   {
    "duration": 16,
    "start_time": "2023-09-06T19:40:05.443Z"
   },
   {
    "duration": 35,
    "start_time": "2023-09-06T19:40:05.461Z"
   },
   {
    "duration": 70,
    "start_time": "2023-09-06T19:40:05.498Z"
   },
   {
    "duration": 8,
    "start_time": "2023-09-06T19:40:05.570Z"
   },
   {
    "duration": 13201,
    "start_time": "2023-09-06T19:40:05.580Z"
   },
   {
    "duration": 5,
    "start_time": "2023-09-06T19:40:18.782Z"
   },
   {
    "duration": 288329,
    "start_time": "2023-09-06T19:40:18.788Z"
   },
   {
    "duration": 3295360,
    "start_time": "2023-09-06T19:45:07.118Z"
   },
   {
    "duration": 318651,
    "start_time": "2023-09-06T20:40:02.480Z"
   },
   {
    "duration": 2222,
    "start_time": "2023-09-06T20:45:21.132Z"
   },
   {
    "duration": 3182,
    "start_time": "2023-09-06T20:50:06.589Z"
   },
   {
    "duration": 13,
    "start_time": "2023-09-06T20:51:44.055Z"
   }
  ],
  "kernelspec": {
   "display_name": "Python 3 (ipykernel)",
   "language": "python",
   "name": "python3"
  },
  "language_info": {
   "codemirror_mode": {
    "name": "ipython",
    "version": 3
   },
   "file_extension": ".py",
   "mimetype": "text/x-python",
   "name": "python",
   "nbconvert_exporter": "python",
   "pygments_lexer": "ipython3",
   "version": "3.9.18"
  },
  "toc": {
   "base_numbering": 1,
   "nav_menu": {},
   "number_sections": true,
   "sideBar": true,
   "skip_h1_title": true,
   "title_cell": "Содержание",
   "title_sidebar": "Contents",
   "toc_cell": true,
   "toc_position": {
    "height": "calc(100% - 180px)",
    "left": "10px",
    "top": "150px",
    "width": "201px"
   },
   "toc_section_display": true,
   "toc_window_display": true
  }
 },
 "nbformat": 4,
 "nbformat_minor": 2
}
