{
 "cells": [
  {
   "cell_type": "markdown",
   "metadata": {},
   "source": [
    "# Выбор локации для скважины"
   ]
  },
  {
   "cell_type": "markdown",
   "metadata": {},
   "source": [
    "Допустим, вы работаете в добывающей компании «ГлавРосГосНефть». Нужно решить, где бурить новую скважину.\n",
    "\n",
    "Вам предоставлены пробы нефти в трёх регионах: в каждом 10 000 месторождений, где измерили качество нефти и объём её запасов. Постройте модель машинного обучения, которая поможет определить регион, где добыча принесёт наибольшую прибыль. Проанализируйте возможную прибыль и риски техникой *Bootstrap.*\n",
    "\n",
    "Шаги для выбора локации:\n",
    "\n",
    "- В избранном регионе ищут месторождения, для каждого определяют значения признаков;\n",
    "- Строят модель и оценивают объём запасов;\n",
    "- Выбирают месторождения с самым высокими оценками значений. Количество месторождений зависит от бюджета компании и стоимости разработки одной скважины;\n",
    "- Прибыль равна суммарной прибыли отобранных месторождений."
   ]
  },
  {
   "cell_type": "markdown",
   "metadata": {},
   "source": [
    "## Загрузка и подготовка данных"
   ]
  },
  {
   "cell_type": "code",
   "execution_count": 2,
   "metadata": {},
   "outputs": [],
   "source": [
    "import pandas as pd\n",
    "import numpy as np\n",
    "import plotly.express as px\n",
    "import matplotlib.pyplot as plt\n",
    "import seaborn as sns\n",
    "from sklearn.model_selection import train_test_split\n",
    "from sklearn.preprocessing import StandardScaler\n",
    "from sklearn.linear_model import LinearRegression\n",
    "from sklearn.metrics import mean_squared_error\n",
    "%matplotlib inline"
   ]
  },
  {
   "cell_type": "code",
   "execution_count": 3,
   "metadata": {},
   "outputs": [],
   "source": [
    "try:\n",
    "    geo_data_0 = pd.read_csv('/datasets/geo_data_0.csv')\n",
    "    geo_data_1 = pd.read_csv('/datasets/geo_data_1.csv')\n",
    "    geo_data_2 = pd.read_csv('/datasets/geo_data_2.csv')\n",
    "except:\n",
    "    geo_data_0 = pd.read_csv('/Users/v.rakhaev/Desktop/Yandex/sprint_11/geo_data_0.csv')\n",
    "    geo_data_1 = pd.read_csv('/Users/v.rakhaev/Desktop/Yandex/sprint_11/geo_data_1.csv')\n",
    "    geo_data_2 = pd.read_csv('/Users/v.rakhaev/Desktop/Yandex/sprint_11/geo_data_2.csv')\n",
    "    "
   ]
  },
  {
   "cell_type": "code",
   "execution_count": 4,
   "metadata": {},
   "outputs": [
    {
     "data": {
      "text/html": [
       "<div>\n",
       "<style scoped>\n",
       "    .dataframe tbody tr th:only-of-type {\n",
       "        vertical-align: middle;\n",
       "    }\n",
       "\n",
       "    .dataframe tbody tr th {\n",
       "        vertical-align: top;\n",
       "    }\n",
       "\n",
       "    .dataframe thead th {\n",
       "        text-align: right;\n",
       "    }\n",
       "</style>\n",
       "<table border=\"1\" class=\"dataframe\">\n",
       "  <thead>\n",
       "    <tr style=\"text-align: right;\">\n",
       "      <th></th>\n",
       "      <th>id</th>\n",
       "      <th>f0</th>\n",
       "      <th>f1</th>\n",
       "      <th>f2</th>\n",
       "      <th>product</th>\n",
       "    </tr>\n",
       "  </thead>\n",
       "  <tbody>\n",
       "    <tr>\n",
       "      <th>0</th>\n",
       "      <td>txEyH</td>\n",
       "      <td>0.705745</td>\n",
       "      <td>-0.497823</td>\n",
       "      <td>1.22117</td>\n",
       "      <td>105.280062</td>\n",
       "    </tr>\n",
       "    <tr>\n",
       "      <th>1</th>\n",
       "      <td>2acmU</td>\n",
       "      <td>1.334711</td>\n",
       "      <td>-0.340164</td>\n",
       "      <td>4.36508</td>\n",
       "      <td>73.037750</td>\n",
       "    </tr>\n",
       "  </tbody>\n",
       "</table>\n",
       "</div>"
      ],
      "text/plain": [
       "      id        f0        f1       f2     product\n",
       "0  txEyH  0.705745 -0.497823  1.22117  105.280062\n",
       "1  2acmU  1.334711 -0.340164  4.36508   73.037750"
      ]
     },
     "metadata": {},
     "output_type": "display_data"
    },
    {
     "data": {
      "text/html": [
       "<div>\n",
       "<style scoped>\n",
       "    .dataframe tbody tr th:only-of-type {\n",
       "        vertical-align: middle;\n",
       "    }\n",
       "\n",
       "    .dataframe tbody tr th {\n",
       "        vertical-align: top;\n",
       "    }\n",
       "\n",
       "    .dataframe thead th {\n",
       "        text-align: right;\n",
       "    }\n",
       "</style>\n",
       "<table border=\"1\" class=\"dataframe\">\n",
       "  <thead>\n",
       "    <tr style=\"text-align: right;\">\n",
       "      <th></th>\n",
       "      <th>id</th>\n",
       "      <th>f0</th>\n",
       "      <th>f1</th>\n",
       "      <th>f2</th>\n",
       "      <th>product</th>\n",
       "    </tr>\n",
       "  </thead>\n",
       "  <tbody>\n",
       "    <tr>\n",
       "      <th>0</th>\n",
       "      <td>kBEdx</td>\n",
       "      <td>-15.001348</td>\n",
       "      <td>-8.276000</td>\n",
       "      <td>-0.005876</td>\n",
       "      <td>3.179103</td>\n",
       "    </tr>\n",
       "    <tr>\n",
       "      <th>1</th>\n",
       "      <td>62mP7</td>\n",
       "      <td>14.272088</td>\n",
       "      <td>-3.475083</td>\n",
       "      <td>0.999183</td>\n",
       "      <td>26.953261</td>\n",
       "    </tr>\n",
       "  </tbody>\n",
       "</table>\n",
       "</div>"
      ],
      "text/plain": [
       "      id         f0        f1        f2    product\n",
       "0  kBEdx -15.001348 -8.276000 -0.005876   3.179103\n",
       "1  62mP7  14.272088 -3.475083  0.999183  26.953261"
      ]
     },
     "metadata": {},
     "output_type": "display_data"
    },
    {
     "data": {
      "text/html": [
       "<div>\n",
       "<style scoped>\n",
       "    .dataframe tbody tr th:only-of-type {\n",
       "        vertical-align: middle;\n",
       "    }\n",
       "\n",
       "    .dataframe tbody tr th {\n",
       "        vertical-align: top;\n",
       "    }\n",
       "\n",
       "    .dataframe thead th {\n",
       "        text-align: right;\n",
       "    }\n",
       "</style>\n",
       "<table border=\"1\" class=\"dataframe\">\n",
       "  <thead>\n",
       "    <tr style=\"text-align: right;\">\n",
       "      <th></th>\n",
       "      <th>id</th>\n",
       "      <th>f0</th>\n",
       "      <th>f1</th>\n",
       "      <th>f2</th>\n",
       "      <th>product</th>\n",
       "    </tr>\n",
       "  </thead>\n",
       "  <tbody>\n",
       "    <tr>\n",
       "      <th>0</th>\n",
       "      <td>fwXo0</td>\n",
       "      <td>-1.146987</td>\n",
       "      <td>0.963328</td>\n",
       "      <td>-0.828965</td>\n",
       "      <td>27.758673</td>\n",
       "    </tr>\n",
       "    <tr>\n",
       "      <th>1</th>\n",
       "      <td>WJtFt</td>\n",
       "      <td>0.262778</td>\n",
       "      <td>0.269839</td>\n",
       "      <td>-2.530187</td>\n",
       "      <td>56.069697</td>\n",
       "    </tr>\n",
       "  </tbody>\n",
       "</table>\n",
       "</div>"
      ],
      "text/plain": [
       "      id        f0        f1        f2    product\n",
       "0  fwXo0 -1.146987  0.963328 -0.828965  27.758673\n",
       "1  WJtFt  0.262778  0.269839 -2.530187  56.069697"
      ]
     },
     "metadata": {},
     "output_type": "display_data"
    }
   ],
   "source": [
    "display(geo_data_0.head(2))\n",
    "display(geo_data_1.head(2))\n",
    "display(geo_data_2.head(2))"
   ]
  },
  {
   "cell_type": "code",
   "execution_count": 5,
   "metadata": {},
   "outputs": [
    {
     "name": "stdout",
     "output_type": "stream",
     "text": [
      "<class 'pandas.core.frame.DataFrame'>\n",
      "RangeIndex: 100000 entries, 0 to 99999\n",
      "Data columns (total 5 columns):\n",
      " #   Column   Non-Null Count   Dtype  \n",
      "---  ------   --------------   -----  \n",
      " 0   id       100000 non-null  object \n",
      " 1   f0       100000 non-null  float64\n",
      " 2   f1       100000 non-null  float64\n",
      " 3   f2       100000 non-null  float64\n",
      " 4   product  100000 non-null  float64\n",
      "dtypes: float64(4), object(1)\n",
      "memory usage: 3.8+ MB\n"
     ]
    },
    {
     "data": {
      "text/plain": [
       "None"
      ]
     },
     "metadata": {},
     "output_type": "display_data"
    },
    {
     "name": "stdout",
     "output_type": "stream",
     "text": [
      "<class 'pandas.core.frame.DataFrame'>\n",
      "RangeIndex: 100000 entries, 0 to 99999\n",
      "Data columns (total 5 columns):\n",
      " #   Column   Non-Null Count   Dtype  \n",
      "---  ------   --------------   -----  \n",
      " 0   id       100000 non-null  object \n",
      " 1   f0       100000 non-null  float64\n",
      " 2   f1       100000 non-null  float64\n",
      " 3   f2       100000 non-null  float64\n",
      " 4   product  100000 non-null  float64\n",
      "dtypes: float64(4), object(1)\n",
      "memory usage: 3.8+ MB\n"
     ]
    },
    {
     "data": {
      "text/plain": [
       "None"
      ]
     },
     "metadata": {},
     "output_type": "display_data"
    },
    {
     "name": "stdout",
     "output_type": "stream",
     "text": [
      "<class 'pandas.core.frame.DataFrame'>\n",
      "RangeIndex: 100000 entries, 0 to 99999\n",
      "Data columns (total 5 columns):\n",
      " #   Column   Non-Null Count   Dtype  \n",
      "---  ------   --------------   -----  \n",
      " 0   id       100000 non-null  object \n",
      " 1   f0       100000 non-null  float64\n",
      " 2   f1       100000 non-null  float64\n",
      " 3   f2       100000 non-null  float64\n",
      " 4   product  100000 non-null  float64\n",
      "dtypes: float64(4), object(1)\n",
      "memory usage: 3.8+ MB\n"
     ]
    },
    {
     "data": {
      "text/plain": [
       "None"
      ]
     },
     "metadata": {},
     "output_type": "display_data"
    }
   ],
   "source": [
    "display(geo_data_0.info())\n",
    "display(geo_data_1.info())\n",
    "display(geo_data_2.info())"
   ]
  },
  {
   "cell_type": "code",
   "execution_count": 6,
   "metadata": {},
   "outputs": [
    {
     "data": {
      "text/plain": [
       "(100000, 5)"
      ]
     },
     "metadata": {},
     "output_type": "display_data"
    },
    {
     "data": {
      "text/plain": [
       "(100000, 5)"
      ]
     },
     "metadata": {},
     "output_type": "display_data"
    },
    {
     "data": {
      "text/plain": [
       "(100000, 5)"
      ]
     },
     "metadata": {},
     "output_type": "display_data"
    }
   ],
   "source": [
    "display(geo_data_0.shape)\n",
    "display(geo_data_1.shape)\n",
    "display(geo_data_2.shape)"
   ]
  },
  {
   "cell_type": "code",
   "execution_count": 7,
   "metadata": {},
   "outputs": [
    {
     "data": {
      "text/plain": [
       "id         0\n",
       "f0         0\n",
       "f1         0\n",
       "f2         0\n",
       "product    0\n",
       "dtype: int64"
      ]
     },
     "metadata": {},
     "output_type": "display_data"
    },
    {
     "data": {
      "text/plain": [
       "id         0\n",
       "f0         0\n",
       "f1         0\n",
       "f2         0\n",
       "product    0\n",
       "dtype: int64"
      ]
     },
     "metadata": {},
     "output_type": "display_data"
    },
    {
     "data": {
      "text/plain": [
       "id         0\n",
       "f0         0\n",
       "f1         0\n",
       "f2         0\n",
       "product    0\n",
       "dtype: int64"
      ]
     },
     "metadata": {},
     "output_type": "display_data"
    }
   ],
   "source": [
    "display(geo_data_0.isna().sum())\n",
    "display(geo_data_1.isna().sum())\n",
    "display(geo_data_2.isna().sum())"
   ]
  },
  {
   "cell_type": "code",
   "execution_count": 8,
   "metadata": {},
   "outputs": [
    {
     "data": {
      "text/plain": [
       "0"
      ]
     },
     "metadata": {},
     "output_type": "display_data"
    },
    {
     "data": {
      "text/plain": [
       "0"
      ]
     },
     "metadata": {},
     "output_type": "display_data"
    },
    {
     "data": {
      "text/plain": [
       "0"
      ]
     },
     "metadata": {},
     "output_type": "display_data"
    }
   ],
   "source": [
    "display(geo_data_0.duplicated().sum())\n",
    "display(geo_data_1.duplicated().sum())\n",
    "display(geo_data_2.duplicated().sum())"
   ]
  },
  {
   "cell_type": "code",
   "execution_count": 9,
   "metadata": {},
   "outputs": [
    {
     "data": {
      "text/plain": [
       "<AxesSubplot:title={'center':'geo_data_0'}>"
      ]
     },
     "execution_count": 9,
     "metadata": {},
     "output_type": "execute_result"
    },
    {
     "data": {
      "image/png": "[encoded data removed]",
      "text/plain": [
       "<Figure size 360x360 with 1 Axes>"
      ]
     },
     "metadata": {
      "needs_background": "light"
     },
     "output_type": "display_data"
    }
   ],
   "source": [
    "plt.figure(figsize=(5,5))\n",
    "plt.title('geo_data_0')\n",
    "sns.boxplot(geo_data_0[['f0','f1','f2']])"
   ]
  },
  {
   "cell_type": "code",
   "execution_count": 10,
   "metadata": {},
   "outputs": [
    {
     "data": {
      "text/plain": [
       "<AxesSubplot:title={'center':'geo_data_1'}>"
      ]
     },
     "execution_count": 10,
     "metadata": {},
     "output_type": "execute_result"
    },
    {
     "data": {
      "image/png": "[encoded data removed]",
      "text/plain": [
       "<Figure size 360x360 with 1 Axes>"
      ]
     },
     "metadata": {
      "needs_background": "light"
     },
     "output_type": "display_data"
    }
   ],
   "source": [
    "plt.figure(figsize=(5,5))\n",
    "plt.title('geo_data_1')\n",
    "sns.boxplot(geo_data_1[['f0','f1','f2']])"
   ]
  },
  {
   "cell_type": "code",
   "execution_count": 11,
   "metadata": {},
   "outputs": [
    {
     "data": {
      "text/plain": [
       "<AxesSubplot:title={'center':'geo_data_2'}>"
      ]
     },
     "execution_count": 11,
     "metadata": {},
     "output_type": "execute_result"
    },
    {
     "data": {
      "image/png": "[encoded data removed]",
      "text/plain": [
       "<Figure size 360x360 with 1 Axes>"
      ]
     },
     "metadata": {
      "needs_background": "light"
     },
     "output_type": "display_data"
    }
   ],
   "source": [
    "plt.figure(figsize=(5,5))\n",
    "plt.title('geo_data_2')\n",
    "sns.boxplot(geo_data_2[['f0','f1','f2']])"
   ]
  },
  {
   "cell_type": "code",
   "execution_count": 12,
   "metadata": {},
   "outputs": [],
   "source": [
    "def upper_fence(df):\n",
    "    return df.quantile(0.75) + (df.quantile(0.75) - df.quantile(0.25))*1.5"
   ]
  },
  {
   "cell_type": "code",
   "execution_count": 13,
   "metadata": {},
   "outputs": [],
   "source": [
    "def lower_fence(df):\n",
    "    return df.quantile(0.25) - (df.quantile(0.75) - df.quantile(0.25))*1.5\n"
   ]
  },
  {
   "cell_type": "code",
   "execution_count": 14,
   "metadata": {},
   "outputs": [
    {
     "data": {
      "text/plain": [
       "<AxesSubplot:title={'center':'geo_data_0, correlation'}>"
      ]
     },
     "execution_count": 14,
     "metadata": {},
     "output_type": "execute_result"
    },
    {
     "data": {
      "image/png": "[encoded data removed]",
      "text/plain": [
       "<Figure size 288x288 with 2 Axes>"
      ]
     },
     "metadata": {
      "needs_background": "light"
     },
     "output_type": "display_data"
    }
   ],
   "source": [
    "plt.figure(figsize = (4,4))\n",
    "plt.title('geo_data_0, correlation')\n",
    "sns.heatmap(geo_data_0[['f0','f1','f2','product']].corr(), annot = True)\n"
   ]
  },
  {
   "cell_type": "code",
   "execution_count": 15,
   "metadata": {},
   "outputs": [
    {
     "data": {
      "text/plain": [
       "<AxesSubplot:title={'center':'geo_data_1, correlation'}>"
      ]
     },
     "execution_count": 15,
     "metadata": {},
     "output_type": "execute_result"
    },
    {
     "data": {
      "image/png": "[encoded data removed]",
      "text/plain": [
       "<Figure size 288x288 with 2 Axes>"
      ]
     },
     "metadata": {
      "needs_background": "light"
     },
     "output_type": "display_data"
    }
   ],
   "source": [
    "plt.figure(figsize = (4,4))\n",
    "plt.title('geo_data_1, correlation')\n",
    "sns.heatmap(geo_data_1[['f0','f1','f2','product']].corr(), annot = True)"
   ]
  },
  {
   "cell_type": "code",
   "execution_count": 16,
   "metadata": {},
   "outputs": [
    {
     "data": {
      "text/plain": [
       "<AxesSubplot:title={'center':'geo_data_2, correlation'}>"
      ]
     },
     "execution_count": 16,
     "metadata": {},
     "output_type": "execute_result"
    },
    {
     "data": {
      "image/png": "[encoded data removed]",
      "text/plain": [
       "<Figure size 288x288 with 2 Axes>"
      ]
     },
     "metadata": {
      "needs_background": "light"
     },
     "output_type": "display_data"
    }
   ],
   "source": [
    "plt.figure(figsize = (4,4))\n",
    "plt.title('geo_data_2, correlation')\n",
    "sns.heatmap(geo_data_2[['f0','f1','f2','product']].corr(), annot = True)"
   ]
  },
  {
   "cell_type": "markdown",
   "metadata": {},
   "source": [
    "### Выводы: \n",
    "- во всех выборках имеются экстримальные выбросы, возможно потребуется дропнуть для лучшего обучения модели\n",
    "- в 1-ом регионе между признаками f2 и product полная положительная зависимость, возможно потребуется удаление одного признака для лучшего обучения модели"
   ]
  },
  {
   "cell_type": "markdown",
   "metadata": {},
   "source": [
    "## Обучение и проверка модели"
   ]
  },
  {
   "cell_type": "code",
   "execution_count": 17,
   "metadata": {},
   "outputs": [],
   "source": [
    "def model(df):\n",
    "    target = df['product']\n",
    "    features = df.drop(['id','product'] , axis=1)\n",
    "    features_train, features_valid, target_train, target_valid = train_test_split(\n",
    "    features, target, test_size=0.25, random_state=12345)\n",
    "    scaler = StandardScaler()\n",
    "    scaler.fit(features_train)\n",
    "    features_train = scaler.transform(features_train)\n",
    "    features_valid = scaler.transform(features_valid)\n",
    "    model = LinearRegression()\n",
    "    model.fit(features_train, target_train)\n",
    "    predicted_valid = model.predict(features_valid)\n",
    "    mse = mean_squared_error(target_valid, predicted_valid)\n",
    "    print(\"RMSE =\", round(mse ** 0.5,2))\n",
    "    print(\"Predicted_valid_mean =\", round(predicted_valid.mean(),2))\n",
    "    return predicted_valid, target_valid"
   ]
  },
  {
   "cell_type": "code",
   "execution_count": 18,
   "metadata": {},
   "outputs": [
    {
     "name": "stdout",
     "output_type": "stream",
     "text": [
      "RMSE = 37.58\n",
      "Predicted_valid_mean = 92.59\n"
     ]
    }
   ],
   "source": [
    "geo_data_0_pred, geo_data_0_real = model(geo_data_0)"
   ]
  },
  {
   "cell_type": "code",
   "execution_count": 19,
   "metadata": {},
   "outputs": [
    {
     "name": "stdout",
     "output_type": "stream",
     "text": [
      "RMSE = 0.89\n",
      "Predicted_valid_mean = 68.73\n"
     ]
    }
   ],
   "source": [
    "geo_data_1_pred, geo_data_1_real  = model(geo_data_1)"
   ]
  },
  {
   "cell_type": "code",
   "execution_count": 20,
   "metadata": {},
   "outputs": [
    {
     "name": "stdout",
     "output_type": "stream",
     "text": [
      "RMSE = 40.03\n",
      "Predicted_valid_mean = 94.97\n"
     ]
    }
   ],
   "source": [
    "geo_data_2_pred, geo_data_2_real = model(geo_data_2)"
   ]
  },
  {
   "cell_type": "markdown",
   "metadata": {},
   "source": [
    "## Выводы\n",
    "- минимальная ошибка предсказания в 0-ом регионе -  37.58 тыс. барр.\n",
    "- максимальный средний показатель во 2-ом регионе - 94.97 тыс. барр."
   ]
  },
  {
   "cell_type": "markdown",
   "metadata": {},
   "source": [
    "## Подготовка к расчёту прибыли"
   ]
  },
  {
   "cell_type": "code",
   "execution_count": 21,
   "metadata": {},
   "outputs": [],
   "source": [
    "development_budget = 10_000_000_000\n",
    "revenue = 450_000\n",
    "oil_well_dev = 500\n",
    "oil_well_used = 200"
   ]
  },
  {
   "cell_type": "code",
   "execution_count": 22,
   "metadata": {},
   "outputs": [
    {
     "name": "stdout",
     "output_type": "stream",
     "text": [
      "Точка безубыточности при использовании 200 скважин = 111.11\n"
     ]
    }
   ],
   "source": [
    "breakeven = development_budget/(revenue*oil_well_used)\n",
    "print('Точка безубыточности при использовании 200 скважин =', round(breakeven,2))"
   ]
  },
  {
   "cell_type": "code",
   "execution_count": 23,
   "metadata": {},
   "outputs": [
    {
     "data": {
      "text/plain": [
       "92.07859674082927"
      ]
     },
     "metadata": {},
     "output_type": "display_data"
    },
    {
     "data": {
      "text/plain": [
       "68.72313602435997"
      ]
     },
     "metadata": {},
     "output_type": "display_data"
    },
    {
     "data": {
      "text/plain": [
       "94.88423280885438"
      ]
     },
     "metadata": {},
     "output_type": "display_data"
    }
   ],
   "source": [
    "#Реальные средние значения валидационной выборки\n",
    "#Средние значения очень близки к реальным\n",
    "display(geo_data_0_real.mean())\n",
    "display(geo_data_1_real.mean())\n",
    "display(geo_data_2_real.mean())"
   ]
  },
  {
   "cell_type": "code",
   "execution_count": 24,
   "metadata": {},
   "outputs": [
    {
     "data": {
      "text/plain": [
       "0.36244"
      ]
     },
     "metadata": {},
     "output_type": "display_data"
    },
    {
     "data": {
      "text/plain": [
       "0.16744"
      ]
     },
     "metadata": {},
     "output_type": "display_data"
    },
    {
     "data": {
      "text/plain": [
       "0.38164"
      ]
     },
     "metadata": {},
     "output_type": "display_data"
    }
   ],
   "source": [
    "display((geo_data_0_real >= breakeven).sum()/len(geo_data_0_pred))\n",
    "display((geo_data_1_real >= breakeven).sum()/len(geo_data_1_pred))\n",
    "display((geo_data_2_real >= breakeven).sum()/len(geo_data_2_pred))"
   ]
  },
  {
   "cell_type": "markdown",
   "metadata": {},
   "source": [
    "### Выводы\n",
    "Точка безубыточности при использовании 200 скважин = 111.11  \n",
    "В 0 регионе более 36% скважин имеют запасы превышающие точку безубыточности  \n",
    "В 1 регионе более 17% скважин имеют запасы превышающие точку безубыточности  \n",
    "В 2 регионе более 38% скважин имеют запасы превышающие точку безубыточности"
   ]
  },
  {
   "cell_type": "markdown",
   "metadata": {},
   "source": [
    "## Расчёт прибыли и рисков "
   ]
  },
  {
   "cell_type": "code",
   "execution_count": 26,
   "metadata": {},
   "outputs": [],
   "source": [
    "def profit(valid_real, valid_pred):\n",
    "    valid_pred = pd.Series(valid_pred).sort_values(ascending = False)\n",
    "    valid_real = valid_real.reset_index(drop=True)\n",
    "    valid_real = valid_real.iloc[valid_pred.index].reset_index(drop=True).iloc[:oil_well_used]\n",
    "    return round(valid_real.sum()*revenue-development_budget,2)"
   ]
  },
  {
   "cell_type": "code",
   "execution_count": 27,
   "metadata": {},
   "outputs": [
    {
     "name": "stdout",
     "output_type": "stream",
     "text": [
      "Выручка с 200 лучших скважин 0-ого региона 3320826043.14\n",
      "Выручка с 200 лучших скважин 1-ого региона 2415086696.68\n",
      "Выручка с 200 лучших скважин 2-ого региона 2710349963.6\n"
     ]
    }
   ],
   "source": [
    "print('Выручка с 200 лучших скважин 0-ого региона', profit(geo_data_0_real, geo_data_0_pred))\n",
    "print('Выручка с 200 лучших скважин 1-ого региона', profit(geo_data_1_real, geo_data_1_pred))\n",
    "print('Выручка с 200 лучших скважин 2-ого региона', profit(geo_data_2_real, geo_data_2_pred))"
   ]
  },
  {
   "cell_type": "code",
   "execution_count": 29,
   "metadata": {},
   "outputs": [],
   "source": [
    "def bootstrap(valid_real,valid_pred):\n",
    "    state = np.random.RandomState(12345)\n",
    "    samples = []\n",
    "    for i in range(1000):\n",
    "        sample_pred = pd.Series(valid_pred).sample(n = oil_well_dev, replace=True, random_state=state)\n",
    "        sample_final = profit(valid_real, sample_pred) \n",
    "        samples.append(sample_final)        \n",
    "    samples = pd.Series(samples)\n",
    "    print('Риск убытка',(samples<0).sum()/len(samples),'%')\n",
    "    lower = samples.quantile(0.025)\n",
    "    upper = samples.quantile(0.975)\n",
    "    print('Средняя выручка', round(samples.mean(),1),'руб')\n",
    "    print('95 % доверительный интервал =',round(lower,1),'руб','-',round(upper,1),'руб')\n",
    "    "
   ]
  },
  {
   "cell_type": "markdown",
   "metadata": {},
   "source": [
    "**Bootstrap для 0 - ого региона**"
   ]
  },
  {
   "cell_type": "code",
   "execution_count": 30,
   "metadata": {},
   "outputs": [
    {
     "name": "stdout",
     "output_type": "stream",
     "text": [
      "Риск убытка 0.069 %\n",
      "Средняя выручка 396164984.8 руб\n",
      "95 % доверительный интервал = -111215545.9 руб - 909766941.6 руб\n"
     ]
    }
   ],
   "source": [
    "bootstrap(geo_data_0_real,geo_data_0_pred)"
   ]
  },
  {
   "cell_type": "markdown",
   "metadata": {},
   "source": [
    "**Bootstrap для 1 - ого региона**"
   ]
  },
  {
   "cell_type": "code",
   "execution_count": 31,
   "metadata": {
    "scrolled": true
   },
   "outputs": [
    {
     "name": "stdout",
     "output_type": "stream",
     "text": [
      "Риск убытка 0.015 %\n",
      "Средняя выручка 456045105.8 руб\n",
      "95 % доверительный интервал = 33820509.4 руб - 852289453.9 руб\n"
     ]
    }
   ],
   "source": [
    "bootstrap(geo_data_1_real,geo_data_1_pred)"
   ]
  },
  {
   "cell_type": "markdown",
   "metadata": {},
   "source": [
    "**Bootstrap для 2 - ого региона**"
   ]
  },
  {
   "cell_type": "code",
   "execution_count": 32,
   "metadata": {},
   "outputs": [
    {
     "name": "stdout",
     "output_type": "stream",
     "text": [
      "Риск убытка 0.076 %\n",
      "Средняя выручка 404403866.6 руб\n",
      "95 % доверительный интервал = -163350413.4 руб - 950359574.9 руб\n"
     ]
    }
   ],
   "source": [
    "bootstrap(geo_data_2_real,geo_data_2_pred)"
   ]
  },
  {
   "cell_type": "markdown",
   "metadata": {},
   "source": [
    "### Выводы\n",
    "- в результате расчетов максимальная средняя выручка составила в первом регионе (456 млн)\n",
    "- наименее рискованный также оказался 1-ый регион (Риск убытка 0.015 %)"
   ]
  },
  {
   "cell_type": "code",
   "execution_count": null,
   "metadata": {},
   "outputs": [],
   "source": []
  }
 ],
 "metadata": {
  "ExecuteTimeLog": [
   {
    "duration": 360,
    "start_time": "2023-07-26T21:32:16.046Z"
   },
   {
    "duration": 772,
    "start_time": "2023-07-26T21:33:32.737Z"
   },
   {
    "duration": 19,
    "start_time": "2023-07-26T21:33:51.510Z"
   },
   {
    "duration": 81,
    "start_time": "2023-07-26T21:35:23.786Z"
   },
   {
    "duration": 21,
    "start_time": "2023-07-26T21:35:37.382Z"
   },
   {
    "duration": 8,
    "start_time": "2023-07-26T21:36:54.623Z"
   },
   {
    "duration": 11,
    "start_time": "2023-07-26T21:37:14.479Z"
   },
   {
    "duration": 15,
    "start_time": "2023-07-26T21:37:19.147Z"
   },
   {
    "duration": 14,
    "start_time": "2023-07-26T21:37:25.564Z"
   },
   {
    "duration": 23,
    "start_time": "2023-07-26T21:37:45.128Z"
   },
   {
    "duration": 59,
    "start_time": "2023-07-26T21:38:21.670Z"
   },
   {
    "duration": 56,
    "start_time": "2023-07-26T21:38:29.263Z"
   },
   {
    "duration": 119,
    "start_time": "2023-07-26T21:38:45.823Z"
   },
   {
    "duration": 106,
    "start_time": "2023-07-26T21:39:47.596Z"
   },
   {
    "duration": 41,
    "start_time": "2023-07-26T21:40:57.208Z"
   },
   {
    "duration": 1317,
    "start_time": "2023-07-26T21:41:39.518Z"
   },
   {
    "duration": 73,
    "start_time": "2023-07-26T21:43:18.994Z"
   },
   {
    "duration": 29,
    "start_time": "2023-07-26T21:43:58.287Z"
   },
   {
    "duration": 26,
    "start_time": "2023-07-26T21:44:29.304Z"
   },
   {
    "duration": 41,
    "start_time": "2023-07-26T21:44:54.782Z"
   },
   {
    "duration": 30,
    "start_time": "2023-07-26T21:45:09.982Z"
   },
   {
    "duration": 3144,
    "start_time": "2023-07-26T21:45:30.182Z"
   },
   {
    "duration": 24,
    "start_time": "2023-07-26T21:46:40.891Z"
   },
   {
    "duration": 2644,
    "start_time": "2023-07-26T21:46:55.992Z"
   },
   {
    "duration": 2076,
    "start_time": "2023-07-26T21:48:08.787Z"
   },
   {
    "duration": 3520,
    "start_time": "2023-07-26T21:49:57.559Z"
   },
   {
    "duration": 884,
    "start_time": "2023-07-26T21:57:42.908Z"
   },
   {
    "duration": 18,
    "start_time": "2023-07-26T21:58:56.144Z"
   },
   {
    "duration": 737,
    "start_time": "2023-07-26T21:59:01.086Z"
   },
   {
    "duration": 2,
    "start_time": "2023-07-26T21:59:13.840Z"
   },
   {
    "duration": 6763,
    "start_time": "2023-07-26T22:00:13.896Z"
   },
   {
    "duration": 8,
    "start_time": "2023-07-26T22:01:24.882Z"
   },
   {
    "duration": 334,
    "start_time": "2023-07-26T22:01:43.396Z"
   },
   {
    "duration": 6,
    "start_time": "2023-07-26T22:02:14.025Z"
   },
   {
    "duration": 5,
    "start_time": "2023-07-26T22:02:18.192Z"
   },
   {
    "duration": 327,
    "start_time": "2023-07-26T22:02:22.710Z"
   },
   {
    "duration": 14,
    "start_time": "2023-07-26T22:04:20.481Z"
   },
   {
    "duration": 5,
    "start_time": "2023-07-26T22:05:04.524Z"
   },
   {
    "duration": 108,
    "start_time": "2023-07-26T22:07:14.761Z"
   },
   {
    "duration": 12,
    "start_time": "2023-07-26T22:08:08.668Z"
   },
   {
    "duration": 5,
    "start_time": "2023-07-26T22:08:29.244Z"
   },
   {
    "duration": 11,
    "start_time": "2023-07-26T22:08:37.864Z"
   },
   {
    "duration": 35,
    "start_time": "2023-07-26T22:08:47.663Z"
   },
   {
    "duration": 27,
    "start_time": "2023-07-26T22:11:04.978Z"
   },
   {
    "duration": 25,
    "start_time": "2023-07-26T22:11:20.619Z"
   },
   {
    "duration": 25,
    "start_time": "2023-07-26T22:15:47.516Z"
   },
   {
    "duration": 8,
    "start_time": "2023-07-26T22:20:47.257Z"
   },
   {
    "duration": 4,
    "start_time": "2023-07-26T22:21:12.390Z"
   },
   {
    "duration": 5,
    "start_time": "2023-07-26T22:21:39.265Z"
   },
   {
    "duration": 7,
    "start_time": "2023-07-26T22:21:48.763Z"
   },
   {
    "duration": 9,
    "start_time": "2023-07-26T22:22:21.448Z"
   },
   {
    "duration": 28,
    "start_time": "2023-07-26T22:32:03.375Z"
   },
   {
    "duration": 24,
    "start_time": "2023-07-26T22:32:17.258Z"
   },
   {
    "duration": 2228,
    "start_time": "2023-07-27T11:29:32.396Z"
   },
   {
    "duration": 768,
    "start_time": "2023-07-27T11:29:36.586Z"
   },
   {
    "duration": 27,
    "start_time": "2023-07-27T11:29:39.466Z"
   },
   {
    "duration": 6,
    "start_time": "2023-07-27T11:29:44.950Z"
   },
   {
    "duration": 26,
    "start_time": "2023-07-27T11:29:47.422Z"
   },
   {
    "duration": 171,
    "start_time": "2023-07-27T11:29:51.358Z"
   },
   {
    "duration": 14,
    "start_time": "2023-07-27T11:30:14.593Z"
   },
   {
    "duration": 40,
    "start_time": "2023-07-27T11:30:21.912Z"
   },
   {
    "duration": 20,
    "start_time": "2023-07-27T11:30:44.450Z"
   },
   {
    "duration": 158,
    "start_time": "2023-07-27T11:32:18.968Z"
   },
   {
    "duration": 1387,
    "start_time": "2023-07-27T11:32:38.346Z"
   },
   {
    "duration": 862,
    "start_time": "2023-07-27T11:32:54.766Z"
   },
   {
    "duration": 917,
    "start_time": "2023-07-27T11:33:09.467Z"
   },
   {
    "duration": 790,
    "start_time": "2023-07-27T11:33:21.502Z"
   },
   {
    "duration": 2500,
    "start_time": "2023-07-27T11:38:46.458Z"
   },
   {
    "duration": 4617,
    "start_time": "2023-07-27T11:39:30.760Z"
   },
   {
    "duration": 29,
    "start_time": "2023-07-27T11:42:15.576Z"
   },
   {
    "duration": 38,
    "start_time": "2023-07-27T11:43:06.710Z"
   },
   {
    "duration": 41,
    "start_time": "2023-07-27T11:43:51.173Z"
   },
   {
    "duration": 33,
    "start_time": "2023-07-27T11:44:29.678Z"
   },
   {
    "duration": 98,
    "start_time": "2023-07-27T11:46:45.197Z"
   },
   {
    "duration": 391,
    "start_time": "2023-07-27T11:47:14.349Z"
   },
   {
    "duration": 52,
    "start_time": "2023-07-27T11:47:20.445Z"
   },
   {
    "duration": 45,
    "start_time": "2023-07-27T11:47:28.755Z"
   },
   {
    "duration": 36,
    "start_time": "2023-07-27T11:48:07.900Z"
   },
   {
    "duration": 2496,
    "start_time": "2023-07-28T11:20:47.267Z"
   },
   {
    "duration": 486,
    "start_time": "2023-07-28T11:20:49.766Z"
   },
   {
    "duration": 32,
    "start_time": "2023-07-28T11:21:04.292Z"
   },
   {
    "duration": 56,
    "start_time": "2023-07-28T11:21:05.552Z"
   },
   {
    "duration": 8,
    "start_time": "2023-07-28T11:21:08.093Z"
   },
   {
    "duration": 28,
    "start_time": "2023-07-28T11:21:08.289Z"
   },
   {
    "duration": 170,
    "start_time": "2023-07-28T11:21:08.783Z"
   },
   {
    "duration": 317,
    "start_time": "2023-07-28T11:21:14.354Z"
   },
   {
    "duration": 2351,
    "start_time": "2023-07-28T11:22:06.304Z"
   },
   {
    "duration": 582,
    "start_time": "2023-07-28T11:22:08.657Z"
   },
   {
    "duration": 36,
    "start_time": "2023-07-28T11:22:09.241Z"
   },
   {
    "duration": 96,
    "start_time": "2023-07-28T11:22:09.280Z"
   },
   {
    "duration": 9,
    "start_time": "2023-07-28T11:22:09.378Z"
   },
   {
    "duration": 68,
    "start_time": "2023-07-28T11:22:09.390Z"
   },
   {
    "duration": 142,
    "start_time": "2023-07-28T11:22:09.988Z"
   },
   {
    "duration": 253,
    "start_time": "2023-07-28T11:22:10.691Z"
   },
   {
    "duration": 162,
    "start_time": "2023-07-28T11:22:16.050Z"
   },
   {
    "duration": 147,
    "start_time": "2023-07-28T11:22:17.146Z"
   },
   {
    "duration": 4223,
    "start_time": "2023-07-28T11:23:12.759Z"
   },
   {
    "duration": 2593,
    "start_time": "2023-07-28T11:23:20.385Z"
   },
   {
    "duration": 427,
    "start_time": "2023-07-28T11:23:22.980Z"
   },
   {
    "duration": 54,
    "start_time": "2023-07-28T11:23:23.410Z"
   },
   {
    "duration": 66,
    "start_time": "2023-07-28T11:23:23.467Z"
   },
   {
    "duration": 9,
    "start_time": "2023-07-28T11:23:23.536Z"
   },
   {
    "duration": 60,
    "start_time": "2023-07-28T11:23:23.547Z"
   },
   {
    "duration": 175,
    "start_time": "2023-07-28T11:23:23.609Z"
   },
   {
    "duration": 198,
    "start_time": "2023-07-28T11:23:23.786Z"
   },
   {
    "duration": 176,
    "start_time": "2023-07-28T11:23:26.628Z"
   },
   {
    "duration": 284,
    "start_time": "2023-07-28T11:23:27.157Z"
   },
   {
    "duration": 4,
    "start_time": "2023-07-28T11:24:11.100Z"
   },
   {
    "duration": 5,
    "start_time": "2023-07-28T11:24:11.796Z"
   },
   {
    "duration": 460,
    "start_time": "2023-07-28T11:24:12.562Z"
   },
   {
    "duration": 450,
    "start_time": "2023-07-28T11:24:13.098Z"
   },
   {
    "duration": 514,
    "start_time": "2023-07-28T11:24:13.849Z"
   },
   {
    "duration": 5,
    "start_time": "2023-07-28T11:26:52.615Z"
   },
   {
    "duration": 39,
    "start_time": "2023-07-28T11:27:18.822Z"
   },
   {
    "duration": 42,
    "start_time": "2023-07-28T11:27:19.301Z"
   },
   {
    "duration": 76,
    "start_time": "2023-07-28T11:27:19.693Z"
   },
   {
    "duration": 3,
    "start_time": "2023-07-28T11:27:47.079Z"
   },
   {
    "duration": 5,
    "start_time": "2023-07-28T11:27:48.654Z"
   },
   {
    "duration": 5285,
    "start_time": "2023-07-28T16:10:28.135Z"
   },
   {
    "duration": 1916,
    "start_time": "2023-07-28T16:10:33.423Z"
   },
   {
    "duration": 1610,
    "start_time": "2023-07-28T16:10:35.341Z"
   },
   {
    "duration": 39,
    "start_time": "2023-07-28T16:10:36.953Z"
   },
   {
    "duration": 54,
    "start_time": "2023-07-28T16:10:36.999Z"
   },
   {
    "duration": 7,
    "start_time": "2023-07-28T16:10:37.055Z"
   },
   {
    "duration": 51,
    "start_time": "2023-07-28T16:10:37.064Z"
   },
   {
    "duration": 165,
    "start_time": "2023-07-28T16:10:37.117Z"
   },
   {
    "duration": 153,
    "start_time": "2023-07-28T16:10:37.286Z"
   },
   {
    "duration": 262,
    "start_time": "2023-07-28T16:10:37.441Z"
   },
   {
    "duration": 152,
    "start_time": "2023-07-28T16:10:37.705Z"
   },
   {
    "duration": 15,
    "start_time": "2023-07-28T16:10:37.858Z"
   },
   {
    "duration": 34,
    "start_time": "2023-07-28T16:10:37.874Z"
   },
   {
    "duration": 414,
    "start_time": "2023-07-28T16:10:37.911Z"
   },
   {
    "duration": 383,
    "start_time": "2023-07-28T16:10:38.326Z"
   },
   {
    "duration": 382,
    "start_time": "2023-07-28T16:10:38.711Z"
   },
   {
    "duration": 6,
    "start_time": "2023-07-28T16:10:39.095Z"
   },
   {
    "duration": 174,
    "start_time": "2023-07-28T16:10:39.103Z"
   },
   {
    "duration": 197,
    "start_time": "2023-07-28T16:10:39.280Z"
   },
   {
    "duration": 126,
    "start_time": "2023-07-28T16:10:39.483Z"
   },
   {
    "duration": 58,
    "start_time": "2023-07-28T16:10:39.613Z"
   },
   {
    "duration": 97,
    "start_time": "2023-07-28T16:10:39.679Z"
   },
   {
    "duration": 11,
    "start_time": "2023-07-28T16:10:39.778Z"
   },
   {
    "duration": 17,
    "start_time": "2023-07-28T16:10:39.791Z"
   },
   {
    "duration": 21,
    "start_time": "2023-07-28T16:10:39.809Z"
   },
   {
    "duration": 63,
    "start_time": "2023-07-28T16:10:39.831Z"
   },
   {
    "duration": 679,
    "start_time": "2023-07-28T16:10:39.896Z"
   },
   {
    "duration": 717,
    "start_time": "2023-07-28T16:10:40.586Z"
   },
   {
    "duration": 696,
    "start_time": "2023-07-28T16:10:41.305Z"
   },
   {
    "duration": 120,
    "start_time": "2023-07-28T16:13:05.199Z"
   },
   {
    "duration": 515,
    "start_time": "2023-07-28T16:17:49.244Z"
   },
   {
    "duration": 6,
    "start_time": "2023-07-28T16:25:16.693Z"
   },
   {
    "duration": 39,
    "start_time": "2023-07-28T16:25:59.334Z"
   },
   {
    "duration": 5,
    "start_time": "2023-07-28T16:26:11.654Z"
   },
   {
    "duration": 4,
    "start_time": "2023-07-28T16:26:21.405Z"
   },
   {
    "duration": 13,
    "start_time": "2023-07-28T16:27:04.696Z"
   },
   {
    "duration": 6,
    "start_time": "2023-07-28T16:27:16.197Z"
   },
   {
    "duration": 5,
    "start_time": "2023-07-28T16:27:24.436Z"
   },
   {
    "duration": 46,
    "start_time": "2023-07-28T16:28:19.156Z"
   },
   {
    "duration": 34,
    "start_time": "2023-07-28T16:28:20.000Z"
   },
   {
    "duration": 37,
    "start_time": "2023-07-28T16:28:20.706Z"
   },
   {
    "duration": 9,
    "start_time": "2023-07-28T16:30:02.402Z"
   },
   {
    "duration": 151,
    "start_time": "2023-07-28T16:31:24.446Z"
   },
   {
    "duration": 9,
    "start_time": "2023-07-28T16:31:39.499Z"
   },
   {
    "duration": 9,
    "start_time": "2023-07-28T16:32:35.996Z"
   },
   {
    "duration": 9,
    "start_time": "2023-07-28T16:33:06.654Z"
   },
   {
    "duration": 10,
    "start_time": "2023-07-28T16:33:14.599Z"
   },
   {
    "duration": 6,
    "start_time": "2023-07-28T16:34:35.802Z"
   },
   {
    "duration": 125,
    "start_time": "2023-07-28T16:34:47.535Z"
   },
   {
    "duration": 19,
    "start_time": "2023-07-28T16:34:53.772Z"
   },
   {
    "duration": 10,
    "start_time": "2023-07-28T16:35:11.902Z"
   },
   {
    "duration": 6,
    "start_time": "2023-07-28T16:35:18.097Z"
   },
   {
    "duration": 6,
    "start_time": "2023-07-28T16:35:24.597Z"
   },
   {
    "duration": 6,
    "start_time": "2023-07-28T16:38:00.352Z"
   },
   {
    "duration": 6,
    "start_time": "2023-07-28T16:38:14.555Z"
   },
   {
    "duration": 6,
    "start_time": "2023-07-28T16:40:15.140Z"
   },
   {
    "duration": 3,
    "start_time": "2023-07-28T16:40:33.156Z"
   },
   {
    "duration": 5,
    "start_time": "2023-07-28T16:40:36.610Z"
   },
   {
    "duration": 6,
    "start_time": "2023-07-28T16:41:54.586Z"
   },
   {
    "duration": 6,
    "start_time": "2023-07-28T16:42:03.362Z"
   },
   {
    "duration": 4,
    "start_time": "2023-07-28T16:42:40.411Z"
   },
   {
    "duration": 18,
    "start_time": "2023-07-28T16:43:02.347Z"
   },
   {
    "duration": 12,
    "start_time": "2023-07-28T16:43:15.953Z"
   },
   {
    "duration": 16,
    "start_time": "2023-07-28T16:43:41.840Z"
   },
   {
    "duration": 4,
    "start_time": "2023-07-28T16:43:59.754Z"
   },
   {
    "duration": 15,
    "start_time": "2023-07-28T16:44:29.199Z"
   },
   {
    "duration": 6,
    "start_time": "2023-07-28T16:44:42.504Z"
   },
   {
    "duration": 9,
    "start_time": "2023-07-28T16:47:26.275Z"
   },
   {
    "duration": 2,
    "start_time": "2023-07-28T16:48:38.928Z"
   },
   {
    "duration": 4,
    "start_time": "2023-07-28T16:53:25.753Z"
   },
   {
    "duration": 7,
    "start_time": "2023-07-28T16:53:57.470Z"
   },
   {
    "duration": 2,
    "start_time": "2023-07-28T16:54:18.095Z"
   },
   {
    "duration": 2,
    "start_time": "2023-07-28T16:54:18.451Z"
   },
   {
    "duration": 3,
    "start_time": "2023-07-28T16:54:19.174Z"
   },
   {
    "duration": 2792,
    "start_time": "2023-07-28T16:54:27.052Z"
   },
   {
    "duration": 7,
    "start_time": "2023-07-28T16:54:29.846Z"
   },
   {
    "duration": 451,
    "start_time": "2023-07-28T16:54:29.854Z"
   },
   {
    "duration": 22,
    "start_time": "2023-07-28T16:54:30.308Z"
   },
   {
    "duration": 106,
    "start_time": "2023-07-28T16:54:30.332Z"
   },
   {
    "duration": 18,
    "start_time": "2023-07-28T16:54:30.440Z"
   },
   {
    "duration": 82,
    "start_time": "2023-07-28T16:54:30.460Z"
   },
   {
    "duration": 192,
    "start_time": "2023-07-28T16:54:30.544Z"
   },
   {
    "duration": 159,
    "start_time": "2023-07-28T16:54:30.738Z"
   },
   {
    "duration": 182,
    "start_time": "2023-07-28T16:54:30.900Z"
   },
   {
    "duration": 143,
    "start_time": "2023-07-28T16:54:31.084Z"
   },
   {
    "duration": 3,
    "start_time": "2023-07-28T16:54:31.229Z"
   },
   {
    "duration": 50,
    "start_time": "2023-07-28T16:54:31.234Z"
   },
   {
    "duration": 450,
    "start_time": "2023-07-28T16:54:31.286Z"
   },
   {
    "duration": 369,
    "start_time": "2023-07-28T16:54:31.738Z"
   },
   {
    "duration": 331,
    "start_time": "2023-07-28T16:54:32.109Z"
   },
   {
    "duration": 5,
    "start_time": "2023-07-28T16:54:32.443Z"
   },
   {
    "duration": 122,
    "start_time": "2023-07-28T16:54:32.451Z"
   },
   {
    "duration": 124,
    "start_time": "2023-07-28T16:54:32.577Z"
   },
   {
    "duration": 113,
    "start_time": "2023-07-28T16:54:32.776Z"
   },
   {
    "duration": 90,
    "start_time": "2023-07-28T16:54:32.892Z"
   },
   {
    "duration": 96,
    "start_time": "2023-07-28T16:54:32.985Z"
   },
   {
    "duration": 21,
    "start_time": "2023-07-28T16:54:33.084Z"
   },
   {
    "duration": 24,
    "start_time": "2023-07-28T16:54:33.107Z"
   },
   {
    "duration": 8,
    "start_time": "2023-07-28T16:54:33.132Z"
   },
   {
    "duration": 3,
    "start_time": "2023-07-28T16:54:34.943Z"
   },
   {
    "duration": 10,
    "start_time": "2023-07-28T16:55:03.303Z"
   },
   {
    "duration": 10,
    "start_time": "2023-07-28T16:55:59.656Z"
   },
   {
    "duration": 8,
    "start_time": "2023-07-28T16:56:00.984Z"
   },
   {
    "duration": 24,
    "start_time": "2023-07-28T16:57:56.273Z"
   },
   {
    "duration": 557,
    "start_time": "2023-07-28T17:00:17.653Z"
   },
   {
    "duration": 6,
    "start_time": "2023-07-28T17:00:56.801Z"
   },
   {
    "duration": 9,
    "start_time": "2023-07-28T17:01:22.781Z"
   },
   {
    "duration": 660,
    "start_time": "2023-07-28T17:01:25.894Z"
   },
   {
    "duration": 6,
    "start_time": "2023-07-28T17:08:28.188Z"
   },
   {
    "duration": 6,
    "start_time": "2023-07-28T17:09:11.694Z"
   },
   {
    "duration": 23,
    "start_time": "2023-07-28T17:09:37.515Z"
   },
   {
    "duration": 6,
    "start_time": "2023-07-28T17:09:49.241Z"
   },
   {
    "duration": 930,
    "start_time": "2023-07-28T17:09:50.462Z"
   },
   {
    "duration": 848,
    "start_time": "2023-07-28T17:10:33.582Z"
   },
   {
    "duration": 895,
    "start_time": "2023-07-28T17:10:56.410Z"
   },
   {
    "duration": 108,
    "start_time": "2023-07-28T17:17:16.794Z"
   },
   {
    "duration": 4,
    "start_time": "2023-07-28T17:18:14.114Z"
   },
   {
    "duration": 17,
    "start_time": "2023-07-28T17:18:14.828Z"
   },
   {
    "duration": 6,
    "start_time": "2023-07-28T17:18:58.484Z"
   },
   {
    "duration": 904,
    "start_time": "2023-07-28T17:19:00.646Z"
   },
   {
    "duration": 862,
    "start_time": "2023-07-28T17:19:03.003Z"
   },
   {
    "duration": 944,
    "start_time": "2023-07-28T17:19:05.870Z"
   },
   {
    "duration": 3682,
    "start_time": "2023-07-29T13:02:15.139Z"
   },
   {
    "duration": 2040,
    "start_time": "2023-07-29T13:02:18.823Z"
   },
   {
    "duration": 747,
    "start_time": "2023-07-29T13:02:20.864Z"
   },
   {
    "duration": 22,
    "start_time": "2023-07-29T13:02:21.613Z"
   },
   {
    "duration": 59,
    "start_time": "2023-07-29T13:02:21.637Z"
   },
   {
    "duration": 6,
    "start_time": "2023-07-29T13:02:21.698Z"
   },
   {
    "duration": 41,
    "start_time": "2023-07-29T13:02:21.706Z"
   },
   {
    "duration": 132,
    "start_time": "2023-07-29T13:02:21.749Z"
   },
   {
    "duration": 152,
    "start_time": "2023-07-29T13:02:21.883Z"
   },
   {
    "duration": 140,
    "start_time": "2023-07-29T13:02:22.038Z"
   },
   {
    "duration": 214,
    "start_time": "2023-07-29T13:02:22.180Z"
   },
   {
    "duration": 3,
    "start_time": "2023-07-29T13:02:22.395Z"
   },
   {
    "duration": 10,
    "start_time": "2023-07-29T13:02:22.399Z"
   },
   {
    "duration": 350,
    "start_time": "2023-07-29T13:02:22.410Z"
   },
   {
    "duration": 279,
    "start_time": "2023-07-29T13:02:22.761Z"
   },
   {
    "duration": 297,
    "start_time": "2023-07-29T13:02:23.042Z"
   },
   {
    "duration": 4,
    "start_time": "2023-07-29T13:02:23.341Z"
   },
   {
    "duration": 85,
    "start_time": "2023-07-29T13:02:23.346Z"
   },
   {
    "duration": 119,
    "start_time": "2023-07-29T13:02:23.434Z"
   },
   {
    "duration": 192,
    "start_time": "2023-07-29T13:02:23.555Z"
   },
   {
    "duration": 184,
    "start_time": "2023-07-29T13:02:23.749Z"
   },
   {
    "duration": 14,
    "start_time": "2023-07-29T13:02:23.934Z"
   },
   {
    "duration": 22,
    "start_time": "2023-07-29T13:02:23.949Z"
   },
   {
    "duration": 13,
    "start_time": "2023-07-29T13:02:23.973Z"
   },
   {
    "duration": 10,
    "start_time": "2023-07-29T13:02:23.988Z"
   },
   {
    "duration": 16,
    "start_time": "2023-07-29T13:02:23.999Z"
   },
   {
    "duration": 140,
    "start_time": "2023-07-29T13:02:24.017Z"
   },
   {
    "duration": 0,
    "start_time": "2023-07-29T13:02:24.159Z"
   },
   {
    "duration": 0,
    "start_time": "2023-07-29T13:02:24.160Z"
   },
   {
    "duration": 0,
    "start_time": "2023-07-29T13:02:24.161Z"
   },
   {
    "duration": 0,
    "start_time": "2023-07-29T13:02:24.162Z"
   },
   {
    "duration": 4,
    "start_time": "2023-07-29T13:03:02.399Z"
   },
   {
    "duration": 14,
    "start_time": "2023-07-29T13:03:03.158Z"
   },
   {
    "duration": 5,
    "start_time": "2023-07-29T13:03:04.419Z"
   },
   {
    "duration": 733,
    "start_time": "2023-07-29T13:03:04.734Z"
   },
   {
    "duration": 717,
    "start_time": "2023-07-29T13:03:05.468Z"
   },
   {
    "duration": 717,
    "start_time": "2023-07-29T13:03:06.187Z"
   },
   {
    "duration": 4,
    "start_time": "2023-07-29T13:03:27.567Z"
   },
   {
    "duration": 14,
    "start_time": "2023-07-29T13:03:27.766Z"
   },
   {
    "duration": 7,
    "start_time": "2023-07-29T15:34:58.774Z"
   },
   {
    "duration": 355,
    "start_time": "2023-07-29T15:35:02.648Z"
   },
   {
    "duration": 12,
    "start_time": "2023-07-29T15:35:08.963Z"
   },
   {
    "duration": 6,
    "start_time": "2023-07-29T15:37:59.472Z"
   },
   {
    "duration": 48,
    "start_time": "2023-07-29T15:38:09.406Z"
   },
   {
    "duration": 3616,
    "start_time": "2023-07-29T15:38:18.810Z"
   },
   {
    "duration": 1876,
    "start_time": "2023-07-29T15:38:22.430Z"
   },
   {
    "duration": 989,
    "start_time": "2023-07-29T15:38:24.308Z"
   },
   {
    "duration": 51,
    "start_time": "2023-07-29T15:38:25.299Z"
   },
   {
    "duration": 59,
    "start_time": "2023-07-29T15:38:25.353Z"
   },
   {
    "duration": 9,
    "start_time": "2023-07-29T15:38:25.414Z"
   },
   {
    "duration": 55,
    "start_time": "2023-07-29T15:38:25.426Z"
   },
   {
    "duration": 203,
    "start_time": "2023-07-29T15:38:25.484Z"
   },
   {
    "duration": 187,
    "start_time": "2023-07-29T15:38:25.689Z"
   },
   {
    "duration": 200,
    "start_time": "2023-07-29T15:38:25.879Z"
   },
   {
    "duration": 254,
    "start_time": "2023-07-29T15:38:26.081Z"
   },
   {
    "duration": 3,
    "start_time": "2023-07-29T15:38:26.337Z"
   },
   {
    "duration": 7,
    "start_time": "2023-07-29T15:38:26.353Z"
   },
   {
    "duration": 441,
    "start_time": "2023-07-29T15:38:26.365Z"
   },
   {
    "duration": 393,
    "start_time": "2023-07-29T15:38:26.808Z"
   },
   {
    "duration": 393,
    "start_time": "2023-07-29T15:38:27.204Z"
   },
   {
    "duration": 5,
    "start_time": "2023-07-29T15:38:27.599Z"
   },
   {
    "duration": 169,
    "start_time": "2023-07-29T15:38:27.606Z"
   },
   {
    "duration": 172,
    "start_time": "2023-07-29T15:38:27.781Z"
   },
   {
    "duration": 144,
    "start_time": "2023-07-29T15:38:27.957Z"
   },
   {
    "duration": 52,
    "start_time": "2023-07-29T15:38:28.104Z"
   },
   {
    "duration": 127,
    "start_time": "2023-07-29T15:38:28.161Z"
   },
   {
    "duration": 19,
    "start_time": "2023-07-29T15:38:28.291Z"
   },
   {
    "duration": 12,
    "start_time": "2023-07-29T15:38:28.313Z"
   },
   {
    "duration": 19,
    "start_time": "2023-07-29T15:38:28.327Z"
   },
   {
    "duration": 61,
    "start_time": "2023-07-29T15:38:28.348Z"
   },
   {
    "duration": 32,
    "start_time": "2023-07-29T15:38:28.412Z"
   },
   {
    "duration": 4,
    "start_time": "2023-07-29T15:38:28.446Z"
   },
   {
    "duration": 24,
    "start_time": "2023-07-29T15:38:28.459Z"
   },
   {
    "duration": 4083,
    "start_time": "2023-07-29T15:38:28.485Z"
   },
   {
    "duration": 3790,
    "start_time": "2023-07-29T15:38:32.570Z"
   },
   {
    "duration": 3708,
    "start_time": "2023-07-29T15:38:36.362Z"
   },
   {
    "duration": 8,
    "start_time": "2023-07-29T15:39:19.636Z"
   },
   {
    "duration": 933,
    "start_time": "2023-07-29T15:39:22.348Z"
   },
   {
    "duration": 81,
    "start_time": "2023-07-29T15:40:52.267Z"
   },
   {
    "duration": 82,
    "start_time": "2023-07-29T15:40:57.447Z"
   },
   {
    "duration": 91,
    "start_time": "2023-07-29T15:41:05.054Z"
   },
   {
    "duration": 15,
    "start_time": "2023-07-29T15:41:32.487Z"
   },
   {
    "duration": 18,
    "start_time": "2023-07-29T15:44:32.340Z"
   },
   {
    "duration": 12,
    "start_time": "2023-07-29T15:44:42.103Z"
   },
   {
    "duration": 14,
    "start_time": "2023-07-29T15:44:53.409Z"
   },
   {
    "duration": 7,
    "start_time": "2023-07-29T15:51:32.003Z"
   },
   {
    "duration": 6,
    "start_time": "2023-07-29T15:54:09.422Z"
   },
   {
    "duration": 15,
    "start_time": "2023-07-29T15:54:15.883Z"
   },
   {
    "duration": 6,
    "start_time": "2023-07-29T15:55:02.628Z"
   },
   {
    "duration": 32,
    "start_time": "2023-07-29T15:55:05.160Z"
   },
   {
    "duration": 5,
    "start_time": "2023-07-29T15:55:28.721Z"
   },
   {
    "duration": 40,
    "start_time": "2023-07-29T15:55:33.097Z"
   },
   {
    "duration": 12,
    "start_time": "2023-07-29T15:57:09.024Z"
   },
   {
    "duration": 8,
    "start_time": "2023-07-29T15:57:57.494Z"
   },
   {
    "duration": 18,
    "start_time": "2023-07-29T15:58:08.451Z"
   },
   {
    "duration": 8,
    "start_time": "2023-07-29T15:58:19.935Z"
   },
   {
    "duration": 10,
    "start_time": "2023-07-29T15:58:36.232Z"
   },
   {
    "duration": 22,
    "start_time": "2023-07-29T16:00:28.824Z"
   },
   {
    "duration": 6,
    "start_time": "2023-07-29T16:02:20.702Z"
   },
   {
    "duration": 15,
    "start_time": "2023-07-29T16:03:01.170Z"
   },
   {
    "duration": 19,
    "start_time": "2023-07-29T16:03:42.852Z"
   },
   {
    "duration": 22,
    "start_time": "2023-07-29T16:04:01.178Z"
   },
   {
    "duration": 6,
    "start_time": "2023-07-29T16:04:22.599Z"
   },
   {
    "duration": 14,
    "start_time": "2023-07-29T16:14:13.701Z"
   },
   {
    "duration": 14,
    "start_time": "2023-07-29T16:14:27.322Z"
   },
   {
    "duration": 892,
    "start_time": "2023-07-29T16:14:48.096Z"
   },
   {
    "duration": 5,
    "start_time": "2023-07-29T16:15:50.218Z"
   },
   {
    "duration": 14,
    "start_time": "2023-07-29T16:15:56.220Z"
   },
   {
    "duration": 15,
    "start_time": "2023-07-29T16:16:10.195Z"
   },
   {
    "duration": 5,
    "start_time": "2023-07-29T16:16:24.292Z"
   },
   {
    "duration": 11,
    "start_time": "2023-07-29T16:16:37.801Z"
   },
   {
    "duration": 6,
    "start_time": "2023-07-29T16:16:50.111Z"
   },
   {
    "duration": 862,
    "start_time": "2023-07-29T16:16:53.357Z"
   },
   {
    "duration": 8,
    "start_time": "2023-07-29T16:17:32.820Z"
   },
   {
    "duration": 946,
    "start_time": "2023-07-29T16:17:36.418Z"
   },
   {
    "duration": 1000,
    "start_time": "2023-07-29T16:17:42.698Z"
   },
   {
    "duration": 7,
    "start_time": "2023-07-29T16:17:50.078Z"
   },
   {
    "duration": 6,
    "start_time": "2023-07-29T16:18:15.081Z"
   },
   {
    "duration": 913,
    "start_time": "2023-07-29T16:18:20.505Z"
   },
   {
    "duration": 995,
    "start_time": "2023-07-29T16:18:32.295Z"
   },
   {
    "duration": 1191,
    "start_time": "2023-07-29T16:18:37.846Z"
   },
   {
    "duration": 6,
    "start_time": "2023-07-29T16:22:36.605Z"
   },
   {
    "duration": 2608,
    "start_time": "2023-07-29T16:22:39.085Z"
   },
   {
    "duration": 10,
    "start_time": "2023-07-29T16:22:41.696Z"
   },
   {
    "duration": 492,
    "start_time": "2023-07-29T16:22:41.708Z"
   },
   {
    "duration": 31,
    "start_time": "2023-07-29T16:22:42.202Z"
   },
   {
    "duration": 62,
    "start_time": "2023-07-29T16:22:42.236Z"
   },
   {
    "duration": 8,
    "start_time": "2023-07-29T16:22:42.299Z"
   },
   {
    "duration": 71,
    "start_time": "2023-07-29T16:22:42.309Z"
   },
   {
    "duration": 163,
    "start_time": "2023-07-29T16:22:42.382Z"
   },
   {
    "duration": 187,
    "start_time": "2023-07-29T16:22:42.548Z"
   },
   {
    "duration": 179,
    "start_time": "2023-07-29T16:22:42.737Z"
   },
   {
    "duration": 183,
    "start_time": "2023-07-29T16:22:42.918Z"
   },
   {
    "duration": 3,
    "start_time": "2023-07-29T16:22:43.103Z"
   },
   {
    "duration": 7,
    "start_time": "2023-07-29T16:22:43.108Z"
   },
   {
    "duration": 464,
    "start_time": "2023-07-29T16:22:43.118Z"
   },
   {
    "duration": 350,
    "start_time": "2023-07-29T16:22:43.584Z"
   },
   {
    "duration": 355,
    "start_time": "2023-07-29T16:22:43.936Z"
   },
   {
    "duration": 5,
    "start_time": "2023-07-29T16:22:44.293Z"
   },
   {
    "duration": 172,
    "start_time": "2023-07-29T16:22:44.300Z"
   },
   {
    "duration": 178,
    "start_time": "2023-07-29T16:22:44.474Z"
   },
   {
    "duration": 127,
    "start_time": "2023-07-29T16:22:44.655Z"
   },
   {
    "duration": 87,
    "start_time": "2023-07-29T16:22:44.785Z"
   },
   {
    "duration": 82,
    "start_time": "2023-07-29T16:22:44.882Z"
   },
   {
    "duration": 28,
    "start_time": "2023-07-29T16:22:44.966Z"
   },
   {
    "duration": 12,
    "start_time": "2023-07-29T16:22:44.996Z"
   },
   {
    "duration": 50,
    "start_time": "2023-07-29T16:22:45.011Z"
   },
   {
    "duration": 23,
    "start_time": "2023-07-29T16:22:45.063Z"
   },
   {
    "duration": 41,
    "start_time": "2023-07-29T16:22:45.088Z"
   },
   {
    "duration": 18,
    "start_time": "2023-07-29T16:22:45.131Z"
   },
   {
    "duration": 125,
    "start_time": "2023-07-29T16:22:45.151Z"
   },
   {
    "duration": 1045,
    "start_time": "2023-07-29T16:22:45.279Z"
   },
   {
    "duration": 1002,
    "start_time": "2023-07-29T16:22:46.326Z"
   },
   {
    "duration": 969,
    "start_time": "2023-07-29T16:22:47.330Z"
   },
   {
    "duration": 3884,
    "start_time": "2023-07-30T12:54:24.277Z"
   },
   {
    "duration": 1951,
    "start_time": "2023-07-30T12:54:28.175Z"
   },
   {
    "duration": 981,
    "start_time": "2023-07-30T12:54:30.128Z"
   },
   {
    "duration": 33,
    "start_time": "2023-07-30T12:54:31.112Z"
   },
   {
    "duration": 73,
    "start_time": "2023-07-30T12:54:31.147Z"
   },
   {
    "duration": 12,
    "start_time": "2023-07-30T12:54:31.221Z"
   },
   {
    "duration": 79,
    "start_time": "2023-07-30T12:54:31.234Z"
   },
   {
    "duration": 180,
    "start_time": "2023-07-30T12:54:31.314Z"
   },
   {
    "duration": 183,
    "start_time": "2023-07-30T12:54:31.496Z"
   },
   {
    "duration": 157,
    "start_time": "2023-07-30T12:54:31.681Z"
   },
   {
    "duration": 264,
    "start_time": "2023-07-30T12:54:31.840Z"
   },
   {
    "duration": 3,
    "start_time": "2023-07-30T12:54:32.106Z"
   },
   {
    "duration": 14,
    "start_time": "2023-07-30T12:54:32.111Z"
   },
   {
    "duration": 392,
    "start_time": "2023-07-30T12:54:32.128Z"
   },
   {
    "duration": 360,
    "start_time": "2023-07-30T12:54:32.522Z"
   },
   {
    "duration": 335,
    "start_time": "2023-07-30T12:54:32.883Z"
   },
   {
    "duration": 5,
    "start_time": "2023-07-30T12:54:33.219Z"
   },
   {
    "duration": 64,
    "start_time": "2023-07-30T12:54:33.225Z"
   },
   {
    "duration": 123,
    "start_time": "2023-07-30T12:54:33.355Z"
   },
   {
    "duration": 278,
    "start_time": "2023-07-30T12:54:33.480Z"
   },
   {
    "duration": 6,
    "start_time": "2023-07-30T12:54:33.760Z"
   },
   {
    "duration": 129,
    "start_time": "2023-07-30T12:54:33.768Z"
   },
   {
    "duration": 16,
    "start_time": "2023-07-30T12:54:33.898Z"
   },
   {
    "duration": 13,
    "start_time": "2023-07-30T12:54:33.916Z"
   },
   {
    "duration": 3,
    "start_time": "2023-07-30T12:54:33.931Z"
   },
   {
    "duration": 9,
    "start_time": "2023-07-30T12:54:33.936Z"
   },
   {
    "duration": 57,
    "start_time": "2023-07-30T12:54:33.947Z"
   },
   {
    "duration": 2,
    "start_time": "2023-07-30T12:54:34.006Z"
   },
   {
    "duration": 9,
    "start_time": "2023-07-30T12:54:34.010Z"
   },
   {
    "duration": 936,
    "start_time": "2023-07-30T12:54:34.020Z"
   },
   {
    "duration": 887,
    "start_time": "2023-07-30T12:54:34.958Z"
   },
   {
    "duration": 864,
    "start_time": "2023-07-30T12:54:35.852Z"
   },
   {
    "duration": 2639,
    "start_time": "2023-07-30T12:55:32.556Z"
   },
   {
    "duration": 1804,
    "start_time": "2023-07-30T12:55:35.198Z"
   },
   {
    "duration": 429,
    "start_time": "2023-07-30T12:55:37.004Z"
   },
   {
    "duration": 46,
    "start_time": "2023-07-30T12:55:37.435Z"
   },
   {
    "duration": 39,
    "start_time": "2023-07-30T12:55:37.483Z"
   },
   {
    "duration": 6,
    "start_time": "2023-07-30T12:55:37.523Z"
   },
   {
    "duration": 76,
    "start_time": "2023-07-30T12:55:37.530Z"
   },
   {
    "duration": 165,
    "start_time": "2023-07-30T12:55:37.608Z"
   },
   {
    "duration": 152,
    "start_time": "2023-07-30T12:55:37.778Z"
   },
   {
    "duration": 168,
    "start_time": "2023-07-30T12:55:37.932Z"
   },
   {
    "duration": 275,
    "start_time": "2023-07-30T12:55:38.102Z"
   },
   {
    "duration": 2,
    "start_time": "2023-07-30T12:55:38.379Z"
   },
   {
    "duration": 5,
    "start_time": "2023-07-30T12:55:38.383Z"
   },
   {
    "duration": 425,
    "start_time": "2023-07-30T12:55:38.391Z"
   },
   {
    "duration": 363,
    "start_time": "2023-07-30T12:55:38.818Z"
   },
   {
    "duration": 332,
    "start_time": "2023-07-30T12:55:39.182Z"
   },
   {
    "duration": 4,
    "start_time": "2023-07-30T12:55:39.516Z"
   },
   {
    "duration": 135,
    "start_time": "2023-07-30T12:55:39.522Z"
   },
   {
    "duration": 110,
    "start_time": "2023-07-30T12:55:39.673Z"
   },
   {
    "duration": 190,
    "start_time": "2023-07-30T12:55:39.785Z"
   },
   {
    "duration": 84,
    "start_time": "2023-07-30T12:55:39.979Z"
   },
   {
    "duration": 91,
    "start_time": "2023-07-30T12:55:40.064Z"
   },
   {
    "duration": 28,
    "start_time": "2023-07-30T12:55:40.157Z"
   },
   {
    "duration": 10,
    "start_time": "2023-07-30T12:55:40.187Z"
   },
   {
    "duration": 2,
    "start_time": "2023-07-30T12:55:40.199Z"
   },
   {
    "duration": 7,
    "start_time": "2023-07-30T12:55:40.203Z"
   },
   {
    "duration": 21,
    "start_time": "2023-07-30T12:55:40.212Z"
   },
   {
    "duration": 18,
    "start_time": "2023-07-30T12:55:40.235Z"
   },
   {
    "duration": 23,
    "start_time": "2023-07-30T12:55:40.260Z"
   },
   {
    "duration": 1458,
    "start_time": "2023-07-30T12:55:40.285Z"
   },
   {
    "duration": 1434,
    "start_time": "2023-07-30T12:55:41.770Z"
   },
   {
    "duration": 1481,
    "start_time": "2023-07-30T12:55:43.207Z"
   },
   {
    "duration": 3652,
    "start_time": "2023-07-30T12:56:06.439Z"
   },
   {
    "duration": 1953,
    "start_time": "2023-07-30T12:56:10.093Z"
   },
   {
    "duration": 456,
    "start_time": "2023-07-30T12:56:12.048Z"
   },
   {
    "duration": 26,
    "start_time": "2023-07-30T12:56:12.506Z"
   },
   {
    "duration": 64,
    "start_time": "2023-07-30T12:56:12.535Z"
   },
   {
    "duration": 6,
    "start_time": "2023-07-30T12:56:12.601Z"
   },
   {
    "duration": 59,
    "start_time": "2023-07-30T12:56:12.608Z"
   },
   {
    "duration": 164,
    "start_time": "2023-07-30T12:56:12.669Z"
   },
   {
    "duration": 186,
    "start_time": "2023-07-30T12:56:12.835Z"
   },
   {
    "duration": 172,
    "start_time": "2023-07-30T12:56:13.023Z"
   },
   {
    "duration": 280,
    "start_time": "2023-07-30T12:56:13.197Z"
   },
   {
    "duration": 4,
    "start_time": "2023-07-30T12:56:13.480Z"
   },
   {
    "duration": 8,
    "start_time": "2023-07-30T12:56:13.486Z"
   },
   {
    "duration": 396,
    "start_time": "2023-07-30T12:56:13.497Z"
   },
   {
    "duration": 393,
    "start_time": "2023-07-30T12:56:13.895Z"
   },
   {
    "duration": 338,
    "start_time": "2023-07-30T12:56:14.290Z"
   },
   {
    "duration": 4,
    "start_time": "2023-07-30T12:56:14.630Z"
   },
   {
    "duration": 55,
    "start_time": "2023-07-30T12:56:14.636Z"
   },
   {
    "duration": 172,
    "start_time": "2023-07-30T12:56:14.693Z"
   },
   {
    "duration": 289,
    "start_time": "2023-07-30T12:56:14.868Z"
   },
   {
    "duration": 97,
    "start_time": "2023-07-30T12:56:15.159Z"
   },
   {
    "duration": 21,
    "start_time": "2023-07-30T12:56:15.260Z"
   },
   {
    "duration": 32,
    "start_time": "2023-07-30T12:56:15.283Z"
   },
   {
    "duration": 40,
    "start_time": "2023-07-30T12:56:15.316Z"
   },
   {
    "duration": 48,
    "start_time": "2023-07-30T12:56:15.358Z"
   },
   {
    "duration": 19,
    "start_time": "2023-07-30T12:56:15.408Z"
   },
   {
    "duration": 22,
    "start_time": "2023-07-30T12:56:15.429Z"
   },
   {
    "duration": 23,
    "start_time": "2023-07-30T12:56:15.457Z"
   },
   {
    "duration": 11,
    "start_time": "2023-07-30T12:56:15.482Z"
   },
   {
    "duration": 937,
    "start_time": "2023-07-30T12:56:15.495Z"
   },
   {
    "duration": 889,
    "start_time": "2023-07-30T12:56:16.433Z"
   },
   {
    "duration": 904,
    "start_time": "2023-07-30T12:56:17.324Z"
   },
   {
    "duration": 47,
    "start_time": "2023-07-30T12:57:18.746Z"
   }
  ],
  "kernelspec": {
   "display_name": "Python 3 (ipykernel)",
   "language": "python",
   "name": "python3"
  },
  "language_info": {
   "codemirror_mode": {
    "name": "ipython",
    "version": 3
   },
   "file_extension": ".py",
   "mimetype": "text/x-python",
   "name": "python",
   "nbconvert_exporter": "python",
   "pygments_lexer": "ipython3",
   "version": "3.9.18"
  },
  "toc": {
   "base_numbering": 1,
   "nav_menu": {},
   "number_sections": true,
   "sideBar": true,
   "skip_h1_title": true,
   "title_cell": "Table of Contents",
   "title_sidebar": "Contents",
   "toc_cell": false,
   "toc_position": {},
   "toc_section_display": true,
   "toc_window_display": false
  }
 },
 "nbformat": 4,
 "nbformat_minor": 2
}
