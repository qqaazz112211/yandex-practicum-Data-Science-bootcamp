{
 "cells": [
  {
   "cell_type": "code",
   "execution_count": 1,
   "id": "c77646b8",
   "metadata": {},
   "outputs": [],
   "source": [
    "import pandas as pd\n",
    "import numpy as np\n",
    "import plotly.express as px\n",
    "import seaborn as sns\n",
    "import matplotlib.pyplot as plt\n",
    "from sklearn.linear_model import LinearRegression\n",
    "from sklearn.metrics import r2_score\n",
    "from sklearn.preprocessing import StandardScaler\n",
    "from sklearn.model_selection import train_test_split"
   ]
  },
  {
   "cell_type": "markdown",
   "id": "672f8960",
   "metadata": {},
   "source": [
    "# Описание проекта"
   ]
  },
  {
   "cell_type": "markdown",
   "id": "c0001368",
   "metadata": {},
   "source": [
    "\n",
    "Вам нужно защитить данные клиентов страховой компании «Хоть потоп». Разработайте такой метод преобразования данных, чтобы по ним было сложно восстановить персональную информацию. Обоснуйте корректность его работы.\n",
    "Нужно защитить данные, чтобы при преобразовании качество моделей машинного обучения не ухудшилось. Подбирать наилучшую модель не требуется.  \n",
    "**Порядок действий:**  \n",
    "- Загрузите и изучите данные.\n",
    "- Ответьте на вопрос и обоснуйте решение. \n",
    "- Признаки умножают на обратимую матрицу. Изменится ли качество линейной регрессии? (Её можно обучить заново.)\n",
    "  - a. Изменится. Приведите примеры матриц.\n",
    "  - b. Не изменится. Укажите, как связаны параметры линейной регрессии в исходной задаче и в преобразованной.\n",
    "-  Предложите алгоритм преобразования данных для решения задачи. Обоснуйте, почему качество линейной регрессии не поменяется.\n",
    "- Запрограммируйте этот алгоритм, применив матричные операции. Проверьте, что качество линейной регрессии из sklearn не отличается до и после преобразования. Примените метрику R2.\n"
   ]
  },
  {
   "cell_type": "code",
   "execution_count": 2,
   "id": "3a444325",
   "metadata": {},
   "outputs": [],
   "source": [
    "try:\n",
    "    df = pd.read_csv('/datasets/insurance.csv')\n",
    "except:\n",
    "    df = pd.read_csv('/Users/v.rakhaev/Desktop/Yandex/sprint_13/insurance.csv')"
   ]
  },
  {
   "cell_type": "code",
   "execution_count": 3,
   "id": "85b2a0de",
   "metadata": {},
   "outputs": [
    {
     "data": {
      "text/html": [
       "<div>\n",
       "<style scoped>\n",
       "    .dataframe tbody tr th:only-of-type {\n",
       "        vertical-align: middle;\n",
       "    }\n",
       "\n",
       "    .dataframe tbody tr th {\n",
       "        vertical-align: top;\n",
       "    }\n",
       "\n",
       "    .dataframe thead th {\n",
       "        text-align: right;\n",
       "    }\n",
       "</style>\n",
       "<table border=\"1\" class=\"dataframe\">\n",
       "  <thead>\n",
       "    <tr style=\"text-align: right;\">\n",
       "      <th></th>\n",
       "      <th>Пол</th>\n",
       "      <th>Возраст</th>\n",
       "      <th>Зарплата</th>\n",
       "      <th>Члены семьи</th>\n",
       "      <th>Страховые выплаты</th>\n",
       "    </tr>\n",
       "  </thead>\n",
       "  <tbody>\n",
       "    <tr>\n",
       "      <th>0</th>\n",
       "      <td>1</td>\n",
       "      <td>41.0</td>\n",
       "      <td>49600.0</td>\n",
       "      <td>1</td>\n",
       "      <td>0</td>\n",
       "    </tr>\n",
       "    <tr>\n",
       "      <th>1</th>\n",
       "      <td>0</td>\n",
       "      <td>46.0</td>\n",
       "      <td>38000.0</td>\n",
       "      <td>1</td>\n",
       "      <td>1</td>\n",
       "    </tr>\n",
       "    <tr>\n",
       "      <th>2</th>\n",
       "      <td>0</td>\n",
       "      <td>29.0</td>\n",
       "      <td>21000.0</td>\n",
       "      <td>0</td>\n",
       "      <td>0</td>\n",
       "    </tr>\n",
       "    <tr>\n",
       "      <th>3</th>\n",
       "      <td>0</td>\n",
       "      <td>21.0</td>\n",
       "      <td>41700.0</td>\n",
       "      <td>2</td>\n",
       "      <td>0</td>\n",
       "    </tr>\n",
       "    <tr>\n",
       "      <th>4</th>\n",
       "      <td>1</td>\n",
       "      <td>28.0</td>\n",
       "      <td>26100.0</td>\n",
       "      <td>0</td>\n",
       "      <td>0</td>\n",
       "    </tr>\n",
       "  </tbody>\n",
       "</table>\n",
       "</div>"
      ],
      "text/plain": [
       "   Пол  Возраст  Зарплата  Члены семьи  Страховые выплаты\n",
       "0    1     41.0   49600.0            1                  0\n",
       "1    0     46.0   38000.0            1                  1\n",
       "2    0     29.0   21000.0            0                  0\n",
       "3    0     21.0   41700.0            2                  0\n",
       "4    1     28.0   26100.0            0                  0"
      ]
     },
     "execution_count": 3,
     "metadata": {},
     "output_type": "execute_result"
    }
   ],
   "source": [
    "df.head()"
   ]
  },
  {
   "cell_type": "code",
   "execution_count": 4,
   "id": "ee7112fc",
   "metadata": {},
   "outputs": [
    {
     "data": {
      "text/plain": [
       "(5000, 5)"
      ]
     },
     "execution_count": 4,
     "metadata": {},
     "output_type": "execute_result"
    }
   ],
   "source": [
    "df.shape"
   ]
  },
  {
   "cell_type": "code",
   "execution_count": 5,
   "id": "19cc452d",
   "metadata": {},
   "outputs": [
    {
     "name": "stdout",
     "output_type": "stream",
     "text": [
      "<class 'pandas.core.frame.DataFrame'>\n",
      "RangeIndex: 5000 entries, 0 to 4999\n",
      "Data columns (total 5 columns):\n",
      " #   Column             Non-Null Count  Dtype  \n",
      "---  ------             --------------  -----  \n",
      " 0   Пол                5000 non-null   int64  \n",
      " 1   Возраст            5000 non-null   float64\n",
      " 2   Зарплата           5000 non-null   float64\n",
      " 3   Члены семьи        5000 non-null   int64  \n",
      " 4   Страховые выплаты  5000 non-null   int64  \n",
      "dtypes: float64(2), int64(3)\n",
      "memory usage: 195.4 KB\n"
     ]
    }
   ],
   "source": [
    "df.info()"
   ]
  },
  {
   "cell_type": "code",
   "execution_count": 6,
   "id": "80cdcd00",
   "metadata": {},
   "outputs": [],
   "source": [
    "df['Возраст'] = df['Возраст'].astype(int)"
   ]
  },
  {
   "cell_type": "code",
   "execution_count": 7,
   "id": "8e0885cb",
   "metadata": {},
   "outputs": [
    {
     "data": {
      "text/plain": [
       "Пол                  0\n",
       "Возраст              0\n",
       "Зарплата             0\n",
       "Члены семьи          0\n",
       "Страховые выплаты    0\n",
       "dtype: int64"
      ]
     },
     "execution_count": 7,
     "metadata": {},
     "output_type": "execute_result"
    }
   ],
   "source": [
    "df.isna().sum()"
   ]
  },
  {
   "cell_type": "code",
   "execution_count": 8,
   "id": "c827743d",
   "metadata": {},
   "outputs": [
    {
     "data": {
      "text/plain": [
       "153"
      ]
     },
     "execution_count": 8,
     "metadata": {},
     "output_type": "execute_result"
    }
   ],
   "source": [
    "df.duplicated().sum()"
   ]
  },
  {
   "cell_type": "code",
   "execution_count": 9,
   "id": "5407faa3",
   "metadata": {},
   "outputs": [],
   "source": [
    "df.drop_duplicates(inplace=True)"
   ]
  },
  {
   "cell_type": "code",
   "execution_count": 10,
   "id": "9bfd97ce",
   "metadata": {},
   "outputs": [
    {
     "data": {
      "text/plain": [
       "0"
      ]
     },
     "execution_count": 10,
     "metadata": {},
     "output_type": "execute_result"
    }
   ],
   "source": [
    "df.duplicated().sum()"
   ]
  },
  {
   "cell_type": "code",
   "execution_count": 11,
   "id": "b149c47f",
   "metadata": {
    "scrolled": false
   },
   "outputs": [
    {
     "data": {
      "image/png": "[encoded data removed]",
      "text/plain": [
       "<Figure size 1080x360 with 1 Axes>"
      ]
     },
     "metadata": {
      "needs_background": "light"
     },
     "output_type": "display_data"
    }
   ],
   "source": [
    "plt.figure(figsize = (15,5))\n",
    "sns.histplot(df['Зарплата'])\n",
    "plt.title('Распределение значений признака Зарплата')\n",
    "plt.xlabel('Значение признака')\n",
    "plt.ylabel('Частота')\n",
    "plt.show()\n"
   ]
  },
  {
   "cell_type": "markdown",
   "id": "12a6757b",
   "metadata": {},
   "source": [
    "## Выводы по 1 блоку"
   ]
  },
  {
   "cell_type": "markdown",
   "id": "dd8372d3",
   "metadata": {},
   "source": [
    "1. Выгружены данные\n",
    "2. Признак **возраст** переведен из типа флот в тип инт\n",
    "3. Пропуски не выявлены\n",
    "4. Явные дубликаты выявлены и устранены\n",
    "5. Построена гистограмма распредения признака **зарплата**, которая похожа на нормальное распределение\n",
    "6. Приступаем к построение модели"
   ]
  },
  {
   "cell_type": "markdown",
   "id": "25aa30d3",
   "metadata": {},
   "source": [
    "# Теоретический блок"
   ]
  },
  {
   "cell_type": "markdown",
   "id": "1abf4ca8",
   "metadata": {},
   "source": [
    "**Шифрование**  \n",
    "Для проведения алгоритма шифрования необходимо:\n",
    "Подобрать случайную обратимую матрицу, которая соотвествовала условиям для умножения на исходыне данные (ширина исходных данных, и размеры случайной (квадратной) матрицы должны совпадать.  \n",
    "**Обратная матрица**  \n",
    "Определение: Матрица $B$ называется обратной к матрице $А$ , если $A * B = B * A = E$ (единичная матрица). Обратная матрица обозначается через $A^{-1}$, следовательно $A * A^{-1} = A^{-1} * A = E$  \n",
    "Исходные данные умножаются на случайную обратимую матрицу, после чего получаются зашифрованные данные.  \n",
    "**Алгоритм восстановления первоначальных данных после шифрования** происходит путем умножения обратной матрицы от рандомной на зашифрованнаю  \n",
    "Обозначения для работы с уровнениями линейной регрессии:\n",
    "\n",
    "- $X$ — матрица признаков (нулевой столбец состоит из единиц)\n",
    "\n",
    "- $y$ — вектор целевого признака\n",
    "\n",
    "- $Q$ — матрица, на которую умножаются признаки (рандомная матрица)\n",
    "\n",
    "- $w$ — вектор весов линейной регрессии (нулевой элемент равен сдвигу)\n",
    "\n",
    "- $E$ - единичная матрица \n",
    "\n",
    "Формула предскаязания:  \n",
    "$a = Xw$  \n",
    "Формула обучения:  \n",
    "$w = (X^T X)^{-1} X^T y$  \n",
    "\n",
    "Введем новое значение - $R$, $R = XQ$, где $Q$ - рандомная обратимая матрица, которая соответствуют условиям умножения на матрицу $X$ \n",
    "Проведем расчеты:\n",
    "\n",
    "$a_1 = R w_1$   \n",
    "$w_1 = (R^T R)^{-1} R^T y$  \n",
    "\n",
    "Подставим значение $w_1$ в правую часть уравнения:  \n",
    "$a_1 = R(R^T R)^{-1} R^T y$\n",
    "\n",
    "Поставим вместо  $R$ $XQ$:  \n",
    "$a_1 = XQ ((XQ)^T (XQ))^{-1} (XQ)^T y$  \n",
    "\n",
    "Прведем группировку и воспользуемся ствойством обратной матрицы:  \n",
    "$(AB)^{-1} = B^{-1} A^{-1}$\n",
    "\n",
    "$a_1 = XQ(Q^T X^T XQ)^{-1} Q^T X^T y$ \n",
    "\n",
    "$a_1 = XQ(Q^T (X^T X) Q)^{-1} Q^T X^T y$\n",
    "\n",
    "$a_1 = XQQ^{-1} (X^T X)^{-1} (Q^T)^{-1} Q^T X^T y$\n",
    "\n",
    "$QQ^{-1} = E$\n",
    "\n",
    "Заменим выражения $QQ^{-1}$ и $(Q^T)^{-1} Q^T$ на единичную матрицу (по правилу $AA^{-1} = E$)  \n",
    "\n",
    "$a_1 = XE(X^T X)^{-1} EX^T y$  \n",
    "\n",
    "$a_1 = X(X^T X)^{-1}X^T y$\n",
    "\n",
    "Выражение $(X^T X)^{-1}X^T y$ можно заменить на $w$, следовательно:  \n",
    "$a_1 = Xw$\n",
    "\n",
    "\n",
    "\n",
    "Как видно из последней формулы, значения предсказаний не меняются, поэтому:  \n",
    "**Признаки умножают на обратимую матрицу. Изменится ли качество линейной регрессии?**  \n",
    "**Ответ - не изменися**  \n",
    "Подтверждение расчетами будет представлено ниже\n",
    "\n",
    "\n"
   ]
  },
  {
   "cell_type": "markdown",
   "id": "6daec5cc",
   "metadata": {},
   "source": [
    "## Построение моделей"
   ]
  },
  {
   "cell_type": "markdown",
   "id": "17f2137c",
   "metadata": {},
   "source": [
    "**Ручное умножение матриц для сравнения с моделью LinearRegression из sklearn**"
   ]
  },
  {
   "cell_type": "code",
   "execution_count": 12,
   "id": "92ba3de8",
   "metadata": {},
   "outputs": [],
   "source": [
    "features = df.drop('Страховые выплаты',axis = 1)"
   ]
  },
  {
   "cell_type": "code",
   "execution_count": 13,
   "id": "37c81a21",
   "metadata": {},
   "outputs": [],
   "source": [
    "target = df['Страховые выплаты']"
   ]
  },
  {
   "cell_type": "code",
   "execution_count": 14,
   "id": "4c3d4c67",
   "metadata": {},
   "outputs": [
    {
     "data": {
      "text/plain": [
       "array([ 9.46018141e-03,  3.61640081e-02, -1.38991363e-07, -1.42517371e-02])"
      ]
     },
     "execution_count": 14,
     "metadata": {},
     "output_type": "execute_result"
    }
   ],
   "source": [
    "X = np.concatenate((np.ones((features.shape[0], 1)), features), axis=1)\n",
    "y = target\n",
    "w = np.linalg.inv(X.T.dot(X)).dot(X.T).dot(y)\n",
    "w[1:]"
   ]
  },
  {
   "cell_type": "code",
   "execution_count": 15,
   "id": "1d5e619d",
   "metadata": {},
   "outputs": [
    {
     "data": {
      "text/plain": [
       "array([ 9.46018141e-03,  3.61640081e-02, -1.38991363e-07, -1.42517371e-02])"
      ]
     },
     "execution_count": 15,
     "metadata": {},
     "output_type": "execute_result"
    }
   ],
   "source": [
    "model = LinearRegression()\n",
    "model.fit(features,target)\n",
    "model.coef_"
   ]
  },
  {
   "cell_type": "markdown",
   "id": "2e462895",
   "metadata": {},
   "source": [
    "**Коэффициенты матрицы после умножения и после применения модели LinearRegression из sklearn совпадают, следовательно расчеты проведены верно**"
   ]
  },
  {
   "cell_type": "markdown",
   "id": "bcea12ec",
   "metadata": {},
   "source": [
    "разобьем датасет на обучающую и тестовую выборки для построения и определения кэффициента R2 на исходынх данных"
   ]
  },
  {
   "cell_type": "code",
   "execution_count": 16,
   "id": "b7a3d13b",
   "metadata": {},
   "outputs": [],
   "source": [
    "features_train, features_test, target_train, target_test = train_test_split(\n",
    "    features, target, test_size=0.25, random_state=54321)"
   ]
  },
  {
   "cell_type": "code",
   "execution_count": 17,
   "id": "87bacd65",
   "metadata": {},
   "outputs": [
    {
     "name": "stdout",
     "output_type": "stream",
     "text": [
      "R2 = 0.409\n"
     ]
    }
   ],
   "source": [
    "model = LinearRegression()\n",
    "model.fit(features_train,target_train)\n",
    "prediction = model.predict(features_test)\n",
    "R2 = r2_score(target_test,prediction)\n",
    "print('R2 =', round(R2,3))"
   ]
  },
  {
   "cell_type": "markdown",
   "id": "08fce9f8",
   "metadata": {},
   "source": [
    "**Признаки умножают на обратимую матрицу. Изменится ли качество линейной регрессии? (Её можно обучить заново.)**"
   ]
  },
  {
   "cell_type": "markdown",
   "id": "cac609ff",
   "metadata": {},
   "source": [
    "Для проверки теории создадим обратную матрицу и проведем соответствующие расчеты"
   ]
  },
  {
   "cell_type": "code",
   "execution_count": 18,
   "id": "d66bf487",
   "metadata": {},
   "outputs": [],
   "source": [
    "np.random.seed(12345)\n",
    "random_matrix = np.random.randint(1,10,(features.shape[1],features.shape[1]))\n",
    "features_train_random_matrix = np.dot(features_train,random_matrix)\n",
    "features_test_random_matrix = np.dot(features_test,random_matrix)"
   ]
  },
  {
   "cell_type": "code",
   "execution_count": 19,
   "id": "e2ee93f1",
   "metadata": {},
   "outputs": [
    {
     "name": "stdout",
     "output_type": "stream",
     "text": [
      "R2 = 0.409\n"
     ]
    }
   ],
   "source": [
    "model = LinearRegression()\n",
    "model.fit(features_train_random_matrix,target_train)\n",
    "prediction = model.predict(features_test_random_matrix)\n",
    "R2 = r2_score(target_test,prediction)\n",
    "print('R2 =', round(R2,3))"
   ]
  },
  {
   "cell_type": "code",
   "execution_count": 20,
   "id": "f8c0662c",
   "metadata": {},
   "outputs": [
    {
     "data": {
      "text/plain": [
       "array([[ 1., -0.,  0., -0.],\n",
       "       [-0.,  1., -0., -0.],\n",
       "       [-0.,  0.,  1., -0.],\n",
       "       [-0., -0.,  0.,  1.]])"
      ]
     },
     "execution_count": 20,
     "metadata": {},
     "output_type": "execute_result"
    }
   ],
   "source": [
    "np.round(np.dot(random_matrix,np.linalg.inv(random_matrix)).astype(float)) #проверил, что матрица - обратимая"
   ]
  },
  {
   "cell_type": "code",
   "execution_count": 21,
   "id": "8fbdb647",
   "metadata": {},
   "outputs": [],
   "source": [
    "back_to_original = np.dot(features_train_random_matrix, np.linalg.inv(random_matrix))"
   ]
  },
  {
   "cell_type": "code",
   "execution_count": 22,
   "id": "c5da108e",
   "metadata": {
    "scrolled": true
   },
   "outputs": [
    {
     "data": {
      "text/html": [
       "<div>\n",
       "<style scoped>\n",
       "    .dataframe tbody tr th:only-of-type {\n",
       "        vertical-align: middle;\n",
       "    }\n",
       "\n",
       "    .dataframe tbody tr th {\n",
       "        vertical-align: top;\n",
       "    }\n",
       "\n",
       "    .dataframe thead th {\n",
       "        text-align: right;\n",
       "    }\n",
       "</style>\n",
       "<table border=\"1\" class=\"dataframe\">\n",
       "  <thead>\n",
       "    <tr style=\"text-align: right;\">\n",
       "      <th></th>\n",
       "      <th>Пол</th>\n",
       "      <th>Возраст</th>\n",
       "      <th>Зарплата</th>\n",
       "      <th>Члены семьи</th>\n",
       "    </tr>\n",
       "  </thead>\n",
       "  <tbody>\n",
       "    <tr>\n",
       "      <th>2205</th>\n",
       "      <td>True</td>\n",
       "      <td>True</td>\n",
       "      <td>True</td>\n",
       "      <td>True</td>\n",
       "    </tr>\n",
       "    <tr>\n",
       "      <th>3833</th>\n",
       "      <td>True</td>\n",
       "      <td>True</td>\n",
       "      <td>True</td>\n",
       "      <td>True</td>\n",
       "    </tr>\n",
       "    <tr>\n",
       "      <th>1273</th>\n",
       "      <td>True</td>\n",
       "      <td>True</td>\n",
       "      <td>True</td>\n",
       "      <td>True</td>\n",
       "    </tr>\n",
       "    <tr>\n",
       "      <th>535</th>\n",
       "      <td>True</td>\n",
       "      <td>True</td>\n",
       "      <td>True</td>\n",
       "      <td>True</td>\n",
       "    </tr>\n",
       "    <tr>\n",
       "      <th>749</th>\n",
       "      <td>True</td>\n",
       "      <td>True</td>\n",
       "      <td>True</td>\n",
       "      <td>True</td>\n",
       "    </tr>\n",
       "    <tr>\n",
       "      <th>...</th>\n",
       "      <td>...</td>\n",
       "      <td>...</td>\n",
       "      <td>...</td>\n",
       "      <td>...</td>\n",
       "    </tr>\n",
       "    <tr>\n",
       "      <th>1185</th>\n",
       "      <td>True</td>\n",
       "      <td>True</td>\n",
       "      <td>True</td>\n",
       "      <td>True</td>\n",
       "    </tr>\n",
       "    <tr>\n",
       "      <th>2050</th>\n",
       "      <td>True</td>\n",
       "      <td>True</td>\n",
       "      <td>True</td>\n",
       "      <td>True</td>\n",
       "    </tr>\n",
       "    <tr>\n",
       "      <th>4325</th>\n",
       "      <td>True</td>\n",
       "      <td>True</td>\n",
       "      <td>True</td>\n",
       "      <td>True</td>\n",
       "    </tr>\n",
       "    <tr>\n",
       "      <th>4895</th>\n",
       "      <td>True</td>\n",
       "      <td>True</td>\n",
       "      <td>True</td>\n",
       "      <td>True</td>\n",
       "    </tr>\n",
       "    <tr>\n",
       "      <th>2699</th>\n",
       "      <td>True</td>\n",
       "      <td>True</td>\n",
       "      <td>True</td>\n",
       "      <td>True</td>\n",
       "    </tr>\n",
       "  </tbody>\n",
       "</table>\n",
       "<p>3635 rows × 4 columns</p>\n",
       "</div>"
      ],
      "text/plain": [
       "       Пол  Возраст  Зарплата  Члены семьи\n",
       "2205  True     True      True         True\n",
       "3833  True     True      True         True\n",
       "1273  True     True      True         True\n",
       "535   True     True      True         True\n",
       "749   True     True      True         True\n",
       "...    ...      ...       ...          ...\n",
       "1185  True     True      True         True\n",
       "2050  True     True      True         True\n",
       "4325  True     True      True         True\n",
       "4895  True     True      True         True\n",
       "2699  True     True      True         True\n",
       "\n",
       "[3635 rows x 4 columns]"
      ]
     },
     "execution_count": 22,
     "metadata": {},
     "output_type": "execute_result"
    }
   ],
   "source": [
    "(np.round(back_to_original.astype(float))).astype(int) == features_train #Данные сходятся"
   ]
  },
  {
   "cell_type": "code",
   "execution_count": 23,
   "id": "8c149c52",
   "metadata": {},
   "outputs": [],
   "source": [
    "back_to_original_2 = np.dot(features_test_random_matrix, np.linalg.inv(random_matrix))"
   ]
  },
  {
   "cell_type": "code",
   "execution_count": 24,
   "id": "9e89f743",
   "metadata": {},
   "outputs": [
    {
     "data": {
      "text/html": [
       "<div>\n",
       "<style scoped>\n",
       "    .dataframe tbody tr th:only-of-type {\n",
       "        vertical-align: middle;\n",
       "    }\n",
       "\n",
       "    .dataframe tbody tr th {\n",
       "        vertical-align: top;\n",
       "    }\n",
       "\n",
       "    .dataframe thead th {\n",
       "        text-align: right;\n",
       "    }\n",
       "</style>\n",
       "<table border=\"1\" class=\"dataframe\">\n",
       "  <thead>\n",
       "    <tr style=\"text-align: right;\">\n",
       "      <th></th>\n",
       "      <th>Пол</th>\n",
       "      <th>Возраст</th>\n",
       "      <th>Зарплата</th>\n",
       "      <th>Члены семьи</th>\n",
       "    </tr>\n",
       "  </thead>\n",
       "  <tbody>\n",
       "    <tr>\n",
       "      <th>1</th>\n",
       "      <td>True</td>\n",
       "      <td>True</td>\n",
       "      <td>True</td>\n",
       "      <td>True</td>\n",
       "    </tr>\n",
       "    <tr>\n",
       "      <th>1951</th>\n",
       "      <td>True</td>\n",
       "      <td>True</td>\n",
       "      <td>True</td>\n",
       "      <td>True</td>\n",
       "    </tr>\n",
       "    <tr>\n",
       "      <th>2575</th>\n",
       "      <td>True</td>\n",
       "      <td>True</td>\n",
       "      <td>True</td>\n",
       "      <td>True</td>\n",
       "    </tr>\n",
       "    <tr>\n",
       "      <th>3162</th>\n",
       "      <td>True</td>\n",
       "      <td>True</td>\n",
       "      <td>True</td>\n",
       "      <td>True</td>\n",
       "    </tr>\n",
       "    <tr>\n",
       "      <th>813</th>\n",
       "      <td>True</td>\n",
       "      <td>True</td>\n",
       "      <td>True</td>\n",
       "      <td>True</td>\n",
       "    </tr>\n",
       "    <tr>\n",
       "      <th>...</th>\n",
       "      <td>...</td>\n",
       "      <td>...</td>\n",
       "      <td>...</td>\n",
       "      <td>...</td>\n",
       "    </tr>\n",
       "    <tr>\n",
       "      <th>2504</th>\n",
       "      <td>True</td>\n",
       "      <td>True</td>\n",
       "      <td>True</td>\n",
       "      <td>True</td>\n",
       "    </tr>\n",
       "    <tr>\n",
       "      <th>2002</th>\n",
       "      <td>True</td>\n",
       "      <td>True</td>\n",
       "      <td>True</td>\n",
       "      <td>True</td>\n",
       "    </tr>\n",
       "    <tr>\n",
       "      <th>4797</th>\n",
       "      <td>True</td>\n",
       "      <td>True</td>\n",
       "      <td>True</td>\n",
       "      <td>True</td>\n",
       "    </tr>\n",
       "    <tr>\n",
       "      <th>3394</th>\n",
       "      <td>True</td>\n",
       "      <td>True</td>\n",
       "      <td>True</td>\n",
       "      <td>True</td>\n",
       "    </tr>\n",
       "    <tr>\n",
       "      <th>2021</th>\n",
       "      <td>True</td>\n",
       "      <td>True</td>\n",
       "      <td>True</td>\n",
       "      <td>True</td>\n",
       "    </tr>\n",
       "  </tbody>\n",
       "</table>\n",
       "<p>1212 rows × 4 columns</p>\n",
       "</div>"
      ],
      "text/plain": [
       "       Пол  Возраст  Зарплата  Члены семьи\n",
       "1     True     True      True         True\n",
       "1951  True     True      True         True\n",
       "2575  True     True      True         True\n",
       "3162  True     True      True         True\n",
       "813   True     True      True         True\n",
       "...    ...      ...       ...          ...\n",
       "2504  True     True      True         True\n",
       "2002  True     True      True         True\n",
       "4797  True     True      True         True\n",
       "3394  True     True      True         True\n",
       "2021  True     True      True         True\n",
       "\n",
       "[1212 rows x 4 columns]"
      ]
     },
     "execution_count": 24,
     "metadata": {},
     "output_type": "execute_result"
    }
   ],
   "source": [
    "(np.round(back_to_original_2.astype(float))).astype(int) == features_test #Данные сходятся"
   ]
  },
  {
   "cell_type": "markdown",
   "id": "ad365767",
   "metadata": {},
   "source": [
    "**Значения R2 на исходных данных и после умножения исходных данных на обратную матрицу полностью совпадают. Качество линейной регрессии не изменилось.**"
   ]
  },
  {
   "cell_type": "markdown",
   "id": "be343fbb",
   "metadata": {},
   "source": [
    "**Проведем обучение и прогонку модели с применением стандартизации**"
   ]
  },
  {
   "cell_type": "code",
   "execution_count": 25,
   "id": "a98e5882",
   "metadata": {},
   "outputs": [],
   "source": [
    "scaler = StandardScaler()\n",
    "scaler.fit(features_train)\n",
    "features_train_scaled = pd.DataFrame(scaler.transform(features_train), columns = features_train.columns)\n",
    "features_test_scaled = pd.DataFrame(scaler.transform(features_test), columns = features_test.columns)\n",
    "features_train_random_matrix_scaled = pd.DataFrame(scaler.transform(features_train_random_matrix),columns = features_train.columns)\n",
    "features_test_random_matrix_scaled = pd.DataFrame(scaler.transform(features_test_random_matrix),columns = features_train.columns)"
   ]
  },
  {
   "cell_type": "code",
   "execution_count": 26,
   "id": "6c22dc44",
   "metadata": {},
   "outputs": [
    {
     "name": "stdout",
     "output_type": "stream",
     "text": [
      "R2 = 0.409\n"
     ]
    }
   ],
   "source": [
    "model = LinearRegression()\n",
    "model.fit(features_train_scaled,target_train)\n",
    "prediction = model.predict(features_test_scaled)\n",
    "R2 = r2_score(target_test,prediction)\n",
    "print('R2 =', round(R2,3))"
   ]
  },
  {
   "cell_type": "markdown",
   "id": "d16775aa",
   "metadata": {},
   "source": [
    "Результат полностью совпадает с предыдущими моделями"
   ]
  },
  {
   "cell_type": "markdown",
   "id": "00e12dc8",
   "metadata": {},
   "source": [
    "Стандартизируем данные после умножения на обратимую матрицу и проведем расчеты"
   ]
  },
  {
   "cell_type": "code",
   "execution_count": 27,
   "id": "a3655676",
   "metadata": {},
   "outputs": [
    {
     "name": "stdout",
     "output_type": "stream",
     "text": [
      "R2 = 0.409\n"
     ]
    }
   ],
   "source": [
    "model = LinearRegression()\n",
    "model.fit(features_train_random_matrix_scaled,target_train)\n",
    "prediction = model.predict(features_test_random_matrix_scaled)\n",
    "R2 = r2_score(target_test,prediction)\n",
    "print('R2 =', round(R2,3))"
   ]
  },
  {
   "cell_type": "markdown",
   "id": "290c508a",
   "metadata": {},
   "source": [
    "Аналогичная ситуация и в этом случае, R2 = 0.409"
   ]
  },
  {
   "cell_type": "markdown",
   "id": "82fb2aa4",
   "metadata": {},
   "source": [
    "# Общие выводы"
   ]
  },
  {
   "cell_type": "markdown",
   "id": "b4e75b59",
   "metadata": {},
   "source": [
    "- Проведен анализ исходных данных, проведена подготовка для дальшей работы\n",
    "- выполнено умножение матриц для определения коэффициентов w\n",
    "- Построены следующие модели:\n",
    "  - LinearRegression на исходных данных с рабивкой на выборки для теста и обучения\n",
    "  - LinearRegression на исходных данных после умнжения на обратную матрицу \n",
    "  - LinearRegression на стандартизированных данных\n",
    "  - LinearRegression на на исходных данных после умнжения на обратную матрицу, а так же с последующим применением стандартизации\n",
    "- Все модели показали аналогичное значение R2 = 0.409"
   ]
  }
 ],
 "metadata": {
  "ExecuteTimeLog": [
   {
    "duration": 1734,
    "start_time": "2023-08-17T20:47:52.609Z"
   },
   {
    "duration": 83,
    "start_time": "2023-08-17T20:47:54.345Z"
   },
   {
    "duration": 12,
    "start_time": "2023-08-17T20:47:54.430Z"
   },
   {
    "duration": 24,
    "start_time": "2023-08-17T20:47:54.443Z"
   },
   {
    "duration": 28,
    "start_time": "2023-08-17T20:47:54.468Z"
   },
   {
    "duration": 21,
    "start_time": "2023-08-17T20:47:54.497Z"
   },
   {
    "duration": 19,
    "start_time": "2023-08-17T20:47:54.520Z"
   },
   {
    "duration": 22,
    "start_time": "2023-08-17T20:47:54.541Z"
   },
   {
    "duration": 26,
    "start_time": "2023-08-17T20:47:54.564Z"
   },
   {
    "duration": 22,
    "start_time": "2023-08-17T20:47:54.592Z"
   },
   {
    "duration": 240,
    "start_time": "2023-08-17T20:47:54.616Z"
   },
   {
    "duration": 4,
    "start_time": "2023-08-17T20:47:54.858Z"
   },
   {
    "duration": 67,
    "start_time": "2023-08-17T20:47:54.864Z"
   },
   {
    "duration": 25,
    "start_time": "2023-08-17T20:47:54.934Z"
   },
   {
    "duration": 142,
    "start_time": "2023-08-17T20:47:54.961Z"
   },
   {
    "duration": 182,
    "start_time": "2023-08-17T20:47:55.105Z"
   },
   {
    "duration": 9,
    "start_time": "2023-08-17T20:47:55.289Z"
   },
   {
    "duration": 37,
    "start_time": "2023-08-17T20:47:55.299Z"
   },
   {
    "duration": 54,
    "start_time": "2023-08-17T20:47:55.337Z"
   },
   {
    "duration": 94,
    "start_time": "2023-08-17T20:47:55.393Z"
   },
   {
    "duration": 8,
    "start_time": "2023-08-17T20:47:55.489Z"
   },
   {
    "duration": 25,
    "start_time": "2023-08-17T20:47:55.499Z"
   },
   {
    "duration": 114,
    "start_time": "2023-08-18T14:35:03.923Z"
   },
   {
    "duration": 91,
    "start_time": "2023-08-18T14:39:59.929Z"
   },
   {
    "duration": 1886,
    "start_time": "2023-08-18T14:40:08.532Z"
   },
   {
    "duration": 137,
    "start_time": "2023-08-18T14:40:10.422Z"
   },
   {
    "duration": 17,
    "start_time": "2023-08-18T14:40:10.562Z"
   },
   {
    "duration": 5,
    "start_time": "2023-08-18T14:40:10.582Z"
   },
   {
    "duration": 33,
    "start_time": "2023-08-18T14:40:10.590Z"
   },
   {
    "duration": 4,
    "start_time": "2023-08-18T14:40:10.625Z"
   },
   {
    "duration": 18,
    "start_time": "2023-08-18T14:40:10.631Z"
   },
   {
    "duration": 7,
    "start_time": "2023-08-18T14:40:10.651Z"
   },
   {
    "duration": 29,
    "start_time": "2023-08-18T14:40:10.659Z"
   },
   {
    "duration": 11,
    "start_time": "2023-08-18T14:40:10.691Z"
   },
   {
    "duration": 269,
    "start_time": "2023-08-18T14:40:10.704Z"
   },
   {
    "duration": 5,
    "start_time": "2023-08-18T14:40:10.975Z"
   },
   {
    "duration": 28,
    "start_time": "2023-08-18T14:40:10.982Z"
   },
   {
    "duration": 29,
    "start_time": "2023-08-18T14:40:11.011Z"
   },
   {
    "duration": 152,
    "start_time": "2023-08-18T14:40:11.042Z"
   },
   {
    "duration": 89,
    "start_time": "2023-08-18T14:40:11.196Z"
   },
   {
    "duration": 98,
    "start_time": "2023-08-18T14:40:11.287Z"
   },
   {
    "duration": 260,
    "start_time": "2023-08-18T14:40:11.387Z"
   },
   {
    "duration": 130,
    "start_time": "2023-08-18T14:40:11.649Z"
   },
   {
    "duration": 23,
    "start_time": "2023-08-18T14:40:11.781Z"
   },
   {
    "duration": 6,
    "start_time": "2023-08-18T14:40:53.115Z"
   },
   {
    "duration": 6,
    "start_time": "2023-08-18T14:43:50.103Z"
   },
   {
    "duration": 9,
    "start_time": "2023-08-18T14:44:10.218Z"
   },
   {
    "duration": 9,
    "start_time": "2023-08-18T14:44:21.651Z"
   },
   {
    "duration": 6,
    "start_time": "2023-08-18T14:44:53.486Z"
   },
   {
    "duration": 6,
    "start_time": "2023-08-18T15:07:02.587Z"
   },
   {
    "duration": 6,
    "start_time": "2023-08-18T15:07:56.299Z"
   },
   {
    "duration": 16,
    "start_time": "2023-08-18T15:08:24.043Z"
   },
   {
    "duration": 84,
    "start_time": "2023-08-18T15:09:40.854Z"
   },
   {
    "duration": 15,
    "start_time": "2023-08-18T15:09:47.939Z"
   },
   {
    "duration": 10,
    "start_time": "2023-08-18T15:10:58.319Z"
   },
   {
    "duration": 9,
    "start_time": "2023-08-18T15:11:15.114Z"
   },
   {
    "duration": 9,
    "start_time": "2023-08-18T15:11:26.289Z"
   },
   {
    "duration": 9,
    "start_time": "2023-08-18T15:11:36.619Z"
   },
   {
    "duration": 1831,
    "start_time": "2023-08-18T15:11:51.109Z"
   },
   {
    "duration": 6,
    "start_time": "2023-08-18T15:12:01.944Z"
   },
   {
    "duration": 1939,
    "start_time": "2023-08-18T15:12:16.462Z"
   },
   {
    "duration": 0,
    "start_time": "2023-08-18T15:12:23.357Z"
   },
   {
    "duration": 5,
    "start_time": "2023-08-18T15:12:38.418Z"
   },
   {
    "duration": 14,
    "start_time": "2023-08-18T15:13:28.603Z"
   },
   {
    "duration": 4,
    "start_time": "2023-08-18T15:14:39.119Z"
   },
   {
    "duration": 6,
    "start_time": "2023-08-18T15:14:47.190Z"
   },
   {
    "duration": 14,
    "start_time": "2023-08-18T15:15:07.091Z"
   },
   {
    "duration": 7,
    "start_time": "2023-08-18T15:15:22.963Z"
   },
   {
    "duration": 6,
    "start_time": "2023-08-18T15:15:56.608Z"
   },
   {
    "duration": 4,
    "start_time": "2023-08-18T15:16:11.847Z"
   },
   {
    "duration": 4,
    "start_time": "2023-08-18T15:16:18.022Z"
   },
   {
    "duration": 5,
    "start_time": "2023-08-18T15:16:38.399Z"
   },
   {
    "duration": 3,
    "start_time": "2023-08-18T15:16:39.826Z"
   },
   {
    "duration": 4,
    "start_time": "2023-08-18T15:16:40.156Z"
   },
   {
    "duration": 11,
    "start_time": "2023-08-18T15:17:06.393Z"
   },
   {
    "duration": 4,
    "start_time": "2023-08-18T15:17:24.809Z"
   },
   {
    "duration": 11,
    "start_time": "2023-08-18T15:17:33.256Z"
   },
   {
    "duration": 3,
    "start_time": "2023-08-18T15:17:51.388Z"
   },
   {
    "duration": 5,
    "start_time": "2023-08-18T15:17:52.702Z"
   },
   {
    "duration": 12,
    "start_time": "2023-08-18T15:18:11.340Z"
   },
   {
    "duration": 5,
    "start_time": "2023-08-18T15:18:31.838Z"
   },
   {
    "duration": 4,
    "start_time": "2023-08-18T15:19:03.389Z"
   },
   {
    "duration": 6,
    "start_time": "2023-08-18T15:19:03.711Z"
   },
   {
    "duration": 4,
    "start_time": "2023-08-18T15:19:04.298Z"
   },
   {
    "duration": 5,
    "start_time": "2023-08-18T15:19:17.242Z"
   },
   {
    "duration": 4,
    "start_time": "2023-08-18T15:19:25.590Z"
   },
   {
    "duration": 10,
    "start_time": "2023-08-18T15:19:38.040Z"
   },
   {
    "duration": 123,
    "start_time": "2023-08-18T15:21:34.251Z"
   },
   {
    "duration": 4,
    "start_time": "2023-08-18T15:27:13.804Z"
   },
   {
    "duration": 111,
    "start_time": "2023-08-18T15:27:34.391Z"
   },
   {
    "duration": 119,
    "start_time": "2023-08-18T15:27:42.906Z"
   },
   {
    "duration": 7,
    "start_time": "2023-08-18T15:27:47.303Z"
   },
   {
    "duration": 5,
    "start_time": "2023-08-18T15:28:01.290Z"
   },
   {
    "duration": 9,
    "start_time": "2023-08-18T15:28:26.213Z"
   },
   {
    "duration": 6,
    "start_time": "2023-08-18T15:28:30.204Z"
   },
   {
    "duration": 5,
    "start_time": "2023-08-18T15:28:46.737Z"
   },
   {
    "duration": 7,
    "start_time": "2023-08-18T15:30:01.188Z"
   },
   {
    "duration": 6,
    "start_time": "2023-08-18T15:31:04.911Z"
   },
   {
    "duration": 5,
    "start_time": "2023-08-18T15:31:23.709Z"
   },
   {
    "duration": 6,
    "start_time": "2023-08-18T15:31:56.287Z"
   },
   {
    "duration": 13,
    "start_time": "2023-08-18T15:32:09.488Z"
   },
   {
    "duration": 23,
    "start_time": "2023-08-18T15:32:16.977Z"
   },
   {
    "duration": 11,
    "start_time": "2023-08-18T15:32:25.796Z"
   },
   {
    "duration": 3,
    "start_time": "2023-08-18T15:34:10.705Z"
   },
   {
    "duration": 12,
    "start_time": "2023-08-18T15:34:16.772Z"
   },
   {
    "duration": 20,
    "start_time": "2023-08-18T15:34:32.369Z"
   },
   {
    "duration": 5,
    "start_time": "2023-08-18T15:47:10.687Z"
   },
   {
    "duration": 6,
    "start_time": "2023-08-18T15:47:11.034Z"
   },
   {
    "duration": 5,
    "start_time": "2023-08-18T15:47:12.303Z"
   },
   {
    "duration": 3,
    "start_time": "2023-08-18T15:47:12.740Z"
   },
   {
    "duration": 12,
    "start_time": "2023-08-18T15:47:13.203Z"
   },
   {
    "duration": 123,
    "start_time": "2023-08-18T15:54:32.799Z"
   },
   {
    "duration": 4,
    "start_time": "2023-08-18T16:08:50.650Z"
   },
   {
    "duration": 4,
    "start_time": "2023-08-18T16:08:57.416Z"
   },
   {
    "duration": 12,
    "start_time": "2023-08-18T16:09:20.966Z"
   },
   {
    "duration": 125,
    "start_time": "2023-08-18T16:24:04.100Z"
   },
   {
    "duration": 5,
    "start_time": "2023-08-18T16:43:07.973Z"
   },
   {
    "duration": 7,
    "start_time": "2023-08-18T16:43:08.341Z"
   },
   {
    "duration": 5,
    "start_time": "2023-08-18T16:43:08.866Z"
   },
   {
    "duration": 4,
    "start_time": "2023-08-18T16:43:09.547Z"
   },
   {
    "duration": 12,
    "start_time": "2023-08-18T16:43:10.054Z"
   },
   {
    "duration": 4,
    "start_time": "2023-08-18T16:43:18.024Z"
   },
   {
    "duration": 12,
    "start_time": "2023-08-18T16:43:18.398Z"
   },
   {
    "duration": 3,
    "start_time": "2023-08-18T16:45:30.541Z"
   },
   {
    "duration": 44,
    "start_time": "2023-08-18T16:45:30.574Z"
   },
   {
    "duration": 23,
    "start_time": "2023-08-18T16:45:30.620Z"
   },
   {
    "duration": 25,
    "start_time": "2023-08-18T16:45:30.645Z"
   },
   {
    "duration": 73,
    "start_time": "2023-08-18T16:45:30.672Z"
   },
   {
    "duration": 34,
    "start_time": "2023-08-18T16:45:30.748Z"
   },
   {
    "duration": 26,
    "start_time": "2023-08-18T16:45:30.784Z"
   },
   {
    "duration": 30,
    "start_time": "2023-08-18T16:45:30.811Z"
   },
   {
    "duration": 32,
    "start_time": "2023-08-18T16:45:30.843Z"
   },
   {
    "duration": 53,
    "start_time": "2023-08-18T16:45:30.877Z"
   },
   {
    "duration": 334,
    "start_time": "2023-08-18T16:45:30.932Z"
   },
   {
    "duration": 3,
    "start_time": "2023-08-18T16:45:31.274Z"
   },
   {
    "duration": 82,
    "start_time": "2023-08-18T16:45:31.279Z"
   },
   {
    "duration": 67,
    "start_time": "2023-08-18T16:45:31.363Z"
   },
   {
    "duration": 146,
    "start_time": "2023-08-18T16:45:31.434Z"
   },
   {
    "duration": 66,
    "start_time": "2023-08-18T16:45:31.582Z"
   },
   {
    "duration": 41,
    "start_time": "2023-08-18T16:45:31.650Z"
   },
   {
    "duration": 33,
    "start_time": "2023-08-18T16:45:31.693Z"
   },
   {
    "duration": 52,
    "start_time": "2023-08-18T16:45:31.728Z"
   },
   {
    "duration": 23,
    "start_time": "2023-08-18T16:45:31.782Z"
   },
   {
    "duration": 70,
    "start_time": "2023-08-18T16:45:31.806Z"
   },
   {
    "duration": 107,
    "start_time": "2023-08-18T16:45:31.878Z"
   },
   {
    "duration": 90,
    "start_time": "2023-08-18T16:45:31.986Z"
   },
   {
    "duration": 195,
    "start_time": "2023-08-18T16:45:32.079Z"
   },
   {
    "duration": 129,
    "start_time": "2023-08-18T16:45:32.276Z"
   },
   {
    "duration": 73,
    "start_time": "2023-08-18T16:45:32.406Z"
   },
   {
    "duration": 33,
    "start_time": "2023-08-18T16:45:32.481Z"
   },
   {
    "duration": 1596,
    "start_time": "2023-08-18T16:46:14.672Z"
   },
   {
    "duration": 30,
    "start_time": "2023-08-18T16:46:16.270Z"
   },
   {
    "duration": 18,
    "start_time": "2023-08-18T16:46:16.302Z"
   },
   {
    "duration": 11,
    "start_time": "2023-08-18T16:46:16.322Z"
   },
   {
    "duration": 12,
    "start_time": "2023-08-18T16:46:16.336Z"
   },
   {
    "duration": 6,
    "start_time": "2023-08-18T16:46:16.350Z"
   },
   {
    "duration": 10,
    "start_time": "2023-08-18T16:46:16.357Z"
   },
   {
    "duration": 7,
    "start_time": "2023-08-18T16:46:16.368Z"
   },
   {
    "duration": 6,
    "start_time": "2023-08-18T16:46:16.377Z"
   },
   {
    "duration": 13,
    "start_time": "2023-08-18T16:46:16.384Z"
   },
   {
    "duration": 248,
    "start_time": "2023-08-18T16:46:16.399Z"
   },
   {
    "duration": 4,
    "start_time": "2023-08-18T16:46:16.649Z"
   },
   {
    "duration": 75,
    "start_time": "2023-08-18T16:46:16.655Z"
   },
   {
    "duration": 51,
    "start_time": "2023-08-18T16:46:16.733Z"
   },
   {
    "duration": 196,
    "start_time": "2023-08-18T16:46:16.786Z"
   },
   {
    "duration": 7,
    "start_time": "2023-08-18T16:46:16.984Z"
   },
   {
    "duration": 14,
    "start_time": "2023-08-18T16:46:16.992Z"
   },
   {
    "duration": 7,
    "start_time": "2023-08-18T16:46:17.009Z"
   },
   {
    "duration": 15,
    "start_time": "2023-08-18T16:46:17.017Z"
   },
   {
    "duration": 42,
    "start_time": "2023-08-18T16:46:17.034Z"
   },
   {
    "duration": 227,
    "start_time": "2023-08-18T16:46:17.079Z"
   },
   {
    "duration": 0,
    "start_time": "2023-08-18T16:46:17.307Z"
   },
   {
    "duration": 0,
    "start_time": "2023-08-18T16:46:17.309Z"
   },
   {
    "duration": 0,
    "start_time": "2023-08-18T16:46:17.310Z"
   },
   {
    "duration": 0,
    "start_time": "2023-08-18T16:46:17.311Z"
   },
   {
    "duration": 0,
    "start_time": "2023-08-18T16:46:17.313Z"
   },
   {
    "duration": 0,
    "start_time": "2023-08-18T16:46:17.314Z"
   },
   {
    "duration": 1833,
    "start_time": "2023-08-19T10:49:39.617Z"
   },
   {
    "duration": 99,
    "start_time": "2023-08-19T10:49:41.453Z"
   },
   {
    "duration": 14,
    "start_time": "2023-08-19T10:49:41.554Z"
   },
   {
    "duration": 4,
    "start_time": "2023-08-19T10:49:41.570Z"
   },
   {
    "duration": 13,
    "start_time": "2023-08-19T10:49:41.575Z"
   },
   {
    "duration": 4,
    "start_time": "2023-08-19T10:49:41.589Z"
   },
   {
    "duration": 9,
    "start_time": "2023-08-19T10:49:41.594Z"
   },
   {
    "duration": 10,
    "start_time": "2023-08-19T10:49:41.604Z"
   },
   {
    "duration": 12,
    "start_time": "2023-08-19T10:49:41.616Z"
   },
   {
    "duration": 33,
    "start_time": "2023-08-19T10:49:41.630Z"
   },
   {
    "duration": 240,
    "start_time": "2023-08-19T10:49:41.664Z"
   },
   {
    "duration": 4,
    "start_time": "2023-08-19T10:49:41.905Z"
   },
   {
    "duration": 6,
    "start_time": "2023-08-19T10:49:41.910Z"
   },
   {
    "duration": 44,
    "start_time": "2023-08-19T10:49:41.919Z"
   },
   {
    "duration": 101,
    "start_time": "2023-08-19T10:49:41.964Z"
   },
   {
    "duration": 5,
    "start_time": "2023-08-19T10:49:42.067Z"
   },
   {
    "duration": 188,
    "start_time": "2023-08-19T10:49:42.073Z"
   },
   {
    "duration": 5,
    "start_time": "2023-08-19T10:49:42.263Z"
   },
   {
    "duration": 9,
    "start_time": "2023-08-19T10:49:42.269Z"
   },
   {
    "duration": 6,
    "start_time": "2023-08-19T10:49:42.279Z"
   },
   {
    "duration": 254,
    "start_time": "2023-08-19T10:49:42.287Z"
   },
   {
    "duration": 0,
    "start_time": "2023-08-19T10:49:42.542Z"
   },
   {
    "duration": 0,
    "start_time": "2023-08-19T10:49:42.544Z"
   },
   {
    "duration": 0,
    "start_time": "2023-08-19T10:49:42.546Z"
   },
   {
    "duration": 0,
    "start_time": "2023-08-19T10:49:42.547Z"
   },
   {
    "duration": 0,
    "start_time": "2023-08-19T10:49:42.559Z"
   },
   {
    "duration": 0,
    "start_time": "2023-08-19T10:49:42.561Z"
   },
   {
    "duration": 1875,
    "start_time": "2023-08-19T15:47:49.525Z"
   },
   {
    "duration": 109,
    "start_time": "2023-08-19T15:47:51.402Z"
   },
   {
    "duration": 14,
    "start_time": "2023-08-19T15:47:51.513Z"
   },
   {
    "duration": 7,
    "start_time": "2023-08-19T15:47:51.528Z"
   },
   {
    "duration": 28,
    "start_time": "2023-08-19T15:47:51.537Z"
   },
   {
    "duration": 9,
    "start_time": "2023-08-19T15:47:51.567Z"
   },
   {
    "duration": 12,
    "start_time": "2023-08-19T15:47:51.579Z"
   },
   {
    "duration": 9,
    "start_time": "2023-08-19T15:47:51.592Z"
   },
   {
    "duration": 5,
    "start_time": "2023-08-19T15:47:51.603Z"
   },
   {
    "duration": 6,
    "start_time": "2023-08-19T15:47:51.610Z"
   },
   {
    "duration": 287,
    "start_time": "2023-08-19T15:47:51.617Z"
   },
   {
    "duration": 4,
    "start_time": "2023-08-19T15:47:51.906Z"
   },
   {
    "duration": 7,
    "start_time": "2023-08-19T15:47:51.911Z"
   },
   {
    "duration": 37,
    "start_time": "2023-08-19T15:47:51.920Z"
   },
   {
    "duration": 19,
    "start_time": "2023-08-19T15:47:51.959Z"
   },
   {
    "duration": 91,
    "start_time": "2023-08-19T15:47:51.984Z"
   },
   {
    "duration": 13,
    "start_time": "2023-08-19T15:47:52.158Z"
   },
   {
    "duration": 18,
    "start_time": "2023-08-19T15:47:52.173Z"
   },
   {
    "duration": 16,
    "start_time": "2023-08-19T15:47:52.192Z"
   },
   {
    "duration": 6,
    "start_time": "2023-08-19T15:47:52.210Z"
   },
   {
    "duration": 40,
    "start_time": "2023-08-19T15:47:52.218Z"
   },
   {
    "duration": 30,
    "start_time": "2023-08-19T15:47:52.261Z"
   },
   {
    "duration": 68,
    "start_time": "2023-08-19T15:47:52.293Z"
   },
   {
    "duration": 26,
    "start_time": "2023-08-19T15:47:52.363Z"
   },
   {
    "duration": 204,
    "start_time": "2023-08-19T15:47:52.391Z"
   },
   {
    "duration": 0,
    "start_time": "2023-08-19T15:47:52.597Z"
   },
   {
    "duration": 0,
    "start_time": "2023-08-19T15:47:52.599Z"
   },
   {
    "duration": 4,
    "start_time": "2023-08-19T15:49:17.078Z"
   },
   {
    "duration": 31,
    "start_time": "2023-08-19T15:49:17.084Z"
   },
   {
    "duration": 10,
    "start_time": "2023-08-19T15:49:17.117Z"
   },
   {
    "duration": 10,
    "start_time": "2023-08-19T15:49:17.128Z"
   },
   {
    "duration": 21,
    "start_time": "2023-08-19T15:49:17.140Z"
   },
   {
    "duration": 20,
    "start_time": "2023-08-19T15:49:17.164Z"
   },
   {
    "duration": 53,
    "start_time": "2023-08-19T15:49:17.185Z"
   },
   {
    "duration": 12,
    "start_time": "2023-08-19T15:49:17.240Z"
   },
   {
    "duration": 12,
    "start_time": "2023-08-19T15:49:17.253Z"
   },
   {
    "duration": 9,
    "start_time": "2023-08-19T15:49:17.267Z"
   },
   {
    "duration": 299,
    "start_time": "2023-08-19T15:49:17.279Z"
   },
   {
    "duration": 4,
    "start_time": "2023-08-19T15:49:17.580Z"
   },
   {
    "duration": 28,
    "start_time": "2023-08-19T15:49:17.587Z"
   },
   {
    "duration": 8,
    "start_time": "2023-08-19T15:49:17.618Z"
   },
   {
    "duration": 38,
    "start_time": "2023-08-19T15:49:17.628Z"
   },
   {
    "duration": 98,
    "start_time": "2023-08-19T15:49:17.667Z"
   },
   {
    "duration": 20,
    "start_time": "2023-08-19T15:49:17.767Z"
   },
   {
    "duration": 7,
    "start_time": "2023-08-19T15:49:17.789Z"
   },
   {
    "duration": 33,
    "start_time": "2023-08-19T15:49:17.799Z"
   },
   {
    "duration": 13,
    "start_time": "2023-08-19T15:49:17.834Z"
   },
   {
    "duration": 8,
    "start_time": "2023-08-19T15:49:17.857Z"
   },
   {
    "duration": 93,
    "start_time": "2023-08-19T15:49:17.867Z"
   },
   {
    "duration": 8,
    "start_time": "2023-08-19T15:49:17.965Z"
   },
   {
    "duration": 271,
    "start_time": "2023-08-19T15:49:17.974Z"
   },
   {
    "duration": 24,
    "start_time": "2023-08-19T15:49:18.247Z"
   },
   {
    "duration": 13,
    "start_time": "2023-08-19T15:49:18.273Z"
   },
   {
    "duration": 8,
    "start_time": "2023-08-19T15:49:18.287Z"
   },
   {
    "duration": 13,
    "start_time": "2023-08-19T15:59:33.836Z"
   },
   {
    "duration": 4,
    "start_time": "2023-08-19T15:59:52.195Z"
   },
   {
    "duration": 35,
    "start_time": "2023-08-19T15:59:52.200Z"
   },
   {
    "duration": 10,
    "start_time": "2023-08-19T15:59:52.237Z"
   },
   {
    "duration": 7,
    "start_time": "2023-08-19T15:59:52.250Z"
   },
   {
    "duration": 20,
    "start_time": "2023-08-19T15:59:52.258Z"
   },
   {
    "duration": 11,
    "start_time": "2023-08-19T15:59:52.279Z"
   },
   {
    "duration": 13,
    "start_time": "2023-08-19T15:59:52.291Z"
   },
   {
    "duration": 16,
    "start_time": "2023-08-19T15:59:52.306Z"
   },
   {
    "duration": 26,
    "start_time": "2023-08-19T15:59:52.323Z"
   },
   {
    "duration": 22,
    "start_time": "2023-08-19T15:59:52.351Z"
   },
   {
    "duration": 253,
    "start_time": "2023-08-19T15:59:52.375Z"
   },
   {
    "duration": 5,
    "start_time": "2023-08-19T15:59:52.629Z"
   },
   {
    "duration": 17,
    "start_time": "2023-08-19T15:59:52.635Z"
   },
   {
    "duration": 20,
    "start_time": "2023-08-19T15:59:52.653Z"
   },
   {
    "duration": 89,
    "start_time": "2023-08-19T15:59:52.674Z"
   },
   {
    "duration": 94,
    "start_time": "2023-08-19T15:59:52.765Z"
   },
   {
    "duration": 35,
    "start_time": "2023-08-19T15:59:52.861Z"
   },
   {
    "duration": 10,
    "start_time": "2023-08-19T15:59:52.898Z"
   },
   {
    "duration": 7,
    "start_time": "2023-08-19T15:59:52.909Z"
   },
   {
    "duration": 15,
    "start_time": "2023-08-19T15:59:52.918Z"
   },
   {
    "duration": 24,
    "start_time": "2023-08-19T15:59:52.934Z"
   },
   {
    "duration": 99,
    "start_time": "2023-08-19T15:59:52.959Z"
   },
   {
    "duration": 4,
    "start_time": "2023-08-19T15:59:53.061Z"
   },
   {
    "duration": 112,
    "start_time": "2023-08-19T15:59:53.066Z"
   },
   {
    "duration": 93,
    "start_time": "2023-08-19T15:59:53.180Z"
   },
   {
    "duration": 46,
    "start_time": "2023-08-19T15:59:53.275Z"
   },
   {
    "duration": 9,
    "start_time": "2023-08-19T15:59:53.323Z"
   },
   {
    "duration": 4,
    "start_time": "2023-08-19T16:00:30.381Z"
   },
   {
    "duration": 126,
    "start_time": "2023-08-19T16:00:30.387Z"
   },
   {
    "duration": 69,
    "start_time": "2023-08-19T16:00:30.514Z"
   },
   {
    "duration": 90,
    "start_time": "2023-08-19T16:00:30.585Z"
   },
   {
    "duration": 53,
    "start_time": "2023-08-19T16:00:30.677Z"
   },
   {
    "duration": 40,
    "start_time": "2023-08-19T16:00:30.732Z"
   },
   {
    "duration": 78,
    "start_time": "2023-08-19T16:00:30.774Z"
   },
   {
    "duration": 92,
    "start_time": "2023-08-19T16:00:30.854Z"
   },
   {
    "duration": 34,
    "start_time": "2023-08-19T16:00:30.948Z"
   },
   {
    "duration": 36,
    "start_time": "2023-08-19T16:00:30.984Z"
   },
   {
    "duration": 264,
    "start_time": "2023-08-19T16:00:31.022Z"
   },
   {
    "duration": 5,
    "start_time": "2023-08-19T16:00:31.287Z"
   },
   {
    "duration": 60,
    "start_time": "2023-08-19T16:00:31.294Z"
   },
   {
    "duration": 41,
    "start_time": "2023-08-19T16:00:31.357Z"
   },
   {
    "duration": 63,
    "start_time": "2023-08-19T16:00:31.400Z"
   },
   {
    "duration": 96,
    "start_time": "2023-08-19T16:00:31.465Z"
   },
   {
    "duration": 47,
    "start_time": "2023-08-19T16:00:31.563Z"
   },
   {
    "duration": 29,
    "start_time": "2023-08-19T16:00:31.612Z"
   },
   {
    "duration": 48,
    "start_time": "2023-08-19T16:00:31.643Z"
   },
   {
    "duration": 26,
    "start_time": "2023-08-19T16:00:31.692Z"
   },
   {
    "duration": 38,
    "start_time": "2023-08-19T16:00:31.719Z"
   },
   {
    "duration": 121,
    "start_time": "2023-08-19T16:00:31.759Z"
   },
   {
    "duration": 11,
    "start_time": "2023-08-19T16:00:31.882Z"
   },
   {
    "duration": 79,
    "start_time": "2023-08-19T16:00:31.895Z"
   },
   {
    "duration": 85,
    "start_time": "2023-08-19T16:00:31.976Z"
   },
   {
    "duration": 9,
    "start_time": "2023-08-19T16:00:32.063Z"
   },
   {
    "duration": 39,
    "start_time": "2023-08-19T16:00:32.075Z"
   },
   {
    "duration": 3,
    "start_time": "2023-08-19T16:01:02.911Z"
   },
   {
    "duration": 42,
    "start_time": "2023-08-19T16:01:02.916Z"
   },
   {
    "duration": 12,
    "start_time": "2023-08-19T16:01:02.959Z"
   },
   {
    "duration": 3,
    "start_time": "2023-08-19T16:01:02.973Z"
   },
   {
    "duration": 32,
    "start_time": "2023-08-19T16:01:02.977Z"
   },
   {
    "duration": 3,
    "start_time": "2023-08-19T16:01:03.010Z"
   },
   {
    "duration": 15,
    "start_time": "2023-08-19T16:01:03.015Z"
   },
   {
    "duration": 5,
    "start_time": "2023-08-19T16:01:03.032Z"
   },
   {
    "duration": 11,
    "start_time": "2023-08-19T16:01:03.040Z"
   },
   {
    "duration": 6,
    "start_time": "2023-08-19T16:01:03.052Z"
   },
   {
    "duration": 248,
    "start_time": "2023-08-19T16:01:03.060Z"
   },
   {
    "duration": 5,
    "start_time": "2023-08-19T16:01:03.310Z"
   },
   {
    "duration": 6,
    "start_time": "2023-08-19T16:01:03.317Z"
   },
   {
    "duration": 33,
    "start_time": "2023-08-19T16:01:03.325Z"
   },
   {
    "duration": 15,
    "start_time": "2023-08-19T16:01:03.360Z"
   },
   {
    "duration": 85,
    "start_time": "2023-08-19T16:01:03.377Z"
   },
   {
    "duration": 25,
    "start_time": "2023-08-19T16:01:03.464Z"
   },
   {
    "duration": 13,
    "start_time": "2023-08-19T16:01:03.490Z"
   },
   {
    "duration": 15,
    "start_time": "2023-08-19T16:01:03.505Z"
   },
   {
    "duration": 11,
    "start_time": "2023-08-19T16:01:03.522Z"
   },
   {
    "duration": 22,
    "start_time": "2023-08-19T16:01:03.535Z"
   },
   {
    "duration": 27,
    "start_time": "2023-08-19T16:01:03.561Z"
   },
   {
    "duration": 4,
    "start_time": "2023-08-19T16:01:03.657Z"
   },
   {
    "duration": 18,
    "start_time": "2023-08-19T16:01:03.664Z"
   },
   {
    "duration": 93,
    "start_time": "2023-08-19T16:01:03.684Z"
   },
   {
    "duration": 86,
    "start_time": "2023-08-19T16:01:03.779Z"
   },
   {
    "duration": 11,
    "start_time": "2023-08-19T16:01:03.867Z"
   },
   {
    "duration": 3,
    "start_time": "2023-08-19T16:01:12.047Z"
   },
   {
    "duration": 1533,
    "start_time": "2023-08-19T16:01:25.908Z"
   },
   {
    "duration": 45,
    "start_time": "2023-08-19T16:01:27.443Z"
   },
   {
    "duration": 13,
    "start_time": "2023-08-19T16:01:27.489Z"
   },
   {
    "duration": 8,
    "start_time": "2023-08-19T16:01:27.504Z"
   },
   {
    "duration": 15,
    "start_time": "2023-08-19T16:01:27.514Z"
   },
   {
    "duration": 14,
    "start_time": "2023-08-19T16:01:27.531Z"
   },
   {
    "duration": 18,
    "start_time": "2023-08-19T16:01:27.546Z"
   },
   {
    "duration": 7,
    "start_time": "2023-08-19T16:01:27.566Z"
   },
   {
    "duration": 13,
    "start_time": "2023-08-19T16:01:27.575Z"
   },
   {
    "duration": 7,
    "start_time": "2023-08-19T16:01:27.591Z"
   },
   {
    "duration": 249,
    "start_time": "2023-08-19T16:01:27.599Z"
   },
   {
    "duration": 12,
    "start_time": "2023-08-19T16:01:27.849Z"
   },
   {
    "duration": 6,
    "start_time": "2023-08-19T16:01:27.862Z"
   },
   {
    "duration": 10,
    "start_time": "2023-08-19T16:01:27.871Z"
   },
   {
    "duration": 75,
    "start_time": "2023-08-19T16:01:27.883Z"
   },
   {
    "duration": 6,
    "start_time": "2023-08-19T16:01:27.959Z"
   },
   {
    "duration": 104,
    "start_time": "2023-08-19T16:01:27.967Z"
   },
   {
    "duration": 10,
    "start_time": "2023-08-19T16:01:28.073Z"
   },
   {
    "duration": 23,
    "start_time": "2023-08-19T16:01:28.084Z"
   },
   {
    "duration": 9,
    "start_time": "2023-08-19T16:01:28.109Z"
   },
   {
    "duration": 42,
    "start_time": "2023-08-19T16:01:28.119Z"
   },
   {
    "duration": 21,
    "start_time": "2023-08-19T16:01:28.164Z"
   },
   {
    "duration": 4,
    "start_time": "2023-08-19T16:01:28.257Z"
   },
   {
    "duration": 19,
    "start_time": "2023-08-19T16:01:28.263Z"
   },
   {
    "duration": 19,
    "start_time": "2023-08-19T16:01:28.357Z"
   },
   {
    "duration": 85,
    "start_time": "2023-08-19T16:01:28.379Z"
   },
   {
    "duration": 11,
    "start_time": "2023-08-19T16:01:28.466Z"
   },
   {
    "duration": 1582,
    "start_time": "2023-08-19T16:03:18.309Z"
   },
   {
    "duration": 31,
    "start_time": "2023-08-19T16:03:19.894Z"
   },
   {
    "duration": 12,
    "start_time": "2023-08-19T16:03:19.927Z"
   },
   {
    "duration": 4,
    "start_time": "2023-08-19T16:03:19.941Z"
   },
   {
    "duration": 25,
    "start_time": "2023-08-19T16:03:19.947Z"
   },
   {
    "duration": 3,
    "start_time": "2023-08-19T16:03:19.974Z"
   },
   {
    "duration": 10,
    "start_time": "2023-08-19T16:03:19.978Z"
   },
   {
    "duration": 9,
    "start_time": "2023-08-19T16:03:19.989Z"
   },
   {
    "duration": 6,
    "start_time": "2023-08-19T16:03:19.999Z"
   },
   {
    "duration": 6,
    "start_time": "2023-08-19T16:03:20.008Z"
   },
   {
    "duration": 269,
    "start_time": "2023-08-19T16:03:20.015Z"
   },
   {
    "duration": 4,
    "start_time": "2023-08-19T16:03:20.285Z"
   },
   {
    "duration": 8,
    "start_time": "2023-08-19T16:03:20.290Z"
   },
   {
    "duration": 8,
    "start_time": "2023-08-19T16:03:20.299Z"
   },
   {
    "duration": 59,
    "start_time": "2023-08-19T16:03:20.309Z"
   },
   {
    "duration": 84,
    "start_time": "2023-08-19T16:03:20.373Z"
   },
   {
    "duration": 25,
    "start_time": "2023-08-19T16:03:20.460Z"
   },
   {
    "duration": 20,
    "start_time": "2023-08-19T16:03:20.487Z"
   },
   {
    "duration": 22,
    "start_time": "2023-08-19T16:03:20.509Z"
   },
   {
    "duration": 7,
    "start_time": "2023-08-19T16:03:20.533Z"
   },
   {
    "duration": 25,
    "start_time": "2023-08-19T16:03:20.542Z"
   },
   {
    "duration": 90,
    "start_time": "2023-08-19T16:03:20.569Z"
   },
   {
    "duration": 4,
    "start_time": "2023-08-19T16:03:20.663Z"
   },
   {
    "duration": 91,
    "start_time": "2023-08-19T16:03:20.669Z"
   },
   {
    "duration": 95,
    "start_time": "2023-08-19T16:03:20.762Z"
   },
   {
    "duration": 23,
    "start_time": "2023-08-19T16:03:20.860Z"
   },
   {
    "duration": 38,
    "start_time": "2023-08-19T16:03:20.885Z"
   },
   {
    "duration": 1924,
    "start_time": "2023-08-19T16:09:50.177Z"
   },
   {
    "duration": 32,
    "start_time": "2023-08-19T16:09:52.106Z"
   },
   {
    "duration": 20,
    "start_time": "2023-08-19T16:09:52.140Z"
   },
   {
    "duration": 13,
    "start_time": "2023-08-19T16:09:52.162Z"
   },
   {
    "duration": 35,
    "start_time": "2023-08-19T16:09:52.180Z"
   },
   {
    "duration": 8,
    "start_time": "2023-08-19T16:09:52.217Z"
   },
   {
    "duration": 40,
    "start_time": "2023-08-19T16:09:52.228Z"
   },
   {
    "duration": 13,
    "start_time": "2023-08-19T16:09:52.273Z"
   },
   {
    "duration": 7,
    "start_time": "2023-08-19T16:09:52.298Z"
   },
   {
    "duration": 10,
    "start_time": "2023-08-19T16:09:52.307Z"
   },
   {
    "duration": 409,
    "start_time": "2023-08-19T16:09:52.319Z"
   },
   {
    "duration": 5,
    "start_time": "2023-08-19T16:09:52.731Z"
   },
   {
    "duration": 12,
    "start_time": "2023-08-19T16:09:52.738Z"
   },
   {
    "duration": 49,
    "start_time": "2023-08-19T16:09:52.753Z"
   },
   {
    "duration": 65,
    "start_time": "2023-08-19T16:09:52.803Z"
   },
   {
    "duration": 9,
    "start_time": "2023-08-19T16:09:52.872Z"
   },
   {
    "duration": 74,
    "start_time": "2023-08-19T16:09:52.886Z"
   },
   {
    "duration": 40,
    "start_time": "2023-08-19T16:09:52.965Z"
   },
   {
    "duration": 12,
    "start_time": "2023-08-19T16:09:53.008Z"
   },
   {
    "duration": 10,
    "start_time": "2023-08-19T16:09:53.022Z"
   },
   {
    "duration": 25,
    "start_time": "2023-08-19T16:09:53.034Z"
   },
   {
    "duration": 104,
    "start_time": "2023-08-19T16:09:53.061Z"
   },
   {
    "duration": 11,
    "start_time": "2023-08-19T16:09:53.172Z"
   },
   {
    "duration": 109,
    "start_time": "2023-08-19T16:09:53.193Z"
   },
   {
    "duration": 18,
    "start_time": "2023-08-19T16:09:53.313Z"
   },
   {
    "duration": 32,
    "start_time": "2023-08-19T16:09:53.334Z"
   },
   {
    "duration": 18,
    "start_time": "2023-08-19T16:09:53.375Z"
   },
   {
    "duration": 2254,
    "start_time": "2023-08-20T08:58:03.795Z"
   },
   {
    "duration": 119,
    "start_time": "2023-08-20T08:58:06.051Z"
   },
   {
    "duration": 20,
    "start_time": "2023-08-20T08:58:06.173Z"
   },
   {
    "duration": 20,
    "start_time": "2023-08-20T08:58:06.195Z"
   },
   {
    "duration": 38,
    "start_time": "2023-08-20T08:58:06.218Z"
   },
   {
    "duration": 32,
    "start_time": "2023-08-20T08:58:06.261Z"
   },
   {
    "duration": 10,
    "start_time": "2023-08-20T08:58:06.295Z"
   },
   {
    "duration": 10,
    "start_time": "2023-08-20T08:58:06.307Z"
   },
   {
    "duration": 23,
    "start_time": "2023-08-20T08:58:06.319Z"
   },
   {
    "duration": 17,
    "start_time": "2023-08-20T08:58:06.344Z"
   },
   {
    "duration": 290,
    "start_time": "2023-08-20T08:58:06.363Z"
   },
   {
    "duration": 14,
    "start_time": "2023-08-20T08:58:06.655Z"
   },
   {
    "duration": 13,
    "start_time": "2023-08-20T08:58:06.671Z"
   },
   {
    "duration": 79,
    "start_time": "2023-08-20T08:58:06.688Z"
   },
   {
    "duration": 92,
    "start_time": "2023-08-20T08:58:06.770Z"
   },
   {
    "duration": 10,
    "start_time": "2023-08-20T08:58:06.863Z"
   },
   {
    "duration": 96,
    "start_time": "2023-08-20T08:58:06.874Z"
   },
   {
    "duration": 7,
    "start_time": "2023-08-20T08:58:06.972Z"
   },
   {
    "duration": 81,
    "start_time": "2023-08-20T08:58:06.984Z"
   },
   {
    "duration": 16,
    "start_time": "2023-08-20T08:58:07.068Z"
   },
   {
    "duration": 80,
    "start_time": "2023-08-20T08:58:07.086Z"
   },
   {
    "duration": 89,
    "start_time": "2023-08-20T08:58:07.168Z"
   },
   {
    "duration": 5,
    "start_time": "2023-08-20T08:58:07.260Z"
   },
   {
    "duration": 91,
    "start_time": "2023-08-20T08:58:07.268Z"
   },
   {
    "duration": 16,
    "start_time": "2023-08-20T08:58:07.365Z"
   },
   {
    "duration": 80,
    "start_time": "2023-08-20T08:58:07.388Z"
   },
   {
    "duration": 21,
    "start_time": "2023-08-20T08:58:07.475Z"
   },
   {
    "duration": 1726,
    "start_time": "2023-08-20T15:41:04.470Z"
   },
   {
    "duration": 98,
    "start_time": "2023-08-20T15:41:06.198Z"
   },
   {
    "duration": 15,
    "start_time": "2023-08-20T15:41:06.297Z"
   },
   {
    "duration": 6,
    "start_time": "2023-08-20T15:41:06.314Z"
   },
   {
    "duration": 14,
    "start_time": "2023-08-20T15:41:06.322Z"
   },
   {
    "duration": 4,
    "start_time": "2023-08-20T15:41:06.337Z"
   },
   {
    "duration": 28,
    "start_time": "2023-08-20T15:41:06.342Z"
   },
   {
    "duration": 8,
    "start_time": "2023-08-20T15:41:06.372Z"
   },
   {
    "duration": 6,
    "start_time": "2023-08-20T15:41:06.381Z"
   },
   {
    "duration": 6,
    "start_time": "2023-08-20T15:41:06.389Z"
   },
   {
    "duration": 281,
    "start_time": "2023-08-20T15:41:06.397Z"
   },
   {
    "duration": 4,
    "start_time": "2023-08-20T15:41:06.679Z"
   },
   {
    "duration": 7,
    "start_time": "2023-08-20T15:41:06.685Z"
   },
   {
    "duration": 12,
    "start_time": "2023-08-20T15:41:06.694Z"
   },
   {
    "duration": 67,
    "start_time": "2023-08-20T15:41:06.708Z"
   },
   {
    "duration": 79,
    "start_time": "2023-08-20T15:41:06.778Z"
   },
   {
    "duration": 100,
    "start_time": "2023-08-20T15:41:06.858Z"
   },
   {
    "duration": 13,
    "start_time": "2023-08-20T15:41:06.963Z"
   },
   {
    "duration": 8,
    "start_time": "2023-08-20T15:41:06.978Z"
   },
   {
    "duration": 6,
    "start_time": "2023-08-20T15:41:06.988Z"
   },
   {
    "duration": 68,
    "start_time": "2023-08-20T15:41:06.995Z"
   },
   {
    "duration": 15,
    "start_time": "2023-08-20T15:41:07.065Z"
   },
   {
    "duration": 79,
    "start_time": "2023-08-20T15:41:07.082Z"
   },
   {
    "duration": 112,
    "start_time": "2023-08-20T15:41:07.163Z"
   },
   {
    "duration": 19,
    "start_time": "2023-08-20T15:41:07.279Z"
   },
   {
    "duration": 19,
    "start_time": "2023-08-20T15:41:07.359Z"
   },
   {
    "duration": 25,
    "start_time": "2023-08-20T15:41:07.380Z"
   },
   {
    "duration": 1601,
    "start_time": "2023-08-20T15:49:18.398Z"
   },
   {
    "duration": 31,
    "start_time": "2023-08-20T15:49:20.001Z"
   },
   {
    "duration": 12,
    "start_time": "2023-08-20T15:49:20.034Z"
   },
   {
    "duration": 5,
    "start_time": "2023-08-20T15:49:20.048Z"
   },
   {
    "duration": 21,
    "start_time": "2023-08-20T15:49:20.054Z"
   },
   {
    "duration": 5,
    "start_time": "2023-08-20T15:49:20.077Z"
   },
   {
    "duration": 23,
    "start_time": "2023-08-20T15:49:20.083Z"
   },
   {
    "duration": 11,
    "start_time": "2023-08-20T15:49:20.108Z"
   },
   {
    "duration": 7,
    "start_time": "2023-08-20T15:49:20.121Z"
   },
   {
    "duration": 11,
    "start_time": "2023-08-20T15:49:20.130Z"
   },
   {
    "duration": 247,
    "start_time": "2023-08-20T15:49:20.143Z"
   },
   {
    "duration": 3,
    "start_time": "2023-08-20T15:49:20.392Z"
   },
   {
    "duration": 5,
    "start_time": "2023-08-20T15:49:20.397Z"
   },
   {
    "duration": 12,
    "start_time": "2023-08-20T15:49:20.403Z"
   },
   {
    "duration": 12,
    "start_time": "2023-08-20T15:49:20.460Z"
   },
   {
    "duration": 6,
    "start_time": "2023-08-20T15:49:20.478Z"
   },
   {
    "duration": 11,
    "start_time": "2023-08-20T15:49:20.563Z"
   },
   {
    "duration": 8,
    "start_time": "2023-08-20T15:49:20.576Z"
   },
   {
    "duration": 16,
    "start_time": "2023-08-20T15:49:20.586Z"
   },
   {
    "duration": 7,
    "start_time": "2023-08-20T15:49:20.604Z"
   },
   {
    "duration": 51,
    "start_time": "2023-08-20T15:49:20.613Z"
   },
   {
    "duration": 99,
    "start_time": "2023-08-20T15:49:20.668Z"
   },
   {
    "duration": 6,
    "start_time": "2023-08-20T15:49:20.769Z"
   },
   {
    "duration": 98,
    "start_time": "2023-08-20T15:49:20.777Z"
   },
   {
    "duration": 86,
    "start_time": "2023-08-20T15:49:20.878Z"
   },
   {
    "duration": 10,
    "start_time": "2023-08-20T15:49:20.970Z"
   },
   {
    "duration": 12,
    "start_time": "2023-08-20T15:49:20.981Z"
   },
   {
    "duration": 1927,
    "start_time": "2023-08-21T09:38:16.852Z"
   },
   {
    "duration": 140,
    "start_time": "2023-08-21T09:38:18.781Z"
   },
   {
    "duration": 15,
    "start_time": "2023-08-21T09:38:18.924Z"
   },
   {
    "duration": 15,
    "start_time": "2023-08-21T09:38:18.942Z"
   },
   {
    "duration": 16,
    "start_time": "2023-08-21T09:38:18.959Z"
   },
   {
    "duration": 12,
    "start_time": "2023-08-21T09:38:18.977Z"
   },
   {
    "duration": 11,
    "start_time": "2023-08-21T09:38:18.990Z"
   },
   {
    "duration": 7,
    "start_time": "2023-08-21T09:38:19.002Z"
   },
   {
    "duration": 10,
    "start_time": "2023-08-21T09:38:19.011Z"
   },
   {
    "duration": 7,
    "start_time": "2023-08-21T09:38:19.024Z"
   },
   {
    "duration": 263,
    "start_time": "2023-08-21T09:38:19.032Z"
   },
   {
    "duration": 4,
    "start_time": "2023-08-21T09:38:19.297Z"
   },
   {
    "duration": 10,
    "start_time": "2023-08-21T09:38:19.302Z"
   },
   {
    "duration": 46,
    "start_time": "2023-08-21T09:38:19.314Z"
   },
   {
    "duration": 99,
    "start_time": "2023-08-21T09:38:19.362Z"
   },
   {
    "duration": 7,
    "start_time": "2023-08-21T09:38:19.463Z"
   },
   {
    "duration": 95,
    "start_time": "2023-08-21T09:38:19.473Z"
   },
   {
    "duration": 91,
    "start_time": "2023-08-21T09:38:19.571Z"
   },
   {
    "duration": 20,
    "start_time": "2023-08-21T09:38:19.663Z"
   },
   {
    "duration": 6,
    "start_time": "2023-08-21T09:38:19.685Z"
   },
   {
    "duration": 8,
    "start_time": "2023-08-21T09:38:19.693Z"
   },
   {
    "duration": 73,
    "start_time": "2023-08-21T09:38:19.703Z"
   },
   {
    "duration": 4,
    "start_time": "2023-08-21T09:38:19.858Z"
   },
   {
    "duration": 107,
    "start_time": "2023-08-21T09:38:19.864Z"
   },
   {
    "duration": 94,
    "start_time": "2023-08-21T09:38:19.973Z"
   },
   {
    "duration": 13,
    "start_time": "2023-08-21T09:38:20.069Z"
   },
   {
    "duration": 17,
    "start_time": "2023-08-21T09:38:20.084Z"
   }
  ],
  "kernelspec": {
   "display_name": "Python 3 (ipykernel)",
   "language": "python",
   "name": "python3"
  },
  "language_info": {
   "codemirror_mode": {
    "name": "ipython",
    "version": 3
   },
   "file_extension": ".py",
   "mimetype": "text/x-python",
   "name": "python",
   "nbconvert_exporter": "python",
   "pygments_lexer": "ipython3",
   "version": "3.9.18"
  },
  "toc": {
   "base_numbering": 1,
   "nav_menu": {},
   "number_sections": true,
   "sideBar": true,
   "skip_h1_title": true,
   "title_cell": "Table of Contents",
   "title_sidebar": "Contents",
   "toc_cell": false,
   "toc_position": {},
   "toc_section_display": true,
   "toc_window_display": false
  }
 },
 "nbformat": 4,
 "nbformat_minor": 5
}
