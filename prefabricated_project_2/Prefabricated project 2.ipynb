{
 "cells": [
  {
   "cell_type": "markdown",
   "metadata": {},
   "source": [
    "# Восстановление золота из руды"
   ]
  },
  {
   "cell_type": "markdown",
   "metadata": {},
   "source": [
    "Подготовьте прототип модели машинного обучения для «Цифры». Компания разрабатывает решения для эффективной работы промышленных предприятий.\n",
    "\n",
    "Модель должна предсказать коэффициент восстановления золота из золотосодержащей руды. Используйте данные с параметрами добычи и очистки. \n",
    "\n",
    "Модель поможет оптимизировать производство, чтобы не запускать предприятие с убыточными характеристиками.\n",
    "\n",
    "Вам нужно:\n",
    "\n",
    "1. Подготовить данные;\n",
    "2. Провести исследовательский анализ данных;\n",
    "3. Построить и обучить модель.\n",
    "\n",
    "Чтобы выполнить проект, обращайтесь к библиотекам *pandas*, *matplotlib* и *sklearn.* Вам поможет их документация."
   ]
  },
  {
   "cell_type": "markdown",
   "metadata": {},
   "source": [
    "## Подготовка данных"
   ]
  },
  {
   "cell_type": "code",
   "execution_count": 127,
   "metadata": {},
   "outputs": [],
   "source": [
    "import pandas as pd\n",
    "import numpy as np\n",
    "import matplotlib.pyplot as plt\n",
    "import seaborn as sns\n",
    "from sklearn.metrics import mean_absolute_error\n",
    "from sklearn.preprocessing import StandardScaler\n",
    "from sklearn.linear_model import LinearRegression\n",
    "from sklearn.metrics import mean_squared_error\n",
    "from sklearn.tree import DecisionTreeRegressor\n",
    "from sklearn.ensemble import RandomForestRegressor\n",
    "from sklearn.model_selection import cross_val_score\n",
    "import plotly.express as px\n",
    "from sklearn.metrics import make_scorer\n",
    "from sklearn.dummy import DummyRegressor\n",
    "from sklearn.linear_model import Lasso"
   ]
  },
  {
   "cell_type": "code",
   "execution_count": 128,
   "metadata": {},
   "outputs": [],
   "source": [
    "try:\n",
    "    gi_full = pd.read_csv('/datasets/gold_industry_full.csv')\n",
    "    gi_test = pd.read_csv('/datasets/gold_industry_test.csv')\n",
    "    gi_train = pd.read_csv('/datasets/gold_industry_train.csv')\n",
    "except:\n",
    "    gi_full = pd.read_csv('/Users/v.rakhaev/Desktop/Yandex/final_project_2/gold_industry_full.csv')\n",
    "    gi_test = pd.read_csv('/Users/v.rakhaev/Desktop/Yandex/final_project_2/gold_industry_test.csv')\n",
    "    gi_train = pd.read_csv('/Users/v.rakhaev/Desktop/Yandex/final_project_2/gold_industry_train.csv')"
   ]
  },
  {
   "cell_type": "code",
   "execution_count": 129,
   "metadata": {},
   "outputs": [
    {
     "data": {
      "text/plain": [
       "(19439, 87)"
      ]
     },
     "metadata": {},
     "output_type": "display_data"
    },
    {
     "data": {
      "text/plain": [
       "(4860, 53)"
      ]
     },
     "metadata": {},
     "output_type": "display_data"
    },
    {
     "data": {
      "text/plain": [
       "(14579, 87)"
      ]
     },
     "metadata": {},
     "output_type": "display_data"
    }
   ],
   "source": [
    "display(gi_full.shape)\n",
    "display(gi_test.shape)\n",
    "display(gi_train.shape)"
   ]
  },
  {
   "cell_type": "code",
   "execution_count": 130,
   "metadata": {},
   "outputs": [
    {
     "data": {
      "text/html": [
       "<div>\n",
       "<style scoped>\n",
       "    .dataframe tbody tr th:only-of-type {\n",
       "        vertical-align: middle;\n",
       "    }\n",
       "\n",
       "    .dataframe tbody tr th {\n",
       "        vertical-align: top;\n",
       "    }\n",
       "\n",
       "    .dataframe thead th {\n",
       "        text-align: right;\n",
       "    }\n",
       "</style>\n",
       "<table border=\"1\" class=\"dataframe\">\n",
       "  <thead>\n",
       "    <tr style=\"text-align: right;\">\n",
       "      <th></th>\n",
       "      <th>date</th>\n",
       "      <th>rougher.input.feed_au</th>\n",
       "      <th>rougher.input.feed_ag</th>\n",
       "      <th>rougher.input.feed_pb</th>\n",
       "      <th>rougher.input.feed_sol</th>\n",
       "      <th>rougher.input.feed_rate</th>\n",
       "      <th>rougher.input.feed_size</th>\n",
       "      <th>rougher.input.floatbank10_sulfate</th>\n",
       "      <th>rougher.input.floatbank10_xanthate</th>\n",
       "      <th>rougher.state.floatbank10_a_air</th>\n",
       "      <th>...</th>\n",
       "      <th>secondary_cleaner.output.tail_sol</th>\n",
       "      <th>final.output.concentrate_au</th>\n",
       "      <th>final.output.concentrate_ag</th>\n",
       "      <th>final.output.concentrate_pb</th>\n",
       "      <th>final.output.concentrate_sol</th>\n",
       "      <th>final.output.recovery</th>\n",
       "      <th>final.output.tail_au</th>\n",
       "      <th>final.output.tail_ag</th>\n",
       "      <th>final.output.tail_pb</th>\n",
       "      <th>final.output.tail_sol</th>\n",
       "    </tr>\n",
       "  </thead>\n",
       "  <tbody>\n",
       "    <tr>\n",
       "      <th>0</th>\n",
       "      <td>2016-01-15 00:00:00</td>\n",
       "      <td>6.486150</td>\n",
       "      <td>6.100378</td>\n",
       "      <td>2.284912</td>\n",
       "      <td>36.808594</td>\n",
       "      <td>523.546326</td>\n",
       "      <td>55.486599</td>\n",
       "      <td>11.986616</td>\n",
       "      <td>6.007990</td>\n",
       "      <td>999.706909</td>\n",
       "      <td>...</td>\n",
       "      <td>8.764648</td>\n",
       "      <td>42.192020</td>\n",
       "      <td>6.055403</td>\n",
       "      <td>9.889648</td>\n",
       "      <td>5.507324</td>\n",
       "      <td>70.541216</td>\n",
       "      <td>2.143149</td>\n",
       "      <td>10.411962</td>\n",
       "      <td>0.895447</td>\n",
       "      <td>16.904297</td>\n",
       "    </tr>\n",
       "    <tr>\n",
       "      <th>1</th>\n",
       "      <td>2016-01-15 01:00:00</td>\n",
       "      <td>6.478583</td>\n",
       "      <td>6.161113</td>\n",
       "      <td>2.266033</td>\n",
       "      <td>35.753385</td>\n",
       "      <td>525.290581</td>\n",
       "      <td>57.278666</td>\n",
       "      <td>11.971193</td>\n",
       "      <td>6.005766</td>\n",
       "      <td>1000.286398</td>\n",
       "      <td>...</td>\n",
       "      <td>9.001494</td>\n",
       "      <td>42.701629</td>\n",
       "      <td>6.029369</td>\n",
       "      <td>9.968944</td>\n",
       "      <td>5.257781</td>\n",
       "      <td>69.266198</td>\n",
       "      <td>2.224930</td>\n",
       "      <td>10.462676</td>\n",
       "      <td>0.927452</td>\n",
       "      <td>16.634514</td>\n",
       "    </tr>\n",
       "  </tbody>\n",
       "</table>\n",
       "<p>2 rows × 87 columns</p>\n",
       "</div>"
      ],
      "text/plain": [
       "                  date  rougher.input.feed_au  rougher.input.feed_ag  \\\n",
       "0  2016-01-15 00:00:00               6.486150               6.100378   \n",
       "1  2016-01-15 01:00:00               6.478583               6.161113   \n",
       "\n",
       "   rougher.input.feed_pb  rougher.input.feed_sol  rougher.input.feed_rate  \\\n",
       "0               2.284912               36.808594               523.546326   \n",
       "1               2.266033               35.753385               525.290581   \n",
       "\n",
       "   rougher.input.feed_size  rougher.input.floatbank10_sulfate  \\\n",
       "0                55.486599                          11.986616   \n",
       "1                57.278666                          11.971193   \n",
       "\n",
       "   rougher.input.floatbank10_xanthate  rougher.state.floatbank10_a_air  ...  \\\n",
       "0                            6.007990                       999.706909  ...   \n",
       "1                            6.005766                      1000.286398  ...   \n",
       "\n",
       "   secondary_cleaner.output.tail_sol  final.output.concentrate_au  \\\n",
       "0                           8.764648                    42.192020   \n",
       "1                           9.001494                    42.701629   \n",
       "\n",
       "   final.output.concentrate_ag  final.output.concentrate_pb  \\\n",
       "0                     6.055403                     9.889648   \n",
       "1                     6.029369                     9.968944   \n",
       "\n",
       "   final.output.concentrate_sol  final.output.recovery  final.output.tail_au  \\\n",
       "0                      5.507324              70.541216              2.143149   \n",
       "1                      5.257781              69.266198              2.224930   \n",
       "\n",
       "   final.output.tail_ag  final.output.tail_pb  final.output.tail_sol  \n",
       "0             10.411962              0.895447              16.904297  \n",
       "1             10.462676              0.927452              16.634514  \n",
       "\n",
       "[2 rows x 87 columns]"
      ]
     },
     "metadata": {},
     "output_type": "display_data"
    },
    {
     "data": {
      "text/html": [
       "<div>\n",
       "<style scoped>\n",
       "    .dataframe tbody tr th:only-of-type {\n",
       "        vertical-align: middle;\n",
       "    }\n",
       "\n",
       "    .dataframe tbody tr th {\n",
       "        vertical-align: top;\n",
       "    }\n",
       "\n",
       "    .dataframe thead th {\n",
       "        text-align: right;\n",
       "    }\n",
       "</style>\n",
       "<table border=\"1\" class=\"dataframe\">\n",
       "  <thead>\n",
       "    <tr style=\"text-align: right;\">\n",
       "      <th></th>\n",
       "      <th>date</th>\n",
       "      <th>rougher.input.feed_au</th>\n",
       "      <th>rougher.input.feed_ag</th>\n",
       "      <th>rougher.input.feed_pb</th>\n",
       "      <th>rougher.input.feed_sol</th>\n",
       "      <th>rougher.input.feed_rate</th>\n",
       "      <th>rougher.input.feed_size</th>\n",
       "      <th>rougher.input.floatbank10_sulfate</th>\n",
       "      <th>rougher.input.floatbank10_xanthate</th>\n",
       "      <th>rougher.state.floatbank10_a_air</th>\n",
       "      <th>...</th>\n",
       "      <th>secondary_cleaner.state.floatbank4_a_air</th>\n",
       "      <th>secondary_cleaner.state.floatbank4_a_level</th>\n",
       "      <th>secondary_cleaner.state.floatbank4_b_air</th>\n",
       "      <th>secondary_cleaner.state.floatbank4_b_level</th>\n",
       "      <th>secondary_cleaner.state.floatbank5_a_air</th>\n",
       "      <th>secondary_cleaner.state.floatbank5_a_level</th>\n",
       "      <th>secondary_cleaner.state.floatbank5_b_air</th>\n",
       "      <th>secondary_cleaner.state.floatbank5_b_level</th>\n",
       "      <th>secondary_cleaner.state.floatbank6_a_air</th>\n",
       "      <th>secondary_cleaner.state.floatbank6_a_level</th>\n",
       "    </tr>\n",
       "  </thead>\n",
       "  <tbody>\n",
       "    <tr>\n",
       "      <th>0</th>\n",
       "      <td>2017-12-09 14:59:59</td>\n",
       "      <td>4.365491</td>\n",
       "      <td>6.158718</td>\n",
       "      <td>3.875727</td>\n",
       "      <td>39.135119</td>\n",
       "      <td>555.820208</td>\n",
       "      <td>94.544358</td>\n",
       "      <td>6.146982</td>\n",
       "      <td>9.308612</td>\n",
       "      <td>1196.238112</td>\n",
       "      <td>...</td>\n",
       "      <td>23.018622</td>\n",
       "      <td>-500.492702</td>\n",
       "      <td>20.020205</td>\n",
       "      <td>-500.220296</td>\n",
       "      <td>17.963512</td>\n",
       "      <td>-499.939490</td>\n",
       "      <td>12.990306</td>\n",
       "      <td>-500.080993</td>\n",
       "      <td>19.990336</td>\n",
       "      <td>-499.191575</td>\n",
       "    </tr>\n",
       "    <tr>\n",
       "      <th>1</th>\n",
       "      <td>2017-12-09 15:59:59</td>\n",
       "      <td>4.362781</td>\n",
       "      <td>6.048130</td>\n",
       "      <td>3.902537</td>\n",
       "      <td>39.713906</td>\n",
       "      <td>544.731687</td>\n",
       "      <td>123.742430</td>\n",
       "      <td>6.210119</td>\n",
       "      <td>9.297709</td>\n",
       "      <td>1201.904177</td>\n",
       "      <td>...</td>\n",
       "      <td>23.024963</td>\n",
       "      <td>-501.153409</td>\n",
       "      <td>20.054122</td>\n",
       "      <td>-500.314711</td>\n",
       "      <td>17.979515</td>\n",
       "      <td>-499.272871</td>\n",
       "      <td>12.992404</td>\n",
       "      <td>-499.976268</td>\n",
       "      <td>20.013986</td>\n",
       "      <td>-500.625471</td>\n",
       "    </tr>\n",
       "  </tbody>\n",
       "</table>\n",
       "<p>2 rows × 53 columns</p>\n",
       "</div>"
      ],
      "text/plain": [
       "                  date  rougher.input.feed_au  rougher.input.feed_ag  \\\n",
       "0  2017-12-09 14:59:59               4.365491               6.158718   \n",
       "1  2017-12-09 15:59:59               4.362781               6.048130   \n",
       "\n",
       "   rougher.input.feed_pb  rougher.input.feed_sol  rougher.input.feed_rate  \\\n",
       "0               3.875727               39.135119               555.820208   \n",
       "1               3.902537               39.713906               544.731687   \n",
       "\n",
       "   rougher.input.feed_size  rougher.input.floatbank10_sulfate  \\\n",
       "0                94.544358                           6.146982   \n",
       "1               123.742430                           6.210119   \n",
       "\n",
       "   rougher.input.floatbank10_xanthate  rougher.state.floatbank10_a_air  ...  \\\n",
       "0                            9.308612                      1196.238112  ...   \n",
       "1                            9.297709                      1201.904177  ...   \n",
       "\n",
       "   secondary_cleaner.state.floatbank4_a_air  \\\n",
       "0                                 23.018622   \n",
       "1                                 23.024963   \n",
       "\n",
       "   secondary_cleaner.state.floatbank4_a_level  \\\n",
       "0                                 -500.492702   \n",
       "1                                 -501.153409   \n",
       "\n",
       "   secondary_cleaner.state.floatbank4_b_air  \\\n",
       "0                                 20.020205   \n",
       "1                                 20.054122   \n",
       "\n",
       "   secondary_cleaner.state.floatbank4_b_level  \\\n",
       "0                                 -500.220296   \n",
       "1                                 -500.314711   \n",
       "\n",
       "   secondary_cleaner.state.floatbank5_a_air  \\\n",
       "0                                 17.963512   \n",
       "1                                 17.979515   \n",
       "\n",
       "   secondary_cleaner.state.floatbank5_a_level  \\\n",
       "0                                 -499.939490   \n",
       "1                                 -499.272871   \n",
       "\n",
       "   secondary_cleaner.state.floatbank5_b_air  \\\n",
       "0                                 12.990306   \n",
       "1                                 12.992404   \n",
       "\n",
       "   secondary_cleaner.state.floatbank5_b_level  \\\n",
       "0                                 -500.080993   \n",
       "1                                 -499.976268   \n",
       "\n",
       "   secondary_cleaner.state.floatbank6_a_air  \\\n",
       "0                                 19.990336   \n",
       "1                                 20.013986   \n",
       "\n",
       "   secondary_cleaner.state.floatbank6_a_level  \n",
       "0                                 -499.191575  \n",
       "1                                 -500.625471  \n",
       "\n",
       "[2 rows x 53 columns]"
      ]
     },
     "metadata": {},
     "output_type": "display_data"
    },
    {
     "data": {
      "text/html": [
       "<div>\n",
       "<style scoped>\n",
       "    .dataframe tbody tr th:only-of-type {\n",
       "        vertical-align: middle;\n",
       "    }\n",
       "\n",
       "    .dataframe tbody tr th {\n",
       "        vertical-align: top;\n",
       "    }\n",
       "\n",
       "    .dataframe thead th {\n",
       "        text-align: right;\n",
       "    }\n",
       "</style>\n",
       "<table border=\"1\" class=\"dataframe\">\n",
       "  <thead>\n",
       "    <tr style=\"text-align: right;\">\n",
       "      <th></th>\n",
       "      <th>date</th>\n",
       "      <th>rougher.input.feed_au</th>\n",
       "      <th>rougher.input.feed_ag</th>\n",
       "      <th>rougher.input.feed_pb</th>\n",
       "      <th>rougher.input.feed_sol</th>\n",
       "      <th>rougher.input.feed_rate</th>\n",
       "      <th>rougher.input.feed_size</th>\n",
       "      <th>rougher.input.floatbank10_sulfate</th>\n",
       "      <th>rougher.input.floatbank10_xanthate</th>\n",
       "      <th>rougher.state.floatbank10_a_air</th>\n",
       "      <th>...</th>\n",
       "      <th>secondary_cleaner.output.tail_sol</th>\n",
       "      <th>final.output.concentrate_au</th>\n",
       "      <th>final.output.concentrate_ag</th>\n",
       "      <th>final.output.concentrate_pb</th>\n",
       "      <th>final.output.concentrate_sol</th>\n",
       "      <th>final.output.recovery</th>\n",
       "      <th>final.output.tail_au</th>\n",
       "      <th>final.output.tail_ag</th>\n",
       "      <th>final.output.tail_pb</th>\n",
       "      <th>final.output.tail_sol</th>\n",
       "    </tr>\n",
       "  </thead>\n",
       "  <tbody>\n",
       "    <tr>\n",
       "      <th>0</th>\n",
       "      <td>2016-01-15 00:00:00</td>\n",
       "      <td>6.486150</td>\n",
       "      <td>6.100378</td>\n",
       "      <td>2.284912</td>\n",
       "      <td>36.808594</td>\n",
       "      <td>523.546326</td>\n",
       "      <td>55.486599</td>\n",
       "      <td>11.986616</td>\n",
       "      <td>6.007990</td>\n",
       "      <td>999.706909</td>\n",
       "      <td>...</td>\n",
       "      <td>8.764648</td>\n",
       "      <td>42.192020</td>\n",
       "      <td>6.055403</td>\n",
       "      <td>9.889648</td>\n",
       "      <td>5.507324</td>\n",
       "      <td>70.541216</td>\n",
       "      <td>2.143149</td>\n",
       "      <td>10.411962</td>\n",
       "      <td>0.895447</td>\n",
       "      <td>16.904297</td>\n",
       "    </tr>\n",
       "    <tr>\n",
       "      <th>1</th>\n",
       "      <td>2016-01-15 01:00:00</td>\n",
       "      <td>6.478583</td>\n",
       "      <td>6.161113</td>\n",
       "      <td>2.266033</td>\n",
       "      <td>35.753385</td>\n",
       "      <td>525.290581</td>\n",
       "      <td>57.278666</td>\n",
       "      <td>11.971193</td>\n",
       "      <td>6.005766</td>\n",
       "      <td>1000.286398</td>\n",
       "      <td>...</td>\n",
       "      <td>9.001494</td>\n",
       "      <td>42.701629</td>\n",
       "      <td>6.029369</td>\n",
       "      <td>9.968944</td>\n",
       "      <td>5.257781</td>\n",
       "      <td>69.266198</td>\n",
       "      <td>2.224930</td>\n",
       "      <td>10.462676</td>\n",
       "      <td>0.927452</td>\n",
       "      <td>16.634514</td>\n",
       "    </tr>\n",
       "  </tbody>\n",
       "</table>\n",
       "<p>2 rows × 87 columns</p>\n",
       "</div>"
      ],
      "text/plain": [
       "                  date  rougher.input.feed_au  rougher.input.feed_ag  \\\n",
       "0  2016-01-15 00:00:00               6.486150               6.100378   \n",
       "1  2016-01-15 01:00:00               6.478583               6.161113   \n",
       "\n",
       "   rougher.input.feed_pb  rougher.input.feed_sol  rougher.input.feed_rate  \\\n",
       "0               2.284912               36.808594               523.546326   \n",
       "1               2.266033               35.753385               525.290581   \n",
       "\n",
       "   rougher.input.feed_size  rougher.input.floatbank10_sulfate  \\\n",
       "0                55.486599                          11.986616   \n",
       "1                57.278666                          11.971193   \n",
       "\n",
       "   rougher.input.floatbank10_xanthate  rougher.state.floatbank10_a_air  ...  \\\n",
       "0                            6.007990                       999.706909  ...   \n",
       "1                            6.005766                      1000.286398  ...   \n",
       "\n",
       "   secondary_cleaner.output.tail_sol  final.output.concentrate_au  \\\n",
       "0                           8.764648                    42.192020   \n",
       "1                           9.001494                    42.701629   \n",
       "\n",
       "   final.output.concentrate_ag  final.output.concentrate_pb  \\\n",
       "0                     6.055403                     9.889648   \n",
       "1                     6.029369                     9.968944   \n",
       "\n",
       "   final.output.concentrate_sol  final.output.recovery  final.output.tail_au  \\\n",
       "0                      5.507324              70.541216              2.143149   \n",
       "1                      5.257781              69.266198              2.224930   \n",
       "\n",
       "   final.output.tail_ag  final.output.tail_pb  final.output.tail_sol  \n",
       "0             10.411962              0.895447              16.904297  \n",
       "1             10.462676              0.927452              16.634514  \n",
       "\n",
       "[2 rows x 87 columns]"
      ]
     },
     "metadata": {},
     "output_type": "display_data"
    }
   ],
   "source": [
    "display(gi_full.head(2))\n",
    "display(gi_test.head(2))\n",
    "display(gi_train.head(2))"
   ]
  },
  {
   "cell_type": "code",
   "execution_count": 131,
   "metadata": {
    "scrolled": false
   },
   "outputs": [
    {
     "name": "stdout",
     "output_type": "stream",
     "text": [
      "<class 'pandas.core.frame.DataFrame'>\n",
      "RangeIndex: 19439 entries, 0 to 19438\n",
      "Data columns (total 87 columns):\n",
      " #   Column                                              Non-Null Count  Dtype  \n",
      "---  ------                                              --------------  -----  \n",
      " 0   date                                                19439 non-null  object \n",
      " 1   rougher.input.feed_au                               19439 non-null  float64\n",
      " 2   rougher.input.feed_ag                               19439 non-null  float64\n",
      " 3   rougher.input.feed_pb                               19339 non-null  float64\n",
      " 4   rougher.input.feed_sol                              19340 non-null  float64\n",
      " 5   rougher.input.feed_rate                             19428 non-null  float64\n",
      " 6   rougher.input.feed_size                             19294 non-null  float64\n",
      " 7   rougher.input.floatbank10_sulfate                   19405 non-null  float64\n",
      " 8   rougher.input.floatbank10_xanthate                  19431 non-null  float64\n",
      " 9   rougher.state.floatbank10_a_air                     19438 non-null  float64\n",
      " 10  rougher.state.floatbank10_a_level                   19438 non-null  float64\n",
      " 11  rougher.state.floatbank10_b_air                     19438 non-null  float64\n",
      " 12  rougher.state.floatbank10_b_level                   19438 non-null  float64\n",
      " 13  rougher.state.floatbank10_c_air                     19438 non-null  float64\n",
      " 14  rougher.state.floatbank10_c_level                   19438 non-null  float64\n",
      " 15  rougher.state.floatbank10_d_air                     19439 non-null  float64\n",
      " 16  rougher.state.floatbank10_d_level                   19439 non-null  float64\n",
      " 17  rougher.state.floatbank10_e_air                     19003 non-null  float64\n",
      " 18  rougher.state.floatbank10_e_level                   19439 non-null  float64\n",
      " 19  rougher.state.floatbank10_f_air                     19439 non-null  float64\n",
      " 20  rougher.state.floatbank10_f_level                   19439 non-null  float64\n",
      " 21  rougher.input.floatbank11_sulfate                   19395 non-null  float64\n",
      " 22  rougher.input.floatbank11_xanthate                  18986 non-null  float64\n",
      " 23  rougher.calculation.sulfate_to_au_concentrate       19437 non-null  float64\n",
      " 24  rougher.calculation.floatbank10_sulfate_to_au_feed  19437 non-null  float64\n",
      " 25  rougher.calculation.floatbank11_sulfate_to_au_feed  19437 non-null  float64\n",
      " 26  rougher.calculation.au_pb_ratio                     19439 non-null  float64\n",
      " 27  rougher.output.concentrate_au                       19439 non-null  float64\n",
      " 28  rougher.output.concentrate_ag                       19439 non-null  float64\n",
      " 29  rougher.output.concentrate_pb                       19439 non-null  float64\n",
      " 30  rougher.output.concentrate_sol                      19416 non-null  float64\n",
      " 31  rougher.output.recovery                             19439 non-null  float64\n",
      " 32  rougher.output.tail_au                              19439 non-null  float64\n",
      " 33  rougher.output.tail_ag                              19438 non-null  float64\n",
      " 34  rougher.output.tail_pb                              19439 non-null  float64\n",
      " 35  rougher.output.tail_sol                             19439 non-null  float64\n",
      " 36  primary_cleaner.input.sulfate                       19415 non-null  float64\n",
      " 37  primary_cleaner.input.depressant                    19402 non-null  float64\n",
      " 38  primary_cleaner.input.feed_size                     19439 non-null  float64\n",
      " 39  primary_cleaner.input.xanthate                      19335 non-null  float64\n",
      " 40  primary_cleaner.state.floatbank8_a_air              19435 non-null  float64\n",
      " 41  primary_cleaner.state.floatbank8_a_level            19438 non-null  float64\n",
      " 42  primary_cleaner.state.floatbank8_b_air              19435 non-null  float64\n",
      " 43  primary_cleaner.state.floatbank8_b_level            19438 non-null  float64\n",
      " 44  primary_cleaner.state.floatbank8_c_air              19437 non-null  float64\n",
      " 45  primary_cleaner.state.floatbank8_c_level            19438 non-null  float64\n",
      " 46  primary_cleaner.state.floatbank8_d_air              19436 non-null  float64\n",
      " 47  primary_cleaner.state.floatbank8_d_level            19438 non-null  float64\n",
      " 48  primary_cleaner.output.concentrate_au               19439 non-null  float64\n",
      " 49  primary_cleaner.output.concentrate_ag               19439 non-null  float64\n",
      " 50  primary_cleaner.output.concentrate_pb               19323 non-null  float64\n",
      " 51  primary_cleaner.output.concentrate_sol              19069 non-null  float64\n",
      " 52  primary_cleaner.output.tail_au                      19439 non-null  float64\n",
      " 53  primary_cleaner.output.tail_ag                      19435 non-null  float64\n",
      " 54  primary_cleaner.output.tail_pb                      19418 non-null  float64\n",
      " 55  primary_cleaner.output.tail_sol                     19377 non-null  float64\n",
      " 56  secondary_cleaner.state.floatbank2_a_air            19219 non-null  float64\n",
      " 57  secondary_cleaner.state.floatbank2_a_level          19438 non-null  float64\n",
      " 58  secondary_cleaner.state.floatbank2_b_air            19416 non-null  float64\n",
      " 59  secondary_cleaner.state.floatbank2_b_level          19438 non-null  float64\n",
      " 60  secondary_cleaner.state.floatbank3_a_air            19426 non-null  float64\n",
      " 61  secondary_cleaner.state.floatbank3_a_level          19438 non-null  float64\n",
      " 62  secondary_cleaner.state.floatbank3_b_air            19438 non-null  float64\n",
      " 63  secondary_cleaner.state.floatbank3_b_level          19438 non-null  float64\n",
      " 64  secondary_cleaner.state.floatbank4_a_air            19433 non-null  float64\n",
      " 65  secondary_cleaner.state.floatbank4_a_level          19438 non-null  float64\n",
      " 66  secondary_cleaner.state.floatbank4_b_air            19438 non-null  float64\n",
      " 67  secondary_cleaner.state.floatbank4_b_level          19438 non-null  float64\n",
      " 68  secondary_cleaner.state.floatbank5_a_air            19438 non-null  float64\n",
      " 69  secondary_cleaner.state.floatbank5_a_level          19438 non-null  float64\n",
      " 70  secondary_cleaner.state.floatbank5_b_air            19438 non-null  float64\n",
      " 71  secondary_cleaner.state.floatbank5_b_level          19438 non-null  float64\n",
      " 72  secondary_cleaner.state.floatbank6_a_air            19437 non-null  float64\n",
      " 73  secondary_cleaner.state.floatbank6_a_level          19438 non-null  float64\n",
      " 74  secondary_cleaner.output.tail_au                    19439 non-null  float64\n",
      " 75  secondary_cleaner.output.tail_ag                    19437 non-null  float64\n",
      " 76  secondary_cleaner.output.tail_pb                    19427 non-null  float64\n",
      " 77  secondary_cleaner.output.tail_sol                   17691 non-null  float64\n",
      " 78  final.output.concentrate_au                         19439 non-null  float64\n",
      " 79  final.output.concentrate_ag                         19438 non-null  float64\n",
      " 80  final.output.concentrate_pb                         19438 non-null  float64\n",
      " 81  final.output.concentrate_sol                        19228 non-null  float64\n",
      " 82  final.output.recovery                               19439 non-null  float64\n",
      " 83  final.output.tail_au                                19439 non-null  float64\n",
      " 84  final.output.tail_ag                                19438 non-null  float64\n",
      " 85  final.output.tail_pb                                19338 non-null  float64\n",
      " 86  final.output.tail_sol                               19433 non-null  float64\n",
      "dtypes: float64(86), object(1)\n",
      "memory usage: 12.9+ MB\n"
     ]
    },
    {
     "data": {
      "text/plain": [
       "None"
      ]
     },
     "metadata": {},
     "output_type": "display_data"
    },
    {
     "name": "stdout",
     "output_type": "stream",
     "text": [
      "<class 'pandas.core.frame.DataFrame'>\n",
      "RangeIndex: 4860 entries, 0 to 4859\n",
      "Data columns (total 53 columns):\n",
      " #   Column                                      Non-Null Count  Dtype  \n",
      "---  ------                                      --------------  -----  \n",
      " 0   date                                        4860 non-null   object \n",
      " 1   rougher.input.feed_au                       4860 non-null   float64\n",
      " 2   rougher.input.feed_ag                       4860 non-null   float64\n",
      " 3   rougher.input.feed_pb                       4832 non-null   float64\n",
      " 4   rougher.input.feed_sol                      4838 non-null   float64\n",
      " 5   rougher.input.feed_rate                     4856 non-null   float64\n",
      " 6   rougher.input.feed_size                     4816 non-null   float64\n",
      " 7   rougher.input.floatbank10_sulfate           4857 non-null   float64\n",
      " 8   rougher.input.floatbank10_xanthate          4859 non-null   float64\n",
      " 9   rougher.state.floatbank10_a_air             4859 non-null   float64\n",
      " 10  rougher.state.floatbank10_a_level           4859 non-null   float64\n",
      " 11  rougher.state.floatbank10_b_air             4859 non-null   float64\n",
      " 12  rougher.state.floatbank10_b_level           4859 non-null   float64\n",
      " 13  rougher.state.floatbank10_c_air             4859 non-null   float64\n",
      " 14  rougher.state.floatbank10_c_level           4859 non-null   float64\n",
      " 15  rougher.state.floatbank10_d_air             4860 non-null   float64\n",
      " 16  rougher.state.floatbank10_d_level           4860 non-null   float64\n",
      " 17  rougher.state.floatbank10_e_air             4853 non-null   float64\n",
      " 18  rougher.state.floatbank10_e_level           4860 non-null   float64\n",
      " 19  rougher.state.floatbank10_f_air             4860 non-null   float64\n",
      " 20  rougher.state.floatbank10_f_level           4860 non-null   float64\n",
      " 21  rougher.input.floatbank11_sulfate           4852 non-null   float64\n",
      " 22  rougher.input.floatbank11_xanthate          4814 non-null   float64\n",
      " 23  primary_cleaner.input.sulfate               4859 non-null   float64\n",
      " 24  primary_cleaner.input.depressant            4851 non-null   float64\n",
      " 25  primary_cleaner.input.feed_size             4860 non-null   float64\n",
      " 26  primary_cleaner.input.xanthate              4817 non-null   float64\n",
      " 27  primary_cleaner.state.floatbank8_a_air      4859 non-null   float64\n",
      " 28  primary_cleaner.state.floatbank8_a_level    4859 non-null   float64\n",
      " 29  primary_cleaner.state.floatbank8_b_air      4859 non-null   float64\n",
      " 30  primary_cleaner.state.floatbank8_b_level    4859 non-null   float64\n",
      " 31  primary_cleaner.state.floatbank8_c_air      4858 non-null   float64\n",
      " 32  primary_cleaner.state.floatbank8_c_level    4859 non-null   float64\n",
      " 33  primary_cleaner.state.floatbank8_d_air      4858 non-null   float64\n",
      " 34  primary_cleaner.state.floatbank8_d_level    4859 non-null   float64\n",
      " 35  secondary_cleaner.state.floatbank2_a_air    4734 non-null   float64\n",
      " 36  secondary_cleaner.state.floatbank2_a_level  4859 non-null   float64\n",
      " 37  secondary_cleaner.state.floatbank2_b_air    4859 non-null   float64\n",
      " 38  secondary_cleaner.state.floatbank2_b_level  4859 non-null   float64\n",
      " 39  secondary_cleaner.state.floatbank3_a_air    4859 non-null   float64\n",
      " 40  secondary_cleaner.state.floatbank3_a_level  4859 non-null   float64\n",
      " 41  secondary_cleaner.state.floatbank3_b_air    4859 non-null   float64\n",
      " 42  secondary_cleaner.state.floatbank3_b_level  4859 non-null   float64\n",
      " 43  secondary_cleaner.state.floatbank4_a_air    4859 non-null   float64\n",
      " 44  secondary_cleaner.state.floatbank4_a_level  4859 non-null   float64\n",
      " 45  secondary_cleaner.state.floatbank4_b_air    4859 non-null   float64\n",
      " 46  secondary_cleaner.state.floatbank4_b_level  4859 non-null   float64\n",
      " 47  secondary_cleaner.state.floatbank5_a_air    4859 non-null   float64\n",
      " 48  secondary_cleaner.state.floatbank5_a_level  4859 non-null   float64\n",
      " 49  secondary_cleaner.state.floatbank5_b_air    4859 non-null   float64\n",
      " 50  secondary_cleaner.state.floatbank5_b_level  4859 non-null   float64\n",
      " 51  secondary_cleaner.state.floatbank6_a_air    4859 non-null   float64\n",
      " 52  secondary_cleaner.state.floatbank6_a_level  4859 non-null   float64\n",
      "dtypes: float64(52), object(1)\n",
      "memory usage: 2.0+ MB\n"
     ]
    },
    {
     "data": {
      "text/plain": [
       "None"
      ]
     },
     "metadata": {},
     "output_type": "display_data"
    },
    {
     "name": "stdout",
     "output_type": "stream",
     "text": [
      "<class 'pandas.core.frame.DataFrame'>\n",
      "RangeIndex: 14579 entries, 0 to 14578\n",
      "Data columns (total 87 columns):\n",
      " #   Column                                              Non-Null Count  Dtype  \n",
      "---  ------                                              --------------  -----  \n",
      " 0   date                                                14579 non-null  object \n",
      " 1   rougher.input.feed_au                               14579 non-null  float64\n",
      " 2   rougher.input.feed_ag                               14579 non-null  float64\n",
      " 3   rougher.input.feed_pb                               14507 non-null  float64\n",
      " 4   rougher.input.feed_sol                              14502 non-null  float64\n",
      " 5   rougher.input.feed_rate                             14572 non-null  float64\n",
      " 6   rougher.input.feed_size                             14478 non-null  float64\n",
      " 7   rougher.input.floatbank10_sulfate                   14548 non-null  float64\n",
      " 8   rougher.input.floatbank10_xanthate                  14572 non-null  float64\n",
      " 9   rougher.state.floatbank10_a_air                     14579 non-null  float64\n",
      " 10  rougher.state.floatbank10_a_level                   14579 non-null  float64\n",
      " 11  rougher.state.floatbank10_b_air                     14579 non-null  float64\n",
      " 12  rougher.state.floatbank10_b_level                   14579 non-null  float64\n",
      " 13  rougher.state.floatbank10_c_air                     14579 non-null  float64\n",
      " 14  rougher.state.floatbank10_c_level                   14579 non-null  float64\n",
      " 15  rougher.state.floatbank10_d_air                     14579 non-null  float64\n",
      " 16  rougher.state.floatbank10_d_level                   14579 non-null  float64\n",
      " 17  rougher.state.floatbank10_e_air                     14150 non-null  float64\n",
      " 18  rougher.state.floatbank10_e_level                   14579 non-null  float64\n",
      " 19  rougher.state.floatbank10_f_air                     14579 non-null  float64\n",
      " 20  rougher.state.floatbank10_f_level                   14579 non-null  float64\n",
      " 21  rougher.input.floatbank11_sulfate                   14543 non-null  float64\n",
      " 22  rougher.input.floatbank11_xanthate                  14172 non-null  float64\n",
      " 23  rougher.calculation.sulfate_to_au_concentrate       14578 non-null  float64\n",
      " 24  rougher.calculation.floatbank10_sulfate_to_au_feed  14578 non-null  float64\n",
      " 25  rougher.calculation.floatbank11_sulfate_to_au_feed  14578 non-null  float64\n",
      " 26  rougher.calculation.au_pb_ratio                     14579 non-null  float64\n",
      " 27  rougher.output.concentrate_au                       14579 non-null  float64\n",
      " 28  rougher.output.concentrate_ag                       14579 non-null  float64\n",
      " 29  rougher.output.concentrate_pb                       14579 non-null  float64\n",
      " 30  rougher.output.concentrate_sol                      14561 non-null  float64\n",
      " 31  rougher.output.recovery                             14579 non-null  float64\n",
      " 32  rougher.output.tail_au                              14579 non-null  float64\n",
      " 33  rougher.output.tail_ag                              14578 non-null  float64\n",
      " 34  rougher.output.tail_pb                              14579 non-null  float64\n",
      " 35  rougher.output.tail_sol                             14579 non-null  float64\n",
      " 36  primary_cleaner.input.sulfate                       14556 non-null  float64\n",
      " 37  primary_cleaner.input.depressant                    14551 non-null  float64\n",
      " 38  primary_cleaner.input.feed_size                     14579 non-null  float64\n",
      " 39  primary_cleaner.input.xanthate                      14518 non-null  float64\n",
      " 40  primary_cleaner.state.floatbank8_a_air              14576 non-null  float64\n",
      " 41  primary_cleaner.state.floatbank8_a_level            14579 non-null  float64\n",
      " 42  primary_cleaner.state.floatbank8_b_air              14576 non-null  float64\n",
      " 43  primary_cleaner.state.floatbank8_b_level            14579 non-null  float64\n",
      " 44  primary_cleaner.state.floatbank8_c_air              14579 non-null  float64\n",
      " 45  primary_cleaner.state.floatbank8_c_level            14579 non-null  float64\n",
      " 46  primary_cleaner.state.floatbank8_d_air              14578 non-null  float64\n",
      " 47  primary_cleaner.state.floatbank8_d_level            14579 non-null  float64\n",
      " 48  primary_cleaner.output.concentrate_au               14579 non-null  float64\n",
      " 49  primary_cleaner.output.concentrate_ag               14579 non-null  float64\n",
      " 50  primary_cleaner.output.concentrate_pb               14491 non-null  float64\n",
      " 51  primary_cleaner.output.concentrate_sol              14314 non-null  float64\n",
      " 52  primary_cleaner.output.tail_au                      14579 non-null  float64\n",
      " 53  primary_cleaner.output.tail_ag                      14575 non-null  float64\n",
      " 54  primary_cleaner.output.tail_pb                      14573 non-null  float64\n",
      " 55  primary_cleaner.output.tail_sol                     14534 non-null  float64\n",
      " 56  secondary_cleaner.state.floatbank2_a_air            14485 non-null  float64\n",
      " 57  secondary_cleaner.state.floatbank2_a_level          14579 non-null  float64\n",
      " 58  secondary_cleaner.state.floatbank2_b_air            14557 non-null  float64\n",
      " 59  secondary_cleaner.state.floatbank2_b_level          14579 non-null  float64\n",
      " 60  secondary_cleaner.state.floatbank3_a_air            14567 non-null  float64\n",
      " 61  secondary_cleaner.state.floatbank3_a_level          14579 non-null  float64\n",
      " 62  secondary_cleaner.state.floatbank3_b_air            14579 non-null  float64\n",
      " 63  secondary_cleaner.state.floatbank3_b_level          14579 non-null  float64\n",
      " 64  secondary_cleaner.state.floatbank4_a_air            14574 non-null  float64\n",
      " 65  secondary_cleaner.state.floatbank4_a_level          14579 non-null  float64\n",
      " 66  secondary_cleaner.state.floatbank4_b_air            14579 non-null  float64\n",
      " 67  secondary_cleaner.state.floatbank4_b_level          14579 non-null  float64\n",
      " 68  secondary_cleaner.state.floatbank5_a_air            14579 non-null  float64\n",
      " 69  secondary_cleaner.state.floatbank5_a_level          14579 non-null  float64\n",
      " 70  secondary_cleaner.state.floatbank5_b_air            14579 non-null  float64\n",
      " 71  secondary_cleaner.state.floatbank5_b_level          14579 non-null  float64\n",
      " 72  secondary_cleaner.state.floatbank6_a_air            14578 non-null  float64\n",
      " 73  secondary_cleaner.state.floatbank6_a_level          14579 non-null  float64\n",
      " 74  secondary_cleaner.output.tail_au                    14579 non-null  float64\n",
      " 75  secondary_cleaner.output.tail_ag                    14578 non-null  float64\n",
      " 76  secondary_cleaner.output.tail_pb                    14575 non-null  float64\n",
      " 77  secondary_cleaner.output.tail_sol                   13659 non-null  float64\n",
      " 78  final.output.concentrate_au                         14579 non-null  float64\n",
      " 79  final.output.concentrate_ag                         14578 non-null  float64\n",
      " 80  final.output.concentrate_pb                         14578 non-null  float64\n",
      " 81  final.output.concentrate_sol                        14387 non-null  float64\n",
      " 82  final.output.recovery                               14579 non-null  float64\n",
      " 83  final.output.tail_au                                14579 non-null  float64\n",
      " 84  final.output.tail_ag                                14578 non-null  float64\n",
      " 85  final.output.tail_pb                                14504 non-null  float64\n",
      " 86  final.output.tail_sol                               14574 non-null  float64\n",
      "dtypes: float64(86), object(1)\n",
      "memory usage: 9.7+ MB\n"
     ]
    },
    {
     "data": {
      "text/plain": [
       "None"
      ]
     },
     "metadata": {},
     "output_type": "display_data"
    }
   ],
   "source": [
    "display(gi_full.info())\n",
    "display(gi_test.info())\n",
    "display(gi_train.info())"
   ]
  },
  {
   "cell_type": "code",
   "execution_count": 132,
   "metadata": {},
   "outputs": [
    {
     "data": {
      "text/plain": [
       "0"
      ]
     },
     "metadata": {},
     "output_type": "display_data"
    },
    {
     "data": {
      "text/plain": [
       "0"
      ]
     },
     "metadata": {},
     "output_type": "display_data"
    },
    {
     "data": {
      "text/plain": [
       "0"
      ]
     },
     "metadata": {},
     "output_type": "display_data"
    }
   ],
   "source": [
    "display(gi_full.duplicated().sum())\n",
    "display(gi_test.duplicated().sum())\n",
    "display(gi_train.duplicated().sum())"
   ]
  },
  {
   "cell_type": "code",
   "execution_count": 133,
   "metadata": {},
   "outputs": [
    {
     "data": {
      "text/plain": [
       "4481"
      ]
     },
     "metadata": {},
     "output_type": "display_data"
    },
    {
     "data": {
      "text/plain": [
       "375"
      ]
     },
     "metadata": {},
     "output_type": "display_data"
    },
    {
     "data": {
      "text/plain": [
       "3050"
      ]
     },
     "metadata": {},
     "output_type": "display_data"
    }
   ],
   "source": [
    "display(gi_full.isna().sum().sum())\n",
    "display(gi_test.isna().sum().sum())\n",
    "display(gi_train.isna().sum().sum())"
   ]
  },
  {
   "cell_type": "code",
   "execution_count": 134,
   "metadata": {},
   "outputs": [],
   "source": [
    "gi_full['date'] = pd.to_datetime(gi_full['date'])\n",
    "gi_train['date'] = pd.to_datetime(gi_train['date'])\n",
    "gi_test['date'] = pd.to_datetime(gi_test['date'])"
   ]
  },
  {
   "cell_type": "code",
   "execution_count": 135,
   "metadata": {},
   "outputs": [],
   "source": [
    "gi_full.index = gi_full['date']\n",
    "gi_train.index = gi_train['date']\n",
    "gi_test.index = gi_test['date']"
   ]
  },
  {
   "cell_type": "code",
   "execution_count": 136,
   "metadata": {},
   "outputs": [],
   "source": [
    "gi_full.drop('date', axis = 1, inplace = True)\n",
    "gi_train.drop('date', axis = 1, inplace = True)\n",
    "gi_test.drop('date', axis = 1, inplace = True)"
   ]
  },
  {
   "cell_type": "code",
   "execution_count": 138,
   "metadata": {
    "scrolled": true
   },
   "outputs": [],
   "source": [
    "gi_test['final.output.recovery'] = gi_full['final.output.recovery'].loc[gi_test.index]\n",
    "gi_test['rougher.output.recovery'] = gi_full['rougher.output.recovery'].loc[gi_test.index]"
   ]
  },
  {
   "cell_type": "code",
   "execution_count": 142,
   "metadata": {},
   "outputs": [],
   "source": [
    "gi_full = gi_full.fillna(method = 'bfill')"
   ]
  },
  {
   "cell_type": "code",
   "execution_count": 143,
   "metadata": {},
   "outputs": [
    {
     "data": {
      "text/plain": [
       "0"
      ]
     },
     "execution_count": 143,
     "metadata": {},
     "output_type": "execute_result"
    }
   ],
   "source": [
    "gi_full.isna().sum().sum()"
   ]
  },
  {
   "cell_type": "code",
   "execution_count": 145,
   "metadata": {},
   "outputs": [],
   "source": [
    "gi_train_02 = gi_train.fillna(method = 'bfill')"
   ]
  },
  {
   "cell_type": "code",
   "execution_count": 146,
   "metadata": {},
   "outputs": [
    {
     "data": {
      "text/plain": [
       "0"
      ]
     },
     "execution_count": 146,
     "metadata": {},
     "output_type": "execute_result"
    }
   ],
   "source": [
    "gi_train_02.isna().sum().sum()"
   ]
  },
  {
   "cell_type": "code",
   "execution_count": 147,
   "metadata": {},
   "outputs": [
    {
     "data": {
      "text/plain": [
       "Index(['rougher.input.feed_au', 'rougher.input.feed_ag',\n",
       "       'rougher.input.feed_pb', 'rougher.input.feed_sol',\n",
       "       'rougher.input.feed_rate', 'rougher.input.feed_size',\n",
       "       'rougher.input.floatbank10_sulfate',\n",
       "       'rougher.input.floatbank10_xanthate', 'rougher.state.floatbank10_a_air',\n",
       "       'rougher.state.floatbank10_a_level', 'rougher.state.floatbank10_b_air',\n",
       "       'rougher.state.floatbank10_b_level', 'rougher.state.floatbank10_c_air',\n",
       "       'rougher.state.floatbank10_c_level', 'rougher.state.floatbank10_d_air',\n",
       "       'rougher.state.floatbank10_d_level', 'rougher.state.floatbank10_e_air',\n",
       "       'rougher.state.floatbank10_e_level', 'rougher.state.floatbank10_f_air',\n",
       "       'rougher.state.floatbank10_f_level',\n",
       "       'rougher.input.floatbank11_sulfate',\n",
       "       'rougher.input.floatbank11_xanthate',\n",
       "       'rougher.calculation.sulfate_to_au_concentrate',\n",
       "       'rougher.calculation.floatbank10_sulfate_to_au_feed',\n",
       "       'rougher.calculation.floatbank11_sulfate_to_au_feed',\n",
       "       'rougher.calculation.au_pb_ratio', 'rougher.output.concentrate_au',\n",
       "       'rougher.output.concentrate_ag', 'rougher.output.concentrate_pb',\n",
       "       'rougher.output.concentrate_sol', 'rougher.output.recovery',\n",
       "       'rougher.output.tail_au', 'rougher.output.tail_ag',\n",
       "       'rougher.output.tail_pb', 'rougher.output.tail_sol',\n",
       "       'primary_cleaner.input.sulfate', 'primary_cleaner.input.depressant',\n",
       "       'primary_cleaner.input.feed_size', 'primary_cleaner.input.xanthate',\n",
       "       'primary_cleaner.state.floatbank8_a_air',\n",
       "       'primary_cleaner.state.floatbank8_a_level',\n",
       "       'primary_cleaner.state.floatbank8_b_air',\n",
       "       'primary_cleaner.state.floatbank8_b_level',\n",
       "       'primary_cleaner.state.floatbank8_c_air',\n",
       "       'primary_cleaner.state.floatbank8_c_level',\n",
       "       'primary_cleaner.state.floatbank8_d_air',\n",
       "       'primary_cleaner.state.floatbank8_d_level',\n",
       "       'primary_cleaner.output.concentrate_au',\n",
       "       'primary_cleaner.output.concentrate_ag',\n",
       "       'primary_cleaner.output.concentrate_pb',\n",
       "       'primary_cleaner.output.concentrate_sol',\n",
       "       'primary_cleaner.output.tail_au', 'primary_cleaner.output.tail_ag',\n",
       "       'primary_cleaner.output.tail_pb', 'primary_cleaner.output.tail_sol',\n",
       "       'secondary_cleaner.state.floatbank2_a_air',\n",
       "       'secondary_cleaner.state.floatbank2_a_level',\n",
       "       'secondary_cleaner.state.floatbank2_b_air',\n",
       "       'secondary_cleaner.state.floatbank2_b_level',\n",
       "       'secondary_cleaner.state.floatbank3_a_air',\n",
       "       'secondary_cleaner.state.floatbank3_a_level',\n",
       "       'secondary_cleaner.state.floatbank3_b_air',\n",
       "       'secondary_cleaner.state.floatbank3_b_level',\n",
       "       'secondary_cleaner.state.floatbank4_a_air',\n",
       "       'secondary_cleaner.state.floatbank4_a_level',\n",
       "       'secondary_cleaner.state.floatbank4_b_air',\n",
       "       'secondary_cleaner.state.floatbank4_b_level',\n",
       "       'secondary_cleaner.state.floatbank5_a_air',\n",
       "       'secondary_cleaner.state.floatbank5_a_level',\n",
       "       'secondary_cleaner.state.floatbank5_b_air',\n",
       "       'secondary_cleaner.state.floatbank5_b_level',\n",
       "       'secondary_cleaner.state.floatbank6_a_air',\n",
       "       'secondary_cleaner.state.floatbank6_a_level',\n",
       "       'secondary_cleaner.output.tail_au', 'secondary_cleaner.output.tail_ag',\n",
       "       'secondary_cleaner.output.tail_pb', 'secondary_cleaner.output.tail_sol',\n",
       "       'final.output.concentrate_au', 'final.output.concentrate_ag',\n",
       "       'final.output.concentrate_pb', 'final.output.concentrate_sol',\n",
       "       'final.output.recovery', 'final.output.tail_au', 'final.output.tail_ag',\n",
       "       'final.output.tail_pb', 'final.output.tail_sol'],\n",
       "      dtype='object')"
      ]
     },
     "execution_count": 147,
     "metadata": {},
     "output_type": "execute_result"
    }
   ],
   "source": [
    "gi_full.columns"
   ]
  },
  {
   "cell_type": "markdown",
   "metadata": {},
   "source": [
    "### Выводы по этапу \"Подготовка данных\""
   ]
  },
  {
   "cell_type": "markdown",
   "metadata": {},
   "source": [
    "1. Дубликаты отсутствуют\n",
    "2. Пустые значений в сете full заполнил медианой, потом с помощью индексирования сопоставил данные для остальных сетов\n",
    "3. Признак Date перевел в datetime и определил в качестве индекса"
   ]
  },
  {
   "cell_type": "code",
   "execution_count": 148,
   "metadata": {
    "scrolled": true
   },
   "outputs": [
    {
     "data": {
      "text/html": [
       "<div>\n",
       "<style scoped>\n",
       "    .dataframe tbody tr th:only-of-type {\n",
       "        vertical-align: middle;\n",
       "    }\n",
       "\n",
       "    .dataframe tbody tr th {\n",
       "        vertical-align: top;\n",
       "    }\n",
       "\n",
       "    .dataframe thead th {\n",
       "        text-align: right;\n",
       "    }\n",
       "</style>\n",
       "<table border=\"1\" class=\"dataframe\">\n",
       "  <thead>\n",
       "    <tr style=\"text-align: right;\">\n",
       "      <th></th>\n",
       "      <th>rougher.input.feed_au</th>\n",
       "      <th>rougher.output.concentrate_au</th>\n",
       "      <th>rougher.output.tail_au</th>\n",
       "      <th>primary_cleaner.output.concentrate_au</th>\n",
       "      <th>primary_cleaner.output.tail_au</th>\n",
       "      <th>secondary_cleaner.output.tail_au</th>\n",
       "      <th>final.output.concentrate_au</th>\n",
       "      <th>final.output.tail_au</th>\n",
       "    </tr>\n",
       "    <tr>\n",
       "      <th>date</th>\n",
       "      <th></th>\n",
       "      <th></th>\n",
       "      <th></th>\n",
       "      <th></th>\n",
       "      <th></th>\n",
       "      <th></th>\n",
       "      <th></th>\n",
       "      <th></th>\n",
       "    </tr>\n",
       "  </thead>\n",
       "  <tbody>\n",
       "    <tr>\n",
       "      <th>2016-01-15 00:00:00</th>\n",
       "      <td>6.486150</td>\n",
       "      <td>19.793808</td>\n",
       "      <td>1.170244</td>\n",
       "      <td>34.174427</td>\n",
       "      <td>2.106679</td>\n",
       "      <td>2.606185</td>\n",
       "      <td>42.192020</td>\n",
       "      <td>2.143149</td>\n",
       "    </tr>\n",
       "    <tr>\n",
       "      <th>2016-01-15 01:00:00</th>\n",
       "      <td>6.478583</td>\n",
       "      <td>20.050975</td>\n",
       "      <td>1.184827</td>\n",
       "      <td>34.118526</td>\n",
       "      <td>2.353017</td>\n",
       "      <td>2.488248</td>\n",
       "      <td>42.701629</td>\n",
       "      <td>2.224930</td>\n",
       "    </tr>\n",
       "  </tbody>\n",
       "</table>\n",
       "</div>"
      ],
      "text/plain": [
       "                     rougher.input.feed_au  rougher.output.concentrate_au  \\\n",
       "date                                                                        \n",
       "2016-01-15 00:00:00               6.486150                      19.793808   \n",
       "2016-01-15 01:00:00               6.478583                      20.050975   \n",
       "\n",
       "                     rougher.output.tail_au  \\\n",
       "date                                          \n",
       "2016-01-15 00:00:00                1.170244   \n",
       "2016-01-15 01:00:00                1.184827   \n",
       "\n",
       "                     primary_cleaner.output.concentrate_au  \\\n",
       "date                                                         \n",
       "2016-01-15 00:00:00                              34.174427   \n",
       "2016-01-15 01:00:00                              34.118526   \n",
       "\n",
       "                     primary_cleaner.output.tail_au  \\\n",
       "date                                                  \n",
       "2016-01-15 00:00:00                        2.106679   \n",
       "2016-01-15 01:00:00                        2.353017   \n",
       "\n",
       "                     secondary_cleaner.output.tail_au  \\\n",
       "date                                                    \n",
       "2016-01-15 00:00:00                          2.606185   \n",
       "2016-01-15 01:00:00                          2.488248   \n",
       "\n",
       "                     final.output.concentrate_au  final.output.tail_au  \n",
       "date                                                                    \n",
       "2016-01-15 00:00:00                    42.192020              2.143149  \n",
       "2016-01-15 01:00:00                    42.701629              2.224930  "
      ]
     },
     "execution_count": 148,
     "metadata": {},
     "output_type": "execute_result"
    }
   ],
   "source": [
    "#параметры, связанные с содержанием золота на каждом из этапов\n",
    "gi_full[['rougher.input.feed_au',\n",
    "        'rougher.output.concentrate_au',\n",
    "        'rougher.output.tail_au',\n",
    "        'primary_cleaner.output.concentrate_au',\n",
    "        'primary_cleaner.output.tail_au',\n",
    "        'secondary_cleaner.output.tail_au',\n",
    "        'final.output.concentrate_au',\n",
    "        'final.output.tail_au']].head(2)"
   ]
  },
  {
   "cell_type": "markdown",
   "metadata": {},
   "source": [
    "## Анализ данных"
   ]
  },
  {
   "cell_type": "markdown",
   "metadata": {},
   "source": [
    "### Расчет эффективности "
   ]
  },
  {
   "cell_type": "markdown",
   "metadata": {},
   "source": [
    "### 1.2. Проверьте, что эффективность обогащения рассчитана правильно. Вычислите её на обучающей выборке для признака rougher.output.recovery. Найдите MAE между вашими расчётами и значением признака. Опишите выводы."
   ]
  },
  {
   "cell_type": "code",
   "execution_count": 149,
   "metadata": {},
   "outputs": [],
   "source": [
    "C = gi_train_02['rougher.output.concentrate_au']\n",
    "F = gi_train_02['rougher.input.feed_au']\n",
    "T = gi_train_02['rougher.output.tail_au']"
   ]
  },
  {
   "cell_type": "code",
   "execution_count": 150,
   "metadata": {},
   "outputs": [],
   "source": [
    "recovery = ((C*(F-T))/(F*(C-T)))*100"
   ]
  },
  {
   "cell_type": "code",
   "execution_count": 151,
   "metadata": {},
   "outputs": [],
   "source": [
    "mae_recovery = mean_absolute_error(gi_train_02['rougher.output.recovery'], recovery)"
   ]
  },
  {
   "cell_type": "code",
   "execution_count": 152,
   "metadata": {},
   "outputs": [
    {
     "name": "stdout",
     "output_type": "stream",
     "text": [
      "При расчете, среднее абсолютное отклонение составило 0\n"
     ]
    }
   ],
   "source": [
    "print('При расчете, среднее абсолютное отклонение составило', round(mae_recovery))"
   ]
  },
  {
   "cell_type": "markdown",
   "metadata": {},
   "source": [
    "### 1.3. Проанализируйте признаки, недоступные в тестовой выборке. Что это за параметры? К какому типу относятся?"
   ]
  },
  {
   "cell_type": "code",
   "execution_count": 153,
   "metadata": {},
   "outputs": [
    {
     "data": {
      "text/plain": [
       "Index(['rougher.input.feed_au', 'rougher.input.feed_ag',\n",
       "       'rougher.input.feed_pb', 'rougher.input.feed_sol',\n",
       "       'rougher.input.feed_rate', 'rougher.input.feed_size',\n",
       "       'rougher.input.floatbank10_sulfate',\n",
       "       'rougher.input.floatbank10_xanthate', 'rougher.state.floatbank10_a_air',\n",
       "       'rougher.state.floatbank10_a_level', 'rougher.state.floatbank10_b_air',\n",
       "       'rougher.state.floatbank10_b_level', 'rougher.state.floatbank10_c_air',\n",
       "       'rougher.state.floatbank10_c_level', 'rougher.state.floatbank10_d_air',\n",
       "       'rougher.state.floatbank10_d_level', 'rougher.state.floatbank10_e_air',\n",
       "       'rougher.state.floatbank10_e_level', 'rougher.state.floatbank10_f_air',\n",
       "       'rougher.state.floatbank10_f_level',\n",
       "       'rougher.input.floatbank11_sulfate',\n",
       "       'rougher.input.floatbank11_xanthate', 'primary_cleaner.input.sulfate',\n",
       "       'primary_cleaner.input.depressant', 'primary_cleaner.input.feed_size',\n",
       "       'primary_cleaner.input.xanthate',\n",
       "       'primary_cleaner.state.floatbank8_a_air',\n",
       "       'primary_cleaner.state.floatbank8_a_level',\n",
       "       'primary_cleaner.state.floatbank8_b_air',\n",
       "       'primary_cleaner.state.floatbank8_b_level',\n",
       "       'primary_cleaner.state.floatbank8_c_air',\n",
       "       'primary_cleaner.state.floatbank8_c_level',\n",
       "       'primary_cleaner.state.floatbank8_d_air',\n",
       "       'primary_cleaner.state.floatbank8_d_level',\n",
       "       'secondary_cleaner.state.floatbank2_a_air',\n",
       "       'secondary_cleaner.state.floatbank2_a_level',\n",
       "       'secondary_cleaner.state.floatbank2_b_air',\n",
       "       'secondary_cleaner.state.floatbank2_b_level',\n",
       "       'secondary_cleaner.state.floatbank3_a_air',\n",
       "       'secondary_cleaner.state.floatbank3_a_level',\n",
       "       'secondary_cleaner.state.floatbank3_b_air',\n",
       "       'secondary_cleaner.state.floatbank3_b_level',\n",
       "       'secondary_cleaner.state.floatbank4_a_air',\n",
       "       'secondary_cleaner.state.floatbank4_a_level',\n",
       "       'secondary_cleaner.state.floatbank4_b_air',\n",
       "       'secondary_cleaner.state.floatbank4_b_level',\n",
       "       'secondary_cleaner.state.floatbank5_a_air',\n",
       "       'secondary_cleaner.state.floatbank5_a_level',\n",
       "       'secondary_cleaner.state.floatbank5_b_air',\n",
       "       'secondary_cleaner.state.floatbank5_b_level',\n",
       "       'secondary_cleaner.state.floatbank6_a_air',\n",
       "       'secondary_cleaner.state.floatbank6_a_level', 'final.output.recovery',\n",
       "       'rougher.output.recovery'],\n",
       "      dtype='object')"
      ]
     },
     "execution_count": 153,
     "metadata": {},
     "output_type": "execute_result"
    }
   ],
   "source": [
    "gi_test.columns"
   ]
  },
  {
   "cell_type": "code",
   "execution_count": 154,
   "metadata": {},
   "outputs": [
    {
     "data": {
      "text/plain": [
       "Index(['rougher.input.feed_au', 'rougher.input.feed_ag',\n",
       "       'rougher.input.feed_pb', 'rougher.input.feed_sol',\n",
       "       'rougher.input.feed_rate', 'rougher.input.feed_size',\n",
       "       'rougher.input.floatbank10_sulfate',\n",
       "       'rougher.input.floatbank10_xanthate', 'rougher.state.floatbank10_a_air',\n",
       "       'rougher.state.floatbank10_a_level', 'rougher.state.floatbank10_b_air',\n",
       "       'rougher.state.floatbank10_b_level', 'rougher.state.floatbank10_c_air',\n",
       "       'rougher.state.floatbank10_c_level', 'rougher.state.floatbank10_d_air',\n",
       "       'rougher.state.floatbank10_d_level', 'rougher.state.floatbank10_e_air',\n",
       "       'rougher.state.floatbank10_e_level', 'rougher.state.floatbank10_f_air',\n",
       "       'rougher.state.floatbank10_f_level',\n",
       "       'rougher.input.floatbank11_sulfate',\n",
       "       'rougher.input.floatbank11_xanthate',\n",
       "       'rougher.calculation.sulfate_to_au_concentrate',\n",
       "       'rougher.calculation.floatbank10_sulfate_to_au_feed',\n",
       "       'rougher.calculation.floatbank11_sulfate_to_au_feed',\n",
       "       'rougher.calculation.au_pb_ratio', 'rougher.output.concentrate_au',\n",
       "       'rougher.output.concentrate_ag', 'rougher.output.concentrate_pb',\n",
       "       'rougher.output.concentrate_sol', 'rougher.output.recovery',\n",
       "       'rougher.output.tail_au', 'rougher.output.tail_ag',\n",
       "       'rougher.output.tail_pb', 'rougher.output.tail_sol',\n",
       "       'primary_cleaner.input.sulfate', 'primary_cleaner.input.depressant',\n",
       "       'primary_cleaner.input.feed_size', 'primary_cleaner.input.xanthate',\n",
       "       'primary_cleaner.state.floatbank8_a_air',\n",
       "       'primary_cleaner.state.floatbank8_a_level',\n",
       "       'primary_cleaner.state.floatbank8_b_air',\n",
       "       'primary_cleaner.state.floatbank8_b_level',\n",
       "       'primary_cleaner.state.floatbank8_c_air',\n",
       "       'primary_cleaner.state.floatbank8_c_level',\n",
       "       'primary_cleaner.state.floatbank8_d_air',\n",
       "       'primary_cleaner.state.floatbank8_d_level',\n",
       "       'primary_cleaner.output.concentrate_au',\n",
       "       'primary_cleaner.output.concentrate_ag',\n",
       "       'primary_cleaner.output.concentrate_pb',\n",
       "       'primary_cleaner.output.concentrate_sol',\n",
       "       'primary_cleaner.output.tail_au', 'primary_cleaner.output.tail_ag',\n",
       "       'primary_cleaner.output.tail_pb', 'primary_cleaner.output.tail_sol',\n",
       "       'secondary_cleaner.state.floatbank2_a_air',\n",
       "       'secondary_cleaner.state.floatbank2_a_level',\n",
       "       'secondary_cleaner.state.floatbank2_b_air',\n",
       "       'secondary_cleaner.state.floatbank2_b_level',\n",
       "       'secondary_cleaner.state.floatbank3_a_air',\n",
       "       'secondary_cleaner.state.floatbank3_a_level',\n",
       "       'secondary_cleaner.state.floatbank3_b_air',\n",
       "       'secondary_cleaner.state.floatbank3_b_level',\n",
       "       'secondary_cleaner.state.floatbank4_a_air',\n",
       "       'secondary_cleaner.state.floatbank4_a_level',\n",
       "       'secondary_cleaner.state.floatbank4_b_air',\n",
       "       'secondary_cleaner.state.floatbank4_b_level',\n",
       "       'secondary_cleaner.state.floatbank5_a_air',\n",
       "       'secondary_cleaner.state.floatbank5_a_level',\n",
       "       'secondary_cleaner.state.floatbank5_b_air',\n",
       "       'secondary_cleaner.state.floatbank5_b_level',\n",
       "       'secondary_cleaner.state.floatbank6_a_air',\n",
       "       'secondary_cleaner.state.floatbank6_a_level',\n",
       "       'secondary_cleaner.output.tail_au', 'secondary_cleaner.output.tail_ag',\n",
       "       'secondary_cleaner.output.tail_pb', 'secondary_cleaner.output.tail_sol',\n",
       "       'final.output.concentrate_au', 'final.output.concentrate_ag',\n",
       "       'final.output.concentrate_pb', 'final.output.concentrate_sol',\n",
       "       'final.output.recovery', 'final.output.tail_au', 'final.output.tail_ag',\n",
       "       'final.output.tail_pb', 'final.output.tail_sol'],\n",
       "      dtype='object')"
      ]
     },
     "execution_count": 154,
     "metadata": {},
     "output_type": "execute_result"
    }
   ],
   "source": [
    "gi_full.columns"
   ]
  },
  {
   "cell_type": "markdown",
   "metadata": {},
   "source": [
    "**В тестовой выборке нет финальный данных, данных по хвостам, промежуточных выходных показателей по концентраии металлов**"
   ]
  },
  {
   "cell_type": "code",
   "execution_count": 155,
   "metadata": {},
   "outputs": [],
   "source": [
    "gi_test_02 = gi_test.fillna(method = 'bfill')"
   ]
  },
  {
   "cell_type": "code",
   "execution_count": 156,
   "metadata": {},
   "outputs": [
    {
     "data": {
      "text/plain": [
       "0"
      ]
     },
     "execution_count": 156,
     "metadata": {},
     "output_type": "execute_result"
    }
   ],
   "source": [
    "gi_test_02.isna().sum().sum()"
   ]
  },
  {
   "cell_type": "code",
   "execution_count": 157,
   "metadata": {},
   "outputs": [
    {
     "data": {
      "text/plain": [
       "(4860, 54)"
      ]
     },
     "execution_count": 157,
     "metadata": {},
     "output_type": "execute_result"
    }
   ],
   "source": [
    "gi_test_02.shape"
   ]
  },
  {
   "cell_type": "code",
   "execution_count": 158,
   "metadata": {
    "scrolled": true
   },
   "outputs": [
    {
     "data": {
      "text/plain": [
       "0"
      ]
     },
     "execution_count": 158,
     "metadata": {},
     "output_type": "execute_result"
    }
   ],
   "source": [
    "gi_full.isna().sum().sum()"
   ]
  },
  {
   "cell_type": "markdown",
   "metadata": {},
   "source": [
    "# 2. Проанализируйте данные"
   ]
  },
  {
   "cell_type": "markdown",
   "metadata": {},
   "source": [
    "## 2.1. Посмотрите, как меняется концентрация металлов (Au, Ag, Pb) на различных этапах: в сырье, в черновом концентрате, в концентрате после первой очистки и в финальном концентрате. Какие особенности имеют распределения? Опишите выводы."
   ]
  },
  {
   "cell_type": "code",
   "execution_count": 159,
   "metadata": {},
   "outputs": [
    {
     "data": {
      "text/plain": [
       "Index(['rougher.input.feed_au', 'rougher.input.feed_ag',\n",
       "       'rougher.input.feed_pb', 'rougher.input.feed_sol',\n",
       "       'rougher.input.feed_rate', 'rougher.input.feed_size',\n",
       "       'rougher.input.floatbank10_sulfate',\n",
       "       'rougher.input.floatbank10_xanthate', 'rougher.state.floatbank10_a_air',\n",
       "       'rougher.state.floatbank10_a_level', 'rougher.state.floatbank10_b_air',\n",
       "       'rougher.state.floatbank10_b_level', 'rougher.state.floatbank10_c_air',\n",
       "       'rougher.state.floatbank10_c_level', 'rougher.state.floatbank10_d_air',\n",
       "       'rougher.state.floatbank10_d_level', 'rougher.state.floatbank10_e_air',\n",
       "       'rougher.state.floatbank10_e_level', 'rougher.state.floatbank10_f_air',\n",
       "       'rougher.state.floatbank10_f_level',\n",
       "       'rougher.input.floatbank11_sulfate',\n",
       "       'rougher.input.floatbank11_xanthate',\n",
       "       'rougher.calculation.sulfate_to_au_concentrate',\n",
       "       'rougher.calculation.floatbank10_sulfate_to_au_feed',\n",
       "       'rougher.calculation.floatbank11_sulfate_to_au_feed',\n",
       "       'rougher.calculation.au_pb_ratio', 'rougher.output.concentrate_au',\n",
       "       'rougher.output.concentrate_ag', 'rougher.output.concentrate_pb',\n",
       "       'rougher.output.concentrate_sol', 'rougher.output.recovery',\n",
       "       'rougher.output.tail_au', 'rougher.output.tail_ag',\n",
       "       'rougher.output.tail_pb', 'rougher.output.tail_sol',\n",
       "       'primary_cleaner.input.sulfate', 'primary_cleaner.input.depressant',\n",
       "       'primary_cleaner.input.feed_size', 'primary_cleaner.input.xanthate',\n",
       "       'primary_cleaner.state.floatbank8_a_air',\n",
       "       'primary_cleaner.state.floatbank8_a_level',\n",
       "       'primary_cleaner.state.floatbank8_b_air',\n",
       "       'primary_cleaner.state.floatbank8_b_level',\n",
       "       'primary_cleaner.state.floatbank8_c_air',\n",
       "       'primary_cleaner.state.floatbank8_c_level',\n",
       "       'primary_cleaner.state.floatbank8_d_air',\n",
       "       'primary_cleaner.state.floatbank8_d_level',\n",
       "       'primary_cleaner.output.concentrate_au',\n",
       "       'primary_cleaner.output.concentrate_ag',\n",
       "       'primary_cleaner.output.concentrate_pb',\n",
       "       'primary_cleaner.output.concentrate_sol',\n",
       "       'primary_cleaner.output.tail_au', 'primary_cleaner.output.tail_ag',\n",
       "       'primary_cleaner.output.tail_pb', 'primary_cleaner.output.tail_sol',\n",
       "       'secondary_cleaner.state.floatbank2_a_air',\n",
       "       'secondary_cleaner.state.floatbank2_a_level',\n",
       "       'secondary_cleaner.state.floatbank2_b_air',\n",
       "       'secondary_cleaner.state.floatbank2_b_level',\n",
       "       'secondary_cleaner.state.floatbank3_a_air',\n",
       "       'secondary_cleaner.state.floatbank3_a_level',\n",
       "       'secondary_cleaner.state.floatbank3_b_air',\n",
       "       'secondary_cleaner.state.floatbank3_b_level',\n",
       "       'secondary_cleaner.state.floatbank4_a_air',\n",
       "       'secondary_cleaner.state.floatbank4_a_level',\n",
       "       'secondary_cleaner.state.floatbank4_b_air',\n",
       "       'secondary_cleaner.state.floatbank4_b_level',\n",
       "       'secondary_cleaner.state.floatbank5_a_air',\n",
       "       'secondary_cleaner.state.floatbank5_a_level',\n",
       "       'secondary_cleaner.state.floatbank5_b_air',\n",
       "       'secondary_cleaner.state.floatbank5_b_level',\n",
       "       'secondary_cleaner.state.floatbank6_a_air',\n",
       "       'secondary_cleaner.state.floatbank6_a_level',\n",
       "       'secondary_cleaner.output.tail_au', 'secondary_cleaner.output.tail_ag',\n",
       "       'secondary_cleaner.output.tail_pb', 'secondary_cleaner.output.tail_sol',\n",
       "       'final.output.concentrate_au', 'final.output.concentrate_ag',\n",
       "       'final.output.concentrate_pb', 'final.output.concentrate_sol',\n",
       "       'final.output.recovery', 'final.output.tail_au', 'final.output.tail_ag',\n",
       "       'final.output.tail_pb', 'final.output.tail_sol'],\n",
       "      dtype='object')"
      ]
     },
     "execution_count": 159,
     "metadata": {},
     "output_type": "execute_result"
    }
   ],
   "source": [
    "gi_full.columns"
   ]
  },
  {
   "cell_type": "code",
   "execution_count": 160,
   "metadata": {},
   "outputs": [],
   "source": [
    "raw_material = gi_train_02[['rougher.input.feed_au', 'rougher.input.feed_ag','rougher.input.feed_pb']]\n",
    "after_rougher = gi_train_02[['rougher.output.concentrate_au','rougher.output.concentrate_ag', 'rougher.output.concentrate_pb']]\n",
    "after_primary = gi_train_02[['primary_cleaner.output.concentrate_au','primary_cleaner.output.concentrate_ag','primary_cleaner.output.concentrate_pb']]\n",
    "final = gi_train_02[['final.output.concentrate_au', 'final.output.concentrate_ag','final.output.concentrate_pb']]"
   ]
  },
  {
   "cell_type": "code",
   "execution_count": 161,
   "metadata": {},
   "outputs": [
    {
     "name": "stdout",
     "output_type": "stream",
     "text": [
      "raw_material_median\n"
     ]
    },
    {
     "data": {
      "text/plain": [
       "rougher.input.feed_au    8.225284\n",
       "rougher.input.feed_ag    8.715859\n",
       "rougher.input.feed_pb    3.524599\n",
       "dtype: float64"
      ]
     },
     "metadata": {},
     "output_type": "display_data"
    },
    {
     "name": "stdout",
     "output_type": "stream",
     "text": [
      "------------------------\n",
      "after_rougher_median\n"
     ]
    },
    {
     "data": {
      "text/plain": [
       "rougher.output.concentrate_au    20.329736\n",
       "rougher.output.concentrate_ag    12.136445\n",
       "rougher.output.concentrate_pb     7.705023\n",
       "dtype: float64"
      ]
     },
     "metadata": {},
     "output_type": "display_data"
    },
    {
     "name": "stdout",
     "output_type": "stream",
     "text": [
      "------------------------\n",
      "after_primary_median\n"
     ]
    },
    {
     "data": {
      "text/plain": [
       "primary_cleaner.output.concentrate_au    32.837748\n",
       "primary_cleaner.output.concentrate_ag     8.555670\n",
       "primary_cleaner.output.concentrate_pb    10.111975\n",
       "dtype: float64"
      ]
     },
     "metadata": {},
     "output_type": "display_data"
    },
    {
     "name": "stdout",
     "output_type": "stream",
     "text": [
      "------------------------\n",
      "final_median\n"
     ]
    },
    {
     "data": {
      "text/plain": [
       "final.output.concentrate_au    44.975014\n",
       "final.output.concentrate_ag     5.118581\n",
       "final.output.concentrate_pb    10.046303\n",
       "dtype: float64"
      ]
     },
     "metadata": {},
     "output_type": "display_data"
    }
   ],
   "source": [
    "print('raw_material_median')\n",
    "display(raw_material.median())\n",
    "print('------------------------')\n",
    "print('after_rougher_median')\n",
    "display(after_rougher.median())\n",
    "print('------------------------')\n",
    "print('after_primary_median')\n",
    "display(after_primary.median())\n",
    "print('------------------------')\n",
    "print('final_median')\n",
    "display(final.median())"
   ]
  },
  {
   "cell_type": "code",
   "execution_count": 162,
   "metadata": {},
   "outputs": [
    {
     "name": "stdout",
     "output_type": "stream",
     "text": [
      "raw_material_mean\n"
     ]
    },
    {
     "data": {
      "text/plain": [
       "rougher.input.feed_au    8.352941\n",
       "rougher.input.feed_ag    8.877460\n",
       "rougher.input.feed_pb    3.593873\n",
       "dtype: float64"
      ]
     },
     "metadata": {},
     "output_type": "display_data"
    },
    {
     "name": "stdout",
     "output_type": "stream",
     "text": [
      "------------------------\n",
      "after_rougher_mean\n"
     ]
    },
    {
     "data": {
      "text/plain": [
       "rougher.output.concentrate_au    19.717470\n",
       "rougher.output.concentrate_ag    11.944253\n",
       "rougher.output.concentrate_pb     7.498953\n",
       "dtype: float64"
      ]
     },
     "metadata": {},
     "output_type": "display_data"
    },
    {
     "name": "stdout",
     "output_type": "stream",
     "text": [
      "------------------------\n",
      "after_primary_mean\n"
     ]
    },
    {
     "data": {
      "text/plain": [
       "primary_cleaner.output.concentrate_au    32.007535\n",
       "primary_cleaner.output.concentrate_ag     8.468626\n",
       "primary_cleaner.output.concentrate_pb     9.733144\n",
       "dtype: float64"
      ]
     },
     "metadata": {},
     "output_type": "display_data"
    },
    {
     "name": "stdout",
     "output_type": "stream",
     "text": [
      "------------------------\n",
      "final_mean\n"
     ]
    },
    {
     "data": {
      "text/plain": [
       "final.output.concentrate_au    43.979499\n",
       "final.output.concentrate_ag     5.192026\n",
       "final.output.concentrate_pb     9.923709\n",
       "dtype: float64"
      ]
     },
     "metadata": {},
     "output_type": "display_data"
    }
   ],
   "source": [
    "print('raw_material_mean')\n",
    "display(raw_material.mean())\n",
    "print('------------------------')\n",
    "print('after_rougher_mean')\n",
    "display(after_rougher.mean())\n",
    "print('------------------------')\n",
    "print('after_primary_mean')\n",
    "display(after_primary.mean())\n",
    "print('------------------------')\n",
    "print('final_mean')\n",
    "display(final.mean())"
   ]
  },
  {
   "cell_type": "code",
   "execution_count": 163,
   "metadata": {},
   "outputs": [
    {
     "data": {
      "image/png": "[encoded data removed]",
      "text/plain": [
       "<Figure size 1500x500 with 1 Axes>"
      ]
     },
     "metadata": {},
     "output_type": "display_data"
    }
   ],
   "source": [
    "plt.figure(figsize = (15,5))\n",
    "sns.histplot(raw_material)\n",
    "plt.title('До начала флотации')\n",
    "plt.xlabel('Значение признака')\n",
    "plt.ylabel('Частота')\n",
    "plt.show()"
   ]
  },
  {
   "cell_type": "code",
   "execution_count": 164,
   "metadata": {
    "scrolled": false
   },
   "outputs": [
    {
     "data": {
      "image/png": "[encoded data removed]",
      "text/plain": [
       "<Figure size 1500x500 with 1 Axes>"
      ]
     },
     "metadata": {},
     "output_type": "display_data"
    }
   ],
   "source": [
    "plt.figure(figsize = (15,5))\n",
    "sns.histplot(after_rougher)\n",
    "plt.title('После флотации')\n",
    "plt.xlabel('Значение признака')\n",
    "plt.ylabel('Частота')\n",
    "plt.show()"
   ]
  },
  {
   "cell_type": "code",
   "execution_count": 165,
   "metadata": {
    "scrolled": false
   },
   "outputs": [
    {
     "data": {
      "image/png": "[encoded data removed]",
      "text/plain": [
       "<Figure size 1500x500 with 1 Axes>"
      ]
     },
     "metadata": {},
     "output_type": "display_data"
    }
   ],
   "source": [
    "plt.figure(figsize = (15,5))\n",
    "sns.histplot(after_primary)\n",
    "plt.title('После первого этапа обработки')\n",
    "plt.xlabel('Значение признака')\n",
    "plt.ylabel('Частота')\n",
    "plt.show()"
   ]
  },
  {
   "cell_type": "code",
   "execution_count": 166,
   "metadata": {},
   "outputs": [
    {
     "data": {
      "image/png": "[encoded data removed]",
      "text/plain": [
       "<Figure size 1500x500 with 1 Axes>"
      ]
     },
     "metadata": {},
     "output_type": "display_data"
    }
   ],
   "source": [
    "plt.figure(figsize = (15,5))\n",
    "sns.histplot(final)\n",
    "plt.title('Финал')\n",
    "plt.xlabel('Значение признака')\n",
    "plt.ylabel('Частота')\n",
    "plt.show()"
   ]
  },
  {
   "cell_type": "code",
   "execution_count": 167,
   "metadata": {},
   "outputs": [],
   "source": [
    "def upper_fence(df):\n",
    "    return df.quantile(0.75) + (df.quantile(0.75) - df.quantile(0.25))*1.5"
   ]
  },
  {
   "cell_type": "code",
   "execution_count": 168,
   "metadata": {},
   "outputs": [],
   "source": [
    "def lower_fence(df):\n",
    "    return df.quantile(0.25) - (df.quantile(0.75) - df.quantile(0.25))*1.5"
   ]
  },
  {
   "cell_type": "code",
   "execution_count": 169,
   "metadata": {},
   "outputs": [],
   "source": [
    "gi_train_02.drop(gi_train_02[gi_train_02['rougher.output.concentrate_au'] < 10].index, inplace = True)"
   ]
  },
  {
   "cell_type": "code",
   "execution_count": 170,
   "metadata": {},
   "outputs": [],
   "source": [
    "gi_train_02.drop(gi_train_02[gi_train_02['rougher.output.concentrate_ag'] < 5].index, inplace = True)"
   ]
  },
  {
   "cell_type": "code",
   "execution_count": 171,
   "metadata": {},
   "outputs": [],
   "source": [
    "gi_train_02.drop(gi_train_02[gi_train_02['rougher.output.concentrate_pb'] < 3].index, inplace = True)"
   ]
  },
  {
   "cell_type": "code",
   "execution_count": 172,
   "metadata": {},
   "outputs": [],
   "source": [
    "gi_train_02.drop(gi_train_02[gi_train_02['primary_cleaner.output.concentrate_au'] < 15].index, inplace = True)"
   ]
  },
  {
   "cell_type": "code",
   "execution_count": 173,
   "metadata": {},
   "outputs": [],
   "source": [
    "gi_train_02.drop(gi_train_02[gi_train_02['primary_cleaner.output.concentrate_ag'] < 3].index, inplace = True)"
   ]
  },
  {
   "cell_type": "code",
   "execution_count": 174,
   "metadata": {},
   "outputs": [],
   "source": [
    "gi_train_02.drop(gi_train_02[gi_train_02['primary_cleaner.output.concentrate_pb'] < 3].index, inplace = True)"
   ]
  },
  {
   "cell_type": "code",
   "execution_count": 175,
   "metadata": {},
   "outputs": [],
   "source": [
    "gi_train_02.drop(gi_train_02[gi_train_02['final.output.concentrate_au'] < 30].index, inplace = True)"
   ]
  },
  {
   "cell_type": "code",
   "execution_count": 176,
   "metadata": {},
   "outputs": [],
   "source": [
    "gi_train_02.drop(gi_train_02[gi_train_02['final.output.concentrate_ag'] < 3].index, inplace = True)"
   ]
  },
  {
   "cell_type": "code",
   "execution_count": 177,
   "metadata": {},
   "outputs": [],
   "source": [
    "gi_train_02.drop(gi_train_02[gi_train_02['final.output.concentrate_ag'] > 13].index, inplace = True)"
   ]
  },
  {
   "cell_type": "code",
   "execution_count": 178,
   "metadata": {},
   "outputs": [],
   "source": [
    "gi_train_02.drop(gi_train_02[gi_train_02['final.output.concentrate_pb'] < 5].index, inplace = True)"
   ]
  },
  {
   "cell_type": "code",
   "execution_count": 179,
   "metadata": {},
   "outputs": [],
   "source": [
    "gi_train_02.reset_index(drop = True, inplace = True)"
   ]
  },
  {
   "cell_type": "code",
   "execution_count": 180,
   "metadata": {},
   "outputs": [],
   "source": [
    "raw_material = gi_train_02[['rougher.input.feed_au', 'rougher.input.feed_ag','rougher.input.feed_pb']]\n",
    "after_rougher = gi_train_02[['rougher.output.concentrate_au','rougher.output.concentrate_ag', 'rougher.output.concentrate_pb']]\n",
    "after_primary = gi_train_02[['primary_cleaner.output.concentrate_au','primary_cleaner.output.concentrate_ag','primary_cleaner.output.concentrate_pb']]\n",
    "final = gi_train_02[['final.output.concentrate_au', 'final.output.concentrate_ag','final.output.concentrate_pb']]"
   ]
  },
  {
   "cell_type": "markdown",
   "metadata": {},
   "source": [
    "**2.2.  Сравните распределения размеров гранул исходного сырья на обучающей и тестовой выборках. Если распределения сильно отличаются друг от друга, оценка модели будет неправильной**"
   ]
  },
  {
   "cell_type": "code",
   "execution_count": 181,
   "metadata": {},
   "outputs": [
    {
     "data": {
      "image/png": "[encoded data removed]",
      "text/plain": [
       "<Figure size 1200x600 with 1 Axes>"
      ]
     },
     "metadata": {},
     "output_type": "display_data"
    }
   ],
   "source": [
    "plt.figure(figsize = (12,6))\n",
    "sns.kdeplot(gi_train_02['rougher.input.feed_size'], label='rougher.input.feed_size (train)')\n",
    "plt.legend()\n",
    "sns.kdeplot(gi_test_02['rougher.input.feed_size'], label= 'rougher.input.feed_size (test)')\n",
    "plt.legend()\n",
    "plt.title('Размеров гранул исходного сырья')\n",
    "plt.xlabel('Значение признака')\n",
    "plt.ylabel('Плотность распределения')\n",
    "plt.show()"
   ]
  },
  {
   "cell_type": "markdown",
   "metadata": {},
   "source": [
    "**Выводы:**\n",
    " - выборки схожи, поэтому можно приступить к построению модели"
   ]
  },
  {
   "cell_type": "markdown",
   "metadata": {},
   "source": [
    "**2.3. Исследуйте суммарную концентрацию металлов на разных стадиях: в сырье, в черновом концентрате, в концентрате после первой очистки и в финальном концентрате**"
   ]
  },
  {
   "cell_type": "code",
   "execution_count": 182,
   "metadata": {},
   "outputs": [
    {
     "name": "stdout",
     "output_type": "stream",
     "text": [
      "\n"
     ]
    }
   ],
   "source": [
    "raw_material.apply(lambda x: x.sum(), axis = 1)\n",
    "after_rougher.apply(lambda x: x.sum(), axis = 1)\n",
    "after_primary.apply(lambda x: x.sum(), axis = 1)\n",
    "final.apply(lambda x: x.sum(), axis = 1)\n",
    "print()"
   ]
  },
  {
   "cell_type": "code",
   "execution_count": 183,
   "metadata": {},
   "outputs": [
    {
     "data": {
      "image/png": "[encoded data removed]",
      "text/plain": [
       "<Figure size 1500x500 with 1 Axes>"
      ]
     },
     "metadata": {},
     "output_type": "display_data"
    }
   ],
   "source": [
    "plt.figure(figsize = (15,5))\n",
    "sns.histplot(raw_material.apply(lambda x: x.sum(), axis = 1))\n",
    "plt.title('raw_material')\n",
    "plt.xlabel('Значение признака')\n",
    "plt.ylabel('Частота')\n",
    "plt.show()"
   ]
  },
  {
   "cell_type": "code",
   "execution_count": 184,
   "metadata": {},
   "outputs": [
    {
     "data": {
      "image/png": "[encoded data removed]",
      "text/plain": [
       "<Figure size 1500x500 with 1 Axes>"
      ]
     },
     "metadata": {},
     "output_type": "display_data"
    }
   ],
   "source": [
    "plt.figure(figsize = (15,5))\n",
    "sns.histplot(after_rougher.apply(lambda x: x.sum(), axis = 1))\n",
    "plt.title('after_rougher')\n",
    "plt.xlabel('Значение признака')\n",
    "plt.ylabel('Частота')\n",
    "plt.show()"
   ]
  },
  {
   "cell_type": "code",
   "execution_count": 185,
   "metadata": {},
   "outputs": [
    {
     "data": {
      "image/png": "[encoded data removed]",
      "text/plain": [
       "<Figure size 1500x500 with 1 Axes>"
      ]
     },
     "metadata": {},
     "output_type": "display_data"
    }
   ],
   "source": [
    "plt.figure(figsize = (15,5))\n",
    "sns.histplot(after_primary.apply(lambda x: x.sum(), axis = 1))\n",
    "plt.title('after_primary')\n",
    "plt.xlabel('Значение признака')\n",
    "plt.ylabel('Частота')\n",
    "plt.show()"
   ]
  },
  {
   "cell_type": "code",
   "execution_count": 186,
   "metadata": {},
   "outputs": [
    {
     "data": {
      "image/png": "[encoded data removed]",
      "text/plain": [
       "<Figure size 1500x500 with 1 Axes>"
      ]
     },
     "metadata": {},
     "output_type": "display_data"
    }
   ],
   "source": [
    "plt.figure(figsize = (15,5))\n",
    "sns.histplot(final.apply(lambda x: x.sum(), axis = 1))\n",
    "plt.title('final')\n",
    "plt.xlabel('Значение признака')\n",
    "plt.ylabel('Частота')\n",
    "plt.show()"
   ]
  },
  {
   "cell_type": "markdown",
   "metadata": {},
   "source": [
    "### Выводы:\n",
    "    После каждого из этапов, концентрация золота увеличивается, а концентрация остальных металов уменьшается"
   ]
  },
  {
   "cell_type": "markdown",
   "metadata": {},
   "source": [
    "## Модель"
   ]
  },
  {
   "cell_type": "code",
   "execution_count": 190,
   "metadata": {},
   "outputs": [],
   "source": [
    "def smape(y_real, y_pred):\n",
    "    return 100/len(y_real) * np.sum(2 * np.abs(y_pred - y_real) / (np.abs(y_real) + np.abs(y_pred)))"
   ]
  },
  {
   "cell_type": "code",
   "execution_count": 191,
   "metadata": {},
   "outputs": [],
   "source": [
    "def final_smape(smape_r, smape_f):\n",
    "    return 0.25 * smape_r + 0.75 * smape_f"
   ]
  },
  {
   "cell_type": "code",
   "execution_count": 192,
   "metadata": {},
   "outputs": [],
   "source": [
    "custome_score = make_scorer(smape, greater_is_better=False)"
   ]
  },
  {
   "cell_type": "code",
   "execution_count": 193,
   "metadata": {},
   "outputs": [],
   "source": [
    "gi_train.drop(gi_train[gi_train['final.output.recovery'] == 0].index, inplace = True)"
   ]
  },
  {
   "cell_type": "code",
   "execution_count": 194,
   "metadata": {},
   "outputs": [],
   "source": [
    "gi_train.drop(gi_train[gi_train['rougher.output.recovery'] == 0].index, inplace = True)"
   ]
  },
  {
   "cell_type": "code",
   "execution_count": 195,
   "metadata": {},
   "outputs": [],
   "source": [
    "gi_train_02.reset_index(drop = True, inplace = True)\n",
    "gi_test_02.reset_index(drop = True, inplace = True)"
   ]
  },
  {
   "cell_type": "code",
   "execution_count": 196,
   "metadata": {
    "scrolled": true
   },
   "outputs": [],
   "source": [
    "gi_train_target_final = gi_train_02['final.output.recovery']\n",
    "gi_train_target_rougher = gi_train_02['rougher.output.recovery']\n",
    "gi_test_target_final = gi_test_02['final.output.recovery']\n",
    "gi_test_target_rougher = gi_test_02['rougher.output.recovery']\n",
    "gi_test_features = gi_test_02.drop(['final.output.recovery','rougher.output.recovery'], axis = 1)\n",
    "gi_train_features = gi_train_02[gi_test_features.columns]"
   ]
  },
  {
   "cell_type": "code",
   "execution_count": 197,
   "metadata": {
    "scrolled": true
   },
   "outputs": [],
   "source": [
    "scaler = StandardScaler()\n",
    "scaler.fit(gi_train_features)\n",
    "gi_train_features_scaled = pd.DataFrame(scaler.transform(gi_train_features), columns = gi_train_features.columns)\n",
    "gi_test_features_scaled = pd.DataFrame(scaler.transform(gi_test_features), columns = gi_test_features.columns)"
   ]
  },
  {
   "cell_type": "markdown",
   "metadata": {},
   "source": [
    "### Кросс-валидация"
   ]
  },
  {
   "cell_type": "markdown",
   "metadata": {},
   "source": [
    "**LinearRegression**"
   ]
  },
  {
   "cell_type": "code",
   "execution_count": 198,
   "metadata": {},
   "outputs": [
    {
     "name": "stdout",
     "output_type": "stream",
     "text": [
      "sMAPE =  9.513230345040553\n",
      "[-10.54073702  -8.23751946  -8.82244079  -8.42303575 -11.5424187 ]\n"
     ]
    }
   ],
   "source": [
    "model = LinearRegression()\n",
    "scores_lr_f = cross_val_score(model, gi_train_features_scaled, gi_train_target_final, cv=5, scoring=custome_score)\n",
    "print('sMAPE = ', -scores_lr_f.mean())\n",
    "print(scores_lr_f)"
   ]
  },
  {
   "cell_type": "code",
   "execution_count": 199,
   "metadata": {},
   "outputs": [
    {
     "name": "stdout",
     "output_type": "stream",
     "text": [
      "sMAPE =  7.176443389941094\n",
      "[-9.18542596 -5.5914919  -7.06047381 -4.74493027 -9.29989501]\n"
     ]
    }
   ],
   "source": [
    "model = LinearRegression()\n",
    "scores_lr_r = cross_val_score(model, gi_train_features_scaled, gi_train_target_rougher, cv=5, scoring=custome_score)\n",
    "print('sMAPE = ', -scores_lr_r.mean())\n",
    "print(scores_lr_r)"
   ]
  },
  {
   "cell_type": "markdown",
   "metadata": {},
   "source": [
    "**итового значение sMAPE**"
   ]
  },
  {
   "cell_type": "code",
   "execution_count": 200,
   "metadata": {},
   "outputs": [
    {
     "data": {
      "text/plain": [
       "8.929033606265687"
      ]
     },
     "execution_count": 200,
     "metadata": {},
     "output_type": "execute_result"
    }
   ],
   "source": [
    "final_smape(-scores_lr_r.mean(), -scores_lr_f.mean())"
   ]
  },
  {
   "cell_type": "markdown",
   "metadata": {},
   "source": [
    "**Lasso**"
   ]
  },
  {
   "cell_type": "code",
   "execution_count": 201,
   "metadata": {},
   "outputs": [
    {
     "name": "stdout",
     "output_type": "stream",
     "text": [
      "sMAPE =  8.273831440451946\n",
      "best_model = Lasso(alpha=0.6, max_iter=2500, random_state=12345)\n"
     ]
    }
   ],
   "source": [
    "best_model = None\n",
    "best_scores_losso_f = 1000\n",
    "for alp in np.arange(0.1, 1.01, 0.1):\n",
    "    model = Lasso(alpha=alp, max_iter=2500, random_state=12345)\n",
    "    scores_losso_f = cross_val_score(model, gi_train_features_scaled, gi_train_target_final, cv=5, scoring=custome_score)\n",
    "    if -scores_losso_f.mean() < best_scores_losso_f:\n",
    "        best_scores_losso_f = -scores_losso_f.mean()\n",
    "        best_model = model\n",
    "print('sMAPE = ', best_scores_losso_f)\n",
    "print('best_model =', best_model)"
   ]
  },
  {
   "cell_type": "code",
   "execution_count": 202,
   "metadata": {},
   "outputs": [
    {
     "name": "stdout",
     "output_type": "stream",
     "text": [
      "sMAPE =  6.079762552782721\n",
      "best_model = Lasso(alpha=0.7000000000000001, max_iter=2500, random_state=12345)\n"
     ]
    }
   ],
   "source": [
    "best_model = None\n",
    "best_scores_losso_r = 1000\n",
    "for alp in np.arange(0.1, 1.01, 0.1):\n",
    "    model = Lasso(alpha=alp, max_iter=2500, random_state=12345)\n",
    "    scores_losso_r = cross_val_score(model, gi_train_features_scaled, gi_train_target_rougher, cv=5, scoring=custome_score)\n",
    "    if -scores_losso_r.mean() < best_scores_losso_r:\n",
    "        best_scores_losso_r = -scores_losso_r.mean()\n",
    "        best_model = model\n",
    "print('sMAPE = ', best_scores_losso_r)\n",
    "print('best_model =', best_model)"
   ]
  },
  {
   "cell_type": "markdown",
   "metadata": {},
   "source": [
    "**итового значение sMAPE**"
   ]
  },
  {
   "cell_type": "code",
   "execution_count": 203,
   "metadata": {},
   "outputs": [
    {
     "data": {
      "text/plain": [
       "7.850366516562848"
      ]
     },
     "execution_count": 203,
     "metadata": {},
     "output_type": "execute_result"
    }
   ],
   "source": [
    "final_smape(-scores_losso_r.mean(), -scores_losso_f.mean())"
   ]
  },
  {
   "cell_type": "markdown",
   "metadata": {},
   "source": [
    "**RandomForestRegressor**"
   ]
  },
  {
   "cell_type": "code",
   "execution_count": 104,
   "metadata": {},
   "outputs": [
    {
     "name": "stdout",
     "output_type": "stream",
     "text": [
      "sMAPE =  8.539916760920761\n",
      "best_model = RandomForestRegressor(max_depth=2, n_estimators=40, random_state=12345)\n",
      "[9.29746886 7.21403165 8.88464978 8.00481432 9.29861919]\n",
      "CPU times: user 19min 21s, sys: 1.64 s, total: 19min 23s\n",
      "Wall time: 19min 25s\n"
     ]
    }
   ],
   "source": [
    "%%time\n",
    "best_scores_rfr_f = 100\n",
    "best_model = None\n",
    "best_scores_2 = 0\n",
    "best_est = 0\n",
    "best_depth = 0\n",
    "for est in range(10, 51, 10):\n",
    "    for depth in range (1, 11):\n",
    "        model = RandomForestRegressor(random_state=12345,n_estimators=est,max_depth=depth)\n",
    "        scores = cross_val_score(model, gi_train_features_scaled, gi_train_target_final, cv=5, scoring=custome_score)\n",
    "        scores_mean_rfr_f = -scores.mean()\n",
    "        if scores_mean_rfr_f < best_scores_rfr_f:\n",
    "            best_scores_rfr_f = scores_mean_rfr_f\n",
    "            best_model = model\n",
    "            best_scores_2 = -scores\n",
    "            best_est = est\n",
    "            best_depth = depth\n",
    "\n",
    "print('sMAPE = ', best_scores_rfr_f)\n",
    "print('best_model =', best_model)\n",
    "print(best_scores_2)"
   ]
  },
  {
   "cell_type": "code",
   "execution_count": 124,
   "metadata": {},
   "outputs": [
    {
     "name": "stdout",
     "output_type": "stream",
     "text": [
      "sMAPE =  6.316820502388564\n",
      "best_model = RandomForestRegressor(max_depth=4, n_estimators=50, random_state=12345)\n",
      "[7.89101979 4.78831369 6.88034105 5.51213546 6.51229252]\n",
      "CPU times: user 19min 4s, sys: 1.08 s, total: 19min 5s\n",
      "Wall time: 19min 7s\n"
     ]
    }
   ],
   "source": [
    "%%time\n",
    "best_scores_rfr_r = 100\n",
    "best_model = None\n",
    "best_scores_2 = 0\n",
    "best_est = 0\n",
    "best_depth = 0\n",
    "for est in range(10, 51, 10):\n",
    "    for depth in range (1, 11):\n",
    "        model = RandomForestRegressor(random_state=12345,n_estimators=est,max_depth=depth)\n",
    "        scores = cross_val_score(model, gi_train_features_scaled, gi_train_target_rougher, cv=5, scoring=custome_score)\n",
    "        scores_mean_rfr_r = -scores.mean()\n",
    "        if scores_mean_rfr_r < best_scores_rfr_r:\n",
    "            best_scores_rfr_r = scores_mean_rfr_r\n",
    "            best_model = model\n",
    "            best_scores_2 = -scores\n",
    "            best_est = est\n",
    "            best_depth = depth\n",
    "\n",
    "print('sMAPE = ', best_scores_rfr_r)\n",
    "print('best_model =', best_model)\n",
    "print(best_scores_2)"
   ]
  },
  {
   "cell_type": "markdown",
   "metadata": {},
   "source": [
    "**итового значение sMAPE**"
   ]
  },
  {
   "cell_type": "code",
   "execution_count": 126,
   "metadata": {},
   "outputs": [
    {
     "data": {
      "text/plain": [
       "7.984142696287712"
      ]
     },
     "execution_count": 126,
     "metadata": {},
     "output_type": "execute_result"
    }
   ],
   "source": [
    "final_smape(best_scores_rfr_r, best_scores_rfr_f)"
   ]
  },
  {
   "cell_type": "markdown",
   "metadata": {},
   "source": [
    "**DecisionTreeRegressor**"
   ]
  },
  {
   "cell_type": "code",
   "execution_count": 111,
   "metadata": {},
   "outputs": [
    {
     "name": "stdout",
     "output_type": "stream",
     "text": [
      "sMAPE =  8.87\n",
      "Лучшая модель = DecisionTreeRegressor(max_depth=2, random_state=12345)\n",
      "[ 9.44223327  7.2582901  10.35981097  7.96812093  9.31145694]\n"
     ]
    }
   ],
   "source": [
    "best_scores_dtr_f = 100\n",
    "best_model = None\n",
    "best_scores_2 = 0\n",
    "for depth in range(1,10):\n",
    "    model = DecisionTreeRegressor(random_state=12345, max_depth = depth)\n",
    "    scores = cross_val_score(model, gi_train_features_scaled, gi_train_target_final, cv=5, scoring=custome_score)\n",
    "    scores_mean_dtr_f = -scores.mean()\n",
    "    if scores_mean_dtr_f < best_scores_dtr_f:\n",
    "        best_scores_dtr_f = scores_mean_dtr_f\n",
    "        best_model = model\n",
    "        best_scores_2 = -scores        \n",
    "print('sMAPE = ', round(best_scores_dtr_f,2))\n",
    "print('Лучшая модель =', best_model)\n",
    "print(best_scores_2)"
   ]
  },
  {
   "cell_type": "code",
   "execution_count": 113,
   "metadata": {},
   "outputs": [
    {
     "name": "stdout",
     "output_type": "stream",
     "text": [
      "sMAPE =  6.44\n",
      "Лучшая модель = DecisionTreeRegressor(max_depth=3, random_state=12345)\n",
      "[8.26870243 4.93163639 6.74461225 5.65810619 6.62062639]\n"
     ]
    }
   ],
   "source": [
    "best_scores_dtr_r = 100\n",
    "best_model = None\n",
    "best_scores_2 = 0\n",
    "for depth in range(1,10):\n",
    "    model = DecisionTreeRegressor(random_state=12345, max_depth = depth)\n",
    "    scores = cross_val_score(model, gi_train_features_scaled, gi_train_target_rougher, cv=5, scoring=custome_score)\n",
    "    scores_mean_dtr_r = -scores.mean()\n",
    "    if scores_mean_dtr_r < best_scores_dtr_r:\n",
    "        best_scores_dtr_r = scores_mean_dtr_r\n",
    "        best_model = model\n",
    "        best_scores_2 = -scores    \n",
    "print('sMAPE = ', round(best_scores_dtr_r,2))\n",
    "print('Лучшая модель =', best_model)\n",
    "print(best_scores_2)"
   ]
  },
  {
   "cell_type": "markdown",
   "metadata": {},
   "source": [
    "**итового значение sMAPE**"
   ]
  },
  {
   "cell_type": "code",
   "execution_count": 114,
   "metadata": {},
   "outputs": [
    {
     "data": {
      "text/plain": [
       "8.262171012710473"
      ]
     },
     "execution_count": 114,
     "metadata": {},
     "output_type": "execute_result"
    }
   ],
   "source": [
    "final_smape(best_scores_dtr_r, best_scores_dtr_f)"
   ]
  },
  {
   "cell_type": "markdown",
   "metadata": {},
   "source": [
    "**После прогонки на кросс-валидации, получились следующие результаты:**\n",
    " - для **'final.output.recovery'** лучшая модель - best_model = Lasso(alpha=0.6, max_iter=2500), sMAPE = 8.273831440451946)\n",
    " - для **'rougher.output.recovery'** лучшая модель Lasso(alpha=0.7000000000000001, max_iter=2500) sMAPE =  6.079762552782721\n",
    " - **Итоговое значение sMAPE** = 7.850366516562848\n"
   ]
  },
  {
   "cell_type": "markdown",
   "metadata": {},
   "source": [
    "Используем эти модели для прогонки на тестовой выборке и вычисления **итогового** значения **sMAPE**"
   ]
  },
  {
   "cell_type": "markdown",
   "metadata": {},
   "source": [
    "**DummyRegressor**"
   ]
  },
  {
   "cell_type": "code",
   "execution_count": 115,
   "metadata": {},
   "outputs": [
    {
     "name": "stdout",
     "output_type": "stream",
     "text": [
      "DummyRegressor для final.output.recovery\n",
      "sMAPE =  9.23\n"
     ]
    }
   ],
   "source": [
    "model = DummyRegressor(strategy = 'mean')\n",
    "model.fit(gi_train_features_scaled, gi_train_target_final)\n",
    "predicted = model.predict(gi_test_features_scaled)\n",
    "smape_dr_f = smape(gi_test_target_final,predicted)\n",
    "print('DummyRegressor для final.output.recovery')\n",
    "print('sMAPE = ', round(smape_dr_f,2))"
   ]
  },
  {
   "cell_type": "code",
   "execution_count": 116,
   "metadata": {},
   "outputs": [
    {
     "name": "stdout",
     "output_type": "stream",
     "text": [
      "DummyRegressor для rougher.output.recovery\n",
      "sMAPE =  6.05\n"
     ]
    }
   ],
   "source": [
    "model = DummyRegressor(strategy = 'mean')\n",
    "model.fit(gi_train_features_scaled, gi_train_target_rougher)\n",
    "predicted = model.predict(gi_test_features_scaled)\n",
    "smape_dr_r = smape(gi_test_target_rougher,predicted)\n",
    "print('DummyRegressor для rougher.output.recovery')\n",
    "print('sMAPE = ', round(smape_dr_r,2))"
   ]
  },
  {
   "cell_type": "markdown",
   "metadata": {},
   "source": [
    "**Итоговое значение sMAPE константной модели**"
   ]
  },
  {
   "cell_type": "code",
   "execution_count": 117,
   "metadata": {},
   "outputs": [
    {
     "data": {
      "text/plain": [
       "8.432085193309993"
      ]
     },
     "execution_count": 117,
     "metadata": {},
     "output_type": "execute_result"
    }
   ],
   "source": [
    "final_smape(smape_dr_r, smape_dr_f)"
   ]
  },
  {
   "cell_type": "markdown",
   "metadata": {},
   "source": [
    "**Прогонка на тестовой выборке**"
   ]
  },
  {
   "cell_type": "code",
   "execution_count": 204,
   "metadata": {},
   "outputs": [
    {
     "data": {
      "text/plain": [
       "8.132360742429903"
      ]
     },
     "execution_count": 204,
     "metadata": {},
     "output_type": "execute_result"
    }
   ],
   "source": [
    "model = Lasso(alpha=0.6, max_iter=2500, random_state=12345)\n",
    "model.fit(gi_train_features_scaled, gi_train_target_final)\n",
    "predicted = model.predict(gi_test_features_scaled)\n",
    "smape_lasso_f = smape(gi_test_target_final,predicted)\n",
    "smape_lasso_f"
   ]
  },
  {
   "cell_type": "code",
   "execution_count": 205,
   "metadata": {},
   "outputs": [
    {
     "data": {
      "text/plain": [
       "4.828570219932643"
      ]
     },
     "execution_count": 205,
     "metadata": {},
     "output_type": "execute_result"
    }
   ],
   "source": [
    "model = Lasso(alpha=0.7, max_iter=2500, random_state=12345)\n",
    "model.fit(gi_train_features_scaled, gi_train_target_rougher)\n",
    "predicted = model.predict(gi_test_features_scaled)\n",
    "smape_lasso_r = smape(gi_test_target_rougher,predicted)\n",
    "smape_lasso_r"
   ]
  },
  {
   "cell_type": "markdown",
   "metadata": {},
   "source": [
    "**итового значение sMAPE**"
   ]
  },
  {
   "cell_type": "code",
   "execution_count": 206,
   "metadata": {},
   "outputs": [
    {
     "data": {
      "text/plain": [
       "7.306413111805588"
      ]
     },
     "execution_count": 206,
     "metadata": {},
     "output_type": "execute_result"
    }
   ],
   "source": [
    "final_smape(smape_lasso_r, smape_lasso_f)"
   ]
  },
  {
   "cell_type": "markdown",
   "metadata": {},
   "source": [
    "Итоговое значение после прогонки составило 7.306413111805588, что меньше чем значение константной модели, поэтому модель принимается "
   ]
  },
  {
   "cell_type": "markdown",
   "metadata": {},
   "source": [
    "### Выводы "
   ]
  },
  {
   "cell_type": "markdown",
   "metadata": {},
   "source": [
    "1. Проведен анализ выборок, удалены экстримальные значения для подготовки к построению моделей\n",
    "1. Были построены модели для предсказания 2 целевых показателей('final.output.recovery' и 'rougher.output.recovery')\n",
    "2. Для проверки использовался метод кросс-валидации\n",
    "     - для **'final.output.recovery'** лучшая модель - best_model = Lasso(alpha=0.6, max_iter=2500), sMAPE = 8.273831440451946)\n",
    "     - для **'rougher.output.recovery'** лучшая модель Lasso(alpha=0.7000000000000001, max_iter=2500) sMAPE =  6.079762552782721\n",
    "     - лучшее **Итоговое значение sMAPE** после кросс-валидации  = 7.850366516562848\n",
    "5. **Итоговое значение sMAPE константной модели** составило 8.432085193309993\n",
    "4. **Итоговое значение sMAPE** после прогонки на тестовой выборке составило 7.306413111805588\n"
   ]
  }
 ],
 "metadata": {
  "ExecuteTimeLog": [
   {
    "duration": 9,
    "start_time": "2023-08-01T13:04:12.339Z"
   },
   {
    "duration": 311,
    "start_time": "2023-08-01T13:04:18.849Z"
   },
   {
    "duration": 188,
    "start_time": "2023-08-01T13:04:25.756Z"
   },
   {
    "duration": 60,
    "start_time": "2023-08-02T19:57:51.543Z"
   },
   {
    "duration": 1594,
    "start_time": "2023-08-02T19:58:03.278Z"
   },
   {
    "duration": 2363,
    "start_time": "2023-08-02T19:58:04.874Z"
   },
   {
    "duration": 9,
    "start_time": "2023-08-02T19:58:07.239Z"
   },
   {
    "duration": 76,
    "start_time": "2023-08-02T19:58:07.251Z"
   },
   {
    "duration": 52,
    "start_time": "2023-08-02T19:58:07.329Z"
   },
   {
    "duration": 271,
    "start_time": "2023-08-02T19:58:07.383Z"
   },
   {
    "duration": 22,
    "start_time": "2023-08-02T19:58:07.656Z"
   },
   {
    "duration": 37,
    "start_time": "2023-08-02T19:58:07.679Z"
   },
   {
    "duration": 21,
    "start_time": "2023-08-02T19:58:07.718Z"
   },
   {
    "duration": 35,
    "start_time": "2023-08-02T19:58:07.742Z"
   },
   {
    "duration": 101,
    "start_time": "2023-08-02T19:58:07.780Z"
   },
   {
    "duration": 104,
    "start_time": "2023-08-02T19:58:07.883Z"
   },
   {
    "duration": 0,
    "start_time": "2023-08-02T19:58:07.989Z"
   },
   {
    "duration": 0,
    "start_time": "2023-08-02T19:58:07.990Z"
   },
   {
    "duration": 0,
    "start_time": "2023-08-02T19:58:07.992Z"
   },
   {
    "duration": 0,
    "start_time": "2023-08-02T19:58:07.994Z"
   },
   {
    "duration": 0,
    "start_time": "2023-08-02T19:58:08.009Z"
   },
   {
    "duration": 0,
    "start_time": "2023-08-02T19:58:08.010Z"
   },
   {
    "duration": 0,
    "start_time": "2023-08-02T19:58:08.013Z"
   },
   {
    "duration": 0,
    "start_time": "2023-08-02T19:58:08.014Z"
   },
   {
    "duration": 0,
    "start_time": "2023-08-02T19:58:08.016Z"
   },
   {
    "duration": 0,
    "start_time": "2023-08-02T19:58:08.017Z"
   },
   {
    "duration": 0,
    "start_time": "2023-08-02T19:58:08.019Z"
   },
   {
    "duration": 0,
    "start_time": "2023-08-02T19:58:08.021Z"
   },
   {
    "duration": 0,
    "start_time": "2023-08-02T19:58:08.022Z"
   },
   {
    "duration": 0,
    "start_time": "2023-08-02T19:58:08.023Z"
   },
   {
    "duration": 10,
    "start_time": "2023-08-02T19:58:24.759Z"
   },
   {
    "duration": 10,
    "start_time": "2023-08-02T19:58:35.059Z"
   },
   {
    "duration": 4,
    "start_time": "2023-08-02T19:59:01.616Z"
   },
   {
    "duration": 801,
    "start_time": "2023-08-02T19:59:01.622Z"
   },
   {
    "duration": 7,
    "start_time": "2023-08-02T19:59:02.425Z"
   },
   {
    "duration": 74,
    "start_time": "2023-08-02T19:59:02.434Z"
   },
   {
    "duration": 47,
    "start_time": "2023-08-02T19:59:02.511Z"
   },
   {
    "duration": 237,
    "start_time": "2023-08-02T19:59:02.560Z"
   },
   {
    "duration": 21,
    "start_time": "2023-08-02T19:59:02.799Z"
   },
   {
    "duration": 13,
    "start_time": "2023-08-02T19:59:02.821Z"
   },
   {
    "duration": 8,
    "start_time": "2023-08-02T19:59:02.836Z"
   },
   {
    "duration": 36,
    "start_time": "2023-08-02T19:59:02.845Z"
   },
   {
    "duration": 73,
    "start_time": "2023-08-02T19:59:02.882Z"
   },
   {
    "duration": 15,
    "start_time": "2023-08-02T19:59:02.958Z"
   },
   {
    "duration": 0,
    "start_time": "2023-08-02T19:59:02.975Z"
   },
   {
    "duration": 0,
    "start_time": "2023-08-02T19:59:02.977Z"
   },
   {
    "duration": 0,
    "start_time": "2023-08-02T19:59:02.978Z"
   },
   {
    "duration": 0,
    "start_time": "2023-08-02T19:59:02.979Z"
   },
   {
    "duration": 0,
    "start_time": "2023-08-02T19:59:02.980Z"
   },
   {
    "duration": 0,
    "start_time": "2023-08-02T19:59:02.981Z"
   },
   {
    "duration": 0,
    "start_time": "2023-08-02T19:59:02.982Z"
   },
   {
    "duration": 0,
    "start_time": "2023-08-02T19:59:02.983Z"
   },
   {
    "duration": 0,
    "start_time": "2023-08-02T19:59:02.984Z"
   },
   {
    "duration": 0,
    "start_time": "2023-08-02T19:59:02.985Z"
   },
   {
    "duration": 0,
    "start_time": "2023-08-02T19:59:03.010Z"
   },
   {
    "duration": 0,
    "start_time": "2023-08-02T19:59:03.012Z"
   },
   {
    "duration": 0,
    "start_time": "2023-08-02T19:59:03.013Z"
   },
   {
    "duration": 0,
    "start_time": "2023-08-02T19:59:03.014Z"
   },
   {
    "duration": 0,
    "start_time": "2023-08-02T19:59:03.016Z"
   },
   {
    "duration": 0,
    "start_time": "2023-08-02T19:59:03.017Z"
   },
   {
    "duration": 0,
    "start_time": "2023-08-02T19:59:03.018Z"
   },
   {
    "duration": 0,
    "start_time": "2023-08-02T19:59:03.019Z"
   },
   {
    "duration": 0,
    "start_time": "2023-08-02T19:59:03.020Z"
   },
   {
    "duration": 0,
    "start_time": "2023-08-02T19:59:03.021Z"
   },
   {
    "duration": 0,
    "start_time": "2023-08-02T19:59:03.023Z"
   },
   {
    "duration": 0,
    "start_time": "2023-08-02T19:59:03.023Z"
   },
   {
    "duration": 0,
    "start_time": "2023-08-02T19:59:03.025Z"
   },
   {
    "duration": 0,
    "start_time": "2023-08-02T19:59:03.026Z"
   },
   {
    "duration": 0,
    "start_time": "2023-08-02T19:59:03.028Z"
   },
   {
    "duration": 0,
    "start_time": "2023-08-02T19:59:03.029Z"
   },
   {
    "duration": 0,
    "start_time": "2023-08-02T19:59:03.030Z"
   },
   {
    "duration": 0,
    "start_time": "2023-08-02T19:59:03.032Z"
   },
   {
    "duration": 0,
    "start_time": "2023-08-02T19:59:03.033Z"
   },
   {
    "duration": 0,
    "start_time": "2023-08-02T19:59:03.034Z"
   },
   {
    "duration": 0,
    "start_time": "2023-08-02T19:59:03.035Z"
   },
   {
    "duration": 0,
    "start_time": "2023-08-02T19:59:03.036Z"
   },
   {
    "duration": 109,
    "start_time": "2023-08-02T20:02:58.904Z"
   },
   {
    "duration": 5,
    "start_time": "2023-08-02T20:07:57.512Z"
   },
   {
    "duration": 810,
    "start_time": "2023-08-02T20:07:57.519Z"
   },
   {
    "duration": 7,
    "start_time": "2023-08-02T20:07:58.330Z"
   },
   {
    "duration": 49,
    "start_time": "2023-08-02T20:07:58.339Z"
   },
   {
    "duration": 47,
    "start_time": "2023-08-02T20:07:58.409Z"
   },
   {
    "duration": 243,
    "start_time": "2023-08-02T20:07:58.458Z"
   },
   {
    "duration": 21,
    "start_time": "2023-08-02T20:07:58.709Z"
   },
   {
    "duration": 16,
    "start_time": "2023-08-02T20:07:58.732Z"
   },
   {
    "duration": 6,
    "start_time": "2023-08-02T20:07:58.750Z"
   },
   {
    "duration": 20,
    "start_time": "2023-08-02T20:07:58.757Z"
   },
   {
    "duration": 28,
    "start_time": "2023-08-02T20:08:08.546Z"
   },
   {
    "duration": 22,
    "start_time": "2023-08-02T20:08:25.643Z"
   },
   {
    "duration": 8,
    "start_time": "2023-08-02T20:08:33.335Z"
   },
   {
    "duration": 133,
    "start_time": "2023-08-02T20:09:58.483Z"
   },
   {
    "duration": 19,
    "start_time": "2023-08-02T20:10:05.248Z"
   },
   {
    "duration": 19,
    "start_time": "2023-08-02T20:10:20.534Z"
   },
   {
    "duration": 9,
    "start_time": "2023-08-02T20:10:29.649Z"
   },
   {
    "duration": 2,
    "start_time": "2023-08-02T20:10:45.112Z"
   },
   {
    "duration": 14,
    "start_time": "2023-08-02T20:11:41.955Z"
   },
   {
    "duration": 125,
    "start_time": "2023-08-02T20:11:46.239Z"
   },
   {
    "duration": 9,
    "start_time": "2023-08-02T20:11:50.113Z"
   },
   {
    "duration": 31,
    "start_time": "2023-08-02T20:11:58.983Z"
   },
   {
    "duration": 8,
    "start_time": "2023-08-02T20:12:27.425Z"
   },
   {
    "duration": 8,
    "start_time": "2023-08-02T20:12:31.134Z"
   },
   {
    "duration": 3,
    "start_time": "2023-08-02T20:15:45.900Z"
   },
   {
    "duration": 14,
    "start_time": "2023-08-02T20:16:15.733Z"
   },
   {
    "duration": 41,
    "start_time": "2023-08-02T20:16:25.747Z"
   },
   {
    "duration": 11,
    "start_time": "2023-08-02T20:16:35.341Z"
   },
   {
    "duration": 9,
    "start_time": "2023-08-02T20:16:51.018Z"
   },
   {
    "duration": 6,
    "start_time": "2023-08-02T20:22:53.633Z"
   },
   {
    "duration": 4,
    "start_time": "2023-08-02T20:23:01.497Z"
   },
   {
    "duration": 859,
    "start_time": "2023-08-02T20:23:01.504Z"
   },
   {
    "duration": 8,
    "start_time": "2023-08-02T20:23:02.365Z"
   },
   {
    "duration": 132,
    "start_time": "2023-08-02T20:23:02.375Z"
   },
   {
    "duration": 53,
    "start_time": "2023-08-02T20:23:02.511Z"
   },
   {
    "duration": 255,
    "start_time": "2023-08-02T20:23:02.566Z"
   },
   {
    "duration": 20,
    "start_time": "2023-08-02T20:23:02.823Z"
   },
   {
    "duration": 38,
    "start_time": "2023-08-02T20:23:02.845Z"
   },
   {
    "duration": 22,
    "start_time": "2023-08-02T20:23:02.885Z"
   },
   {
    "duration": 30,
    "start_time": "2023-08-02T20:23:02.909Z"
   },
   {
    "duration": 31,
    "start_time": "2023-08-02T20:23:02.941Z"
   },
   {
    "duration": 46,
    "start_time": "2023-08-02T20:23:02.974Z"
   },
   {
    "duration": 21,
    "start_time": "2023-08-02T20:23:03.022Z"
   },
   {
    "duration": 18,
    "start_time": "2023-08-02T20:23:03.047Z"
   },
   {
    "duration": 20,
    "start_time": "2023-08-02T20:23:03.066Z"
   },
   {
    "duration": 8,
    "start_time": "2023-08-02T20:23:03.088Z"
   },
   {
    "duration": 19,
    "start_time": "2023-08-02T20:23:03.098Z"
   },
   {
    "duration": 24,
    "start_time": "2023-08-02T20:23:03.119Z"
   },
   {
    "duration": 31,
    "start_time": "2023-08-02T20:23:03.145Z"
   },
   {
    "duration": 30,
    "start_time": "2023-08-02T20:23:03.178Z"
   },
   {
    "duration": 23,
    "start_time": "2023-08-02T20:23:03.209Z"
   },
   {
    "duration": 9,
    "start_time": "2023-08-02T20:23:03.234Z"
   },
   {
    "duration": 27,
    "start_time": "2023-08-02T20:23:03.245Z"
   },
   {
    "duration": 32,
    "start_time": "2023-08-02T20:23:03.274Z"
   },
   {
    "duration": 0,
    "start_time": "2023-08-02T20:23:03.308Z"
   },
   {
    "duration": 0,
    "start_time": "2023-08-02T20:23:03.311Z"
   },
   {
    "duration": 0,
    "start_time": "2023-08-02T20:23:03.312Z"
   },
   {
    "duration": 0,
    "start_time": "2023-08-02T20:23:03.314Z"
   },
   {
    "duration": 0,
    "start_time": "2023-08-02T20:23:03.315Z"
   },
   {
    "duration": 0,
    "start_time": "2023-08-02T20:23:03.316Z"
   },
   {
    "duration": 0,
    "start_time": "2023-08-02T20:23:03.318Z"
   },
   {
    "duration": 0,
    "start_time": "2023-08-02T20:23:03.320Z"
   },
   {
    "duration": 0,
    "start_time": "2023-08-02T20:23:03.321Z"
   },
   {
    "duration": 0,
    "start_time": "2023-08-02T20:23:03.322Z"
   },
   {
    "duration": 0,
    "start_time": "2023-08-02T20:23:03.323Z"
   },
   {
    "duration": 0,
    "start_time": "2023-08-02T20:23:03.325Z"
   },
   {
    "duration": 0,
    "start_time": "2023-08-02T20:23:03.326Z"
   },
   {
    "duration": 0,
    "start_time": "2023-08-02T20:23:03.328Z"
   },
   {
    "duration": 0,
    "start_time": "2023-08-02T20:23:03.329Z"
   },
   {
    "duration": 0,
    "start_time": "2023-08-02T20:23:03.331Z"
   },
   {
    "duration": 0,
    "start_time": "2023-08-02T20:23:03.333Z"
   },
   {
    "duration": 0,
    "start_time": "2023-08-02T20:23:03.335Z"
   },
   {
    "duration": 0,
    "start_time": "2023-08-02T20:23:03.336Z"
   },
   {
    "duration": 0,
    "start_time": "2023-08-02T20:23:03.337Z"
   },
   {
    "duration": 1,
    "start_time": "2023-08-02T20:23:03.338Z"
   },
   {
    "duration": 0,
    "start_time": "2023-08-02T20:23:03.340Z"
   },
   {
    "duration": 0,
    "start_time": "2023-08-02T20:23:03.341Z"
   },
   {
    "duration": 0,
    "start_time": "2023-08-02T20:23:03.343Z"
   },
   {
    "duration": 3,
    "start_time": "2023-08-02T20:27:49.561Z"
   },
   {
    "duration": 6,
    "start_time": "2023-08-02T20:27:51.729Z"
   },
   {
    "duration": 7,
    "start_time": "2023-08-02T20:28:53.705Z"
   },
   {
    "duration": 3,
    "start_time": "2023-08-02T20:28:55.182Z"
   },
   {
    "duration": 4,
    "start_time": "2023-08-02T20:29:04.465Z"
   },
   {
    "duration": 4,
    "start_time": "2023-08-02T20:29:33.833Z"
   },
   {
    "duration": 5,
    "start_time": "2023-08-02T20:29:45.014Z"
   },
   {
    "duration": 240,
    "start_time": "2023-08-02T20:30:08.964Z"
   },
   {
    "duration": 11,
    "start_time": "2023-08-02T20:30:16.810Z"
   },
   {
    "duration": 6,
    "start_time": "2023-08-02T20:34:40.338Z"
   },
   {
    "duration": 16,
    "start_time": "2023-08-02T20:36:33.131Z"
   },
   {
    "duration": 16,
    "start_time": "2023-08-02T20:36:53.844Z"
   },
   {
    "duration": 6,
    "start_time": "2023-08-02T20:37:17.200Z"
   },
   {
    "duration": 10,
    "start_time": "2023-08-02T20:37:37.011Z"
   },
   {
    "duration": 4,
    "start_time": "2023-08-02T20:40:19.268Z"
   },
   {
    "duration": 88,
    "start_time": "2023-08-02T20:56:17.176Z"
   },
   {
    "duration": 26,
    "start_time": "2023-08-02T20:57:27.004Z"
   },
   {
    "duration": 18,
    "start_time": "2023-08-02T20:57:31.610Z"
   },
   {
    "duration": 26,
    "start_time": "2023-08-02T20:57:35.051Z"
   },
   {
    "duration": 5,
    "start_time": "2023-08-02T20:57:43.486Z"
   },
   {
    "duration": 5,
    "start_time": "2023-08-02T20:58:52.834Z"
   },
   {
    "duration": 7,
    "start_time": "2023-08-02T20:59:09.535Z"
   },
   {
    "duration": 5,
    "start_time": "2023-08-02T20:59:13.613Z"
   },
   {
    "duration": 8,
    "start_time": "2023-08-02T20:59:15.015Z"
   },
   {
    "duration": 112,
    "start_time": "2023-08-02T21:00:57.390Z"
   },
   {
    "duration": 4,
    "start_time": "2023-08-02T21:01:44.127Z"
   },
   {
    "duration": 761,
    "start_time": "2023-08-02T21:01:44.133Z"
   },
   {
    "duration": 13,
    "start_time": "2023-08-02T21:01:44.896Z"
   },
   {
    "duration": 53,
    "start_time": "2023-08-02T21:01:44.912Z"
   },
   {
    "duration": 78,
    "start_time": "2023-08-02T21:01:44.967Z"
   },
   {
    "duration": 240,
    "start_time": "2023-08-02T21:01:45.048Z"
   },
   {
    "duration": 31,
    "start_time": "2023-08-02T21:01:45.290Z"
   },
   {
    "duration": 13,
    "start_time": "2023-08-02T21:01:45.323Z"
   },
   {
    "duration": 8,
    "start_time": "2023-08-02T21:01:45.338Z"
   },
   {
    "duration": 20,
    "start_time": "2023-08-02T21:01:45.347Z"
   },
   {
    "duration": 5,
    "start_time": "2023-08-02T21:01:45.369Z"
   },
   {
    "duration": 32,
    "start_time": "2023-08-02T21:01:45.376Z"
   },
   {
    "duration": 9,
    "start_time": "2023-08-02T21:01:45.410Z"
   },
   {
    "duration": 27,
    "start_time": "2023-08-02T21:01:45.424Z"
   },
   {
    "duration": 15,
    "start_time": "2023-08-02T21:01:45.452Z"
   },
   {
    "duration": 11,
    "start_time": "2023-08-02T21:01:45.469Z"
   },
   {
    "duration": 6,
    "start_time": "2023-08-02T21:01:45.482Z"
   },
   {
    "duration": 19,
    "start_time": "2023-08-02T21:01:45.490Z"
   },
   {
    "duration": 9,
    "start_time": "2023-08-02T21:01:45.511Z"
   },
   {
    "duration": 8,
    "start_time": "2023-08-02T21:01:45.521Z"
   },
   {
    "duration": 5,
    "start_time": "2023-08-02T21:01:45.531Z"
   },
   {
    "duration": 6,
    "start_time": "2023-08-02T21:01:45.537Z"
   },
   {
    "duration": 11,
    "start_time": "2023-08-02T21:01:45.545Z"
   },
   {
    "duration": 7,
    "start_time": "2023-08-02T21:01:45.558Z"
   },
   {
    "duration": 5,
    "start_time": "2023-08-02T21:01:45.567Z"
   },
   {
    "duration": 9,
    "start_time": "2023-08-02T21:01:45.573Z"
   },
   {
    "duration": 27,
    "start_time": "2023-08-02T21:01:45.584Z"
   },
   {
    "duration": 6,
    "start_time": "2023-08-02T21:01:52.945Z"
   },
   {
    "duration": 7,
    "start_time": "2023-08-02T21:01:58.822Z"
   },
   {
    "duration": 28,
    "start_time": "2023-08-02T21:02:01.102Z"
   },
   {
    "duration": 26,
    "start_time": "2023-08-02T21:02:05.004Z"
   },
   {
    "duration": 489,
    "start_time": "2023-08-02T21:02:10.234Z"
   },
   {
    "duration": 14,
    "start_time": "2023-08-02T21:03:00.625Z"
   },
   {
    "duration": 565,
    "start_time": "2023-08-02T21:03:05.650Z"
   },
   {
    "duration": 790,
    "start_time": "2023-08-02T21:03:12.964Z"
   },
   {
    "duration": 104,
    "start_time": "2023-08-02T21:04:29.259Z"
   },
   {
    "duration": 496,
    "start_time": "2023-08-02T21:05:03.153Z"
   },
   {
    "duration": 465,
    "start_time": "2023-08-02T21:05:21.372Z"
   },
   {
    "duration": 469,
    "start_time": "2023-08-02T21:05:37.596Z"
   },
   {
    "duration": 468,
    "start_time": "2023-08-02T21:05:56.219Z"
   },
   {
    "duration": 439,
    "start_time": "2023-08-02T21:06:33.327Z"
   },
   {
    "duration": 823,
    "start_time": "2023-08-02T21:06:48.368Z"
   },
   {
    "duration": 529,
    "start_time": "2023-08-02T21:07:09.202Z"
   },
   {
    "duration": 471,
    "start_time": "2023-08-02T21:07:12.355Z"
   },
   {
    "duration": 364,
    "start_time": "2023-08-02T21:07:17.278Z"
   },
   {
    "duration": 21,
    "start_time": "2023-08-02T21:12:31.798Z"
   },
   {
    "duration": 7,
    "start_time": "2023-08-02T21:12:55.847Z"
   },
   {
    "duration": 4,
    "start_time": "2023-08-02T21:12:56.339Z"
   },
   {
    "duration": 6,
    "start_time": "2023-08-02T21:16:49.669Z"
   },
   {
    "duration": 136,
    "start_time": "2023-08-02T21:17:36.110Z"
   },
   {
    "duration": 138,
    "start_time": "2023-08-02T21:18:21.928Z"
   },
   {
    "duration": 138,
    "start_time": "2023-08-02T21:18:39.477Z"
   },
   {
    "duration": 132,
    "start_time": "2023-08-02T21:18:52.104Z"
   },
   {
    "duration": 152,
    "start_time": "2023-08-02T21:18:58.702Z"
   },
   {
    "duration": 132,
    "start_time": "2023-08-02T21:19:05.535Z"
   },
   {
    "duration": 78,
    "start_time": "2023-08-02T21:20:19.161Z"
   },
   {
    "duration": 614,
    "start_time": "2023-08-02T21:21:03.727Z"
   },
   {
    "duration": 474,
    "start_time": "2023-08-02T21:23:21.812Z"
   },
   {
    "duration": 175,
    "start_time": "2023-08-02T21:24:01.667Z"
   },
   {
    "duration": 212,
    "start_time": "2023-08-02T21:24:41.973Z"
   },
   {
    "duration": 42,
    "start_time": "2023-08-02T21:27:29.294Z"
   },
   {
    "duration": 37,
    "start_time": "2023-08-02T21:27:34.865Z"
   },
   {
    "duration": 23,
    "start_time": "2023-08-02T21:27:52.005Z"
   },
   {
    "duration": 32,
    "start_time": "2023-08-02T21:28:16.287Z"
   },
   {
    "duration": 1802,
    "start_time": "2023-08-02T21:28:27.647Z"
   },
   {
    "duration": 12,
    "start_time": "2023-08-02T21:28:48.453Z"
   },
   {
    "duration": 6,
    "start_time": "2023-08-02T21:28:56.048Z"
   },
   {
    "duration": 7,
    "start_time": "2023-08-02T21:29:00.734Z"
   },
   {
    "duration": 6,
    "start_time": "2023-08-02T21:29:12.321Z"
   },
   {
    "duration": 13,
    "start_time": "2023-08-02T21:29:23.936Z"
   },
   {
    "duration": 4,
    "start_time": "2023-08-02T21:29:32.360Z"
   },
   {
    "duration": 6,
    "start_time": "2023-08-02T21:29:45.365Z"
   },
   {
    "duration": 5,
    "start_time": "2023-08-02T21:29:52.674Z"
   },
   {
    "duration": 1558,
    "start_time": "2023-08-02T21:30:13.365Z"
   },
   {
    "duration": 6,
    "start_time": "2023-08-02T21:30:57.179Z"
   },
   {
    "duration": 7,
    "start_time": "2023-08-02T21:31:02.799Z"
   },
   {
    "duration": 9,
    "start_time": "2023-08-02T21:31:09.440Z"
   },
   {
    "duration": 7,
    "start_time": "2023-08-02T21:31:52.453Z"
   },
   {
    "duration": 5,
    "start_time": "2023-08-02T21:32:29.626Z"
   },
   {
    "duration": 7,
    "start_time": "2023-08-02T21:32:48.249Z"
   },
   {
    "duration": 6,
    "start_time": "2023-08-02T21:32:56.788Z"
   },
   {
    "duration": 7,
    "start_time": "2023-08-02T21:33:03.153Z"
   },
   {
    "duration": 12,
    "start_time": "2023-08-02T21:33:10.468Z"
   },
   {
    "duration": 5,
    "start_time": "2023-08-02T21:33:15.682Z"
   },
   {
    "duration": 5,
    "start_time": "2023-08-02T21:33:22.081Z"
   },
   {
    "duration": 5,
    "start_time": "2023-08-02T21:33:34.296Z"
   },
   {
    "duration": 110,
    "start_time": "2023-08-02T21:34:16.041Z"
   },
   {
    "duration": 31,
    "start_time": "2023-08-02T21:34:22.373Z"
   },
   {
    "duration": 35,
    "start_time": "2023-08-02T21:35:28.124Z"
   },
   {
    "duration": 7,
    "start_time": "2023-08-02T21:36:11.498Z"
   },
   {
    "duration": 30,
    "start_time": "2023-08-02T21:37:04.562Z"
   },
   {
    "duration": 28,
    "start_time": "2023-08-02T21:37:23.531Z"
   },
   {
    "duration": 7,
    "start_time": "2023-08-02T21:37:37.657Z"
   },
   {
    "duration": 4,
    "start_time": "2023-08-02T21:38:23.748Z"
   },
   {
    "duration": 41,
    "start_time": "2023-08-02T21:38:45.620Z"
   },
   {
    "duration": 5,
    "start_time": "2023-08-02T21:39:19.457Z"
   },
   {
    "duration": 41,
    "start_time": "2023-08-02T21:39:21.924Z"
   },
   {
    "duration": 13,
    "start_time": "2023-08-02T21:39:43.417Z"
   },
   {
    "duration": 5,
    "start_time": "2023-08-02T21:39:53.799Z"
   },
   {
    "duration": 26,
    "start_time": "2023-08-02T21:47:33.403Z"
   },
   {
    "duration": 6,
    "start_time": "2023-08-02T21:48:02.648Z"
   },
   {
    "duration": 633,
    "start_time": "2023-08-02T21:48:28.951Z"
   },
   {
    "duration": 931,
    "start_time": "2023-08-02T21:48:42.958Z"
   },
   {
    "duration": 2087,
    "start_time": "2023-08-02T21:49:36.672Z"
   },
   {
    "duration": 605,
    "start_time": "2023-08-02T21:50:20.936Z"
   },
   {
    "duration": 580,
    "start_time": "2023-08-02T21:50:43.028Z"
   },
   {
    "duration": 344,
    "start_time": "2023-08-02T21:51:23.084Z"
   },
   {
    "duration": 19,
    "start_time": "2023-08-02T21:52:16.315Z"
   },
   {
    "duration": 3,
    "start_time": "2023-08-02T21:54:50.973Z"
   },
   {
    "duration": 777,
    "start_time": "2023-08-02T21:54:50.979Z"
   },
   {
    "duration": 6,
    "start_time": "2023-08-02T21:54:51.758Z"
   },
   {
    "duration": 472,
    "start_time": "2023-08-02T21:54:51.766Z"
   },
   {
    "duration": 43,
    "start_time": "2023-08-02T21:54:52.241Z"
   },
   {
    "duration": 235,
    "start_time": "2023-08-02T21:54:52.309Z"
   },
   {
    "duration": 18,
    "start_time": "2023-08-02T21:54:52.546Z"
   },
   {
    "duration": 17,
    "start_time": "2023-08-02T21:54:52.566Z"
   },
   {
    "duration": 27,
    "start_time": "2023-08-02T21:54:52.584Z"
   },
   {
    "duration": 36,
    "start_time": "2023-08-02T21:54:52.613Z"
   },
   {
    "duration": 15,
    "start_time": "2023-08-02T21:54:52.651Z"
   },
   {
    "duration": 13,
    "start_time": "2023-08-02T21:54:52.668Z"
   },
   {
    "duration": 11,
    "start_time": "2023-08-02T21:54:52.683Z"
   },
   {
    "duration": 9,
    "start_time": "2023-08-02T21:54:52.699Z"
   },
   {
    "duration": 36,
    "start_time": "2023-08-02T21:54:52.710Z"
   },
   {
    "duration": 25,
    "start_time": "2023-08-02T21:54:52.749Z"
   },
   {
    "duration": 15,
    "start_time": "2023-08-02T21:54:52.776Z"
   },
   {
    "duration": 35,
    "start_time": "2023-08-02T21:54:52.793Z"
   },
   {
    "duration": 26,
    "start_time": "2023-08-02T21:54:52.830Z"
   },
   {
    "duration": 27,
    "start_time": "2023-08-02T21:54:52.858Z"
   },
   {
    "duration": 7,
    "start_time": "2023-08-02T21:54:52.887Z"
   },
   {
    "duration": 16,
    "start_time": "2023-08-02T21:54:52.895Z"
   },
   {
    "duration": 17,
    "start_time": "2023-08-02T21:54:52.913Z"
   },
   {
    "duration": 14,
    "start_time": "2023-08-02T21:54:52.932Z"
   },
   {
    "duration": 11,
    "start_time": "2023-08-02T21:54:52.948Z"
   },
   {
    "duration": 40,
    "start_time": "2023-08-02T21:54:52.960Z"
   },
   {
    "duration": 33,
    "start_time": "2023-08-02T21:54:53.002Z"
   },
   {
    "duration": 21,
    "start_time": "2023-08-02T21:54:53.037Z"
   },
   {
    "duration": 24,
    "start_time": "2023-08-02T21:54:53.060Z"
   },
   {
    "duration": 119,
    "start_time": "2023-08-02T21:54:53.085Z"
   },
   {
    "duration": 44,
    "start_time": "2023-08-02T21:54:53.206Z"
   },
   {
    "duration": 489,
    "start_time": "2023-08-02T21:54:53.252Z"
   },
   {
    "duration": 461,
    "start_time": "2023-08-02T21:54:53.743Z"
   },
   {
    "duration": 436,
    "start_time": "2023-08-02T21:54:54.208Z"
   },
   {
    "duration": 345,
    "start_time": "2023-08-02T21:54:54.646Z"
   },
   {
    "duration": 3,
    "start_time": "2023-08-02T21:54:54.993Z"
   },
   {
    "duration": 14,
    "start_time": "2023-08-02T21:54:54.998Z"
   },
   {
    "duration": 259,
    "start_time": "2023-08-02T21:54:55.014Z"
   },
   {
    "duration": 4,
    "start_time": "2023-08-02T21:54:55.275Z"
   },
   {
    "duration": 39,
    "start_time": "2023-08-02T21:54:55.280Z"
   },
   {
    "duration": 51,
    "start_time": "2023-08-02T21:54:55.323Z"
   },
   {
    "duration": 687,
    "start_time": "2023-08-02T21:54:55.376Z"
   },
   {
    "duration": 718,
    "start_time": "2023-08-02T21:54:56.065Z"
   },
   {
    "duration": 35,
    "start_time": "2023-08-02T21:54:56.785Z"
   },
   {
    "duration": 4,
    "start_time": "2023-08-02T21:54:56.822Z"
   },
   {
    "duration": 26,
    "start_time": "2023-08-02T21:54:56.828Z"
   },
   {
    "duration": 37,
    "start_time": "2023-08-02T21:55:02.733Z"
   },
   {
    "duration": 6,
    "start_time": "2023-08-02T21:55:15.002Z"
   },
   {
    "duration": 7,
    "start_time": "2023-08-02T21:57:31.549Z"
   },
   {
    "duration": 28,
    "start_time": "2023-08-02T21:57:49.360Z"
   },
   {
    "duration": 7,
    "start_time": "2023-08-02T21:58:07.539Z"
   },
   {
    "duration": 7,
    "start_time": "2023-08-02T21:58:16.765Z"
   },
   {
    "duration": 9,
    "start_time": "2023-08-02T21:58:55.088Z"
   },
   {
    "duration": 32,
    "start_time": "2023-08-02T21:59:01.491Z"
   },
   {
    "duration": 1370,
    "start_time": "2023-08-02T21:59:12.745Z"
   },
   {
    "duration": 1808,
    "start_time": "2023-08-02T21:59:53.002Z"
   },
   {
    "duration": 1720,
    "start_time": "2023-08-02T22:00:53.995Z"
   },
   {
    "duration": 6357,
    "start_time": "2023-08-02T22:02:59.743Z"
   },
   {
    "duration": 5498,
    "start_time": "2023-08-02T22:03:07.566Z"
   },
   {
    "duration": 1746,
    "start_time": "2023-08-02T22:04:03.197Z"
   },
   {
    "duration": 3316,
    "start_time": "2023-08-02T22:04:09.330Z"
   },
   {
    "duration": 1778,
    "start_time": "2023-08-02T22:04:15.994Z"
   },
   {
    "duration": 1784,
    "start_time": "2023-08-02T22:04:24.071Z"
   },
   {
    "duration": 1840,
    "start_time": "2023-08-02T22:04:44.698Z"
   },
   {
    "duration": 1771,
    "start_time": "2023-08-02T22:04:47.294Z"
   },
   {
    "duration": 1764,
    "start_time": "2023-08-02T22:05:16.094Z"
   },
   {
    "duration": 207,
    "start_time": "2023-08-02T22:05:18.868Z"
   },
   {
    "duration": 319,
    "start_time": "2023-08-02T22:10:24.197Z"
   },
   {
    "duration": 6,
    "start_time": "2023-08-02T22:12:13.483Z"
   },
   {
    "duration": 12,
    "start_time": "2023-08-02T22:14:54.610Z"
   },
   {
    "duration": 7,
    "start_time": "2023-08-02T22:15:15.999Z"
   },
   {
    "duration": 12,
    "start_time": "2023-08-02T22:16:22.847Z"
   },
   {
    "duration": 16,
    "start_time": "2023-08-02T22:21:43.015Z"
   },
   {
    "duration": 4,
    "start_time": "2023-08-02T22:21:58.342Z"
   },
   {
    "duration": 4,
    "start_time": "2023-08-02T22:22:04.737Z"
   },
   {
    "duration": 3,
    "start_time": "2023-08-02T22:23:10.836Z"
   },
   {
    "duration": 250,
    "start_time": "2023-08-02T22:23:16.967Z"
   },
   {
    "duration": 3,
    "start_time": "2023-08-02T22:24:28.263Z"
   },
   {
    "duration": 3,
    "start_time": "2023-08-02T22:24:28.575Z"
   },
   {
    "duration": 2278,
    "start_time": "2023-08-02T22:25:03.241Z"
   },
   {
    "duration": 1982,
    "start_time": "2023-08-02T22:25:39.530Z"
   },
   {
    "duration": 2202,
    "start_time": "2023-08-02T22:25:51.011Z"
   },
   {
    "duration": 2528,
    "start_time": "2023-08-02T22:26:03.782Z"
   },
   {
    "duration": 3641,
    "start_time": "2023-08-02T22:26:39.385Z"
   },
   {
    "duration": 2800,
    "start_time": "2023-08-02T22:27:01.611Z"
   },
   {
    "duration": 1955,
    "start_time": "2023-08-02T22:27:45.948Z"
   },
   {
    "duration": 1930,
    "start_time": "2023-08-02T22:28:05.776Z"
   },
   {
    "duration": 1870,
    "start_time": "2023-08-02T22:28:28.166Z"
   },
   {
    "duration": 1849,
    "start_time": "2023-08-02T22:28:45.953Z"
   },
   {
    "duration": 3,
    "start_time": "2023-08-02T22:29:19.239Z"
   },
   {
    "duration": 2,
    "start_time": "2023-08-02T22:29:23.583Z"
   },
   {
    "duration": 2,
    "start_time": "2023-08-02T22:29:26.386Z"
   },
   {
    "duration": 4,
    "start_time": "2023-08-02T22:29:32.728Z"
   },
   {
    "duration": 3,
    "start_time": "2023-08-02T22:29:37.477Z"
   },
   {
    "duration": 5,
    "start_time": "2023-08-02T22:39:21.992Z"
   },
   {
    "duration": 717,
    "start_time": "2023-08-02T22:39:22.000Z"
   },
   {
    "duration": 6,
    "start_time": "2023-08-02T22:39:22.718Z"
   },
   {
    "duration": 45,
    "start_time": "2023-08-02T22:39:22.726Z"
   },
   {
    "duration": 66,
    "start_time": "2023-08-02T22:39:22.773Z"
   },
   {
    "duration": 240,
    "start_time": "2023-08-02T22:39:22.840Z"
   },
   {
    "duration": 33,
    "start_time": "2023-08-02T22:39:23.081Z"
   },
   {
    "duration": 14,
    "start_time": "2023-08-02T22:39:23.116Z"
   },
   {
    "duration": 18,
    "start_time": "2023-08-02T22:39:23.131Z"
   },
   {
    "duration": 18,
    "start_time": "2023-08-02T22:39:23.150Z"
   },
   {
    "duration": 9,
    "start_time": "2023-08-02T22:39:23.169Z"
   },
   {
    "duration": 11,
    "start_time": "2023-08-02T22:39:23.180Z"
   },
   {
    "duration": 16,
    "start_time": "2023-08-02T22:39:23.193Z"
   },
   {
    "duration": 2,
    "start_time": "2023-08-02T22:39:23.212Z"
   },
   {
    "duration": 17,
    "start_time": "2023-08-02T22:39:23.216Z"
   },
   {
    "duration": 10,
    "start_time": "2023-08-02T22:39:23.235Z"
   },
   {
    "duration": 5,
    "start_time": "2023-08-02T22:39:23.246Z"
   },
   {
    "duration": 14,
    "start_time": "2023-08-02T22:39:23.252Z"
   },
   {
    "duration": 9,
    "start_time": "2023-08-02T22:39:23.268Z"
   },
   {
    "duration": 31,
    "start_time": "2023-08-02T22:39:23.278Z"
   },
   {
    "duration": 4,
    "start_time": "2023-08-02T22:39:23.311Z"
   },
   {
    "duration": 8,
    "start_time": "2023-08-02T22:39:23.317Z"
   },
   {
    "duration": 8,
    "start_time": "2023-08-02T22:39:23.326Z"
   },
   {
    "duration": 7,
    "start_time": "2023-08-02T22:39:23.336Z"
   },
   {
    "duration": 6,
    "start_time": "2023-08-02T22:39:23.344Z"
   },
   {
    "duration": 8,
    "start_time": "2023-08-02T22:39:23.352Z"
   },
   {
    "duration": 5,
    "start_time": "2023-08-02T22:39:23.361Z"
   },
   {
    "duration": 11,
    "start_time": "2023-08-02T22:39:23.368Z"
   },
   {
    "duration": 28,
    "start_time": "2023-08-02T22:39:23.381Z"
   },
   {
    "duration": 22,
    "start_time": "2023-08-02T22:39:23.411Z"
   },
   {
    "duration": 17,
    "start_time": "2023-08-02T22:39:23.434Z"
   },
   {
    "duration": 473,
    "start_time": "2023-08-02T22:39:23.452Z"
   },
   {
    "duration": 428,
    "start_time": "2023-08-02T22:39:23.926Z"
   },
   {
    "duration": 411,
    "start_time": "2023-08-02T22:39:24.357Z"
   },
   {
    "duration": 696,
    "start_time": "2023-08-02T22:39:24.770Z"
   },
   {
    "duration": 3,
    "start_time": "2023-08-02T22:39:25.468Z"
   },
   {
    "duration": 5,
    "start_time": "2023-08-02T22:39:25.473Z"
   },
   {
    "duration": 213,
    "start_time": "2023-08-02T22:39:25.480Z"
   },
   {
    "duration": 15,
    "start_time": "2023-08-02T22:39:25.695Z"
   },
   {
    "duration": 15,
    "start_time": "2023-08-02T22:39:25.711Z"
   },
   {
    "duration": 6,
    "start_time": "2023-08-02T22:39:25.732Z"
   },
   {
    "duration": 688,
    "start_time": "2023-08-02T22:39:25.740Z"
   },
   {
    "duration": 346,
    "start_time": "2023-08-02T22:39:26.430Z"
   },
   {
    "duration": 33,
    "start_time": "2023-08-02T22:39:26.778Z"
   },
   {
    "duration": 4,
    "start_time": "2023-08-02T22:39:26.812Z"
   },
   {
    "duration": 8,
    "start_time": "2023-08-02T22:39:26.817Z"
   },
   {
    "duration": 8,
    "start_time": "2023-08-02T22:39:26.826Z"
   },
   {
    "duration": 11,
    "start_time": "2023-08-02T22:39:26.835Z"
   },
   {
    "duration": 30,
    "start_time": "2023-08-02T22:39:26.848Z"
   },
   {
    "duration": 1565,
    "start_time": "2023-08-02T22:39:26.880Z"
   },
   {
    "duration": 1790,
    "start_time": "2023-08-02T22:39:28.447Z"
   },
   {
    "duration": 3,
    "start_time": "2023-08-02T22:39:41.249Z"
   },
   {
    "duration": 4,
    "start_time": "2023-08-02T22:39:48.360Z"
   },
   {
    "duration": 723,
    "start_time": "2023-08-02T22:39:48.366Z"
   },
   {
    "duration": 6,
    "start_time": "2023-08-02T22:39:49.091Z"
   },
   {
    "duration": 46,
    "start_time": "2023-08-02T22:39:49.109Z"
   },
   {
    "duration": 65,
    "start_time": "2023-08-02T22:39:49.157Z"
   },
   {
    "duration": 229,
    "start_time": "2023-08-02T22:39:49.224Z"
   },
   {
    "duration": 19,
    "start_time": "2023-08-02T22:39:49.455Z"
   },
   {
    "duration": 12,
    "start_time": "2023-08-02T22:39:49.476Z"
   },
   {
    "duration": 21,
    "start_time": "2023-08-02T22:39:49.489Z"
   },
   {
    "duration": 16,
    "start_time": "2023-08-02T22:39:49.511Z"
   },
   {
    "duration": 5,
    "start_time": "2023-08-02T22:39:49.529Z"
   },
   {
    "duration": 14,
    "start_time": "2023-08-02T22:39:49.535Z"
   },
   {
    "duration": 7,
    "start_time": "2023-08-02T22:39:49.550Z"
   },
   {
    "duration": 2,
    "start_time": "2023-08-02T22:39:49.560Z"
   },
   {
    "duration": 13,
    "start_time": "2023-08-02T22:39:49.563Z"
   },
   {
    "duration": 35,
    "start_time": "2023-08-02T22:39:49.578Z"
   },
   {
    "duration": 5,
    "start_time": "2023-08-02T22:39:49.614Z"
   },
   {
    "duration": 13,
    "start_time": "2023-08-02T22:39:49.620Z"
   },
   {
    "duration": 7,
    "start_time": "2023-08-02T22:39:49.635Z"
   },
   {
    "duration": 7,
    "start_time": "2023-08-02T22:39:49.644Z"
   },
   {
    "duration": 16,
    "start_time": "2023-08-02T22:39:49.652Z"
   },
   {
    "duration": 15,
    "start_time": "2023-08-02T22:39:49.670Z"
   },
   {
    "duration": 11,
    "start_time": "2023-08-02T22:39:49.686Z"
   },
   {
    "duration": 13,
    "start_time": "2023-08-02T22:39:49.699Z"
   },
   {
    "duration": 13,
    "start_time": "2023-08-02T22:39:49.713Z"
   },
   {
    "duration": 13,
    "start_time": "2023-08-02T22:39:49.727Z"
   },
   {
    "duration": 7,
    "start_time": "2023-08-02T22:39:49.742Z"
   },
   {
    "duration": 10,
    "start_time": "2023-08-02T22:39:49.750Z"
   },
   {
    "duration": 24,
    "start_time": "2023-08-02T22:39:49.762Z"
   },
   {
    "duration": 20,
    "start_time": "2023-08-02T22:39:49.788Z"
   },
   {
    "duration": 16,
    "start_time": "2023-08-02T22:39:49.810Z"
   },
   {
    "duration": 821,
    "start_time": "2023-08-02T22:39:49.828Z"
   },
   {
    "duration": 440,
    "start_time": "2023-08-02T22:39:50.651Z"
   },
   {
    "duration": 398,
    "start_time": "2023-08-02T22:39:51.092Z"
   },
   {
    "duration": 326,
    "start_time": "2023-08-02T22:39:51.492Z"
   },
   {
    "duration": 3,
    "start_time": "2023-08-02T22:39:51.819Z"
   },
   {
    "duration": 26,
    "start_time": "2023-08-02T22:39:51.823Z"
   },
   {
    "duration": 222,
    "start_time": "2023-08-02T22:39:51.851Z"
   },
   {
    "duration": 5,
    "start_time": "2023-08-02T22:39:52.075Z"
   },
   {
    "duration": 48,
    "start_time": "2023-08-02T22:39:52.081Z"
   },
   {
    "duration": 14,
    "start_time": "2023-08-02T22:39:52.135Z"
   },
   {
    "duration": 631,
    "start_time": "2023-08-02T22:39:52.151Z"
   },
   {
    "duration": 699,
    "start_time": "2023-08-02T22:39:52.784Z"
   },
   {
    "duration": 27,
    "start_time": "2023-08-02T22:39:53.485Z"
   },
   {
    "duration": 3,
    "start_time": "2023-08-02T22:39:53.513Z"
   },
   {
    "duration": 84,
    "start_time": "2023-08-02T22:39:53.517Z"
   },
   {
    "duration": 114,
    "start_time": "2023-08-02T22:39:53.602Z"
   },
   {
    "duration": 40,
    "start_time": "2023-08-02T22:39:53.718Z"
   },
   {
    "duration": 76,
    "start_time": "2023-08-02T22:39:53.760Z"
   },
   {
    "duration": 1473,
    "start_time": "2023-08-02T22:39:53.837Z"
   },
   {
    "duration": 1598,
    "start_time": "2023-08-02T22:39:55.312Z"
   },
   {
    "duration": 26,
    "start_time": "2023-08-02T22:43:24.734Z"
   },
   {
    "duration": 26,
    "start_time": "2023-08-02T22:43:37.015Z"
   },
   {
    "duration": 758,
    "start_time": "2023-08-02T22:44:42.880Z"
   },
   {
    "duration": 6,
    "start_time": "2023-08-02T22:44:45.718Z"
   },
   {
    "duration": 31,
    "start_time": "2023-08-02T22:45:51.753Z"
   },
   {
    "duration": 14,
    "start_time": "2023-08-02T22:46:11.631Z"
   },
   {
    "duration": 9,
    "start_time": "2023-08-02T22:46:17.746Z"
   },
   {
    "duration": 9,
    "start_time": "2023-08-02T22:46:23.550Z"
   },
   {
    "duration": 5,
    "start_time": "2023-08-02T22:58:04.672Z"
   },
   {
    "duration": 4,
    "start_time": "2023-08-02T22:58:42.722Z"
   },
   {
    "duration": 755,
    "start_time": "2023-08-02T22:58:42.728Z"
   },
   {
    "duration": 6,
    "start_time": "2023-08-02T22:58:43.485Z"
   },
   {
    "duration": 70,
    "start_time": "2023-08-02T22:58:43.493Z"
   },
   {
    "duration": 61,
    "start_time": "2023-08-02T22:58:43.564Z"
   },
   {
    "duration": 231,
    "start_time": "2023-08-02T22:58:43.626Z"
   },
   {
    "duration": 18,
    "start_time": "2023-08-02T22:58:43.859Z"
   },
   {
    "duration": 27,
    "start_time": "2023-08-02T22:58:43.878Z"
   },
   {
    "duration": 27,
    "start_time": "2023-08-02T22:58:43.907Z"
   },
   {
    "duration": 44,
    "start_time": "2023-08-02T22:58:43.937Z"
   },
   {
    "duration": 35,
    "start_time": "2023-08-02T22:58:43.983Z"
   },
   {
    "duration": 40,
    "start_time": "2023-08-02T22:58:44.020Z"
   },
   {
    "duration": 48,
    "start_time": "2023-08-02T22:58:44.062Z"
   },
   {
    "duration": 55,
    "start_time": "2023-08-02T22:58:44.112Z"
   },
   {
    "duration": 61,
    "start_time": "2023-08-02T22:58:44.168Z"
   },
   {
    "duration": 43,
    "start_time": "2023-08-02T22:58:44.230Z"
   },
   {
    "duration": 39,
    "start_time": "2023-08-02T22:58:44.275Z"
   },
   {
    "duration": 66,
    "start_time": "2023-08-02T22:58:44.316Z"
   },
   {
    "duration": 125,
    "start_time": "2023-08-02T22:58:44.384Z"
   },
   {
    "duration": 32,
    "start_time": "2023-08-02T22:58:44.511Z"
   },
   {
    "duration": 21,
    "start_time": "2023-08-02T22:58:44.544Z"
   },
   {
    "duration": 23,
    "start_time": "2023-08-02T22:58:44.567Z"
   },
   {
    "duration": 25,
    "start_time": "2023-08-02T22:58:44.592Z"
   },
   {
    "duration": 42,
    "start_time": "2023-08-02T22:58:44.619Z"
   },
   {
    "duration": 41,
    "start_time": "2023-08-02T22:58:44.663Z"
   },
   {
    "duration": 35,
    "start_time": "2023-08-02T22:58:44.705Z"
   },
   {
    "duration": 27,
    "start_time": "2023-08-02T22:58:53.198Z"
   },
   {
    "duration": 23,
    "start_time": "2023-08-02T22:59:00.697Z"
   },
   {
    "duration": 8,
    "start_time": "2023-08-02T22:59:08.228Z"
   },
   {
    "duration": 40,
    "start_time": "2023-08-02T23:03:06.293Z"
   },
   {
    "duration": 17,
    "start_time": "2023-08-02T23:03:12.247Z"
   },
   {
    "duration": 26,
    "start_time": "2023-08-02T23:03:47.582Z"
   },
   {
    "duration": 4,
    "start_time": "2023-08-02T23:05:34.237Z"
   },
   {
    "duration": 270,
    "start_time": "2023-08-02T23:05:37.139Z"
   },
   {
    "duration": 4,
    "start_time": "2023-08-02T23:05:38.158Z"
   },
   {
    "duration": 108,
    "start_time": "2023-08-02T23:09:05.560Z"
   },
   {
    "duration": 85,
    "start_time": "2023-08-02T23:09:10.687Z"
   },
   {
    "duration": 1583,
    "start_time": "2023-08-02T23:11:35.672Z"
   },
   {
    "duration": 801,
    "start_time": "2023-08-02T23:11:37.257Z"
   },
   {
    "duration": 8,
    "start_time": "2023-08-02T23:11:38.059Z"
   },
   {
    "duration": 71,
    "start_time": "2023-08-02T23:11:38.069Z"
   },
   {
    "duration": 68,
    "start_time": "2023-08-02T23:11:38.142Z"
   },
   {
    "duration": 246,
    "start_time": "2023-08-02T23:11:38.212Z"
   },
   {
    "duration": 19,
    "start_time": "2023-08-02T23:11:38.459Z"
   },
   {
    "duration": 32,
    "start_time": "2023-08-02T23:11:38.479Z"
   },
   {
    "duration": 43,
    "start_time": "2023-08-02T23:11:38.513Z"
   },
   {
    "duration": 58,
    "start_time": "2023-08-02T23:11:38.559Z"
   },
   {
    "duration": 19,
    "start_time": "2023-08-02T23:11:38.620Z"
   },
   {
    "duration": 29,
    "start_time": "2023-08-02T23:11:38.641Z"
   },
   {
    "duration": 7,
    "start_time": "2023-08-02T23:11:38.672Z"
   },
   {
    "duration": 8,
    "start_time": "2023-08-02T23:11:38.680Z"
   },
   {
    "duration": 22,
    "start_time": "2023-08-02T23:11:38.690Z"
   },
   {
    "duration": 10,
    "start_time": "2023-08-02T23:11:38.714Z"
   },
   {
    "duration": 8,
    "start_time": "2023-08-02T23:11:38.726Z"
   },
   {
    "duration": 17,
    "start_time": "2023-08-02T23:11:38.736Z"
   },
   {
    "duration": 10,
    "start_time": "2023-08-02T23:11:38.755Z"
   },
   {
    "duration": 25,
    "start_time": "2023-08-02T23:11:38.766Z"
   },
   {
    "duration": 13,
    "start_time": "2023-08-02T23:11:38.793Z"
   },
   {
    "duration": 15,
    "start_time": "2023-08-02T23:11:38.808Z"
   },
   {
    "duration": 10,
    "start_time": "2023-08-02T23:11:38.825Z"
   },
   {
    "duration": 7,
    "start_time": "2023-08-02T23:11:38.837Z"
   },
   {
    "duration": 5,
    "start_time": "2023-08-02T23:11:38.846Z"
   },
   {
    "duration": 7,
    "start_time": "2023-08-02T23:11:38.853Z"
   },
   {
    "duration": 9,
    "start_time": "2023-08-02T23:11:38.861Z"
   },
   {
    "duration": 29,
    "start_time": "2023-08-02T23:11:38.873Z"
   },
   {
    "duration": 13,
    "start_time": "2023-08-02T23:11:38.904Z"
   },
   {
    "duration": 15,
    "start_time": "2023-08-02T23:11:38.919Z"
   },
   {
    "duration": 37,
    "start_time": "2023-08-02T23:11:38.935Z"
   },
   {
    "duration": 37,
    "start_time": "2023-08-02T23:11:38.973Z"
   },
   {
    "duration": 692,
    "start_time": "2023-08-02T23:11:39.012Z"
   },
   {
    "duration": 529,
    "start_time": "2023-08-02T23:11:39.705Z"
   },
   {
    "duration": 430,
    "start_time": "2023-08-02T23:11:40.235Z"
   },
   {
    "duration": 364,
    "start_time": "2023-08-02T23:11:40.667Z"
   },
   {
    "duration": 3,
    "start_time": "2023-08-02T23:11:41.034Z"
   },
   {
    "duration": 8,
    "start_time": "2023-08-02T23:11:41.038Z"
   },
   {
    "duration": 762,
    "start_time": "2023-08-02T23:11:41.049Z"
   },
   {
    "duration": 6,
    "start_time": "2023-08-02T23:11:41.814Z"
   },
   {
    "duration": 22,
    "start_time": "2023-08-02T23:11:41.823Z"
   },
   {
    "duration": 11,
    "start_time": "2023-08-02T23:11:41.847Z"
   },
   {
    "duration": 804,
    "start_time": "2023-08-02T23:11:41.859Z"
   },
   {
    "duration": 347,
    "start_time": "2023-08-02T23:11:42.665Z"
   },
   {
    "duration": 24,
    "start_time": "2023-08-02T23:11:43.015Z"
   },
   {
    "duration": 4,
    "start_time": "2023-08-02T23:11:43.040Z"
   },
   {
    "duration": 8,
    "start_time": "2023-08-02T23:11:43.045Z"
   },
   {
    "duration": 12,
    "start_time": "2023-08-02T23:11:43.054Z"
   },
   {
    "duration": 21,
    "start_time": "2023-08-02T23:11:43.067Z"
   },
   {
    "duration": 54,
    "start_time": "2023-08-02T23:11:43.089Z"
   },
   {
    "duration": 4475,
    "start_time": "2023-08-02T23:11:43.145Z"
   },
   {
    "duration": 2404,
    "start_time": "2023-08-02T23:11:47.623Z"
   },
   {
    "duration": 2062,
    "start_time": "2023-08-02T23:11:50.113Z"
   },
   {
    "duration": 1942,
    "start_time": "2023-08-02T23:11:52.176Z"
   },
   {
    "duration": 390,
    "start_time": "2023-08-02T23:11:54.121Z"
   },
   {
    "duration": 5,
    "start_time": "2023-08-02T23:11:54.519Z"
   },
   {
    "duration": 88,
    "start_time": "2023-08-02T23:11:54.532Z"
   },
   {
    "duration": 81,
    "start_time": "2023-08-02T23:11:54.629Z"
   },
   {
    "duration": 26,
    "start_time": "2023-08-02T23:11:54.713Z"
   },
   {
    "duration": 11,
    "start_time": "2023-08-02T23:11:54.740Z"
   },
   {
    "duration": 19,
    "start_time": "2023-08-03T22:52:21.698Z"
   },
   {
    "duration": 315,
    "start_time": "2023-08-03T22:52:29.318Z"
   },
   {
    "duration": 169,
    "start_time": "2023-08-03T22:52:35.079Z"
   },
   {
    "duration": 1746,
    "start_time": "2023-08-03T22:52:55.705Z"
   },
   {
    "duration": 716,
    "start_time": "2023-08-03T22:52:57.452Z"
   },
   {
    "duration": 8,
    "start_time": "2023-08-03T22:52:58.170Z"
   },
   {
    "duration": 71,
    "start_time": "2023-08-03T22:52:58.180Z"
   },
   {
    "duration": 36,
    "start_time": "2023-08-03T22:52:58.252Z"
   },
   {
    "duration": 225,
    "start_time": "2023-08-03T22:52:58.290Z"
   },
   {
    "duration": 24,
    "start_time": "2023-08-03T22:52:58.519Z"
   },
   {
    "duration": 11,
    "start_time": "2023-08-03T22:52:58.545Z"
   },
   {
    "duration": 5,
    "start_time": "2023-08-03T22:52:58.558Z"
   },
   {
    "duration": 17,
    "start_time": "2023-08-03T22:52:58.564Z"
   },
   {
    "duration": 17,
    "start_time": "2023-08-03T22:52:58.583Z"
   },
   {
    "duration": 11,
    "start_time": "2023-08-03T22:52:58.601Z"
   },
   {
    "duration": 13,
    "start_time": "2023-08-03T22:52:58.614Z"
   },
   {
    "duration": 14,
    "start_time": "2023-08-03T22:52:58.629Z"
   },
   {
    "duration": 37,
    "start_time": "2023-08-03T22:52:58.644Z"
   },
   {
    "duration": 8,
    "start_time": "2023-08-03T22:52:58.682Z"
   },
   {
    "duration": 18,
    "start_time": "2023-08-03T22:52:58.691Z"
   },
   {
    "duration": 21,
    "start_time": "2023-08-03T22:52:58.710Z"
   },
   {
    "duration": 25,
    "start_time": "2023-08-03T22:52:58.733Z"
   },
   {
    "duration": 16,
    "start_time": "2023-08-03T22:52:58.760Z"
   },
   {
    "duration": 11,
    "start_time": "2023-08-03T22:52:58.777Z"
   },
   {
    "duration": 25,
    "start_time": "2023-08-03T22:52:58.789Z"
   },
   {
    "duration": 24,
    "start_time": "2023-08-03T22:52:58.815Z"
   },
   {
    "duration": 16,
    "start_time": "2023-08-03T22:52:58.840Z"
   },
   {
    "duration": 12,
    "start_time": "2023-08-03T22:52:58.857Z"
   },
   {
    "duration": 8,
    "start_time": "2023-08-03T22:52:58.870Z"
   },
   {
    "duration": 13,
    "start_time": "2023-08-03T22:52:58.879Z"
   },
   {
    "duration": 10,
    "start_time": "2023-08-03T22:52:58.893Z"
   },
   {
    "duration": 10,
    "start_time": "2023-08-03T22:52:58.905Z"
   },
   {
    "duration": 22,
    "start_time": "2023-08-03T22:52:58.917Z"
   },
   {
    "duration": 18,
    "start_time": "2023-08-03T22:52:58.940Z"
   },
   {
    "duration": 12,
    "start_time": "2023-08-03T22:52:58.959Z"
   },
   {
    "duration": 443,
    "start_time": "2023-08-03T22:52:58.972Z"
   },
   {
    "duration": 475,
    "start_time": "2023-08-03T22:52:59.416Z"
   },
   {
    "duration": 387,
    "start_time": "2023-08-03T22:52:59.892Z"
   },
   {
    "duration": 308,
    "start_time": "2023-08-03T22:53:00.281Z"
   },
   {
    "duration": 3,
    "start_time": "2023-08-03T22:53:00.590Z"
   },
   {
    "duration": 53,
    "start_time": "2023-08-03T22:53:00.594Z"
   },
   {
    "duration": 1086,
    "start_time": "2023-08-03T22:53:00.649Z"
   },
   {
    "duration": 4,
    "start_time": "2023-08-03T22:53:01.739Z"
   },
   {
    "duration": 31,
    "start_time": "2023-08-03T22:53:01.744Z"
   },
   {
    "duration": 81,
    "start_time": "2023-08-03T22:53:01.776Z"
   },
   {
    "duration": 591,
    "start_time": "2023-08-03T22:53:01.858Z"
   },
   {
    "duration": 370,
    "start_time": "2023-08-03T22:53:02.451Z"
   },
   {
    "duration": 18,
    "start_time": "2023-08-03T22:53:02.823Z"
   },
   {
    "duration": 27,
    "start_time": "2023-08-03T22:53:02.842Z"
   },
   {
    "duration": 11,
    "start_time": "2023-08-03T22:53:02.870Z"
   },
   {
    "duration": 20,
    "start_time": "2023-08-03T22:53:02.882Z"
   },
   {
    "duration": 28,
    "start_time": "2023-08-03T22:53:02.904Z"
   },
   {
    "duration": 54,
    "start_time": "2023-08-03T22:53:02.933Z"
   },
   {
    "duration": 21,
    "start_time": "2023-08-03T22:53:06.657Z"
   },
   {
    "duration": 2530,
    "start_time": "2023-08-03T22:53:15.395Z"
   },
   {
    "duration": 23,
    "start_time": "2023-08-03T22:53:24.677Z"
   },
   {
    "duration": 4,
    "start_time": "2023-08-03T22:53:45.496Z"
   },
   {
    "duration": 1640,
    "start_time": "2023-08-03T22:53:53.116Z"
   },
   {
    "duration": 1645,
    "start_time": "2023-08-03T22:54:03.241Z"
   },
   {
    "duration": 23,
    "start_time": "2023-08-03T22:54:51.133Z"
   },
   {
    "duration": 3,
    "start_time": "2023-08-03T22:55:48.102Z"
   },
   {
    "duration": 4,
    "start_time": "2023-08-03T22:56:02.135Z"
   },
   {
    "duration": 4,
    "start_time": "2023-08-03T22:56:05.632Z"
   },
   {
    "duration": 4,
    "start_time": "2023-08-04T05:21:09.248Z"
   },
   {
    "duration": 2,
    "start_time": "2023-08-04T05:21:12.912Z"
   },
   {
    "duration": 52,
    "start_time": "2023-08-04T05:21:49.956Z"
   },
   {
    "duration": 1686,
    "start_time": "2023-08-04T05:21:57.300Z"
   },
   {
    "duration": 3338,
    "start_time": "2023-08-04T05:21:58.989Z"
   },
   {
    "duration": 9,
    "start_time": "2023-08-04T05:22:02.329Z"
   },
   {
    "duration": 73,
    "start_time": "2023-08-04T05:22:02.340Z"
   },
   {
    "duration": 71,
    "start_time": "2023-08-04T05:22:02.416Z"
   },
   {
    "duration": 264,
    "start_time": "2023-08-04T05:22:02.490Z"
   },
   {
    "duration": 33,
    "start_time": "2023-08-04T05:22:02.757Z"
   },
   {
    "duration": 15,
    "start_time": "2023-08-04T05:22:02.792Z"
   },
   {
    "duration": 5,
    "start_time": "2023-08-04T05:22:02.809Z"
   },
   {
    "duration": 20,
    "start_time": "2023-08-04T05:22:02.816Z"
   },
   {
    "duration": 5,
    "start_time": "2023-08-04T05:22:02.837Z"
   },
   {
    "duration": 38,
    "start_time": "2023-08-04T05:22:02.844Z"
   },
   {
    "duration": 7,
    "start_time": "2023-08-04T05:22:02.884Z"
   },
   {
    "duration": 3,
    "start_time": "2023-08-04T05:22:02.894Z"
   },
   {
    "duration": 17,
    "start_time": "2023-08-04T05:22:02.898Z"
   },
   {
    "duration": 7,
    "start_time": "2023-08-04T05:22:02.916Z"
   },
   {
    "duration": 4,
    "start_time": "2023-08-04T05:22:02.925Z"
   },
   {
    "duration": 14,
    "start_time": "2023-08-04T05:22:02.931Z"
   },
   {
    "duration": 32,
    "start_time": "2023-08-04T05:22:02.946Z"
   },
   {
    "duration": 13,
    "start_time": "2023-08-04T05:22:02.979Z"
   },
   {
    "duration": 6,
    "start_time": "2023-08-04T05:22:02.994Z"
   },
   {
    "duration": 7,
    "start_time": "2023-08-04T05:22:03.002Z"
   },
   {
    "duration": 13,
    "start_time": "2023-08-04T05:22:03.010Z"
   },
   {
    "duration": 8,
    "start_time": "2023-08-04T05:22:03.024Z"
   },
   {
    "duration": 10,
    "start_time": "2023-08-04T05:22:03.033Z"
   },
   {
    "duration": 8,
    "start_time": "2023-08-04T05:22:03.045Z"
   },
   {
    "duration": 5,
    "start_time": "2023-08-04T05:22:03.054Z"
   },
   {
    "duration": 22,
    "start_time": "2023-08-04T05:22:03.060Z"
   },
   {
    "duration": 4,
    "start_time": "2023-08-04T05:22:03.084Z"
   },
   {
    "duration": 10,
    "start_time": "2023-08-04T05:22:03.090Z"
   },
   {
    "duration": 25,
    "start_time": "2023-08-04T05:22:03.101Z"
   },
   {
    "duration": 53,
    "start_time": "2023-08-04T05:22:03.128Z"
   },
   {
    "duration": 614,
    "start_time": "2023-08-04T05:22:03.183Z"
   },
   {
    "duration": 495,
    "start_time": "2023-08-04T05:22:03.799Z"
   },
   {
    "duration": 433,
    "start_time": "2023-08-04T05:22:04.296Z"
   },
   {
    "duration": 363,
    "start_time": "2023-08-04T05:22:04.730Z"
   },
   {
    "duration": 4,
    "start_time": "2023-08-04T05:22:05.095Z"
   },
   {
    "duration": 29,
    "start_time": "2023-08-04T05:22:05.101Z"
   },
   {
    "duration": 747,
    "start_time": "2023-08-04T05:22:05.132Z"
   },
   {
    "duration": 4,
    "start_time": "2023-08-04T05:22:05.880Z"
   },
   {
    "duration": 13,
    "start_time": "2023-08-04T05:22:05.896Z"
   },
   {
    "duration": 14,
    "start_time": "2023-08-04T05:22:05.911Z"
   },
   {
    "duration": 769,
    "start_time": "2023-08-04T05:22:10.499Z"
   },
   {
    "duration": 633,
    "start_time": "2023-08-04T05:22:23.277Z"
   },
   {
    "duration": 641,
    "start_time": "2023-08-04T05:22:33.658Z"
   },
   {
    "duration": 776,
    "start_time": "2023-08-04T05:22:42.671Z"
   },
   {
    "duration": 134,
    "start_time": "2023-08-04T05:22:50.934Z"
   },
   {
    "duration": 339,
    "start_time": "2023-08-04T05:22:56.592Z"
   },
   {
    "duration": 452,
    "start_time": "2023-08-04T05:23:59.805Z"
   },
   {
    "duration": 220,
    "start_time": "2023-08-04T05:24:35.305Z"
   },
   {
    "duration": 145,
    "start_time": "2023-08-04T05:24:41.303Z"
   },
   {
    "duration": 267,
    "start_time": "2023-08-04T05:24:48.903Z"
   },
   {
    "duration": 397,
    "start_time": "2023-08-04T05:30:06.373Z"
   },
   {
    "duration": 424,
    "start_time": "2023-08-04T05:30:57.443Z"
   },
   {
    "duration": 395,
    "start_time": "2023-08-04T05:31:03.263Z"
   },
   {
    "duration": 374,
    "start_time": "2023-08-04T05:31:30.000Z"
   },
   {
    "duration": 446,
    "start_time": "2023-08-04T05:31:39.137Z"
   },
   {
    "duration": 459,
    "start_time": "2023-08-04T05:31:53.437Z"
   },
   {
    "duration": 392,
    "start_time": "2023-08-04T05:32:08.990Z"
   },
   {
    "duration": 419,
    "start_time": "2023-08-04T05:32:55.155Z"
   },
   {
    "duration": 518,
    "start_time": "2023-08-04T05:33:58.150Z"
   },
   {
    "duration": 352,
    "start_time": "2023-08-04T05:34:54.617Z"
   },
   {
    "duration": 387,
    "start_time": "2023-08-04T05:35:35.697Z"
   },
   {
    "duration": 483,
    "start_time": "2023-08-04T05:35:43.451Z"
   },
   {
    "duration": 423,
    "start_time": "2023-08-04T05:35:52.825Z"
   },
   {
    "duration": 3,
    "start_time": "2023-08-04T05:36:31.472Z"
   },
   {
    "duration": 2,
    "start_time": "2023-08-04T05:36:39.435Z"
   },
   {
    "duration": 428,
    "start_time": "2023-08-04T05:37:18.580Z"
   },
   {
    "duration": 415,
    "start_time": "2023-08-04T05:37:26.481Z"
   },
   {
    "duration": 3,
    "start_time": "2023-08-04T05:40:26.296Z"
   },
   {
    "duration": 12,
    "start_time": "2023-08-04T05:41:14.556Z"
   },
   {
    "duration": 20,
    "start_time": "2023-08-04T05:41:38.510Z"
   },
   {
    "duration": 7,
    "start_time": "2023-08-04T05:42:14.164Z"
   },
   {
    "duration": 13,
    "start_time": "2023-08-04T05:42:55.029Z"
   },
   {
    "duration": 11,
    "start_time": "2023-08-04T05:43:11.316Z"
   },
   {
    "duration": 7,
    "start_time": "2023-08-04T05:47:37.646Z"
   },
   {
    "duration": 726,
    "start_time": "2023-08-04T05:47:51.706Z"
   },
   {
    "duration": 11,
    "start_time": "2023-08-04T05:48:12.991Z"
   },
   {
    "duration": 2899,
    "start_time": "2023-08-04T05:50:46.585Z"
   },
   {
    "duration": 1020,
    "start_time": "2023-08-04T05:51:53.248Z"
   },
   {
    "duration": 991,
    "start_time": "2023-08-04T05:52:14.195Z"
   },
   {
    "duration": 1362,
    "start_time": "2023-08-04T05:53:18.224Z"
   },
   {
    "duration": 2856,
    "start_time": "2023-08-04T05:55:12.102Z"
   },
   {
    "duration": 1119,
    "start_time": "2023-08-04T05:55:46.240Z"
   },
   {
    "duration": 1660,
    "start_time": "2023-08-04T05:56:46.259Z"
   },
   {
    "duration": 683,
    "start_time": "2023-08-04T06:01:08.655Z"
   },
   {
    "duration": 728,
    "start_time": "2023-08-04T06:01:16.439Z"
   },
   {
    "duration": 736,
    "start_time": "2023-08-04T06:01:24.236Z"
   },
   {
    "duration": 809,
    "start_time": "2023-08-04T06:01:29.700Z"
   },
   {
    "duration": 7,
    "start_time": "2023-08-04T06:02:36.459Z"
   },
   {
    "duration": 19,
    "start_time": "2023-08-04T06:02:38.707Z"
   },
   {
    "duration": 21,
    "start_time": "2023-08-04T06:02:43.769Z"
   },
   {
    "duration": 494,
    "start_time": "2023-08-04T06:02:46.181Z"
   },
   {
    "duration": 488,
    "start_time": "2023-08-04T06:02:51.141Z"
   },
   {
    "duration": 723,
    "start_time": "2023-08-04T06:02:57.908Z"
   },
   {
    "duration": 357,
    "start_time": "2023-08-04T06:03:04.259Z"
   },
   {
    "duration": 4,
    "start_time": "2023-08-04T06:03:07.804Z"
   },
   {
    "duration": 4,
    "start_time": "2023-08-04T06:03:08.087Z"
   },
   {
    "duration": 203,
    "start_time": "2023-08-04T06:03:09.527Z"
   },
   {
    "duration": 2,
    "start_time": "2023-08-04T06:03:39.949Z"
   },
   {
    "duration": 3,
    "start_time": "2023-08-04T06:03:40.365Z"
   },
   {
    "duration": 3,
    "start_time": "2023-08-04T06:03:40.715Z"
   },
   {
    "duration": 3,
    "start_time": "2023-08-04T06:03:41.708Z"
   },
   {
    "duration": 2,
    "start_time": "2023-08-04T06:03:43.394Z"
   },
   {
    "duration": 421,
    "start_time": "2023-08-04T06:03:43.963Z"
   },
   {
    "duration": 4,
    "start_time": "2023-08-04T06:04:08.901Z"
   },
   {
    "duration": 839,
    "start_time": "2023-08-04T06:04:08.908Z"
   },
   {
    "duration": 7,
    "start_time": "2023-08-04T06:04:09.749Z"
   },
   {
    "duration": 59,
    "start_time": "2023-08-04T06:04:09.757Z"
   },
   {
    "duration": 64,
    "start_time": "2023-08-04T06:04:09.818Z"
   },
   {
    "duration": 237,
    "start_time": "2023-08-04T06:04:09.883Z"
   },
   {
    "duration": 20,
    "start_time": "2023-08-04T06:04:10.122Z"
   },
   {
    "duration": 34,
    "start_time": "2023-08-04T06:04:10.143Z"
   },
   {
    "duration": 14,
    "start_time": "2023-08-04T06:04:10.179Z"
   },
   {
    "duration": 18,
    "start_time": "2023-08-04T06:04:10.195Z"
   },
   {
    "duration": 3,
    "start_time": "2023-08-04T06:04:10.215Z"
   },
   {
    "duration": 15,
    "start_time": "2023-08-04T06:04:10.220Z"
   },
   {
    "duration": 9,
    "start_time": "2023-08-04T06:04:10.245Z"
   },
   {
    "duration": 3,
    "start_time": "2023-08-04T06:04:10.258Z"
   },
   {
    "duration": 20,
    "start_time": "2023-08-04T06:04:10.273Z"
   },
   {
    "duration": 9,
    "start_time": "2023-08-04T06:04:10.295Z"
   },
   {
    "duration": 6,
    "start_time": "2023-08-04T06:04:10.306Z"
   },
   {
    "duration": 26,
    "start_time": "2023-08-04T06:04:10.314Z"
   },
   {
    "duration": 9,
    "start_time": "2023-08-04T06:04:10.343Z"
   },
   {
    "duration": 20,
    "start_time": "2023-08-04T06:04:10.354Z"
   },
   {
    "duration": 5,
    "start_time": "2023-08-04T06:04:10.378Z"
   },
   {
    "duration": 4,
    "start_time": "2023-08-04T06:04:10.385Z"
   },
   {
    "duration": 20,
    "start_time": "2023-08-04T06:04:10.391Z"
   },
   {
    "duration": 8,
    "start_time": "2023-08-04T06:04:10.413Z"
   },
   {
    "duration": 12,
    "start_time": "2023-08-04T06:04:10.423Z"
   },
   {
    "duration": 6,
    "start_time": "2023-08-04T06:04:10.437Z"
   },
   {
    "duration": 6,
    "start_time": "2023-08-04T06:04:10.445Z"
   },
   {
    "duration": 28,
    "start_time": "2023-08-04T06:04:10.453Z"
   },
   {
    "duration": 6,
    "start_time": "2023-08-04T06:04:10.483Z"
   },
   {
    "duration": 7,
    "start_time": "2023-08-04T06:04:10.491Z"
   },
   {
    "duration": 30,
    "start_time": "2023-08-04T06:04:10.500Z"
   },
   {
    "duration": 54,
    "start_time": "2023-08-04T06:04:10.533Z"
   },
   {
    "duration": 519,
    "start_time": "2023-08-04T06:04:10.589Z"
   },
   {
    "duration": 515,
    "start_time": "2023-08-04T06:04:11.110Z"
   },
   {
    "duration": 417,
    "start_time": "2023-08-04T06:04:11.627Z"
   },
   {
    "duration": 378,
    "start_time": "2023-08-04T06:04:12.046Z"
   },
   {
    "duration": 3,
    "start_time": "2023-08-04T06:04:12.426Z"
   },
   {
    "duration": 17,
    "start_time": "2023-08-04T06:04:12.431Z"
   },
   {
    "duration": 495,
    "start_time": "2023-08-04T06:04:12.449Z"
   },
   {
    "duration": 2,
    "start_time": "2023-08-04T06:04:12.946Z"
   },
   {
    "duration": 25,
    "start_time": "2023-08-04T06:04:12.952Z"
   },
   {
    "duration": 10,
    "start_time": "2023-08-04T06:04:12.979Z"
   },
   {
    "duration": 4,
    "start_time": "2023-08-04T06:04:12.990Z"
   },
   {
    "duration": 11,
    "start_time": "2023-08-04T06:04:12.995Z"
   },
   {
    "duration": 497,
    "start_time": "2023-08-04T06:04:13.007Z"
   },
   {
    "duration": 106,
    "start_time": "2023-08-04T06:04:13.506Z"
   },
   {
    "duration": 3,
    "start_time": "2023-08-04T06:04:13.613Z"
   },
   {
    "duration": 3639,
    "start_time": "2023-08-04T06:04:13.618Z"
   },
   {
    "duration": 1205,
    "start_time": "2023-08-04T06:04:17.258Z"
   },
   {
    "duration": 1584,
    "start_time": "2023-08-04T06:04:18.465Z"
   },
   {
    "duration": 1504,
    "start_time": "2023-08-04T06:04:20.051Z"
   },
   {
    "duration": 1401,
    "start_time": "2023-08-04T06:04:21.557Z"
   },
   {
    "duration": 1269,
    "start_time": "2023-08-04T06:04:22.960Z"
   },
   {
    "duration": 933,
    "start_time": "2023-08-04T06:05:14.000Z"
   },
   {
    "duration": 954,
    "start_time": "2023-08-04T06:05:27.637Z"
   },
   {
    "duration": 1113,
    "start_time": "2023-08-04T06:05:31.664Z"
   },
   {
    "duration": 979,
    "start_time": "2023-08-04T06:06:12.244Z"
   },
   {
    "duration": 6,
    "start_time": "2023-08-04T06:07:52.083Z"
   },
   {
    "duration": 2,
    "start_time": "2023-08-04T06:08:20.725Z"
   },
   {
    "duration": 4,
    "start_time": "2023-08-04T06:08:25.531Z"
   },
   {
    "duration": 753,
    "start_time": "2023-08-04T06:08:25.537Z"
   },
   {
    "duration": 5,
    "start_time": "2023-08-04T06:08:26.292Z"
   },
   {
    "duration": 48,
    "start_time": "2023-08-04T06:08:26.299Z"
   },
   {
    "duration": 58,
    "start_time": "2023-08-04T06:08:26.348Z"
   },
   {
    "duration": 236,
    "start_time": "2023-08-04T06:08:26.408Z"
   },
   {
    "duration": 17,
    "start_time": "2023-08-04T06:08:26.646Z"
   },
   {
    "duration": 12,
    "start_time": "2023-08-04T06:08:26.675Z"
   },
   {
    "duration": 9,
    "start_time": "2023-08-04T06:08:26.690Z"
   },
   {
    "duration": 17,
    "start_time": "2023-08-04T06:08:26.700Z"
   },
   {
    "duration": 11,
    "start_time": "2023-08-04T06:08:26.719Z"
   },
   {
    "duration": 13,
    "start_time": "2023-08-04T06:08:26.731Z"
   },
   {
    "duration": 8,
    "start_time": "2023-08-04T06:08:26.746Z"
   },
   {
    "duration": 2,
    "start_time": "2023-08-04T06:08:26.755Z"
   },
   {
    "duration": 25,
    "start_time": "2023-08-04T06:08:26.758Z"
   },
   {
    "duration": 8,
    "start_time": "2023-08-04T06:08:26.785Z"
   },
   {
    "duration": 4,
    "start_time": "2023-08-04T06:08:26.794Z"
   },
   {
    "duration": 15,
    "start_time": "2023-08-04T06:08:26.800Z"
   },
   {
    "duration": 6,
    "start_time": "2023-08-04T06:08:26.817Z"
   },
   {
    "duration": 11,
    "start_time": "2023-08-04T06:08:26.825Z"
   },
   {
    "duration": 4,
    "start_time": "2023-08-04T06:08:26.838Z"
   },
   {
    "duration": 8,
    "start_time": "2023-08-04T06:08:26.844Z"
   },
   {
    "duration": 21,
    "start_time": "2023-08-04T06:08:26.854Z"
   },
   {
    "duration": 9,
    "start_time": "2023-08-04T06:08:26.879Z"
   },
   {
    "duration": 38,
    "start_time": "2023-08-04T06:08:26.889Z"
   },
   {
    "duration": 7,
    "start_time": "2023-08-04T06:08:26.929Z"
   },
   {
    "duration": 4,
    "start_time": "2023-08-04T06:08:26.938Z"
   },
   {
    "duration": 19,
    "start_time": "2023-08-04T06:08:26.944Z"
   },
   {
    "duration": 4,
    "start_time": "2023-08-04T06:08:26.965Z"
   },
   {
    "duration": 21,
    "start_time": "2023-08-04T06:08:26.971Z"
   },
   {
    "duration": 27,
    "start_time": "2023-08-04T06:08:26.994Z"
   },
   {
    "duration": 16,
    "start_time": "2023-08-04T06:08:27.023Z"
   },
   {
    "duration": 536,
    "start_time": "2023-08-04T06:08:27.041Z"
   },
   {
    "duration": 502,
    "start_time": "2023-08-04T06:08:27.578Z"
   },
   {
    "duration": 425,
    "start_time": "2023-08-04T06:08:28.082Z"
   },
   {
    "duration": 606,
    "start_time": "2023-08-04T06:08:28.508Z"
   },
   {
    "duration": 2,
    "start_time": "2023-08-04T06:08:29.116Z"
   },
   {
    "duration": 25,
    "start_time": "2023-08-04T06:08:29.119Z"
   },
   {
    "duration": 214,
    "start_time": "2023-08-04T06:08:29.145Z"
   },
   {
    "duration": 2,
    "start_time": "2023-08-04T06:08:29.361Z"
   },
   {
    "duration": 20,
    "start_time": "2023-08-04T06:08:29.375Z"
   },
   {
    "duration": 13,
    "start_time": "2023-08-04T06:08:29.397Z"
   },
   {
    "duration": 8,
    "start_time": "2023-08-04T06:08:29.412Z"
   },
   {
    "duration": 15,
    "start_time": "2023-08-04T06:08:29.422Z"
   },
   {
    "duration": 468,
    "start_time": "2023-08-04T06:08:29.439Z"
   },
   {
    "duration": 2,
    "start_time": "2023-08-04T06:08:29.910Z"
   },
   {
    "duration": 3942,
    "start_time": "2023-08-04T06:08:29.915Z"
   },
   {
    "duration": 1208,
    "start_time": "2023-08-04T06:08:33.858Z"
   },
   {
    "duration": 1560,
    "start_time": "2023-08-04T06:08:35.068Z"
   },
   {
    "duration": 1344,
    "start_time": "2023-08-04T06:08:36.630Z"
   },
   {
    "duration": 1869,
    "start_time": "2023-08-04T06:08:37.976Z"
   },
   {
    "duration": 2,
    "start_time": "2023-08-04T06:08:39.847Z"
   },
   {
    "duration": 983,
    "start_time": "2023-08-04T06:10:02.682Z"
   },
   {
    "duration": 1066,
    "start_time": "2023-08-04T06:10:20.147Z"
   },
   {
    "duration": 971,
    "start_time": "2023-08-04T06:10:52.650Z"
   },
   {
    "duration": 964,
    "start_time": "2023-08-04T06:11:10.906Z"
   },
   {
    "duration": 1593,
    "start_time": "2023-08-04T06:11:22.031Z"
   },
   {
    "duration": 1342,
    "start_time": "2023-08-04T06:11:36.732Z"
   },
   {
    "duration": 1363,
    "start_time": "2023-08-04T06:12:15.874Z"
   },
   {
    "duration": 7,
    "start_time": "2023-08-04T06:12:59.216Z"
   },
   {
    "duration": 1096,
    "start_time": "2023-08-04T06:13:16.176Z"
   },
   {
    "duration": 1190,
    "start_time": "2023-08-04T06:14:18.149Z"
   },
   {
    "duration": 906,
    "start_time": "2023-08-04T06:14:35.431Z"
   },
   {
    "duration": 901,
    "start_time": "2023-08-04T06:15:10.243Z"
   },
   {
    "duration": 915,
    "start_time": "2023-08-04T06:16:24.595Z"
   },
   {
    "duration": 1136,
    "start_time": "2023-08-04T06:17:08.541Z"
   },
   {
    "duration": 4,
    "start_time": "2023-08-04T06:17:15.825Z"
   },
   {
    "duration": 737,
    "start_time": "2023-08-04T06:17:15.831Z"
   },
   {
    "duration": 7,
    "start_time": "2023-08-04T06:17:16.570Z"
   },
   {
    "duration": 52,
    "start_time": "2023-08-04T06:17:16.578Z"
   },
   {
    "duration": 66,
    "start_time": "2023-08-04T06:17:16.632Z"
   },
   {
    "duration": 228,
    "start_time": "2023-08-04T06:17:16.699Z"
   },
   {
    "duration": 18,
    "start_time": "2023-08-04T06:17:16.929Z"
   },
   {
    "duration": 30,
    "start_time": "2023-08-04T06:17:16.948Z"
   },
   {
    "duration": 4,
    "start_time": "2023-08-04T06:17:16.981Z"
   },
   {
    "duration": 12,
    "start_time": "2023-08-04T06:17:16.986Z"
   },
   {
    "duration": 4,
    "start_time": "2023-08-04T06:17:17.000Z"
   },
   {
    "duration": 12,
    "start_time": "2023-08-04T06:17:17.005Z"
   },
   {
    "duration": 7,
    "start_time": "2023-08-04T06:17:17.019Z"
   },
   {
    "duration": 13,
    "start_time": "2023-08-04T06:17:17.028Z"
   },
   {
    "duration": 22,
    "start_time": "2023-08-04T06:17:17.042Z"
   },
   {
    "duration": 15,
    "start_time": "2023-08-04T06:17:17.066Z"
   },
   {
    "duration": 5,
    "start_time": "2023-08-04T06:17:17.082Z"
   },
   {
    "duration": 36,
    "start_time": "2023-08-04T06:17:17.089Z"
   },
   {
    "duration": 26,
    "start_time": "2023-08-04T06:17:17.126Z"
   },
   {
    "duration": 23,
    "start_time": "2023-08-04T06:17:17.154Z"
   },
   {
    "duration": 18,
    "start_time": "2023-08-04T06:17:17.179Z"
   },
   {
    "duration": 7,
    "start_time": "2023-08-04T06:17:17.198Z"
   },
   {
    "duration": 17,
    "start_time": "2023-08-04T06:17:17.207Z"
   },
   {
    "duration": 12,
    "start_time": "2023-08-04T06:17:17.227Z"
   },
   {
    "duration": 27,
    "start_time": "2023-08-04T06:17:17.240Z"
   },
   {
    "duration": 25,
    "start_time": "2023-08-04T06:17:17.268Z"
   },
   {
    "duration": 3,
    "start_time": "2023-08-04T06:17:17.295Z"
   },
   {
    "duration": 8,
    "start_time": "2023-08-04T06:17:17.299Z"
   },
   {
    "duration": 7,
    "start_time": "2023-08-04T06:17:17.308Z"
   },
   {
    "duration": 8,
    "start_time": "2023-08-04T06:17:17.316Z"
   },
   {
    "duration": 47,
    "start_time": "2023-08-04T06:17:17.325Z"
   },
   {
    "duration": 17,
    "start_time": "2023-08-04T06:17:17.373Z"
   },
   {
    "duration": 532,
    "start_time": "2023-08-04T06:17:17.392Z"
   },
   {
    "duration": 486,
    "start_time": "2023-08-04T06:17:17.925Z"
   },
   {
    "duration": 400,
    "start_time": "2023-08-04T06:17:18.413Z"
   },
   {
    "duration": 351,
    "start_time": "2023-08-04T06:17:18.814Z"
   },
   {
    "duration": 3,
    "start_time": "2023-08-04T06:17:19.166Z"
   },
   {
    "duration": 25,
    "start_time": "2023-08-04T06:17:19.170Z"
   },
   {
    "duration": 466,
    "start_time": "2023-08-04T06:17:19.197Z"
   },
   {
    "duration": 8,
    "start_time": "2023-08-04T06:17:19.665Z"
   },
   {
    "duration": 24,
    "start_time": "2023-08-04T06:17:19.675Z"
   },
   {
    "duration": 36,
    "start_time": "2023-08-04T06:17:19.701Z"
   },
   {
    "duration": 22,
    "start_time": "2023-08-04T06:17:19.739Z"
   },
   {
    "duration": 12,
    "start_time": "2023-08-04T06:17:19.763Z"
   },
   {
    "duration": 428,
    "start_time": "2023-08-04T06:17:19.776Z"
   },
   {
    "duration": 3,
    "start_time": "2023-08-04T06:17:20.206Z"
   },
   {
    "duration": 3795,
    "start_time": "2023-08-04T06:17:20.211Z"
   },
   {
    "duration": 1147,
    "start_time": "2023-08-04T06:17:24.007Z"
   },
   {
    "duration": 1255,
    "start_time": "2023-08-04T06:17:25.156Z"
   },
   {
    "duration": 1564,
    "start_time": "2023-08-04T06:17:26.413Z"
   },
   {
    "duration": 1565,
    "start_time": "2023-08-04T06:17:27.979Z"
   },
   {
    "duration": 1347,
    "start_time": "2023-08-04T06:17:32.563Z"
   },
   {
    "duration": 1010,
    "start_time": "2023-08-04T06:18:21.235Z"
   },
   {
    "duration": 25,
    "start_time": "2023-08-04T06:19:12.680Z"
   },
   {
    "duration": 1106,
    "start_time": "2023-08-04T06:19:29.484Z"
   },
   {
    "duration": 2,
    "start_time": "2023-08-04T06:21:08.955Z"
   },
   {
    "duration": 846,
    "start_time": "2023-08-04T06:21:38.448Z"
   },
   {
    "duration": 27,
    "start_time": "2023-08-04T06:22:22.886Z"
   },
   {
    "duration": 4,
    "start_time": "2023-08-04T06:23:29.397Z"
   },
   {
    "duration": 4,
    "start_time": "2023-08-04T06:23:39.724Z"
   },
   {
    "duration": 29,
    "start_time": "2023-08-04T06:25:15.853Z"
   },
   {
    "duration": 27,
    "start_time": "2023-08-04T06:26:12.407Z"
   },
   {
    "duration": 4,
    "start_time": "2023-08-04T06:26:33.957Z"
   },
   {
    "duration": 785,
    "start_time": "2023-08-04T06:26:33.963Z"
   },
   {
    "duration": 7,
    "start_time": "2023-08-04T06:26:34.750Z"
   },
   {
    "duration": 64,
    "start_time": "2023-08-04T06:26:34.758Z"
   },
   {
    "duration": 59,
    "start_time": "2023-08-04T06:26:34.824Z"
   },
   {
    "duration": 249,
    "start_time": "2023-08-04T06:26:34.885Z"
   },
   {
    "duration": 18,
    "start_time": "2023-08-04T06:26:35.137Z"
   },
   {
    "duration": 28,
    "start_time": "2023-08-04T06:26:35.156Z"
   },
   {
    "duration": 29,
    "start_time": "2023-08-04T06:26:35.185Z"
   },
   {
    "duration": 39,
    "start_time": "2023-08-04T06:26:35.215Z"
   },
   {
    "duration": 13,
    "start_time": "2023-08-04T06:26:35.256Z"
   },
   {
    "duration": 19,
    "start_time": "2023-08-04T06:26:35.270Z"
   },
   {
    "duration": 20,
    "start_time": "2023-08-04T06:26:35.291Z"
   },
   {
    "duration": 10,
    "start_time": "2023-08-04T06:26:35.314Z"
   },
   {
    "duration": 27,
    "start_time": "2023-08-04T06:26:35.325Z"
   },
   {
    "duration": 8,
    "start_time": "2023-08-04T06:26:35.354Z"
   },
   {
    "duration": 21,
    "start_time": "2023-08-04T06:26:35.363Z"
   },
   {
    "duration": 22,
    "start_time": "2023-08-04T06:26:35.385Z"
   },
   {
    "duration": 11,
    "start_time": "2023-08-04T06:26:35.409Z"
   },
   {
    "duration": 19,
    "start_time": "2023-08-04T06:26:35.422Z"
   },
   {
    "duration": 8,
    "start_time": "2023-08-04T06:26:35.442Z"
   },
   {
    "duration": 11,
    "start_time": "2023-08-04T06:26:35.452Z"
   },
   {
    "duration": 12,
    "start_time": "2023-08-04T06:26:35.465Z"
   },
   {
    "duration": 21,
    "start_time": "2023-08-04T06:26:35.478Z"
   },
   {
    "duration": 17,
    "start_time": "2023-08-04T06:26:35.500Z"
   },
   {
    "duration": 17,
    "start_time": "2023-08-04T06:26:35.519Z"
   },
   {
    "duration": 23,
    "start_time": "2023-08-04T06:26:35.538Z"
   },
   {
    "duration": 47,
    "start_time": "2023-08-04T06:26:35.562Z"
   },
   {
    "duration": 20,
    "start_time": "2023-08-04T06:26:35.611Z"
   },
   {
    "duration": 14,
    "start_time": "2023-08-04T06:26:35.633Z"
   },
   {
    "duration": 29,
    "start_time": "2023-08-04T06:26:35.648Z"
   },
   {
    "duration": 21,
    "start_time": "2023-08-04T06:26:35.679Z"
   },
   {
    "duration": 553,
    "start_time": "2023-08-04T06:26:35.702Z"
   },
   {
    "duration": 505,
    "start_time": "2023-08-04T06:26:36.257Z"
   },
   {
    "duration": 686,
    "start_time": "2023-08-04T06:26:36.763Z"
   },
   {
    "duration": 378,
    "start_time": "2023-08-04T06:26:37.451Z"
   },
   {
    "duration": 3,
    "start_time": "2023-08-04T06:26:37.831Z"
   },
   {
    "duration": 12,
    "start_time": "2023-08-04T06:26:37.835Z"
   },
   {
    "duration": 213,
    "start_time": "2023-08-04T06:26:37.849Z"
   },
   {
    "duration": 10,
    "start_time": "2023-08-04T06:26:38.064Z"
   },
   {
    "duration": 2,
    "start_time": "2023-08-04T06:26:38.078Z"
   },
   {
    "duration": 28,
    "start_time": "2023-08-04T06:26:38.082Z"
   },
   {
    "duration": 20,
    "start_time": "2023-08-04T06:26:38.112Z"
   },
   {
    "duration": 41,
    "start_time": "2023-08-04T06:26:38.134Z"
   },
   {
    "duration": 425,
    "start_time": "2023-08-04T06:26:38.177Z"
   },
   {
    "duration": 3,
    "start_time": "2023-08-04T06:26:38.603Z"
   },
   {
    "duration": 4114,
    "start_time": "2023-08-04T06:26:38.607Z"
   },
   {
    "duration": 1527,
    "start_time": "2023-08-04T06:26:42.723Z"
   },
   {
    "duration": 1410,
    "start_time": "2023-08-04T06:26:44.252Z"
   },
   {
    "duration": 1467,
    "start_time": "2023-08-04T06:26:45.664Z"
   },
   {
    "duration": 2112,
    "start_time": "2023-08-04T06:26:47.133Z"
   },
   {
    "duration": 3,
    "start_time": "2023-08-04T06:26:49.247Z"
   },
   {
    "duration": 1059,
    "start_time": "2023-08-04T06:26:49.252Z"
   },
   {
    "duration": 1011,
    "start_time": "2023-08-04T06:26:50.313Z"
   },
   {
    "duration": 938,
    "start_time": "2023-08-04T06:26:51.326Z"
   },
   {
    "duration": 7,
    "start_time": "2023-08-04T06:27:07.616Z"
   },
   {
    "duration": 1094,
    "start_time": "2023-08-04T06:27:23.776Z"
   },
   {
    "duration": 1161,
    "start_time": "2023-08-04T06:27:29.400Z"
   },
   {
    "duration": 1202,
    "start_time": "2023-08-04T06:27:33.899Z"
   },
   {
    "duration": 1484,
    "start_time": "2023-08-04T06:27:49.151Z"
   },
   {
    "duration": 908,
    "start_time": "2023-08-04T06:28:13.253Z"
   },
   {
    "duration": 839,
    "start_time": "2023-08-04T06:28:37.255Z"
   },
   {
    "duration": 6,
    "start_time": "2023-08-04T06:28:47.958Z"
   },
   {
    "duration": 1065,
    "start_time": "2023-08-04T06:28:55.891Z"
   },
   {
    "duration": 1461,
    "start_time": "2023-08-04T06:28:59.361Z"
   },
   {
    "duration": 1047,
    "start_time": "2023-08-04T06:29:06.304Z"
   },
   {
    "duration": 28,
    "start_time": "2023-08-04T06:29:28.594Z"
   },
   {
    "duration": 2,
    "start_time": "2023-08-04T06:30:00.137Z"
   },
   {
    "duration": 4,
    "start_time": "2023-08-04T06:32:08.365Z"
   },
   {
    "duration": 767,
    "start_time": "2023-08-04T06:32:08.371Z"
   },
   {
    "duration": 5,
    "start_time": "2023-08-04T06:32:09.140Z"
   },
   {
    "duration": 162,
    "start_time": "2023-08-04T06:32:09.147Z"
   },
   {
    "duration": 45,
    "start_time": "2023-08-04T06:32:09.311Z"
   },
   {
    "duration": 239,
    "start_time": "2023-08-04T06:32:09.358Z"
   },
   {
    "duration": 17,
    "start_time": "2023-08-04T06:32:09.599Z"
   },
   {
    "duration": 28,
    "start_time": "2023-08-04T06:32:09.618Z"
   },
   {
    "duration": 32,
    "start_time": "2023-08-04T06:32:09.648Z"
   },
   {
    "duration": 21,
    "start_time": "2023-08-04T06:32:09.682Z"
   },
   {
    "duration": 24,
    "start_time": "2023-08-04T06:32:09.705Z"
   },
   {
    "duration": 15,
    "start_time": "2023-08-04T06:32:09.731Z"
   },
   {
    "duration": 45,
    "start_time": "2023-08-04T06:32:09.749Z"
   },
   {
    "duration": 5,
    "start_time": "2023-08-04T06:32:09.796Z"
   },
   {
    "duration": 48,
    "start_time": "2023-08-04T06:32:09.803Z"
   },
   {
    "duration": 7,
    "start_time": "2023-08-04T06:32:09.853Z"
   },
   {
    "duration": 4,
    "start_time": "2023-08-04T06:32:09.862Z"
   },
   {
    "duration": 22,
    "start_time": "2023-08-04T06:32:09.867Z"
   },
   {
    "duration": 82,
    "start_time": "2023-08-04T06:32:09.890Z"
   },
   {
    "duration": 25,
    "start_time": "2023-08-04T06:32:09.973Z"
   },
   {
    "duration": 26,
    "start_time": "2023-08-04T06:32:10.000Z"
   },
   {
    "duration": 10,
    "start_time": "2023-08-04T06:32:10.028Z"
   },
   {
    "duration": 18,
    "start_time": "2023-08-04T06:32:10.039Z"
   },
   {
    "duration": 6,
    "start_time": "2023-08-04T06:32:10.061Z"
   },
   {
    "duration": 17,
    "start_time": "2023-08-04T06:32:10.068Z"
   },
   {
    "duration": 6,
    "start_time": "2023-08-04T06:32:10.087Z"
   },
   {
    "duration": 14,
    "start_time": "2023-08-04T06:32:10.095Z"
   },
   {
    "duration": 17,
    "start_time": "2023-08-04T06:32:10.111Z"
   },
   {
    "duration": 6,
    "start_time": "2023-08-04T06:32:10.130Z"
   },
   {
    "duration": 13,
    "start_time": "2023-08-04T06:32:10.138Z"
   },
   {
    "duration": 31,
    "start_time": "2023-08-04T06:32:10.153Z"
   },
   {
    "duration": 33,
    "start_time": "2023-08-04T06:32:10.186Z"
   },
   {
    "duration": 618,
    "start_time": "2023-08-04T06:32:10.221Z"
   },
   {
    "duration": 489,
    "start_time": "2023-08-04T06:32:10.840Z"
   },
   {
    "duration": 468,
    "start_time": "2023-08-04T06:32:11.331Z"
   },
   {
    "duration": 388,
    "start_time": "2023-08-04T06:32:11.801Z"
   },
   {
    "duration": 3,
    "start_time": "2023-08-04T06:32:12.191Z"
   },
   {
    "duration": 22,
    "start_time": "2023-08-04T06:32:12.196Z"
   },
   {
    "duration": 13,
    "start_time": "2023-08-04T06:32:12.220Z"
   },
   {
    "duration": 4,
    "start_time": "2023-08-04T06:32:12.234Z"
   },
   {
    "duration": 8,
    "start_time": "2023-08-04T06:32:12.239Z"
   },
   {
    "duration": 7,
    "start_time": "2023-08-04T06:32:12.249Z"
   },
   {
    "duration": 10,
    "start_time": "2023-08-04T06:32:12.258Z"
   },
   {
    "duration": 8,
    "start_time": "2023-08-04T06:32:12.269Z"
   },
   {
    "duration": 423,
    "start_time": "2023-08-04T06:32:12.278Z"
   },
   {
    "duration": 3,
    "start_time": "2023-08-04T06:32:12.702Z"
   },
   {
    "duration": 4093,
    "start_time": "2023-08-04T06:32:12.706Z"
   },
   {
    "duration": 1184,
    "start_time": "2023-08-04T06:32:16.801Z"
   },
   {
    "duration": 1342,
    "start_time": "2023-08-04T06:32:17.987Z"
   },
   {
    "duration": 1783,
    "start_time": "2023-08-04T06:32:19.330Z"
   },
   {
    "duration": 1727,
    "start_time": "2023-08-04T06:32:21.114Z"
   },
   {
    "duration": 3,
    "start_time": "2023-08-04T06:32:22.842Z"
   },
   {
    "duration": 956,
    "start_time": "2023-08-04T06:32:22.846Z"
   },
   {
    "duration": 923,
    "start_time": "2023-08-04T06:32:23.803Z"
   },
   {
    "duration": 857,
    "start_time": "2023-08-04T06:32:24.727Z"
   },
   {
    "duration": 28,
    "start_time": "2023-08-04T06:32:47.682Z"
   },
   {
    "duration": 9,
    "start_time": "2023-08-04T06:32:55.307Z"
   },
   {
    "duration": 18,
    "start_time": "2023-08-04T06:36:35.606Z"
   },
   {
    "duration": 7,
    "start_time": "2023-08-04T06:36:56.797Z"
   },
   {
    "duration": 117,
    "start_time": "2023-08-04T06:37:18.010Z"
   },
   {
    "duration": 3,
    "start_time": "2023-08-04T06:37:23.998Z"
   },
   {
    "duration": 14,
    "start_time": "2023-08-04T06:37:38.910Z"
   },
   {
    "duration": 16,
    "start_time": "2023-08-04T06:37:59.629Z"
   },
   {
    "duration": 5,
    "start_time": "2023-08-04T06:38:09.488Z"
   },
   {
    "duration": 12,
    "start_time": "2023-08-04T06:38:41.905Z"
   },
   {
    "duration": 311,
    "start_time": "2023-08-04T06:38:50.943Z"
   },
   {
    "duration": 21,
    "start_time": "2023-08-04T06:39:02.937Z"
   },
   {
    "duration": 25,
    "start_time": "2023-08-04T06:39:34.744Z"
   },
   {
    "duration": 23,
    "start_time": "2023-08-04T06:39:41.724Z"
   },
   {
    "duration": 28,
    "start_time": "2023-08-04T06:39:53.893Z"
   },
   {
    "duration": 4,
    "start_time": "2023-08-04T06:40:13.607Z"
   },
   {
    "duration": 856,
    "start_time": "2023-08-04T06:40:13.613Z"
   },
   {
    "duration": 9,
    "start_time": "2023-08-04T06:40:14.470Z"
   },
   {
    "duration": 54,
    "start_time": "2023-08-04T06:40:14.481Z"
   },
   {
    "duration": 64,
    "start_time": "2023-08-04T06:40:14.536Z"
   },
   {
    "duration": 243,
    "start_time": "2023-08-04T06:40:14.602Z"
   },
   {
    "duration": 18,
    "start_time": "2023-08-04T06:40:14.847Z"
   },
   {
    "duration": 20,
    "start_time": "2023-08-04T06:40:14.874Z"
   },
   {
    "duration": 5,
    "start_time": "2023-08-04T06:40:14.897Z"
   },
   {
    "duration": 16,
    "start_time": "2023-08-04T06:40:14.904Z"
   },
   {
    "duration": 26,
    "start_time": "2023-08-04T06:40:14.922Z"
   },
   {
    "duration": 41,
    "start_time": "2023-08-04T06:40:14.950Z"
   },
   {
    "duration": 57,
    "start_time": "2023-08-04T06:40:14.993Z"
   },
   {
    "duration": 36,
    "start_time": "2023-08-04T06:40:15.051Z"
   },
   {
    "duration": 28,
    "start_time": "2023-08-04T06:40:15.089Z"
   },
   {
    "duration": 8,
    "start_time": "2023-08-04T06:40:15.119Z"
   },
   {
    "duration": 9,
    "start_time": "2023-08-04T06:40:15.129Z"
   },
   {
    "duration": 15,
    "start_time": "2023-08-04T06:40:15.140Z"
   },
   {
    "duration": 43,
    "start_time": "2023-08-04T06:40:15.156Z"
   },
   {
    "duration": 23,
    "start_time": "2023-08-04T06:40:15.200Z"
   },
   {
    "duration": 6,
    "start_time": "2023-08-04T06:40:15.224Z"
   },
   {
    "duration": 23,
    "start_time": "2023-08-04T06:40:15.232Z"
   },
   {
    "duration": 15,
    "start_time": "2023-08-04T06:40:15.257Z"
   },
   {
    "duration": 26,
    "start_time": "2023-08-04T06:40:15.275Z"
   },
   {
    "duration": 9,
    "start_time": "2023-08-04T06:40:15.302Z"
   },
   {
    "duration": 15,
    "start_time": "2023-08-04T06:40:15.312Z"
   },
   {
    "duration": 4,
    "start_time": "2023-08-04T06:40:15.328Z"
   },
   {
    "duration": 8,
    "start_time": "2023-08-04T06:40:29.187Z"
   },
   {
    "duration": 16,
    "start_time": "2023-08-04T06:40:34.130Z"
   },
   {
    "duration": 16,
    "start_time": "2023-08-04T06:40:48.387Z"
   },
   {
    "duration": 17,
    "start_time": "2023-08-04T06:41:12.773Z"
   },
   {
    "duration": 26,
    "start_time": "2023-08-04T06:41:50.771Z"
   },
   {
    "duration": 15,
    "start_time": "2023-08-04T06:42:24.587Z"
   },
   {
    "duration": 31,
    "start_time": "2023-08-04T06:42:37.186Z"
   },
   {
    "duration": 4,
    "start_time": "2023-08-04T06:44:21.796Z"
   },
   {
    "duration": 793,
    "start_time": "2023-08-04T06:44:21.801Z"
   },
   {
    "duration": 5,
    "start_time": "2023-08-04T06:44:22.596Z"
   },
   {
    "duration": 54,
    "start_time": "2023-08-04T06:44:22.602Z"
   },
   {
    "duration": 52,
    "start_time": "2023-08-04T06:44:22.657Z"
   },
   {
    "duration": 228,
    "start_time": "2023-08-04T06:44:22.711Z"
   },
   {
    "duration": 16,
    "start_time": "2023-08-04T06:44:22.940Z"
   },
   {
    "duration": 21,
    "start_time": "2023-08-04T06:44:22.958Z"
   },
   {
    "duration": 7,
    "start_time": "2023-08-04T06:44:22.980Z"
   },
   {
    "duration": 16,
    "start_time": "2023-08-04T06:44:56.112Z"
   },
   {
    "duration": 2,
    "start_time": "2023-08-04T06:45:36.755Z"
   },
   {
    "duration": 27,
    "start_time": "2023-08-04T06:45:45.138Z"
   },
   {
    "duration": 4,
    "start_time": "2023-08-04T06:45:58.738Z"
   },
   {
    "duration": 784,
    "start_time": "2023-08-04T06:45:58.744Z"
   },
   {
    "duration": 8,
    "start_time": "2023-08-04T06:45:59.529Z"
   },
   {
    "duration": 67,
    "start_time": "2023-08-04T06:45:59.538Z"
   },
   {
    "duration": 45,
    "start_time": "2023-08-04T06:45:59.607Z"
   },
   {
    "duration": 239,
    "start_time": "2023-08-04T06:45:59.654Z"
   },
   {
    "duration": 17,
    "start_time": "2023-08-04T06:45:59.894Z"
   },
   {
    "duration": 13,
    "start_time": "2023-08-04T06:45:59.912Z"
   },
   {
    "duration": 5,
    "start_time": "2023-08-04T06:45:59.926Z"
   },
   {
    "duration": 16,
    "start_time": "2023-08-04T06:45:59.932Z"
   },
   {
    "duration": 2,
    "start_time": "2023-08-04T06:46:05.924Z"
   },
   {
    "duration": 26,
    "start_time": "2023-08-04T06:46:06.813Z"
   },
   {
    "duration": 16,
    "start_time": "2023-08-04T06:46:17.244Z"
   },
   {
    "duration": 1423,
    "start_time": "2023-08-04T06:49:24.818Z"
   },
   {
    "duration": 755,
    "start_time": "2023-08-04T06:49:26.243Z"
   },
   {
    "duration": 7,
    "start_time": "2023-08-04T06:49:27.000Z"
   },
   {
    "duration": 49,
    "start_time": "2023-08-04T06:49:27.009Z"
   },
   {
    "duration": 39,
    "start_time": "2023-08-04T06:49:27.074Z"
   },
   {
    "duration": 228,
    "start_time": "2023-08-04T06:49:27.115Z"
   },
   {
    "duration": 15,
    "start_time": "2023-08-04T06:49:27.344Z"
   },
   {
    "duration": 12,
    "start_time": "2023-08-04T06:49:27.374Z"
   },
   {
    "duration": 3,
    "start_time": "2023-08-04T06:49:27.387Z"
   },
   {
    "duration": 17,
    "start_time": "2023-08-04T06:49:27.392Z"
   },
   {
    "duration": 27,
    "start_time": "2023-08-04T06:49:27.411Z"
   },
   {
    "duration": 133,
    "start_time": "2023-08-04T06:49:33.810Z"
   },
   {
    "duration": 4,
    "start_time": "2023-08-04T06:56:13.144Z"
   },
   {
    "duration": 801,
    "start_time": "2023-08-04T06:56:13.149Z"
   },
   {
    "duration": 5,
    "start_time": "2023-08-04T06:56:13.952Z"
   },
   {
    "duration": 56,
    "start_time": "2023-08-04T06:56:13.959Z"
   },
   {
    "duration": 40,
    "start_time": "2023-08-04T06:56:14.016Z"
   },
   {
    "duration": 239,
    "start_time": "2023-08-04T06:56:14.075Z"
   },
   {
    "duration": 18,
    "start_time": "2023-08-04T06:56:14.316Z"
   },
   {
    "duration": 13,
    "start_time": "2023-08-04T06:56:14.336Z"
   },
   {
    "duration": 3,
    "start_time": "2023-08-04T06:56:14.374Z"
   },
   {
    "duration": 15,
    "start_time": "2023-08-04T06:56:14.379Z"
   },
   {
    "duration": 9,
    "start_time": "2023-08-04T06:56:14.396Z"
   },
   {
    "duration": 27,
    "start_time": "2023-08-04T06:56:18.357Z"
   },
   {
    "duration": 9,
    "start_time": "2023-08-04T06:57:10.451Z"
   },
   {
    "duration": 6,
    "start_time": "2023-08-04T06:57:38.898Z"
   },
   {
    "duration": 5,
    "start_time": "2023-08-04T06:58:01.371Z"
   },
   {
    "duration": 32,
    "start_time": "2023-08-04T06:58:12.074Z"
   },
   {
    "duration": 4,
    "start_time": "2023-08-04T06:58:34.865Z"
   },
   {
    "duration": 3,
    "start_time": "2023-08-04T06:58:47.954Z"
   },
   {
    "duration": 3,
    "start_time": "2023-08-04T06:58:52.626Z"
   },
   {
    "duration": 768,
    "start_time": "2023-08-04T06:58:52.631Z"
   },
   {
    "duration": 6,
    "start_time": "2023-08-04T06:58:53.401Z"
   },
   {
    "duration": 66,
    "start_time": "2023-08-04T06:58:53.409Z"
   },
   {
    "duration": 41,
    "start_time": "2023-08-04T06:58:53.477Z"
   },
   {
    "duration": 242,
    "start_time": "2023-08-04T06:58:53.520Z"
   },
   {
    "duration": 23,
    "start_time": "2023-08-04T06:58:53.766Z"
   },
   {
    "duration": 12,
    "start_time": "2023-08-04T06:58:53.791Z"
   },
   {
    "duration": 9,
    "start_time": "2023-08-04T06:58:53.805Z"
   },
   {
    "duration": 37,
    "start_time": "2023-08-04T06:58:53.816Z"
   },
   {
    "duration": 17,
    "start_time": "2023-08-04T06:58:53.855Z"
   },
   {
    "duration": 27,
    "start_time": "2023-08-04T06:58:53.874Z"
   },
   {
    "duration": 30,
    "start_time": "2023-08-04T06:58:53.903Z"
   },
   {
    "duration": 21,
    "start_time": "2023-08-04T06:58:53.935Z"
   },
   {
    "duration": 4,
    "start_time": "2023-08-04T06:59:42.159Z"
   },
   {
    "duration": 732,
    "start_time": "2023-08-04T06:59:42.164Z"
   },
   {
    "duration": 6,
    "start_time": "2023-08-04T06:59:42.898Z"
   },
   {
    "duration": 44,
    "start_time": "2023-08-04T06:59:42.906Z"
   },
   {
    "duration": 64,
    "start_time": "2023-08-04T06:59:42.951Z"
   },
   {
    "duration": 228,
    "start_time": "2023-08-04T06:59:43.017Z"
   },
   {
    "duration": 28,
    "start_time": "2023-08-04T06:59:43.246Z"
   },
   {
    "duration": 12,
    "start_time": "2023-08-04T06:59:43.275Z"
   },
   {
    "duration": 29,
    "start_time": "2023-08-04T06:59:43.290Z"
   },
   {
    "duration": 29,
    "start_time": "2023-08-04T06:59:43.320Z"
   },
   {
    "duration": 8,
    "start_time": "2023-08-04T06:59:43.351Z"
   },
   {
    "duration": 13,
    "start_time": "2023-08-04T06:59:43.360Z"
   },
   {
    "duration": 5,
    "start_time": "2023-08-04T06:59:43.375Z"
   },
   {
    "duration": 29,
    "start_time": "2023-08-04T06:59:43.381Z"
   },
   {
    "duration": 8,
    "start_time": "2023-08-04T06:59:43.412Z"
   },
   {
    "duration": 2,
    "start_time": "2023-08-04T06:59:43.422Z"
   },
   {
    "duration": 21,
    "start_time": "2023-08-04T06:59:43.426Z"
   },
   {
    "duration": 7,
    "start_time": "2023-08-04T06:59:43.448Z"
   },
   {
    "duration": 6,
    "start_time": "2023-08-04T06:59:43.456Z"
   },
   {
    "duration": 13,
    "start_time": "2023-08-04T06:59:43.463Z"
   },
   {
    "duration": 7,
    "start_time": "2023-08-04T06:59:43.477Z"
   },
   {
    "duration": 6,
    "start_time": "2023-08-04T06:59:43.485Z"
   },
   {
    "duration": 6,
    "start_time": "2023-08-04T06:59:43.493Z"
   },
   {
    "duration": 9,
    "start_time": "2023-08-04T06:59:43.503Z"
   },
   {
    "duration": 11,
    "start_time": "2023-08-04T06:59:43.513Z"
   },
   {
    "duration": 21,
    "start_time": "2023-08-04T06:59:43.525Z"
   },
   {
    "duration": 13,
    "start_time": "2023-08-04T06:59:43.547Z"
   },
   {
    "duration": 5,
    "start_time": "2023-08-04T06:59:43.561Z"
   },
   {
    "duration": 6,
    "start_time": "2023-08-04T06:59:43.567Z"
   },
   {
    "duration": 18,
    "start_time": "2023-08-04T06:59:43.574Z"
   },
   {
    "duration": 8,
    "start_time": "2023-08-04T06:59:43.593Z"
   },
   {
    "duration": 38,
    "start_time": "2023-08-04T06:59:43.602Z"
   },
   {
    "duration": 23,
    "start_time": "2023-08-04T06:59:43.641Z"
   },
   {
    "duration": 14,
    "start_time": "2023-08-04T06:59:43.665Z"
   },
   {
    "duration": 561,
    "start_time": "2023-08-04T06:59:43.680Z"
   },
   {
    "duration": 413,
    "start_time": "2023-08-04T06:59:44.243Z"
   },
   {
    "duration": 396,
    "start_time": "2023-08-04T06:59:44.658Z"
   },
   {
    "duration": 324,
    "start_time": "2023-08-04T06:59:45.056Z"
   },
   {
    "duration": 3,
    "start_time": "2023-08-04T06:59:45.381Z"
   },
   {
    "duration": 21,
    "start_time": "2023-08-04T06:59:45.386Z"
   },
   {
    "duration": 9,
    "start_time": "2023-08-04T06:59:45.409Z"
   },
   {
    "duration": 24,
    "start_time": "2023-08-04T06:59:45.419Z"
   },
   {
    "duration": 9,
    "start_time": "2023-08-04T06:59:45.445Z"
   },
   {
    "duration": 21,
    "start_time": "2023-08-04T06:59:45.456Z"
   },
   {
    "duration": 23,
    "start_time": "2023-08-04T06:59:45.478Z"
   },
   {
    "duration": 7,
    "start_time": "2023-08-04T06:59:45.502Z"
   },
   {
    "duration": 388,
    "start_time": "2023-08-04T06:59:45.510Z"
   },
   {
    "duration": 3,
    "start_time": "2023-08-04T06:59:45.900Z"
   },
   {
    "duration": 2804,
    "start_time": "2023-08-04T06:59:45.905Z"
   },
   {
    "duration": 896,
    "start_time": "2023-08-04T06:59:48.711Z"
   },
   {
    "duration": 1182,
    "start_time": "2023-08-04T06:59:49.609Z"
   },
   {
    "duration": 1113,
    "start_time": "2023-08-04T06:59:50.793Z"
   },
   {
    "duration": 1437,
    "start_time": "2023-08-04T06:59:51.907Z"
   },
   {
    "duration": 3,
    "start_time": "2023-08-04T06:59:53.345Z"
   },
   {
    "duration": 757,
    "start_time": "2023-08-04T06:59:53.349Z"
   },
   {
    "duration": 626,
    "start_time": "2023-08-04T06:59:54.108Z"
   },
   {
    "duration": 620,
    "start_time": "2023-08-04T06:59:54.735Z"
   },
   {
    "duration": 5,
    "start_time": "2023-08-04T07:00:15.628Z"
   },
   {
    "duration": 846,
    "start_time": "2023-08-04T07:00:24.228Z"
   },
   {
    "duration": 858,
    "start_time": "2023-08-04T07:00:27.059Z"
   },
   {
    "duration": 940,
    "start_time": "2023-08-04T07:00:30.250Z"
   },
   {
    "duration": 46,
    "start_time": "2023-08-04T07:02:20.189Z"
   },
   {
    "duration": 7,
    "start_time": "2023-08-04T07:02:33.716Z"
   },
   {
    "duration": 1970,
    "start_time": "2023-08-04T07:04:17.432Z"
   },
   {
    "duration": 4,
    "start_time": "2023-08-04T07:05:08.290Z"
   },
   {
    "duration": 797,
    "start_time": "2023-08-04T07:05:08.295Z"
   },
   {
    "duration": 5,
    "start_time": "2023-08-04T07:05:09.094Z"
   },
   {
    "duration": 67,
    "start_time": "2023-08-04T07:05:09.101Z"
   },
   {
    "duration": 41,
    "start_time": "2023-08-04T07:05:09.170Z"
   },
   {
    "duration": 234,
    "start_time": "2023-08-04T07:05:09.212Z"
   },
   {
    "duration": 16,
    "start_time": "2023-08-04T07:05:09.447Z"
   },
   {
    "duration": 14,
    "start_time": "2023-08-04T07:05:09.473Z"
   },
   {
    "duration": 11,
    "start_time": "2023-08-04T07:05:09.489Z"
   },
   {
    "duration": 30,
    "start_time": "2023-08-04T07:05:09.504Z"
   },
   {
    "duration": 34,
    "start_time": "2023-08-04T07:05:09.536Z"
   },
   {
    "duration": 36,
    "start_time": "2023-08-04T07:05:09.572Z"
   },
   {
    "duration": 19,
    "start_time": "2023-08-04T07:05:09.609Z"
   },
   {
    "duration": 39,
    "start_time": "2023-08-04T07:05:09.630Z"
   },
   {
    "duration": 21,
    "start_time": "2023-08-04T07:05:09.670Z"
   },
   {
    "duration": 24,
    "start_time": "2023-08-04T07:05:09.693Z"
   },
   {
    "duration": 19,
    "start_time": "2023-08-04T07:05:09.719Z"
   },
   {
    "duration": 17,
    "start_time": "2023-08-04T07:05:09.740Z"
   },
   {
    "duration": 21,
    "start_time": "2023-08-04T07:05:09.759Z"
   },
   {
    "duration": 31,
    "start_time": "2023-08-04T07:05:09.782Z"
   },
   {
    "duration": 15,
    "start_time": "2023-08-04T07:05:09.814Z"
   },
   {
    "duration": 35,
    "start_time": "2023-08-04T07:05:09.830Z"
   },
   {
    "duration": 18,
    "start_time": "2023-08-04T07:05:09.866Z"
   },
   {
    "duration": 107,
    "start_time": "2023-08-04T07:05:09.886Z"
   },
   {
    "duration": 33,
    "start_time": "2023-08-04T07:05:09.994Z"
   },
   {
    "duration": 30,
    "start_time": "2023-08-04T07:05:10.029Z"
   },
   {
    "duration": 35,
    "start_time": "2023-08-04T07:05:10.060Z"
   },
   {
    "duration": 24,
    "start_time": "2023-08-04T07:05:10.106Z"
   },
   {
    "duration": 24,
    "start_time": "2023-08-04T07:05:10.131Z"
   },
   {
    "duration": 15,
    "start_time": "2023-08-04T07:05:10.156Z"
   },
   {
    "duration": 10,
    "start_time": "2023-08-04T07:05:10.173Z"
   },
   {
    "duration": 35,
    "start_time": "2023-08-04T07:05:10.184Z"
   },
   {
    "duration": 50,
    "start_time": "2023-08-04T07:05:10.221Z"
   },
   {
    "duration": 22,
    "start_time": "2023-08-04T07:05:10.273Z"
   },
   {
    "duration": 519,
    "start_time": "2023-08-04T07:05:10.297Z"
   },
   {
    "duration": 431,
    "start_time": "2023-08-04T07:05:10.817Z"
   },
   {
    "duration": 393,
    "start_time": "2023-08-04T07:05:11.250Z"
   },
   {
    "duration": 319,
    "start_time": "2023-08-04T07:05:11.645Z"
   },
   {
    "duration": 3,
    "start_time": "2023-08-04T07:05:11.966Z"
   },
   {
    "duration": 13,
    "start_time": "2023-08-04T07:05:11.974Z"
   },
   {
    "duration": 5,
    "start_time": "2023-08-04T07:05:11.988Z"
   },
   {
    "duration": 14,
    "start_time": "2023-08-04T07:05:11.994Z"
   },
   {
    "duration": 5,
    "start_time": "2023-08-04T07:05:12.009Z"
   },
   {
    "duration": 3,
    "start_time": "2023-08-04T07:05:12.015Z"
   },
   {
    "duration": 4,
    "start_time": "2023-08-04T07:05:12.019Z"
   },
   {
    "duration": 14,
    "start_time": "2023-08-04T07:05:12.025Z"
   },
   {
    "duration": 444,
    "start_time": "2023-08-04T07:05:12.040Z"
   },
   {
    "duration": 3,
    "start_time": "2023-08-04T07:05:12.485Z"
   },
   {
    "duration": 2905,
    "start_time": "2023-08-04T07:05:12.489Z"
   },
   {
    "duration": 951,
    "start_time": "2023-08-04T07:05:15.395Z"
   },
   {
    "duration": 1132,
    "start_time": "2023-08-04T07:05:16.347Z"
   },
   {
    "duration": 1094,
    "start_time": "2023-08-04T07:05:17.480Z"
   },
   {
    "duration": 1419,
    "start_time": "2023-08-04T07:05:18.575Z"
   },
   {
    "duration": 2,
    "start_time": "2023-08-04T07:05:19.996Z"
   },
   {
    "duration": 844,
    "start_time": "2023-08-04T07:05:20.000Z"
   },
   {
    "duration": 641,
    "start_time": "2023-08-04T07:05:20.846Z"
   },
   {
    "duration": 626,
    "start_time": "2023-08-04T07:05:21.489Z"
   },
   {
    "duration": 3,
    "start_time": "2023-08-04T07:05:22.117Z"
   },
   {
    "duration": 16,
    "start_time": "2023-08-04T07:05:22.122Z"
   },
   {
    "duration": 21,
    "start_time": "2023-08-04T07:05:22.140Z"
   },
   {
    "duration": 0,
    "start_time": "2023-08-04T07:05:22.163Z"
   },
   {
    "duration": 0,
    "start_time": "2023-08-04T07:05:22.164Z"
   },
   {
    "duration": 3,
    "start_time": "2023-08-04T07:05:44.919Z"
   },
   {
    "duration": 7,
    "start_time": "2023-08-04T07:05:45.302Z"
   },
   {
    "duration": 3,
    "start_time": "2023-08-04T07:06:01.149Z"
   },
   {
    "duration": 4,
    "start_time": "2023-08-04T07:06:19.339Z"
   },
   {
    "duration": 784,
    "start_time": "2023-08-04T07:06:19.345Z"
   },
   {
    "duration": 7,
    "start_time": "2023-08-04T07:06:20.130Z"
   },
   {
    "duration": 60,
    "start_time": "2023-08-04T07:06:20.139Z"
   },
   {
    "duration": 76,
    "start_time": "2023-08-04T07:06:20.200Z"
   },
   {
    "duration": 271,
    "start_time": "2023-08-04T07:06:20.278Z"
   },
   {
    "duration": 25,
    "start_time": "2023-08-04T07:06:20.551Z"
   },
   {
    "duration": 13,
    "start_time": "2023-08-04T07:06:20.578Z"
   },
   {
    "duration": 22,
    "start_time": "2023-08-04T07:06:20.592Z"
   },
   {
    "duration": 29,
    "start_time": "2023-08-04T07:06:20.616Z"
   },
   {
    "duration": 19,
    "start_time": "2023-08-04T07:06:20.647Z"
   },
   {
    "duration": 19,
    "start_time": "2023-08-04T07:06:20.668Z"
   },
   {
    "duration": 7,
    "start_time": "2023-08-04T07:06:20.688Z"
   },
   {
    "duration": 19,
    "start_time": "2023-08-04T07:06:20.696Z"
   },
   {
    "duration": 20,
    "start_time": "2023-08-04T07:06:20.716Z"
   },
   {
    "duration": 8,
    "start_time": "2023-08-04T07:06:20.738Z"
   },
   {
    "duration": 21,
    "start_time": "2023-08-04T07:06:20.747Z"
   },
   {
    "duration": 8,
    "start_time": "2023-08-04T07:06:20.771Z"
   },
   {
    "duration": 21,
    "start_time": "2023-08-04T07:06:20.781Z"
   },
   {
    "duration": 14,
    "start_time": "2023-08-04T07:06:20.804Z"
   },
   {
    "duration": 20,
    "start_time": "2023-08-04T07:06:20.820Z"
   },
   {
    "duration": 11,
    "start_time": "2023-08-04T07:06:20.842Z"
   },
   {
    "duration": 21,
    "start_time": "2023-08-04T07:06:20.854Z"
   },
   {
    "duration": 29,
    "start_time": "2023-08-04T07:06:20.877Z"
   },
   {
    "duration": 47,
    "start_time": "2023-08-04T07:06:20.908Z"
   },
   {
    "duration": 58,
    "start_time": "2023-08-04T07:06:20.957Z"
   },
   {
    "duration": 31,
    "start_time": "2023-08-04T07:06:21.017Z"
   },
   {
    "duration": 18,
    "start_time": "2023-08-04T07:06:21.053Z"
   },
   {
    "duration": 34,
    "start_time": "2023-08-04T07:06:21.072Z"
   },
   {
    "duration": 30,
    "start_time": "2023-08-04T07:06:21.108Z"
   },
   {
    "duration": 46,
    "start_time": "2023-08-04T07:06:21.140Z"
   },
   {
    "duration": 36,
    "start_time": "2023-08-04T07:06:21.187Z"
   },
   {
    "duration": 58,
    "start_time": "2023-08-04T07:06:21.225Z"
   },
   {
    "duration": 16,
    "start_time": "2023-08-04T07:06:21.284Z"
   },
   {
    "duration": 488,
    "start_time": "2023-08-04T07:06:21.301Z"
   },
   {
    "duration": 583,
    "start_time": "2023-08-04T07:06:21.791Z"
   },
   {
    "duration": 411,
    "start_time": "2023-08-04T07:06:22.375Z"
   },
   {
    "duration": 331,
    "start_time": "2023-08-04T07:06:22.788Z"
   },
   {
    "duration": 3,
    "start_time": "2023-08-04T07:06:23.121Z"
   },
   {
    "duration": 12,
    "start_time": "2023-08-04T07:06:23.125Z"
   },
   {
    "duration": 8,
    "start_time": "2023-08-04T07:06:23.138Z"
   },
   {
    "duration": 12,
    "start_time": "2023-08-04T07:06:23.148Z"
   },
   {
    "duration": 14,
    "start_time": "2023-08-04T07:06:23.162Z"
   },
   {
    "duration": 18,
    "start_time": "2023-08-04T07:06:23.178Z"
   },
   {
    "duration": 16,
    "start_time": "2023-08-04T07:06:23.198Z"
   },
   {
    "duration": 12,
    "start_time": "2023-08-04T07:06:23.216Z"
   },
   {
    "duration": 470,
    "start_time": "2023-08-04T07:06:23.229Z"
   },
   {
    "duration": 3,
    "start_time": "2023-08-04T07:06:23.701Z"
   },
   {
    "duration": 3026,
    "start_time": "2023-08-04T07:06:23.705Z"
   },
   {
    "duration": 976,
    "start_time": "2023-08-04T07:06:26.733Z"
   },
   {
    "duration": 1048,
    "start_time": "2023-08-04T07:06:27.711Z"
   },
   {
    "duration": 1250,
    "start_time": "2023-08-04T07:06:28.761Z"
   },
   {
    "duration": 1500,
    "start_time": "2023-08-04T07:06:30.013Z"
   },
   {
    "duration": 3,
    "start_time": "2023-08-04T07:06:31.514Z"
   },
   {
    "duration": 979,
    "start_time": "2023-08-04T07:06:31.518Z"
   },
   {
    "duration": 722,
    "start_time": "2023-08-04T07:06:32.499Z"
   },
   {
    "duration": 680,
    "start_time": "2023-08-04T07:06:33.223Z"
   },
   {
    "duration": 4,
    "start_time": "2023-08-04T07:06:33.904Z"
   },
   {
    "duration": 12,
    "start_time": "2023-08-04T07:06:33.909Z"
   },
   {
    "duration": 20,
    "start_time": "2023-08-04T07:06:33.922Z"
   },
   {
    "duration": 18,
    "start_time": "2023-08-04T07:06:33.944Z"
   },
   {
    "duration": 35,
    "start_time": "2023-08-04T07:06:33.964Z"
   },
   {
    "duration": 6,
    "start_time": "2023-08-04T07:06:55.082Z"
   },
   {
    "duration": 7,
    "start_time": "2023-08-04T07:07:03.359Z"
   },
   {
    "duration": 6,
    "start_time": "2023-08-04T07:07:13.014Z"
   },
   {
    "duration": 5,
    "start_time": "2023-08-04T07:07:20.078Z"
   },
   {
    "duration": 3,
    "start_time": "2023-08-04T07:08:04.670Z"
   },
   {
    "duration": 780,
    "start_time": "2023-08-04T07:08:04.675Z"
   },
   {
    "duration": 5,
    "start_time": "2023-08-04T07:08:05.457Z"
   },
   {
    "duration": 77,
    "start_time": "2023-08-04T07:08:05.464Z"
   },
   {
    "duration": 40,
    "start_time": "2023-08-04T07:08:05.543Z"
   },
   {
    "duration": 227,
    "start_time": "2023-08-04T07:08:05.584Z"
   },
   {
    "duration": 17,
    "start_time": "2023-08-04T07:08:05.813Z"
   },
   {
    "duration": 16,
    "start_time": "2023-08-04T07:08:05.831Z"
   },
   {
    "duration": 25,
    "start_time": "2023-08-04T07:08:05.849Z"
   },
   {
    "duration": 32,
    "start_time": "2023-08-04T07:08:05.876Z"
   },
   {
    "duration": 33,
    "start_time": "2023-08-04T07:08:05.910Z"
   },
   {
    "duration": 38,
    "start_time": "2023-08-04T07:08:05.944Z"
   },
   {
    "duration": 26,
    "start_time": "2023-08-04T07:08:05.984Z"
   },
   {
    "duration": 37,
    "start_time": "2023-08-04T07:08:06.011Z"
   },
   {
    "duration": 35,
    "start_time": "2023-08-04T07:08:06.050Z"
   },
   {
    "duration": 16,
    "start_time": "2023-08-04T07:08:06.087Z"
   },
   {
    "duration": 37,
    "start_time": "2023-08-04T07:08:06.105Z"
   },
   {
    "duration": 18,
    "start_time": "2023-08-04T07:08:06.144Z"
   },
   {
    "duration": 10,
    "start_time": "2023-08-04T07:08:06.164Z"
   },
   {
    "duration": 18,
    "start_time": "2023-08-04T07:08:06.176Z"
   },
   {
    "duration": 25,
    "start_time": "2023-08-04T07:08:06.196Z"
   },
   {
    "duration": 17,
    "start_time": "2023-08-04T07:08:06.223Z"
   },
   {
    "duration": 10,
    "start_time": "2023-08-04T07:08:06.242Z"
   },
   {
    "duration": 8,
    "start_time": "2023-08-04T07:08:06.255Z"
   },
   {
    "duration": 11,
    "start_time": "2023-08-04T07:08:06.264Z"
   },
   {
    "duration": 9,
    "start_time": "2023-08-04T07:08:06.276Z"
   },
   {
    "duration": 16,
    "start_time": "2023-08-04T07:08:06.286Z"
   },
   {
    "duration": 11,
    "start_time": "2023-08-04T07:08:06.303Z"
   },
   {
    "duration": 3,
    "start_time": "2023-08-04T07:08:06.315Z"
   },
   {
    "duration": 9,
    "start_time": "2023-08-04T07:08:06.319Z"
   },
   {
    "duration": 17,
    "start_time": "2023-08-04T07:08:06.329Z"
   },
   {
    "duration": 19,
    "start_time": "2023-08-04T07:08:06.348Z"
   },
   {
    "duration": 50,
    "start_time": "2023-08-04T07:08:06.368Z"
   },
   {
    "duration": 14,
    "start_time": "2023-08-04T07:08:06.419Z"
   },
   {
    "duration": 456,
    "start_time": "2023-08-04T07:08:06.435Z"
   },
   {
    "duration": 459,
    "start_time": "2023-08-04T07:08:06.893Z"
   },
   {
    "duration": 400,
    "start_time": "2023-08-04T07:08:07.354Z"
   },
   {
    "duration": 355,
    "start_time": "2023-08-04T07:08:07.756Z"
   },
   {
    "duration": 3,
    "start_time": "2023-08-04T07:08:08.113Z"
   },
   {
    "duration": 30,
    "start_time": "2023-08-04T07:08:08.118Z"
   },
   {
    "duration": 8,
    "start_time": "2023-08-04T07:08:08.150Z"
   },
   {
    "duration": 3,
    "start_time": "2023-08-04T07:08:08.160Z"
   },
   {
    "duration": 26,
    "start_time": "2023-08-04T07:08:08.165Z"
   },
   {
    "duration": 8,
    "start_time": "2023-08-04T07:08:08.192Z"
   },
   {
    "duration": 20,
    "start_time": "2023-08-04T07:08:08.201Z"
   },
   {
    "duration": 11,
    "start_time": "2023-08-04T07:08:08.223Z"
   },
   {
    "duration": 548,
    "start_time": "2023-08-04T07:08:08.235Z"
   },
   {
    "duration": 3,
    "start_time": "2023-08-04T07:08:08.784Z"
   },
   {
    "duration": 2828,
    "start_time": "2023-08-04T07:08:08.789Z"
   },
   {
    "duration": 913,
    "start_time": "2023-08-04T07:08:11.618Z"
   },
   {
    "duration": 1138,
    "start_time": "2023-08-04T07:08:12.533Z"
   },
   {
    "duration": 1119,
    "start_time": "2023-08-04T07:08:13.673Z"
   },
   {
    "duration": 1419,
    "start_time": "2023-08-04T07:08:14.794Z"
   },
   {
    "duration": 3,
    "start_time": "2023-08-04T07:08:16.215Z"
   },
   {
    "duration": 751,
    "start_time": "2023-08-04T07:08:16.219Z"
   },
   {
    "duration": 685,
    "start_time": "2023-08-04T07:08:16.971Z"
   },
   {
    "duration": 620,
    "start_time": "2023-08-04T07:08:17.658Z"
   },
   {
    "duration": 4,
    "start_time": "2023-08-04T07:08:18.279Z"
   },
   {
    "duration": 8,
    "start_time": "2023-08-04T07:08:18.285Z"
   },
   {
    "duration": 6,
    "start_time": "2023-08-04T07:08:18.295Z"
   },
   {
    "duration": 19,
    "start_time": "2023-08-04T07:08:18.303Z"
   },
   {
    "duration": 31,
    "start_time": "2023-08-04T07:08:18.324Z"
   },
   {
    "duration": 0,
    "start_time": "2023-08-04T07:08:18.356Z"
   },
   {
    "duration": 0,
    "start_time": "2023-08-04T07:08:18.357Z"
   },
   {
    "duration": 0,
    "start_time": "2023-08-04T07:08:18.358Z"
   },
   {
    "duration": 4,
    "start_time": "2023-08-04T07:10:03.837Z"
   },
   {
    "duration": 779,
    "start_time": "2023-08-04T07:10:03.844Z"
   },
   {
    "duration": 6,
    "start_time": "2023-08-04T07:10:04.624Z"
   },
   {
    "duration": 59,
    "start_time": "2023-08-04T07:10:04.631Z"
   },
   {
    "duration": 43,
    "start_time": "2023-08-04T07:10:04.693Z"
   },
   {
    "duration": 239,
    "start_time": "2023-08-04T07:10:04.738Z"
   },
   {
    "duration": 18,
    "start_time": "2023-08-04T07:10:04.979Z"
   },
   {
    "duration": 12,
    "start_time": "2023-08-04T07:10:04.999Z"
   },
   {
    "duration": 17,
    "start_time": "2023-08-04T07:10:05.013Z"
   },
   {
    "duration": 36,
    "start_time": "2023-08-04T07:10:05.031Z"
   },
   {
    "duration": 29,
    "start_time": "2023-08-04T07:10:05.069Z"
   },
   {
    "duration": 38,
    "start_time": "2023-08-04T07:10:05.100Z"
   },
   {
    "duration": 14,
    "start_time": "2023-08-04T07:10:05.141Z"
   },
   {
    "duration": 24,
    "start_time": "2023-08-04T07:10:05.156Z"
   },
   {
    "duration": 8,
    "start_time": "2023-08-04T07:10:05.182Z"
   },
   {
    "duration": 13,
    "start_time": "2023-08-04T07:10:05.192Z"
   },
   {
    "duration": 21,
    "start_time": "2023-08-04T07:10:05.207Z"
   },
   {
    "duration": 11,
    "start_time": "2023-08-04T07:10:05.229Z"
   },
   {
    "duration": 24,
    "start_time": "2023-08-04T07:10:05.241Z"
   },
   {
    "duration": 19,
    "start_time": "2023-08-04T07:10:05.267Z"
   },
   {
    "duration": 8,
    "start_time": "2023-08-04T07:10:05.288Z"
   },
   {
    "duration": 10,
    "start_time": "2023-08-04T07:10:05.297Z"
   },
   {
    "duration": 35,
    "start_time": "2023-08-04T07:10:05.308Z"
   },
   {
    "duration": 11,
    "start_time": "2023-08-04T07:10:05.345Z"
   },
   {
    "duration": 13,
    "start_time": "2023-08-04T07:10:05.358Z"
   },
   {
    "duration": 13,
    "start_time": "2023-08-04T07:10:05.373Z"
   },
   {
    "duration": 29,
    "start_time": "2023-08-04T07:10:05.388Z"
   },
   {
    "duration": 24,
    "start_time": "2023-08-04T07:10:05.419Z"
   },
   {
    "duration": 16,
    "start_time": "2023-08-04T07:10:05.445Z"
   },
   {
    "duration": 23,
    "start_time": "2023-08-04T07:10:05.462Z"
   },
   {
    "duration": 5,
    "start_time": "2023-08-04T07:10:05.486Z"
   },
   {
    "duration": 14,
    "start_time": "2023-08-04T07:10:05.493Z"
   },
   {
    "duration": 28,
    "start_time": "2023-08-04T07:10:05.509Z"
   },
   {
    "duration": 43,
    "start_time": "2023-08-04T07:10:05.539Z"
   },
   {
    "duration": 497,
    "start_time": "2023-08-04T07:10:05.583Z"
   },
   {
    "duration": 564,
    "start_time": "2023-08-04T07:10:06.082Z"
   },
   {
    "duration": 403,
    "start_time": "2023-08-04T07:10:06.650Z"
   },
   {
    "duration": 337,
    "start_time": "2023-08-04T07:10:07.055Z"
   },
   {
    "duration": 3,
    "start_time": "2023-08-04T07:10:07.394Z"
   },
   {
    "duration": 8,
    "start_time": "2023-08-04T07:10:07.398Z"
   },
   {
    "duration": 11,
    "start_time": "2023-08-04T07:10:07.407Z"
   },
   {
    "duration": 5,
    "start_time": "2023-08-04T07:10:07.420Z"
   },
   {
    "duration": 7,
    "start_time": "2023-08-04T07:10:07.426Z"
   },
   {
    "duration": 4,
    "start_time": "2023-08-04T07:10:07.435Z"
   },
   {
    "duration": 11,
    "start_time": "2023-08-04T07:10:07.441Z"
   },
   {
    "duration": 16,
    "start_time": "2023-08-04T07:10:07.454Z"
   },
   {
    "duration": 415,
    "start_time": "2023-08-04T07:10:07.471Z"
   },
   {
    "duration": 2,
    "start_time": "2023-08-04T07:10:07.888Z"
   },
   {
    "duration": 2925,
    "start_time": "2023-08-04T07:10:07.892Z"
   },
   {
    "duration": 913,
    "start_time": "2023-08-04T07:10:10.819Z"
   },
   {
    "duration": 1024,
    "start_time": "2023-08-04T07:10:11.733Z"
   },
   {
    "duration": 1189,
    "start_time": "2023-08-04T07:10:12.759Z"
   },
   {
    "duration": 1318,
    "start_time": "2023-08-04T07:10:13.950Z"
   },
   {
    "duration": 3,
    "start_time": "2023-08-04T07:10:15.274Z"
   },
   {
    "duration": 825,
    "start_time": "2023-08-04T07:10:15.278Z"
   },
   {
    "duration": 735,
    "start_time": "2023-08-04T07:10:16.104Z"
   },
   {
    "duration": 615,
    "start_time": "2023-08-04T07:10:16.841Z"
   },
   {
    "duration": 3,
    "start_time": "2023-08-04T07:10:17.457Z"
   },
   {
    "duration": 12,
    "start_time": "2023-08-04T07:10:17.462Z"
   },
   {
    "duration": 21,
    "start_time": "2023-08-04T07:10:17.476Z"
   },
   {
    "duration": 21,
    "start_time": "2023-08-04T07:10:17.499Z"
   },
   {
    "duration": 32,
    "start_time": "2023-08-04T07:10:17.522Z"
   },
   {
    "duration": 1344,
    "start_time": "2023-08-04T07:10:26.538Z"
   },
   {
    "duration": 4,
    "start_time": "2023-08-04T07:10:39.546Z"
   },
   {
    "duration": 1069,
    "start_time": "2023-08-04T07:10:43.913Z"
   },
   {
    "duration": 5,
    "start_time": "2023-08-04T07:10:49.775Z"
   },
   {
    "duration": 24,
    "start_time": "2023-08-04T07:11:10.629Z"
   },
   {
    "duration": 25,
    "start_time": "2023-08-04T07:11:26.861Z"
   },
   {
    "duration": 1135,
    "start_time": "2023-08-04T07:11:57.548Z"
   },
   {
    "duration": 4,
    "start_time": "2023-08-04T07:12:00.520Z"
   },
   {
    "duration": 201,
    "start_time": "2023-08-04T07:14:07.875Z"
   },
   {
    "duration": 5,
    "start_time": "2023-08-04T07:14:14.045Z"
   },
   {
    "duration": 10,
    "start_time": "2023-08-04T07:14:30.928Z"
   },
   {
    "duration": 6,
    "start_time": "2023-08-04T07:15:28.653Z"
   },
   {
    "duration": 10,
    "start_time": "2023-08-04T07:15:37.537Z"
   },
   {
    "duration": 3,
    "start_time": "2023-08-04T07:16:26.263Z"
   },
   {
    "duration": 2,
    "start_time": "2023-08-04T07:16:28.646Z"
   },
   {
    "duration": 1039,
    "start_time": "2023-08-04T07:16:37.045Z"
   },
   {
    "duration": 261,
    "start_time": "2023-08-04T07:18:30.415Z"
   },
   {
    "duration": 4,
    "start_time": "2023-08-04T07:20:38.531Z"
   },
   {
    "duration": 3,
    "start_time": "2023-08-04T07:20:40.980Z"
   },
   {
    "duration": 165,
    "start_time": "2023-08-04T07:20:44.310Z"
   },
   {
    "duration": 1318,
    "start_time": "2023-08-04T07:20:54.358Z"
   },
   {
    "duration": 3,
    "start_time": "2023-08-04T07:22:58.291Z"
   },
   {
    "duration": 45,
    "start_time": "2023-08-04T07:23:03.437Z"
   },
   {
    "duration": 1385,
    "start_time": "2023-08-04T07:23:07.597Z"
   },
   {
    "duration": 4,
    "start_time": "2023-08-04T07:23:10.807Z"
   },
   {
    "duration": 4,
    "start_time": "2023-08-04T07:23:13.779Z"
   },
   {
    "duration": 185,
    "start_time": "2023-08-04T07:25:16.703Z"
   },
   {
    "duration": 951,
    "start_time": "2023-08-04T07:25:19.428Z"
   },
   {
    "duration": 1464,
    "start_time": "2023-08-04T07:25:36.918Z"
   },
   {
    "duration": 1373,
    "start_time": "2023-08-04T07:25:51.905Z"
   },
   {
    "duration": 4,
    "start_time": "2023-08-04T07:26:14.201Z"
   },
   {
    "duration": 3,
    "start_time": "2023-08-04T07:26:14.553Z"
   },
   {
    "duration": 1273,
    "start_time": "2023-08-04T07:26:20.609Z"
   },
   {
    "duration": 1313,
    "start_time": "2023-08-04T07:26:26.172Z"
   },
   {
    "duration": 197,
    "start_time": "2023-08-04T07:26:46.478Z"
   },
   {
    "duration": 1301,
    "start_time": "2023-08-04T07:27:00.951Z"
   },
   {
    "duration": 1323,
    "start_time": "2023-08-04T07:27:04.028Z"
   },
   {
    "duration": 4,
    "start_time": "2023-08-04T07:29:24.132Z"
   },
   {
    "duration": 2,
    "start_time": "2023-08-04T07:29:24.951Z"
   },
   {
    "duration": 56,
    "start_time": "2023-08-04T07:29:38.924Z"
   },
   {
    "duration": 996,
    "start_time": "2023-08-04T07:29:41.082Z"
   },
   {
    "duration": 1037,
    "start_time": "2023-08-04T07:29:57.341Z"
   },
   {
    "duration": 1154,
    "start_time": "2023-08-04T07:32:17.125Z"
   },
   {
    "duration": 176,
    "start_time": "2023-08-04T07:32:30.209Z"
   },
   {
    "duration": 1346,
    "start_time": "2023-08-04T07:32:34.335Z"
   },
   {
    "duration": 4,
    "start_time": "2023-08-04T07:41:03.880Z"
   },
   {
    "duration": 7,
    "start_time": "2023-08-04T07:43:09.082Z"
   },
   {
    "duration": 8,
    "start_time": "2023-08-04T07:43:57.679Z"
   },
   {
    "duration": 6,
    "start_time": "2023-08-04T07:44:07.597Z"
   },
   {
    "duration": 1319,
    "start_time": "2023-08-04T07:50:33.460Z"
   },
   {
    "duration": 1296,
    "start_time": "2023-08-04T07:50:35.561Z"
   },
   {
    "duration": 1605,
    "start_time": "2023-08-04T07:51:01.959Z"
   },
   {
    "duration": 807,
    "start_time": "2023-08-04T07:51:03.567Z"
   },
   {
    "duration": 7,
    "start_time": "2023-08-04T07:51:04.376Z"
   },
   {
    "duration": 86,
    "start_time": "2023-08-04T07:51:04.384Z"
   },
   {
    "duration": 45,
    "start_time": "2023-08-04T07:51:04.472Z"
   },
   {
    "duration": 241,
    "start_time": "2023-08-04T07:51:04.519Z"
   },
   {
    "duration": 25,
    "start_time": "2023-08-04T07:51:04.762Z"
   },
   {
    "duration": 18,
    "start_time": "2023-08-04T07:51:04.789Z"
   },
   {
    "duration": 39,
    "start_time": "2023-08-04T07:51:04.809Z"
   },
   {
    "duration": 51,
    "start_time": "2023-08-04T07:51:04.851Z"
   },
   {
    "duration": 56,
    "start_time": "2023-08-04T07:51:04.903Z"
   },
   {
    "duration": 18,
    "start_time": "2023-08-04T07:51:04.961Z"
   },
   {
    "duration": 34,
    "start_time": "2023-08-04T07:51:04.981Z"
   },
   {
    "duration": 31,
    "start_time": "2023-08-04T07:51:05.017Z"
   },
   {
    "duration": 35,
    "start_time": "2023-08-04T07:51:05.050Z"
   },
   {
    "duration": 23,
    "start_time": "2023-08-04T07:51:05.088Z"
   },
   {
    "duration": 41,
    "start_time": "2023-08-04T07:51:05.112Z"
   },
   {
    "duration": 33,
    "start_time": "2023-08-04T07:51:05.155Z"
   },
   {
    "duration": 19,
    "start_time": "2023-08-04T07:51:05.190Z"
   },
   {
    "duration": 56,
    "start_time": "2023-08-04T07:51:05.211Z"
   },
   {
    "duration": 19,
    "start_time": "2023-08-04T07:51:05.268Z"
   },
   {
    "duration": 12,
    "start_time": "2023-08-04T07:51:05.289Z"
   },
   {
    "duration": 28,
    "start_time": "2023-08-04T07:51:05.303Z"
   },
   {
    "duration": 27,
    "start_time": "2023-08-04T07:51:05.332Z"
   },
   {
    "duration": 17,
    "start_time": "2023-08-04T07:51:05.360Z"
   },
   {
    "duration": 23,
    "start_time": "2023-08-04T07:51:05.378Z"
   },
   {
    "duration": 45,
    "start_time": "2023-08-04T07:51:05.403Z"
   },
   {
    "duration": 14,
    "start_time": "2023-08-04T07:51:05.452Z"
   },
   {
    "duration": 25,
    "start_time": "2023-08-04T07:51:05.468Z"
   },
   {
    "duration": 21,
    "start_time": "2023-08-04T07:51:05.494Z"
   },
   {
    "duration": 16,
    "start_time": "2023-08-04T07:51:05.516Z"
   },
   {
    "duration": 22,
    "start_time": "2023-08-04T07:51:05.533Z"
   },
   {
    "duration": 33,
    "start_time": "2023-08-04T07:51:05.557Z"
   },
   {
    "duration": 17,
    "start_time": "2023-08-04T07:51:05.592Z"
   },
   {
    "duration": 616,
    "start_time": "2023-08-04T07:51:05.610Z"
   },
   {
    "duration": 475,
    "start_time": "2023-08-04T07:51:06.228Z"
   },
   {
    "duration": 429,
    "start_time": "2023-08-04T07:51:06.704Z"
   },
   {
    "duration": 361,
    "start_time": "2023-08-04T07:51:07.135Z"
   },
   {
    "duration": 3,
    "start_time": "2023-08-04T07:51:07.497Z"
   },
   {
    "duration": 45,
    "start_time": "2023-08-04T07:51:07.502Z"
   },
   {
    "duration": 20,
    "start_time": "2023-08-04T07:51:07.549Z"
   },
   {
    "duration": 50,
    "start_time": "2023-08-04T07:51:07.571Z"
   },
   {
    "duration": 19,
    "start_time": "2023-08-04T07:51:07.623Z"
   },
   {
    "duration": 12,
    "start_time": "2023-08-04T07:51:07.644Z"
   },
   {
    "duration": 22,
    "start_time": "2023-08-04T07:51:07.658Z"
   },
   {
    "duration": 23,
    "start_time": "2023-08-04T07:51:07.682Z"
   },
   {
    "duration": 421,
    "start_time": "2023-08-04T07:51:07.707Z"
   },
   {
    "duration": 3,
    "start_time": "2023-08-04T07:51:08.130Z"
   },
   {
    "duration": 3089,
    "start_time": "2023-08-04T07:51:08.134Z"
   },
   {
    "duration": 985,
    "start_time": "2023-08-04T07:51:11.224Z"
   },
   {
    "duration": 1209,
    "start_time": "2023-08-04T07:51:12.210Z"
   },
   {
    "duration": 1206,
    "start_time": "2023-08-04T07:51:13.420Z"
   },
   {
    "duration": 1521,
    "start_time": "2023-08-04T07:51:14.627Z"
   },
   {
    "duration": 3,
    "start_time": "2023-08-04T07:51:16.149Z"
   },
   {
    "duration": 750,
    "start_time": "2023-08-04T07:51:16.153Z"
   },
   {
    "duration": 707,
    "start_time": "2023-08-04T07:51:16.904Z"
   },
   {
    "duration": 691,
    "start_time": "2023-08-04T07:51:17.613Z"
   },
   {
    "duration": 3,
    "start_time": "2023-08-04T07:51:18.306Z"
   },
   {
    "duration": 27,
    "start_time": "2023-08-04T07:51:18.311Z"
   },
   {
    "duration": 7,
    "start_time": "2023-08-04T07:51:18.339Z"
   },
   {
    "duration": 17,
    "start_time": "2023-08-04T07:51:18.347Z"
   },
   {
    "duration": 56,
    "start_time": "2023-08-04T07:51:18.366Z"
   },
   {
    "duration": 253,
    "start_time": "2023-08-04T07:51:18.423Z"
   },
   {
    "duration": 1408,
    "start_time": "2023-08-04T07:51:18.678Z"
   },
   {
    "duration": 1693,
    "start_time": "2023-08-04T07:51:20.088Z"
   },
   {
    "duration": 26,
    "start_time": "2023-08-04T07:51:36.835Z"
   },
   {
    "duration": 25,
    "start_time": "2023-08-04T07:51:44.664Z"
   },
   {
    "duration": 27,
    "start_time": "2023-08-04T07:51:52.270Z"
   },
   {
    "duration": 114,
    "start_time": "2023-08-04T07:54:13.447Z"
   },
   {
    "duration": 3,
    "start_time": "2023-08-04T07:54:21.909Z"
   },
   {
    "duration": 3,
    "start_time": "2023-08-04T07:54:26.194Z"
   },
   {
    "duration": 48,
    "start_time": "2023-08-04T07:54:29.831Z"
   },
   {
    "duration": 1287,
    "start_time": "2023-08-04T07:54:32.189Z"
   },
   {
    "duration": 4,
    "start_time": "2023-08-04T07:55:03.426Z"
   },
   {
    "duration": 2,
    "start_time": "2023-08-04T07:55:04.625Z"
   },
   {
    "duration": 1471,
    "start_time": "2023-08-04T07:55:10.705Z"
   },
   {
    "duration": 3,
    "start_time": "2023-08-04T07:58:01.295Z"
   },
   {
    "duration": 3,
    "start_time": "2023-08-04T07:58:01.699Z"
   },
   {
    "duration": 1296,
    "start_time": "2023-08-04T07:58:09.585Z"
   },
   {
    "duration": 4,
    "start_time": "2023-08-04T07:58:17.045Z"
   },
   {
    "duration": 171,
    "start_time": "2023-08-04T07:59:19.804Z"
   },
   {
    "duration": 6,
    "start_time": "2023-08-04T07:59:36.285Z"
   },
   {
    "duration": 3,
    "start_time": "2023-08-04T07:59:46.460Z"
   },
   {
    "duration": 5,
    "start_time": "2023-08-04T08:00:15.378Z"
   },
   {
    "duration": 6,
    "start_time": "2023-08-04T08:00:35.704Z"
   },
   {
    "duration": 8,
    "start_time": "2023-08-04T08:01:42.027Z"
   },
   {
    "duration": 5,
    "start_time": "2023-08-04T08:01:59.765Z"
   },
   {
    "duration": 3,
    "start_time": "2023-08-04T08:02:31.844Z"
   },
   {
    "duration": 5,
    "start_time": "2023-08-04T08:02:37.935Z"
   },
   {
    "duration": 116,
    "start_time": "2023-08-04T08:02:51.609Z"
   },
   {
    "duration": 3,
    "start_time": "2023-08-04T08:02:57.609Z"
   },
   {
    "duration": 3,
    "start_time": "2023-08-04T08:03:01.758Z"
   },
   {
    "duration": 3,
    "start_time": "2023-08-04T08:03:08.232Z"
   },
   {
    "duration": 169,
    "start_time": "2023-08-04T08:03:13.307Z"
   },
   {
    "duration": 1221,
    "start_time": "2023-08-04T08:03:17.859Z"
   },
   {
    "duration": 3,
    "start_time": "2023-08-04T08:03:35.351Z"
   },
   {
    "duration": 2810,
    "start_time": "2023-08-04T08:07:13.471Z"
   },
   {
    "duration": 4,
    "start_time": "2023-08-04T08:08:19.925Z"
   },
   {
    "duration": 2,
    "start_time": "2023-08-04T08:08:20.784Z"
   },
   {
    "duration": 49,
    "start_time": "2023-08-04T08:08:24.830Z"
   },
   {
    "duration": 2448,
    "start_time": "2023-08-04T08:08:27.133Z"
   },
   {
    "duration": 4,
    "start_time": "2023-08-04T08:08:37.345Z"
   },
   {
    "duration": 111,
    "start_time": "2023-08-04T08:09:40.071Z"
   },
   {
    "duration": 3,
    "start_time": "2023-08-04T08:09:55.779Z"
   },
   {
    "duration": 1787,
    "start_time": "2023-08-04T08:10:00.092Z"
   },
   {
    "duration": 3,
    "start_time": "2023-08-04T08:10:23.979Z"
   },
   {
    "duration": 3,
    "start_time": "2023-08-04T08:10:29.573Z"
   },
   {
    "duration": 206,
    "start_time": "2023-08-04T08:10:33.772Z"
   },
   {
    "duration": 2887,
    "start_time": "2023-08-04T08:10:37.589Z"
   },
   {
    "duration": 2,
    "start_time": "2023-08-04T08:10:46.783Z"
   },
   {
    "duration": 2811,
    "start_time": "2023-08-04T08:10:52.368Z"
   },
   {
    "duration": 1261,
    "start_time": "2023-08-04T08:10:57.219Z"
   },
   {
    "duration": 9,
    "start_time": "2023-08-04T08:11:46.756Z"
   },
   {
    "duration": 11,
    "start_time": "2023-08-04T08:11:52.613Z"
   },
   {
    "duration": 26,
    "start_time": "2023-08-04T08:12:00.246Z"
   },
   {
    "duration": 10,
    "start_time": "2023-08-04T08:12:12.283Z"
   },
   {
    "duration": 3118,
    "start_time": "2023-08-04T08:12:19.260Z"
   },
   {
    "duration": 4,
    "start_time": "2023-08-04T08:12:28.662Z"
   },
   {
    "duration": 779,
    "start_time": "2023-08-04T08:12:28.668Z"
   },
   {
    "duration": 5,
    "start_time": "2023-08-04T08:12:29.449Z"
   },
   {
    "duration": 56,
    "start_time": "2023-08-04T08:12:29.456Z"
   },
   {
    "duration": 63,
    "start_time": "2023-08-04T08:12:29.515Z"
   },
   {
    "duration": 222,
    "start_time": "2023-08-04T08:12:29.580Z"
   },
   {
    "duration": 17,
    "start_time": "2023-08-04T08:12:29.803Z"
   },
   {
    "duration": 13,
    "start_time": "2023-08-04T08:12:29.821Z"
   },
   {
    "duration": 12,
    "start_time": "2023-08-04T08:12:29.836Z"
   },
   {
    "duration": 27,
    "start_time": "2023-08-04T08:12:29.850Z"
   },
   {
    "duration": 18,
    "start_time": "2023-08-04T08:12:29.879Z"
   },
   {
    "duration": 35,
    "start_time": "2023-08-04T08:12:29.898Z"
   },
   {
    "duration": 17,
    "start_time": "2023-08-04T08:12:29.935Z"
   },
   {
    "duration": 48,
    "start_time": "2023-08-04T08:12:29.955Z"
   },
   {
    "duration": 41,
    "start_time": "2023-08-04T08:12:30.005Z"
   },
   {
    "duration": 62,
    "start_time": "2023-08-04T08:12:30.048Z"
   },
   {
    "duration": 52,
    "start_time": "2023-08-04T08:12:30.112Z"
   },
   {
    "duration": 36,
    "start_time": "2023-08-04T08:12:30.166Z"
   },
   {
    "duration": 25,
    "start_time": "2023-08-04T08:12:30.204Z"
   },
   {
    "duration": 49,
    "start_time": "2023-08-04T08:12:30.231Z"
   },
   {
    "duration": 40,
    "start_time": "2023-08-04T08:12:30.282Z"
   },
   {
    "duration": 43,
    "start_time": "2023-08-04T08:12:30.325Z"
   },
   {
    "duration": 27,
    "start_time": "2023-08-04T08:12:30.370Z"
   },
   {
    "duration": 86,
    "start_time": "2023-08-04T08:12:30.399Z"
   },
   {
    "duration": 79,
    "start_time": "2023-08-04T08:12:30.488Z"
   },
   {
    "duration": 47,
    "start_time": "2023-08-04T08:12:30.569Z"
   },
   {
    "duration": 63,
    "start_time": "2023-08-04T08:12:30.619Z"
   },
   {
    "duration": 50,
    "start_time": "2023-08-04T08:12:30.683Z"
   },
   {
    "duration": 35,
    "start_time": "2023-08-04T08:12:30.735Z"
   },
   {
    "duration": 39,
    "start_time": "2023-08-04T08:12:30.772Z"
   },
   {
    "duration": 34,
    "start_time": "2023-08-04T08:12:30.813Z"
   },
   {
    "duration": 43,
    "start_time": "2023-08-04T08:12:30.849Z"
   },
   {
    "duration": 68,
    "start_time": "2023-08-04T08:12:30.894Z"
   },
   {
    "duration": 76,
    "start_time": "2023-08-04T08:12:30.964Z"
   },
   {
    "duration": 535,
    "start_time": "2023-08-04T08:12:31.042Z"
   },
   {
    "duration": 468,
    "start_time": "2023-08-04T08:12:31.579Z"
   },
   {
    "duration": 579,
    "start_time": "2023-08-04T08:12:32.049Z"
   },
   {
    "duration": 351,
    "start_time": "2023-08-04T08:12:32.630Z"
   },
   {
    "duration": 3,
    "start_time": "2023-08-04T08:12:32.983Z"
   },
   {
    "duration": 23,
    "start_time": "2023-08-04T08:12:32.988Z"
   },
   {
    "duration": 47,
    "start_time": "2023-08-04T08:12:33.016Z"
   },
   {
    "duration": 18,
    "start_time": "2023-08-04T08:12:33.065Z"
   },
   {
    "duration": 38,
    "start_time": "2023-08-04T08:12:33.084Z"
   },
   {
    "duration": 29,
    "start_time": "2023-08-04T08:12:33.124Z"
   },
   {
    "duration": 35,
    "start_time": "2023-08-04T08:12:33.155Z"
   },
   {
    "duration": 51,
    "start_time": "2023-08-04T08:12:33.191Z"
   },
   {
    "duration": 458,
    "start_time": "2023-08-04T08:12:33.243Z"
   },
   {
    "duration": 3,
    "start_time": "2023-08-04T08:12:33.702Z"
   },
   {
    "duration": 2968,
    "start_time": "2023-08-04T08:12:33.706Z"
   },
   {
    "duration": 1030,
    "start_time": "2023-08-04T08:12:36.676Z"
   },
   {
    "duration": 1101,
    "start_time": "2023-08-04T08:12:37.708Z"
   },
   {
    "duration": 1228,
    "start_time": "2023-08-04T08:12:38.811Z"
   },
   {
    "duration": 1528,
    "start_time": "2023-08-04T08:12:40.041Z"
   },
   {
    "duration": 5,
    "start_time": "2023-08-04T08:12:41.570Z"
   },
   {
    "duration": 749,
    "start_time": "2023-08-04T08:12:41.576Z"
   },
   {
    "duration": 686,
    "start_time": "2023-08-04T08:12:42.327Z"
   },
   {
    "duration": 634,
    "start_time": "2023-08-04T08:12:43.015Z"
   },
   {
    "duration": 3,
    "start_time": "2023-08-04T08:12:43.651Z"
   },
   {
    "duration": 11,
    "start_time": "2023-08-04T08:12:43.655Z"
   },
   {
    "duration": 8,
    "start_time": "2023-08-04T08:12:43.667Z"
   },
   {
    "duration": 23,
    "start_time": "2023-08-04T08:12:43.676Z"
   },
   {
    "duration": 25,
    "start_time": "2023-08-04T08:12:43.700Z"
   },
   {
    "duration": 248,
    "start_time": "2023-08-04T08:12:43.727Z"
   },
   {
    "duration": 2804,
    "start_time": "2023-08-04T08:12:43.977Z"
   },
   {
    "duration": 4,
    "start_time": "2023-08-04T08:15:56.970Z"
   },
   {
    "duration": 3,
    "start_time": "2023-08-04T08:15:57.949Z"
   },
   {
    "duration": 2973,
    "start_time": "2023-08-04T08:16:00.707Z"
   },
   {
    "duration": 207,
    "start_time": "2023-08-04T08:16:11.073Z"
   },
   {
    "duration": 3,
    "start_time": "2023-08-04T08:22:07.739Z"
   },
   {
    "duration": 3,
    "start_time": "2023-08-04T08:22:08.279Z"
   },
   {
    "duration": 204,
    "start_time": "2023-08-04T08:22:12.076Z"
   },
   {
    "duration": 2881,
    "start_time": "2023-08-04T08:22:14.501Z"
   },
   {
    "duration": 2674,
    "start_time": "2023-08-04T08:25:35.302Z"
   },
   {
    "duration": 4,
    "start_time": "2023-08-04T08:33:45.811Z"
   },
   {
    "duration": 4,
    "start_time": "2023-08-04T08:33:48.227Z"
   },
   {
    "duration": 2847,
    "start_time": "2023-08-04T08:33:52.433Z"
   },
   {
    "duration": 177,
    "start_time": "2023-08-04T08:35:55.704Z"
   },
   {
    "duration": 4,
    "start_time": "2023-08-04T08:38:31.773Z"
   },
   {
    "duration": 307,
    "start_time": "2023-08-04T08:38:35.573Z"
   },
   {
    "duration": 4,
    "start_time": "2023-08-04T08:38:36.076Z"
   },
   {
    "duration": 3,
    "start_time": "2023-08-04T08:39:09.551Z"
   },
   {
    "duration": 6,
    "start_time": "2023-08-04T08:39:14.968Z"
   },
   {
    "duration": 148,
    "start_time": "2023-08-04T08:40:17.225Z"
   },
   {
    "duration": 115,
    "start_time": "2023-08-04T08:40:22.339Z"
   },
   {
    "duration": 719,
    "start_time": "2023-08-04T08:40:26.274Z"
   },
   {
    "duration": 562,
    "start_time": "2023-08-04T08:41:54.070Z"
   },
   {
    "duration": 1164,
    "start_time": "2023-08-04T08:43:56.111Z"
   },
   {
    "duration": 1390,
    "start_time": "2023-08-04T08:44:10.990Z"
   },
   {
    "duration": 1648,
    "start_time": "2023-08-04T08:44:20.728Z"
   },
   {
    "duration": 1297,
    "start_time": "2023-08-04T08:44:29.231Z"
   },
   {
    "duration": 1250,
    "start_time": "2023-08-04T08:44:32.921Z"
   },
   {
    "duration": 112,
    "start_time": "2023-08-04T08:48:24.144Z"
   },
   {
    "duration": 2944,
    "start_time": "2023-08-04T08:48:27.802Z"
   },
   {
    "duration": 2915,
    "start_time": "2023-08-04T08:48:47.683Z"
   },
   {
    "duration": 111,
    "start_time": "2023-08-04T08:50:36.076Z"
   },
   {
    "duration": 118,
    "start_time": "2023-08-04T08:50:42.771Z"
   },
   {
    "duration": 347,
    "start_time": "2023-08-04T08:50:55.613Z"
   },
   {
    "duration": 366,
    "start_time": "2023-08-04T08:51:42.563Z"
   },
   {
    "duration": 107,
    "start_time": "2023-08-04T08:51:51.783Z"
   },
   {
    "duration": 332,
    "start_time": "2023-08-04T08:51:56.432Z"
   },
   {
    "duration": 326,
    "start_time": "2023-08-04T08:52:02.544Z"
   },
   {
    "duration": 112,
    "start_time": "2023-08-04T08:52:17.703Z"
   },
   {
    "duration": 102,
    "start_time": "2023-08-04T08:52:37.529Z"
   },
   {
    "duration": 319,
    "start_time": "2023-08-04T08:52:49.765Z"
   },
   {
    "duration": 103,
    "start_time": "2023-08-04T08:52:53.890Z"
   },
   {
    "duration": 114,
    "start_time": "2023-08-04T08:52:59.295Z"
   },
   {
    "duration": 122,
    "start_time": "2023-08-04T08:53:02.463Z"
   },
   {
    "duration": 345,
    "start_time": "2023-08-04T08:53:42.352Z"
   },
   {
    "duration": 155,
    "start_time": "2023-08-04T08:54:19.578Z"
   },
   {
    "duration": 333,
    "start_time": "2023-08-04T08:55:00.451Z"
   },
   {
    "duration": 2729,
    "start_time": "2023-08-04T08:55:09.028Z"
   },
   {
    "duration": 2794,
    "start_time": "2023-08-04T08:55:18.569Z"
   },
   {
    "duration": 3132,
    "start_time": "2023-08-04T08:56:07.588Z"
   },
   {
    "duration": 3087,
    "start_time": "2023-08-04T08:56:20.209Z"
   },
   {
    "duration": 2895,
    "start_time": "2023-08-04T08:56:41.732Z"
   },
   {
    "duration": 2959,
    "start_time": "2023-08-04T08:56:57.991Z"
   },
   {
    "duration": 11887,
    "start_time": "2023-08-04T08:57:04.654Z"
   },
   {
    "duration": 361,
    "start_time": "2023-08-04T08:57:49.882Z"
   },
   {
    "duration": 11221,
    "start_time": "2023-08-04T08:57:53.104Z"
   },
   {
    "duration": 11227,
    "start_time": "2023-08-04T08:58:17.420Z"
   },
   {
    "duration": 112,
    "start_time": "2023-08-04T08:58:46.386Z"
   },
   {
    "duration": 11175,
    "start_time": "2023-08-04T08:58:51.142Z"
   },
   {
    "duration": 11100,
    "start_time": "2023-08-04T08:59:26.549Z"
   },
   {
    "duration": 1974,
    "start_time": "2023-08-04T08:59:59.918Z"
   },
   {
    "duration": 1693,
    "start_time": "2023-08-04T09:00:03.288Z"
   },
   {
    "duration": 360,
    "start_time": "2023-08-04T09:01:04.300Z"
   },
   {
    "duration": 12932,
    "start_time": "2023-08-04T09:01:15.191Z"
   },
   {
    "duration": 11922,
    "start_time": "2023-08-04T09:01:31.875Z"
   },
   {
    "duration": 12461,
    "start_time": "2023-08-04T09:01:56.582Z"
   },
   {
    "duration": 11858,
    "start_time": "2023-08-04T09:03:11.081Z"
   },
   {
    "duration": 12036,
    "start_time": "2023-08-04T09:03:30.378Z"
   },
   {
    "duration": 11449,
    "start_time": "2023-08-04T09:03:51.078Z"
   },
   {
    "duration": 11690,
    "start_time": "2023-08-04T09:04:08.440Z"
   },
   {
    "duration": 11036,
    "start_time": "2023-08-04T09:04:31.717Z"
   },
   {
    "duration": 1402,
    "start_time": "2023-08-04T09:05:54.781Z"
   },
   {
    "duration": 1442,
    "start_time": "2023-08-04T09:06:05.741Z"
   },
   {
    "duration": 1660,
    "start_time": "2023-08-04T09:06:16.522Z"
   },
   {
    "duration": 1648,
    "start_time": "2023-08-04T09:06:23.731Z"
   },
   {
    "duration": 1448,
    "start_time": "2023-08-04T09:06:33.330Z"
   },
   {
    "duration": 11748,
    "start_time": "2023-08-04T09:07:39.225Z"
   },
   {
    "duration": 11343,
    "start_time": "2023-08-04T09:07:57.382Z"
   },
   {
    "duration": 128,
    "start_time": "2023-08-04T09:15:44.443Z"
   },
   {
    "duration": 4,
    "start_time": "2023-08-04T09:16:25.536Z"
   },
   {
    "duration": 3,
    "start_time": "2023-08-04T09:16:29.787Z"
   },
   {
    "duration": 195,
    "start_time": "2023-08-04T09:18:47.268Z"
   },
   {
    "duration": 182,
    "start_time": "2023-08-04T09:20:20.451Z"
   },
   {
    "duration": 145,
    "start_time": "2023-08-04T09:20:29.050Z"
   },
   {
    "duration": 152,
    "start_time": "2023-08-04T09:20:51.487Z"
   },
   {
    "duration": 174,
    "start_time": "2023-08-04T09:20:57.946Z"
   },
   {
    "duration": 155,
    "start_time": "2023-08-04T09:21:15.483Z"
   },
   {
    "duration": 280,
    "start_time": "2023-08-04T09:22:31.879Z"
   },
   {
    "duration": 143,
    "start_time": "2023-08-04T09:22:38.335Z"
   },
   {
    "duration": 263,
    "start_time": "2023-08-04T09:22:39.276Z"
   },
   {
    "duration": 264,
    "start_time": "2023-08-04T09:22:45.212Z"
   },
   {
    "duration": 269,
    "start_time": "2023-08-04T09:23:22.088Z"
   },
   {
    "duration": 118,
    "start_time": "2023-08-04T09:23:43.867Z"
   },
   {
    "duration": 12,
    "start_time": "2023-08-04T09:24:13.983Z"
   },
   {
    "duration": 286,
    "start_time": "2023-08-04T09:24:25.826Z"
   },
   {
    "duration": 159,
    "start_time": "2023-08-04T09:24:31.900Z"
   },
   {
    "duration": 365,
    "start_time": "2023-08-04T09:24:32.604Z"
   },
   {
    "duration": 5,
    "start_time": "2023-08-04T09:24:33.282Z"
   },
   {
    "duration": 354,
    "start_time": "2023-08-04T09:25:48.198Z"
   },
   {
    "duration": 6,
    "start_time": "2023-08-04T09:25:50.482Z"
   },
   {
    "duration": 7,
    "start_time": "2023-08-04T09:27:45.445Z"
   },
   {
    "duration": 15,
    "start_time": "2023-08-04T09:29:14.585Z"
   },
   {
    "duration": 3,
    "start_time": "2023-08-04T09:29:51.678Z"
   },
   {
    "duration": 7,
    "start_time": "2023-08-04T09:29:57.830Z"
   },
   {
    "duration": 18,
    "start_time": "2023-08-04T09:30:12.532Z"
   },
   {
    "duration": 13,
    "start_time": "2023-08-04T09:30:15.119Z"
   },
   {
    "duration": 12,
    "start_time": "2023-08-04T09:30:17.296Z"
   },
   {
    "duration": 13,
    "start_time": "2023-08-04T09:30:27.280Z"
   },
   {
    "duration": 14,
    "start_time": "2023-08-04T09:30:55.793Z"
   },
   {
    "duration": 14,
    "start_time": "2023-08-04T09:31:00.594Z"
   },
   {
    "duration": 11,
    "start_time": "2023-08-04T09:31:03.632Z"
   },
   {
    "duration": 211,
    "start_time": "2023-08-04T09:31:10.630Z"
   },
   {
    "duration": 4,
    "start_time": "2023-08-04T09:31:22.392Z"
   },
   {
    "duration": 8,
    "start_time": "2023-08-04T09:31:26.740Z"
   },
   {
    "duration": 188,
    "start_time": "2023-08-04T09:31:31.391Z"
   },
   {
    "duration": 11,
    "start_time": "2023-08-04T09:32:25.442Z"
   },
   {
    "duration": 10,
    "start_time": "2023-08-04T09:32:53.886Z"
   },
   {
    "duration": 6,
    "start_time": "2023-08-04T09:33:33.894Z"
   },
   {
    "duration": 914,
    "start_time": "2023-08-04T09:33:33.903Z"
   },
   {
    "duration": 6,
    "start_time": "2023-08-04T09:33:34.819Z"
   },
   {
    "duration": 79,
    "start_time": "2023-08-04T09:33:34.827Z"
   },
   {
    "duration": 73,
    "start_time": "2023-08-04T09:33:34.908Z"
   },
   {
    "duration": 274,
    "start_time": "2023-08-04T09:33:34.983Z"
   },
   {
    "duration": 26,
    "start_time": "2023-08-04T09:33:35.259Z"
   },
   {
    "duration": 15,
    "start_time": "2023-08-04T09:33:35.287Z"
   },
   {
    "duration": 11,
    "start_time": "2023-08-04T09:33:35.304Z"
   },
   {
    "duration": 31,
    "start_time": "2023-08-04T09:33:35.317Z"
   },
   {
    "duration": 12,
    "start_time": "2023-08-04T09:33:35.351Z"
   },
   {
    "duration": 13,
    "start_time": "2023-08-04T09:33:35.368Z"
   },
   {
    "duration": 2,
    "start_time": "2023-08-04T09:33:35.383Z"
   },
   {
    "duration": 12,
    "start_time": "2023-08-04T09:33:35.388Z"
   },
   {
    "duration": 19,
    "start_time": "2023-08-04T09:33:35.402Z"
   },
   {
    "duration": 3,
    "start_time": "2023-08-04T09:33:35.424Z"
   },
   {
    "duration": 19,
    "start_time": "2023-08-04T09:33:35.429Z"
   },
   {
    "duration": 31,
    "start_time": "2023-08-04T09:33:35.451Z"
   },
   {
    "duration": 14,
    "start_time": "2023-08-04T09:33:35.484Z"
   },
   {
    "duration": 24,
    "start_time": "2023-08-04T09:33:35.500Z"
   },
   {
    "duration": 8,
    "start_time": "2023-08-04T09:33:35.526Z"
   },
   {
    "duration": 11,
    "start_time": "2023-08-04T09:33:35.537Z"
   },
   {
    "duration": 28,
    "start_time": "2023-08-04T09:33:35.550Z"
   },
   {
    "duration": 6,
    "start_time": "2023-08-04T09:33:35.581Z"
   },
   {
    "duration": 31,
    "start_time": "2023-08-04T09:33:35.588Z"
   },
   {
    "duration": 19,
    "start_time": "2023-08-04T09:33:35.621Z"
   },
   {
    "duration": 39,
    "start_time": "2023-08-04T09:33:35.643Z"
   },
   {
    "duration": 19,
    "start_time": "2023-08-04T09:33:35.686Z"
   },
   {
    "duration": 9,
    "start_time": "2023-08-04T09:33:35.707Z"
   },
   {
    "duration": 34,
    "start_time": "2023-08-04T09:33:35.719Z"
   },
   {
    "duration": 21,
    "start_time": "2023-08-04T09:33:35.755Z"
   },
   {
    "duration": 19,
    "start_time": "2023-08-04T09:33:35.779Z"
   },
   {
    "duration": 42,
    "start_time": "2023-08-04T09:33:35.800Z"
   },
   {
    "duration": 44,
    "start_time": "2023-08-04T09:33:35.844Z"
   },
   {
    "duration": 790,
    "start_time": "2023-08-04T09:33:35.891Z"
   },
   {
    "duration": 726,
    "start_time": "2023-08-04T09:33:36.684Z"
   },
   {
    "duration": 658,
    "start_time": "2023-08-04T09:33:37.413Z"
   },
   {
    "duration": 688,
    "start_time": "2023-08-04T09:33:38.074Z"
   },
   {
    "duration": 13,
    "start_time": "2023-08-04T09:33:38.764Z"
   },
   {
    "duration": 30,
    "start_time": "2023-08-04T09:33:38.780Z"
   },
   {
    "duration": 10,
    "start_time": "2023-08-04T09:33:38.819Z"
   },
   {
    "duration": 31,
    "start_time": "2023-08-04T09:33:38.832Z"
   },
   {
    "duration": 19,
    "start_time": "2023-08-04T09:33:38.866Z"
   },
   {
    "duration": 5,
    "start_time": "2023-08-04T09:33:38.888Z"
   },
   {
    "duration": 5,
    "start_time": "2023-08-04T09:33:38.896Z"
   },
   {
    "duration": 13,
    "start_time": "2023-08-04T09:33:38.903Z"
   },
   {
    "duration": 603,
    "start_time": "2023-08-04T09:33:38.918Z"
   },
   {
    "duration": 4,
    "start_time": "2023-08-04T09:33:39.523Z"
   },
   {
    "duration": 3782,
    "start_time": "2023-08-04T09:33:39.529Z"
   },
   {
    "duration": 1181,
    "start_time": "2023-08-04T09:33:43.313Z"
   },
   {
    "duration": 1478,
    "start_time": "2023-08-04T09:33:44.496Z"
   },
   {
    "duration": 2507,
    "start_time": "2023-08-04T09:33:45.977Z"
   },
   {
    "duration": 2172,
    "start_time": "2023-08-04T09:33:48.487Z"
   },
   {
    "duration": 4,
    "start_time": "2023-08-04T09:33:50.662Z"
   },
   {
    "duration": 1311,
    "start_time": "2023-08-04T09:33:50.676Z"
   },
   {
    "duration": 1132,
    "start_time": "2023-08-04T09:33:51.990Z"
   },
   {
    "duration": 1010,
    "start_time": "2023-08-04T09:33:53.124Z"
   },
   {
    "duration": 3,
    "start_time": "2023-08-04T09:33:54.137Z"
   },
   {
    "duration": 8,
    "start_time": "2023-08-04T09:33:54.143Z"
   },
   {
    "duration": 23,
    "start_time": "2023-08-04T09:33:54.153Z"
   },
   {
    "duration": 20,
    "start_time": "2023-08-04T09:33:54.178Z"
   },
   {
    "duration": 19,
    "start_time": "2023-08-04T09:33:54.200Z"
   },
   {
    "duration": 38,
    "start_time": "2023-08-04T09:33:54.221Z"
   },
   {
    "duration": 218,
    "start_time": "2023-08-04T09:33:54.262Z"
   },
   {
    "duration": 4,
    "start_time": "2023-08-04T09:33:54.482Z"
   },
   {
    "duration": 2796,
    "start_time": "2023-08-04T09:33:54.491Z"
   },
   {
    "duration": 2289,
    "start_time": "2023-08-04T09:33:57.296Z"
   },
   {
    "duration": 12459,
    "start_time": "2023-08-04T09:33:59.591Z"
   },
   {
    "duration": 12858,
    "start_time": "2023-08-04T09:34:12.056Z"
   },
   {
    "duration": 8,
    "start_time": "2023-08-04T09:34:24.916Z"
   },
   {
    "duration": 14,
    "start_time": "2023-08-04T09:34:24.926Z"
   },
   {
    "duration": 3,
    "start_time": "2023-08-04T09:34:24.943Z"
   },
   {
    "duration": 174,
    "start_time": "2023-08-04T09:34:24.947Z"
   },
   {
    "duration": 388,
    "start_time": "2023-08-04T09:34:25.123Z"
   },
   {
    "duration": 6,
    "start_time": "2023-08-04T09:35:08.394Z"
   },
   {
    "duration": 159,
    "start_time": "2023-08-04T09:36:48.703Z"
   },
   {
    "duration": 1651,
    "start_time": "2023-08-04T09:37:42.681Z"
   },
   {
    "duration": 782,
    "start_time": "2023-08-04T09:37:44.334Z"
   },
   {
    "duration": 9,
    "start_time": "2023-08-04T09:37:45.118Z"
   },
   {
    "duration": 107,
    "start_time": "2023-08-04T09:37:45.131Z"
   },
   {
    "duration": 72,
    "start_time": "2023-08-04T09:37:45.241Z"
   },
   {
    "duration": 252,
    "start_time": "2023-08-04T09:37:45.314Z"
   },
   {
    "duration": 27,
    "start_time": "2023-08-04T09:37:45.568Z"
   },
   {
    "duration": 19,
    "start_time": "2023-08-04T09:37:45.598Z"
   },
   {
    "duration": 13,
    "start_time": "2023-08-04T09:37:45.620Z"
   },
   {
    "duration": 38,
    "start_time": "2023-08-04T09:37:45.637Z"
   },
   {
    "duration": 8,
    "start_time": "2023-08-04T09:37:45.677Z"
   },
   {
    "duration": 20,
    "start_time": "2023-08-04T09:37:45.686Z"
   },
   {
    "duration": 4,
    "start_time": "2023-08-04T09:37:45.708Z"
   },
   {
    "duration": 38,
    "start_time": "2023-08-04T09:37:45.715Z"
   },
   {
    "duration": 14,
    "start_time": "2023-08-04T09:37:45.755Z"
   },
   {
    "duration": 3,
    "start_time": "2023-08-04T09:37:45.772Z"
   },
   {
    "duration": 15,
    "start_time": "2023-08-04T09:37:45.776Z"
   },
   {
    "duration": 19,
    "start_time": "2023-08-04T09:37:45.793Z"
   },
   {
    "duration": 11,
    "start_time": "2023-08-04T09:37:45.814Z"
   },
   {
    "duration": 21,
    "start_time": "2023-08-04T09:37:45.827Z"
   },
   {
    "duration": 27,
    "start_time": "2023-08-04T09:37:45.850Z"
   },
   {
    "duration": 27,
    "start_time": "2023-08-04T09:37:45.880Z"
   },
   {
    "duration": 25,
    "start_time": "2023-08-04T09:37:45.910Z"
   },
   {
    "duration": 18,
    "start_time": "2023-08-04T09:37:45.937Z"
   },
   {
    "duration": 22,
    "start_time": "2023-08-04T09:37:45.957Z"
   },
   {
    "duration": 11,
    "start_time": "2023-08-04T09:37:45.981Z"
   },
   {
    "duration": 21,
    "start_time": "2023-08-04T09:37:45.994Z"
   },
   {
    "duration": 11,
    "start_time": "2023-08-04T09:37:46.023Z"
   },
   {
    "duration": 24,
    "start_time": "2023-08-04T09:37:46.037Z"
   },
   {
    "duration": 14,
    "start_time": "2023-08-04T09:37:46.063Z"
   },
   {
    "duration": 7,
    "start_time": "2023-08-04T09:37:46.079Z"
   },
   {
    "duration": 12,
    "start_time": "2023-08-04T09:37:46.088Z"
   },
   {
    "duration": 32,
    "start_time": "2023-08-04T09:37:46.103Z"
   },
   {
    "duration": 52,
    "start_time": "2023-08-04T09:37:46.137Z"
   },
   {
    "duration": 639,
    "start_time": "2023-08-04T09:37:46.192Z"
   },
   {
    "duration": 520,
    "start_time": "2023-08-04T09:37:46.834Z"
   },
   {
    "duration": 444,
    "start_time": "2023-08-04T09:37:47.356Z"
   },
   {
    "duration": 399,
    "start_time": "2023-08-04T09:37:47.803Z"
   },
   {
    "duration": 4,
    "start_time": "2023-08-04T09:37:48.204Z"
   },
   {
    "duration": 33,
    "start_time": "2023-08-04T09:37:48.210Z"
   },
   {
    "duration": 18,
    "start_time": "2023-08-04T09:37:48.245Z"
   },
   {
    "duration": 9,
    "start_time": "2023-08-04T09:37:48.266Z"
   },
   {
    "duration": 25,
    "start_time": "2023-08-04T09:37:48.277Z"
   },
   {
    "duration": 25,
    "start_time": "2023-08-04T09:37:48.304Z"
   },
   {
    "duration": 11,
    "start_time": "2023-08-04T09:37:48.331Z"
   },
   {
    "duration": 7,
    "start_time": "2023-08-04T09:37:48.344Z"
   },
   {
    "duration": 448,
    "start_time": "2023-08-04T09:37:48.352Z"
   },
   {
    "duration": 3,
    "start_time": "2023-08-04T09:37:48.801Z"
   },
   {
    "duration": 3330,
    "start_time": "2023-08-04T09:37:48.806Z"
   },
   {
    "duration": 1032,
    "start_time": "2023-08-04T09:37:52.139Z"
   },
   {
    "duration": 1376,
    "start_time": "2023-08-04T09:37:53.174Z"
   },
   {
    "duration": 1181,
    "start_time": "2023-08-04T09:37:54.552Z"
   },
   {
    "duration": 1509,
    "start_time": "2023-08-04T09:37:55.735Z"
   },
   {
    "duration": 10,
    "start_time": "2023-08-04T09:37:57.246Z"
   },
   {
    "duration": 758,
    "start_time": "2023-08-04T09:37:57.257Z"
   },
   {
    "duration": 728,
    "start_time": "2023-08-04T09:37:58.017Z"
   },
   {
    "duration": 686,
    "start_time": "2023-08-04T09:37:58.747Z"
   },
   {
    "duration": 4,
    "start_time": "2023-08-04T09:37:59.435Z"
   },
   {
    "duration": 19,
    "start_time": "2023-08-04T09:37:59.441Z"
   },
   {
    "duration": 12,
    "start_time": "2023-08-04T09:37:59.462Z"
   },
   {
    "duration": 9,
    "start_time": "2023-08-04T09:37:59.476Z"
   },
   {
    "duration": 16,
    "start_time": "2023-08-04T09:37:59.487Z"
   },
   {
    "duration": 26,
    "start_time": "2023-08-04T09:37:59.505Z"
   },
   {
    "duration": 544,
    "start_time": "2023-08-04T09:37:59.533Z"
   },
   {
    "duration": 6,
    "start_time": "2023-08-04T09:38:00.088Z"
   },
   {
    "duration": 1681,
    "start_time": "2023-08-04T09:38:00.096Z"
   },
   {
    "duration": 1697,
    "start_time": "2023-08-04T09:38:01.780Z"
   },
   {
    "duration": 11765,
    "start_time": "2023-08-04T09:38:03.479Z"
   },
   {
    "duration": 11768,
    "start_time": "2023-08-04T09:38:15.246Z"
   },
   {
    "duration": 7,
    "start_time": "2023-08-04T09:38:27.016Z"
   },
   {
    "duration": 7,
    "start_time": "2023-08-04T09:38:27.025Z"
   },
   {
    "duration": 16,
    "start_time": "2023-08-04T09:38:27.034Z"
   },
   {
    "duration": 165,
    "start_time": "2023-08-04T09:38:27.052Z"
   },
   {
    "duration": 272,
    "start_time": "2023-08-04T09:38:27.219Z"
   },
   {
    "duration": 5,
    "start_time": "2023-08-04T09:38:27.492Z"
   },
   {
    "duration": 1750,
    "start_time": "2023-08-04T09:50:47.164Z"
   },
   {
    "duration": 867,
    "start_time": "2023-08-04T09:50:48.916Z"
   },
   {
    "duration": 10,
    "start_time": "2023-08-04T09:50:49.784Z"
   },
   {
    "duration": 96,
    "start_time": "2023-08-04T09:50:49.796Z"
   },
   {
    "duration": 51,
    "start_time": "2023-08-04T09:50:49.894Z"
   },
   {
    "duration": 322,
    "start_time": "2023-08-04T09:50:49.977Z"
   },
   {
    "duration": 28,
    "start_time": "2023-08-04T09:50:50.301Z"
   },
   {
    "duration": 45,
    "start_time": "2023-08-04T09:50:50.332Z"
   },
   {
    "duration": 6,
    "start_time": "2023-08-04T09:50:50.379Z"
   },
   {
    "duration": 23,
    "start_time": "2023-08-04T09:50:50.389Z"
   },
   {
    "duration": 4,
    "start_time": "2023-08-04T09:50:50.414Z"
   },
   {
    "duration": 20,
    "start_time": "2023-08-04T09:50:50.420Z"
   },
   {
    "duration": 32,
    "start_time": "2023-08-04T09:50:50.443Z"
   },
   {
    "duration": 22,
    "start_time": "2023-08-04T09:50:50.478Z"
   },
   {
    "duration": 14,
    "start_time": "2023-08-04T09:50:50.503Z"
   },
   {
    "duration": 13,
    "start_time": "2023-08-04T09:50:50.519Z"
   },
   {
    "duration": 16,
    "start_time": "2023-08-04T09:50:50.535Z"
   },
   {
    "duration": 32,
    "start_time": "2023-08-04T09:50:50.553Z"
   },
   {
    "duration": 6,
    "start_time": "2023-08-04T09:50:50.588Z"
   },
   {
    "duration": 28,
    "start_time": "2023-08-04T09:50:50.597Z"
   },
   {
    "duration": 8,
    "start_time": "2023-08-04T09:50:50.628Z"
   },
   {
    "duration": 37,
    "start_time": "2023-08-04T09:50:50.638Z"
   },
   {
    "duration": 9,
    "start_time": "2023-08-04T09:50:50.677Z"
   },
   {
    "duration": 19,
    "start_time": "2023-08-04T09:50:50.689Z"
   },
   {
    "duration": 28,
    "start_time": "2023-08-04T09:50:50.710Z"
   },
   {
    "duration": 26,
    "start_time": "2023-08-04T09:50:50.740Z"
   },
   {
    "duration": 10,
    "start_time": "2023-08-04T09:50:50.768Z"
   },
   {
    "duration": 13,
    "start_time": "2023-08-04T09:50:50.783Z"
   },
   {
    "duration": 6,
    "start_time": "2023-08-04T09:50:50.799Z"
   },
   {
    "duration": 25,
    "start_time": "2023-08-04T09:50:50.807Z"
   },
   {
    "duration": 23,
    "start_time": "2023-08-04T09:50:50.834Z"
   },
   {
    "duration": 15,
    "start_time": "2023-08-04T09:50:50.860Z"
   },
   {
    "duration": 42,
    "start_time": "2023-08-04T09:50:50.877Z"
   },
   {
    "duration": 60,
    "start_time": "2023-08-04T09:50:50.922Z"
   },
   {
    "duration": 702,
    "start_time": "2023-08-04T09:50:50.984Z"
   },
   {
    "duration": 527,
    "start_time": "2023-08-04T09:50:51.689Z"
   },
   {
    "duration": 476,
    "start_time": "2023-08-04T09:50:52.219Z"
   },
   {
    "duration": 388,
    "start_time": "2023-08-04T09:50:52.697Z"
   },
   {
    "duration": 3,
    "start_time": "2023-08-04T09:50:53.087Z"
   },
   {
    "duration": 34,
    "start_time": "2023-08-04T09:50:53.092Z"
   },
   {
    "duration": 5,
    "start_time": "2023-08-04T09:50:53.128Z"
   },
   {
    "duration": 8,
    "start_time": "2023-08-04T09:50:53.135Z"
   },
   {
    "duration": 8,
    "start_time": "2023-08-04T09:50:53.144Z"
   },
   {
    "duration": 4,
    "start_time": "2023-08-04T09:50:53.154Z"
   },
   {
    "duration": 13,
    "start_time": "2023-08-04T09:50:53.159Z"
   },
   {
    "duration": 6,
    "start_time": "2023-08-04T09:50:53.174Z"
   },
   {
    "duration": 424,
    "start_time": "2023-08-04T09:50:53.181Z"
   },
   {
    "duration": 4,
    "start_time": "2023-08-04T09:50:53.606Z"
   },
   {
    "duration": 3400,
    "start_time": "2023-08-04T09:50:53.612Z"
   },
   {
    "duration": 1051,
    "start_time": "2023-08-04T09:50:57.015Z"
   },
   {
    "duration": 1278,
    "start_time": "2023-08-04T09:50:58.068Z"
   },
   {
    "duration": 1430,
    "start_time": "2023-08-04T09:50:59.349Z"
   },
   {
    "duration": 1726,
    "start_time": "2023-08-04T09:51:00.781Z"
   },
   {
    "duration": 7,
    "start_time": "2023-08-04T09:51:02.509Z"
   },
   {
    "duration": 809,
    "start_time": "2023-08-04T09:51:02.518Z"
   },
   {
    "duration": 734,
    "start_time": "2023-08-04T09:51:03.330Z"
   },
   {
    "duration": 645,
    "start_time": "2023-08-04T09:51:04.066Z"
   },
   {
    "duration": 3,
    "start_time": "2023-08-04T09:51:04.712Z"
   },
   {
    "duration": 35,
    "start_time": "2023-08-04T09:51:04.717Z"
   },
   {
    "duration": 24,
    "start_time": "2023-08-04T09:51:04.753Z"
   },
   {
    "duration": 25,
    "start_time": "2023-08-04T09:51:04.780Z"
   },
   {
    "duration": 31,
    "start_time": "2023-08-04T09:51:04.807Z"
   },
   {
    "duration": 47,
    "start_time": "2023-08-04T09:51:04.842Z"
   },
   {
    "duration": 102,
    "start_time": "2023-08-04T09:51:04.891Z"
   },
   {
    "duration": 6,
    "start_time": "2023-08-04T09:51:05.081Z"
   },
   {
    "duration": 1889,
    "start_time": "2023-08-04T09:51:05.092Z"
   },
   {
    "duration": 1890,
    "start_time": "2023-08-04T09:51:06.987Z"
   },
   {
    "duration": 12812,
    "start_time": "2023-08-04T09:51:08.879Z"
   },
   {
    "duration": 12943,
    "start_time": "2023-08-04T09:51:21.694Z"
   },
   {
    "duration": 8,
    "start_time": "2023-08-04T09:51:34.639Z"
   },
   {
    "duration": 15,
    "start_time": "2023-08-04T09:51:34.649Z"
   },
   {
    "duration": 4,
    "start_time": "2023-08-04T09:51:34.676Z"
   },
   {
    "duration": 215,
    "start_time": "2023-08-04T09:51:34.683Z"
   },
   {
    "duration": 291,
    "start_time": "2023-08-04T09:51:34.900Z"
   },
   {
    "duration": 5,
    "start_time": "2023-08-04T09:51:35.193Z"
   },
   {
    "duration": 2091,
    "start_time": "2023-08-07T18:56:57.128Z"
   },
   {
    "duration": 4560,
    "start_time": "2023-08-07T18:56:59.222Z"
   },
   {
    "duration": 20,
    "start_time": "2023-08-07T18:57:03.786Z"
   },
   {
    "duration": 76,
    "start_time": "2023-08-07T18:57:03.810Z"
   },
   {
    "duration": 75,
    "start_time": "2023-08-07T18:57:03.892Z"
   },
   {
    "duration": 294,
    "start_time": "2023-08-07T18:57:03.973Z"
   },
   {
    "duration": 33,
    "start_time": "2023-08-07T18:57:04.272Z"
   },
   {
    "duration": 19,
    "start_time": "2023-08-07T18:57:04.309Z"
   },
   {
    "duration": 9,
    "start_time": "2023-08-07T18:57:04.329Z"
   },
   {
    "duration": 32,
    "start_time": "2023-08-07T18:57:04.340Z"
   },
   {
    "duration": 13,
    "start_time": "2023-08-07T18:57:04.378Z"
   },
   {
    "duration": 16,
    "start_time": "2023-08-07T18:57:04.393Z"
   },
   {
    "duration": 3,
    "start_time": "2023-08-07T18:57:04.411Z"
   },
   {
    "duration": 29,
    "start_time": "2023-08-07T18:57:04.417Z"
   },
   {
    "duration": 23,
    "start_time": "2023-08-07T18:57:04.448Z"
   },
   {
    "duration": 5,
    "start_time": "2023-08-07T18:57:04.477Z"
   },
   {
    "duration": 21,
    "start_time": "2023-08-07T18:57:04.485Z"
   },
   {
    "duration": 11,
    "start_time": "2023-08-07T18:57:04.508Z"
   },
   {
    "duration": 6,
    "start_time": "2023-08-07T18:57:04.521Z"
   },
   {
    "duration": 16,
    "start_time": "2023-08-07T18:57:04.529Z"
   },
   {
    "duration": 7,
    "start_time": "2023-08-07T18:57:04.546Z"
   },
   {
    "duration": 15,
    "start_time": "2023-08-07T18:57:04.561Z"
   },
   {
    "duration": 18,
    "start_time": "2023-08-07T18:57:04.578Z"
   },
   {
    "duration": 17,
    "start_time": "2023-08-07T18:57:04.599Z"
   },
   {
    "duration": 25,
    "start_time": "2023-08-07T18:57:04.618Z"
   },
   {
    "duration": 9,
    "start_time": "2023-08-07T18:57:04.646Z"
   },
   {
    "duration": 13,
    "start_time": "2023-08-07T18:57:04.658Z"
   },
   {
    "duration": 17,
    "start_time": "2023-08-07T18:57:04.679Z"
   },
   {
    "duration": 4,
    "start_time": "2023-08-07T18:57:04.703Z"
   },
   {
    "duration": 14,
    "start_time": "2023-08-07T18:57:04.710Z"
   },
   {
    "duration": 5,
    "start_time": "2023-08-07T18:57:04.726Z"
   },
   {
    "duration": 14,
    "start_time": "2023-08-07T18:57:04.732Z"
   },
   {
    "duration": 51,
    "start_time": "2023-08-07T18:57:04.749Z"
   },
   {
    "duration": 22,
    "start_time": "2023-08-07T18:57:04.802Z"
   },
   {
    "duration": 716,
    "start_time": "2023-08-07T18:57:04.826Z"
   },
   {
    "duration": 563,
    "start_time": "2023-08-07T18:57:05.545Z"
   },
   {
    "duration": 499,
    "start_time": "2023-08-07T18:57:06.110Z"
   },
   {
    "duration": 478,
    "start_time": "2023-08-07T18:57:06.610Z"
   },
   {
    "duration": 11,
    "start_time": "2023-08-07T18:57:07.099Z"
   },
   {
    "duration": 12,
    "start_time": "2023-08-07T18:57:07.113Z"
   },
   {
    "duration": 165,
    "start_time": "2023-08-07T18:58:55.030Z"
   },
   {
    "duration": 1131,
    "start_time": "2023-08-07T18:59:20.683Z"
   },
   {
    "duration": 132,
    "start_time": "2023-08-07T19:03:05.743Z"
   },
   {
    "duration": 149,
    "start_time": "2023-08-07T19:03:53.985Z"
   },
   {
    "duration": 43,
    "start_time": "2023-08-07T19:04:24.681Z"
   },
   {
    "duration": 55,
    "start_time": "2023-08-07T19:04:53.118Z"
   },
   {
    "duration": 26,
    "start_time": "2023-08-07T19:05:23.484Z"
   },
   {
    "duration": 20,
    "start_time": "2023-08-07T19:05:49.301Z"
   },
   {
    "duration": 32,
    "start_time": "2023-08-07T19:06:01.305Z"
   },
   {
    "duration": 26,
    "start_time": "2023-08-07T19:06:34.689Z"
   },
   {
    "duration": 47,
    "start_time": "2023-08-07T19:07:03.377Z"
   },
   {
    "duration": 11,
    "start_time": "2023-08-07T19:07:38.198Z"
   },
   {
    "duration": 478,
    "start_time": "2023-08-07T19:07:45.606Z"
   },
   {
    "duration": 140,
    "start_time": "2023-08-07T19:09:08.205Z"
   },
   {
    "duration": 15,
    "start_time": "2023-08-07T19:10:02.315Z"
   },
   {
    "duration": 17,
    "start_time": "2023-08-07T19:10:42.071Z"
   },
   {
    "duration": 364,
    "start_time": "2023-08-07T19:11:19.824Z"
   },
   {
    "duration": 22,
    "start_time": "2023-08-07T19:12:11.577Z"
   },
   {
    "duration": 11,
    "start_time": "2023-08-07T19:12:44.310Z"
   },
   {
    "duration": 18,
    "start_time": "2023-08-07T19:13:28.987Z"
   },
   {
    "duration": 543,
    "start_time": "2023-08-07T19:13:45.902Z"
   },
   {
    "duration": 9,
    "start_time": "2023-08-07T19:14:22.927Z"
   },
   {
    "duration": 16,
    "start_time": "2023-08-07T19:15:24.699Z"
   },
   {
    "duration": 9,
    "start_time": "2023-08-07T19:15:43.634Z"
   },
   {
    "duration": 24,
    "start_time": "2023-08-07T19:17:06.977Z"
   },
   {
    "duration": 207,
    "start_time": "2023-08-07T19:17:43.976Z"
   },
   {
    "duration": 241,
    "start_time": "2023-08-07T19:18:06.560Z"
   },
   {
    "duration": 663,
    "start_time": "2023-08-07T19:19:02.021Z"
   },
   {
    "duration": 5,
    "start_time": "2023-08-07T19:19:46.973Z"
   },
   {
    "duration": 5,
    "start_time": "2023-08-07T19:20:07.265Z"
   },
   {
    "duration": 1254,
    "start_time": "2023-08-07T19:20:07.276Z"
   },
   {
    "duration": 51,
    "start_time": "2023-08-07T19:20:08.535Z"
   },
   {
    "duration": 273,
    "start_time": "2023-08-07T19:20:08.588Z"
   },
   {
    "duration": 150,
    "start_time": "2023-08-07T19:20:08.870Z"
   },
   {
    "duration": 331,
    "start_time": "2023-08-07T19:20:09.022Z"
   },
   {
    "duration": 40,
    "start_time": "2023-08-07T19:20:09.358Z"
   },
   {
    "duration": 33,
    "start_time": "2023-08-07T19:20:09.403Z"
   },
   {
    "duration": 21,
    "start_time": "2023-08-07T19:20:09.442Z"
   },
   {
    "duration": 42,
    "start_time": "2023-08-07T19:20:09.468Z"
   },
   {
    "duration": 17,
    "start_time": "2023-08-07T19:20:09.518Z"
   },
   {
    "duration": 37,
    "start_time": "2023-08-07T19:20:09.542Z"
   },
   {
    "duration": 8,
    "start_time": "2023-08-07T19:20:09.591Z"
   },
   {
    "duration": 47,
    "start_time": "2023-08-07T19:20:09.618Z"
   },
   {
    "duration": 27,
    "start_time": "2023-08-07T19:20:09.667Z"
   },
   {
    "duration": 4,
    "start_time": "2023-08-07T19:20:09.698Z"
   },
   {
    "duration": 23,
    "start_time": "2023-08-07T19:20:09.704Z"
   },
   {
    "duration": 14,
    "start_time": "2023-08-07T19:20:09.728Z"
   },
   {
    "duration": 13,
    "start_time": "2023-08-07T19:20:09.744Z"
   },
   {
    "duration": 36,
    "start_time": "2023-08-07T19:20:09.759Z"
   },
   {
    "duration": 26,
    "start_time": "2023-08-07T19:20:09.797Z"
   },
   {
    "duration": 5,
    "start_time": "2023-08-07T19:20:09.825Z"
   },
   {
    "duration": 21,
    "start_time": "2023-08-07T19:20:09.833Z"
   },
   {
    "duration": 29,
    "start_time": "2023-08-07T19:20:09.856Z"
   },
   {
    "duration": 17,
    "start_time": "2023-08-07T19:20:09.890Z"
   },
   {
    "duration": 12,
    "start_time": "2023-08-07T19:20:09.911Z"
   },
   {
    "duration": 11,
    "start_time": "2023-08-07T19:20:09.929Z"
   },
   {
    "duration": 36,
    "start_time": "2023-08-07T19:20:09.945Z"
   },
   {
    "duration": 6,
    "start_time": "2023-08-07T19:20:09.986Z"
   },
   {
    "duration": 23,
    "start_time": "2023-08-07T19:20:09.994Z"
   },
   {
    "duration": 13,
    "start_time": "2023-08-07T19:20:10.022Z"
   },
   {
    "duration": 11,
    "start_time": "2023-08-07T19:20:10.041Z"
   },
   {
    "duration": 64,
    "start_time": "2023-08-07T19:20:10.058Z"
   },
   {
    "duration": 35,
    "start_time": "2023-08-07T19:20:10.127Z"
   },
   {
    "duration": 716,
    "start_time": "2023-08-07T19:20:10.167Z"
   },
   {
    "duration": 657,
    "start_time": "2023-08-07T19:20:10.894Z"
   },
   {
    "duration": 605,
    "start_time": "2023-08-07T19:20:11.559Z"
   },
   {
    "duration": 502,
    "start_time": "2023-08-07T19:20:12.170Z"
   },
   {
    "duration": 7,
    "start_time": "2023-08-07T19:20:12.678Z"
   },
   {
    "duration": 17,
    "start_time": "2023-08-07T19:20:12.690Z"
   },
   {
    "duration": 17,
    "start_time": "2023-08-07T19:20:12.714Z"
   },
   {
    "duration": 23,
    "start_time": "2023-08-07T19:20:12.736Z"
   },
   {
    "duration": 16,
    "start_time": "2023-08-07T19:20:12.765Z"
   },
   {
    "duration": 15,
    "start_time": "2023-08-07T19:20:12.786Z"
   },
   {
    "duration": 19,
    "start_time": "2023-08-07T19:20:12.806Z"
   },
   {
    "duration": 14,
    "start_time": "2023-08-07T19:20:12.833Z"
   },
   {
    "duration": 16,
    "start_time": "2023-08-07T19:20:12.854Z"
   },
   {
    "duration": 18,
    "start_time": "2023-08-07T19:20:12.876Z"
   },
   {
    "duration": 17,
    "start_time": "2023-08-07T19:20:12.897Z"
   },
   {
    "duration": 13,
    "start_time": "2023-08-07T19:20:12.919Z"
   },
   {
    "duration": 6,
    "start_time": "2023-08-07T19:20:12.938Z"
   },
   {
    "duration": 612,
    "start_time": "2023-08-07T19:20:12.949Z"
   },
   {
    "duration": 4418,
    "start_time": "2023-08-07T19:20:13.564Z"
   },
   {
    "duration": 1588,
    "start_time": "2023-08-07T19:20:17.983Z"
   },
   {
    "duration": 1681,
    "start_time": "2023-08-07T19:20:19.589Z"
   },
   {
    "duration": 1526,
    "start_time": "2023-08-07T19:20:21.280Z"
   },
   {
    "duration": 2239,
    "start_time": "2023-08-07T19:20:22.813Z"
   },
   {
    "duration": 9,
    "start_time": "2023-08-07T19:20:25.056Z"
   },
   {
    "duration": 42,
    "start_time": "2023-08-07T19:20:25.067Z"
   },
   {
    "duration": 10,
    "start_time": "2023-08-07T19:20:25.114Z"
   },
   {
    "duration": 28,
    "start_time": "2023-08-07T19:21:48.923Z"
   },
   {
    "duration": 1134,
    "start_time": "2023-08-07T19:21:56.196Z"
   },
   {
    "duration": 1402,
    "start_time": "2023-08-07T19:22:01.712Z"
   },
   {
    "duration": 1430,
    "start_time": "2023-08-07T19:22:07.884Z"
   },
   {
    "duration": 1838,
    "start_time": "2023-08-07T19:22:19.421Z"
   },
   {
    "duration": 5,
    "start_time": "2023-08-07T19:22:44.418Z"
   },
   {
    "duration": 1104,
    "start_time": "2023-08-07T19:22:44.425Z"
   },
   {
    "duration": 10,
    "start_time": "2023-08-07T19:22:45.538Z"
   },
   {
    "duration": 71,
    "start_time": "2023-08-07T19:22:45.550Z"
   },
   {
    "duration": 89,
    "start_time": "2023-08-07T19:22:45.624Z"
   },
   {
    "duration": 330,
    "start_time": "2023-08-07T19:22:45.720Z"
   },
   {
    "duration": 39,
    "start_time": "2023-08-07T19:22:46.052Z"
   },
   {
    "duration": 49,
    "start_time": "2023-08-07T19:22:46.093Z"
   },
   {
    "duration": 14,
    "start_time": "2023-08-07T19:22:46.145Z"
   },
   {
    "duration": 27,
    "start_time": "2023-08-07T19:22:46.168Z"
   },
   {
    "duration": 21,
    "start_time": "2023-08-07T19:22:46.202Z"
   },
   {
    "duration": 20,
    "start_time": "2023-08-07T19:22:46.225Z"
   },
   {
    "duration": 4,
    "start_time": "2023-08-07T19:22:46.249Z"
   },
   {
    "duration": 35,
    "start_time": "2023-08-07T19:22:46.254Z"
   },
   {
    "duration": 17,
    "start_time": "2023-08-07T19:22:46.295Z"
   },
   {
    "duration": 8,
    "start_time": "2023-08-07T19:22:46.319Z"
   },
   {
    "duration": 21,
    "start_time": "2023-08-07T19:22:46.351Z"
   },
   {
    "duration": 23,
    "start_time": "2023-08-07T19:22:46.383Z"
   },
   {
    "duration": 9,
    "start_time": "2023-08-07T19:22:46.412Z"
   },
   {
    "duration": 31,
    "start_time": "2023-08-07T19:22:46.426Z"
   },
   {
    "duration": 6,
    "start_time": "2023-08-07T19:22:46.463Z"
   },
   {
    "duration": 9,
    "start_time": "2023-08-07T19:22:46.476Z"
   },
   {
    "duration": 10,
    "start_time": "2023-08-07T19:22:46.494Z"
   },
   {
    "duration": 9,
    "start_time": "2023-08-07T19:22:46.511Z"
   },
   {
    "duration": 12,
    "start_time": "2023-08-07T19:22:46.525Z"
   },
   {
    "duration": 12,
    "start_time": "2023-08-07T19:22:46.543Z"
   },
   {
    "duration": 8,
    "start_time": "2023-08-07T19:22:46.560Z"
   },
   {
    "duration": 9,
    "start_time": "2023-08-07T19:22:46.570Z"
   },
   {
    "duration": 19,
    "start_time": "2023-08-07T19:22:46.585Z"
   },
   {
    "duration": 21,
    "start_time": "2023-08-07T19:22:46.606Z"
   },
   {
    "duration": 7,
    "start_time": "2023-08-07T19:22:46.631Z"
   },
   {
    "duration": 14,
    "start_time": "2023-08-07T19:22:46.640Z"
   },
   {
    "duration": 44,
    "start_time": "2023-08-07T19:22:46.659Z"
   },
   {
    "duration": 28,
    "start_time": "2023-08-07T19:22:46.707Z"
   },
   {
    "duration": 741,
    "start_time": "2023-08-07T19:22:46.738Z"
   },
   {
    "duration": 643,
    "start_time": "2023-08-07T19:22:47.481Z"
   },
   {
    "duration": 651,
    "start_time": "2023-08-07T19:22:48.126Z"
   },
   {
    "duration": 928,
    "start_time": "2023-08-07T19:22:48.784Z"
   },
   {
    "duration": 4,
    "start_time": "2023-08-07T19:22:49.714Z"
   },
   {
    "duration": 28,
    "start_time": "2023-08-07T19:22:49.720Z"
   },
   {
    "duration": 27,
    "start_time": "2023-08-07T19:22:49.752Z"
   },
   {
    "duration": 16,
    "start_time": "2023-08-07T19:22:49.785Z"
   },
   {
    "duration": 19,
    "start_time": "2023-08-07T19:22:49.807Z"
   },
   {
    "duration": 14,
    "start_time": "2023-08-07T19:22:49.833Z"
   },
   {
    "duration": 17,
    "start_time": "2023-08-07T19:22:49.857Z"
   },
   {
    "duration": 23,
    "start_time": "2023-08-07T19:22:49.880Z"
   },
   {
    "duration": 16,
    "start_time": "2023-08-07T19:22:49.910Z"
   },
   {
    "duration": 18,
    "start_time": "2023-08-07T19:22:49.934Z"
   },
   {
    "duration": 18,
    "start_time": "2023-08-07T19:22:49.960Z"
   },
   {
    "duration": 25,
    "start_time": "2023-08-07T19:22:49.985Z"
   },
   {
    "duration": 30,
    "start_time": "2023-08-07T19:22:50.025Z"
   },
   {
    "duration": 26,
    "start_time": "2023-08-07T19:22:50.057Z"
   },
   {
    "duration": 596,
    "start_time": "2023-08-07T19:22:50.086Z"
   },
   {
    "duration": 3942,
    "start_time": "2023-08-07T19:22:50.685Z"
   },
   {
    "duration": 1332,
    "start_time": "2023-08-07T19:22:54.629Z"
   },
   {
    "duration": 1529,
    "start_time": "2023-08-07T19:22:55.963Z"
   },
   {
    "duration": 1587,
    "start_time": "2023-08-07T19:22:57.494Z"
   },
   {
    "duration": 1584,
    "start_time": "2023-08-07T19:22:59.083Z"
   },
   {
    "duration": 10,
    "start_time": "2023-08-07T19:23:00.673Z"
   },
   {
    "duration": 88,
    "start_time": "2023-08-07T19:23:00.689Z"
   },
   {
    "duration": 8,
    "start_time": "2023-08-07T19:23:00.780Z"
   },
   {
    "duration": 11,
    "start_time": "2023-08-07T19:23:00.792Z"
   },
   {
    "duration": 23,
    "start_time": "2023-08-07T19:23:00.808Z"
   },
   {
    "duration": 7,
    "start_time": "2023-08-07T19:25:00.612Z"
   },
   {
    "duration": 17,
    "start_time": "2023-08-07T19:25:01.485Z"
   },
   {
    "duration": 29,
    "start_time": "2023-08-07T19:25:13.038Z"
   },
   {
    "duration": 6172,
    "start_time": "2023-08-07T19:25:19.831Z"
   },
   {
    "duration": 5216,
    "start_time": "2023-08-07T19:25:31.328Z"
   },
   {
    "duration": 14146,
    "start_time": "2023-08-07T19:25:49.438Z"
   },
   {
    "duration": 14724,
    "start_time": "2023-08-07T19:26:07.617Z"
   },
   {
    "duration": 19,
    "start_time": "2023-08-07T19:27:00.087Z"
   },
   {
    "duration": 8,
    "start_time": "2023-08-07T19:27:02.138Z"
   },
   {
    "duration": 17,
    "start_time": "2023-08-07T19:28:30.591Z"
   },
   {
    "duration": 3,
    "start_time": "2023-08-07T19:31:06.590Z"
   },
   {
    "duration": 231,
    "start_time": "2023-08-07T19:31:07.565Z"
   },
   {
    "duration": 299,
    "start_time": "2023-08-07T19:31:08.770Z"
   },
   {
    "duration": 11,
    "start_time": "2023-08-07T19:31:25.987Z"
   },
   {
    "duration": 170,
    "start_time": "2023-08-07T19:32:38.301Z"
   },
   {
    "duration": 14,
    "start_time": "2023-08-07T19:33:12.479Z"
   },
   {
    "duration": 9,
    "start_time": "2023-08-07T19:33:12.887Z"
   },
   {
    "duration": 7,
    "start_time": "2023-08-07T19:33:52.140Z"
   },
   {
    "duration": 11,
    "start_time": "2023-08-07T19:33:55.104Z"
   },
   {
    "duration": 10,
    "start_time": "2023-08-07T19:37:41.454Z"
   },
   {
    "duration": 4479,
    "start_time": "2023-08-07T19:39:28.430Z"
   },
   {
    "duration": 3627,
    "start_time": "2023-08-07T19:39:54.212Z"
   },
   {
    "duration": 20,
    "start_time": "2023-08-07T19:41:28.526Z"
   },
   {
    "duration": 2475,
    "start_time": "2023-08-07T19:41:45.500Z"
   },
   {
    "duration": 3840,
    "start_time": "2023-08-07T19:41:47.981Z"
   },
   {
    "duration": 72,
    "start_time": "2023-08-07T19:41:51.833Z"
   },
   {
    "duration": 26,
    "start_time": "2023-08-07T19:42:20.045Z"
   },
   {
    "duration": 10,
    "start_time": "2023-08-07T19:42:31.473Z"
   },
   {
    "duration": 7,
    "start_time": "2023-08-07T19:42:49.140Z"
   },
   {
    "duration": 18,
    "start_time": "2023-08-07T19:42:59.199Z"
   },
   {
    "duration": 16,
    "start_time": "2023-08-07T19:43:24.782Z"
   },
   {
    "duration": 14444,
    "start_time": "2023-08-07T19:44:56.841Z"
   },
   {
    "duration": 12590,
    "start_time": "2023-08-07T19:46:04.882Z"
   },
   {
    "duration": 14334,
    "start_time": "2023-08-07T19:47:57.939Z"
   },
   {
    "duration": 14210,
    "start_time": "2023-08-07T19:48:26.755Z"
   },
   {
    "duration": 19,
    "start_time": "2023-08-07T19:49:08.181Z"
   },
   {
    "duration": 249,
    "start_time": "2023-08-07T19:51:35.859Z"
   },
   {
    "duration": 281,
    "start_time": "2023-08-07T19:51:37.885Z"
   },
   {
    "duration": 9,
    "start_time": "2023-08-07T19:51:41.210Z"
   },
   {
    "duration": 187,
    "start_time": "2023-08-07T19:52:20.144Z"
   },
   {
    "duration": 7,
    "start_time": "2023-08-07T19:52:20.933Z"
   },
   {
    "duration": 9,
    "start_time": "2023-08-07T19:52:26.024Z"
   },
   {
    "duration": 10,
    "start_time": "2023-08-07T19:53:51.033Z"
   },
   {
    "duration": 1529,
    "start_time": "2023-08-07T19:53:51.052Z"
   },
   {
    "duration": 8,
    "start_time": "2023-08-07T19:53:52.583Z"
   },
   {
    "duration": 110,
    "start_time": "2023-08-07T19:53:52.593Z"
   },
   {
    "duration": 149,
    "start_time": "2023-08-07T19:53:52.713Z"
   },
   {
    "duration": 510,
    "start_time": "2023-08-07T19:53:52.864Z"
   },
   {
    "duration": 41,
    "start_time": "2023-08-07T19:53:53.376Z"
   },
   {
    "duration": 23,
    "start_time": "2023-08-07T19:53:53.423Z"
   },
   {
    "duration": 9,
    "start_time": "2023-08-07T19:53:53.456Z"
   },
   {
    "duration": 25,
    "start_time": "2023-08-07T19:53:53.475Z"
   },
   {
    "duration": 4,
    "start_time": "2023-08-07T19:53:53.506Z"
   },
   {
    "duration": 16,
    "start_time": "2023-08-07T19:53:53.518Z"
   },
   {
    "duration": 4,
    "start_time": "2023-08-07T19:53:53.541Z"
   },
   {
    "duration": 39,
    "start_time": "2023-08-07T19:53:53.550Z"
   },
   {
    "duration": 26,
    "start_time": "2023-08-07T19:53:53.598Z"
   },
   {
    "duration": 7,
    "start_time": "2023-08-07T19:53:53.636Z"
   },
   {
    "duration": 26,
    "start_time": "2023-08-07T19:53:53.649Z"
   },
   {
    "duration": 25,
    "start_time": "2023-08-07T19:53:53.686Z"
   },
   {
    "duration": 20,
    "start_time": "2023-08-07T19:53:53.736Z"
   },
   {
    "duration": 41,
    "start_time": "2023-08-07T19:53:53.766Z"
   },
   {
    "duration": 10,
    "start_time": "2023-08-07T19:53:53.817Z"
   },
   {
    "duration": 16,
    "start_time": "2023-08-07T19:53:53.839Z"
   },
   {
    "duration": 13,
    "start_time": "2023-08-07T19:53:53.862Z"
   },
   {
    "duration": 33,
    "start_time": "2023-08-07T19:53:53.882Z"
   },
   {
    "duration": 25,
    "start_time": "2023-08-07T19:53:53.922Z"
   },
   {
    "duration": 22,
    "start_time": "2023-08-07T19:53:53.963Z"
   },
   {
    "duration": 16,
    "start_time": "2023-08-07T19:53:53.996Z"
   },
   {
    "duration": 19,
    "start_time": "2023-08-07T19:53:54.024Z"
   },
   {
    "duration": 17,
    "start_time": "2023-08-07T19:53:54.050Z"
   },
   {
    "duration": 29,
    "start_time": "2023-08-07T19:53:54.074Z"
   },
   {
    "duration": 22,
    "start_time": "2023-08-07T19:53:54.111Z"
   },
   {
    "duration": 23,
    "start_time": "2023-08-07T19:53:54.145Z"
   },
   {
    "duration": 85,
    "start_time": "2023-08-07T19:53:54.175Z"
   },
   {
    "duration": 59,
    "start_time": "2023-08-07T19:53:54.266Z"
   },
   {
    "duration": 813,
    "start_time": "2023-08-07T19:53:54.330Z"
   },
   {
    "duration": 770,
    "start_time": "2023-08-07T19:53:55.145Z"
   },
   {
    "duration": 749,
    "start_time": "2023-08-07T19:53:55.922Z"
   },
   {
    "duration": 745,
    "start_time": "2023-08-07T19:53:56.678Z"
   },
   {
    "duration": 8,
    "start_time": "2023-08-07T19:53:57.430Z"
   },
   {
    "duration": 22,
    "start_time": "2023-08-07T19:53:57.444Z"
   },
   {
    "duration": 351,
    "start_time": "2023-08-07T19:53:57.476Z"
   },
   {
    "duration": 15,
    "start_time": "2023-08-07T19:53:57.837Z"
   },
   {
    "duration": 27,
    "start_time": "2023-08-07T19:53:57.859Z"
   },
   {
    "duration": 18,
    "start_time": "2023-08-07T19:53:57.893Z"
   },
   {
    "duration": 30,
    "start_time": "2023-08-07T19:53:57.919Z"
   },
   {
    "duration": 31,
    "start_time": "2023-08-07T19:53:57.955Z"
   },
   {
    "duration": 29,
    "start_time": "2023-08-07T19:53:57.988Z"
   },
   {
    "duration": 37,
    "start_time": "2023-08-07T19:53:58.019Z"
   },
   {
    "duration": 34,
    "start_time": "2023-08-07T19:53:58.070Z"
   },
   {
    "duration": 34,
    "start_time": "2023-08-07T19:53:58.118Z"
   },
   {
    "duration": 11,
    "start_time": "2023-08-07T19:53:58.160Z"
   },
   {
    "duration": 16,
    "start_time": "2023-08-07T19:53:58.181Z"
   },
   {
    "duration": 608,
    "start_time": "2023-08-07T19:53:58.204Z"
   },
   {
    "duration": 5108,
    "start_time": "2023-08-07T19:53:58.819Z"
   },
   {
    "duration": 1781,
    "start_time": "2023-08-07T19:54:03.929Z"
   },
   {
    "duration": 1477,
    "start_time": "2023-08-07T19:54:05.712Z"
   },
   {
    "duration": 1618,
    "start_time": "2023-08-07T19:54:07.195Z"
   },
   {
    "duration": 1598,
    "start_time": "2023-08-07T19:54:08.818Z"
   },
   {
    "duration": 7,
    "start_time": "2023-08-07T19:54:10.422Z"
   },
   {
    "duration": 32,
    "start_time": "2023-08-07T19:54:10.434Z"
   },
   {
    "duration": 30,
    "start_time": "2023-08-07T19:54:10.472Z"
   },
   {
    "duration": 16,
    "start_time": "2023-08-07T19:54:10.509Z"
   },
   {
    "duration": 7,
    "start_time": "2023-08-07T19:54:10.531Z"
   },
   {
    "duration": 6,
    "start_time": "2023-08-07T19:54:10.546Z"
   },
   {
    "duration": 8,
    "start_time": "2023-08-07T19:54:10.562Z"
   },
   {
    "duration": 20,
    "start_time": "2023-08-07T19:54:10.581Z"
   },
   {
    "duration": 57,
    "start_time": "2023-08-07T19:54:10.610Z"
   },
   {
    "duration": 2609,
    "start_time": "2023-08-07T19:54:10.678Z"
   },
   {
    "duration": 2999,
    "start_time": "2023-08-07T19:54:13.324Z"
   },
   {
    "duration": 27,
    "start_time": "2023-08-07T19:54:16.336Z"
   },
   {
    "duration": 16192,
    "start_time": "2023-08-07T19:54:16.372Z"
   },
   {
    "duration": 15631,
    "start_time": "2023-08-07T19:54:32.575Z"
   },
   {
    "duration": 18,
    "start_time": "2023-08-07T19:54:48.212Z"
   },
   {
    "duration": 14,
    "start_time": "2023-08-07T19:54:48.233Z"
   },
   {
    "duration": 21,
    "start_time": "2023-08-07T19:54:48.250Z"
   },
   {
    "duration": 13,
    "start_time": "2023-08-07T19:54:48.274Z"
   },
   {
    "duration": 289,
    "start_time": "2023-08-07T19:54:48.289Z"
   },
   {
    "duration": 308,
    "start_time": "2023-08-07T19:54:48.597Z"
   },
   {
    "duration": 17,
    "start_time": "2023-08-07T19:54:48.912Z"
   },
   {
    "duration": 1971,
    "start_time": "2023-08-08T16:11:23.767Z"
   },
   {
    "duration": 2479,
    "start_time": "2023-08-08T16:11:25.741Z"
   },
   {
    "duration": 10,
    "start_time": "2023-08-08T16:11:28.223Z"
   },
   {
    "duration": 70,
    "start_time": "2023-08-08T16:11:28.235Z"
   },
   {
    "duration": 66,
    "start_time": "2023-08-08T16:11:28.307Z"
   },
   {
    "duration": 249,
    "start_time": "2023-08-08T16:11:28.376Z"
   },
   {
    "duration": 45,
    "start_time": "2023-08-08T16:11:28.626Z"
   },
   {
    "duration": 20,
    "start_time": "2023-08-08T16:11:28.673Z"
   },
   {
    "duration": 4,
    "start_time": "2023-08-08T16:11:28.695Z"
   },
   {
    "duration": 31,
    "start_time": "2023-08-08T16:11:28.702Z"
   },
   {
    "duration": 15,
    "start_time": "2023-08-08T16:11:28.735Z"
   },
   {
    "duration": 27,
    "start_time": "2023-08-08T16:11:28.752Z"
   },
   {
    "duration": 6,
    "start_time": "2023-08-08T16:11:54.590Z"
   },
   {
    "duration": 7,
    "start_time": "2023-08-08T16:12:01.493Z"
   },
   {
    "duration": 22,
    "start_time": "2023-08-08T16:12:14.178Z"
   },
   {
    "duration": 13,
    "start_time": "2023-08-08T16:12:36.127Z"
   },
   {
    "duration": 39,
    "start_time": "2023-08-08T16:13:28.429Z"
   },
   {
    "duration": 3,
    "start_time": "2023-08-08T16:14:45.273Z"
   },
   {
    "duration": 2,
    "start_time": "2023-08-08T16:14:47.670Z"
   },
   {
    "duration": 4,
    "start_time": "2023-08-08T16:15:10.086Z"
   },
   {
    "duration": 1027,
    "start_time": "2023-08-08T16:15:10.092Z"
   },
   {
    "duration": 7,
    "start_time": "2023-08-08T16:15:11.120Z"
   },
   {
    "duration": 83,
    "start_time": "2023-08-08T16:15:11.130Z"
   },
   {
    "duration": 72,
    "start_time": "2023-08-08T16:15:11.215Z"
   },
   {
    "duration": 284,
    "start_time": "2023-08-08T16:15:11.289Z"
   },
   {
    "duration": 20,
    "start_time": "2023-08-08T16:15:11.575Z"
   },
   {
    "duration": 22,
    "start_time": "2023-08-08T16:15:11.598Z"
   },
   {
    "duration": 38,
    "start_time": "2023-08-08T16:15:11.624Z"
   },
   {
    "duration": 32,
    "start_time": "2023-08-08T16:15:11.663Z"
   },
   {
    "duration": 7,
    "start_time": "2023-08-08T16:15:11.697Z"
   },
   {
    "duration": 13,
    "start_time": "2023-08-08T16:15:11.706Z"
   },
   {
    "duration": 4,
    "start_time": "2023-08-08T16:15:11.721Z"
   },
   {
    "duration": 9,
    "start_time": "2023-08-08T16:15:11.726Z"
   },
   {
    "duration": 7,
    "start_time": "2023-08-08T16:15:11.736Z"
   },
   {
    "duration": 39,
    "start_time": "2023-08-08T16:15:11.745Z"
   },
   {
    "duration": 11,
    "start_time": "2023-08-08T16:15:11.786Z"
   },
   {
    "duration": 10,
    "start_time": "2023-08-08T16:15:11.799Z"
   },
   {
    "duration": 17,
    "start_time": "2023-08-08T16:15:11.811Z"
   },
   {
    "duration": 19,
    "start_time": "2023-08-08T16:15:11.830Z"
   },
   {
    "duration": 23,
    "start_time": "2023-08-08T16:15:11.852Z"
   },
   {
    "duration": 22,
    "start_time": "2023-08-08T16:15:11.878Z"
   },
   {
    "duration": 10,
    "start_time": "2023-08-08T16:15:11.902Z"
   },
   {
    "duration": 5,
    "start_time": "2023-08-08T16:15:11.917Z"
   },
   {
    "duration": 20,
    "start_time": "2023-08-08T16:15:11.923Z"
   },
   {
    "duration": 9,
    "start_time": "2023-08-08T16:15:11.945Z"
   },
   {
    "duration": 38,
    "start_time": "2023-08-08T16:15:11.955Z"
   },
   {
    "duration": 15,
    "start_time": "2023-08-08T16:15:11.995Z"
   },
   {
    "duration": 9,
    "start_time": "2023-08-08T16:15:12.011Z"
   },
   {
    "duration": 6,
    "start_time": "2023-08-08T16:15:12.022Z"
   },
   {
    "duration": 8,
    "start_time": "2023-08-08T16:15:12.030Z"
   },
   {
    "duration": 19,
    "start_time": "2023-08-08T16:15:12.040Z"
   },
   {
    "duration": 11,
    "start_time": "2023-08-08T16:15:12.061Z"
   },
   {
    "duration": 12,
    "start_time": "2023-08-08T16:15:12.075Z"
   },
   {
    "duration": 29,
    "start_time": "2023-08-08T16:15:12.089Z"
   },
   {
    "duration": 62,
    "start_time": "2023-08-08T16:15:12.120Z"
   },
   {
    "duration": 789,
    "start_time": "2023-08-08T16:15:12.184Z"
   },
   {
    "duration": 594,
    "start_time": "2023-08-08T16:15:12.975Z"
   },
   {
    "duration": 537,
    "start_time": "2023-08-08T16:15:13.572Z"
   },
   {
    "duration": 746,
    "start_time": "2023-08-08T16:15:14.112Z"
   },
   {
    "duration": 3,
    "start_time": "2023-08-08T16:15:14.860Z"
   },
   {
    "duration": 61,
    "start_time": "2023-08-08T16:15:14.865Z"
   },
   {
    "duration": 44,
    "start_time": "2023-08-08T16:15:14.928Z"
   },
   {
    "duration": 172,
    "start_time": "2023-08-08T16:15:14.974Z"
   },
   {
    "duration": 37,
    "start_time": "2023-08-08T16:15:15.150Z"
   },
   {
    "duration": 12,
    "start_time": "2023-08-08T16:15:15.190Z"
   },
   {
    "duration": 14,
    "start_time": "2023-08-08T16:15:15.204Z"
   },
   {
    "duration": 60,
    "start_time": "2023-08-08T16:15:15.220Z"
   },
   {
    "duration": 9,
    "start_time": "2023-08-08T16:15:15.281Z"
   },
   {
    "duration": 10,
    "start_time": "2023-08-08T16:15:15.292Z"
   },
   {
    "duration": 12,
    "start_time": "2023-08-08T16:15:15.303Z"
   },
   {
    "duration": 9,
    "start_time": "2023-08-08T16:15:15.317Z"
   },
   {
    "duration": 3,
    "start_time": "2023-08-08T16:15:15.328Z"
   },
   {
    "duration": 26,
    "start_time": "2023-08-08T16:15:15.333Z"
   },
   {
    "duration": 587,
    "start_time": "2023-08-08T16:15:15.362Z"
   },
   {
    "duration": 3915,
    "start_time": "2023-08-08T16:15:15.955Z"
   },
   {
    "duration": 1163,
    "start_time": "2023-08-08T16:15:19.872Z"
   },
   {
    "duration": 1241,
    "start_time": "2023-08-08T16:15:21.038Z"
   },
   {
    "duration": 1195,
    "start_time": "2023-08-08T16:15:22.282Z"
   },
   {
    "duration": 1223,
    "start_time": "2023-08-08T16:15:23.480Z"
   },
   {
    "duration": 3,
    "start_time": "2023-08-08T16:15:24.706Z"
   },
   {
    "duration": 11,
    "start_time": "2023-08-08T16:15:24.710Z"
   },
   {
    "duration": 9,
    "start_time": "2023-08-08T16:15:24.722Z"
   },
   {
    "duration": 10,
    "start_time": "2023-08-08T16:15:24.732Z"
   },
   {
    "duration": 34,
    "start_time": "2023-08-08T16:15:24.743Z"
   },
   {
    "duration": 9,
    "start_time": "2023-08-08T16:15:24.780Z"
   },
   {
    "duration": 49,
    "start_time": "2023-08-08T16:15:36.570Z"
   },
   {
    "duration": 3,
    "start_time": "2023-08-08T16:16:48.469Z"
   },
   {
    "duration": 30,
    "start_time": "2023-08-08T16:17:21.169Z"
   },
   {
    "duration": 44,
    "start_time": "2023-08-08T16:17:33.823Z"
   },
   {
    "duration": 282,
    "start_time": "2023-08-08T16:18:07.382Z"
   },
   {
    "duration": 45,
    "start_time": "2023-08-08T16:18:16.368Z"
   },
   {
    "duration": 13,
    "start_time": "2023-08-08T16:18:51.166Z"
   },
   {
    "duration": 163,
    "start_time": "2023-08-08T16:19:21.925Z"
   },
   {
    "duration": 11,
    "start_time": "2023-08-08T16:19:32.625Z"
   },
   {
    "duration": 5,
    "start_time": "2023-08-08T16:19:43.569Z"
   },
   {
    "duration": 8,
    "start_time": "2023-08-08T16:19:45.570Z"
   },
   {
    "duration": 24,
    "start_time": "2023-08-08T16:19:47.818Z"
   },
   {
    "duration": 1861,
    "start_time": "2023-08-08T16:20:03.296Z"
   },
   {
    "duration": 2979,
    "start_time": "2023-08-08T16:20:33.385Z"
   },
   {
    "duration": 2075,
    "start_time": "2023-08-08T16:20:46.497Z"
   },
   {
    "duration": 5,
    "start_time": "2023-08-08T16:20:56.687Z"
   },
   {
    "duration": 4,
    "start_time": "2023-08-08T16:20:59.477Z"
   },
   {
    "duration": 3021,
    "start_time": "2023-08-08T16:21:02.839Z"
   },
   {
    "duration": 2415,
    "start_time": "2023-08-08T16:21:05.863Z"
   },
   {
    "duration": 12841,
    "start_time": "2023-08-08T16:21:15.572Z"
   },
   {
    "duration": 12379,
    "start_time": "2023-08-08T16:21:28.416Z"
   },
   {
    "duration": 0,
    "start_time": "2023-08-08T16:21:40.796Z"
   },
   {
    "duration": 12726,
    "start_time": "2023-08-08T16:22:14.116Z"
   },
   {
    "duration": 7,
    "start_time": "2023-08-08T16:22:42.064Z"
   },
   {
    "duration": 8,
    "start_time": "2023-08-08T16:23:00.569Z"
   },
   {
    "duration": 6,
    "start_time": "2023-08-08T16:23:03.638Z"
   },
   {
    "duration": 4,
    "start_time": "2023-08-08T16:23:12.345Z"
   },
   {
    "duration": 144,
    "start_time": "2023-08-08T16:43:16.114Z"
   },
   {
    "duration": 12,
    "start_time": "2023-08-08T16:43:34.201Z"
   },
   {
    "duration": 798954,
    "start_time": "2023-08-08T16:44:05.418Z"
   },
   {
    "duration": 0,
    "start_time": "2023-08-08T16:57:24.375Z"
   },
   {
    "duration": 10,
    "start_time": "2023-08-08T16:57:31.841Z"
   },
   {
    "duration": 4,
    "start_time": "2023-08-08T16:57:47.139Z"
   },
   {
    "duration": 2333,
    "start_time": "2023-08-08T16:58:10.633Z"
   },
   {
    "duration": 2676,
    "start_time": "2023-08-08T16:58:50.077Z"
   },
   {
    "duration": 2241,
    "start_time": "2023-08-08T16:59:03.923Z"
   },
   {
    "duration": 310,
    "start_time": "2023-08-08T16:59:15.483Z"
   },
   {
    "duration": 3449,
    "start_time": "2023-08-08T16:59:29.305Z"
   },
   {
    "duration": 4,
    "start_time": "2023-08-08T16:59:39.770Z"
   },
   {
    "duration": 1698,
    "start_time": "2023-08-08T16:59:44.061Z"
   },
   {
    "duration": 1336,
    "start_time": "2023-08-08T16:59:50.318Z"
   },
   {
    "duration": 1364,
    "start_time": "2023-08-08T16:59:59.589Z"
   },
   {
    "duration": 1320,
    "start_time": "2023-08-08T17:00:25.541Z"
   },
   {
    "duration": 1731,
    "start_time": "2023-08-08T17:00:32.627Z"
   },
   {
    "duration": 4777,
    "start_time": "2023-08-08T17:00:38.481Z"
   },
   {
    "duration": 2112,
    "start_time": "2023-08-08T17:00:51.045Z"
   },
   {
    "duration": 1676,
    "start_time": "2023-08-08T17:02:00.682Z"
   },
   {
    "duration": 1469,
    "start_time": "2023-08-08T17:02:03.788Z"
   },
   {
    "duration": 4,
    "start_time": "2023-08-08T17:02:57.496Z"
   },
   {
    "duration": 9,
    "start_time": "2023-08-08T17:03:37.548Z"
   },
   {
    "duration": 4,
    "start_time": "2023-08-08T17:03:55.487Z"
   },
   {
    "duration": 117,
    "start_time": "2023-08-08T17:06:53.375Z"
   },
   {
    "duration": 10,
    "start_time": "2023-08-08T17:06:58.927Z"
   },
   {
    "duration": 15,
    "start_time": "2023-08-08T17:07:55.290Z"
   },
   {
    "duration": 150,
    "start_time": "2023-08-08T17:09:12.257Z"
   },
   {
    "duration": 74412,
    "start_time": "2023-08-08T17:09:37.168Z"
   },
   {
    "duration": 118,
    "start_time": "2023-08-08T17:13:58.872Z"
   },
   {
    "duration": 181,
    "start_time": "2023-08-08T17:14:03.091Z"
   },
   {
    "duration": 126,
    "start_time": "2023-08-08T17:14:23.497Z"
   },
   {
    "duration": 470,
    "start_time": "2023-08-08T17:14:34.813Z"
   },
   {
    "duration": 93,
    "start_time": "2023-08-08T17:14:45.985Z"
   },
   {
    "duration": 107,
    "start_time": "2023-08-08T17:15:03.078Z"
   },
   {
    "duration": 98623,
    "start_time": "2023-08-08T17:15:10.945Z"
   },
   {
    "duration": 76617,
    "start_time": "2023-08-08T17:18:46.448Z"
   },
   {
    "duration": 7,
    "start_time": "2023-08-08T17:20:03.072Z"
   },
   {
    "duration": 240424,
    "start_time": "2023-08-08T17:24:03.882Z"
   },
   {
    "duration": 7,
    "start_time": "2023-08-08T17:28:55.801Z"
   },
   {
    "duration": 236520,
    "start_time": "2023-08-08T17:34:13.045Z"
   },
   {
    "duration": 0,
    "start_time": "2023-08-08T17:51:52.622Z"
   },
   {
    "duration": 0,
    "start_time": "2023-08-08T17:51:52.624Z"
   },
   {
    "duration": 0,
    "start_time": "2023-08-08T17:51:52.625Z"
   },
   {
    "duration": 0,
    "start_time": "2023-08-08T17:51:52.627Z"
   },
   {
    "duration": 73442,
    "start_time": "2023-08-08T17:52:00.323Z"
   },
   {
    "duration": 4,
    "start_time": "2023-08-08T17:53:21.868Z"
   },
   {
    "duration": 4,
    "start_time": "2023-08-08T17:53:43.016Z"
   },
   {
    "duration": 947,
    "start_time": "2023-08-08T17:53:43.022Z"
   },
   {
    "duration": 7,
    "start_time": "2023-08-08T17:53:43.971Z"
   },
   {
    "duration": 78,
    "start_time": "2023-08-08T17:53:43.979Z"
   },
   {
    "duration": 47,
    "start_time": "2023-08-08T17:53:44.067Z"
   },
   {
    "duration": 307,
    "start_time": "2023-08-08T17:53:44.116Z"
   },
   {
    "duration": 43,
    "start_time": "2023-08-08T17:53:44.425Z"
   },
   {
    "duration": 15,
    "start_time": "2023-08-08T17:53:44.470Z"
   },
   {
    "duration": 5,
    "start_time": "2023-08-08T17:53:44.487Z"
   },
   {
    "duration": 23,
    "start_time": "2023-08-08T17:53:44.493Z"
   },
   {
    "duration": 8,
    "start_time": "2023-08-08T17:53:44.518Z"
   },
   {
    "duration": 10,
    "start_time": "2023-08-08T17:53:44.528Z"
   },
   {
    "duration": 5,
    "start_time": "2023-08-08T17:53:44.540Z"
   },
   {
    "duration": 10,
    "start_time": "2023-08-08T17:53:44.557Z"
   },
   {
    "duration": 8,
    "start_time": "2023-08-08T17:53:44.569Z"
   },
   {
    "duration": 13,
    "start_time": "2023-08-08T17:53:44.579Z"
   },
   {
    "duration": 9,
    "start_time": "2023-08-08T17:53:44.593Z"
   },
   {
    "duration": 2,
    "start_time": "2023-08-08T17:53:44.604Z"
   },
   {
    "duration": 11,
    "start_time": "2023-08-08T17:53:44.608Z"
   },
   {
    "duration": 8,
    "start_time": "2023-08-08T17:53:44.620Z"
   },
   {
    "duration": 34,
    "start_time": "2023-08-08T17:53:44.629Z"
   },
   {
    "duration": 17,
    "start_time": "2023-08-08T17:53:44.665Z"
   },
   {
    "duration": 6,
    "start_time": "2023-08-08T17:53:44.684Z"
   },
   {
    "duration": 8,
    "start_time": "2023-08-08T17:53:44.692Z"
   },
   {
    "duration": 21,
    "start_time": "2023-08-08T17:53:44.701Z"
   },
   {
    "duration": 15,
    "start_time": "2023-08-08T17:53:44.724Z"
   },
   {
    "duration": 8,
    "start_time": "2023-08-08T17:53:44.741Z"
   },
   {
    "duration": 25,
    "start_time": "2023-08-08T17:53:44.751Z"
   },
   {
    "duration": 16,
    "start_time": "2023-08-08T17:53:44.777Z"
   },
   {
    "duration": 12,
    "start_time": "2023-08-08T17:53:44.795Z"
   },
   {
    "duration": 6,
    "start_time": "2023-08-08T17:53:44.808Z"
   },
   {
    "duration": 9,
    "start_time": "2023-08-08T17:53:44.816Z"
   },
   {
    "duration": 14,
    "start_time": "2023-08-08T17:53:44.827Z"
   },
   {
    "duration": 28,
    "start_time": "2023-08-08T17:53:44.843Z"
   },
   {
    "duration": 35,
    "start_time": "2023-08-08T17:53:44.873Z"
   },
   {
    "duration": 20,
    "start_time": "2023-08-08T17:53:44.910Z"
   },
   {
    "duration": 567,
    "start_time": "2023-08-08T17:53:44.932Z"
   },
   {
    "duration": 629,
    "start_time": "2023-08-08T17:53:45.500Z"
   },
   {
    "duration": 475,
    "start_time": "2023-08-08T17:53:46.131Z"
   },
   {
    "duration": 396,
    "start_time": "2023-08-08T17:53:46.608Z"
   },
   {
    "duration": 3,
    "start_time": "2023-08-08T17:53:47.010Z"
   },
   {
    "duration": 13,
    "start_time": "2023-08-08T17:53:47.015Z"
   },
   {
    "duration": 18,
    "start_time": "2023-08-08T17:53:47.030Z"
   },
   {
    "duration": 16,
    "start_time": "2023-08-08T17:53:47.050Z"
   },
   {
    "duration": 22,
    "start_time": "2023-08-08T17:53:47.068Z"
   },
   {
    "duration": 9,
    "start_time": "2023-08-08T17:53:47.091Z"
   },
   {
    "duration": 11,
    "start_time": "2023-08-08T17:53:47.102Z"
   },
   {
    "duration": 9,
    "start_time": "2023-08-08T17:53:47.114Z"
   },
   {
    "duration": 7,
    "start_time": "2023-08-08T17:53:47.125Z"
   },
   {
    "duration": 13,
    "start_time": "2023-08-08T17:53:47.134Z"
   },
   {
    "duration": 17,
    "start_time": "2023-08-08T17:53:47.149Z"
   },
   {
    "duration": 8,
    "start_time": "2023-08-08T17:53:47.168Z"
   },
   {
    "duration": 4,
    "start_time": "2023-08-08T17:53:47.177Z"
   },
   {
    "duration": 13,
    "start_time": "2023-08-08T17:53:47.182Z"
   },
   {
    "duration": 490,
    "start_time": "2023-08-08T17:53:47.196Z"
   },
   {
    "duration": 2855,
    "start_time": "2023-08-08T17:53:47.687Z"
   },
   {
    "duration": 903,
    "start_time": "2023-08-08T17:53:50.544Z"
   },
   {
    "duration": 979,
    "start_time": "2023-08-08T17:53:51.453Z"
   },
   {
    "duration": 1194,
    "start_time": "2023-08-08T17:53:52.434Z"
   },
   {
    "duration": 1317,
    "start_time": "2023-08-08T17:53:53.630Z"
   },
   {
    "duration": 16,
    "start_time": "2023-08-08T17:53:54.949Z"
   },
   {
    "duration": 19,
    "start_time": "2023-08-08T17:53:54.967Z"
   },
   {
    "duration": 13,
    "start_time": "2023-08-08T17:53:54.987Z"
   },
   {
    "duration": 19,
    "start_time": "2023-08-08T17:53:55.001Z"
   },
   {
    "duration": 16,
    "start_time": "2023-08-08T17:53:55.022Z"
   },
   {
    "duration": 48,
    "start_time": "2023-08-08T17:53:55.039Z"
   },
   {
    "duration": 22,
    "start_time": "2023-08-08T17:53:55.090Z"
   },
   {
    "duration": 10,
    "start_time": "2023-08-08T17:53:55.115Z"
   },
   {
    "duration": 5,
    "start_time": "2023-08-08T17:53:55.127Z"
   },
   {
    "duration": 15,
    "start_time": "2023-08-08T17:53:55.133Z"
   },
   {
    "duration": 37,
    "start_time": "2023-08-08T17:53:55.151Z"
   },
   {
    "duration": 1881,
    "start_time": "2023-08-08T17:53:55.190Z"
   },
   {
    "duration": 3601,
    "start_time": "2023-08-08T17:53:57.080Z"
   },
   {
    "duration": 16,
    "start_time": "2023-08-08T17:54:00.756Z"
   },
   {
    "duration": 92597,
    "start_time": "2023-08-08T17:54:00.774Z"
   },
   {
    "duration": 74296,
    "start_time": "2023-08-08T17:55:33.373Z"
   },
   {
    "duration": 69357,
    "start_time": "2023-08-08T17:57:24.501Z"
   },
   {
    "duration": 5,
    "start_time": "2023-08-08T17:59:13.090Z"
   },
   {
    "duration": 8,
    "start_time": "2023-08-08T17:59:36.300Z"
   },
   {
    "duration": 7,
    "start_time": "2023-08-08T17:59:38.298Z"
   },
   {
    "duration": 4,
    "start_time": "2023-08-08T17:59:41.098Z"
   },
   {
    "duration": 111261,
    "start_time": "2023-08-08T18:00:39.794Z"
   },
   {
    "duration": 70643,
    "start_time": "2023-08-08T18:02:58.925Z"
   },
   {
    "duration": 1804,
    "start_time": "2023-08-08T18:05:45.036Z"
   },
   {
    "duration": 907,
    "start_time": "2023-08-08T18:05:46.842Z"
   },
   {
    "duration": 24,
    "start_time": "2023-08-08T18:05:47.755Z"
   },
   {
    "duration": 58,
    "start_time": "2023-08-08T18:05:47.781Z"
   },
   {
    "duration": 70,
    "start_time": "2023-08-08T18:05:47.841Z"
   },
   {
    "duration": 326,
    "start_time": "2023-08-08T18:05:47.913Z"
   },
   {
    "duration": 28,
    "start_time": "2023-08-08T18:05:48.241Z"
   },
   {
    "duration": 22,
    "start_time": "2023-08-08T18:05:48.271Z"
   },
   {
    "duration": 5,
    "start_time": "2023-08-08T18:05:48.295Z"
   },
   {
    "duration": 33,
    "start_time": "2023-08-08T18:05:48.302Z"
   },
   {
    "duration": 20,
    "start_time": "2023-08-08T18:05:48.337Z"
   },
   {
    "duration": 36,
    "start_time": "2023-08-08T18:05:48.360Z"
   },
   {
    "duration": 5,
    "start_time": "2023-08-08T18:05:48.398Z"
   },
   {
    "duration": 11,
    "start_time": "2023-08-08T18:05:48.405Z"
   },
   {
    "duration": 12,
    "start_time": "2023-08-08T18:05:48.418Z"
   },
   {
    "duration": 21,
    "start_time": "2023-08-08T18:05:48.432Z"
   },
   {
    "duration": 5,
    "start_time": "2023-08-08T18:06:37.201Z"
   },
   {
    "duration": 863,
    "start_time": "2023-08-08T18:06:37.208Z"
   },
   {
    "duration": 6,
    "start_time": "2023-08-08T18:06:38.072Z"
   },
   {
    "duration": 46,
    "start_time": "2023-08-08T18:06:38.079Z"
   },
   {
    "duration": 71,
    "start_time": "2023-08-08T18:06:38.128Z"
   },
   {
    "duration": 252,
    "start_time": "2023-08-08T18:06:38.200Z"
   },
   {
    "duration": 22,
    "start_time": "2023-08-08T18:06:38.458Z"
   },
   {
    "duration": 12,
    "start_time": "2023-08-08T18:06:38.482Z"
   },
   {
    "duration": 9,
    "start_time": "2023-08-08T18:06:38.496Z"
   },
   {
    "duration": 12,
    "start_time": "2023-08-08T18:06:38.507Z"
   },
   {
    "duration": 10,
    "start_time": "2023-08-08T18:06:38.521Z"
   },
   {
    "duration": 11,
    "start_time": "2023-08-08T18:06:38.533Z"
   },
   {
    "duration": 10,
    "start_time": "2023-08-08T18:06:38.546Z"
   },
   {
    "duration": 13,
    "start_time": "2023-08-08T18:06:38.559Z"
   },
   {
    "duration": 8,
    "start_time": "2023-08-08T18:06:38.573Z"
   },
   {
    "duration": 14,
    "start_time": "2023-08-08T18:06:38.583Z"
   },
   {
    "duration": 7,
    "start_time": "2023-08-08T18:06:38.599Z"
   },
   {
    "duration": 4,
    "start_time": "2023-08-08T18:06:38.608Z"
   },
   {
    "duration": 18,
    "start_time": "2023-08-08T18:06:38.613Z"
   },
   {
    "duration": 8,
    "start_time": "2023-08-08T18:06:38.632Z"
   },
   {
    "duration": 27,
    "start_time": "2023-08-08T18:06:38.642Z"
   },
   {
    "duration": 21,
    "start_time": "2023-08-08T18:06:38.670Z"
   },
   {
    "duration": 5,
    "start_time": "2023-08-08T18:06:38.692Z"
   },
   {
    "duration": 8,
    "start_time": "2023-08-08T18:06:38.698Z"
   },
   {
    "duration": 7,
    "start_time": "2023-08-08T18:06:38.707Z"
   },
   {
    "duration": 6,
    "start_time": "2023-08-08T18:06:38.715Z"
   },
   {
    "duration": 11,
    "start_time": "2023-08-08T18:06:38.723Z"
   },
   {
    "duration": 9,
    "start_time": "2023-08-08T18:06:38.735Z"
   },
   {
    "duration": 7,
    "start_time": "2023-08-08T18:06:38.745Z"
   },
   {
    "duration": 21,
    "start_time": "2023-08-08T18:06:38.763Z"
   },
   {
    "duration": 7,
    "start_time": "2023-08-08T18:06:38.786Z"
   },
   {
    "duration": 12,
    "start_time": "2023-08-08T18:06:38.795Z"
   },
   {
    "duration": 5,
    "start_time": "2023-08-08T18:06:38.808Z"
   },
   {
    "duration": 14,
    "start_time": "2023-08-08T18:06:38.815Z"
   },
   {
    "duration": 22,
    "start_time": "2023-08-08T18:06:38.831Z"
   },
   {
    "duration": 28,
    "start_time": "2023-08-08T18:06:38.856Z"
   },
   {
    "duration": 617,
    "start_time": "2023-08-08T18:06:38.886Z"
   },
   {
    "duration": 598,
    "start_time": "2023-08-08T18:06:39.508Z"
   },
   {
    "duration": 489,
    "start_time": "2023-08-08T18:06:40.107Z"
   },
   {
    "duration": 409,
    "start_time": "2023-08-08T18:06:40.598Z"
   },
   {
    "duration": 4,
    "start_time": "2023-08-08T18:06:41.011Z"
   },
   {
    "duration": 35,
    "start_time": "2023-08-08T18:06:41.017Z"
   },
   {
    "duration": 51,
    "start_time": "2023-08-08T18:06:41.054Z"
   },
   {
    "duration": 185,
    "start_time": "2023-08-08T18:06:41.107Z"
   },
   {
    "duration": 179,
    "start_time": "2023-08-08T18:06:41.294Z"
   },
   {
    "duration": 44,
    "start_time": "2023-08-08T18:06:41.476Z"
   },
   {
    "duration": 30,
    "start_time": "2023-08-08T18:06:41.523Z"
   },
   {
    "duration": 12,
    "start_time": "2023-08-08T18:06:41.563Z"
   },
   {
    "duration": 9,
    "start_time": "2023-08-08T18:06:41.577Z"
   },
   {
    "duration": 8,
    "start_time": "2023-08-08T18:06:41.588Z"
   },
   {
    "duration": 16,
    "start_time": "2023-08-08T18:06:41.598Z"
   },
   {
    "duration": 10,
    "start_time": "2023-08-08T18:06:41.616Z"
   },
   {
    "duration": 5,
    "start_time": "2023-08-08T18:06:41.629Z"
   },
   {
    "duration": 23,
    "start_time": "2023-08-08T18:06:41.636Z"
   },
   {
    "duration": 453,
    "start_time": "2023-08-08T18:06:41.663Z"
   },
   {
    "duration": 3258,
    "start_time": "2023-08-08T18:06:42.118Z"
   },
   {
    "duration": 1096,
    "start_time": "2023-08-08T18:06:45.378Z"
   },
   {
    "duration": 1224,
    "start_time": "2023-08-08T18:06:46.476Z"
   },
   {
    "duration": 1120,
    "start_time": "2023-08-08T18:06:47.702Z"
   },
   {
    "duration": 1245,
    "start_time": "2023-08-08T18:06:48.824Z"
   },
   {
    "duration": 2,
    "start_time": "2023-08-08T18:06:50.071Z"
   },
   {
    "duration": 22,
    "start_time": "2023-08-08T18:06:50.075Z"
   },
   {
    "duration": 19,
    "start_time": "2023-08-08T18:06:50.099Z"
   },
   {
    "duration": 53,
    "start_time": "2023-08-08T18:06:50.120Z"
   },
   {
    "duration": 17,
    "start_time": "2023-08-08T18:06:50.175Z"
   },
   {
    "duration": 13,
    "start_time": "2023-08-08T18:06:50.194Z"
   },
   {
    "duration": 21,
    "start_time": "2023-08-08T18:06:50.209Z"
   },
   {
    "duration": 14,
    "start_time": "2023-08-08T18:06:50.232Z"
   },
   {
    "duration": 30,
    "start_time": "2023-08-08T18:06:50.247Z"
   },
   {
    "duration": 24,
    "start_time": "2023-08-08T18:06:50.279Z"
   },
   {
    "duration": 35,
    "start_time": "2023-08-08T18:06:50.305Z"
   },
   {
    "duration": 4522,
    "start_time": "2023-08-08T18:06:50.341Z"
   },
   {
    "duration": 1787,
    "start_time": "2023-08-08T18:06:54.868Z"
   },
   {
    "duration": 5,
    "start_time": "2023-08-08T18:06:56.657Z"
   },
   {
    "duration": 69412,
    "start_time": "2023-08-08T18:11:09.256Z"
   },
   {
    "duration": 73092,
    "start_time": "2023-08-08T18:12:18.670Z"
   },
   {
    "duration": 9,
    "start_time": "2023-08-08T18:13:31.764Z"
   },
   {
    "duration": 13,
    "start_time": "2023-08-08T18:14:08.755Z"
   },
   {
    "duration": 7,
    "start_time": "2023-08-08T18:14:10.496Z"
   },
   {
    "duration": 5,
    "start_time": "2023-08-08T18:14:17.792Z"
   },
   {
    "duration": 0,
    "start_time": "2023-08-08T18:34:40.320Z"
   },
   {
    "duration": 7,
    "start_time": "2023-08-08T18:34:45.175Z"
   },
   {
    "duration": 907,
    "start_time": "2023-08-08T18:34:45.184Z"
   },
   {
    "duration": 8,
    "start_time": "2023-08-08T18:34:46.093Z"
   },
   {
    "duration": 80,
    "start_time": "2023-08-08T18:34:46.103Z"
   },
   {
    "duration": 81,
    "start_time": "2023-08-08T18:34:46.187Z"
   },
   {
    "duration": 262,
    "start_time": "2023-08-08T18:34:46.273Z"
   },
   {
    "duration": 43,
    "start_time": "2023-08-08T18:34:46.537Z"
   },
   {
    "duration": 16,
    "start_time": "2023-08-08T18:34:46.585Z"
   },
   {
    "duration": 7,
    "start_time": "2023-08-08T18:34:46.603Z"
   },
   {
    "duration": 16,
    "start_time": "2023-08-08T18:34:46.612Z"
   },
   {
    "duration": 44,
    "start_time": "2023-08-08T18:34:46.630Z"
   },
   {
    "duration": 11,
    "start_time": "2023-08-08T18:34:46.676Z"
   },
   {
    "duration": 5,
    "start_time": "2023-08-08T18:34:46.689Z"
   },
   {
    "duration": 2,
    "start_time": "2023-08-08T18:34:46.698Z"
   },
   {
    "duration": 7,
    "start_time": "2023-08-08T18:34:46.702Z"
   },
   {
    "duration": 13,
    "start_time": "2023-08-08T18:34:46.711Z"
   },
   {
    "duration": 11,
    "start_time": "2023-08-08T18:34:46.726Z"
   },
   {
    "duration": 3,
    "start_time": "2023-08-08T18:34:46.738Z"
   },
   {
    "duration": 15,
    "start_time": "2023-08-08T18:34:46.755Z"
   },
   {
    "duration": 14,
    "start_time": "2023-08-08T18:34:46.774Z"
   },
   {
    "duration": 7,
    "start_time": "2023-08-08T18:34:46.789Z"
   },
   {
    "duration": 35,
    "start_time": "2023-08-08T18:34:46.798Z"
   },
   {
    "duration": 11,
    "start_time": "2023-08-08T18:34:46.836Z"
   },
   {
    "duration": 16,
    "start_time": "2023-08-08T18:34:46.855Z"
   },
   {
    "duration": 12,
    "start_time": "2023-08-08T18:34:46.874Z"
   },
   {
    "duration": 5,
    "start_time": "2023-08-08T18:34:46.889Z"
   },
   {
    "duration": 16,
    "start_time": "2023-08-08T18:34:46.896Z"
   },
   {
    "duration": 11,
    "start_time": "2023-08-08T18:34:46.914Z"
   },
   {
    "duration": 18,
    "start_time": "2023-08-08T18:34:46.928Z"
   },
   {
    "duration": 8,
    "start_time": "2023-08-08T18:34:46.955Z"
   },
   {
    "duration": 24,
    "start_time": "2023-08-08T18:34:46.965Z"
   },
   {
    "duration": 12,
    "start_time": "2023-08-08T18:34:46.992Z"
   },
   {
    "duration": 6,
    "start_time": "2023-08-08T18:34:47.006Z"
   },
   {
    "duration": 13,
    "start_time": "2023-08-08T18:34:47.014Z"
   },
   {
    "duration": 58,
    "start_time": "2023-08-08T18:34:47.029Z"
   },
   {
    "duration": 19,
    "start_time": "2023-08-08T18:34:47.089Z"
   },
   {
    "duration": 723,
    "start_time": "2023-08-08T18:34:47.110Z"
   },
   {
    "duration": 568,
    "start_time": "2023-08-08T18:34:47.835Z"
   },
   {
    "duration": 520,
    "start_time": "2023-08-08T18:34:48.405Z"
   },
   {
    "duration": 412,
    "start_time": "2023-08-08T18:34:48.927Z"
   },
   {
    "duration": 3,
    "start_time": "2023-08-08T18:34:49.344Z"
   },
   {
    "duration": 13,
    "start_time": "2023-08-08T18:34:49.359Z"
   },
   {
    "duration": 13,
    "start_time": "2023-08-08T18:34:49.375Z"
   },
   {
    "duration": 13,
    "start_time": "2023-08-08T18:34:49.391Z"
   },
   {
    "duration": 10,
    "start_time": "2023-08-08T18:34:49.406Z"
   },
   {
    "duration": 27,
    "start_time": "2023-08-08T18:34:49.418Z"
   },
   {
    "duration": 16,
    "start_time": "2023-08-08T18:34:49.447Z"
   },
   {
    "duration": 30,
    "start_time": "2023-08-08T18:34:49.465Z"
   },
   {
    "duration": 14,
    "start_time": "2023-08-08T18:34:49.497Z"
   },
   {
    "duration": 15,
    "start_time": "2023-08-08T18:34:49.514Z"
   },
   {
    "duration": 21,
    "start_time": "2023-08-08T18:34:49.531Z"
   },
   {
    "duration": 35,
    "start_time": "2023-08-08T18:34:49.556Z"
   },
   {
    "duration": 4,
    "start_time": "2023-08-08T18:34:49.593Z"
   },
   {
    "duration": 10,
    "start_time": "2023-08-08T18:34:49.599Z"
   },
   {
    "duration": 513,
    "start_time": "2023-08-08T18:34:49.611Z"
   },
   {
    "duration": 2991,
    "start_time": "2023-08-08T18:34:50.128Z"
   },
   {
    "duration": 1077,
    "start_time": "2023-08-08T18:34:53.121Z"
   },
   {
    "duration": 1245,
    "start_time": "2023-08-08T18:34:54.201Z"
   },
   {
    "duration": 1148,
    "start_time": "2023-08-08T18:34:55.448Z"
   },
   {
    "duration": 1198,
    "start_time": "2023-08-08T18:34:56.599Z"
   },
   {
    "duration": 3,
    "start_time": "2023-08-08T18:34:57.799Z"
   },
   {
    "duration": 9,
    "start_time": "2023-08-08T18:34:57.803Z"
   },
   {
    "duration": 8,
    "start_time": "2023-08-08T18:34:57.813Z"
   },
   {
    "duration": 7,
    "start_time": "2023-08-08T18:34:57.823Z"
   },
   {
    "duration": 6,
    "start_time": "2023-08-08T18:34:57.832Z"
   },
   {
    "duration": 14,
    "start_time": "2023-08-08T18:34:57.840Z"
   },
   {
    "duration": 29,
    "start_time": "2023-08-08T18:34:57.859Z"
   },
   {
    "duration": 13,
    "start_time": "2023-08-08T18:34:57.890Z"
   },
   {
    "duration": 4,
    "start_time": "2023-08-08T18:34:57.905Z"
   },
   {
    "duration": 13,
    "start_time": "2023-08-08T18:34:57.911Z"
   },
   {
    "duration": 37,
    "start_time": "2023-08-08T18:34:57.926Z"
   },
   {
    "duration": 1992,
    "start_time": "2023-08-08T18:34:57.965Z"
   },
   {
    "duration": 2798,
    "start_time": "2023-08-08T18:34:59.962Z"
   },
   {
    "duration": 9,
    "start_time": "2023-08-08T18:35:02.763Z"
   },
   {
    "duration": 63984,
    "start_time": "2023-08-08T18:35:02.774Z"
   },
   {
    "duration": 1695,
    "start_time": "2023-08-08T18:41:51.435Z"
   },
   {
    "duration": 848,
    "start_time": "2023-08-08T18:41:53.132Z"
   },
   {
    "duration": 9,
    "start_time": "2023-08-08T18:41:53.981Z"
   },
   {
    "duration": 87,
    "start_time": "2023-08-08T18:41:53.992Z"
   },
   {
    "duration": 48,
    "start_time": "2023-08-08T18:41:54.080Z"
   },
   {
    "duration": 319,
    "start_time": "2023-08-08T18:41:54.130Z"
   },
   {
    "duration": 27,
    "start_time": "2023-08-08T18:41:54.450Z"
   },
   {
    "duration": 14,
    "start_time": "2023-08-08T18:41:54.479Z"
   },
   {
    "duration": 6,
    "start_time": "2023-08-08T18:41:54.495Z"
   },
   {
    "duration": 23,
    "start_time": "2023-08-08T18:41:54.504Z"
   },
   {
    "duration": 31,
    "start_time": "2023-08-08T18:41:54.529Z"
   },
   {
    "duration": 14,
    "start_time": "2023-08-08T18:41:54.565Z"
   },
   {
    "duration": 8,
    "start_time": "2023-08-08T18:41:54.581Z"
   },
   {
    "duration": 18,
    "start_time": "2023-08-08T18:41:54.590Z"
   },
   {
    "duration": 10,
    "start_time": "2023-08-08T18:41:54.610Z"
   },
   {
    "duration": 18,
    "start_time": "2023-08-08T18:41:54.622Z"
   },
   {
    "duration": 9,
    "start_time": "2023-08-08T18:41:54.642Z"
   },
   {
    "duration": 8,
    "start_time": "2023-08-08T18:41:54.653Z"
   },
   {
    "duration": 23,
    "start_time": "2023-08-08T18:41:54.662Z"
   },
   {
    "duration": 8,
    "start_time": "2023-08-08T18:41:54.687Z"
   },
   {
    "duration": 4,
    "start_time": "2023-08-08T18:41:54.697Z"
   },
   {
    "duration": 16,
    "start_time": "2023-08-08T18:41:54.703Z"
   },
   {
    "duration": 9,
    "start_time": "2023-08-08T18:41:54.721Z"
   },
   {
    "duration": 14,
    "start_time": "2023-08-08T18:41:54.731Z"
   },
   {
    "duration": 22,
    "start_time": "2023-08-08T18:41:54.746Z"
   },
   {
    "duration": 10,
    "start_time": "2023-08-08T18:41:54.772Z"
   },
   {
    "duration": 10,
    "start_time": "2023-08-08T18:41:54.784Z"
   },
   {
    "duration": 7,
    "start_time": "2023-08-08T18:41:54.800Z"
   },
   {
    "duration": 7,
    "start_time": "2023-08-08T18:41:54.809Z"
   },
   {
    "duration": 8,
    "start_time": "2023-08-08T18:41:54.818Z"
   },
   {
    "duration": 4,
    "start_time": "2023-08-08T18:41:54.828Z"
   },
   {
    "duration": 31,
    "start_time": "2023-08-08T18:41:54.834Z"
   },
   {
    "duration": 15,
    "start_time": "2023-08-08T18:41:54.866Z"
   },
   {
    "duration": 9,
    "start_time": "2023-08-08T18:41:54.882Z"
   },
   {
    "duration": 29,
    "start_time": "2023-08-08T18:41:54.892Z"
   },
   {
    "duration": 47,
    "start_time": "2023-08-08T18:41:54.922Z"
   },
   {
    "duration": 646,
    "start_time": "2023-08-08T18:41:54.971Z"
   },
   {
    "duration": 531,
    "start_time": "2023-08-08T18:41:55.619Z"
   },
   {
    "duration": 484,
    "start_time": "2023-08-08T18:41:56.152Z"
   },
   {
    "duration": 394,
    "start_time": "2023-08-08T18:41:56.638Z"
   },
   {
    "duration": 3,
    "start_time": "2023-08-08T18:41:57.034Z"
   },
   {
    "duration": 28,
    "start_time": "2023-08-08T18:41:57.038Z"
   },
   {
    "duration": 15,
    "start_time": "2023-08-08T18:41:57.071Z"
   },
   {
    "duration": 11,
    "start_time": "2023-08-08T18:41:57.087Z"
   },
   {
    "duration": 9,
    "start_time": "2023-08-08T18:41:57.099Z"
   },
   {
    "duration": 9,
    "start_time": "2023-08-08T18:41:57.109Z"
   },
   {
    "duration": 11,
    "start_time": "2023-08-08T18:41:57.120Z"
   },
   {
    "duration": 12,
    "start_time": "2023-08-08T18:41:57.132Z"
   },
   {
    "duration": 13,
    "start_time": "2023-08-08T18:41:57.153Z"
   },
   {
    "duration": 9,
    "start_time": "2023-08-08T18:41:57.170Z"
   },
   {
    "duration": 6,
    "start_time": "2023-08-08T18:41:57.181Z"
   },
   {
    "duration": 7,
    "start_time": "2023-08-08T18:41:57.189Z"
   },
   {
    "duration": 10,
    "start_time": "2023-08-08T18:41:57.198Z"
   },
   {
    "duration": 13,
    "start_time": "2023-08-08T18:41:57.209Z"
   },
   {
    "duration": 493,
    "start_time": "2023-08-08T18:41:57.223Z"
   },
   {
    "duration": 2876,
    "start_time": "2023-08-08T18:41:57.718Z"
   },
   {
    "duration": 953,
    "start_time": "2023-08-08T18:42:00.596Z"
   },
   {
    "duration": 1207,
    "start_time": "2023-08-08T18:42:01.555Z"
   },
   {
    "duration": 1066,
    "start_time": "2023-08-08T18:42:02.770Z"
   },
   {
    "duration": 1181,
    "start_time": "2023-08-08T18:42:03.838Z"
   },
   {
    "duration": 2,
    "start_time": "2023-08-08T18:42:05.021Z"
   },
   {
    "duration": 51,
    "start_time": "2023-08-08T18:42:05.025Z"
   },
   {
    "duration": 11,
    "start_time": "2023-08-08T18:42:05.077Z"
   },
   {
    "duration": 21,
    "start_time": "2023-08-08T18:42:05.090Z"
   },
   {
    "duration": 49,
    "start_time": "2023-08-08T18:42:05.113Z"
   },
   {
    "duration": 45,
    "start_time": "2023-08-08T18:42:05.164Z"
   },
   {
    "duration": 52,
    "start_time": "2023-08-08T18:42:05.211Z"
   },
   {
    "duration": 45,
    "start_time": "2023-08-08T18:42:05.265Z"
   },
   {
    "duration": 30,
    "start_time": "2023-08-08T18:42:05.312Z"
   },
   {
    "duration": 24,
    "start_time": "2023-08-08T18:42:05.344Z"
   },
   {
    "duration": 26,
    "start_time": "2023-08-08T18:42:05.371Z"
   },
   {
    "duration": 2261,
    "start_time": "2023-08-08T18:42:05.399Z"
   },
   {
    "duration": 2506,
    "start_time": "2023-08-08T18:42:07.662Z"
   },
   {
    "duration": 10,
    "start_time": "2023-08-08T18:42:10.170Z"
   },
   {
    "duration": 52002,
    "start_time": "2023-08-08T18:42:10.258Z"
   },
   {
    "duration": 67012,
    "start_time": "2023-08-08T18:43:02.263Z"
   },
   {
    "duration": 5,
    "start_time": "2023-08-08T18:44:09.278Z"
   },
   {
    "duration": 145192,
    "start_time": "2023-08-08T18:44:09.285Z"
   },
   {
    "duration": 287187,
    "start_time": "2023-08-08T18:46:34.479Z"
   },
   {
    "duration": 0,
    "start_time": "2023-08-08T18:53:05.705Z"
   },
   {
    "duration": 0,
    "start_time": "2023-08-08T18:53:05.707Z"
   },
   {
    "duration": 0,
    "start_time": "2023-08-08T18:53:05.708Z"
   },
   {
    "duration": 0,
    "start_time": "2023-08-08T18:53:05.713Z"
   },
   {
    "duration": 0,
    "start_time": "2023-08-08T18:53:05.715Z"
   },
   {
    "duration": 0,
    "start_time": "2023-08-08T18:53:05.716Z"
   },
   {
    "duration": 0,
    "start_time": "2023-08-08T18:53:05.718Z"
   },
   {
    "duration": 0,
    "start_time": "2023-08-08T18:53:05.719Z"
   },
   {
    "duration": 0,
    "start_time": "2023-08-08T18:53:05.720Z"
   },
   {
    "duration": 0,
    "start_time": "2023-08-08T18:53:05.722Z"
   },
   {
    "duration": 1,
    "start_time": "2023-08-08T18:53:05.723Z"
   },
   {
    "duration": 0,
    "start_time": "2023-08-08T18:53:05.725Z"
   },
   {
    "duration": 0,
    "start_time": "2023-08-08T18:53:05.727Z"
   },
   {
    "duration": 0,
    "start_time": "2023-08-08T18:53:05.729Z"
   },
   {
    "duration": 0,
    "start_time": "2023-08-08T18:53:05.730Z"
   },
   {
    "duration": 7,
    "start_time": "2023-08-08T18:53:18.108Z"
   },
   {
    "duration": 8,
    "start_time": "2023-08-08T18:53:18.969Z"
   },
   {
    "duration": 4,
    "start_time": "2023-08-08T18:53:51.606Z"
   },
   {
    "duration": 6,
    "start_time": "2023-08-08T19:02:36.891Z"
   },
   {
    "duration": 132,
    "start_time": "2023-08-08T19:02:41.985Z"
   },
   {
    "duration": 46,
    "start_time": "2023-08-08T19:02:52.454Z"
   },
   {
    "duration": 33,
    "start_time": "2023-08-08T19:03:13.286Z"
   },
   {
    "duration": 33,
    "start_time": "2023-08-08T19:03:34.315Z"
   },
   {
    "duration": 48,
    "start_time": "2023-08-08T19:03:58.438Z"
   },
   {
    "duration": 55,
    "start_time": "2023-08-08T19:04:11.427Z"
   },
   {
    "duration": 30,
    "start_time": "2023-08-08T19:04:21.249Z"
   },
   {
    "duration": 26,
    "start_time": "2023-08-08T19:04:33.025Z"
   },
   {
    "duration": 32,
    "start_time": "2023-08-08T19:04:46.005Z"
   },
   {
    "duration": 35,
    "start_time": "2023-08-08T19:05:22.531Z"
   },
   {
    "duration": 31,
    "start_time": "2023-08-08T19:05:27.694Z"
   },
   {
    "duration": 22994,
    "start_time": "2023-08-08T19:09:07.802Z"
   },
   {
    "duration": 5,
    "start_time": "2023-08-08T19:09:39.817Z"
   },
   {
    "duration": 833,
    "start_time": "2023-08-08T19:09:39.824Z"
   },
   {
    "duration": 8,
    "start_time": "2023-08-08T19:09:40.659Z"
   },
   {
    "duration": 96,
    "start_time": "2023-08-08T19:09:40.669Z"
   },
   {
    "duration": 60,
    "start_time": "2023-08-08T19:09:40.767Z"
   },
   {
    "duration": 276,
    "start_time": "2023-08-08T19:09:40.829Z"
   },
   {
    "duration": 21,
    "start_time": "2023-08-08T19:09:41.107Z"
   },
   {
    "duration": 38,
    "start_time": "2023-08-08T19:09:41.130Z"
   },
   {
    "duration": 13,
    "start_time": "2023-08-08T19:09:41.170Z"
   },
   {
    "duration": 49,
    "start_time": "2023-08-08T19:09:41.185Z"
   },
   {
    "duration": 34,
    "start_time": "2023-08-08T19:09:41.236Z"
   },
   {
    "duration": 24,
    "start_time": "2023-08-08T19:09:41.273Z"
   },
   {
    "duration": 25,
    "start_time": "2023-08-08T19:09:41.300Z"
   },
   {
    "duration": 11,
    "start_time": "2023-08-08T19:09:41.327Z"
   },
   {
    "duration": 17,
    "start_time": "2023-08-08T19:09:41.339Z"
   },
   {
    "duration": 42,
    "start_time": "2023-08-08T19:09:41.358Z"
   },
   {
    "duration": 34,
    "start_time": "2023-08-08T19:09:41.402Z"
   },
   {
    "duration": 8,
    "start_time": "2023-08-08T19:09:41.438Z"
   },
   {
    "duration": 32,
    "start_time": "2023-08-08T19:09:41.448Z"
   },
   {
    "duration": 18,
    "start_time": "2023-08-08T19:09:41.483Z"
   },
   {
    "duration": 20,
    "start_time": "2023-08-08T19:09:41.504Z"
   },
   {
    "duration": 49,
    "start_time": "2023-08-08T19:09:41.527Z"
   },
   {
    "duration": 28,
    "start_time": "2023-08-08T19:09:41.578Z"
   },
   {
    "duration": 40,
    "start_time": "2023-08-08T19:09:41.608Z"
   },
   {
    "duration": 17,
    "start_time": "2023-08-08T19:09:41.650Z"
   },
   {
    "duration": 9,
    "start_time": "2023-08-08T19:09:41.670Z"
   },
   {
    "duration": 21,
    "start_time": "2023-08-08T19:09:41.681Z"
   },
   {
    "duration": 17,
    "start_time": "2023-08-08T19:09:41.704Z"
   },
   {
    "duration": 55,
    "start_time": "2023-08-08T19:09:41.723Z"
   },
   {
    "duration": 33,
    "start_time": "2023-08-08T19:09:41.781Z"
   },
   {
    "duration": 25,
    "start_time": "2023-08-08T19:09:41.816Z"
   },
   {
    "duration": 37,
    "start_time": "2023-08-08T19:09:41.843Z"
   },
   {
    "duration": 19,
    "start_time": "2023-08-08T19:09:41.882Z"
   },
   {
    "duration": 36,
    "start_time": "2023-08-08T19:09:41.903Z"
   },
   {
    "duration": 57,
    "start_time": "2023-08-08T19:09:41.942Z"
   },
   {
    "duration": 19,
    "start_time": "2023-08-08T19:09:42.000Z"
   },
   {
    "duration": 714,
    "start_time": "2023-08-08T19:09:42.025Z"
   },
   {
    "duration": 557,
    "start_time": "2023-08-08T19:09:42.742Z"
   },
   {
    "duration": 484,
    "start_time": "2023-08-08T19:09:43.301Z"
   },
   {
    "duration": 391,
    "start_time": "2023-08-08T19:09:43.787Z"
   },
   {
    "duration": 4,
    "start_time": "2023-08-08T19:09:44.180Z"
   },
   {
    "duration": 54,
    "start_time": "2023-08-08T19:09:44.186Z"
   },
   {
    "duration": 18,
    "start_time": "2023-08-08T19:09:44.243Z"
   },
   {
    "duration": 17,
    "start_time": "2023-08-08T19:09:44.264Z"
   },
   {
    "duration": 16,
    "start_time": "2023-08-08T19:09:44.284Z"
   },
   {
    "duration": 13,
    "start_time": "2023-08-08T19:09:44.303Z"
   },
   {
    "duration": 9,
    "start_time": "2023-08-08T19:09:44.317Z"
   },
   {
    "duration": 12,
    "start_time": "2023-08-08T19:09:44.328Z"
   },
   {
    "duration": 17,
    "start_time": "2023-08-08T19:09:44.342Z"
   },
   {
    "duration": 8,
    "start_time": "2023-08-08T19:09:44.361Z"
   },
   {
    "duration": 11,
    "start_time": "2023-08-08T19:09:44.371Z"
   },
   {
    "duration": 9,
    "start_time": "2023-08-08T19:09:44.384Z"
   },
   {
    "duration": 3,
    "start_time": "2023-08-08T19:09:44.395Z"
   },
   {
    "duration": 12,
    "start_time": "2023-08-08T19:09:44.400Z"
   },
   {
    "duration": 562,
    "start_time": "2023-08-08T19:09:44.414Z"
   },
   {
    "duration": 2728,
    "start_time": "2023-08-08T19:09:44.978Z"
   },
   {
    "duration": 1004,
    "start_time": "2023-08-08T19:09:47.707Z"
   },
   {
    "duration": 1224,
    "start_time": "2023-08-08T19:09:48.713Z"
   },
   {
    "duration": 1096,
    "start_time": "2023-08-08T19:09:49.938Z"
   },
   {
    "duration": 1039,
    "start_time": "2023-08-08T19:09:51.036Z"
   },
   {
    "duration": 3,
    "start_time": "2023-08-08T19:09:52.076Z"
   },
   {
    "duration": 12,
    "start_time": "2023-08-08T19:09:52.081Z"
   },
   {
    "duration": 9,
    "start_time": "2023-08-08T19:09:52.095Z"
   },
   {
    "duration": 17,
    "start_time": "2023-08-08T19:09:52.106Z"
   },
   {
    "duration": 7,
    "start_time": "2023-08-08T19:09:52.125Z"
   },
   {
    "duration": 9,
    "start_time": "2023-08-08T19:09:52.134Z"
   },
   {
    "duration": 27,
    "start_time": "2023-08-08T19:09:52.144Z"
   },
   {
    "duration": 21,
    "start_time": "2023-08-08T19:09:52.173Z"
   },
   {
    "duration": 4,
    "start_time": "2023-08-08T19:09:52.195Z"
   },
   {
    "duration": 27,
    "start_time": "2023-08-08T19:09:52.201Z"
   },
   {
    "duration": 25,
    "start_time": "2023-08-08T19:09:52.231Z"
   },
   {
    "duration": 2209,
    "start_time": "2023-08-08T19:09:52.258Z"
   },
   {
    "duration": 1784,
    "start_time": "2023-08-08T19:09:54.471Z"
   },
   {
    "duration": 5,
    "start_time": "2023-08-08T19:09:56.257Z"
   },
   {
    "duration": 38097,
    "start_time": "2023-08-08T19:09:56.264Z"
   },
   {
    "duration": 52204,
    "start_time": "2023-08-08T19:10:34.363Z"
   },
   {
    "duration": 77,
    "start_time": "2023-08-08T19:11:26.578Z"
   },
   {
    "duration": 33,
    "start_time": "2023-08-08T19:11:26.657Z"
   },
   {
    "duration": 32,
    "start_time": "2023-08-08T19:11:26.692Z"
   },
   {
    "duration": 45,
    "start_time": "2023-08-08T19:11:26.726Z"
   },
   {
    "duration": 21,
    "start_time": "2023-08-08T19:11:26.773Z"
   }
  ],
  "kernelspec": {
   "display_name": "Python 3 (ipykernel)",
   "language": "python",
   "name": "python3"
  },
  "language_info": {
   "codemirror_mode": {
    "name": "ipython",
    "version": 3
   },
   "file_extension": ".py",
   "mimetype": "text/x-python",
   "name": "python",
   "nbconvert_exporter": "python",
   "pygments_lexer": "ipython3",
   "version": "3.9.18"
  },
  "toc": {
   "base_numbering": 1,
   "nav_menu": {},
   "number_sections": true,
   "sideBar": true,
   "skip_h1_title": true,
   "title_cell": "Содержание",
   "title_sidebar": "Contents",
   "toc_cell": true,
   "toc_position": {
    "height": "calc(100% - 180px)",
    "left": "10px",
    "top": "150px",
    "width": "165px"
   },
   "toc_section_display": true,
   "toc_window_display": true
  }
 },
 "nbformat": 4,
 "nbformat_minor": 2
}
