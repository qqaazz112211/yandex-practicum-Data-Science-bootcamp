{
 "cells": [
  {
   "cell_type": "markdown",
   "metadata": {},
   "source": [
    "# Определение стоимости автомобилей"
   ]
  },
  {
   "cell_type": "markdown",
   "metadata": {},
   "source": [
    "Сервис по продаже автомобилей с пробегом «Не бит, не крашен» разрабатывает приложение для привлечения новых клиентов. В нём можно быстро узнать рыночную стоимость своего автомобиля. В вашем распоряжении исторические данные: технические характеристики, комплектации и цены автомобилей. Вам нужно построить модель для определения стоимости. \n",
    "\n",
    "Заказчику важны:\n",
    "\n",
    "- качество предсказания;\n",
    "- скорость предсказания;\n",
    "- время обучения."
   ]
  },
  {
   "cell_type": "markdown",
   "metadata": {},
   "source": [
    "## Подготовка данных"
   ]
  },
  {
   "cell_type": "code",
   "execution_count": 4,
   "metadata": {},
   "outputs": [
    {
     "name": "stderr",
     "output_type": "stream",
     "text": [
      "/tmp/ipykernel_269/55663167.py:17: DeprecationWarning: `import pandas_profiling` is going to be deprecated by April 1st. Please use `import ydata_profiling` instead.\n",
      "  from pandas_profiling import ProfileReport\n"
     ]
    }
   ],
   "source": [
    "import pandas as pd\n",
    "import numpy as np\n",
    "import matplotlib.pyplot as plt\n",
    "import seaborn as sns\n",
    "import plotly.express as px\n",
    "from sklearn.preprocessing import OrdinalEncoder \n",
    "from sklearn.model_selection import train_test_split\n",
    "from sklearn.model_selection import cross_val_score\n",
    "from sklearn.linear_model import LinearRegression\n",
    "from sklearn.metrics import mean_squared_error\n",
    "from sklearn.metrics import r2_score\n",
    "from sklearn.preprocessing import StandardScaler\n",
    "from sklearn.tree import DecisionTreeRegressor\n",
    "from catboost import CatBoostRegressor\n",
    "from sklearn.linear_model import Lasso\n",
    "from lightgbm import LGBMRegressor\n",
    "from pandas_profiling import ProfileReport\n",
    "import plotly.express as px\n",
    "from category_encoders.binary import BinaryEncoder\n",
    "from sklearn.model_selection import GridSearchCV"
   ]
  },
  {
   "cell_type": "code",
   "execution_count": 5,
   "metadata": {},
   "outputs": [],
   "source": [
    "try:\n",
    "    df = pd.read_csv('/datasets/autos.csv')\n",
    "except:\n",
    "    df = pd.read_csv('/Users/v.rakhaev/Desktop/Yandex/sprint_14/autos.csv')"
   ]
  },
  {
   "cell_type": "code",
   "execution_count": 6,
   "metadata": {},
   "outputs": [
    {
     "data": {
      "text/html": [
       "<div>\n",
       "<style scoped>\n",
       "    .dataframe tbody tr th:only-of-type {\n",
       "        vertical-align: middle;\n",
       "    }\n",
       "\n",
       "    .dataframe tbody tr th {\n",
       "        vertical-align: top;\n",
       "    }\n",
       "\n",
       "    .dataframe thead th {\n",
       "        text-align: right;\n",
       "    }\n",
       "</style>\n",
       "<table border=\"1\" class=\"dataframe\">\n",
       "  <thead>\n",
       "    <tr style=\"text-align: right;\">\n",
       "      <th></th>\n",
       "      <th>DateCrawled</th>\n",
       "      <th>Price</th>\n",
       "      <th>VehicleType</th>\n",
       "      <th>RegistrationYear</th>\n",
       "      <th>Gearbox</th>\n",
       "      <th>Power</th>\n",
       "      <th>Model</th>\n",
       "      <th>Kilometer</th>\n",
       "      <th>RegistrationMonth</th>\n",
       "      <th>FuelType</th>\n",
       "      <th>Brand</th>\n",
       "      <th>Repaired</th>\n",
       "      <th>DateCreated</th>\n",
       "      <th>NumberOfPictures</th>\n",
       "      <th>PostalCode</th>\n",
       "      <th>LastSeen</th>\n",
       "    </tr>\n",
       "  </thead>\n",
       "  <tbody>\n",
       "    <tr>\n",
       "      <th>0</th>\n",
       "      <td>2016-03-24 11:52:17</td>\n",
       "      <td>480</td>\n",
       "      <td>NaN</td>\n",
       "      <td>1993</td>\n",
       "      <td>manual</td>\n",
       "      <td>0</td>\n",
       "      <td>golf</td>\n",
       "      <td>150000</td>\n",
       "      <td>0</td>\n",
       "      <td>petrol</td>\n",
       "      <td>volkswagen</td>\n",
       "      <td>NaN</td>\n",
       "      <td>2016-03-24 00:00:00</td>\n",
       "      <td>0</td>\n",
       "      <td>70435</td>\n",
       "      <td>2016-04-07 03:16:57</td>\n",
       "    </tr>\n",
       "    <tr>\n",
       "      <th>1</th>\n",
       "      <td>2016-03-24 10:58:45</td>\n",
       "      <td>18300</td>\n",
       "      <td>coupe</td>\n",
       "      <td>2011</td>\n",
       "      <td>manual</td>\n",
       "      <td>190</td>\n",
       "      <td>NaN</td>\n",
       "      <td>125000</td>\n",
       "      <td>5</td>\n",
       "      <td>gasoline</td>\n",
       "      <td>audi</td>\n",
       "      <td>yes</td>\n",
       "      <td>2016-03-24 00:00:00</td>\n",
       "      <td>0</td>\n",
       "      <td>66954</td>\n",
       "      <td>2016-04-07 01:46:50</td>\n",
       "    </tr>\n",
       "    <tr>\n",
       "      <th>2</th>\n",
       "      <td>2016-03-14 12:52:21</td>\n",
       "      <td>9800</td>\n",
       "      <td>suv</td>\n",
       "      <td>2004</td>\n",
       "      <td>auto</td>\n",
       "      <td>163</td>\n",
       "      <td>grand</td>\n",
       "      <td>125000</td>\n",
       "      <td>8</td>\n",
       "      <td>gasoline</td>\n",
       "      <td>jeep</td>\n",
       "      <td>NaN</td>\n",
       "      <td>2016-03-14 00:00:00</td>\n",
       "      <td>0</td>\n",
       "      <td>90480</td>\n",
       "      <td>2016-04-05 12:47:46</td>\n",
       "    </tr>\n",
       "  </tbody>\n",
       "</table>\n",
       "</div>"
      ],
      "text/plain": [
       "           DateCrawled  Price VehicleType  RegistrationYear Gearbox  Power  \\\n",
       "0  2016-03-24 11:52:17    480         NaN              1993  manual      0   \n",
       "1  2016-03-24 10:58:45  18300       coupe              2011  manual    190   \n",
       "2  2016-03-14 12:52:21   9800         suv              2004    auto    163   \n",
       "\n",
       "   Model  Kilometer  RegistrationMonth  FuelType       Brand Repaired  \\\n",
       "0   golf     150000                  0    petrol  volkswagen      NaN   \n",
       "1    NaN     125000                  5  gasoline        audi      yes   \n",
       "2  grand     125000                  8  gasoline        jeep      NaN   \n",
       "\n",
       "           DateCreated  NumberOfPictures  PostalCode             LastSeen  \n",
       "0  2016-03-24 00:00:00                 0       70435  2016-04-07 03:16:57  \n",
       "1  2016-03-24 00:00:00                 0       66954  2016-04-07 01:46:50  \n",
       "2  2016-03-14 00:00:00                 0       90480  2016-04-05 12:47:46  "
      ]
     },
     "execution_count": 6,
     "metadata": {},
     "output_type": "execute_result"
    }
   ],
   "source": [
    "df.head(3)"
   ]
  },
  {
   "cell_type": "code",
   "execution_count": 7,
   "metadata": {},
   "outputs": [],
   "source": [
    "#profile = ProfileReport(df, title=\"Pandas Profiling Report\")"
   ]
  },
  {
   "cell_type": "code",
   "execution_count": 8,
   "metadata": {
    "scrolled": true
   },
   "outputs": [],
   "source": [
    "#profile"
   ]
  },
  {
   "cell_type": "code",
   "execution_count": 9,
   "metadata": {},
   "outputs": [
    {
     "data": {
      "text/plain": [
       "(354369, 16)"
      ]
     },
     "execution_count": 9,
     "metadata": {},
     "output_type": "execute_result"
    }
   ],
   "source": [
    "df.shape"
   ]
  },
  {
   "cell_type": "code",
   "execution_count": 10,
   "metadata": {},
   "outputs": [
    {
     "name": "stdout",
     "output_type": "stream",
     "text": [
      "<class 'pandas.core.frame.DataFrame'>\n",
      "RangeIndex: 354369 entries, 0 to 354368\n",
      "Data columns (total 16 columns):\n",
      " #   Column             Non-Null Count   Dtype \n",
      "---  ------             --------------   ----- \n",
      " 0   DateCrawled        354369 non-null  object\n",
      " 1   Price              354369 non-null  int64 \n",
      " 2   VehicleType        316879 non-null  object\n",
      " 3   RegistrationYear   354369 non-null  int64 \n",
      " 4   Gearbox            334536 non-null  object\n",
      " 5   Power              354369 non-null  int64 \n",
      " 6   Model              334664 non-null  object\n",
      " 7   Kilometer          354369 non-null  int64 \n",
      " 8   RegistrationMonth  354369 non-null  int64 \n",
      " 9   FuelType           321474 non-null  object\n",
      " 10  Brand              354369 non-null  object\n",
      " 11  Repaired           283215 non-null  object\n",
      " 12  DateCreated        354369 non-null  object\n",
      " 13  NumberOfPictures   354369 non-null  int64 \n",
      " 14  PostalCode         354369 non-null  int64 \n",
      " 15  LastSeen           354369 non-null  object\n",
      "dtypes: int64(7), object(9)\n",
      "memory usage: 43.3+ MB\n"
     ]
    }
   ],
   "source": [
    "df.info()"
   ]
  },
  {
   "cell_type": "markdown",
   "metadata": {},
   "source": [
    "**Поиск уникальных значений**"
   ]
  },
  {
   "cell_type": "code",
   "execution_count": 11,
   "metadata": {
    "scrolled": false
   },
   "outputs": [
    {
     "name": "stdout",
     "output_type": "stream",
     "text": [
      "Признак -  DateCrawled\n",
      "Количество уникальных значений 271174\n",
      "\n",
      "['2016-03-24 11:52:17' '2016-03-24 10:58:45' '2016-03-14 12:52:21' ...\n",
      " '2016-03-21 09:50:58' '2016-03-14 17:48:27' '2016-03-19 18:57:12']\n",
      "-------------------------------------------\n",
      "Признак -  Price\n",
      "Количество уникальных значений 3731\n",
      "\n",
      "[  480 18300  9800 ... 12395 18429 10985]\n",
      "-------------------------------------------\n",
      "Признак -  VehicleType\n",
      "Количество уникальных значений 9\n",
      "\n",
      "[nan 'coupe' 'suv' 'small' 'sedan' 'convertible' 'bus' 'wagon' 'other']\n",
      "-------------------------------------------\n",
      "Признак -  RegistrationYear\n",
      "Количество уникальных значений 151\n",
      "\n",
      "[1993 2011 2004 2001 2008 1995 1980 2014 1998 2005 1910 2016 2007 2009\n",
      " 2002 2018 1997 1990 2017 1981 2003 1994 1991 1984 2006 1999 2012 2010\n",
      " 2000 1992 2013 1996 1985 1989 2015 1982 1976 1983 1973 1111 1969 1971\n",
      " 1987 1986 1988 1970 1965 1945 1925 1974 1979 1955 1978 1972 1968 1977\n",
      " 1961 1960 1966 1975 1963 1964 5000 1954 1958 1967 1959 9999 1956 3200\n",
      " 1000 1941 8888 1500 2200 4100 1962 1929 1957 1940 3000 2066 1949 2019\n",
      " 1937 1951 1800 1953 1234 8000 5300 9000 2900 6000 5900 5911 1933 1400\n",
      " 1950 4000 1948 1952 1200 8500 1932 1255 3700 3800 4800 1942 7000 1935\n",
      " 1936 6500 1923 2290 2500 1930 1001 9450 1944 1943 1934 1938 1688 2800\n",
      " 1253 1928 1919 5555 5600 1600 2222 1039 9996 1300 8455 1931 1915 4500\n",
      " 1920 1602 7800 9229 1947 1927 7100 8200 1946 7500 3500]\n",
      "-------------------------------------------\n",
      "Признак -  Gearbox\n",
      "Количество уникальных значений 3\n",
      "\n",
      "['manual' 'auto' nan]\n",
      "-------------------------------------------\n",
      "Признак -  Power\n",
      "Количество уникальных значений 712\n",
      "\n",
      "[    0   190   163    75    69   102   109    50   125   101   105   140\n",
      "   115   131    60   136   160   231    90   118   193    99   113   218\n",
      "   122   129    70   306    95    61   177    80   170    55   143    64\n",
      "   286   232   150   156    82   155    54   185    87   180    86    84\n",
      "   224   235   200   178   265    77   110   144   120   116   184   126\n",
      "   204    88   194   305   197   179   250    45   313    41   165    98\n",
      "   130   114   211    56   201   213    58   107    83   174   100   220\n",
      "    85    73   192    68    66   299    74    52   147    65   310    71\n",
      "    97   239   203     5   300   103   258   320    63    81   148    44\n",
      "   145   230   280   260   104   188   333   186   117   141    59   132\n",
      "   234   158    39    92    51   135    53   209    43   146    67   106\n",
      "   166   276   344    72   249   237   245   111   326   279    23   138\n",
      "   175    96   226    26    37   301   334   128   133   124    33   219\n",
      "   241   167    94   182   196   238  1398   228   112    48   272   139\n",
      "  1799    40   240    79   256   360   243   375   252   396   340   108\n",
      "   121   345   187   289   222   198   284   450   233   387   152   347\n",
      "   172    57   137   212   476   314    30     7    47   173   290   207\n",
      "   205   171   750    78    91    89   349   325    76   151   350   953\n",
      "    93   142   500   343   199   119   164    16   264   367   208   210\n",
      "    46   435  1001   225   127   176   161   603   307   354    35   206\n",
      "   771   355   273   223   255   123   154   149  7515  1400   268   620\n",
      "   169   400   275    34     2   242  1779   285   162   328  1753   329\n",
      "   134   420   247   168 10317   215    18   330   283    62    10   214\n",
      "   183   254    15   321   322   315   952   600   181   426   599   379\n",
      "   999    22   157    42   195   553     4   309   507   381   271   440\n",
      "   189   401  1111  2729    21   236  1240  1704   521     1  1900   270\n",
      "    24   159   292   808   515  1200   303    29    38  1993    14   216\n",
      "   610   504    49   267   331   363   261   385  1011   253   696 10520\n",
      "   376   227   311    27   217    20  1999    11  1056    25   394    12\n",
      "   298   296  1659   294   551  6920   246    17  1800  1625   368   390\n",
      "   221  1367   259   606   327  2017  1597   266   374   392     9   405\n",
      "    13   262   601   430   295     8   411   900   541  7512   382 10218\n",
      "  7544  1102   287    19   751   297  1090   457   282   602   388     6\n",
      "  1000  5411   335  1360   202  3750   805  1062  1024 11530   364  1796\n",
      "  5000   269   460  1002   288  1780 12012 17932   316  2005  1399   191\n",
      "   278  1300   380   257   449  1256   153  1653   520   560   281 12510\n",
      "     3  1500   386    32  1202  2016  1436  1405   671   274  1288  1055\n",
      " 10912 15016  6226  1115   277  1105   341  1223  2340  8404  1968   338\n",
      "   445  1920   370   517  4400 10710 10522  9010   431  1164 11509   371\n",
      "  1501   428 11635    36   304   348  1703  1910  1995   579 10000   580\n",
      "   408    31  1005   358  1403   489  5575 19211   585   960   365   353\n",
      "   490   352  1801   346   550  3199   800  7508  1312   357  1937   950\n",
      "  4700  1600  3454 19208   251   850   337   700  8011  2331  2789   487\n",
      "   519  2461  6006  3500  5815  6018  1781  1503   612  1596   229  1506\n",
      "  5809 15020  5867  2172  1598 17410  1363   584  1054   851  1339   318\n",
      "   510   525  1700    28  1151   685  6011   317   703  1771 15001   514\n",
      "   362   332   324  6045   530   425   308  6010   475   903   640  2000\n",
      "   248   651  2799 17011   505  1103  1521   351 16051   398  9000  1998\n",
      " 10311   409  1230 17019 12684  8259  1895   901  1317   871   909  2201\n",
      "  1595   776 17700 11011  1199   459  1162  1120 15033  1896   339   361\n",
      "   574  6512   454   650 13616   604   607 16312  1082   336 20000   416\n",
      "   678  6012  1401  1021  1870 13636  1250  9710   323  1158  2009   902\n",
      "  6062  1275   572   244   399  1016   743  1221  2402 16011  1362   544\n",
      "   645   907   702 12512  1986  1003  1432  9013  9011   442  1017  1394\n",
      " 15017 10910  1992   540  2018 11025  1433  1701  2792  1502  1239  1390\n",
      " 14009  1160  1351 11111  1783  9007   923  1149   754  1988   402  2004\n",
      "  5420  1793  1324   356  7511  1299   293 19312  1079  1689   998  1100\n",
      "  9012  1933   508 16311   682  1252  1922  7529   732  2389  2200  1707\n",
      "  1416  8500  1012   485  3000 10110   421  4507  1631  7518   377  1004\n",
      "  2007  2598  1548  1241]\n",
      "-------------------------------------------\n",
      "Признак -  Model\n",
      "Количество уникальных значений 251\n",
      "\n",
      "['golf' nan 'grand' 'fabia' '3er' '2_reihe' 'other' 'c_max' '3_reihe'\n",
      " 'passat' 'navara' 'ka' 'polo' 'twingo' 'a_klasse' 'scirocco' '5er'\n",
      " 'meriva' 'arosa' 'c4' 'civic' 'transporter' 'punto' 'e_klasse' 'clio'\n",
      " 'kadett' 'kangoo' 'corsa' 'one' 'fortwo' '1er' 'b_klasse' 'signum'\n",
      " 'astra' 'a8' 'jetta' 'fiesta' 'c_klasse' 'micra' 'vito' 'sprinter' '156'\n",
      " 'escort' 'forester' 'xc_reihe' 'scenic' 'a4' 'a1' 'insignia' 'combo'\n",
      " 'focus' 'tt' 'a6' 'jazz' 'omega' 'slk' '7er' '80' '147' '100' 'z_reihe'\n",
      " 'sportage' 'sorento' 'v40' 'ibiza' 'mustang' 'eos' 'touran' 'getz' 'a3'\n",
      " 'almera' 'megane' 'lupo' 'r19' 'zafira' 'caddy' 'mondeo' 'cordoba' 'colt'\n",
      " 'impreza' 'vectra' 'berlingo' 'tiguan' 'i_reihe' 'espace' 'sharan'\n",
      " '6_reihe' 'panda' 'up' 'seicento' 'ceed' '5_reihe' 'yeti' 'octavia' 'mii'\n",
      " 'rx_reihe' '6er' 'modus' 'fox' 'matiz' 'beetle' 'c1' 'rio' 'touareg'\n",
      " 'logan' 'spider' 'cuore' 's_max' 'a2' 'galaxy' 'c3' 'viano' 's_klasse'\n",
      " '1_reihe' 'avensis' 'roomster' 'sl' 'kaefer' 'santa' 'cooper' 'leon'\n",
      " '4_reihe' 'a5' '500' 'laguna' 'ptcruiser' 'clk' 'primera' 'x_reihe'\n",
      " 'exeo' '159' 'transit' 'juke' 'qashqai' 'carisma' 'accord' 'corolla'\n",
      " 'lanos' 'phaeton' 'verso' 'swift' 'rav' 'picanto' 'boxster' 'kalos'\n",
      " 'superb' 'stilo' 'alhambra' 'mx_reihe' 'roadster' 'ypsilon' 'cayenne'\n",
      " 'galant' 'justy' '90' 'sirion' 'crossfire' 'agila' 'duster' 'cr_reihe'\n",
      " 'v50' 'c_reihe' 'v_klasse' 'm_klasse' 'yaris' 'c5' 'aygo' 'cc' 'carnival'\n",
      " 'fusion' '911' 'bora' 'forfour' 'm_reihe' 'cl' 'tigra' '300c' 'spark'\n",
      " 'v70' 'kuga' 'x_type' 'ducato' 's_type' 'x_trail' 'toledo' 'altea'\n",
      " 'voyager' 'calibra' 'bravo' 'antara' 'tucson' 'citigo' 'jimny' 'wrangler'\n",
      " 'lybra' 'q7' 'lancer' 'captiva' 'c2' 'discovery' 'freelander' 'sandero'\n",
      " 'note' '900' 'cherokee' 'clubman' 'samara' 'defender' '601' 'cx_reihe'\n",
      " 'legacy' 'pajero' 'auris' 'niva' 's60' 'nubira' 'vivaro' 'g_klasse'\n",
      " 'lodgy' '850' 'range_rover' 'q3' 'serie_2' 'glk' 'charade' 'croma'\n",
      " 'outlander' 'doblo' 'musa' 'move' '9000' 'v60' '145' 'aveo' '200' 'b_max'\n",
      " 'range_rover_sport' 'terios' 'rangerover' 'q5' 'range_rover_evoque'\n",
      " 'materia' 'delta' 'gl' 'kalina' 'amarok' 'elefantino' 'i3' 'kappa'\n",
      " 'serie_3' 'serie_1']\n",
      "-------------------------------------------\n",
      "Признак -  Kilometer\n",
      "Количество уникальных значений 13\n",
      "\n",
      "[150000 125000  90000  40000  30000  70000   5000 100000  60000  20000\n",
      "  80000  50000  10000]\n",
      "-------------------------------------------\n",
      "Признак -  RegistrationMonth\n",
      "Количество уникальных значений 13\n",
      "\n",
      "[ 0  5  8  6  7 10 12 11  2  3  1  4  9]\n",
      "-------------------------------------------\n",
      "Признак -  FuelType\n",
      "Количество уникальных значений 8\n",
      "\n",
      "['petrol' 'gasoline' nan 'lpg' 'other' 'hybrid' 'cng' 'electric']\n",
      "-------------------------------------------\n",
      "Признак -  Brand\n",
      "Количество уникальных значений 40\n",
      "\n",
      "['volkswagen' 'audi' 'jeep' 'skoda' 'bmw' 'peugeot' 'ford' 'mazda'\n",
      " 'nissan' 'renault' 'mercedes_benz' 'opel' 'seat' 'citroen' 'honda' 'fiat'\n",
      " 'mini' 'smart' 'hyundai' 'sonstige_autos' 'alfa_romeo' 'subaru' 'volvo'\n",
      " 'mitsubishi' 'kia' 'suzuki' 'lancia' 'toyota' 'chevrolet' 'dacia'\n",
      " 'daihatsu' 'trabant' 'saab' 'chrysler' 'jaguar' 'daewoo' 'porsche'\n",
      " 'rover' 'land_rover' 'lada']\n",
      "-------------------------------------------\n",
      "Признак -  Repaired\n",
      "Количество уникальных значений 3\n",
      "\n",
      "[nan 'yes' 'no']\n",
      "-------------------------------------------\n",
      "Признак -  DateCreated\n",
      "Количество уникальных значений 109\n",
      "\n",
      "['2016-03-24 00:00:00' '2016-03-14 00:00:00' '2016-03-17 00:00:00'\n",
      " '2016-03-31 00:00:00' '2016-04-04 00:00:00' '2016-04-01 00:00:00'\n",
      " '2016-03-21 00:00:00' '2016-03-26 00:00:00' '2016-04-07 00:00:00'\n",
      " '2016-03-15 00:00:00' '2016-03-11 00:00:00' '2016-03-20 00:00:00'\n",
      " '2016-03-23 00:00:00' '2016-03-27 00:00:00' '2016-03-12 00:00:00'\n",
      " '2016-03-13 00:00:00' '2016-03-18 00:00:00' '2016-03-10 00:00:00'\n",
      " '2016-03-07 00:00:00' '2016-03-09 00:00:00' '2016-03-08 00:00:00'\n",
      " '2016-04-03 00:00:00' '2016-03-29 00:00:00' '2016-03-25 00:00:00'\n",
      " '2016-03-28 00:00:00' '2016-03-30 00:00:00' '2016-03-22 00:00:00'\n",
      " '2016-02-09 00:00:00' '2016-03-05 00:00:00' '2016-04-02 00:00:00'\n",
      " '2016-03-16 00:00:00' '2016-03-19 00:00:00' '2016-04-05 00:00:00'\n",
      " '2016-03-06 00:00:00' '2016-02-12 00:00:00' '2016-03-03 00:00:00'\n",
      " '2016-03-01 00:00:00' '2016-03-04 00:00:00' '2016-04-06 00:00:00'\n",
      " '2016-02-15 00:00:00' '2016-02-24 00:00:00' '2016-02-27 00:00:00'\n",
      " '2015-03-20 00:00:00' '2016-02-28 00:00:00' '2016-02-17 00:00:00'\n",
      " '2016-01-27 00:00:00' '2016-02-20 00:00:00' '2016-02-29 00:00:00'\n",
      " '2016-02-10 00:00:00' '2016-02-23 00:00:00' '2016-02-21 00:00:00'\n",
      " '2015-11-02 00:00:00' '2016-02-19 00:00:00' '2016-02-26 00:00:00'\n",
      " '2016-02-11 00:00:00' '2016-01-10 00:00:00' '2016-02-06 00:00:00'\n",
      " '2016-02-18 00:00:00' '2016-01-29 00:00:00' '2016-03-02 00:00:00'\n",
      " '2015-12-06 00:00:00' '2016-01-24 00:00:00' '2016-01-30 00:00:00'\n",
      " '2016-02-02 00:00:00' '2016-02-16 00:00:00' '2016-02-13 00:00:00'\n",
      " '2016-02-05 00:00:00' '2016-02-22 00:00:00' '2015-11-17 00:00:00'\n",
      " '2014-03-10 00:00:00' '2016-02-07 00:00:00' '2016-01-23 00:00:00'\n",
      " '2016-02-25 00:00:00' '2016-02-14 00:00:00' '2016-01-02 00:00:00'\n",
      " '2015-09-04 00:00:00' '2015-11-12 00:00:00' '2015-12-27 00:00:00'\n",
      " '2015-11-24 00:00:00' '2016-01-20 00:00:00' '2016-02-03 00:00:00'\n",
      " '2015-12-05 00:00:00' '2015-08-07 00:00:00' '2016-01-28 00:00:00'\n",
      " '2016-01-31 00:00:00' '2016-02-08 00:00:00' '2016-01-07 00:00:00'\n",
      " '2016-01-22 00:00:00' '2016-01-18 00:00:00' '2016-01-08 00:00:00'\n",
      " '2015-11-23 00:00:00' '2016-01-13 00:00:00' '2016-01-17 00:00:00'\n",
      " '2016-01-15 00:00:00' '2015-11-08 00:00:00' '2016-01-26 00:00:00'\n",
      " '2016-02-04 00:00:00' '2016-01-25 00:00:00' '2016-01-16 00:00:00'\n",
      " '2015-08-10 00:00:00' '2016-01-03 00:00:00' '2016-01-19 00:00:00'\n",
      " '2015-12-30 00:00:00' '2016-02-01 00:00:00' '2015-12-17 00:00:00'\n",
      " '2015-11-10 00:00:00' '2016-01-06 00:00:00' '2015-09-09 00:00:00'\n",
      " '2015-06-18 00:00:00']\n",
      "-------------------------------------------\n",
      "Признак -  NumberOfPictures\n",
      "Количество уникальных значений 1\n",
      "\n",
      "[0]\n",
      "-------------------------------------------\n",
      "Признак -  PostalCode\n",
      "Количество уникальных значений 8143\n",
      "\n",
      "[70435 66954 90480 ... 38528 38325 31096]\n",
      "-------------------------------------------\n",
      "Признак -  LastSeen\n",
      "Количество уникальных значений 179150\n",
      "\n",
      "['2016-04-07 03:16:57' '2016-04-07 01:46:50' '2016-04-05 12:47:46' ...\n",
      " '2016-03-19 20:44:43' '2016-03-29 10:17:23' '2016-03-21 10:42:49']\n",
      "-------------------------------------------\n"
     ]
    }
   ],
   "source": [
    "for i in df:\n",
    "    print('Признак - ', i)\n",
    "    print('Количество уникальных значений', len(df.loc[:,i].unique()))\n",
    "    print()\n",
    "    print(df.loc[:,i].unique())\n",
    "    print('-------------------------------------------')"
   ]
  },
  {
   "cell_type": "markdown",
   "metadata": {},
   "source": [
    "### Пропуски"
   ]
  },
  {
   "cell_type": "code",
   "execution_count": 12,
   "metadata": {},
   "outputs": [
    {
     "data": {
      "text/plain": [
       "DateCrawled              0\n",
       "Price                    0\n",
       "VehicleType          37490\n",
       "RegistrationYear         0\n",
       "Gearbox              19833\n",
       "Power                    0\n",
       "Model                19705\n",
       "Kilometer                0\n",
       "RegistrationMonth        0\n",
       "FuelType             32895\n",
       "Brand                    0\n",
       "Repaired             71154\n",
       "DateCreated              0\n",
       "NumberOfPictures         0\n",
       "PostalCode               0\n",
       "LastSeen                 0\n",
       "dtype: int64"
      ]
     },
     "execution_count": 12,
     "metadata": {},
     "output_type": "execute_result"
    }
   ],
   "source": [
    "df.isna().sum()"
   ]
  },
  {
   "cell_type": "markdown",
   "metadata": {},
   "source": [
    "**Присутствуют неадекватные значения годов в признаке 'RegistrationYear'**"
   ]
  },
  {
   "cell_type": "code",
   "execution_count": 13,
   "metadata": {},
   "outputs": [
    {
     "data": {
      "text/plain": [
       "1000    37\n",
       "1001     1\n",
       "1039     1\n",
       "1111     3\n",
       "1200     1\n",
       "Name: RegistrationYear, dtype: int64"
      ]
     },
     "execution_count": 13,
     "metadata": {},
     "output_type": "execute_result"
    }
   ],
   "source": [
    "df['RegistrationYear'].value_counts().sort_index().head()"
   ]
  },
  {
   "cell_type": "markdown",
   "metadata": {},
   "source": [
    "**Удалим значения до 1980г и после 2015г**"
   ]
  },
  {
   "cell_type": "code",
   "execution_count": 14,
   "metadata": {},
   "outputs": [],
   "source": [
    "df.drop(df.query('RegistrationYear > 2015').index, inplace = True)\n",
    "df.drop(df.query('RegistrationYear < 1980').index, inplace = True)"
   ]
  },
  {
   "cell_type": "code",
   "execution_count": 15,
   "metadata": {},
   "outputs": [
    {
     "data": {
      "image/png": "[encoded data removed]",
      "text/plain": [
       "<Figure size 1080x360 with 1 Axes>"
      ]
     },
     "metadata": {
      "needs_background": "light"
     },
     "output_type": "display_data"
    }
   ],
   "source": [
    "plt.figure(figsize=(15,5))\n",
    "sns.histplot(df['RegistrationYear'], bins = 100)\n",
    "plt.title('RegistrationYear')\n",
    "plt.show()"
   ]
  },
  {
   "cell_type": "markdown",
   "metadata": {},
   "source": [
    "**Присутствуют неадекватные значения в признаке 'Power'**"
   ]
  },
  {
   "cell_type": "code",
   "execution_count": 16,
   "metadata": {},
   "outputs": [
    {
     "data": {
      "image/png": "[encoded data removed]",
      "text/plain": [
       "<Figure size 1080x360 with 1 Axes>"
      ]
     },
     "metadata": {
      "needs_background": "light"
     },
     "output_type": "display_data"
    }
   ],
   "source": [
    "plt.figure(figsize=(15,5))\n",
    "sns.histplot(df['Power'], bins = 100)\n",
    "plt.title('Признак Power')\n",
    "plt.show()"
   ]
  },
  {
   "cell_type": "markdown",
   "metadata": {},
   "source": [
    "**удалим значения == 0**"
   ]
  },
  {
   "cell_type": "code",
   "execution_count": 17,
   "metadata": {},
   "outputs": [],
   "source": [
    "df.drop(df.query('Power == 0').index, inplace = True)"
   ]
  },
  {
   "cell_type": "code",
   "execution_count": 18,
   "metadata": {},
   "outputs": [
    {
     "data": {
      "image/png": "[encoded data removed]",
      "text/plain": [
       "<Figure size 1080x360 with 1 Axes>"
      ]
     },
     "metadata": {
      "needs_background": "light"
     },
     "output_type": "display_data"
    }
   ],
   "source": [
    "plt.figure(figsize=(15,5))\n",
    "sns.histplot(df['Power'][df['Power'] < 1000], bins = 150)\n",
    "plt.title('Признак Power')\n",
    "plt.show()"
   ]
  },
  {
   "cell_type": "markdown",
   "metadata": {},
   "source": [
    "**удалим значения > 350 и < 50**"
   ]
  },
  {
   "cell_type": "code",
   "execution_count": 19,
   "metadata": {},
   "outputs": [],
   "source": [
    "df.drop(df.query('Power > 350').index, inplace = True)\n",
    "df.drop(df.query('Power < 50').index, inplace = True)"
   ]
  },
  {
   "cell_type": "code",
   "execution_count": 20,
   "metadata": {},
   "outputs": [
    {
     "data": {
      "image/png": "[encoded data removed]",
      "text/plain": [
       "<Figure size 1080x360 with 1 Axes>"
      ]
     },
     "metadata": {
      "needs_background": "light"
     },
     "output_type": "display_data"
    }
   ],
   "source": [
    "plt.figure(figsize=(15,5))\n",
    "sns.histplot(df['Power'], bins = 100)\n",
    "plt.title('Признак Power')\n",
    "plt.show()"
   ]
  },
  {
   "cell_type": "markdown",
   "metadata": {},
   "source": [
    "**Заполним значение признака 'Model' как \"unknown\"**"
   ]
  },
  {
   "cell_type": "code",
   "execution_count": 21,
   "metadata": {},
   "outputs": [],
   "source": [
    "df['Model'].fillna(\"unknown\", inplace = True)"
   ]
  },
  {
   "cell_type": "markdown",
   "metadata": {},
   "source": [
    "**Заполним значение признака 'VehicleType'**"
   ]
  },
  {
   "cell_type": "code",
   "execution_count": 22,
   "metadata": {},
   "outputs": [
    {
     "data": {
      "text/plain": [
       "sedan          83266\n",
       "small          67303\n",
       "wagon          60110\n",
       "bus            26361\n",
       "convertible    18453\n",
       "coupe          14294\n",
       "suv            10846\n",
       "other           2406\n",
       "Name: VehicleType, dtype: int64"
      ]
     },
     "execution_count": 22,
     "metadata": {},
     "output_type": "execute_result"
    }
   ],
   "source": [
    "df['VehicleType'].value_counts()"
   ]
  },
  {
   "cell_type": "markdown",
   "metadata": {},
   "source": [
    "Алгоритм заполнения:  \n",
    "1. Сначала заполним пропущенные значения признака 'VehicleType' как null\n",
    "2. Далее создадим функцию которая заменят null значения в признаке 'VehicleType' самым популярным из показателя признака 'Model', например, если условно среди audi самое популярный тип кузова - sedan, то пропущенные значения в audi будут заполнены как sedan."
   ]
  },
  {
   "cell_type": "code",
   "execution_count": 23,
   "metadata": {},
   "outputs": [],
   "source": [
    "df['VehicleType'].fillna('null', inplace = True)"
   ]
  },
  {
   "cell_type": "code",
   "execution_count": 24,
   "metadata": {},
   "outputs": [],
   "source": [
    "def brand_VehicleType(x):\n",
    "    if x['VehicleType'] == 'null':\n",
    "        return df[df['Brand'] == x['Brand']]['VehicleType'].value_counts().index[0]\n",
    "    else:\n",
    "        return x['VehicleType']"
   ]
  },
  {
   "cell_type": "code",
   "execution_count": 25,
   "metadata": {},
   "outputs": [
    {
     "name": "stdout",
     "output_type": "stream",
     "text": [
      "CPU times: user 2min 19s, sys: 23.7 ms, total: 2min 19s\n",
      "Wall time: 2min 19s\n"
     ]
    }
   ],
   "source": [
    "%%time\n",
    "df['VehicleType'] = df[['Brand','VehicleType']].apply(brand_VehicleType, axis = 1)\n"
   ]
  },
  {
   "cell_type": "code",
   "execution_count": 26,
   "metadata": {},
   "outputs": [
    {
     "data": {
      "text/plain": [
       "sedan          85798\n",
       "small          69318\n",
       "wagon          60609\n",
       "bus            26380\n",
       "convertible    18462\n",
       "coupe          14294\n",
       "suv            10910\n",
       "other           2406\n",
       "Name: VehicleType, dtype: int64"
      ]
     },
     "execution_count": 26,
     "metadata": {},
     "output_type": "execute_result"
    }
   ],
   "source": [
    "df['VehicleType'].value_counts()"
   ]
  },
  {
   "cell_type": "markdown",
   "metadata": {},
   "source": [
    "**Заполним значение признака 'FuelType'**"
   ]
  },
  {
   "cell_type": "markdown",
   "metadata": {},
   "source": [
    "аналогично 'VehicleType'"
   ]
  },
  {
   "cell_type": "code",
   "execution_count": 27,
   "metadata": {},
   "outputs": [
    {
     "data": {
      "text/plain": [
       "petrol      182195\n",
       "gasoline     87269\n",
       "lpg           4670\n",
       "cng            478\n",
       "hybrid         197\n",
       "other           54\n",
       "electric        32\n",
       "Name: FuelType, dtype: int64"
      ]
     },
     "execution_count": 27,
     "metadata": {},
     "output_type": "execute_result"
    }
   ],
   "source": [
    "df['FuelType'].value_counts()"
   ]
  },
  {
   "cell_type": "code",
   "execution_count": 28,
   "metadata": {},
   "outputs": [],
   "source": [
    "df['FuelType'].fillna('null', inplace = True)"
   ]
  },
  {
   "cell_type": "code",
   "execution_count": 29,
   "metadata": {},
   "outputs": [],
   "source": [
    "def brand_FuelType(x):\n",
    "    if x['FuelType'] == 'null':\n",
    "        return df[df['Brand'] == x['Brand']]['FuelType'].value_counts().index[0]\n",
    "    else:\n",
    "        return x['FuelType']"
   ]
  },
  {
   "cell_type": "code",
   "execution_count": 30,
   "metadata": {},
   "outputs": [
    {
     "name": "stdout",
     "output_type": "stream",
     "text": [
      "CPU times: user 5min 44s, sys: 127 ms, total: 5min 44s\n",
      "Wall time: 5min 45s\n"
     ]
    }
   ],
   "source": [
    "%%time\n",
    "df['FuelType'] = df[['Brand','FuelType']].apply(brand_FuelType, axis = 1)"
   ]
  },
  {
   "cell_type": "code",
   "execution_count": 31,
   "metadata": {},
   "outputs": [
    {
     "data": {
      "text/plain": [
       "petrol      195467\n",
       "gasoline     87279\n",
       "lpg           4670\n",
       "cng            478\n",
       "hybrid         197\n",
       "other           54\n",
       "electric        32\n",
       "Name: FuelType, dtype: int64"
      ]
     },
     "execution_count": 31,
     "metadata": {},
     "output_type": "execute_result"
    }
   ],
   "source": [
    "df['FuelType'].value_counts()"
   ]
  },
  {
   "cell_type": "markdown",
   "metadata": {},
   "source": [
    "**Заполним значение признака 'Gearbox'**"
   ]
  },
  {
   "cell_type": "code",
   "execution_count": 32,
   "metadata": {},
   "outputs": [
    {
     "data": {
      "text/plain": [
       "manual    226124\n",
       "auto       57280\n",
       "Name: Gearbox, dtype: int64"
      ]
     },
     "execution_count": 32,
     "metadata": {},
     "output_type": "execute_result"
    }
   ],
   "source": [
    "df['Gearbox'].value_counts()"
   ]
  },
  {
   "cell_type": "markdown",
   "metadata": {},
   "source": [
    "**Заполним пропуски как 'unknown'**"
   ]
  },
  {
   "cell_type": "code",
   "execution_count": 33,
   "metadata": {},
   "outputs": [],
   "source": [
    "df['Gearbox'].fillna('unknown', inplace = True)"
   ]
  },
  {
   "cell_type": "code",
   "execution_count": 34,
   "metadata": {},
   "outputs": [
    {
     "data": {
      "text/plain": [
       "manual     226124\n",
       "auto        57280\n",
       "unknown      4773\n",
       "Name: Gearbox, dtype: int64"
      ]
     },
     "execution_count": 34,
     "metadata": {},
     "output_type": "execute_result"
    }
   ],
   "source": [
    "df['Gearbox'].value_counts()"
   ]
  },
  {
   "cell_type": "markdown",
   "metadata": {},
   "source": [
    "**Заполним значение признака 'Repaired'**"
   ]
  },
  {
   "cell_type": "code",
   "execution_count": 35,
   "metadata": {},
   "outputs": [
    {
     "data": {
      "text/plain": [
       "no     219134\n",
       "yes     28407\n",
       "Name: Repaired, dtype: int64"
      ]
     },
     "execution_count": 35,
     "metadata": {},
     "output_type": "execute_result"
    }
   ],
   "source": [
    "df['Repaired'].value_counts()"
   ]
  },
  {
   "cell_type": "markdown",
   "metadata": {},
   "source": [
    "Заполним пропуски как 'unknown'"
   ]
  },
  {
   "cell_type": "code",
   "execution_count": 36,
   "metadata": {},
   "outputs": [],
   "source": [
    "df['Repaired'].fillna('unknown', inplace = True)"
   ]
  },
  {
   "cell_type": "code",
   "execution_count": 37,
   "metadata": {},
   "outputs": [
    {
     "data": {
      "text/plain": [
       "no         219134\n",
       "unknown     40636\n",
       "yes         28407\n",
       "Name: Repaired, dtype: int64"
      ]
     },
     "execution_count": 37,
     "metadata": {},
     "output_type": "execute_result"
    }
   ],
   "source": [
    "df['Repaired'].value_counts()"
   ]
  },
  {
   "cell_type": "code",
   "execution_count": 38,
   "metadata": {},
   "outputs": [],
   "source": [
    "df['FuelType'] = df['FuelType'].replace('gasoline', 'petrol')"
   ]
  },
  {
   "cell_type": "code",
   "execution_count": 39,
   "metadata": {},
   "outputs": [
    {
     "data": {
      "text/plain": [
       "petrol      282746\n",
       "lpg           4670\n",
       "cng            478\n",
       "hybrid         197\n",
       "other           54\n",
       "electric        32\n",
       "Name: FuelType, dtype: int64"
      ]
     },
     "execution_count": 39,
     "metadata": {},
     "output_type": "execute_result"
    }
   ],
   "source": [
    "df['FuelType'].value_counts()"
   ]
  },
  {
   "cell_type": "code",
   "execution_count": 40,
   "metadata": {},
   "outputs": [
    {
     "data": {
      "image/png": "[encoded data removed]",
      "text/plain": [
       "<Figure size 1080x360 with 1 Axes>"
      ]
     },
     "metadata": {
      "needs_background": "light"
     },
     "output_type": "display_data"
    }
   ],
   "source": [
    "plt.figure(figsize = (15,5))\n",
    "plt.title('Признак Price')\n",
    "sns.histplot(df.query('0 < Price < 1000'), x = 'Price', bins = 50)\n",
    "plt.show()"
   ]
  },
  {
   "cell_type": "code",
   "execution_count": 41,
   "metadata": {},
   "outputs": [
    {
     "data": {
      "text/plain": [
       "0        5723\n",
       "1500     4237\n",
       "500      4024\n",
       "1200     3563\n",
       "2500     3560\n",
       "         ... \n",
       "6966        1\n",
       "11687       1\n",
       "13220       1\n",
       "4919        1\n",
       "8188        1\n",
       "Name: Price, Length: 3543, dtype: int64"
      ]
     },
     "execution_count": 41,
     "metadata": {},
     "output_type": "execute_result"
    }
   ],
   "source": [
    "df['Price'].value_counts()"
   ]
  },
  {
   "cell_type": "markdown",
   "metadata": {},
   "source": [
    "**В целевом признаке 'Price' присутствуют экстримально низкие значения значения удалим их**"
   ]
  },
  {
   "cell_type": "code",
   "execution_count": 42,
   "metadata": {},
   "outputs": [],
   "source": [
    "df.drop(df.query('Price < 101').index, inplace = True)"
   ]
  },
  {
   "cell_type": "markdown",
   "metadata": {},
   "source": [
    "### Изменение форматов признаков"
   ]
  },
  {
   "cell_type": "code",
   "execution_count": 43,
   "metadata": {},
   "outputs": [],
   "source": [
    "df['LastSeen'] = pd.to_datetime(df['LastSeen'])"
   ]
  },
  {
   "cell_type": "code",
   "execution_count": 44,
   "metadata": {},
   "outputs": [],
   "source": [
    "df['DateCrawled'] = pd.to_datetime(df['DateCrawled'])"
   ]
  },
  {
   "cell_type": "code",
   "execution_count": 45,
   "metadata": {},
   "outputs": [],
   "source": [
    "df['DateCreated'] = pd.to_datetime(df['DateCreated'])"
   ]
  },
  {
   "cell_type": "markdown",
   "metadata": {},
   "source": [
    "### Дубликаты"
   ]
  },
  {
   "cell_type": "code",
   "execution_count": 46,
   "metadata": {},
   "outputs": [
    {
     "data": {
      "text/plain": [
       "4"
      ]
     },
     "execution_count": 46,
     "metadata": {},
     "output_type": "execute_result"
    }
   ],
   "source": [
    "df.duplicated().sum()"
   ]
  },
  {
   "cell_type": "code",
   "execution_count": 47,
   "metadata": {},
   "outputs": [],
   "source": [
    "df.drop_duplicates(inplace=True)"
   ]
  },
  {
   "cell_type": "markdown",
   "metadata": {},
   "source": [
    "### Выводы по первому блоку:\n",
    "1. Проведен анализ данных\n",
    "2. Определены и устранены экстримальные значения признаков\n",
    "3. Удалены явные дубликаты\n",
    "4. Полстроена функция для 'нетипового' заолнения данных\n",
    "5. Данные подготовлены для построения моделей"
   ]
  },
  {
   "cell_type": "markdown",
   "metadata": {},
   "source": [
    "## Данные для построения модели"
   ]
  },
  {
   "cell_type": "markdown",
   "metadata": {},
   "source": [
    "Выберем неоходимые признаки для построения модели"
   ]
  },
  {
   "cell_type": "code",
   "execution_count": 48,
   "metadata": {},
   "outputs": [],
   "source": [
    "df_model = df[['VehicleType', 'Gearbox', 'Power', 'Kilometer', 'FuelType', 'Brand', 'Repaired', 'RegistrationYear', 'Model','Price']]"
   ]
  },
  {
   "cell_type": "code",
   "execution_count": 49,
   "metadata": {},
   "outputs": [],
   "source": [
    "df_model.reset_index(drop=True, inplace = True)"
   ]
  },
  {
   "cell_type": "code",
   "execution_count": 50,
   "metadata": {
    "scrolled": true
   },
   "outputs": [
    {
     "data": {
      "text/plain": [
       "VehicleType         0\n",
       "Gearbox             0\n",
       "Power               0\n",
       "Kilometer           0\n",
       "FuelType            0\n",
       "Brand               0\n",
       "Repaired            0\n",
       "RegistrationYear    0\n",
       "Model               0\n",
       "Price               0\n",
       "dtype: int64"
      ]
     },
     "execution_count": 50,
     "metadata": {},
     "output_type": "execute_result"
    }
   ],
   "source": [
    "df_model.isna().sum()"
   ]
  },
  {
   "cell_type": "code",
   "execution_count": 51,
   "metadata": {},
   "outputs": [],
   "source": [
    "df_model_change = df_model.copy()"
   ]
  },
  {
   "cell_type": "code",
   "execution_count": 52,
   "metadata": {},
   "outputs": [],
   "source": [
    "df_model_change_feature = df_model_change.drop('Price', axis = 1)"
   ]
  },
  {
   "cell_type": "code",
   "execution_count": 53,
   "metadata": {},
   "outputs": [],
   "source": [
    "df_model_change_target = df_model_change['Price']"
   ]
  },
  {
   "cell_type": "markdown",
   "metadata": {},
   "source": [
    "Разобьем данные на тренировочные и тестовые и валидационные"
   ]
  },
  {
   "cell_type": "code",
   "execution_count": 54,
   "metadata": {},
   "outputs": [],
   "source": [
    "features_train, features_test_plus_valid, target_train, target_test_plus_valid = train_test_split(\n",
    "    df_model_change_feature, df_model_change_target, test_size=0.4, random_state=54321)"
   ]
  },
  {
   "cell_type": "code",
   "execution_count": 55,
   "metadata": {},
   "outputs": [],
   "source": [
    "features_test, features_valid, target_test, target_valid = train_test_split(\n",
    "    features_test_plus_valid, target_test_plus_valid, test_size=0.5, random_state=543211)"
   ]
  },
  {
   "cell_type": "code",
   "execution_count": 56,
   "metadata": {},
   "outputs": [
    {
     "data": {
      "text/plain": [
       "(168585, 9)"
      ]
     },
     "metadata": {},
     "output_type": "display_data"
    },
    {
     "data": {
      "text/plain": [
       "(56195, 9)"
      ]
     },
     "metadata": {},
     "output_type": "display_data"
    },
    {
     "data": {
      "text/plain": [
       "(56196, 9)"
      ]
     },
     "metadata": {},
     "output_type": "display_data"
    },
    {
     "data": {
      "text/plain": [
       "(168585,)"
      ]
     },
     "metadata": {},
     "output_type": "display_data"
    },
    {
     "data": {
      "text/plain": [
       "(56195,)"
      ]
     },
     "metadata": {},
     "output_type": "display_data"
    },
    {
     "data": {
      "text/plain": [
       "(56196,)"
      ]
     },
     "metadata": {},
     "output_type": "display_data"
    }
   ],
   "source": [
    "display(features_train.shape)\n",
    "display(features_test.shape)\n",
    "display(features_valid.shape)\n",
    "display(target_train.shape)\n",
    "display(target_test.shape)\n",
    "display(target_valid.shape)"
   ]
  },
  {
   "cell_type": "markdown",
   "metadata": {},
   "source": [
    "Проведем кодирование - переведем текстовые значения в цифровые"
   ]
  },
  {
   "cell_type": "code",
   "execution_count": 57,
   "metadata": {},
   "outputs": [],
   "source": [
    "bn = BinaryEncoder()\n",
    "bn.fit(features_train)\n",
    "features_train_bn = bn.transform(features_train)\n",
    "features_test_bn = bn.transform(features_test)\n",
    "features_valid_bn = bn.transform(features_valid)\n"
   ]
  },
  {
   "cell_type": "markdown",
   "metadata": {},
   "source": [
    "Мультиколлинеарность не выявлена"
   ]
  },
  {
   "cell_type": "markdown",
   "metadata": {},
   "source": [
    "## Обучение моделей"
   ]
  },
  {
   "cell_type": "code",
   "execution_count": 64,
   "metadata": {},
   "outputs": [],
   "source": [
    "scaler = StandardScaler()\n",
    "scaler.fit(features_train_bn)\n",
    "features_train_bn_scaled = pd.DataFrame(scaler.transform(features_train_bn), columns = features_train_bn.columns)\n",
    "features_test_bn_scaled = pd.DataFrame(scaler.transform(features_test_bn), columns = features_test_bn.columns)\n",
    "features_valid_bn_scaled = pd.DataFrame(scaler.transform(features_valid_bn), columns = features_valid_bn.columns)"
   ]
  },
  {
   "cell_type": "markdown",
   "metadata": {},
   "source": [
    "**LinearRegression**"
   ]
  },
  {
   "cell_type": "markdown",
   "metadata": {},
   "source": [
    "**LinearRegression и кросс - валидация**"
   ]
  },
  {
   "cell_type": "code",
   "execution_count": 64,
   "metadata": {},
   "outputs": [
    {
     "name": "stdout",
     "output_type": "stream",
     "text": [
      "MSE= [6948223.97024901 7062982.59503029 7034683.4398587  7134629.7055783\n",
      " 6893324.75787614]\n",
      "--------------------------------------------------------\n",
      "MSE mean = 7014768.89\n",
      "--------------------------------------------------------\n",
      "RMSE mean = 2648.54\n",
      "--------------------------------------------------------\n",
      "CPU times: user 1.8 s, sys: 1.62 s, total: 3.41 s\n",
      "Wall time: 3.61 s\n"
     ]
    }
   ],
   "source": [
    "%%time\n",
    "model = LinearRegression()\n",
    "MSE = cross_val_score(model, features_train_bn_scaled, target_train,\n",
    "                              cv=5,scoring='neg_mean_squared_error') * -1\n",
    "print('MSE=', MSE)\n",
    "print('--------------------------------------------------------')\n",
    "print('MSE mean =', round(MSE.mean(),2))\n",
    "print('--------------------------------------------------------')\n",
    "print('RMSE mean =', round(MSE.mean()**0.5,2))\n",
    "print('--------------------------------------------------------')"
   ]
  },
  {
   "cell_type": "markdown",
   "metadata": {},
   "source": [
    "**DecisionTreeRegressor**"
   ]
  },
  {
   "cell_type": "markdown",
   "metadata": {},
   "source": [
    "**Подберем оптимальные гиперпараметры**"
   ]
  },
  {
   "cell_type": "code",
   "execution_count": 65,
   "metadata": {},
   "outputs": [
    {
     "name": "stdout",
     "output_type": "stream",
     "text": [
      "best_MSE = 3568435.92\n",
      "--------------------------------------------------------\n",
      "best_RMSE = 1889.03\n",
      "--------------------------------------------------------\n",
      "best_Model = DecisionTreeRegressor(max_depth=13, random_state=12345)\n",
      "CPU times: user 56.1 s, sys: 357 ms, total: 56.5 s\n",
      "Wall time: 57.6 s\n"
     ]
    }
   ],
   "source": [
    "%%time\n",
    "best_MSE = 10000000000000\n",
    "best_model = None\n",
    "for depth in range(1,20):\n",
    "    model = DecisionTreeRegressor(random_state=12345, max_depth = depth)\n",
    "    MSE = cross_val_score(model, features_train_bn_scaled, target_train, cv=5, scoring='neg_mean_squared_error')\n",
    "    MSE = (-MSE.mean())\n",
    "    if MSE < best_MSE:\n",
    "        best_MSE = MSE\n",
    "        best_model = model    \n",
    "print('best_MSE =', round(best_MSE,2))\n",
    "print('--------------------------------------------------------')\n",
    "print('best_RMSE =', round(best_MSE**0.5,2))\n",
    "print('--------------------------------------------------------')\n",
    "print('best_Model =', best_model)\n"
   ]
  },
  {
   "cell_type": "markdown",
   "metadata": {},
   "source": [
    "**CatBoostRegressor**"
   ]
  },
  {
   "cell_type": "code",
   "execution_count": 66,
   "metadata": {
    "scrolled": true
   },
   "outputs": [],
   "source": [
    "param_grid_01 = {'learning_rate' : np.arange(0.1, 0.5, 0.1)}"
   ]
  },
  {
   "cell_type": "code",
   "execution_count": 67,
   "metadata": {},
   "outputs": [
    {
     "name": "stdout",
     "output_type": "stream",
     "text": [
      "Fitting 5 folds for each of 4 candidates, totalling 20 fits\n",
      "[CV 1/5] END ..............................learning_rate=0.1; total time=  30.7s\n",
      "[CV 2/5] END ..............................learning_rate=0.1; total time=  30.4s\n",
      "[CV 3/5] END ..............................learning_rate=0.1; total time=  29.6s\n",
      "[CV 4/5] END ..............................learning_rate=0.1; total time=  29.5s\n",
      "[CV 5/5] END ..............................learning_rate=0.1; total time=  32.4s\n",
      "[CV 1/5] END ..............................learning_rate=0.2; total time=  32.2s\n",
      "[CV 2/5] END ..............................learning_rate=0.2; total time=  30.2s\n",
      "[CV 3/5] END ..............................learning_rate=0.2; total time=  30.6s\n",
      "[CV 4/5] END ..............................learning_rate=0.2; total time=  31.5s\n",
      "[CV 5/5] END ..............................learning_rate=0.2; total time=  32.3s\n",
      "[CV 1/5] END ..............learning_rate=0.30000000000000004; total time=  27.9s\n",
      "[CV 2/5] END ..............learning_rate=0.30000000000000004; total time=  26.5s\n",
      "[CV 3/5] END ..............learning_rate=0.30000000000000004; total time=  27.3s\n",
      "[CV 4/5] END ..............learning_rate=0.30000000000000004; total time=  27.6s\n",
      "[CV 5/5] END ..............learning_rate=0.30000000000000004; total time=  29.3s\n",
      "[CV 1/5] END ..............................learning_rate=0.4; total time=  27.2s\n",
      "[CV 2/5] END ..............................learning_rate=0.4; total time=  27.2s\n",
      "[CV 3/5] END ..............................learning_rate=0.4; total time=  26.4s\n",
      "[CV 4/5] END ..............................learning_rate=0.4; total time=  25.8s\n",
      "[CV 5/5] END ..............................learning_rate=0.4; total time=  27.3s\n"
     ]
    },
    {
     "data": {
      "text/plain": [
       "{'learning_rate': 0.30000000000000004}"
      ]
     },
     "metadata": {},
     "output_type": "display_data"
    },
    {
     "data": {
      "text/plain": [
       "1528.6458278174564"
      ]
     },
     "metadata": {},
     "output_type": "display_data"
    },
    {
     "name": "stdout",
     "output_type": "stream",
     "text": [
      "CPU times: user 8min 55s, sys: 3.43 s, total: 8min 59s\n",
      "Wall time: 10min 14s\n"
     ]
    }
   ],
   "source": [
    "%%time\n",
    "model = CatBoostRegressor(random_state=12345, verbose=False)\n",
    "\n",
    "tuning_model=GridSearchCV(estimator=model,\n",
    "                          param_grid=param_grid_01,\n",
    "                          scoring='neg_root_mean_squared_error',\n",
    "                          cv=5,\n",
    "                          verbose=5)\n",
    "\n",
    "tuning_model.fit(features_train_bn_scaled, target_train)\n",
    "display(tuning_model.best_params_)\n",
    "display(tuning_model.best_score_*-1)"
   ]
  },
  {
   "cell_type": "markdown",
   "metadata": {},
   "source": [
    "**Lasso**"
   ]
  },
  {
   "cell_type": "code",
   "execution_count": 68,
   "metadata": {},
   "outputs": [
    {
     "name": "stdout",
     "output_type": "stream",
     "text": [
      "best_MSE = 7014769.54\n",
      "--------------------------------------------------------\n",
      "best_RMSE = 2648.54\n",
      "--------------------------------------------------------\n",
      "best_Model = Lasso(alpha=0.1, max_iter=2500, random_state=12345)\n",
      "CPU times: user 14min 26s, sys: 23min 7s, total: 37min 33s\n",
      "Wall time: 37min 38s\n"
     ]
    }
   ],
   "source": [
    "%%time\n",
    "best_MSE = 10000000000000\n",
    "best_model = None\n",
    "for alp in np.arange(0.1, 1.01, 0.1):\n",
    "    model = Lasso(alpha=alp, max_iter=2500, random_state=12345)\n",
    "    MSE = cross_val_score(model, features_train_bn_scaled, target_train, cv=5, scoring='neg_mean_squared_error')\n",
    "    MSE = (-MSE.mean())\n",
    "    if MSE < best_MSE:\n",
    "        best_MSE = MSE\n",
    "        best_model = model    \n",
    "print('best_MSE =', round(best_MSE,2))\n",
    "print('--------------------------------------------------------')\n",
    "print('best_RMSE =', round(best_MSE**0.5,2))\n",
    "print('--------------------------------------------------------')\n",
    "print('best_Model =', best_model)\n"
   ]
  },
  {
   "cell_type": "markdown",
   "metadata": {},
   "source": [
    "**LGBMRegressor**"
   ]
  },
  {
   "cell_type": "code",
   "execution_count": 94,
   "metadata": {},
   "outputs": [],
   "source": [
    "param_grid_02 = {'n_estimators': [40], 'num_leaves': [6, 10, 18]}"
   ]
  },
  {
   "cell_type": "code",
   "execution_count": 95,
   "metadata": {},
   "outputs": [
    {
     "name": "stdout",
     "output_type": "stream",
     "text": [
      "Fitting 3 folds for each of 3 candidates, totalling 9 fits\n",
      "[CV 1/3] END ..................n_estimators=40, num_leaves=6; total time=  25.9s\n",
      "[CV 2/3] END ..................n_estimators=40, num_leaves=6; total time=  33.5s\n",
      "[CV 3/3] END ..................n_estimators=40, num_leaves=6; total time=  22.4s\n",
      "[CV 1/3] END .................n_estimators=40, num_leaves=10; total time=  38.1s\n",
      "[CV 2/3] END .................n_estimators=40, num_leaves=10; total time=  41.2s\n",
      "[CV 3/3] END .................n_estimators=40, num_leaves=10; total time=  34.5s\n",
      "[CV 1/3] END .................n_estimators=40, num_leaves=18; total time=  48.4s\n",
      "[CV 2/3] END .................n_estimators=40, num_leaves=18; total time= 1.6min\n",
      "[CV 3/3] END .................n_estimators=40, num_leaves=18; total time=  54.7s\n"
     ]
    },
    {
     "data": {
      "text/plain": [
       "{'n_estimators': 40, 'num_leaves': 18}"
      ]
     },
     "metadata": {},
     "output_type": "display_data"
    },
    {
     "data": {
      "text/plain": [
       "1938.7285337250378"
      ]
     },
     "metadata": {},
     "output_type": "display_data"
    },
    {
     "name": "stdout",
     "output_type": "stream",
     "text": [
      "CPU times: user 8min 11s, sys: 8.53 s, total: 8min 19s\n",
      "Wall time: 8min 23s\n"
     ]
    }
   ],
   "source": [
    "%%time\n",
    "model = LGBMRegressor(random_state=12345, extra_trees = True)\n",
    "\n",
    "tuning_model=GridSearchCV(estimator=model,\n",
    "                          param_grid=param_grid_02,\n",
    "                          scoring='neg_root_mean_squared_error',\n",
    "                          cv=3,\n",
    "                          verbose=3)\n",
    "\n",
    "tuning_model.fit(features_train_bn_scaled, target_train)\n",
    "display(tuning_model.best_params_)\n",
    "display(tuning_model.best_score_*-1)"
   ]
  },
  {
   "cell_type": "markdown",
   "metadata": {},
   "source": [
    "## Анализ моделей"
   ]
  },
  {
   "cell_type": "markdown",
   "metadata": {},
   "source": [
    "**Проверка скорости работы моделей на тренировочной выборке**"
   ]
  },
  {
   "cell_type": "markdown",
   "metadata": {},
   "source": [
    "**Lasso**"
   ]
  },
  {
   "cell_type": "code",
   "execution_count": 96,
   "metadata": {},
   "outputs": [
    {
     "name": "stdout",
     "output_type": "stream",
     "text": [
      "CPU times: user 7.51 s, sys: 12.8 s, total: 20.4 s\n",
      "Wall time: 20.3 s\n"
     ]
    },
    {
     "data": {
      "text/plain": [
       "Lasso(alpha=0.1, max_iter=2500, random_state=12345)"
      ]
     },
     "execution_count": 96,
     "metadata": {},
     "output_type": "execute_result"
    }
   ],
   "source": [
    "%%time\n",
    "model = Lasso(alpha=0.1, max_iter=2500, random_state=12345)\n",
    "model.fit(features_train_bn_scaled, target_train)"
   ]
  },
  {
   "cell_type": "code",
   "execution_count": 97,
   "metadata": {},
   "outputs": [
    {
     "name": "stdout",
     "output_type": "stream",
     "text": [
      "CPU times: user 20.3 ms, sys: 28.2 ms, total: 48.6 ms\n",
      "Wall time: 29.1 ms\n"
     ]
    }
   ],
   "source": [
    "%%time\n",
    "prediction = model.predict(features_train_bn_scaled)"
   ]
  },
  {
   "cell_type": "markdown",
   "metadata": {},
   "source": [
    "**LinearRegression**"
   ]
  },
  {
   "cell_type": "code",
   "execution_count": 98,
   "metadata": {},
   "outputs": [
    {
     "name": "stdout",
     "output_type": "stream",
     "text": [
      "CPU times: user 246 ms, sys: 213 ms, total: 459 ms\n",
      "Wall time: 452 ms\n"
     ]
    },
    {
     "data": {
      "text/plain": [
       "LinearRegression()"
      ]
     },
     "execution_count": 98,
     "metadata": {},
     "output_type": "execute_result"
    }
   ],
   "source": [
    "%%time\n",
    "model = LinearRegression()\n",
    "model.fit(features_train_bn_scaled, target_train)"
   ]
  },
  {
   "cell_type": "code",
   "execution_count": 99,
   "metadata": {},
   "outputs": [
    {
     "name": "stdout",
     "output_type": "stream",
     "text": [
      "CPU times: user 34.4 ms, sys: 32.9 ms, total: 67.3 ms\n",
      "Wall time: 22.6 ms\n"
     ]
    }
   ],
   "source": [
    "%%time\n",
    "prediction = model.predict(features_train_bn_scaled)"
   ]
  },
  {
   "cell_type": "markdown",
   "metadata": {},
   "source": [
    "**DecisionTreeRegressor**"
   ]
  },
  {
   "cell_type": "code",
   "execution_count": 100,
   "metadata": {},
   "outputs": [
    {
     "name": "stdout",
     "output_type": "stream",
     "text": [
      "CPU times: user 803 ms, sys: 509 µs, total: 804 ms\n",
      "Wall time: 815 ms\n"
     ]
    },
    {
     "data": {
      "text/plain": [
       "DecisionTreeRegressor(max_depth=13, random_state=12345)"
      ]
     },
     "execution_count": 100,
     "metadata": {},
     "output_type": "execute_result"
    }
   ],
   "source": [
    "%%time\n",
    "model = DecisionTreeRegressor(max_depth=13, random_state=12345)\n",
    "model.fit(features_train_bn_scaled, target_train)\n"
   ]
  },
  {
   "cell_type": "code",
   "execution_count": 101,
   "metadata": {},
   "outputs": [
    {
     "name": "stdout",
     "output_type": "stream",
     "text": [
      "CPU times: user 43.3 ms, sys: 0 ns, total: 43.3 ms\n",
      "Wall time: 41.3 ms\n"
     ]
    }
   ],
   "source": [
    "%%time\n",
    "prediction = model.predict(features_train_bn_scaled)\n"
   ]
  },
  {
   "cell_type": "markdown",
   "metadata": {},
   "source": [
    "**CatBoostRegressor**"
   ]
  },
  {
   "cell_type": "code",
   "execution_count": 104,
   "metadata": {},
   "outputs": [
    {
     "name": "stdout",
     "output_type": "stream",
     "text": [
      "CPU times: user 6.01 s, sys: 0 ns, total: 6.01 s\n",
      "Wall time: 7.31 s\n"
     ]
    },
    {
     "data": {
      "text/plain": [
       "<catboost.core.CatBoostRegressor at 0x7fa5e2421c70>"
      ]
     },
     "execution_count": 104,
     "metadata": {},
     "output_type": "execute_result"
    }
   ],
   "source": [
    "%%time\n",
    "model = CatBoostRegressor(learning_rate= 0.3, iterations = 200,random_state=1122334455, verbose=False)\n",
    "model.fit(features_train_bn, target_train)"
   ]
  },
  {
   "cell_type": "code",
   "execution_count": 105,
   "metadata": {},
   "outputs": [
    {
     "name": "stdout",
     "output_type": "stream",
     "text": [
      "CPU times: user 65.2 ms, sys: 0 ns, total: 65.2 ms\n",
      "Wall time: 74.9 ms\n"
     ]
    }
   ],
   "source": [
    "%%time\n",
    "prediction = model.predict(features_train_bn)\n"
   ]
  },
  {
   "cell_type": "markdown",
   "metadata": {},
   "source": [
    "**LGBMRegressor**"
   ]
  },
  {
   "cell_type": "code",
   "execution_count": 121,
   "metadata": {},
   "outputs": [
    {
     "name": "stdout",
     "output_type": "stream",
     "text": [
      "CPU times: user 1min, sys: 905 ms, total: 1min 1s\n",
      "Wall time: 1min 2s\n"
     ]
    },
    {
     "data": {
      "text/plain": [
       "LGBMRegressor(extra_trees=True, n_estimators=40, num_leaves=18,\n",
       "              random_state=11223344)"
      ]
     },
     "execution_count": 121,
     "metadata": {},
     "output_type": "execute_result"
    }
   ],
   "source": [
    "%%time\n",
    "model = LGBMRegressor(random_state=11223344, num_leaves=18, n_estimators=40, extra_trees = True) \n",
    "model.fit(features_train_bn_scaled, target_train)\n"
   ]
  },
  {
   "cell_type": "code",
   "execution_count": 122,
   "metadata": {},
   "outputs": [
    {
     "name": "stdout",
     "output_type": "stream",
     "text": [
      "CPU times: user 575 ms, sys: 0 ns, total: 575 ms\n",
      "Wall time: 570 ms\n"
     ]
    }
   ],
   "source": [
    "%%time\n",
    "prediction = model.predict(features_train_bn_scaled)\n"
   ]
  },
  {
   "cell_type": "markdown",
   "metadata": {},
   "source": [
    "### Определим лучшее значение RMSE каждой из метрик на валидационной выборке"
   ]
  },
  {
   "cell_type": "markdown",
   "metadata": {},
   "source": [
    "**LinearRegression**"
   ]
  },
  {
   "cell_type": "code",
   "execution_count": 107,
   "metadata": {},
   "outputs": [
    {
     "name": "stdout",
     "output_type": "stream",
     "text": [
      "RMSE = 2650.276085007207\n",
      "CPU times: user 330 ms, sys: 259 ms, total: 590 ms\n",
      "Wall time: 521 ms\n"
     ]
    }
   ],
   "source": [
    "%%time\n",
    "model = LinearRegression()\n",
    "model.fit(features_train_bn_scaled, target_train)\n",
    "prediction = model.predict(features_valid_bn_scaled)\n",
    "MSE = mean_squared_error(target_valid,prediction)\n",
    "print('RMSE =', MSE**0.5)"
   ]
  },
  {
   "cell_type": "markdown",
   "metadata": {},
   "source": [
    "**Lasso**"
   ]
  },
  {
   "cell_type": "code",
   "execution_count": 112,
   "metadata": {},
   "outputs": [
    {
     "name": "stdout",
     "output_type": "stream",
     "text": [
      "RMSE = 2650.2767690539013\n",
      "CPU times: user 4.37 s, sys: 6.63 s, total: 11 s\n",
      "Wall time: 10.9 s\n"
     ]
    }
   ],
   "source": [
    "%%time\n",
    "model = Lasso(alpha=0.1, max_iter=2500, random_state=12345)\n",
    "model.fit(features_train_bn_scaled, target_train)\n",
    "prediction = model_2.predict(features_valid_bn_scaled)\n",
    "MSE = mean_squared_error(target_valid,prediction)\n",
    "print('RMSE =', MSE**0.5)"
   ]
  },
  {
   "cell_type": "markdown",
   "metadata": {},
   "source": [
    "**DecisionTreeRegressor**"
   ]
  },
  {
   "cell_type": "code",
   "execution_count": 113,
   "metadata": {},
   "outputs": [
    {
     "name": "stdout",
     "output_type": "stream",
     "text": [
      "RMSE = 1841.522065657301\n",
      "CPU times: user 841 ms, sys: 0 ns, total: 841 ms\n",
      "Wall time: 863 ms\n"
     ]
    }
   ],
   "source": [
    "%%time\n",
    "model = DecisionTreeRegressor(max_depth=13, random_state=12345)\n",
    "model.fit(features_train_bn_scaled, target_train)\n",
    "prediction = model.predict(features_valid_bn_scaled)\n",
    "MSE = mean_squared_error(target_valid,prediction)\n",
    "print('RMSE =', MSE**0.5)"
   ]
  },
  {
   "cell_type": "markdown",
   "metadata": {},
   "source": [
    "**CatBoostRegressor**"
   ]
  },
  {
   "cell_type": "code",
   "execution_count": 114,
   "metadata": {
    "scrolled": true
   },
   "outputs": [
    {
     "name": "stdout",
     "output_type": "stream",
     "text": [
      "RMSE = 1573.5645694738698\n",
      "CPU times: user 5.79 s, sys: 17.1 ms, total: 5.8 s\n",
      "Wall time: 6.86 s\n"
     ]
    }
   ],
   "source": [
    "%%time\n",
    "model = CatBoostRegressor(learning_rate= 0.3, iterations = 200,random_state=1122334455, verbose=False)\n",
    "model.fit(features_train_bn_scaled, target_train)\n",
    "prediction = model.predict(features_valid_bn_scaled)\n",
    "MSE = mean_squared_error(target_valid,prediction)\n",
    "print('RMSE =', MSE**0.5)"
   ]
  },
  {
   "cell_type": "markdown",
   "metadata": {},
   "source": [
    "**LGBMRegressor**"
   ]
  },
  {
   "cell_type": "code",
   "execution_count": 115,
   "metadata": {},
   "outputs": [
    {
     "name": "stdout",
     "output_type": "stream",
     "text": [
      "RMSE = 1920.901796647258\n",
      "CPU times: user 1min 13s, sys: 1.28 s, total: 1min 14s\n",
      "Wall time: 1min 14s\n"
     ]
    }
   ],
   "source": [
    "%%time\n",
    "model = LGBMRegressor(random_state=11223344, num_leaves=18, n_estimators=40, extra_trees = True) \n",
    "model.fit(features_train_bn_scaled, target_train)\n",
    "prediction = model.predict(features_valid_bn_scaled)\n",
    "MSE = mean_squared_error(target_valid,prediction)\n",
    "print('RMSE =', MSE**0.5)"
   ]
  },
  {
   "cell_type": "code",
   "execution_count": 127,
   "metadata": {},
   "outputs": [
    {
     "data": {
      "text/html": [
       "<div>\n",
       "<style scoped>\n",
       "    .dataframe tbody tr th:only-of-type {\n",
       "        vertical-align: middle;\n",
       "    }\n",
       "\n",
       "    .dataframe tbody tr th {\n",
       "        vertical-align: top;\n",
       "    }\n",
       "\n",
       "    .dataframe thead th {\n",
       "        text-align: right;\n",
       "    }\n",
       "</style>\n",
       "<table border=\"1\" class=\"dataframe\">\n",
       "  <thead>\n",
       "    <tr style=\"text-align: right;\">\n",
       "      <th></th>\n",
       "      <th>Lasso</th>\n",
       "      <th>LinearRegression</th>\n",
       "      <th>DecisionTreeRegressor</th>\n",
       "      <th>CatBoostRegressor</th>\n",
       "      <th>LGBMRegressor</th>\n",
       "    </tr>\n",
       "  </thead>\n",
       "  <tbody>\n",
       "    <tr>\n",
       "      <th>Fit</th>\n",
       "      <td>20.3 s</td>\n",
       "      <td>252 ms</td>\n",
       "      <td>815 ms</td>\n",
       "      <td>7.31 s</td>\n",
       "      <td>1 min 2s</td>\n",
       "    </tr>\n",
       "    <tr>\n",
       "      <th>Predict</th>\n",
       "      <td>29.1 ms</td>\n",
       "      <td>22.6 ms</td>\n",
       "      <td>41.3 ms</td>\n",
       "      <td>74.9 ms</td>\n",
       "      <td>570 ms</td>\n",
       "    </tr>\n",
       "    <tr>\n",
       "      <th>RMSE</th>\n",
       "      <td>2650.27</td>\n",
       "      <td>2650.27</td>\n",
       "      <td>1841.52</td>\n",
       "      <td>1573.57</td>\n",
       "      <td>1920.90</td>\n",
       "    </tr>\n",
       "  </tbody>\n",
       "</table>\n",
       "</div>"
      ],
      "text/plain": [
       "           Lasso LinearRegression DecisionTreeRegressor CatBoostRegressor  \\\n",
       "Fit       20.3 s           252 ms                815 ms            7.31 s   \n",
       "Predict  29.1 ms          22.6 ms               41.3 ms           74.9 ms   \n",
       "RMSE     2650.27          2650.27               1841.52           1573.57   \n",
       "\n",
       "        LGBMRegressor  \n",
       "Fit          1 min 2s  \n",
       "Predict        570 ms  \n",
       "RMSE          1920.90  "
      ]
     },
     "execution_count": 127,
     "metadata": {},
     "output_type": "execute_result"
    }
   ],
   "source": [
    "pd.DataFrame({'Lasso' : ['20.3 s', '29.1 ms', '2650.27'],\n",
    "             'LinearRegression' : ['252 ms', '22.6 ms', '2650.27'],\n",
    "              'DecisionTreeRegressor' : ['815 ms', '41.3 ms', '1841.52'],\n",
    "              'CatBoostRegressor' : ['7.31 s', '74.9 ms', '1573.57'],\n",
    "              'LGBMRegressor' : ['1 min 2s', '570 ms', '1920.90']\n",
    "             \n",
    "             \n",
    "             \n",
    "             }, index = ['Fit','Predict','RMSE'])"
   ]
  },
  {
   "cell_type": "markdown",
   "metadata": {},
   "source": [
    "**По условиям задания значение метрики RMSE должно быть меньше 2500, после прогонки на кросс-валидации тренировочных данных подошли след модели и их гипперпараметры:**\n",
    "- DecisionTreeRegressor(max_depth=13, random_state=12345), RMSE = 1841.52 \n",
    "- CatBoostRegressor(learning_rate= 0.3, iterations = 200,random_state=1122334455, verbose=False), RMSE = 1573.57\n",
    "- LGBMRegressor(random_state=11223344, num_leaves=18, n_estimators=40, extra_trees = True) RMSE = 1920.90 \n",
    "\n",
    "Прогоним тестовые данные для определения лучшей модели"
   ]
  },
  {
   "cell_type": "markdown",
   "metadata": {},
   "source": [
    "Среди 3ех лидеров, по качеству RMSE (валидационная выборка) занимает модель CatBoostRegressor. Прогоним ее на тестовой выборке"
   ]
  },
  {
   "cell_type": "code",
   "execution_count": 65,
   "metadata": {},
   "outputs": [
    {
     "name": "stdout",
     "output_type": "stream",
     "text": [
      "RMSE = 1574.245871163588\n",
      "CPU times: user 4.5 s, sys: 87.9 ms, total: 4.58 s\n",
      "Wall time: 6.99 s\n"
     ]
    }
   ],
   "source": [
    "%%time\n",
    "model = CatBoostRegressor(learning_rate= 0.5, iterations = 200,random_state=1122334455, verbose=False)\n",
    "model.fit(features_train_bn_scaled, target_train)\n",
    "prediction = model.predict(features_test_bn_scaled)\n",
    "MSE = mean_squared_error(target_test,prediction)\n",
    "print('RMSE =', MSE**0.5)"
   ]
  },
  {
   "cell_type": "code",
   "execution_count": 102,
   "metadata": {},
   "outputs": [],
   "source": [
    "a = prediction[:100]\n",
    "b = np.array(target_test[:100])"
   ]
  },
  {
   "cell_type": "code",
   "execution_count": 105,
   "metadata": {},
   "outputs": [
    {
     "data": {
      "text/plain": [
       "[<matplotlib.lines.Line2D at 0x7f91ea686280>]"
      ]
     },
     "execution_count": 105,
     "metadata": {},
     "output_type": "execute_result"
    },
    {
     "data": {
      "image/png": "[encoded data removed]",
      "text/plain": [
       "<Figure size 1080x360 with 1 Axes>"
      ]
     },
     "metadata": {
      "needs_background": "light"
     },
     "output_type": "display_data"
    }
   ],
   "source": [
    "plt.figure(figsize = (15,5))\n",
    "plt.plot(a)\n",
    "plt.plot(b)\n"
   ]
  },
  {
   "cell_type": "markdown",
   "metadata": {},
   "source": [
    "## Общие выводы:\n",
    "Были изучены и подготовлены данные для обучкния и построения моделей. В процессе анализа удалены экстримальные значения и дубликаты, заполнены пропуски. с помошью метода TargetEncoder категориальные данные переведены в числовые.\n",
    "\n",
    "Проведено обучение на след моделях:  \n",
    "- LinearRegression\n",
    "- DecisionTreeRegressor\n",
    "- CatBoostRegressor\n",
    "- LGBMRegressor\n",
    "- Lasso\n",
    "\n",
    "По условию задания, после обучения и предсказания каждой модели выводилось время\n",
    "\n",
    "Лучше значение по метрике RMSE - 1574.24 , после прогонки на тестовой выборке показала модель CatBoostRegressor\n",
    "Самое быстрое время обучения и предсказания показала модель DecisionTreeRegressor\t\n",
    "\n"
   ]
  },
  {
   "cell_type": "code",
   "execution_count": null,
   "metadata": {},
   "outputs": [],
   "source": []
  }
 ],
 "metadata": {
  "ExecuteTimeLog": [
   {
    "duration": 759,
    "start_time": "2023-08-24T16:16:25.110Z"
   },
   {
    "duration": 1771,
    "start_time": "2023-08-26T19:41:19.387Z"
   },
   {
    "duration": 3279,
    "start_time": "2023-08-26T19:41:35.621Z"
   },
   {
    "duration": 19,
    "start_time": "2023-08-26T19:41:47.038Z"
   },
   {
    "duration": 26,
    "start_time": "2023-08-26T21:24:51.529Z"
   },
   {
    "duration": 850,
    "start_time": "2023-08-26T21:24:52.615Z"
   },
   {
    "duration": 20,
    "start_time": "2023-08-26T21:24:54.085Z"
   },
   {
    "duration": 4,
    "start_time": "2023-08-26T21:25:11.618Z"
   },
   {
    "duration": 118,
    "start_time": "2023-08-26T21:25:21.357Z"
   },
   {
    "duration": 605,
    "start_time": "2023-08-26T21:25:34.591Z"
   },
   {
    "duration": 101,
    "start_time": "2023-08-26T21:26:07.399Z"
   },
   {
    "duration": 10,
    "start_time": "2023-08-26T21:26:29.199Z"
   },
   {
    "duration": 166,
    "start_time": "2023-08-26T21:26:49.206Z"
   },
   {
    "duration": 438,
    "start_time": "2023-08-26T21:26:56.345Z"
   },
   {
    "duration": 540,
    "start_time": "2023-08-26T21:27:23.614Z"
   },
   {
    "duration": 89,
    "start_time": "2023-08-26T21:27:49.092Z"
   },
   {
    "duration": 439,
    "start_time": "2023-08-26T21:27:56.089Z"
   },
   {
    "duration": 130,
    "start_time": "2023-08-26T21:28:24.497Z"
   },
   {
    "duration": 369,
    "start_time": "2023-08-26T21:28:34.520Z"
   },
   {
    "duration": 14,
    "start_time": "2023-08-26T21:28:55.320Z"
   },
   {
    "duration": 27,
    "start_time": "2023-08-26T21:29:36.972Z"
   },
   {
    "duration": 109,
    "start_time": "2023-08-26T21:29:45.508Z"
   },
   {
    "duration": 14,
    "start_time": "2023-08-26T21:30:03.163Z"
   },
   {
    "duration": 3,
    "start_time": "2023-08-26T21:30:09.316Z"
   },
   {
    "duration": 138334,
    "start_time": "2023-08-26T21:30:17.154Z"
   },
   {
    "duration": 31,
    "start_time": "2023-08-26T21:33:49.766Z"
   },
   {
    "duration": 27,
    "start_time": "2023-08-26T21:33:53.068Z"
   },
   {
    "duration": 14,
    "start_time": "2023-08-26T21:33:54.905Z"
   },
   {
    "duration": 3,
    "start_time": "2023-08-26T21:33:56.543Z"
   },
   {
    "duration": 345050,
    "start_time": "2023-08-26T21:33:58.140Z"
   },
   {
    "duration": 26,
    "start_time": "2023-08-26T21:39:43.192Z"
   },
   {
    "duration": 41,
    "start_time": "2023-08-26T21:39:43.220Z"
   },
   {
    "duration": 113,
    "start_time": "2023-08-26T21:39:43.263Z"
   },
   {
    "duration": 0,
    "start_time": "2023-08-26T21:39:43.378Z"
   },
   {
    "duration": 0,
    "start_time": "2023-08-26T21:39:43.379Z"
   },
   {
    "duration": 0,
    "start_time": "2023-08-26T21:39:43.381Z"
   },
   {
    "duration": 0,
    "start_time": "2023-08-26T21:39:43.382Z"
   },
   {
    "duration": 0,
    "start_time": "2023-08-26T21:39:43.384Z"
   },
   {
    "duration": 0,
    "start_time": "2023-08-26T21:39:43.385Z"
   },
   {
    "duration": 13,
    "start_time": "2023-08-26T21:39:57.163Z"
   },
   {
    "duration": 23,
    "start_time": "2023-08-26T21:39:57.590Z"
   },
   {
    "duration": 25,
    "start_time": "2023-08-26T21:39:59.003Z"
   },
   {
    "duration": 157,
    "start_time": "2023-08-26T21:39:59.445Z"
   },
   {
    "duration": 15,
    "start_time": "2023-08-26T21:40:00.009Z"
   },
   {
    "duration": 13,
    "start_time": "2023-08-26T21:40:07.227Z"
   },
   {
    "duration": 24,
    "start_time": "2023-08-26T21:40:07.827Z"
   },
   {
    "duration": 72,
    "start_time": "2023-08-26T21:40:08.762Z"
   },
   {
    "duration": 60,
    "start_time": "2023-08-26T21:40:09.135Z"
   },
   {
    "duration": 48,
    "start_time": "2023-08-26T21:40:09.458Z"
   },
   {
    "duration": 208,
    "start_time": "2023-08-26T21:40:10.387Z"
   },
   {
    "duration": 220,
    "start_time": "2023-08-26T21:40:10.680Z"
   },
   {
    "duration": 14,
    "start_time": "2023-08-26T21:40:11.648Z"
   },
   {
    "duration": 3,
    "start_time": "2023-08-26T21:40:11.987Z"
   },
   {
    "duration": 53,
    "start_time": "2023-08-26T21:40:12.268Z"
   },
   {
    "duration": 11,
    "start_time": "2023-08-26T21:40:12.517Z"
   },
   {
    "duration": 19,
    "start_time": "2023-08-26T21:40:12.821Z"
   },
   {
    "duration": 4,
    "start_time": "2023-08-26T21:40:13.184Z"
   },
   {
    "duration": 543,
    "start_time": "2023-08-26T21:40:13.837Z"
   },
   {
    "duration": 10,
    "start_time": "2023-08-26T21:40:14.382Z"
   },
   {
    "duration": 1140,
    "start_time": "2023-08-26T21:40:14.501Z"
   },
   {
    "duration": 110,
    "start_time": "2023-08-26T21:40:15.643Z"
   },
   {
    "duration": 50,
    "start_time": "2023-08-26T21:40:15.784Z"
   },
   {
    "duration": 44,
    "start_time": "2023-08-26T21:40:42.174Z"
   },
   {
    "duration": 189,
    "start_time": "2023-08-26T21:41:01.373Z"
   },
   {
    "duration": 1963,
    "start_time": "2023-08-26T21:41:26.096Z"
   },
   {
    "duration": 52,
    "start_time": "2023-08-26T21:41:56.750Z"
   },
   {
    "duration": 106,
    "start_time": "2023-08-26T21:42:06.655Z"
   },
   {
    "duration": 28441,
    "start_time": "2023-08-26T21:42:16.601Z"
   },
   {
    "duration": 68,
    "start_time": "2023-08-26T21:44:19.576Z"
   },
   {
    "duration": 61,
    "start_time": "2023-08-26T21:44:29.808Z"
   },
   {
    "duration": 68,
    "start_time": "2023-08-26T21:44:42.525Z"
   },
   {
    "duration": 29035,
    "start_time": "2023-08-26T21:45:24.436Z"
   },
   {
    "duration": 5,
    "start_time": "2023-08-26T21:47:32.761Z"
   },
   {
    "duration": 16234,
    "start_time": "2023-08-26T21:47:44.626Z"
   },
   {
    "duration": 16212,
    "start_time": "2023-08-26T21:48:39.754Z"
   },
   {
    "duration": 23728,
    "start_time": "2023-08-26T21:51:31.539Z"
   },
   {
    "duration": 187506,
    "start_time": "2023-08-26T21:57:03.364Z"
   },
   {
    "duration": 480637,
    "start_time": "2023-08-26T22:01:03.748Z"
   },
   {
    "duration": 117,
    "start_time": "2023-08-26T22:15:31.486Z"
   },
   {
    "duration": 114,
    "start_time": "2023-08-26T22:17:11.000Z"
   },
   {
    "duration": 535,
    "start_time": "2023-08-26T22:24:29.904Z"
   },
   {
    "duration": 528,
    "start_time": "2023-08-26T22:25:33.080Z"
   },
   {
    "duration": 543,
    "start_time": "2023-08-26T22:25:52.676Z"
   },
   {
    "duration": 555,
    "start_time": "2023-08-26T22:26:08.156Z"
   },
   {
    "duration": 7,
    "start_time": "2023-08-26T22:26:21.835Z"
   },
   {
    "duration": 6,
    "start_time": "2023-08-26T22:26:47.087Z"
   },
   {
    "duration": 526,
    "start_time": "2023-08-26T22:26:54.421Z"
   },
   {
    "duration": 537,
    "start_time": "2023-08-26T22:27:02.106Z"
   },
   {
    "duration": 514,
    "start_time": "2023-08-26T22:27:09.316Z"
   },
   {
    "duration": 146,
    "start_time": "2023-08-26T22:27:43.573Z"
   },
   {
    "duration": 526,
    "start_time": "2023-08-26T22:27:47.079Z"
   },
   {
    "duration": 125,
    "start_time": "2023-08-26T22:29:56.025Z"
   },
   {
    "duration": 522,
    "start_time": "2023-08-26T22:30:35.358Z"
   },
   {
    "duration": 7337,
    "start_time": "2023-08-26T22:30:53.489Z"
   },
   {
    "duration": 7314,
    "start_time": "2023-08-26T22:31:16.990Z"
   },
   {
    "duration": 7262,
    "start_time": "2023-08-26T22:33:31.173Z"
   },
   {
    "duration": 7094,
    "start_time": "2023-08-26T22:33:45.881Z"
   },
   {
    "duration": 15,
    "start_time": "2023-08-26T22:34:32.955Z"
   },
   {
    "duration": 15,
    "start_time": "2023-08-26T22:34:35.685Z"
   },
   {
    "duration": 7150,
    "start_time": "2023-08-26T22:35:36.126Z"
   },
   {
    "duration": 7239,
    "start_time": "2023-08-26T22:36:44.164Z"
   },
   {
    "duration": 5,
    "start_time": "2023-08-26T22:36:56.308Z"
   },
   {
    "duration": 5,
    "start_time": "2023-08-26T22:37:09.180Z"
   },
   {
    "duration": 394,
    "start_time": "2023-08-26T22:38:47.060Z"
   },
   {
    "duration": 347,
    "start_time": "2023-08-26T22:39:11.845Z"
   },
   {
    "duration": 597,
    "start_time": "2023-08-26T22:39:22.637Z"
   },
   {
    "duration": 356,
    "start_time": "2023-08-26T22:39:29.370Z"
   },
   {
    "duration": 1094,
    "start_time": "2023-08-26T22:46:29.175Z"
   },
   {
    "duration": 105,
    "start_time": "2023-08-26T22:47:20.905Z"
   },
   {
    "duration": 157,
    "start_time": "2023-08-26T22:48:14.234Z"
   },
   {
    "duration": 1636,
    "start_time": "2023-08-26T22:54:22.638Z"
   },
   {
    "duration": 835,
    "start_time": "2023-08-26T22:54:24.277Z"
   },
   {
    "duration": 18,
    "start_time": "2023-08-26T22:54:25.114Z"
   },
   {
    "duration": 4,
    "start_time": "2023-08-26T22:54:25.134Z"
   },
   {
    "duration": 124,
    "start_time": "2023-08-26T22:54:25.159Z"
   },
   {
    "duration": 655,
    "start_time": "2023-08-26T22:54:25.285Z"
   },
   {
    "duration": 134,
    "start_time": "2023-08-26T22:54:25.942Z"
   },
   {
    "duration": 9,
    "start_time": "2023-08-26T22:54:26.078Z"
   },
   {
    "duration": 184,
    "start_time": "2023-08-26T22:54:26.089Z"
   },
   {
    "duration": 416,
    "start_time": "2023-08-26T22:54:26.275Z"
   },
   {
    "duration": 478,
    "start_time": "2023-08-26T22:54:26.693Z"
   },
   {
    "duration": 116,
    "start_time": "2023-08-26T22:54:27.173Z"
   },
   {
    "duration": 438,
    "start_time": "2023-08-26T22:54:27.291Z"
   },
   {
    "duration": 148,
    "start_time": "2023-08-26T22:54:27.732Z"
   },
   {
    "duration": 367,
    "start_time": "2023-08-26T22:54:27.881Z"
   },
   {
    "duration": 16,
    "start_time": "2023-08-26T22:54:28.250Z"
   },
   {
    "duration": 26,
    "start_time": "2023-08-26T22:54:28.268Z"
   },
   {
    "duration": 13,
    "start_time": "2023-08-26T22:54:28.296Z"
   },
   {
    "duration": 9,
    "start_time": "2023-08-26T22:54:28.310Z"
   },
   {
    "duration": 141033,
    "start_time": "2023-08-26T22:54:28.320Z"
   },
   {
    "duration": 26,
    "start_time": "2023-08-26T22:56:49.355Z"
   },
   {
    "duration": 30,
    "start_time": "2023-08-26T22:56:49.382Z"
   },
   {
    "duration": 13,
    "start_time": "2023-08-26T22:56:49.414Z"
   },
   {
    "duration": 28,
    "start_time": "2023-08-26T22:56:49.429Z"
   },
   {
    "duration": 358936,
    "start_time": "2023-08-26T22:56:49.459Z"
   },
   {
    "duration": 25,
    "start_time": "2023-08-26T23:02:48.397Z"
   },
   {
    "duration": 40,
    "start_time": "2023-08-26T23:02:48.423Z"
   },
   {
    "duration": 16,
    "start_time": "2023-08-26T23:02:48.465Z"
   },
   {
    "duration": 30,
    "start_time": "2023-08-26T23:02:48.482Z"
   },
   {
    "duration": 31,
    "start_time": "2023-08-26T23:02:48.513Z"
   },
   {
    "duration": 22,
    "start_time": "2023-08-26T23:02:48.545Z"
   },
   {
    "duration": 54,
    "start_time": "2023-08-26T23:02:48.569Z"
   },
   {
    "duration": 77,
    "start_time": "2023-08-26T23:02:48.624Z"
   },
   {
    "duration": 66,
    "start_time": "2023-08-26T23:02:48.703Z"
   },
   {
    "duration": 49,
    "start_time": "2023-08-26T23:02:48.770Z"
   },
   {
    "duration": 249,
    "start_time": "2023-08-26T23:02:48.821Z"
   },
   {
    "duration": 233,
    "start_time": "2023-08-26T23:02:49.072Z"
   },
   {
    "duration": 14,
    "start_time": "2023-08-26T23:02:49.307Z"
   },
   {
    "duration": 6,
    "start_time": "2023-08-26T23:02:49.323Z"
   },
   {
    "duration": 68,
    "start_time": "2023-08-26T23:02:49.330Z"
   },
   {
    "duration": 10,
    "start_time": "2023-08-26T23:02:49.402Z"
   },
   {
    "duration": 36,
    "start_time": "2023-08-26T23:02:49.414Z"
   },
   {
    "duration": 3,
    "start_time": "2023-08-26T23:02:49.452Z"
   },
   {
    "duration": 451,
    "start_time": "2023-08-26T23:02:49.459Z"
   },
   {
    "duration": 13,
    "start_time": "2023-08-26T23:02:49.912Z"
   },
   {
    "duration": 1143,
    "start_time": "2023-08-26T23:02:49.926Z"
   },
   {
    "duration": 53,
    "start_time": "2023-08-26T23:02:51.071Z"
   },
   {
    "duration": 71,
    "start_time": "2023-08-26T23:02:51.126Z"
   },
   {
    "duration": 1931,
    "start_time": "2023-08-26T23:02:51.260Z"
   },
   {
    "duration": 140,
    "start_time": "2023-08-26T23:02:53.260Z"
   },
   {
    "duration": 79,
    "start_time": "2023-08-26T23:02:53.403Z"
   },
   {
    "duration": 28428,
    "start_time": "2023-08-26T23:02:53.560Z"
   },
   {
    "duration": 29185,
    "start_time": "2023-08-26T23:03:21.990Z"
   },
   {
    "duration": 16383,
    "start_time": "2023-08-26T23:03:51.177Z"
   },
   {
    "duration": 22010,
    "start_time": "2023-08-26T23:04:07.562Z"
   },
   {
    "duration": 582,
    "start_time": "2023-08-26T23:04:29.574Z"
   },
   {
    "duration": 7330,
    "start_time": "2023-08-26T23:04:30.159Z"
   },
   {
    "duration": 5074,
    "start_time": "2023-08-26T23:04:37.490Z"
   },
   {
    "duration": 160,
    "start_time": "2023-08-27T08:40:03.013Z"
   },
   {
    "duration": 43,
    "start_time": "2023-08-27T08:41:42.897Z"
   },
   {
    "duration": 1648,
    "start_time": "2023-08-27T08:41:48.464Z"
   },
   {
    "duration": 1152,
    "start_time": "2023-08-27T08:41:50.114Z"
   },
   {
    "duration": 16,
    "start_time": "2023-08-27T08:41:51.268Z"
   },
   {
    "duration": 8,
    "start_time": "2023-08-27T08:41:51.286Z"
   },
   {
    "duration": 132,
    "start_time": "2023-08-27T08:41:51.296Z"
   },
   {
    "duration": 662,
    "start_time": "2023-08-27T08:41:51.430Z"
   },
   {
    "duration": 133,
    "start_time": "2023-08-27T08:41:52.094Z"
   },
   {
    "duration": 182,
    "start_time": "2023-08-27T08:41:52.229Z"
   },
   {
    "duration": 192,
    "start_time": "2023-08-27T08:41:52.413Z"
   },
   {
    "duration": 435,
    "start_time": "2023-08-27T08:41:52.607Z"
   },
   {
    "duration": 450,
    "start_time": "2023-08-27T08:41:53.044Z"
   },
   {
    "duration": 94,
    "start_time": "2023-08-27T08:41:53.496Z"
   },
   {
    "duration": 453,
    "start_time": "2023-08-27T08:41:53.592Z"
   },
   {
    "duration": 131,
    "start_time": "2023-08-27T08:41:54.048Z"
   },
   {
    "duration": 345,
    "start_time": "2023-08-27T08:41:54.181Z"
   },
   {
    "duration": 16,
    "start_time": "2023-08-27T08:41:54.528Z"
   },
   {
    "duration": 36,
    "start_time": "2023-08-27T08:41:54.545Z"
   },
   {
    "duration": 21,
    "start_time": "2023-08-27T08:41:54.583Z"
   },
   {
    "duration": 4,
    "start_time": "2023-08-27T08:41:54.605Z"
   },
   {
    "duration": 14731,
    "start_time": "2023-08-27T08:41:54.611Z"
   },
   {
    "duration": 27,
    "start_time": "2023-08-27T08:42:09.343Z"
   },
   {
    "duration": 303,
    "start_time": "2023-08-27T08:42:09.371Z"
   },
   {
    "duration": 208,
    "start_time": "2023-08-27T08:42:09.675Z"
   },
   {
    "duration": 143,
    "start_time": "2023-08-27T08:42:09.884Z"
   },
   {
    "duration": 1509,
    "start_time": "2023-08-27T08:44:03.703Z"
   },
   {
    "duration": 820,
    "start_time": "2023-08-27T08:44:05.214Z"
   },
   {
    "duration": 15,
    "start_time": "2023-08-27T08:44:06.036Z"
   },
   {
    "duration": 13,
    "start_time": "2023-08-27T08:44:06.053Z"
   },
   {
    "duration": 146,
    "start_time": "2023-08-27T08:44:06.067Z"
   },
   {
    "duration": 625,
    "start_time": "2023-08-27T08:44:06.214Z"
   },
   {
    "duration": 131,
    "start_time": "2023-08-27T08:44:06.841Z"
   },
   {
    "duration": 8,
    "start_time": "2023-08-27T08:44:06.973Z"
   },
   {
    "duration": 169,
    "start_time": "2023-08-27T08:44:06.982Z"
   },
   {
    "duration": 391,
    "start_time": "2023-08-27T08:44:07.154Z"
   },
   {
    "duration": 430,
    "start_time": "2023-08-27T08:44:07.546Z"
   },
   {
    "duration": 95,
    "start_time": "2023-08-27T08:44:07.978Z"
   },
   {
    "duration": 409,
    "start_time": "2023-08-27T08:44:08.075Z"
   },
   {
    "duration": 138,
    "start_time": "2023-08-27T08:44:08.486Z"
   },
   {
    "duration": 348,
    "start_time": "2023-08-27T08:44:08.626Z"
   },
   {
    "duration": 16,
    "start_time": "2023-08-27T08:44:08.976Z"
   },
   {
    "duration": 132,
    "start_time": "2023-08-27T08:44:08.994Z"
   },
   {
    "duration": 79,
    "start_time": "2023-08-27T08:44:09.128Z"
   },
   {
    "duration": 8,
    "start_time": "2023-08-27T08:44:09.209Z"
   },
   {
    "duration": 137915,
    "start_time": "2023-08-27T08:44:09.219Z"
   },
   {
    "duration": 30,
    "start_time": "2023-08-27T08:46:27.135Z"
   },
   {
    "duration": 44,
    "start_time": "2023-08-27T08:46:27.167Z"
   },
   {
    "duration": 19,
    "start_time": "2023-08-27T08:46:27.214Z"
   },
   {
    "duration": 9,
    "start_time": "2023-08-27T08:46:27.235Z"
   },
   {
    "duration": 342238,
    "start_time": "2023-08-27T08:46:27.245Z"
   },
   {
    "duration": 27,
    "start_time": "2023-08-27T08:52:09.484Z"
   },
   {
    "duration": 26,
    "start_time": "2023-08-27T08:52:09.523Z"
   },
   {
    "duration": 14,
    "start_time": "2023-08-27T08:52:09.553Z"
   },
   {
    "duration": 28,
    "start_time": "2023-08-27T08:52:09.569Z"
   },
   {
    "duration": 44,
    "start_time": "2023-08-27T08:52:09.598Z"
   },
   {
    "duration": 17,
    "start_time": "2023-08-27T08:52:09.643Z"
   },
   {
    "duration": 31,
    "start_time": "2023-08-27T08:52:09.662Z"
   },
   {
    "duration": 85,
    "start_time": "2023-08-27T08:52:09.695Z"
   },
   {
    "duration": 64,
    "start_time": "2023-08-27T08:52:09.782Z"
   },
   {
    "duration": 49,
    "start_time": "2023-08-27T08:52:09.848Z"
   },
   {
    "duration": 220,
    "start_time": "2023-08-27T08:52:09.898Z"
   },
   {
    "duration": 228,
    "start_time": "2023-08-27T08:52:10.120Z"
   },
   {
    "duration": 26,
    "start_time": "2023-08-27T08:52:10.350Z"
   },
   {
    "duration": 14,
    "start_time": "2023-08-27T08:52:10.378Z"
   },
   {
    "duration": 3,
    "start_time": "2023-08-27T08:52:10.393Z"
   },
   {
    "duration": 87,
    "start_time": "2023-08-27T08:52:10.397Z"
   },
   {
    "duration": 9,
    "start_time": "2023-08-27T08:52:10.485Z"
   },
   {
    "duration": 31,
    "start_time": "2023-08-27T08:52:10.495Z"
   },
   {
    "duration": 3,
    "start_time": "2023-08-27T08:52:10.527Z"
   },
   {
    "duration": 465,
    "start_time": "2023-08-27T08:52:10.531Z"
   },
   {
    "duration": 9,
    "start_time": "2023-08-27T08:52:10.997Z"
   },
   {
    "duration": 1082,
    "start_time": "2023-08-27T08:52:11.008Z"
   },
   {
    "duration": 45,
    "start_time": "2023-08-27T08:52:12.091Z"
   },
   {
    "duration": 89,
    "start_time": "2023-08-27T08:52:12.137Z"
   },
   {
    "duration": 1995,
    "start_time": "2023-08-27T08:52:12.228Z"
   },
   {
    "duration": 134,
    "start_time": "2023-08-27T08:52:14.226Z"
   },
   {
    "duration": 270,
    "start_time": "2023-08-27T08:52:14.362Z"
   },
   {
    "duration": 27183,
    "start_time": "2023-08-27T08:52:14.634Z"
   },
   {
    "duration": 27038,
    "start_time": "2023-08-27T08:52:41.819Z"
   },
   {
    "duration": 15873,
    "start_time": "2023-08-27T08:53:08.858Z"
   },
   {
    "duration": 20392,
    "start_time": "2023-08-27T08:53:24.734Z"
   },
   {
    "duration": 509,
    "start_time": "2023-08-27T08:53:45.128Z"
   },
   {
    "duration": 6322,
    "start_time": "2023-08-27T08:53:45.639Z"
   },
   {
    "duration": 4870,
    "start_time": "2023-08-27T08:53:51.963Z"
   },
   {
    "duration": 30,
    "start_time": "2023-08-27T08:58:05.529Z"
   },
   {
    "duration": 110,
    "start_time": "2023-08-27T08:58:24.983Z"
   },
   {
    "duration": 10,
    "start_time": "2023-08-27T09:00:24.861Z"
   },
   {
    "duration": 18379,
    "start_time": "2023-08-27T09:01:06.669Z"
   },
   {
    "duration": 1111,
    "start_time": "2023-08-27T09:01:44.003Z"
   },
   {
    "duration": 10,
    "start_time": "2023-08-27T09:02:36.393Z"
   },
   {
    "duration": 25112,
    "start_time": "2023-08-27T09:02:43.834Z"
   },
   {
    "duration": 2656,
    "start_time": "2023-08-27T09:04:18.016Z"
   },
   {
    "duration": 5,
    "start_time": "2023-08-27T09:04:20.675Z"
   },
   {
    "duration": 809,
    "start_time": "2023-08-27T09:04:20.681Z"
   },
   {
    "duration": 13,
    "start_time": "2023-08-27T09:04:21.492Z"
   },
   {
    "duration": 20,
    "start_time": "2023-08-27T09:04:21.507Z"
   },
   {
    "duration": 12,
    "start_time": "2023-08-27T09:04:21.528Z"
   },
   {
    "duration": 126,
    "start_time": "2023-08-27T09:04:21.542Z"
   },
   {
    "duration": 542,
    "start_time": "2023-08-27T09:04:21.670Z"
   },
   {
    "duration": 128,
    "start_time": "2023-08-27T09:04:22.214Z"
   },
   {
    "duration": 121,
    "start_time": "2023-08-27T09:04:22.343Z"
   },
   {
    "duration": 178,
    "start_time": "2023-08-27T09:04:22.466Z"
   },
   {
    "duration": 385,
    "start_time": "2023-08-27T09:04:22.645Z"
   },
   {
    "duration": 369,
    "start_time": "2023-08-27T09:04:23.032Z"
   },
   {
    "duration": 86,
    "start_time": "2023-08-27T09:04:23.404Z"
   },
   {
    "duration": 853,
    "start_time": "2023-08-27T09:04:23.491Z"
   },
   {
    "duration": 124,
    "start_time": "2023-08-27T09:04:24.347Z"
   },
   {
    "duration": 336,
    "start_time": "2023-08-27T09:04:24.473Z"
   },
   {
    "duration": 17,
    "start_time": "2023-08-27T09:04:24.811Z"
   },
   {
    "duration": 34,
    "start_time": "2023-08-27T09:04:24.830Z"
   },
   {
    "duration": 42,
    "start_time": "2023-08-27T09:04:24.865Z"
   },
   {
    "duration": 2736,
    "start_time": "2023-08-27T09:04:48.301Z"
   },
   {
    "duration": 4,
    "start_time": "2023-08-27T09:04:51.039Z"
   },
   {
    "duration": 777,
    "start_time": "2023-08-27T09:04:51.045Z"
   },
   {
    "duration": 13,
    "start_time": "2023-08-27T09:04:51.824Z"
   },
   {
    "duration": 58,
    "start_time": "2023-08-27T09:04:51.839Z"
   },
   {
    "duration": 34667,
    "start_time": "2023-08-27T09:04:51.899Z"
   },
   {
    "duration": 4,
    "start_time": "2023-08-27T09:05:26.568Z"
   },
   {
    "duration": 210,
    "start_time": "2023-08-27T09:05:26.573Z"
   },
   {
    "duration": 590,
    "start_time": "2023-08-27T09:05:26.785Z"
   },
   {
    "duration": 119,
    "start_time": "2023-08-27T09:05:27.379Z"
   },
   {
    "duration": 23,
    "start_time": "2023-08-27T09:05:27.499Z"
   },
   {
    "duration": 143,
    "start_time": "2023-08-27T09:05:27.523Z"
   },
   {
    "duration": 359,
    "start_time": "2023-08-27T09:05:27.668Z"
   },
   {
    "duration": 346,
    "start_time": "2023-08-27T09:05:28.029Z"
   },
   {
    "duration": 84,
    "start_time": "2023-08-27T09:05:28.377Z"
   },
   {
    "duration": 386,
    "start_time": "2023-08-27T09:05:28.463Z"
   },
   {
    "duration": 120,
    "start_time": "2023-08-27T09:05:28.850Z"
   },
   {
    "duration": 338,
    "start_time": "2023-08-27T09:05:28.972Z"
   },
   {
    "duration": 17,
    "start_time": "2023-08-27T09:05:29.311Z"
   },
   {
    "duration": 27,
    "start_time": "2023-08-27T09:05:29.330Z"
   },
   {
    "duration": 84,
    "start_time": "2023-08-27T09:09:52.964Z"
   },
   {
    "duration": 15,
    "start_time": "2023-08-27T09:11:27.280Z"
   },
   {
    "duration": 36,
    "start_time": "2023-08-27T09:11:54.752Z"
   },
   {
    "duration": 2638,
    "start_time": "2023-08-27T09:12:30.496Z"
   },
   {
    "duration": 5,
    "start_time": "2023-08-27T09:12:33.136Z"
   },
   {
    "duration": 697,
    "start_time": "2023-08-27T09:12:33.142Z"
   },
   {
    "duration": 13,
    "start_time": "2023-08-27T09:12:33.841Z"
   },
   {
    "duration": 10,
    "start_time": "2023-08-27T09:12:33.855Z"
   },
   {
    "duration": 35501,
    "start_time": "2023-08-27T09:12:33.867Z"
   },
   {
    "duration": 3,
    "start_time": "2023-08-27T09:13:09.370Z"
   },
   {
    "duration": 202,
    "start_time": "2023-08-27T09:13:09.374Z"
   },
   {
    "duration": 572,
    "start_time": "2023-08-27T09:13:09.578Z"
   },
   {
    "duration": 123,
    "start_time": "2023-08-27T09:13:10.153Z"
   },
   {
    "duration": 8,
    "start_time": "2023-08-27T09:13:10.278Z"
   },
   {
    "duration": 144,
    "start_time": "2023-08-27T09:13:10.288Z"
   },
   {
    "duration": 364,
    "start_time": "2023-08-27T09:13:10.434Z"
   },
   {
    "duration": 957,
    "start_time": "2023-08-27T09:13:10.799Z"
   },
   {
    "duration": 81,
    "start_time": "2023-08-27T09:13:11.757Z"
   },
   {
    "duration": 396,
    "start_time": "2023-08-27T09:13:11.840Z"
   },
   {
    "duration": 121,
    "start_time": "2023-08-27T09:13:12.238Z"
   },
   {
    "duration": 353,
    "start_time": "2023-08-27T09:13:12.361Z"
   },
   {
    "duration": 17,
    "start_time": "2023-08-27T09:13:12.715Z"
   },
   {
    "duration": 31,
    "start_time": "2023-08-27T09:13:12.734Z"
   },
   {
    "duration": 37,
    "start_time": "2023-08-27T09:13:12.767Z"
   },
   {
    "duration": 12,
    "start_time": "2023-08-27T09:13:12.807Z"
   },
   {
    "duration": 135679,
    "start_time": "2023-08-27T09:13:12.821Z"
   },
   {
    "duration": 30,
    "start_time": "2023-08-27T09:15:28.502Z"
   },
   {
    "duration": 29,
    "start_time": "2023-08-27T09:15:28.533Z"
   },
   {
    "duration": 14,
    "start_time": "2023-08-27T09:15:28.564Z"
   },
   {
    "duration": 3,
    "start_time": "2023-08-27T09:15:28.580Z"
   },
   {
    "duration": 332169,
    "start_time": "2023-08-27T09:15:28.586Z"
   },
   {
    "duration": 29,
    "start_time": "2023-08-27T09:21:00.756Z"
   },
   {
    "duration": 121,
    "start_time": "2023-08-27T09:21:00.786Z"
   },
   {
    "duration": 98,
    "start_time": "2023-08-27T09:21:00.909Z"
   },
   {
    "duration": 118,
    "start_time": "2023-08-27T09:21:01.009Z"
   },
   {
    "duration": 142,
    "start_time": "2023-08-27T09:21:01.129Z"
   },
   {
    "duration": 33,
    "start_time": "2023-08-27T09:21:01.273Z"
   },
   {
    "duration": 52,
    "start_time": "2023-08-27T09:21:01.307Z"
   },
   {
    "duration": 96,
    "start_time": "2023-08-27T09:21:01.361Z"
   },
   {
    "duration": 55,
    "start_time": "2023-08-27T09:21:23.149Z"
   },
   {
    "duration": 46,
    "start_time": "2023-08-27T09:21:23.782Z"
   },
   {
    "duration": 46,
    "start_time": "2023-08-27T09:21:24.357Z"
   },
   {
    "duration": 164,
    "start_time": "2023-08-27T09:21:25.333Z"
   },
   {
    "duration": 223,
    "start_time": "2023-08-27T09:21:29.013Z"
   },
   {
    "duration": 6,
    "start_time": "2023-08-27T09:22:04.101Z"
   },
   {
    "duration": 6,
    "start_time": "2023-08-27T09:22:13.836Z"
   },
   {
    "duration": 4,
    "start_time": "2023-08-27T09:22:28.996Z"
   },
   {
    "duration": 6,
    "start_time": "2023-08-27T09:22:32.444Z"
   },
   {
    "duration": 2913,
    "start_time": "2023-08-27T09:22:43.777Z"
   },
   {
    "duration": 4,
    "start_time": "2023-08-27T09:22:46.693Z"
   },
   {
    "duration": 712,
    "start_time": "2023-08-27T09:22:46.699Z"
   },
   {
    "duration": 17,
    "start_time": "2023-08-27T09:22:47.413Z"
   },
   {
    "duration": 4,
    "start_time": "2023-08-27T09:22:47.431Z"
   },
   {
    "duration": 4,
    "start_time": "2023-08-27T09:22:47.436Z"
   },
   {
    "duration": 5,
    "start_time": "2023-08-27T09:22:47.442Z"
   },
   {
    "duration": 145,
    "start_time": "2023-08-27T09:22:47.448Z"
   },
   {
    "duration": 580,
    "start_time": "2023-08-27T09:22:47.595Z"
   },
   {
    "duration": 123,
    "start_time": "2023-08-27T09:22:48.179Z"
   },
   {
    "duration": 20,
    "start_time": "2023-08-27T09:22:48.304Z"
   },
   {
    "duration": 140,
    "start_time": "2023-08-27T09:22:48.326Z"
   },
   {
    "duration": 383,
    "start_time": "2023-08-27T09:22:48.467Z"
   },
   {
    "duration": 376,
    "start_time": "2023-08-27T09:22:48.851Z"
   },
   {
    "duration": 70,
    "start_time": "2023-08-27T09:22:49.229Z"
   },
   {
    "duration": 408,
    "start_time": "2023-08-27T09:22:49.301Z"
   },
   {
    "duration": 127,
    "start_time": "2023-08-27T09:22:49.710Z"
   },
   {
    "duration": 349,
    "start_time": "2023-08-27T09:22:49.839Z"
   },
   {
    "duration": 15,
    "start_time": "2023-08-27T09:22:50.189Z"
   },
   {
    "duration": 44,
    "start_time": "2023-08-27T09:22:50.205Z"
   },
   {
    "duration": 49,
    "start_time": "2023-08-27T09:22:50.251Z"
   },
   {
    "duration": 18,
    "start_time": "2023-08-27T09:22:50.302Z"
   },
   {
    "duration": 135674,
    "start_time": "2023-08-27T09:22:50.323Z"
   },
   {
    "duration": 37,
    "start_time": "2023-08-27T09:25:06.000Z"
   },
   {
    "duration": 35,
    "start_time": "2023-08-27T09:25:06.039Z"
   },
   {
    "duration": 36,
    "start_time": "2023-08-27T09:25:06.076Z"
   },
   {
    "duration": 33,
    "start_time": "2023-08-27T09:25:06.114Z"
   },
   {
    "duration": 337113,
    "start_time": "2023-08-27T09:25:06.151Z"
   },
   {
    "duration": 35,
    "start_time": "2023-08-27T09:30:43.266Z"
   },
   {
    "duration": 42,
    "start_time": "2023-08-27T09:30:43.303Z"
   },
   {
    "duration": 26,
    "start_time": "2023-08-27T09:30:43.346Z"
   },
   {
    "duration": 36,
    "start_time": "2023-08-27T09:30:43.373Z"
   },
   {
    "duration": 29,
    "start_time": "2023-08-27T09:30:43.411Z"
   },
   {
    "duration": 15,
    "start_time": "2023-08-27T09:30:43.441Z"
   },
   {
    "duration": 30,
    "start_time": "2023-08-27T09:30:43.457Z"
   },
   {
    "duration": 16,
    "start_time": "2023-08-27T09:30:43.489Z"
   },
   {
    "duration": 74,
    "start_time": "2023-08-27T09:30:43.507Z"
   },
   {
    "duration": 65,
    "start_time": "2023-08-27T09:30:43.583Z"
   },
   {
    "duration": 48,
    "start_time": "2023-08-27T09:30:43.650Z"
   },
   {
    "duration": 216,
    "start_time": "2023-08-27T09:30:43.700Z"
   },
   {
    "duration": 202,
    "start_time": "2023-08-27T09:30:43.917Z"
   },
   {
    "duration": 5,
    "start_time": "2023-08-27T09:30:44.123Z"
   },
   {
    "duration": 28,
    "start_time": "2023-08-27T09:31:20.714Z"
   },
   {
    "duration": 5,
    "start_time": "2023-08-27T09:31:44.978Z"
   },
   {
    "duration": 384,
    "start_time": "2023-08-27T09:31:58.802Z"
   },
   {
    "duration": 338,
    "start_time": "2023-08-27T09:32:26.154Z"
   },
   {
    "duration": 283,
    "start_time": "2023-08-27T09:32:33.529Z"
   },
   {
    "duration": 430,
    "start_time": "2023-08-27T09:32:39.810Z"
   },
   {
    "duration": 342,
    "start_time": "2023-08-27T09:33:21.337Z"
   },
   {
    "duration": 366,
    "start_time": "2023-08-27T09:33:45.968Z"
   },
   {
    "duration": 358,
    "start_time": "2023-08-27T09:33:57.505Z"
   },
   {
    "duration": 192,
    "start_time": "2023-08-27T09:34:37.208Z"
   },
   {
    "duration": 146,
    "start_time": "2023-08-27T09:34:44.825Z"
   },
   {
    "duration": 4,
    "start_time": "2023-08-27T09:35:42.070Z"
   },
   {
    "duration": 2378,
    "start_time": "2023-08-27T09:36:08.359Z"
   },
   {
    "duration": 76,
    "start_time": "2023-08-27T09:37:35.777Z"
   },
   {
    "duration": 15,
    "start_time": "2023-08-27T09:37:38.766Z"
   },
   {
    "duration": 18,
    "start_time": "2023-08-27T09:37:45.124Z"
   },
   {
    "duration": 136,
    "start_time": "2023-08-27T09:37:51.245Z"
   },
   {
    "duration": 16,
    "start_time": "2023-08-27T09:38:27.021Z"
   },
   {
    "duration": 21,
    "start_time": "2023-08-27T09:38:34.453Z"
   },
   {
    "duration": 83,
    "start_time": "2023-08-27T09:38:44.868Z"
   },
   {
    "duration": 131,
    "start_time": "2023-08-27T09:39:18.438Z"
   },
   {
    "duration": 19,
    "start_time": "2023-08-27T09:39:23.123Z"
   },
   {
    "duration": 125,
    "start_time": "2023-08-27T09:39:26.939Z"
   },
   {
    "duration": 19,
    "start_time": "2023-08-27T09:39:44.418Z"
   },
   {
    "duration": 147,
    "start_time": "2023-08-27T09:39:47.739Z"
   },
   {
    "duration": 143,
    "start_time": "2023-08-27T09:40:48.890Z"
   },
   {
    "duration": 133,
    "start_time": "2023-08-27T09:40:53.193Z"
   },
   {
    "duration": 134,
    "start_time": "2023-08-27T09:41:00.682Z"
   },
   {
    "duration": 138,
    "start_time": "2023-08-27T09:42:43.831Z"
   },
   {
    "duration": 139,
    "start_time": "2023-08-27T09:42:48.976Z"
   },
   {
    "duration": 182,
    "start_time": "2023-08-27T09:44:35.679Z"
   },
   {
    "duration": 142,
    "start_time": "2023-08-27T09:47:46.449Z"
   },
   {
    "duration": 146,
    "start_time": "2023-08-27T09:47:54.898Z"
   },
   {
    "duration": 143,
    "start_time": "2023-08-27T09:48:06.323Z"
   },
   {
    "duration": 128,
    "start_time": "2023-08-27T09:48:14.187Z"
   },
   {
    "duration": 125,
    "start_time": "2023-08-27T09:48:19.058Z"
   },
   {
    "duration": 123,
    "start_time": "2023-08-27T09:48:23.018Z"
   },
   {
    "duration": 135,
    "start_time": "2023-08-27T09:48:28.522Z"
   },
   {
    "duration": 30,
    "start_time": "2023-08-27T09:51:02.160Z"
   },
   {
    "duration": 28,
    "start_time": "2023-08-27T09:51:16.547Z"
   },
   {
    "duration": 26,
    "start_time": "2023-08-27T09:53:49.694Z"
   },
   {
    "duration": 21,
    "start_time": "2023-08-27T09:54:51.821Z"
   },
   {
    "duration": 6,
    "start_time": "2023-08-27T09:55:12.746Z"
   },
   {
    "duration": 9,
    "start_time": "2023-08-27T09:55:25.562Z"
   },
   {
    "duration": 8,
    "start_time": "2023-08-27T09:56:39.360Z"
   },
   {
    "duration": 171,
    "start_time": "2023-08-27T09:56:48.547Z"
   },
   {
    "duration": 5,
    "start_time": "2023-08-27T09:56:57.825Z"
   },
   {
    "duration": 5,
    "start_time": "2023-08-27T09:57:04.392Z"
   },
   {
    "duration": 6,
    "start_time": "2023-08-27T09:57:07.545Z"
   },
   {
    "duration": 478,
    "start_time": "2023-08-27T09:57:21.046Z"
   },
   {
    "duration": 641,
    "start_time": "2023-08-27T09:57:32.089Z"
   },
   {
    "duration": 5,
    "start_time": "2023-08-27T09:57:48.017Z"
   },
   {
    "duration": 5,
    "start_time": "2023-08-27T09:57:51.680Z"
   },
   {
    "duration": 5,
    "start_time": "2023-08-27T09:57:55.600Z"
   },
   {
    "duration": 86,
    "start_time": "2023-08-27T09:59:08.546Z"
   },
   {
    "duration": 3619,
    "start_time": "2023-08-27T09:59:17.695Z"
   },
   {
    "duration": 31,
    "start_time": "2023-08-27T10:00:13.126Z"
   },
   {
    "duration": 1031,
    "start_time": "2023-08-27T10:00:21.494Z"
   },
   {
    "duration": 17,
    "start_time": "2023-08-27T10:00:41.773Z"
   },
   {
    "duration": 34,
    "start_time": "2023-08-27T10:00:45.558Z"
   },
   {
    "duration": 34,
    "start_time": "2023-08-27T10:00:52.150Z"
   },
   {
    "duration": 32,
    "start_time": "2023-08-27T10:01:02.223Z"
   },
   {
    "duration": 33,
    "start_time": "2023-08-27T10:01:38.469Z"
   },
   {
    "duration": 28,
    "start_time": "2023-08-27T10:01:41.501Z"
   },
   {
    "duration": 180,
    "start_time": "2023-08-27T10:01:55.453Z"
   },
   {
    "duration": 211,
    "start_time": "2023-08-27T10:02:00.247Z"
   },
   {
    "duration": 148,
    "start_time": "2023-08-27T10:02:17.668Z"
   },
   {
    "duration": 275,
    "start_time": "2023-08-27T10:02:25.852Z"
   },
   {
    "duration": 260,
    "start_time": "2023-08-27T10:02:31.412Z"
   },
   {
    "duration": 248,
    "start_time": "2023-08-27T10:02:42.611Z"
   },
   {
    "duration": 206,
    "start_time": "2023-08-27T10:03:04.220Z"
   },
   {
    "duration": 244,
    "start_time": "2023-08-27T10:03:23.445Z"
   },
   {
    "duration": 138,
    "start_time": "2023-08-27T10:04:50.186Z"
   },
   {
    "duration": 100,
    "start_time": "2023-08-27T10:04:56.667Z"
   },
   {
    "duration": 134,
    "start_time": "2023-08-27T10:05:02.761Z"
   },
   {
    "duration": 65,
    "start_time": "2023-08-27T10:05:06.472Z"
   },
   {
    "duration": 27,
    "start_time": "2023-08-27T10:05:11.513Z"
   },
   {
    "duration": 11,
    "start_time": "2023-08-27T10:05:36.865Z"
   },
   {
    "duration": 39,
    "start_time": "2023-08-27T10:05:54.120Z"
   },
   {
    "duration": 192,
    "start_time": "2023-08-27T10:05:58.887Z"
   },
   {
    "duration": 173,
    "start_time": "2023-08-27T10:07:05.727Z"
   },
   {
    "duration": 2815,
    "start_time": "2023-08-27T10:07:24.271Z"
   },
   {
    "duration": 5,
    "start_time": "2023-08-27T10:07:27.089Z"
   },
   {
    "duration": 753,
    "start_time": "2023-08-27T10:07:27.095Z"
   },
   {
    "duration": 14,
    "start_time": "2023-08-27T10:07:27.850Z"
   },
   {
    "duration": 4,
    "start_time": "2023-08-27T10:07:27.866Z"
   },
   {
    "duration": 4,
    "start_time": "2023-08-27T10:07:27.871Z"
   },
   {
    "duration": 6,
    "start_time": "2023-08-27T10:07:27.876Z"
   },
   {
    "duration": 141,
    "start_time": "2023-08-27T10:07:27.883Z"
   },
   {
    "duration": 554,
    "start_time": "2023-08-27T10:07:28.026Z"
   },
   {
    "duration": 122,
    "start_time": "2023-08-27T10:07:28.582Z"
   },
   {
    "duration": 20,
    "start_time": "2023-08-27T10:07:28.706Z"
   },
   {
    "duration": 128,
    "start_time": "2023-08-27T10:07:28.728Z"
   },
   {
    "duration": 374,
    "start_time": "2023-08-27T10:07:28.857Z"
   },
   {
    "duration": 366,
    "start_time": "2023-08-27T10:07:29.233Z"
   },
   {
    "duration": 75,
    "start_time": "2023-08-27T10:07:29.601Z"
   },
   {
    "duration": 397,
    "start_time": "2023-08-27T10:07:29.678Z"
   },
   {
    "duration": 111,
    "start_time": "2023-08-27T10:07:30.076Z"
   },
   {
    "duration": 384,
    "start_time": "2023-08-27T10:07:30.189Z"
   },
   {
    "duration": 15,
    "start_time": "2023-08-27T10:07:30.575Z"
   },
   {
    "duration": 66,
    "start_time": "2023-08-27T10:07:30.592Z"
   },
   {
    "duration": 50,
    "start_time": "2023-08-27T10:07:30.660Z"
   },
   {
    "duration": 40,
    "start_time": "2023-08-27T10:07:30.711Z"
   },
   {
    "duration": 140896,
    "start_time": "2023-08-27T10:07:30.752Z"
   },
   {
    "duration": 51,
    "start_time": "2023-08-27T10:09:51.650Z"
   },
   {
    "duration": 52,
    "start_time": "2023-08-27T10:09:51.703Z"
   },
   {
    "duration": 19,
    "start_time": "2023-08-27T10:09:51.756Z"
   },
   {
    "duration": 16,
    "start_time": "2023-08-27T10:09:51.777Z"
   },
   {
    "duration": 352181,
    "start_time": "2023-08-27T10:09:51.799Z"
   },
   {
    "duration": 28,
    "start_time": "2023-08-27T10:15:43.982Z"
   },
   {
    "duration": 38,
    "start_time": "2023-08-27T10:15:44.012Z"
   },
   {
    "duration": 14,
    "start_time": "2023-08-27T10:15:44.052Z"
   },
   {
    "duration": 25,
    "start_time": "2023-08-27T10:15:44.068Z"
   },
   {
    "duration": 42,
    "start_time": "2023-08-27T10:15:44.094Z"
   },
   {
    "duration": 14,
    "start_time": "2023-08-27T10:15:44.138Z"
   },
   {
    "duration": 27,
    "start_time": "2023-08-27T10:15:44.153Z"
   },
   {
    "duration": 13,
    "start_time": "2023-08-27T10:15:44.182Z"
   },
   {
    "duration": 41,
    "start_time": "2023-08-27T10:15:44.196Z"
   },
   {
    "duration": 214,
    "start_time": "2023-08-27T10:15:44.238Z"
   },
   {
    "duration": 8,
    "start_time": "2023-08-27T10:15:44.453Z"
   },
   {
    "duration": 62,
    "start_time": "2023-08-27T10:15:44.463Z"
   },
   {
    "duration": 69,
    "start_time": "2023-08-27T10:15:44.527Z"
   },
   {
    "duration": 81,
    "start_time": "2023-08-27T10:15:44.598Z"
   },
   {
    "duration": 59,
    "start_time": "2023-08-27T10:15:44.681Z"
   },
   {
    "duration": 190,
    "start_time": "2023-08-27T10:15:44.742Z"
   },
   {
    "duration": 198,
    "start_time": "2023-08-27T10:15:44.934Z"
   },
   {
    "duration": 12,
    "start_time": "2023-08-27T10:15:45.134Z"
   },
   {
    "duration": 30,
    "start_time": "2023-08-27T10:15:45.147Z"
   },
   {
    "duration": 71,
    "start_time": "2023-08-27T10:15:45.179Z"
   },
   {
    "duration": 26,
    "start_time": "2023-08-27T10:15:45.252Z"
   },
   {
    "duration": 27,
    "start_time": "2023-08-27T10:15:45.280Z"
   },
   {
    "duration": 18,
    "start_time": "2023-08-27T10:15:45.310Z"
   },
   {
    "duration": 2,
    "start_time": "2023-08-27T10:17:31.316Z"
   },
   {
    "duration": 16,
    "start_time": "2023-08-27T10:17:58.676Z"
   },
   {
    "duration": 27,
    "start_time": "2023-08-27T10:18:46.356Z"
   },
   {
    "duration": 3576,
    "start_time": "2023-08-27T10:19:05.342Z"
   },
   {
    "duration": 57,
    "start_time": "2023-08-27T10:19:12.746Z"
   },
   {
    "duration": 2494,
    "start_time": "2023-08-27T10:19:55.210Z"
   },
   {
    "duration": 17,
    "start_time": "2023-08-27T10:20:36.033Z"
   },
   {
    "duration": 2278,
    "start_time": "2023-08-27T10:21:51.672Z"
   },
   {
    "duration": 36,
    "start_time": "2023-08-27T10:22:02.967Z"
   },
   {
    "duration": 108,
    "start_time": "2023-08-27T10:23:07.030Z"
   },
   {
    "duration": 13,
    "start_time": "2023-08-27T10:23:23.671Z"
   },
   {
    "duration": 32,
    "start_time": "2023-08-27T10:23:57.662Z"
   },
   {
    "duration": 3,
    "start_time": "2023-08-27T10:23:58.144Z"
   },
   {
    "duration": 6,
    "start_time": "2023-08-27T10:24:04.893Z"
   },
   {
    "duration": 37,
    "start_time": "2023-08-27T10:24:40.549Z"
   },
   {
    "duration": 3,
    "start_time": "2023-08-27T10:25:35.988Z"
   },
   {
    "duration": 2,
    "start_time": "2023-08-27T10:25:36.693Z"
   },
   {
    "duration": 30,
    "start_time": "2023-08-27T10:25:44.028Z"
   },
   {
    "duration": 5730,
    "start_time": "2023-08-27T10:25:55.371Z"
   },
   {
    "duration": 2,
    "start_time": "2023-08-27T10:26:13.971Z"
   },
   {
    "duration": 30,
    "start_time": "2023-08-27T10:26:35.507Z"
   },
   {
    "duration": 3,
    "start_time": "2023-08-27T10:26:36.418Z"
   },
   {
    "duration": 75,
    "start_time": "2023-08-27T10:26:37.795Z"
   },
   {
    "duration": 717,
    "start_time": "2023-08-27T10:26:41.410Z"
   },
   {
    "duration": 4,
    "start_time": "2023-08-27T10:33:09.886Z"
   },
   {
    "duration": 19,
    "start_time": "2023-08-27T10:36:48.635Z"
   },
   {
    "duration": 16,
    "start_time": "2023-08-27T10:36:57.033Z"
   },
   {
    "duration": 3,
    "start_time": "2023-08-27T10:41:24.294Z"
   },
   {
    "duration": 7504,
    "start_time": "2023-08-27T10:42:14.437Z"
   },
   {
    "duration": 173,
    "start_time": "2023-08-27T10:42:31.196Z"
   },
   {
    "duration": 646,
    "start_time": "2023-08-27T10:42:31.684Z"
   },
   {
    "duration": 51691,
    "start_time": "2023-08-27T10:42:51.075Z"
   },
   {
    "duration": 28297,
    "start_time": "2023-08-27T10:43:47.490Z"
   },
   {
    "duration": 295998,
    "start_time": "2023-08-27T10:44:32.034Z"
   },
   {
    "duration": 37909,
    "start_time": "2023-08-27T10:49:28.123Z"
   },
   {
    "duration": 6526,
    "start_time": "2023-08-27T10:54:08.106Z"
   },
   {
    "duration": 92,
    "start_time": "2023-08-27T10:54:38.912Z"
   },
   {
    "duration": 5,
    "start_time": "2023-08-27T11:03:20.886Z"
   },
   {
    "duration": 4,
    "start_time": "2023-08-27T11:03:30.134Z"
   },
   {
    "duration": 3,
    "start_time": "2023-08-27T11:03:54.886Z"
   },
   {
    "duration": 300,
    "start_time": "2023-08-27T11:03:55.752Z"
   },
   {
    "duration": 83,
    "start_time": "2023-08-27T11:04:38.685Z"
   },
   {
    "duration": 3,
    "start_time": "2023-08-27T11:04:43.917Z"
   },
   {
    "duration": 3,
    "start_time": "2023-08-27T11:04:54.932Z"
   },
   {
    "duration": 385,
    "start_time": "2023-08-27T11:04:55.254Z"
   },
   {
    "duration": 3,
    "start_time": "2023-08-27T11:05:32.972Z"
   },
   {
    "duration": 18853,
    "start_time": "2023-08-27T11:05:33.300Z"
   },
   {
    "duration": 4,
    "start_time": "2023-08-27T11:06:14.618Z"
   },
   {
    "duration": 1316232,
    "start_time": "2023-08-27T11:06:15.412Z"
   },
   {
    "duration": 2,
    "start_time": "2023-08-27T11:28:11.725Z"
   },
   {
    "duration": 521,
    "start_time": "2023-08-27T11:28:50.507Z"
   },
   {
    "duration": 12,
    "start_time": "2023-08-27T11:28:58.795Z"
   },
   {
    "duration": 901,
    "start_time": "2023-08-27T11:29:10.954Z"
   },
   {
    "duration": 23,
    "start_time": "2023-08-27T11:29:16.504Z"
   },
   {
    "duration": 6169,
    "start_time": "2023-08-27T11:29:22.610Z"
   },
   {
    "duration": 29,
    "start_time": "2023-08-27T11:29:37.850Z"
   },
   {
    "duration": 48368,
    "start_time": "2023-08-27T11:30:11.562Z"
   },
   {
    "duration": 48539,
    "start_time": "2023-08-27T11:31:25.097Z"
   },
   {
    "duration": 5119,
    "start_time": "2023-08-27T11:32:17.240Z"
   },
   {
    "duration": 5873,
    "start_time": "2023-08-27T11:34:05.557Z"
   },
   {
    "duration": 9,
    "start_time": "2023-08-27T11:34:13.853Z"
   },
   {
    "duration": 3,
    "start_time": "2023-08-27T11:34:55.507Z"
   },
   {
    "duration": 6449,
    "start_time": "2023-08-27T11:36:59.890Z"
   },
   {
    "duration": 13274,
    "start_time": "2023-08-27T11:39:00.958Z"
   },
   {
    "duration": 94,
    "start_time": "2023-08-27T11:39:14.234Z"
   },
   {
    "duration": 9,
    "start_time": "2023-08-27T11:39:36.925Z"
   },
   {
    "duration": 7,
    "start_time": "2023-08-27T11:40:46.196Z"
   },
   {
    "duration": 4,
    "start_time": "2023-08-27T11:42:00.596Z"
   },
   {
    "duration": 7,
    "start_time": "2023-08-27T11:42:04.932Z"
   },
   {
    "duration": 99,
    "start_time": "2023-08-27T11:43:48.953Z"
   },
   {
    "duration": 9,
    "start_time": "2023-08-27T11:44:00.770Z"
   },
   {
    "duration": 14,
    "start_time": "2023-08-27T11:46:45.109Z"
   },
   {
    "duration": 13,
    "start_time": "2023-08-27T11:48:15.245Z"
   },
   {
    "duration": 9,
    "start_time": "2023-08-27T11:49:25.747Z"
   },
   {
    "duration": 6372,
    "start_time": "2023-08-27T11:56:16.307Z"
   },
   {
    "duration": 6248,
    "start_time": "2023-08-27T11:56:28.700Z"
   },
   {
    "duration": 6202,
    "start_time": "2023-08-27T11:56:42.224Z"
   },
   {
    "duration": 6230,
    "start_time": "2023-08-27T11:57:18.755Z"
   },
   {
    "duration": 16,
    "start_time": "2023-08-27T12:05:25.673Z"
   },
   {
    "duration": 216,
    "start_time": "2023-08-27T12:06:00.728Z"
   },
   {
    "duration": 3576,
    "start_time": "2023-08-27T12:06:12.228Z"
   },
   {
    "duration": 2233,
    "start_time": "2023-08-27T12:06:15.806Z"
   },
   {
    "duration": 2603,
    "start_time": "2023-08-27T12:06:18.041Z"
   },
   {
    "duration": 824,
    "start_time": "2023-08-27T12:06:20.646Z"
   },
   {
    "duration": 16,
    "start_time": "2023-08-27T12:06:21.471Z"
   },
   {
    "duration": 11,
    "start_time": "2023-08-27T12:06:21.489Z"
   },
   {
    "duration": 19,
    "start_time": "2023-08-27T12:06:21.501Z"
   },
   {
    "duration": 24,
    "start_time": "2023-08-27T12:06:21.522Z"
   },
   {
    "duration": 141,
    "start_time": "2023-08-27T12:06:21.547Z"
   },
   {
    "duration": 634,
    "start_time": "2023-08-27T12:06:21.690Z"
   },
   {
    "duration": 127,
    "start_time": "2023-08-27T12:06:22.326Z"
   },
   {
    "duration": 8,
    "start_time": "2023-08-27T12:06:22.454Z"
   },
   {
    "duration": 170,
    "start_time": "2023-08-27T12:06:22.464Z"
   },
   {
    "duration": 406,
    "start_time": "2023-08-27T12:06:22.636Z"
   },
   {
    "duration": 385,
    "start_time": "2023-08-27T12:06:23.044Z"
   },
   {
    "duration": 100,
    "start_time": "2023-08-27T12:06:23.430Z"
   },
   {
    "duration": 424,
    "start_time": "2023-08-27T12:06:23.531Z"
   },
   {
    "duration": 134,
    "start_time": "2023-08-27T12:06:23.957Z"
   },
   {
    "duration": 345,
    "start_time": "2023-08-27T12:06:24.093Z"
   },
   {
    "duration": 15,
    "start_time": "2023-08-27T12:06:24.440Z"
   },
   {
    "duration": 63,
    "start_time": "2023-08-27T12:06:24.456Z"
   },
   {
    "duration": 24,
    "start_time": "2023-08-27T12:06:24.521Z"
   },
   {
    "duration": 7,
    "start_time": "2023-08-27T12:06:24.547Z"
   },
   {
    "duration": 139314,
    "start_time": "2023-08-27T12:06:24.555Z"
   },
   {
    "duration": 26,
    "start_time": "2023-08-27T12:08:43.870Z"
   },
   {
    "duration": 61,
    "start_time": "2023-08-27T12:08:43.898Z"
   },
   {
    "duration": 27,
    "start_time": "2023-08-27T12:08:43.961Z"
   },
   {
    "duration": 8,
    "start_time": "2023-08-27T12:08:43.993Z"
   },
   {
    "duration": 350680,
    "start_time": "2023-08-27T12:08:44.002Z"
   },
   {
    "duration": 29,
    "start_time": "2023-08-27T12:14:34.683Z"
   },
   {
    "duration": 30,
    "start_time": "2023-08-27T12:14:34.714Z"
   },
   {
    "duration": 23,
    "start_time": "2023-08-27T12:14:34.746Z"
   },
   {
    "duration": 33,
    "start_time": "2023-08-27T12:14:34.770Z"
   },
   {
    "duration": 39,
    "start_time": "2023-08-27T12:14:34.805Z"
   },
   {
    "duration": 15,
    "start_time": "2023-08-27T12:14:34.846Z"
   },
   {
    "duration": 30,
    "start_time": "2023-08-27T12:14:34.863Z"
   },
   {
    "duration": 30,
    "start_time": "2023-08-27T12:14:34.895Z"
   },
   {
    "duration": 28,
    "start_time": "2023-08-27T12:14:34.926Z"
   },
   {
    "duration": 228,
    "start_time": "2023-08-27T12:14:34.955Z"
   },
   {
    "duration": 8,
    "start_time": "2023-08-27T12:14:35.185Z"
   },
   {
    "duration": 76,
    "start_time": "2023-08-27T12:14:35.195Z"
   },
   {
    "duration": 69,
    "start_time": "2023-08-27T12:14:35.274Z"
   },
   {
    "duration": 57,
    "start_time": "2023-08-27T12:14:35.345Z"
   },
   {
    "duration": 59,
    "start_time": "2023-08-27T12:14:35.403Z"
   },
   {
    "duration": 185,
    "start_time": "2023-08-27T12:14:35.463Z"
   },
   {
    "duration": 235,
    "start_time": "2023-08-27T12:14:35.649Z"
   },
   {
    "duration": 17,
    "start_time": "2023-08-27T12:14:35.885Z"
   },
   {
    "duration": 7,
    "start_time": "2023-08-27T12:14:35.904Z"
   },
   {
    "duration": 85,
    "start_time": "2023-08-27T12:14:35.913Z"
   },
   {
    "duration": 11,
    "start_time": "2023-08-27T12:14:35.999Z"
   },
   {
    "duration": 2235,
    "start_time": "2023-08-27T12:14:36.012Z"
   },
   {
    "duration": 12,
    "start_time": "2023-08-27T12:14:38.249Z"
   },
   {
    "duration": 44,
    "start_time": "2023-08-27T12:14:38.263Z"
   },
   {
    "duration": 28,
    "start_time": "2023-08-27T12:14:38.309Z"
   },
   {
    "duration": 11,
    "start_time": "2023-08-27T12:14:38.338Z"
   },
   {
    "duration": 42,
    "start_time": "2023-08-27T12:14:38.351Z"
   },
   {
    "duration": 3,
    "start_time": "2023-08-27T12:14:38.395Z"
   },
   {
    "duration": 97,
    "start_time": "2023-08-27T12:14:38.400Z"
   },
   {
    "duration": 6632,
    "start_time": "2023-08-27T12:14:38.498Z"
   },
   {
    "duration": 287,
    "start_time": "2023-08-27T12:14:45.132Z"
   },
   {
    "duration": 6307,
    "start_time": "2023-08-27T12:14:45.423Z"
   },
   {
    "duration": 50840,
    "start_time": "2023-08-27T12:14:51.732Z"
   },
   {
    "duration": 26381,
    "start_time": "2023-08-27T12:15:42.574Z"
   },
   {
    "duration": 239772,
    "start_time": "2023-08-27T12:16:08.957Z"
   },
   {
    "duration": 4,
    "start_time": "2023-08-27T12:20:08.731Z"
   },
   {
    "duration": 366298,
    "start_time": "2023-08-27T12:20:08.736Z"
   },
   {
    "duration": 6099,
    "start_time": "2023-08-27T12:26:15.036Z"
   },
   {
    "duration": 103,
    "start_time": "2023-08-27T12:26:21.225Z"
   },
   {
    "duration": 604,
    "start_time": "2023-08-27T12:26:21.331Z"
   },
   {
    "duration": 89,
    "start_time": "2023-08-27T12:26:21.938Z"
   },
   {
    "duration": 1083,
    "start_time": "2023-08-27T12:26:22.030Z"
   },
   {
    "duration": 25,
    "start_time": "2023-08-27T12:26:23.115Z"
   },
   {
    "duration": 6245,
    "start_time": "2023-08-27T12:26:23.142Z"
   },
   {
    "duration": 24,
    "start_time": "2023-08-27T12:26:29.389Z"
   },
   {
    "duration": 55322,
    "start_time": "2023-08-27T12:26:29.415Z"
   },
   {
    "duration": 5218,
    "start_time": "2023-08-27T12:27:24.738Z"
   },
   {
    "duration": 11,
    "start_time": "2023-08-27T12:27:30.024Z"
   },
   {
    "duration": 7213,
    "start_time": "2023-08-27T12:27:30.036Z"
   },
   {
    "duration": 11,
    "start_time": "2023-08-27T12:30:57.163Z"
   },
   {
    "duration": 12,
    "start_time": "2023-08-27T12:31:15.343Z"
   },
   {
    "duration": 11,
    "start_time": "2023-08-27T12:31:41.214Z"
   },
   {
    "duration": 16225,
    "start_time": "2023-08-28T07:21:29.888Z"
   },
   {
    "duration": 2674,
    "start_time": "2023-08-28T07:21:46.116Z"
   },
   {
    "duration": 2442,
    "start_time": "2023-08-28T07:21:48.791Z"
   },
   {
    "duration": 1176,
    "start_time": "2023-08-28T07:21:51.235Z"
   },
   {
    "duration": 27,
    "start_time": "2023-08-28T07:21:52.413Z"
   },
   {
    "duration": 56,
    "start_time": "2023-08-28T07:21:52.442Z"
   },
   {
    "duration": 37,
    "start_time": "2023-08-28T07:21:52.499Z"
   },
   {
    "duration": 30,
    "start_time": "2023-08-28T07:21:52.538Z"
   },
   {
    "duration": 184,
    "start_time": "2023-08-28T07:21:52.569Z"
   },
   {
    "duration": 654,
    "start_time": "2023-08-28T07:21:52.755Z"
   },
   {
    "duration": 134,
    "start_time": "2023-08-28T07:21:53.411Z"
   },
   {
    "duration": 9,
    "start_time": "2023-08-28T07:21:53.546Z"
   },
   {
    "duration": 174,
    "start_time": "2023-08-28T07:21:53.556Z"
   },
   {
    "duration": 407,
    "start_time": "2023-08-28T07:21:53.733Z"
   },
   {
    "duration": 396,
    "start_time": "2023-08-28T07:21:54.141Z"
   },
   {
    "duration": 105,
    "start_time": "2023-08-28T07:21:54.539Z"
   },
   {
    "duration": 446,
    "start_time": "2023-08-28T07:21:54.646Z"
   },
   {
    "duration": 149,
    "start_time": "2023-08-28T07:21:55.093Z"
   },
   {
    "duration": 481,
    "start_time": "2023-08-28T07:21:55.244Z"
   },
   {
    "duration": 14,
    "start_time": "2023-08-28T07:21:55.727Z"
   },
   {
    "duration": 33,
    "start_time": "2023-08-28T07:21:55.742Z"
   },
   {
    "duration": 31,
    "start_time": "2023-08-28T07:21:55.777Z"
   },
   {
    "duration": 13,
    "start_time": "2023-08-28T07:21:55.811Z"
   },
   {
    "duration": 2728,
    "start_time": "2023-08-28T07:22:23.132Z"
   },
   {
    "duration": 2194,
    "start_time": "2023-08-28T07:22:25.864Z"
   },
   {
    "duration": 2347,
    "start_time": "2023-08-28T07:22:28.060Z"
   },
   {
    "duration": 915,
    "start_time": "2023-08-28T07:22:30.410Z"
   },
   {
    "duration": 21,
    "start_time": "2023-08-28T07:22:31.327Z"
   },
   {
    "duration": 263,
    "start_time": "2023-08-28T07:22:31.350Z"
   },
   {
    "duration": 83,
    "start_time": "2023-08-28T07:22:31.614Z"
   },
   {
    "duration": 40,
    "start_time": "2023-08-28T07:22:31.698Z"
   },
   {
    "duration": 184,
    "start_time": "2023-08-28T07:22:31.740Z"
   },
   {
    "duration": 709,
    "start_time": "2023-08-28T07:22:31.928Z"
   },
   {
    "duration": 151,
    "start_time": "2023-08-28T07:22:32.639Z"
   },
   {
    "duration": 9,
    "start_time": "2023-08-28T07:22:32.792Z"
   },
   {
    "duration": 189,
    "start_time": "2023-08-28T07:22:32.803Z"
   },
   {
    "duration": 418,
    "start_time": "2023-08-28T07:22:32.994Z"
   },
   {
    "duration": 401,
    "start_time": "2023-08-28T07:22:33.413Z"
   },
   {
    "duration": 92,
    "start_time": "2023-08-28T07:22:33.816Z"
   },
   {
    "duration": 425,
    "start_time": "2023-08-28T07:22:33.910Z"
   },
   {
    "duration": 130,
    "start_time": "2023-08-28T07:22:34.336Z"
   },
   {
    "duration": 404,
    "start_time": "2023-08-28T07:22:34.468Z"
   },
   {
    "duration": 21,
    "start_time": "2023-08-28T07:22:34.874Z"
   },
   {
    "duration": 51,
    "start_time": "2023-08-28T07:22:34.897Z"
   },
   {
    "duration": 18,
    "start_time": "2023-08-28T07:22:34.951Z"
   },
   {
    "duration": 14,
    "start_time": "2023-08-28T07:22:34.971Z"
   },
   {
    "duration": 139478,
    "start_time": "2023-08-28T07:22:34.986Z"
   },
   {
    "duration": 27,
    "start_time": "2023-08-28T07:24:54.466Z"
   },
   {
    "duration": 38,
    "start_time": "2023-08-28T07:24:54.494Z"
   },
   {
    "duration": 18,
    "start_time": "2023-08-28T07:24:54.533Z"
   },
   {
    "duration": 4,
    "start_time": "2023-08-28T07:24:54.554Z"
   },
   {
    "duration": 351735,
    "start_time": "2023-08-28T07:24:54.559Z"
   },
   {
    "duration": 34,
    "start_time": "2023-08-28T07:30:46.296Z"
   },
   {
    "duration": 36,
    "start_time": "2023-08-28T07:30:46.332Z"
   },
   {
    "duration": 14,
    "start_time": "2023-08-28T07:30:46.370Z"
   },
   {
    "duration": 38,
    "start_time": "2023-08-28T07:30:46.386Z"
   },
   {
    "duration": 25,
    "start_time": "2023-08-28T07:30:46.426Z"
   },
   {
    "duration": 17,
    "start_time": "2023-08-28T07:30:46.453Z"
   },
   {
    "duration": 34,
    "start_time": "2023-08-28T07:30:46.472Z"
   },
   {
    "duration": 25,
    "start_time": "2023-08-28T07:30:46.507Z"
   },
   {
    "duration": 27,
    "start_time": "2023-08-28T07:30:46.534Z"
   },
   {
    "duration": 277,
    "start_time": "2023-08-28T07:30:46.563Z"
   },
   {
    "duration": 8,
    "start_time": "2023-08-28T07:30:46.842Z"
   },
   {
    "duration": 79,
    "start_time": "2023-08-28T07:30:46.852Z"
   },
   {
    "duration": 65,
    "start_time": "2023-08-28T07:30:46.933Z"
   },
   {
    "duration": 67,
    "start_time": "2023-08-28T07:30:47.000Z"
   },
   {
    "duration": 55,
    "start_time": "2023-08-28T07:30:47.069Z"
   },
   {
    "duration": 187,
    "start_time": "2023-08-28T07:30:47.125Z"
   },
   {
    "duration": 214,
    "start_time": "2023-08-28T07:30:47.314Z"
   },
   {
    "duration": 13,
    "start_time": "2023-08-28T07:31:12.976Z"
   },
   {
    "duration": 2,
    "start_time": "2023-08-28T07:31:13.560Z"
   },
   {
    "duration": 62,
    "start_time": "2023-08-28T07:31:15.558Z"
   },
   {
    "duration": 10,
    "start_time": "2023-08-28T07:31:18.535Z"
   },
   {
    "duration": 20,
    "start_time": "2023-08-28T07:33:35.494Z"
   },
   {
    "duration": 3,
    "start_time": "2023-08-28T07:33:36.318Z"
   },
   {
    "duration": 15,
    "start_time": "2023-08-28T07:33:43.232Z"
   },
   {
    "duration": 7,
    "start_time": "2023-08-28T07:33:53.185Z"
   },
   {
    "duration": 56,
    "start_time": "2023-08-28T07:34:07.074Z"
   },
   {
    "duration": 16,
    "start_time": "2023-08-28T07:34:11.902Z"
   },
   {
    "duration": 16,
    "start_time": "2023-08-28T07:34:21.301Z"
   },
   {
    "duration": 3025,
    "start_time": "2023-08-28T07:37:47.468Z"
   },
   {
    "duration": 37,
    "start_time": "2023-08-28T07:38:05.910Z"
   },
   {
    "duration": 21,
    "start_time": "2023-08-28T07:38:18.420Z"
   },
   {
    "duration": 2,
    "start_time": "2023-08-28T07:39:09.057Z"
   },
   {
    "duration": 3,
    "start_time": "2023-08-28T07:39:12.478Z"
   },
   {
    "duration": 28,
    "start_time": "2023-08-28T07:39:49.086Z"
   },
   {
    "duration": 20,
    "start_time": "2023-08-28T07:39:56.396Z"
   },
   {
    "duration": 6629,
    "start_time": "2023-08-28T07:40:10.806Z"
   },
   {
    "duration": 167,
    "start_time": "2023-08-28T07:40:23.769Z"
   },
   {
    "duration": 6794,
    "start_time": "2023-08-28T07:40:34.631Z"
   },
   {
    "duration": 256,
    "start_time": "2023-08-28T07:41:22.636Z"
   },
   {
    "duration": 6432,
    "start_time": "2023-08-28T07:41:28.294Z"
   },
   {
    "duration": 16,
    "start_time": "2023-08-28T07:41:36.170Z"
   },
   {
    "duration": 2885,
    "start_time": "2023-08-28T07:45:05.093Z"
   },
   {
    "duration": 2220,
    "start_time": "2023-08-28T07:45:07.981Z"
   },
   {
    "duration": 7,
    "start_time": "2023-08-28T07:45:10.204Z"
   },
   {
    "duration": 811,
    "start_time": "2023-08-28T07:45:10.213Z"
   },
   {
    "duration": 12,
    "start_time": "2023-08-28T07:45:11.027Z"
   },
   {
    "duration": 22,
    "start_time": "2023-08-28T07:45:11.041Z"
   },
   {
    "duration": 40,
    "start_time": "2023-08-28T07:45:11.065Z"
   },
   {
    "duration": 8,
    "start_time": "2023-08-28T07:45:11.107Z"
   },
   {
    "duration": 147,
    "start_time": "2023-08-28T07:45:11.116Z"
   },
   {
    "duration": 635,
    "start_time": "2023-08-28T07:45:11.266Z"
   },
   {
    "duration": 126,
    "start_time": "2023-08-28T07:45:11.904Z"
   },
   {
    "duration": 8,
    "start_time": "2023-08-28T07:45:12.032Z"
   },
   {
    "duration": 138,
    "start_time": "2023-08-28T07:45:12.041Z"
   },
   {
    "duration": 459,
    "start_time": "2023-08-28T07:45:12.182Z"
   },
   {
    "duration": 394,
    "start_time": "2023-08-28T07:45:12.642Z"
   },
   {
    "duration": 74,
    "start_time": "2023-08-28T07:45:13.038Z"
   },
   {
    "duration": 436,
    "start_time": "2023-08-28T07:45:13.114Z"
   },
   {
    "duration": 118,
    "start_time": "2023-08-28T07:45:13.552Z"
   },
   {
    "duration": 354,
    "start_time": "2023-08-28T07:45:13.672Z"
   },
   {
    "duration": 15,
    "start_time": "2023-08-28T07:45:14.027Z"
   },
   {
    "duration": 61,
    "start_time": "2023-08-28T07:45:14.044Z"
   },
   {
    "duration": 22,
    "start_time": "2023-08-28T07:45:14.107Z"
   },
   {
    "duration": 4,
    "start_time": "2023-08-28T07:45:14.131Z"
   },
   {
    "duration": 138901,
    "start_time": "2023-08-28T07:45:14.137Z"
   },
   {
    "duration": 29,
    "start_time": "2023-08-28T07:47:33.039Z"
   },
   {
    "duration": 235,
    "start_time": "2023-08-28T07:47:33.069Z"
   },
   {
    "duration": 114,
    "start_time": "2023-08-28T07:47:33.306Z"
   },
   {
    "duration": 155,
    "start_time": "2023-08-28T07:47:33.422Z"
   },
   {
    "duration": 341436,
    "start_time": "2023-08-28T07:47:33.578Z"
   },
   {
    "duration": 31,
    "start_time": "2023-08-28T07:53:15.016Z"
   },
   {
    "duration": 72,
    "start_time": "2023-08-28T07:53:15.049Z"
   },
   {
    "duration": 41,
    "start_time": "2023-08-28T07:53:15.123Z"
   },
   {
    "duration": 45,
    "start_time": "2023-08-28T07:53:15.166Z"
   },
   {
    "duration": 71,
    "start_time": "2023-08-28T07:53:15.213Z"
   },
   {
    "duration": 35,
    "start_time": "2023-08-28T07:53:15.286Z"
   },
   {
    "duration": 36,
    "start_time": "2023-08-28T07:53:15.322Z"
   },
   {
    "duration": 21,
    "start_time": "2023-08-28T07:53:15.359Z"
   },
   {
    "duration": 42,
    "start_time": "2023-08-28T07:53:15.382Z"
   },
   {
    "duration": 280,
    "start_time": "2023-08-28T07:53:15.426Z"
   },
   {
    "duration": 24,
    "start_time": "2023-08-28T07:53:15.708Z"
   },
   {
    "duration": 59,
    "start_time": "2023-08-28T07:53:15.738Z"
   },
   {
    "duration": 108,
    "start_time": "2023-08-28T07:53:15.799Z"
   },
   {
    "duration": 92,
    "start_time": "2023-08-28T07:53:15.910Z"
   },
   {
    "duration": 76,
    "start_time": "2023-08-28T07:53:16.005Z"
   },
   {
    "duration": 229,
    "start_time": "2023-08-28T07:53:16.084Z"
   },
   {
    "duration": 201,
    "start_time": "2023-08-28T07:53:16.315Z"
   },
   {
    "duration": 18,
    "start_time": "2023-08-28T07:53:16.517Z"
   },
   {
    "duration": 3,
    "start_time": "2023-08-28T07:53:16.537Z"
   },
   {
    "duration": 70,
    "start_time": "2023-08-28T07:53:16.541Z"
   },
   {
    "duration": 25,
    "start_time": "2023-08-28T07:53:16.613Z"
   },
   {
    "duration": 30,
    "start_time": "2023-08-28T07:53:16.639Z"
   },
   {
    "duration": 2,
    "start_time": "2023-08-28T07:53:16.671Z"
   },
   {
    "duration": 60,
    "start_time": "2023-08-28T07:53:16.675Z"
   },
   {
    "duration": 3016,
    "start_time": "2023-08-28T07:53:16.737Z"
   },
   {
    "duration": 3,
    "start_time": "2023-08-28T07:53:19.754Z"
   },
   {
    "duration": 15,
    "start_time": "2023-08-28T07:53:19.758Z"
   },
   {
    "duration": 17,
    "start_time": "2023-08-28T07:53:19.775Z"
   },
   {
    "duration": 10,
    "start_time": "2023-08-28T07:53:19.794Z"
   },
   {
    "duration": 6520,
    "start_time": "2023-08-28T07:53:19.805Z"
   },
   {
    "duration": 255,
    "start_time": "2023-08-28T07:53:26.328Z"
   },
   {
    "duration": 7346,
    "start_time": "2023-08-28T07:53:26.585Z"
   },
   {
    "duration": 51557,
    "start_time": "2023-08-28T07:53:33.934Z"
   },
   {
    "duration": 27631,
    "start_time": "2023-08-28T07:54:25.492Z"
   },
   {
    "duration": 180606,
    "start_time": "2023-08-28T07:54:53.125Z"
   },
   {
    "duration": 91,
    "start_time": "2023-08-28T07:57:53.733Z"
   },
   {
    "duration": 519747,
    "start_time": "2023-08-28T07:57:53.826Z"
   },
   {
    "duration": 197,
    "start_time": "2023-08-28T08:06:40.828Z"
   },
   {
    "duration": 619,
    "start_time": "2023-08-28T08:06:41.027Z"
   },
   {
    "duration": 175,
    "start_time": "2023-08-28T08:06:41.648Z"
   },
   {
    "duration": 1027,
    "start_time": "2023-08-28T08:06:41.830Z"
   },
   {
    "duration": 70,
    "start_time": "2023-08-28T08:06:42.859Z"
   },
   {
    "duration": 6790,
    "start_time": "2023-08-28T08:06:42.931Z"
   },
   {
    "duration": 69,
    "start_time": "2023-08-28T08:06:49.723Z"
   },
   {
    "duration": 33035,
    "start_time": "2023-08-28T08:06:49.793Z"
   },
   {
    "duration": 6302,
    "start_time": "2023-08-28T08:07:22.832Z"
   },
   {
    "duration": 28467,
    "start_time": "2023-08-28T08:07:29.232Z"
   },
   {
    "duration": 44,
    "start_time": "2023-08-28T08:07:57.747Z"
   },
   {
    "duration": 2727,
    "start_time": "2023-08-28T08:09:07.749Z"
   },
   {
    "duration": 2289,
    "start_time": "2023-08-28T08:09:10.478Z"
   },
   {
    "duration": 2267,
    "start_time": "2023-08-28T08:09:12.769Z"
   },
   {
    "duration": 837,
    "start_time": "2023-08-28T08:09:15.037Z"
   },
   {
    "duration": 16,
    "start_time": "2023-08-28T08:09:15.876Z"
   },
   {
    "duration": 18,
    "start_time": "2023-08-28T08:09:15.894Z"
   },
   {
    "duration": 9,
    "start_time": "2023-08-28T08:09:15.914Z"
   },
   {
    "duration": 11,
    "start_time": "2023-08-28T08:09:15.924Z"
   },
   {
    "duration": 143,
    "start_time": "2023-08-28T08:09:15.936Z"
   },
   {
    "duration": 675,
    "start_time": "2023-08-28T08:09:16.080Z"
   },
   {
    "duration": 123,
    "start_time": "2023-08-28T08:09:16.756Z"
   },
   {
    "duration": 11,
    "start_time": "2023-08-28T08:09:16.882Z"
   },
   {
    "duration": 171,
    "start_time": "2023-08-28T08:09:16.896Z"
   },
   {
    "duration": 407,
    "start_time": "2023-08-28T08:09:17.070Z"
   },
   {
    "duration": 397,
    "start_time": "2023-08-28T08:09:17.479Z"
   },
   {
    "duration": 102,
    "start_time": "2023-08-28T08:09:17.878Z"
   },
   {
    "duration": 464,
    "start_time": "2023-08-28T08:09:17.982Z"
   },
   {
    "duration": 137,
    "start_time": "2023-08-28T08:09:18.448Z"
   },
   {
    "duration": 386,
    "start_time": "2023-08-28T08:09:18.586Z"
   },
   {
    "duration": 15,
    "start_time": "2023-08-28T08:09:18.973Z"
   },
   {
    "duration": 60,
    "start_time": "2023-08-28T08:09:18.990Z"
   },
   {
    "duration": 36,
    "start_time": "2023-08-28T08:09:19.052Z"
   },
   {
    "duration": 24,
    "start_time": "2023-08-28T08:09:19.090Z"
   },
   {
    "duration": 147766,
    "start_time": "2023-08-28T08:09:19.116Z"
   },
   {
    "duration": 41,
    "start_time": "2023-08-28T08:11:46.884Z"
   },
   {
    "duration": 29,
    "start_time": "2023-08-28T08:11:46.927Z"
   },
   {
    "duration": 29,
    "start_time": "2023-08-28T08:11:46.957Z"
   },
   {
    "duration": 5,
    "start_time": "2023-08-28T08:11:46.988Z"
   },
   {
    "duration": 365647,
    "start_time": "2023-08-28T08:11:46.994Z"
   },
   {
    "duration": 30,
    "start_time": "2023-08-28T08:17:52.643Z"
   },
   {
    "duration": 49,
    "start_time": "2023-08-28T08:17:52.675Z"
   },
   {
    "duration": 37,
    "start_time": "2023-08-28T08:17:52.726Z"
   },
   {
    "duration": 29,
    "start_time": "2023-08-28T08:17:52.765Z"
   },
   {
    "duration": 53,
    "start_time": "2023-08-28T08:17:52.796Z"
   },
   {
    "duration": 21,
    "start_time": "2023-08-28T08:17:52.851Z"
   },
   {
    "duration": 32,
    "start_time": "2023-08-28T08:17:52.874Z"
   },
   {
    "duration": 30,
    "start_time": "2023-08-28T08:17:52.907Z"
   },
   {
    "duration": 28,
    "start_time": "2023-08-28T08:17:52.939Z"
   },
   {
    "duration": 274,
    "start_time": "2023-08-28T08:17:52.969Z"
   },
   {
    "duration": 10,
    "start_time": "2023-08-28T08:17:53.245Z"
   },
   {
    "duration": 78,
    "start_time": "2023-08-28T08:17:53.260Z"
   },
   {
    "duration": 70,
    "start_time": "2023-08-28T08:17:53.340Z"
   },
   {
    "duration": 67,
    "start_time": "2023-08-28T08:17:53.412Z"
   },
   {
    "duration": 61,
    "start_time": "2023-08-28T08:17:53.481Z"
   },
   {
    "duration": 201,
    "start_time": "2023-08-28T08:17:53.544Z"
   },
   {
    "duration": 226,
    "start_time": "2023-08-28T08:17:53.747Z"
   },
   {
    "duration": 15,
    "start_time": "2023-08-28T08:17:53.975Z"
   },
   {
    "duration": 3,
    "start_time": "2023-08-28T08:17:53.992Z"
   },
   {
    "duration": 89,
    "start_time": "2023-08-28T08:17:53.996Z"
   },
   {
    "duration": 10,
    "start_time": "2023-08-28T08:17:54.087Z"
   },
   {
    "duration": 32,
    "start_time": "2023-08-28T08:17:54.098Z"
   },
   {
    "duration": 3,
    "start_time": "2023-08-28T08:17:54.131Z"
   },
   {
    "duration": 63,
    "start_time": "2023-08-28T08:17:54.136Z"
   },
   {
    "duration": 3291,
    "start_time": "2023-08-28T08:17:54.201Z"
   },
   {
    "duration": 3,
    "start_time": "2023-08-28T08:17:57.494Z"
   },
   {
    "duration": 6,
    "start_time": "2023-08-28T08:17:57.498Z"
   },
   {
    "duration": 4,
    "start_time": "2023-08-28T08:17:57.506Z"
   },
   {
    "duration": 13,
    "start_time": "2023-08-28T08:17:57.511Z"
   },
   {
    "duration": 6914,
    "start_time": "2023-08-28T08:17:57.526Z"
   },
   {
    "duration": 259,
    "start_time": "2023-08-28T08:18:04.523Z"
   },
   {
    "duration": 6547,
    "start_time": "2023-08-28T08:18:04.784Z"
   },
   {
    "duration": 49705,
    "start_time": "2023-08-28T08:18:11.333Z"
   },
   {
    "duration": 27239,
    "start_time": "2023-08-28T08:19:01.039Z"
   },
   {
    "duration": 196854,
    "start_time": "2023-08-28T08:19:28.280Z"
   },
   {
    "duration": 5,
    "start_time": "2023-08-28T08:22:45.225Z"
   },
   {
    "duration": 3181695,
    "start_time": "2023-08-28T08:22:45.232Z"
   },
   {
    "duration": 689,
    "start_time": "2023-08-28T09:15:52.939Z"
   },
   {
    "duration": 94,
    "start_time": "2023-08-28T09:15:53.630Z"
   },
   {
    "duration": 1101,
    "start_time": "2023-08-28T09:15:53.727Z"
   },
   {
    "duration": 62,
    "start_time": "2023-08-28T09:15:54.830Z"
   },
   {
    "duration": 7008,
    "start_time": "2023-08-28T09:15:54.894Z"
   },
   {
    "duration": 79,
    "start_time": "2023-08-28T09:16:01.904Z"
   },
   {
    "duration": 2639,
    "start_time": "2023-08-28T09:17:27.045Z"
   },
   {
    "duration": 2256,
    "start_time": "2023-08-28T09:17:29.686Z"
   },
   {
    "duration": 2411,
    "start_time": "2023-08-28T09:17:31.945Z"
   },
   {
    "duration": 835,
    "start_time": "2023-08-28T09:17:34.357Z"
   },
   {
    "duration": 16,
    "start_time": "2023-08-28T09:17:35.194Z"
   },
   {
    "duration": 17,
    "start_time": "2023-08-28T09:17:35.212Z"
   },
   {
    "duration": 16,
    "start_time": "2023-08-28T09:17:35.231Z"
   },
   {
    "duration": 13,
    "start_time": "2023-08-28T09:17:35.249Z"
   },
   {
    "duration": 145,
    "start_time": "2023-08-28T09:17:35.264Z"
   },
   {
    "duration": 716,
    "start_time": "2023-08-28T09:17:35.411Z"
   },
   {
    "duration": 143,
    "start_time": "2023-08-28T09:17:36.129Z"
   },
   {
    "duration": 9,
    "start_time": "2023-08-28T09:17:36.274Z"
   },
   {
    "duration": 180,
    "start_time": "2023-08-28T09:17:36.285Z"
   },
   {
    "duration": 404,
    "start_time": "2023-08-28T09:17:36.468Z"
   },
   {
    "duration": 395,
    "start_time": "2023-08-28T09:17:36.873Z"
   },
   {
    "duration": 97,
    "start_time": "2023-08-28T09:17:37.270Z"
   },
   {
    "duration": 435,
    "start_time": "2023-08-28T09:17:37.369Z"
   },
   {
    "duration": 138,
    "start_time": "2023-08-28T09:17:37.805Z"
   },
   {
    "duration": 360,
    "start_time": "2023-08-28T09:17:37.945Z"
   },
   {
    "duration": 20,
    "start_time": "2023-08-28T09:17:38.307Z"
   },
   {
    "duration": 55,
    "start_time": "2023-08-28T09:17:38.328Z"
   },
   {
    "duration": 47,
    "start_time": "2023-08-28T09:17:38.385Z"
   },
   {
    "duration": 9,
    "start_time": "2023-08-28T09:17:38.434Z"
   },
   {
    "duration": 143232,
    "start_time": "2023-08-28T09:17:38.445Z"
   },
   {
    "duration": 29,
    "start_time": "2023-08-28T09:20:01.679Z"
   },
   {
    "duration": 118,
    "start_time": "2023-08-28T09:20:01.724Z"
   },
   {
    "duration": 51,
    "start_time": "2023-08-28T09:20:01.843Z"
   },
   {
    "duration": 32,
    "start_time": "2023-08-28T09:20:01.896Z"
   },
   {
    "duration": 383556,
    "start_time": "2023-08-28T09:20:01.930Z"
   },
   {
    "duration": 38,
    "start_time": "2023-08-28T09:26:25.488Z"
   },
   {
    "duration": 38,
    "start_time": "2023-08-28T09:26:25.528Z"
   },
   {
    "duration": 15,
    "start_time": "2023-08-28T09:26:25.568Z"
   },
   {
    "duration": 31,
    "start_time": "2023-08-28T09:26:25.585Z"
   },
   {
    "duration": 41,
    "start_time": "2023-08-28T09:26:25.617Z"
   },
   {
    "duration": 18,
    "start_time": "2023-08-28T09:26:25.660Z"
   },
   {
    "duration": 40,
    "start_time": "2023-08-28T09:26:25.679Z"
   },
   {
    "duration": 25,
    "start_time": "2023-08-28T09:26:25.721Z"
   },
   {
    "duration": 36,
    "start_time": "2023-08-28T09:26:25.748Z"
   },
   {
    "duration": 277,
    "start_time": "2023-08-28T09:26:25.786Z"
   },
   {
    "duration": 12,
    "start_time": "2023-08-28T09:26:26.065Z"
   },
   {
    "duration": 96,
    "start_time": "2023-08-28T09:26:26.082Z"
   },
   {
    "duration": 85,
    "start_time": "2023-08-28T09:26:26.180Z"
   },
   {
    "duration": 79,
    "start_time": "2023-08-28T09:26:26.267Z"
   },
   {
    "duration": 89,
    "start_time": "2023-08-28T09:26:26.349Z"
   },
   {
    "duration": 208,
    "start_time": "2023-08-28T09:26:26.440Z"
   },
   {
    "duration": 220,
    "start_time": "2023-08-28T09:26:26.650Z"
   },
   {
    "duration": 14,
    "start_time": "2023-08-28T09:26:26.872Z"
   },
   {
    "duration": 3,
    "start_time": "2023-08-28T09:26:26.888Z"
   },
   {
    "duration": 94,
    "start_time": "2023-08-28T09:26:26.893Z"
   },
   {
    "duration": 19,
    "start_time": "2023-08-28T09:26:26.989Z"
   },
   {
    "duration": 33,
    "start_time": "2023-08-28T09:26:27.010Z"
   },
   {
    "duration": 61,
    "start_time": "2023-08-28T09:26:27.046Z"
   },
   {
    "duration": 66,
    "start_time": "2023-08-28T09:26:27.109Z"
   },
   {
    "duration": 3260,
    "start_time": "2023-08-28T09:26:27.176Z"
   },
   {
    "duration": 5,
    "start_time": "2023-08-28T09:26:30.441Z"
   },
   {
    "duration": 132,
    "start_time": "2023-08-28T09:26:30.449Z"
   },
   {
    "duration": 86,
    "start_time": "2023-08-28T09:26:30.583Z"
   },
   {
    "duration": 62,
    "start_time": "2023-08-28T09:26:30.671Z"
   },
   {
    "duration": 8397,
    "start_time": "2023-08-28T09:26:30.735Z"
   },
   {
    "duration": 307,
    "start_time": "2023-08-28T09:26:39.143Z"
   },
   {
    "duration": 8191,
    "start_time": "2023-08-28T09:26:39.453Z"
   },
   {
    "duration": 53406,
    "start_time": "2023-08-28T09:26:47.725Z"
   },
   {
    "duration": 31280,
    "start_time": "2023-08-28T09:27:41.133Z"
   },
   {
    "duration": 313110,
    "start_time": "2023-08-28T09:28:12.415Z"
   },
   {
    "duration": 3,
    "start_time": "2023-08-28T09:33:25.528Z"
   },
   {
    "duration": 7,
    "start_time": "2023-08-28T09:33:25.533Z"
   },
   {
    "duration": 16396,
    "start_time": "2023-08-28T09:33:25.542Z"
   },
   {
    "duration": 205,
    "start_time": "2023-08-28T09:33:41.943Z"
   },
   {
    "duration": 684,
    "start_time": "2023-08-28T09:33:42.151Z"
   },
   {
    "duration": 88,
    "start_time": "2023-08-28T09:33:42.838Z"
   },
   {
    "duration": 1186,
    "start_time": "2023-08-28T09:33:42.930Z"
   },
   {
    "duration": 75,
    "start_time": "2023-08-28T09:33:44.123Z"
   },
   {
    "duration": 7697,
    "start_time": "2023-08-28T09:33:44.200Z"
   },
   {
    "duration": 73,
    "start_time": "2023-08-28T09:33:51.899Z"
   },
   {
    "duration": 459363,
    "start_time": "2023-08-28T09:33:51.974Z"
   },
   {
    "duration": 126,
    "start_time": "2023-08-28T09:41:31.339Z"
   },
   {
    "duration": 10,
    "start_time": "2023-08-28T09:41:31.467Z"
   },
   {
    "duration": 6530,
    "start_time": "2023-08-28T09:41:31.479Z"
   },
   {
    "duration": 82,
    "start_time": "2023-08-28T09:41:38.017Z"
   },
   {
    "duration": 43153,
    "start_time": "2023-08-28T09:42:01.803Z"
   },
   {
    "duration": 47,
    "start_time": "2023-08-28T09:43:22.090Z"
   },
   {
    "duration": 16,
    "start_time": "2023-08-28T09:43:45.527Z"
   },
   {
    "duration": 5,
    "start_time": "2023-08-28T09:43:53.160Z"
   },
   {
    "duration": 12,
    "start_time": "2023-08-28T09:44:08.241Z"
   },
   {
    "duration": 36,
    "start_time": "2023-08-28T09:44:15.129Z"
   },
   {
    "duration": 12,
    "start_time": "2023-08-28T09:44:28.257Z"
   },
   {
    "duration": 7,
    "start_time": "2023-08-28T09:44:45.258Z"
   },
   {
    "duration": 83630,
    "start_time": "2023-08-28T09:46:26.175Z"
   },
   {
    "duration": 114323,
    "start_time": "2023-08-28T09:48:09.969Z"
   },
   {
    "duration": 15,
    "start_time": "2023-08-28T09:52:06.300Z"
   },
   {
    "duration": 6,
    "start_time": "2023-08-28T09:54:06.160Z"
   },
   {
    "duration": 36,
    "start_time": "2023-08-28T10:08:01.222Z"
   },
   {
    "duration": 24,
    "start_time": "2023-08-28T10:13:49.306Z"
   },
   {
    "duration": 15,
    "start_time": "2023-08-28T10:14:13.783Z"
   },
   {
    "duration": 101,
    "start_time": "2023-08-28T10:26:04.273Z"
   },
   {
    "duration": 379584,
    "start_time": "2023-08-28T10:32:28.645Z"
   },
   {
    "duration": 916,
    "start_time": "2023-08-28T10:38:48.231Z"
   },
   {
    "duration": 2893,
    "start_time": "2023-08-28T10:44:49.232Z"
   },
   {
    "duration": 2333,
    "start_time": "2023-08-28T10:44:52.127Z"
   },
   {
    "duration": 2486,
    "start_time": "2023-08-28T10:44:54.462Z"
   },
   {
    "duration": 844,
    "start_time": "2023-08-28T10:44:56.951Z"
   },
   {
    "duration": 27,
    "start_time": "2023-08-28T10:44:57.798Z"
   },
   {
    "duration": 44,
    "start_time": "2023-08-28T10:44:57.827Z"
   },
   {
    "duration": 41,
    "start_time": "2023-08-28T10:44:57.873Z"
   },
   {
    "duration": 16,
    "start_time": "2023-08-28T10:44:57.916Z"
   },
   {
    "duration": 142,
    "start_time": "2023-08-28T10:44:57.933Z"
   },
   {
    "duration": 610,
    "start_time": "2023-08-28T10:44:58.076Z"
   },
   {
    "duration": 121,
    "start_time": "2023-08-28T10:44:58.688Z"
   },
   {
    "duration": 18,
    "start_time": "2023-08-28T10:44:58.811Z"
   },
   {
    "duration": 157,
    "start_time": "2023-08-28T10:44:58.830Z"
   },
   {
    "duration": 399,
    "start_time": "2023-08-28T10:44:58.990Z"
   },
   {
    "duration": 372,
    "start_time": "2023-08-28T10:44:59.391Z"
   },
   {
    "duration": 87,
    "start_time": "2023-08-28T10:44:59.765Z"
   },
   {
    "duration": 416,
    "start_time": "2023-08-28T10:44:59.854Z"
   },
   {
    "duration": 153,
    "start_time": "2023-08-28T10:45:00.272Z"
   },
   {
    "duration": 361,
    "start_time": "2023-08-28T10:45:00.427Z"
   },
   {
    "duration": 15,
    "start_time": "2023-08-28T10:45:00.790Z"
   },
   {
    "duration": 51,
    "start_time": "2023-08-28T10:45:00.807Z"
   },
   {
    "duration": 43,
    "start_time": "2023-08-28T10:45:00.860Z"
   },
   {
    "duration": 118,
    "start_time": "2023-08-28T10:45:00.905Z"
   },
   {
    "duration": 136277,
    "start_time": "2023-08-28T10:45:01.025Z"
   },
   {
    "duration": 32,
    "start_time": "2023-08-28T10:47:17.304Z"
   },
   {
    "duration": 40,
    "start_time": "2023-08-28T10:47:17.338Z"
   },
   {
    "duration": 22,
    "start_time": "2023-08-28T10:47:17.379Z"
   },
   {
    "duration": 10,
    "start_time": "2023-08-28T10:47:17.402Z"
   },
   {
    "duration": 346209,
    "start_time": "2023-08-28T10:47:17.413Z"
   },
   {
    "duration": 27,
    "start_time": "2023-08-28T10:53:03.624Z"
   },
   {
    "duration": 65,
    "start_time": "2023-08-28T10:53:03.653Z"
   },
   {
    "duration": 58,
    "start_time": "2023-08-28T10:53:03.720Z"
   },
   {
    "duration": 68,
    "start_time": "2023-08-28T10:53:03.779Z"
   },
   {
    "duration": 133,
    "start_time": "2023-08-28T10:53:03.849Z"
   },
   {
    "duration": 52,
    "start_time": "2023-08-28T10:53:03.984Z"
   },
   {
    "duration": 91,
    "start_time": "2023-08-28T10:53:04.038Z"
   },
   {
    "duration": 57,
    "start_time": "2023-08-28T10:53:04.131Z"
   },
   {
    "duration": 68,
    "start_time": "2023-08-28T10:53:04.190Z"
   },
   {
    "duration": 328,
    "start_time": "2023-08-28T10:53:04.260Z"
   },
   {
    "duration": 9,
    "start_time": "2023-08-28T10:53:04.590Z"
   },
   {
    "duration": 124,
    "start_time": "2023-08-28T10:53:04.603Z"
   },
   {
    "duration": 68,
    "start_time": "2023-08-28T10:53:04.729Z"
   },
   {
    "duration": 74,
    "start_time": "2023-08-28T10:53:04.798Z"
   },
   {
    "duration": 99,
    "start_time": "2023-08-28T10:53:04.874Z"
   },
   {
    "duration": 208,
    "start_time": "2023-08-28T10:53:04.975Z"
   },
   {
    "duration": 221,
    "start_time": "2023-08-28T10:53:05.184Z"
   },
   {
    "duration": 17,
    "start_time": "2023-08-28T10:53:05.407Z"
   },
   {
    "duration": 39,
    "start_time": "2023-08-28T10:53:05.425Z"
   },
   {
    "duration": 81,
    "start_time": "2023-08-28T10:53:05.465Z"
   },
   {
    "duration": 73,
    "start_time": "2023-08-28T10:53:05.548Z"
   },
   {
    "duration": 55,
    "start_time": "2023-08-28T10:53:05.623Z"
   },
   {
    "duration": 25,
    "start_time": "2023-08-28T10:53:05.680Z"
   },
   {
    "duration": 110,
    "start_time": "2023-08-28T10:53:05.706Z"
   },
   {
    "duration": 3206,
    "start_time": "2023-08-28T10:53:05.818Z"
   },
   {
    "duration": 3,
    "start_time": "2023-08-28T10:53:09.025Z"
   },
   {
    "duration": 183,
    "start_time": "2023-08-28T10:53:09.029Z"
   },
   {
    "duration": 53,
    "start_time": "2023-08-28T10:53:09.214Z"
   },
   {
    "duration": 40,
    "start_time": "2023-08-28T10:53:09.269Z"
   },
   {
    "duration": 7313,
    "start_time": "2023-08-28T10:53:09.311Z"
   },
   {
    "duration": 279,
    "start_time": "2023-08-28T10:53:16.627Z"
   },
   {
    "duration": 6634,
    "start_time": "2023-08-28T10:53:16.908Z"
   },
   {
    "duration": 50482,
    "start_time": "2023-08-28T10:53:23.626Z"
   },
   {
    "duration": 26733,
    "start_time": "2023-08-28T10:54:14.109Z"
   },
   {
    "duration": 185283,
    "start_time": "2023-08-28T10:54:40.844Z"
   },
   {
    "duration": 4,
    "start_time": "2023-08-28T10:57:46.130Z"
   },
   {
    "duration": 4,
    "start_time": "2023-08-28T10:57:46.225Z"
   },
   {
    "duration": 9402,
    "start_time": "2023-08-28T10:57:46.230Z"
   },
   {
    "duration": 196,
    "start_time": "2023-08-28T10:57:55.634Z"
   },
   {
    "duration": 695,
    "start_time": "2023-08-28T10:57:55.835Z"
   },
   {
    "duration": 96,
    "start_time": "2023-08-28T10:57:56.531Z"
   },
   {
    "duration": 1023,
    "start_time": "2023-08-28T10:57:56.629Z"
   },
   {
    "duration": 71,
    "start_time": "2023-08-28T10:57:57.654Z"
   },
   {
    "duration": 6457,
    "start_time": "2023-08-28T10:57:57.727Z"
   },
   {
    "duration": 66,
    "start_time": "2023-08-28T10:58:04.186Z"
   },
   {
    "duration": 301800,
    "start_time": "2023-08-28T10:58:04.254Z"
   },
   {
    "duration": 93,
    "start_time": "2023-08-28T11:03:06.056Z"
   },
   {
    "duration": 11,
    "start_time": "2023-08-28T11:03:06.151Z"
   },
   {
    "duration": 6226,
    "start_time": "2023-08-28T11:03:06.163Z"
   },
   {
    "duration": 12,
    "start_time": "2023-08-28T11:04:33.954Z"
   },
   {
    "duration": 8,
    "start_time": "2023-08-28T11:04:49.825Z"
   },
   {
    "duration": 163,
    "start_time": "2023-08-28T11:05:03.402Z"
   },
   {
    "duration": 2,
    "start_time": "2023-08-28T11:05:11.888Z"
   },
   {
    "duration": 2630,
    "start_time": "2023-08-28T11:05:51.207Z"
   },
   {
    "duration": 2337,
    "start_time": "2023-08-28T11:05:53.840Z"
   },
   {
    "duration": 2087,
    "start_time": "2023-08-28T11:05:56.179Z"
   },
   {
    "duration": 812,
    "start_time": "2023-08-28T11:05:58.268Z"
   },
   {
    "duration": 17,
    "start_time": "2023-08-28T11:05:59.082Z"
   },
   {
    "duration": 3,
    "start_time": "2023-08-28T11:05:59.100Z"
   },
   {
    "duration": 6,
    "start_time": "2023-08-28T11:05:59.104Z"
   },
   {
    "duration": 6,
    "start_time": "2023-08-28T11:05:59.111Z"
   },
   {
    "duration": 138,
    "start_time": "2023-08-28T11:05:59.118Z"
   },
   {
    "duration": 741,
    "start_time": "2023-08-28T11:05:59.258Z"
   },
   {
    "duration": 134,
    "start_time": "2023-08-28T11:06:00.000Z"
   },
   {
    "duration": 9,
    "start_time": "2023-08-28T11:06:00.136Z"
   },
   {
    "duration": 173,
    "start_time": "2023-08-28T11:06:00.146Z"
   },
   {
    "duration": 457,
    "start_time": "2023-08-28T11:06:00.321Z"
   },
   {
    "duration": 401,
    "start_time": "2023-08-28T11:06:00.781Z"
   },
   {
    "duration": 100,
    "start_time": "2023-08-28T11:06:01.184Z"
   },
   {
    "duration": 433,
    "start_time": "2023-08-28T11:06:01.286Z"
   },
   {
    "duration": 129,
    "start_time": "2023-08-28T11:06:01.723Z"
   },
   {
    "duration": 345,
    "start_time": "2023-08-28T11:06:01.854Z"
   },
   {
    "duration": 25,
    "start_time": "2023-08-28T11:06:02.201Z"
   },
   {
    "duration": 67,
    "start_time": "2023-08-28T11:06:02.228Z"
   },
   {
    "duration": 39,
    "start_time": "2023-08-28T11:06:02.298Z"
   },
   {
    "duration": 26,
    "start_time": "2023-08-28T11:06:02.339Z"
   },
   {
    "duration": 138403,
    "start_time": "2023-08-28T11:06:02.367Z"
   },
   {
    "duration": 29,
    "start_time": "2023-08-28T11:08:20.772Z"
   },
   {
    "duration": 40,
    "start_time": "2023-08-28T11:08:20.803Z"
   },
   {
    "duration": 35,
    "start_time": "2023-08-28T11:08:20.845Z"
   },
   {
    "duration": 20,
    "start_time": "2023-08-28T11:08:20.885Z"
   },
   {
    "duration": 348563,
    "start_time": "2023-08-28T11:08:20.907Z"
   },
   {
    "duration": 30,
    "start_time": "2023-08-28T11:14:09.472Z"
   },
   {
    "duration": 41,
    "start_time": "2023-08-28T11:14:09.503Z"
   },
   {
    "duration": 57,
    "start_time": "2023-08-28T11:14:09.545Z"
   },
   {
    "duration": 91,
    "start_time": "2023-08-28T11:14:09.604Z"
   },
   {
    "duration": 70,
    "start_time": "2023-08-28T11:14:09.697Z"
   },
   {
    "duration": 96,
    "start_time": "2023-08-28T11:14:09.768Z"
   },
   {
    "duration": 87,
    "start_time": "2023-08-28T11:14:09.866Z"
   },
   {
    "duration": 200,
    "start_time": "2023-08-28T11:14:09.955Z"
   },
   {
    "duration": 94,
    "start_time": "2023-08-28T11:14:10.157Z"
   },
   {
    "duration": 455,
    "start_time": "2023-08-28T11:14:10.252Z"
   },
   {
    "duration": 15,
    "start_time": "2023-08-28T11:14:10.710Z"
   },
   {
    "duration": 193,
    "start_time": "2023-08-28T11:14:10.727Z"
   },
   {
    "duration": 85,
    "start_time": "2023-08-28T11:14:10.922Z"
   },
   {
    "duration": 69,
    "start_time": "2023-08-28T11:14:11.009Z"
   },
   {
    "duration": 143,
    "start_time": "2023-08-28T11:14:11.080Z"
   },
   {
    "duration": 199,
    "start_time": "2023-08-28T11:14:11.225Z"
   },
   {
    "duration": 214,
    "start_time": "2023-08-28T11:14:11.425Z"
   },
   {
    "duration": 13,
    "start_time": "2023-08-28T11:14:11.641Z"
   },
   {
    "duration": 76,
    "start_time": "2023-08-28T11:14:11.656Z"
   },
   {
    "duration": 75,
    "start_time": "2023-08-28T11:14:11.733Z"
   },
   {
    "duration": 22,
    "start_time": "2023-08-28T11:14:11.809Z"
   },
   {
    "duration": 19,
    "start_time": "2023-08-28T11:14:11.833Z"
   },
   {
    "duration": 14,
    "start_time": "2023-08-28T11:14:11.853Z"
   },
   {
    "duration": 71,
    "start_time": "2023-08-28T11:14:11.869Z"
   },
   {
    "duration": 3269,
    "start_time": "2023-08-28T11:14:11.942Z"
   },
   {
    "duration": 28,
    "start_time": "2023-08-28T11:14:15.212Z"
   },
   {
    "duration": 11,
    "start_time": "2023-08-28T11:14:15.242Z"
   },
   {
    "duration": 27,
    "start_time": "2023-08-28T11:14:15.255Z"
   },
   {
    "duration": 48,
    "start_time": "2023-08-28T11:14:15.284Z"
   },
   {
    "duration": 27,
    "start_time": "2023-08-28T11:14:15.334Z"
   },
   {
    "duration": 40,
    "start_time": "2023-08-28T11:14:15.362Z"
   },
   {
    "duration": 6927,
    "start_time": "2023-08-28T11:14:15.404Z"
   },
   {
    "duration": 275,
    "start_time": "2023-08-28T11:14:22.333Z"
   },
   {
    "duration": 6426,
    "start_time": "2023-08-28T11:14:22.610Z"
   },
   {
    "duration": 51105,
    "start_time": "2023-08-28T11:14:29.038Z"
   },
   {
    "duration": 26472,
    "start_time": "2023-08-28T11:15:20.145Z"
   },
   {
    "duration": 174711,
    "start_time": "2023-08-28T11:15:46.618Z"
   },
   {
    "duration": 4,
    "start_time": "2023-08-28T11:18:41.331Z"
   },
   {
    "duration": 2680490,
    "start_time": "2023-08-28T11:18:41.337Z"
   },
   {
    "duration": 3203,
    "start_time": "2023-08-28T12:03:21.829Z"
   },
   {
    "duration": 106,
    "start_time": "2023-08-28T12:03:25.125Z"
   },
   {
    "duration": 690,
    "start_time": "2023-08-28T12:03:25.235Z"
   },
   {
    "duration": 13,
    "start_time": "2023-08-28T12:03:25.928Z"
   },
   {
    "duration": 1126,
    "start_time": "2023-08-28T12:03:25.943Z"
   },
   {
    "duration": 65,
    "start_time": "2023-08-28T12:03:27.071Z"
   },
   {
    "duration": 6450,
    "start_time": "2023-08-28T12:03:27.138Z"
   },
   {
    "duration": 62,
    "start_time": "2023-08-28T12:03:33.590Z"
   },
   {
    "duration": 59688,
    "start_time": "2023-08-28T12:03:33.654Z"
   },
   {
    "duration": 10595,
    "start_time": "2023-08-28T12:04:33.344Z"
   },
   {
    "duration": 11,
    "start_time": "2023-08-28T12:04:43.941Z"
   },
   {
    "duration": 6630,
    "start_time": "2023-08-28T12:04:43.953Z"
   },
   {
    "duration": 135914,
    "start_time": "2023-08-28T12:17:40.959Z"
   },
   {
    "duration": 140,
    "start_time": "2023-08-28T12:19:56.876Z"
   },
   {
    "duration": 852774,
    "start_time": "2023-08-28T12:20:12.951Z"
   },
   {
    "duration": 13018,
    "start_time": "2023-08-28T12:34:25.727Z"
   },
   {
    "duration": 9,
    "start_time": "2023-08-28T12:34:38.747Z"
   },
   {
    "duration": 11,
    "start_time": "2023-08-28T14:01:42.190Z"
   },
   {
    "duration": 16041,
    "start_time": "2023-08-29T12:37:23.696Z"
   },
   {
    "duration": 3127,
    "start_time": "2023-08-29T12:37:39.739Z"
   },
   {
    "duration": 2709,
    "start_time": "2023-08-29T12:37:42.868Z"
   },
   {
    "duration": 1193,
    "start_time": "2023-08-29T12:37:45.579Z"
   },
   {
    "duration": 33,
    "start_time": "2023-08-29T12:37:46.775Z"
   },
   {
    "duration": 3,
    "start_time": "2023-08-29T12:37:46.810Z"
   },
   {
    "duration": 14,
    "start_time": "2023-08-29T12:37:46.815Z"
   },
   {
    "duration": 27,
    "start_time": "2023-08-29T12:37:46.831Z"
   },
   {
    "duration": 175,
    "start_time": "2023-08-29T12:37:46.860Z"
   },
   {
    "duration": 651,
    "start_time": "2023-08-29T12:37:47.036Z"
   },
   {
    "duration": 136,
    "start_time": "2023-08-29T12:37:47.689Z"
   },
   {
    "duration": 8,
    "start_time": "2023-08-29T12:37:47.827Z"
   },
   {
    "duration": 165,
    "start_time": "2023-08-29T12:37:47.836Z"
   },
   {
    "duration": 434,
    "start_time": "2023-08-29T12:37:48.004Z"
   },
   {
    "duration": 425,
    "start_time": "2023-08-29T12:37:48.440Z"
   },
   {
    "duration": 102,
    "start_time": "2023-08-29T12:37:48.867Z"
   },
   {
    "duration": 511,
    "start_time": "2023-08-29T12:37:48.971Z"
   },
   {
    "duration": 136,
    "start_time": "2023-08-29T12:37:49.484Z"
   },
   {
    "duration": 401,
    "start_time": "2023-08-29T12:37:49.622Z"
   },
   {
    "duration": 20,
    "start_time": "2023-08-29T12:37:50.026Z"
   },
   {
    "duration": 51,
    "start_time": "2023-08-29T12:37:50.048Z"
   },
   {
    "duration": 30,
    "start_time": "2023-08-29T12:37:50.100Z"
   },
   {
    "duration": 10,
    "start_time": "2023-08-29T12:37:50.131Z"
   },
   {
    "duration": 146296,
    "start_time": "2023-08-29T12:37:50.142Z"
   },
   {
    "duration": 31,
    "start_time": "2023-08-29T12:40:16.440Z"
   },
   {
    "duration": 33,
    "start_time": "2023-08-29T12:40:16.481Z"
   },
   {
    "duration": 23,
    "start_time": "2023-08-29T12:40:16.516Z"
   },
   {
    "duration": 3,
    "start_time": "2023-08-29T12:40:16.541Z"
   },
   {
    "duration": 397297,
    "start_time": "2023-08-29T12:40:16.546Z"
   },
   {
    "duration": 39,
    "start_time": "2023-08-29T12:46:53.845Z"
   },
   {
    "duration": 36,
    "start_time": "2023-08-29T12:46:53.889Z"
   },
   {
    "duration": 18,
    "start_time": "2023-08-29T12:46:53.927Z"
   },
   {
    "duration": 59,
    "start_time": "2023-08-29T12:46:53.947Z"
   },
   {
    "duration": 30,
    "start_time": "2023-08-29T12:46:54.008Z"
   },
   {
    "duration": 18,
    "start_time": "2023-08-29T12:46:54.040Z"
   },
   {
    "duration": 62,
    "start_time": "2023-08-29T12:46:54.060Z"
   },
   {
    "duration": 22,
    "start_time": "2023-08-29T12:46:54.124Z"
   },
   {
    "duration": 67,
    "start_time": "2023-08-29T12:46:54.148Z"
   },
   {
    "duration": 302,
    "start_time": "2023-08-29T12:46:54.217Z"
   },
   {
    "duration": 8,
    "start_time": "2023-08-29T12:46:54.521Z"
   },
   {
    "duration": 93,
    "start_time": "2023-08-29T12:46:54.533Z"
   },
   {
    "duration": 78,
    "start_time": "2023-08-29T12:46:54.628Z"
   },
   {
    "duration": 73,
    "start_time": "2023-08-29T12:46:54.708Z"
   },
   {
    "duration": 64,
    "start_time": "2023-08-29T12:46:54.784Z"
   },
   {
    "duration": 259,
    "start_time": "2023-08-29T12:46:54.850Z"
   },
   {
    "duration": 253,
    "start_time": "2023-08-29T12:46:55.110Z"
   },
   {
    "duration": 17,
    "start_time": "2023-08-29T12:46:55.364Z"
   },
   {
    "duration": 7,
    "start_time": "2023-08-29T12:46:55.383Z"
   },
   {
    "duration": 90,
    "start_time": "2023-08-29T12:46:55.392Z"
   },
   {
    "duration": 12,
    "start_time": "2023-08-29T12:46:55.484Z"
   },
   {
    "duration": 21,
    "start_time": "2023-08-29T12:46:55.498Z"
   },
   {
    "duration": 3,
    "start_time": "2023-08-29T12:46:55.520Z"
   },
   {
    "duration": 70,
    "start_time": "2023-08-29T12:49:05.252Z"
   },
   {
    "duration": 4,
    "start_time": "2023-08-29T12:49:14.507Z"
   },
   {
    "duration": 22,
    "start_time": "2023-08-29T12:49:27.191Z"
   },
   {
    "duration": 5,
    "start_time": "2023-08-29T12:49:32.083Z"
   },
   {
    "duration": 17,
    "start_time": "2023-08-29T12:49:49.795Z"
   },
   {
    "duration": 5,
    "start_time": "2023-08-29T12:49:54.176Z"
   },
   {
    "duration": 5,
    "start_time": "2023-08-29T12:50:15.761Z"
   },
   {
    "duration": 4,
    "start_time": "2023-08-29T12:50:20.459Z"
   },
   {
    "duration": 29,
    "start_time": "2023-08-29T12:52:22.621Z"
   },
   {
    "duration": 172,
    "start_time": "2023-08-29T12:52:48.382Z"
   },
   {
    "duration": 75,
    "start_time": "2023-08-29T12:52:54.681Z"
   },
   {
    "duration": 4,
    "start_time": "2023-08-29T12:52:56.854Z"
   },
   {
    "duration": 6,
    "start_time": "2023-08-29T12:53:12.551Z"
   },
   {
    "duration": 8,
    "start_time": "2023-08-29T12:53:27.582Z"
   },
   {
    "duration": 10,
    "start_time": "2023-08-29T12:54:15.959Z"
   },
   {
    "duration": 111,
    "start_time": "2023-08-29T12:55:22.963Z"
   },
   {
    "duration": 32,
    "start_time": "2023-08-29T12:55:57.441Z"
   },
   {
    "duration": 15,
    "start_time": "2023-08-29T12:55:57.982Z"
   },
   {
    "duration": 67,
    "start_time": "2023-08-29T12:55:59.798Z"
   },
   {
    "duration": 34,
    "start_time": "2023-08-29T12:56:00.074Z"
   },
   {
    "duration": 10,
    "start_time": "2023-08-29T12:56:00.402Z"
   },
   {
    "duration": 1421,
    "start_time": "2023-08-29T12:57:23.252Z"
   },
   {
    "duration": 1672,
    "start_time": "2023-08-29T12:58:38.865Z"
   },
   {
    "duration": 31,
    "start_time": "2023-08-29T12:58:44.637Z"
   },
   {
    "duration": 23,
    "start_time": "2023-08-29T12:58:58.313Z"
   },
   {
    "duration": 28,
    "start_time": "2023-08-29T12:59:03.090Z"
   },
   {
    "duration": 3,
    "start_time": "2023-08-29T13:00:20.759Z"
   },
   {
    "duration": 2,
    "start_time": "2023-08-29T13:00:21.853Z"
   },
   {
    "duration": 133,
    "start_time": "2023-08-29T13:01:40.927Z"
   },
   {
    "duration": 6255,
    "start_time": "2023-08-29T13:01:48.236Z"
   },
   {
    "duration": 2,
    "start_time": "2023-08-29T13:02:30.542Z"
   },
   {
    "duration": 43443,
    "start_time": "2023-08-29T13:03:45.969Z"
   },
   {
    "duration": 115,
    "start_time": "2023-08-29T13:08:34.795Z"
   },
   {
    "duration": 3,
    "start_time": "2023-08-29T13:08:44.133Z"
   },
   {
    "duration": 45160,
    "start_time": "2023-08-29T13:08:53.362Z"
   },
   {
    "duration": 43985,
    "start_time": "2023-08-29T13:10:36.933Z"
   },
   {
    "duration": 3,
    "start_time": "2023-08-29T13:12:51.715Z"
   },
   {
    "duration": 12,
    "start_time": "2023-08-29T13:13:52.192Z"
   },
   {
    "duration": 12,
    "start_time": "2023-08-29T13:13:56.966Z"
   },
   {
    "duration": 89,
    "start_time": "2023-08-29T13:15:08.526Z"
   },
   {
    "duration": 13,
    "start_time": "2023-08-29T13:15:20.651Z"
   },
   {
    "duration": 4,
    "start_time": "2023-08-29T13:16:53.016Z"
   },
   {
    "duration": 299487,
    "start_time": "2023-08-29T13:16:56.998Z"
   },
   {
    "duration": 6491,
    "start_time": "2023-08-29T13:25:16.603Z"
   },
   {
    "duration": 42,
    "start_time": "2023-08-29T13:25:32.738Z"
   },
   {
    "duration": 409,
    "start_time": "2023-08-29T13:28:28.386Z"
   },
   {
    "duration": 34,
    "start_time": "2023-08-29T13:28:36.378Z"
   },
   {
    "duration": 856,
    "start_time": "2023-08-29T13:28:46.128Z"
   },
   {
    "duration": 51,
    "start_time": "2023-08-29T13:28:58.700Z"
   },
   {
    "duration": 6118,
    "start_time": "2023-08-29T13:29:08.354Z"
   },
   {
    "duration": 59,
    "start_time": "2023-08-29T13:29:31.632Z"
   },
   {
    "duration": 999,
    "start_time": "2023-08-29T13:33:00.067Z"
   },
   {
    "duration": 672,
    "start_time": "2023-08-29T13:33:23.316Z"
   },
   {
    "duration": 3729,
    "start_time": "2023-08-29T13:34:26.455Z"
   },
   {
    "duration": 90,
    "start_time": "2023-08-29T13:34:50.465Z"
   },
   {
    "duration": 72,
    "start_time": "2023-08-29T13:36:57.160Z"
   },
   {
    "duration": 114,
    "start_time": "2023-08-29T13:37:05.168Z"
   },
   {
    "duration": 250,
    "start_time": "2023-08-29T13:37:10.215Z"
   },
   {
    "duration": 694,
    "start_time": "2023-08-29T13:37:17.715Z"
   },
   {
    "duration": 8939,
    "start_time": "2023-08-29T13:38:23.109Z"
   },
   {
    "duration": 247,
    "start_time": "2023-08-29T13:39:05.291Z"
   },
   {
    "duration": 18,
    "start_time": "2023-08-29T13:39:07.577Z"
   },
   {
    "duration": 3,
    "start_time": "2023-08-29T13:39:21.237Z"
   },
   {
    "duration": 472157,
    "start_time": "2023-08-29T13:39:22.458Z"
   },
   {
    "duration": 12242,
    "start_time": "2023-08-29T13:47:42.414Z"
   },
   {
    "duration": 3328,
    "start_time": "2023-08-29T13:49:14.142Z"
   },
   {
    "duration": 2751,
    "start_time": "2023-08-29T13:49:17.472Z"
   },
   {
    "duration": 9,
    "start_time": "2023-08-29T13:49:20.226Z"
   },
   {
    "duration": 1040,
    "start_time": "2023-08-29T13:49:20.238Z"
   },
   {
    "duration": 27,
    "start_time": "2023-08-29T13:49:21.281Z"
   },
   {
    "duration": 3,
    "start_time": "2023-08-29T13:49:21.311Z"
   },
   {
    "duration": 9,
    "start_time": "2023-08-29T13:49:21.316Z"
   },
   {
    "duration": 8,
    "start_time": "2023-08-29T13:49:21.327Z"
   },
   {
    "duration": 194,
    "start_time": "2023-08-29T13:49:21.337Z"
   },
   {
    "duration": 743,
    "start_time": "2023-08-29T13:49:21.533Z"
   },
   {
    "duration": 172,
    "start_time": "2023-08-29T13:49:22.281Z"
   },
   {
    "duration": 8,
    "start_time": "2023-08-29T13:49:22.455Z"
   },
   {
    "duration": 171,
    "start_time": "2023-08-29T13:49:22.465Z"
   },
   {
    "duration": 499,
    "start_time": "2023-08-29T13:49:22.640Z"
   },
   {
    "duration": 693,
    "start_time": "2023-08-29T13:49:23.141Z"
   },
   {
    "duration": 94,
    "start_time": "2023-08-29T13:49:23.836Z"
   },
   {
    "duration": 523,
    "start_time": "2023-08-29T13:49:23.932Z"
   },
   {
    "duration": 152,
    "start_time": "2023-08-29T13:49:24.457Z"
   },
   {
    "duration": 424,
    "start_time": "2023-08-29T13:49:24.611Z"
   },
   {
    "duration": 16,
    "start_time": "2023-08-29T13:49:25.037Z"
   },
   {
    "duration": 54,
    "start_time": "2023-08-29T13:49:25.055Z"
   },
   {
    "duration": 45,
    "start_time": "2023-08-29T13:49:25.111Z"
   },
   {
    "duration": 18,
    "start_time": "2023-08-29T13:49:25.158Z"
   },
   {
    "duration": 171213,
    "start_time": "2023-08-29T13:49:25.178Z"
   },
   {
    "duration": 38,
    "start_time": "2023-08-29T13:52:16.395Z"
   },
   {
    "duration": 59,
    "start_time": "2023-08-29T13:52:16.435Z"
   },
   {
    "duration": 22,
    "start_time": "2023-08-29T13:52:16.497Z"
   },
   {
    "duration": 14,
    "start_time": "2023-08-29T13:52:16.521Z"
   },
   {
    "duration": 425933,
    "start_time": "2023-08-29T13:52:16.537Z"
   },
   {
    "duration": 39,
    "start_time": "2023-08-29T13:59:22.472Z"
   },
   {
    "duration": 42,
    "start_time": "2023-08-29T13:59:22.513Z"
   },
   {
    "duration": 31,
    "start_time": "2023-08-29T13:59:22.557Z"
   },
   {
    "duration": 39,
    "start_time": "2023-08-29T13:59:22.592Z"
   },
   {
    "duration": 32,
    "start_time": "2023-08-29T13:59:22.632Z"
   },
   {
    "duration": 27,
    "start_time": "2023-08-29T13:59:22.666Z"
   },
   {
    "duration": 34,
    "start_time": "2023-08-29T13:59:22.695Z"
   },
   {
    "duration": 22,
    "start_time": "2023-08-29T13:59:22.732Z"
   },
   {
    "duration": 66,
    "start_time": "2023-08-29T13:59:22.757Z"
   },
   {
    "duration": 308,
    "start_time": "2023-08-29T13:59:22.825Z"
   },
   {
    "duration": 9,
    "start_time": "2023-08-29T13:59:23.134Z"
   },
   {
    "duration": 83,
    "start_time": "2023-08-29T13:59:23.147Z"
   },
   {
    "duration": 79,
    "start_time": "2023-08-29T13:59:23.232Z"
   },
   {
    "duration": 84,
    "start_time": "2023-08-29T13:59:23.313Z"
   },
   {
    "duration": 53,
    "start_time": "2023-08-29T13:59:23.400Z"
   },
   {
    "duration": 231,
    "start_time": "2023-08-29T13:59:23.455Z"
   },
   {
    "duration": 245,
    "start_time": "2023-08-29T13:59:23.688Z"
   },
   {
    "duration": 17,
    "start_time": "2023-08-29T13:59:23.935Z"
   },
   {
    "duration": 4,
    "start_time": "2023-08-29T13:59:23.954Z"
   },
   {
    "duration": 105,
    "start_time": "2023-08-29T13:59:23.960Z"
   },
   {
    "duration": 27,
    "start_time": "2023-08-29T13:59:24.068Z"
   },
   {
    "duration": 27,
    "start_time": "2023-08-29T13:59:24.097Z"
   },
   {
    "duration": 10,
    "start_time": "2023-08-29T13:59:24.126Z"
   },
   {
    "duration": 128,
    "start_time": "2023-08-29T13:59:24.139Z"
   },
   {
    "duration": 35,
    "start_time": "2023-08-29T13:59:24.269Z"
   },
   {
    "duration": 11,
    "start_time": "2023-08-29T13:59:24.306Z"
   },
   {
    "duration": 1908,
    "start_time": "2023-08-29T13:59:24.319Z"
   },
   {
    "duration": 3,
    "start_time": "2023-08-29T13:59:26.230Z"
   },
   {
    "duration": 8,
    "start_time": "2023-08-29T13:59:26.234Z"
   },
   {
    "duration": 5,
    "start_time": "2023-08-29T13:59:26.244Z"
   },
   {
    "duration": 4,
    "start_time": "2023-08-29T13:59:26.251Z"
   },
   {
    "duration": 6,
    "start_time": "2023-08-29T13:59:26.257Z"
   },
   {
    "duration": 25,
    "start_time": "2023-08-29T13:59:26.266Z"
   },
   {
    "duration": 4,
    "start_time": "2023-08-29T13:59:26.294Z"
   },
   {
    "duration": 3588,
    "start_time": "2023-08-29T13:59:26.302Z"
   },
   {
    "duration": 50065,
    "start_time": "2023-08-29T13:59:29.897Z"
   },
   {
    "duration": 4,
    "start_time": "2023-08-29T14:00:19.964Z"
   },
   {
    "duration": 488720,
    "start_time": "2023-08-29T14:00:19.983Z"
   },
   {
    "duration": 1266908,
    "start_time": "2023-08-29T14:08:28.705Z"
   },
   {
    "duration": 10,
    "start_time": "2023-08-29T14:29:35.689Z"
   },
   {
    "duration": 12969390,
    "start_time": "2023-08-29T14:29:35.706Z"
   },
   {
    "duration": 1249,
    "start_time": "2023-08-29T18:05:45.102Z"
   },
   {
    "duration": 70,
    "start_time": "2023-08-29T18:05:46.356Z"
   },
   {
    "duration": 186,
    "start_time": "2023-08-29T18:05:46.432Z"
   },
   {
    "duration": 0,
    "start_time": "2023-08-29T18:05:46.627Z"
   },
   {
    "duration": 226052,
    "start_time": "2023-08-29T18:06:12.861Z"
   },
   {
    "duration": 5,
    "start_time": "2023-08-29T18:09:58.920Z"
   },
   {
    "duration": 25459,
    "start_time": "2023-08-29T18:09:58.932Z"
   },
   {
    "duration": 14140,
    "start_time": "2023-08-29T18:10:36.969Z"
   },
   {
    "duration": 4749,
    "start_time": "2023-08-29T18:24:07.096Z"
   },
   {
    "duration": 3660,
    "start_time": "2023-08-29T18:24:11.849Z"
   },
   {
    "duration": 3892,
    "start_time": "2023-08-29T18:24:15.512Z"
   },
   {
    "duration": 1353,
    "start_time": "2023-08-29T18:24:19.407Z"
   },
   {
    "duration": 47,
    "start_time": "2023-08-29T18:24:20.768Z"
   },
   {
    "duration": 5,
    "start_time": "2023-08-29T18:24:20.818Z"
   },
   {
    "duration": 22,
    "start_time": "2023-08-29T18:24:20.825Z"
   },
   {
    "duration": 13,
    "start_time": "2023-08-29T18:24:20.851Z"
   },
   {
    "duration": 315,
    "start_time": "2023-08-29T18:24:20.872Z"
   },
   {
    "duration": 1060,
    "start_time": "2023-08-29T18:24:21.204Z"
   },
   {
    "duration": 311,
    "start_time": "2023-08-29T18:24:22.269Z"
   },
   {
    "duration": 19,
    "start_time": "2023-08-29T18:24:22.586Z"
   },
   {
    "duration": 209,
    "start_time": "2023-08-29T18:24:22.610Z"
   },
   {
    "duration": 660,
    "start_time": "2023-08-29T18:24:22.825Z"
   },
   {
    "duration": 729,
    "start_time": "2023-08-29T18:24:23.488Z"
   },
   {
    "duration": 153,
    "start_time": "2023-08-29T18:24:24.232Z"
   },
   {
    "duration": 849,
    "start_time": "2023-08-29T18:24:24.393Z"
   },
   {
    "duration": 192,
    "start_time": "2023-08-29T18:24:25.248Z"
   },
   {
    "duration": 772,
    "start_time": "2023-08-29T18:24:25.447Z"
   },
   {
    "duration": 34,
    "start_time": "2023-08-29T18:24:26.226Z"
   },
   {
    "duration": 89,
    "start_time": "2023-08-29T18:24:26.266Z"
   },
   {
    "duration": 49,
    "start_time": "2023-08-29T18:24:26.362Z"
   },
   {
    "duration": 15,
    "start_time": "2023-08-29T18:24:26.422Z"
   },
   {
    "duration": 257021,
    "start_time": "2023-08-29T18:24:26.446Z"
   },
   {
    "duration": 62,
    "start_time": "2023-08-29T18:28:43.469Z"
   },
   {
    "duration": 37,
    "start_time": "2023-08-29T18:28:43.533Z"
   },
   {
    "duration": 43,
    "start_time": "2023-08-29T18:28:43.572Z"
   },
   {
    "duration": 4,
    "start_time": "2023-08-29T18:28:43.624Z"
   },
   {
    "duration": 544630,
    "start_time": "2023-08-29T18:28:43.632Z"
   },
   {
    "duration": 46,
    "start_time": "2023-08-29T18:37:48.264Z"
   },
   {
    "duration": 42,
    "start_time": "2023-08-29T18:37:48.312Z"
   },
   {
    "duration": 53,
    "start_time": "2023-08-29T18:37:48.356Z"
   },
   {
    "duration": 47,
    "start_time": "2023-08-29T18:37:48.416Z"
   },
   {
    "duration": 55,
    "start_time": "2023-08-29T18:37:48.465Z"
   },
   {
    "duration": 17,
    "start_time": "2023-08-29T18:37:48.523Z"
   },
   {
    "duration": 60,
    "start_time": "2023-08-29T18:37:48.543Z"
   },
   {
    "duration": 33,
    "start_time": "2023-08-29T18:37:48.608Z"
   },
   {
    "duration": 34,
    "start_time": "2023-08-29T18:37:48.643Z"
   },
   {
    "duration": 454,
    "start_time": "2023-08-29T18:37:48.680Z"
   },
   {
    "duration": 14,
    "start_time": "2023-08-29T18:37:49.137Z"
   },
   {
    "duration": 107,
    "start_time": "2023-08-29T18:37:49.153Z"
   },
   {
    "duration": 96,
    "start_time": "2023-08-29T18:37:49.261Z"
   },
   {
    "duration": 100,
    "start_time": "2023-08-29T18:37:49.359Z"
   },
   {
    "duration": 91,
    "start_time": "2023-08-29T18:37:49.461Z"
   },
   {
    "duration": 273,
    "start_time": "2023-08-29T18:37:49.554Z"
   },
   {
    "duration": 301,
    "start_time": "2023-08-29T18:37:49.829Z"
   },
   {
    "duration": 15,
    "start_time": "2023-08-29T18:37:50.132Z"
   },
   {
    "duration": 4,
    "start_time": "2023-08-29T18:37:50.150Z"
   },
   {
    "duration": 175,
    "start_time": "2023-08-29T18:37:50.157Z"
   },
   {
    "duration": 12,
    "start_time": "2023-08-29T18:37:50.334Z"
   },
   {
    "duration": 49,
    "start_time": "2023-08-29T18:37:50.348Z"
   },
   {
    "duration": 7,
    "start_time": "2023-08-29T18:37:50.412Z"
   },
   {
    "duration": 92,
    "start_time": "2023-08-29T18:37:50.429Z"
   },
   {
    "duration": 38,
    "start_time": "2023-08-29T18:37:50.524Z"
   },
   {
    "duration": 56,
    "start_time": "2023-08-29T18:37:50.565Z"
   },
   {
    "duration": 2125,
    "start_time": "2023-08-29T18:37:50.624Z"
   },
   {
    "duration": 4,
    "start_time": "2023-08-29T18:37:52.752Z"
   },
   {
    "duration": 8,
    "start_time": "2023-08-29T18:37:52.758Z"
   },
   {
    "duration": 5,
    "start_time": "2023-08-29T18:37:52.769Z"
   },
   {
    "duration": 26,
    "start_time": "2023-08-29T18:37:52.782Z"
   },
   {
    "duration": 5,
    "start_time": "2023-08-29T18:37:52.810Z"
   },
   {
    "duration": 8,
    "start_time": "2023-08-29T18:37:52.817Z"
   },
   {
    "duration": 9,
    "start_time": "2023-08-29T18:37:52.827Z"
   },
   {
    "duration": 3768,
    "start_time": "2023-08-29T18:37:52.838Z"
   },
   {
    "duration": 27295,
    "start_time": "2023-08-29T18:37:56.617Z"
   },
   {
    "duration": 16,
    "start_time": "2023-08-29T18:38:23.914Z"
   },
   {
    "duration": 0,
    "start_time": "2023-08-29T18:38:23.932Z"
   },
   {
    "duration": 0,
    "start_time": "2023-08-29T18:38:23.934Z"
   },
   {
    "duration": 0,
    "start_time": "2023-08-29T18:38:23.938Z"
   },
   {
    "duration": 0,
    "start_time": "2023-08-29T18:38:23.939Z"
   },
   {
    "duration": 0,
    "start_time": "2023-08-29T18:38:23.941Z"
   },
   {
    "duration": 0,
    "start_time": "2023-08-29T18:38:23.942Z"
   },
   {
    "duration": 0,
    "start_time": "2023-08-29T18:38:23.944Z"
   },
   {
    "duration": 0,
    "start_time": "2023-08-29T18:38:23.945Z"
   },
   {
    "duration": 0,
    "start_time": "2023-08-29T18:38:23.947Z"
   },
   {
    "duration": 0,
    "start_time": "2023-08-29T18:38:23.948Z"
   },
   {
    "duration": 0,
    "start_time": "2023-08-29T18:38:23.950Z"
   },
   {
    "duration": 0,
    "start_time": "2023-08-29T18:38:23.981Z"
   },
   {
    "duration": 0,
    "start_time": "2023-08-29T18:38:23.982Z"
   },
   {
    "duration": 0,
    "start_time": "2023-08-29T18:38:23.984Z"
   },
   {
    "duration": 0,
    "start_time": "2023-08-29T18:38:23.988Z"
   },
   {
    "duration": 0,
    "start_time": "2023-08-29T18:38:23.989Z"
   },
   {
    "duration": 0,
    "start_time": "2023-08-29T18:38:23.990Z"
   },
   {
    "duration": 0,
    "start_time": "2023-08-29T18:38:23.996Z"
   },
   {
    "duration": 0,
    "start_time": "2023-08-29T18:38:23.997Z"
   },
   {
    "duration": 0,
    "start_time": "2023-08-29T18:38:23.998Z"
   },
   {
    "duration": 0,
    "start_time": "2023-08-29T18:38:24.000Z"
   },
   {
    "duration": 55,
    "start_time": "2023-08-29T18:39:06.671Z"
   },
   {
    "duration": 5,
    "start_time": "2023-08-29T18:39:13.369Z"
   },
   {
    "duration": 30,
    "start_time": "2023-08-29T18:40:30.242Z"
   },
   {
    "duration": 138,
    "start_time": "2023-08-29T18:40:38.230Z"
   },
   {
    "duration": 12,
    "start_time": "2023-08-29T18:40:41.828Z"
   },
   {
    "duration": 55,
    "start_time": "2023-08-29T18:41:11.220Z"
   },
   {
    "duration": 6,
    "start_time": "2023-08-29T18:41:23.511Z"
   },
   {
    "duration": 38,
    "start_time": "2023-08-29T18:42:39.845Z"
   },
   {
    "duration": 39,
    "start_time": "2023-08-29T18:43:22.513Z"
   },
   {
    "duration": 50,
    "start_time": "2023-08-29T18:43:37.169Z"
   },
   {
    "duration": 24,
    "start_time": "2023-08-29T18:43:46.163Z"
   },
   {
    "duration": 11,
    "start_time": "2023-08-29T18:43:55.397Z"
   },
   {
    "duration": 169,
    "start_time": "2023-08-29T18:44:44.266Z"
   },
   {
    "duration": 7,
    "start_time": "2023-08-29T18:44:45.744Z"
   },
   {
    "duration": 161,
    "start_time": "2023-08-29T18:45:27.588Z"
   },
   {
    "duration": 51,
    "start_time": "2023-08-29T18:45:29.591Z"
   },
   {
    "duration": 193,
    "start_time": "2023-08-29T18:47:01.051Z"
   },
   {
    "duration": 37,
    "start_time": "2023-08-29T18:47:09.016Z"
   },
   {
    "duration": 42,
    "start_time": "2023-08-29T18:47:17.050Z"
   },
   {
    "duration": 3612,
    "start_time": "2023-08-29T18:47:43.724Z"
   },
   {
    "duration": 52454,
    "start_time": "2023-08-29T18:48:01.325Z"
   },
   {
    "duration": 126,
    "start_time": "2023-08-29T18:48:53.784Z"
   },
   {
    "duration": 161568,
    "start_time": "2023-08-29T18:48:53.916Z"
   },
   {
    "duration": 4,
    "start_time": "2023-08-29T18:51:35.696Z"
   },
   {
    "duration": 78,
    "start_time": "2023-08-29T18:52:24.524Z"
   },
   {
    "duration": 14,
    "start_time": "2023-08-29T18:52:29.809Z"
   },
   {
    "duration": 4885,
    "start_time": "2023-08-29T18:54:02.880Z"
   },
   {
    "duration": 3383,
    "start_time": "2023-08-29T18:54:07.768Z"
   },
   {
    "duration": 3561,
    "start_time": "2023-08-29T18:54:11.153Z"
   },
   {
    "duration": 1302,
    "start_time": "2023-08-29T18:54:14.720Z"
   },
   {
    "duration": 49,
    "start_time": "2023-08-29T18:54:16.030Z"
   },
   {
    "duration": 8,
    "start_time": "2023-08-29T18:54:16.089Z"
   },
   {
    "duration": 7,
    "start_time": "2023-08-29T18:54:16.106Z"
   },
   {
    "duration": 13,
    "start_time": "2023-08-29T18:54:16.121Z"
   },
   {
    "duration": 312,
    "start_time": "2023-08-29T18:54:16.143Z"
   },
   {
    "duration": 1234,
    "start_time": "2023-08-29T18:54:16.463Z"
   },
   {
    "duration": 309,
    "start_time": "2023-08-29T18:54:17.708Z"
   },
   {
    "duration": 14,
    "start_time": "2023-08-29T18:54:18.019Z"
   },
   {
    "duration": 259,
    "start_time": "2023-08-29T18:54:18.038Z"
   },
   {
    "duration": 826,
    "start_time": "2023-08-29T18:54:18.307Z"
   },
   {
    "duration": 786,
    "start_time": "2023-08-29T18:54:19.140Z"
   },
   {
    "duration": 136,
    "start_time": "2023-08-29T18:54:19.934Z"
   },
   {
    "duration": 854,
    "start_time": "2023-08-29T18:54:20.077Z"
   },
   {
    "duration": 214,
    "start_time": "2023-08-29T18:54:20.939Z"
   },
   {
    "duration": 744,
    "start_time": "2023-08-29T18:54:21.161Z"
   },
   {
    "duration": 38,
    "start_time": "2023-08-29T18:54:21.913Z"
   },
   {
    "duration": 105,
    "start_time": "2023-08-29T18:54:21.964Z"
   },
   {
    "duration": 34,
    "start_time": "2023-08-29T18:54:22.074Z"
   },
   {
    "duration": 4,
    "start_time": "2023-08-29T18:54:22.111Z"
   },
   {
    "duration": 260077,
    "start_time": "2023-08-29T18:54:22.122Z"
   },
   {
    "duration": 57,
    "start_time": "2023-08-29T18:58:42.213Z"
   },
   {
    "duration": 69,
    "start_time": "2023-08-29T18:58:42.271Z"
   },
   {
    "duration": 28,
    "start_time": "2023-08-29T18:58:42.342Z"
   },
   {
    "duration": 28,
    "start_time": "2023-08-29T18:58:42.372Z"
   },
   {
    "duration": 532960,
    "start_time": "2023-08-29T18:58:42.404Z"
   },
   {
    "duration": 52,
    "start_time": "2023-08-29T19:07:35.366Z"
   },
   {
    "duration": 31,
    "start_time": "2023-08-29T19:07:35.425Z"
   },
   {
    "duration": 26,
    "start_time": "2023-08-29T19:07:35.457Z"
   },
   {
    "duration": 48,
    "start_time": "2023-08-29T19:07:35.487Z"
   },
   {
    "duration": 60,
    "start_time": "2023-08-29T19:07:35.537Z"
   },
   {
    "duration": 28,
    "start_time": "2023-08-29T19:07:35.599Z"
   },
   {
    "duration": 33,
    "start_time": "2023-08-29T19:07:35.629Z"
   },
   {
    "duration": 31,
    "start_time": "2023-08-29T19:07:35.664Z"
   },
   {
    "duration": 43,
    "start_time": "2023-08-29T19:07:35.698Z"
   },
   {
    "duration": 295,
    "start_time": "2023-08-29T19:07:35.743Z"
   },
   {
    "duration": 9,
    "start_time": "2023-08-29T19:07:36.039Z"
   },
   {
    "duration": 91,
    "start_time": "2023-08-29T19:07:36.053Z"
   },
   {
    "duration": 86,
    "start_time": "2023-08-29T19:07:36.146Z"
   },
   {
    "duration": 95,
    "start_time": "2023-08-29T19:07:36.234Z"
   },
   {
    "duration": 74,
    "start_time": "2023-08-29T19:07:36.332Z"
   },
   {
    "duration": 323,
    "start_time": "2023-08-29T19:07:36.409Z"
   },
   {
    "duration": 307,
    "start_time": "2023-08-29T19:07:36.734Z"
   },
   {
    "duration": 15,
    "start_time": "2023-08-29T19:07:37.044Z"
   },
   {
    "duration": 4,
    "start_time": "2023-08-29T19:07:37.062Z"
   },
   {
    "duration": 151,
    "start_time": "2023-08-29T19:07:37.082Z"
   },
   {
    "duration": 11,
    "start_time": "2023-08-29T19:07:37.235Z"
   },
   {
    "duration": 37,
    "start_time": "2023-08-29T19:07:37.248Z"
   },
   {
    "duration": 7,
    "start_time": "2023-08-29T19:07:37.287Z"
   },
   {
    "duration": 180,
    "start_time": "2023-08-29T19:07:37.298Z"
   },
   {
    "duration": 48,
    "start_time": "2023-08-29T19:07:37.480Z"
   },
   {
    "duration": 14,
    "start_time": "2023-08-29T19:07:37.532Z"
   },
   {
    "duration": 2286,
    "start_time": "2023-08-29T19:07:37.548Z"
   },
   {
    "duration": 4,
    "start_time": "2023-08-29T19:07:39.836Z"
   },
   {
    "duration": 7,
    "start_time": "2023-08-29T19:07:39.841Z"
   },
   {
    "duration": 9,
    "start_time": "2023-08-29T19:07:39.850Z"
   },
   {
    "duration": 5,
    "start_time": "2023-08-29T19:07:39.862Z"
   },
   {
    "duration": 4,
    "start_time": "2023-08-29T19:07:39.869Z"
   },
   {
    "duration": 5,
    "start_time": "2023-08-29T19:07:39.875Z"
   },
   {
    "duration": 174,
    "start_time": "2023-08-29T19:07:39.891Z"
   },
   {
    "duration": 3620,
    "start_time": "2023-08-29T19:07:40.067Z"
   },
   {
    "duration": 57595,
    "start_time": "2023-08-29T19:07:43.690Z"
   },
   {
    "duration": 4,
    "start_time": "2023-08-29T19:08:41.287Z"
   },
   {
    "duration": 614878,
    "start_time": "2023-08-29T19:08:41.301Z"
   },
   {
    "duration": 2258908,
    "start_time": "2023-08-29T19:18:56.192Z"
   },
   {
    "duration": 327017,
    "start_time": "2023-08-29T19:56:35.111Z"
   },
   {
    "duration": 11973,
    "start_time": "2023-08-29T20:02:02.130Z"
   },
   {
    "duration": 196,
    "start_time": "2023-08-29T20:02:14.106Z"
   },
   {
    "duration": 598,
    "start_time": "2023-08-29T20:02:14.304Z"
   },
   {
    "duration": 85,
    "start_time": "2023-08-29T20:02:14.905Z"
   },
   {
    "duration": 862,
    "start_time": "2023-08-29T20:02:15.002Z"
   },
   {
    "duration": 51,
    "start_time": "2023-08-29T20:02:15.866Z"
   },
   {
    "duration": 3,
    "start_time": "2023-08-29T20:02:15.919Z"
   },
   {
    "duration": 25,
    "start_time": "2023-08-29T20:02:15.923Z"
   },
   {
    "duration": 5,
    "start_time": "2023-08-29T20:02:15.950Z"
   },
   {
    "duration": 7,
    "start_time": "2023-08-29T20:02:15.957Z"
   },
   {
    "duration": 4,
    "start_time": "2023-08-29T20:02:15.966Z"
   },
   {
    "duration": 20,
    "start_time": "2023-08-29T20:02:15.972Z"
   },
   {
    "duration": 6,
    "start_time": "2023-08-29T20:02:15.994Z"
   },
   {
    "duration": 3,
    "start_time": "2023-08-29T20:02:16.002Z"
   },
   {
    "duration": 6,
    "start_time": "2023-08-29T20:02:16.007Z"
   },
   {
    "duration": 23,
    "start_time": "2023-08-29T20:02:16.015Z"
   },
   {
    "duration": 20,
    "start_time": "2023-08-29T20:02:16.040Z"
   },
   {
    "duration": 3,
    "start_time": "2023-08-29T20:02:16.099Z"
   },
   {
    "duration": 103,
    "start_time": "2023-08-29T20:02:26.159Z"
   },
   {
    "duration": 29791,
    "start_time": "2023-08-29T20:02:26.347Z"
   },
   {
    "duration": 2,
    "start_time": "2023-08-29T20:02:56.141Z"
   },
   {
    "duration": 3,
    "start_time": "2023-08-29T20:02:59.306Z"
   },
   {
    "duration": 3,
    "start_time": "2023-08-29T20:03:01.934Z"
   },
   {
    "duration": 503084,
    "start_time": "2023-08-29T20:03:03.312Z"
   },
   {
    "duration": 20370,
    "start_time": "2023-08-29T20:12:17.720Z"
   },
   {
    "duration": 37,
    "start_time": "2023-08-29T20:12:40.174Z"
   },
   {
    "duration": 459,
    "start_time": "2023-08-29T20:12:46.130Z"
   },
   {
    "duration": 27,
    "start_time": "2023-08-29T20:12:47.232Z"
   },
   {
    "duration": 821,
    "start_time": "2023-08-29T20:12:50.854Z"
   },
   {
    "duration": 45,
    "start_time": "2023-08-29T20:12:52.528Z"
   },
   {
    "duration": 6908,
    "start_time": "2023-08-29T20:13:15.529Z"
   },
   {
    "duration": 96,
    "start_time": "2023-08-29T20:13:33.209Z"
   },
   {
    "duration": 7315,
    "start_time": "2023-08-29T20:15:30.824Z"
   },
   {
    "duration": 79,
    "start_time": "2023-08-29T20:15:38.141Z"
   },
   {
    "duration": 75,
    "start_time": "2023-08-29T20:15:44.761Z"
   },
   {
    "duration": 579,
    "start_time": "2023-08-29T20:16:53.909Z"
   },
   {
    "duration": 131,
    "start_time": "2023-08-29T20:17:44.725Z"
   },
   {
    "duration": 25821,
    "start_time": "2023-08-29T20:18:13.564Z"
   },
   {
    "duration": 25658,
    "start_time": "2023-08-29T20:19:26.738Z"
   },
   {
    "duration": 23489,
    "start_time": "2023-08-29T20:20:27.793Z"
   },
   {
    "duration": 11117,
    "start_time": "2023-08-29T20:21:07.866Z"
   },
   {
    "duration": 866,
    "start_time": "2023-08-29T20:21:41.560Z"
   },
   {
    "duration": 6860,
    "start_time": "2023-08-29T20:22:37.475Z"
   },
   {
    "duration": 75002,
    "start_time": "2023-08-29T20:23:25.217Z"
   },
   {
    "duration": 54966,
    "start_time": "2023-08-29T20:32:17.449Z"
   },
   {
    "duration": 586,
    "start_time": "2023-08-29T20:33:12.421Z"
   },
   {
    "duration": 19,
    "start_time": "2023-08-29T20:34:18.909Z"
   },
   {
    "duration": 13,
    "start_time": "2023-08-29T20:36:50.202Z"
   },
   {
    "duration": 7169,
    "start_time": "2023-08-29T20:39:37.146Z"
   },
   {
    "duration": 62063,
    "start_time": "2023-08-29T20:44:12.043Z"
   },
   {
    "duration": 574,
    "start_time": "2023-08-29T20:45:14.120Z"
   },
   {
    "duration": 18,
    "start_time": "2023-08-29T20:46:49.820Z"
   },
   {
    "duration": 16,
    "start_time": "2023-08-29T20:47:00.548Z"
   },
   {
    "duration": 16,
    "start_time": "2023-08-29T20:47:11.924Z"
   },
   {
    "duration": 15,
    "start_time": "2023-08-29T20:47:18.846Z"
   },
   {
    "duration": 11,
    "start_time": "2023-08-29T20:51:24.965Z"
   },
   {
    "duration": 6091,
    "start_time": "2023-08-29T20:52:54.937Z"
   },
   {
    "duration": 55,
    "start_time": "2023-08-30T13:42:46.681Z"
   },
   {
    "duration": 2705,
    "start_time": "2023-08-30T13:43:26.073Z"
   },
   {
    "duration": 3033,
    "start_time": "2023-08-30T13:43:28.780Z"
   },
   {
    "duration": 2276,
    "start_time": "2023-08-30T13:43:31.815Z"
   },
   {
    "duration": 1090,
    "start_time": "2023-08-30T13:43:34.092Z"
   },
   {
    "duration": 16,
    "start_time": "2023-08-30T13:43:35.184Z"
   },
   {
    "duration": 11,
    "start_time": "2023-08-30T13:43:35.202Z"
   },
   {
    "duration": 6,
    "start_time": "2023-08-30T13:43:35.215Z"
   },
   {
    "duration": 13,
    "start_time": "2023-08-30T13:43:35.222Z"
   },
   {
    "duration": 130,
    "start_time": "2023-08-30T13:43:35.237Z"
   },
   {
    "duration": 641,
    "start_time": "2023-08-30T13:43:35.369Z"
   },
   {
    "duration": 124,
    "start_time": "2023-08-30T13:43:36.012Z"
   },
   {
    "duration": 7,
    "start_time": "2023-08-30T13:43:36.138Z"
   },
   {
    "duration": 159,
    "start_time": "2023-08-30T13:43:36.147Z"
   },
   {
    "duration": 398,
    "start_time": "2023-08-30T13:43:36.309Z"
   },
   {
    "duration": 372,
    "start_time": "2023-08-30T13:43:36.709Z"
   },
   {
    "duration": 93,
    "start_time": "2023-08-30T13:43:37.083Z"
   },
   {
    "duration": 409,
    "start_time": "2023-08-30T13:43:37.178Z"
   },
   {
    "duration": 127,
    "start_time": "2023-08-30T13:43:37.589Z"
   },
   {
    "duration": 351,
    "start_time": "2023-08-30T13:43:37.718Z"
   },
   {
    "duration": 26,
    "start_time": "2023-08-30T13:43:38.071Z"
   },
   {
    "duration": 59,
    "start_time": "2023-08-30T13:43:38.099Z"
   },
   {
    "duration": 18,
    "start_time": "2023-08-30T13:43:38.161Z"
   },
   {
    "duration": 4,
    "start_time": "2023-08-30T13:43:38.181Z"
   },
   {
    "duration": 139548,
    "start_time": "2023-08-30T13:43:38.186Z"
   },
   {
    "duration": 30,
    "start_time": "2023-08-30T13:45:57.736Z"
   },
   {
    "duration": 41,
    "start_time": "2023-08-30T13:45:57.768Z"
   },
   {
    "duration": 24,
    "start_time": "2023-08-30T13:45:57.810Z"
   },
   {
    "duration": 7,
    "start_time": "2023-08-30T13:45:57.836Z"
   },
   {
    "duration": 345063,
    "start_time": "2023-08-30T13:45:57.844Z"
   },
   {
    "duration": 37,
    "start_time": "2023-08-30T13:51:42.909Z"
   },
   {
    "duration": 39,
    "start_time": "2023-08-30T13:51:42.948Z"
   },
   {
    "duration": 26,
    "start_time": "2023-08-30T13:51:42.988Z"
   },
   {
    "duration": 29,
    "start_time": "2023-08-30T13:51:43.016Z"
   },
   {
    "duration": 39,
    "start_time": "2023-08-30T13:51:43.047Z"
   },
   {
    "duration": 28,
    "start_time": "2023-08-30T13:51:43.088Z"
   },
   {
    "duration": 43,
    "start_time": "2023-08-30T13:51:43.117Z"
   },
   {
    "duration": 28,
    "start_time": "2023-08-30T13:51:43.161Z"
   },
   {
    "duration": 38,
    "start_time": "2023-08-30T13:51:43.190Z"
   },
   {
    "duration": 226,
    "start_time": "2023-08-30T13:51:43.229Z"
   },
   {
    "duration": 8,
    "start_time": "2023-08-30T13:51:43.456Z"
   },
   {
    "duration": 79,
    "start_time": "2023-08-30T13:51:43.468Z"
   },
   {
    "duration": 75,
    "start_time": "2023-08-30T13:51:43.548Z"
   },
   {
    "duration": 56,
    "start_time": "2023-08-30T13:51:43.625Z"
   },
   {
    "duration": 54,
    "start_time": "2023-08-30T13:51:43.682Z"
   },
   {
    "duration": 187,
    "start_time": "2023-08-30T13:51:43.738Z"
   },
   {
    "duration": 200,
    "start_time": "2023-08-30T13:51:43.926Z"
   },
   {
    "duration": 12,
    "start_time": "2023-08-30T13:51:44.128Z"
   },
   {
    "duration": 35,
    "start_time": "2023-08-30T13:51:44.141Z"
   },
   {
    "duration": 87,
    "start_time": "2023-08-30T13:51:44.177Z"
   },
   {
    "duration": 13,
    "start_time": "2023-08-30T13:51:44.265Z"
   },
   {
    "duration": 45,
    "start_time": "2023-08-30T13:51:44.280Z"
   },
   {
    "duration": 29,
    "start_time": "2023-08-30T13:51:44.327Z"
   },
   {
    "duration": 82,
    "start_time": "2023-08-30T13:51:44.358Z"
   },
   {
    "duration": 25,
    "start_time": "2023-08-30T13:51:44.442Z"
   },
   {
    "duration": 9,
    "start_time": "2023-08-30T13:51:44.469Z"
   },
   {
    "duration": 1620,
    "start_time": "2023-08-30T13:51:44.479Z"
   },
   {
    "duration": 3,
    "start_time": "2023-08-30T13:51:46.101Z"
   },
   {
    "duration": 87,
    "start_time": "2023-08-30T13:51:46.105Z"
   },
   {
    "duration": 54,
    "start_time": "2023-08-30T13:51:46.194Z"
   },
   {
    "duration": 35,
    "start_time": "2023-08-30T13:51:46.250Z"
   },
   {
    "duration": 20,
    "start_time": "2023-08-30T13:51:46.287Z"
   },
   {
    "duration": 26,
    "start_time": "2023-08-30T13:51:46.309Z"
   },
   {
    "duration": 208,
    "start_time": "2023-08-30T13:51:46.337Z"
   },
   {
    "duration": 6991,
    "start_time": "2023-08-30T13:52:29.893Z"
   },
   {
    "duration": 5,
    "start_time": "2023-08-30T13:52:43.300Z"
   },
   {
    "duration": 8,
    "start_time": "2023-08-30T13:53:05.856Z"
   },
   {
    "duration": 128,
    "start_time": "2023-08-30T13:53:46.506Z"
   },
   {
    "duration": 2070,
    "start_time": "2023-08-30T13:56:03.918Z"
   },
   {
    "duration": 326,
    "start_time": "2023-08-30T13:57:27.292Z"
   },
   {
    "duration": 410,
    "start_time": "2023-08-30T13:58:01.246Z"
   },
   {
    "duration": 14,
    "start_time": "2023-08-30T13:58:47.095Z"
   },
   {
    "duration": 179,
    "start_time": "2023-08-30T13:58:52.666Z"
   },
   {
    "duration": 141,
    "start_time": "2023-08-30T13:59:08.045Z"
   },
   {
    "duration": 159,
    "start_time": "2023-08-30T13:59:17.039Z"
   },
   {
    "duration": 306,
    "start_time": "2023-08-30T13:59:36.853Z"
   },
   {
    "duration": 305,
    "start_time": "2023-08-30T13:59:53.720Z"
   },
   {
    "duration": 177,
    "start_time": "2023-08-30T14:00:05.567Z"
   },
   {
    "duration": 159,
    "start_time": "2023-08-30T14:00:53.468Z"
   },
   {
    "duration": 129,
    "start_time": "2023-08-30T14:01:00.208Z"
   },
   {
    "duration": 4,
    "start_time": "2023-08-30T14:02:39.870Z"
   },
   {
    "duration": 6,
    "start_time": "2023-08-30T14:02:43.769Z"
   },
   {
    "duration": 133,
    "start_time": "2023-08-30T14:02:50.048Z"
   },
   {
    "duration": 150,
    "start_time": "2023-08-30T14:02:54.496Z"
   },
   {
    "duration": 136,
    "start_time": "2023-08-30T14:03:01.370Z"
   },
   {
    "duration": 163,
    "start_time": "2023-08-30T14:03:10.525Z"
   },
   {
    "duration": 146,
    "start_time": "2023-08-30T14:03:28.535Z"
   },
   {
    "duration": 8,
    "start_time": "2023-08-30T14:03:47.573Z"
   },
   {
    "duration": 5,
    "start_time": "2023-08-30T14:04:27.066Z"
   },
   {
    "duration": 5,
    "start_time": "2023-08-30T14:04:41.499Z"
   },
   {
    "duration": 5,
    "start_time": "2023-08-30T14:04:44.056Z"
   },
   {
    "duration": 6,
    "start_time": "2023-08-30T14:04:50.732Z"
   },
   {
    "duration": 15,
    "start_time": "2023-08-30T14:05:12.482Z"
   },
   {
    "duration": 5,
    "start_time": "2023-08-30T14:05:24.614Z"
   },
   {
    "duration": 5,
    "start_time": "2023-08-30T14:05:40.831Z"
   },
   {
    "duration": 4,
    "start_time": "2023-08-30T14:05:45.816Z"
   },
   {
    "duration": 6,
    "start_time": "2023-08-30T14:05:50.383Z"
   },
   {
    "duration": 12,
    "start_time": "2023-08-30T14:05:54.827Z"
   },
   {
    "duration": 3,
    "start_time": "2023-08-30T14:05:57.293Z"
   },
   {
    "duration": 5,
    "start_time": "2023-08-30T14:06:02.591Z"
   },
   {
    "duration": 4,
    "start_time": "2023-08-30T14:06:21.371Z"
   },
   {
    "duration": 6,
    "start_time": "2023-08-30T14:06:23.192Z"
   },
   {
    "duration": 131,
    "start_time": "2023-08-30T14:06:43.781Z"
   },
   {
    "duration": 153,
    "start_time": "2023-08-30T14:06:52.218Z"
   }
  ],
  "kernelspec": {
   "display_name": "Python 3 (ipykernel)",
   "language": "python",
   "name": "python3"
  },
  "language_info": {
   "codemirror_mode": {
    "name": "ipython",
    "version": 3
   },
   "file_extension": ".py",
   "mimetype": "text/x-python",
   "name": "python",
   "nbconvert_exporter": "python",
   "pygments_lexer": "ipython3",
   "version": "3.9.18"
  },
  "toc": {
   "base_numbering": 1,
   "nav_menu": {},
   "number_sections": true,
   "sideBar": true,
   "skip_h1_title": true,
   "title_cell": "Table of Contents",
   "title_sidebar": "Contents",
   "toc_cell": false,
   "toc_position": {},
   "toc_section_display": true,
   "toc_window_display": false
  }
 },
 "nbformat": 4,
 "nbformat_minor": 2
}
